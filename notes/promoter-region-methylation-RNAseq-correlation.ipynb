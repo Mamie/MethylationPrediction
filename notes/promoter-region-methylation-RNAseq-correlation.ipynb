{
 "cells": [
  {
   "cell_type": "markdown",
   "metadata": {
    "collapsed": true
   },
   "source": [
    "# Promoter region methylation-RNAseq correlation\n",
    "\n",
    "### Mamie Wang (szmamie@stanford.edu)\n",
    "### 2018/02/27\n",
    "\n",
    "## This note aims to explore the correlation between methylation M value and RNA-seq RSEM level for HM 450K \n",
    "\n",
    "## objective\n",
    "- subset probes with `UCSC_RefGene_Group` as `TSS1500` (within 200 bp - 1500 bp upstream of the transcription start site)\n",
    "- subset probes at CpG island and shore\n",
    "- compute the correlation between methylation and corresponding gene expression level"
   ]
  },
  {
   "cell_type": "code",
   "execution_count": 1,
   "metadata": {},
   "outputs": [
    {
     "name": "stderr",
     "output_type": "stream",
     "text": [
      "\n",
      "Attaching package: ‘dplyr’\n",
      "\n",
      "The following objects are masked from ‘package:stats’:\n",
      "\n",
      "    filter, lag\n",
      "\n",
      "The following objects are masked from ‘package:base’:\n",
      "\n",
      "    intersect, setdiff, setequal, union\n",
      "\n"
     ]
    }
   ],
   "source": [
    "library(dplyr)\n",
    "library(ggplot2)"
   ]
  },
  {
   "cell_type": "markdown",
   "metadata": {},
   "source": [
    "## Illumina HumanMethylation 450 manifest file\n",
    "- UCSC_RefGene_Group: functional regions with genes that a probe is associated to\n",
    "- Relation_to_UCSC_CpG_Island: relation of the probe to one or more CpG islands"
   ]
  },
  {
   "cell_type": "code",
   "execution_count": 3,
   "metadata": {
    "collapsed": true
   },
   "outputs": [],
   "source": [
    "annotations = read.csv('../data/HumanMethylation450_15017482_v1-2.csv',\n",
    "                        sep=',', stringsAsFactors=F, skip=7, header=T)\n",
    "row.names(annotations) = annotations$IlmnID"
   ]
  },
  {
   "cell_type": "code",
   "execution_count": 4,
   "metadata": {},
   "outputs": [
    {
     "data": {
      "text/html": [
       "<table>\n",
       "<thead><tr><th></th><th scope=col>IlmnID</th><th scope=col>Name</th><th scope=col>AddressA_ID</th><th scope=col>AlleleA_ProbeSeq</th><th scope=col>AddressB_ID</th><th scope=col>AlleleB_ProbeSeq</th><th scope=col>Infinium_Design_Type</th><th scope=col>Next_Base</th><th scope=col>Color_Channel</th><th scope=col>Forward_Sequence</th><th scope=col>⋯</th><th scope=col>UCSC_RefGene_Group</th><th scope=col>UCSC_CpG_Islands_Name</th><th scope=col>Relation_to_UCSC_CpG_Island</th><th scope=col>Phantom</th><th scope=col>DMR</th><th scope=col>Enhancer</th><th scope=col>HMM_Island</th><th scope=col>Regulatory_Feature_Name</th><th scope=col>Regulatory_Feature_Group</th><th scope=col>DHS</th></tr></thead>\n",
       "<tbody>\n",
       "\t<tr><th scope=row>cg00035864</th><td>cg00035864                                                                                                                  </td><td>cg00035864                                                                                                                  </td><td>31729416                                                                                                                    </td><td>AAAACACTAACAATCTTATCCACATAAACCCTTAAATTTATCTCAAATTC                                                                          </td><td>                                                                                                                            </td><td>                                                                                                                            </td><td>II                                                                                                                          </td><td>                                                                                                                            </td><td>                                                                                                                            </td><td>AATCCAAAGATGATGGAGGAGTGCCCGCTCATGATGTGAAGTACCTGCTCAGCTGGAAAC[CG]AATTTGAGATAAATTCAAGGGTCTATGTGGACAAGACTGCTAGTGTCTCTCTCTGGATTG</td><td>⋯                                                                                                                           </td><td>TSS1500                                                                                                                     </td><td>                                                                                                                            </td><td>                                                                                                                            </td><td>                                                                                                                            </td><td>                                                                                                                            </td><td>NA                                                                                                                          </td><td>                                                                                                                            </td><td>                                                                                                                            </td><td>                                                                                                                            </td><td>NA                                                                                                                          </td></tr>\n",
       "\t<tr><th scope=row>cg00050873</th><td>cg00050873                                                                                                                  </td><td>cg00050873                                                                                                                  </td><td>32735311                                                                                                                    </td><td>ACAAAAAAACAACACACAACTATAATAATTTTTAAAATAAATAAACCCCA                                                                          </td><td>31717405                                                                                                                    </td><td>ACGAAAAAACAACGCACAACTATAATAATTTTTAAAATAAATAAACCCCG                                                                          </td><td>I                                                                                                                           </td><td>A                                                                                                                           </td><td>Red                                                                                                                         </td><td>TATCTCTGTCTGGCGAGGAGGCAACGCACAACTGTGGTGGTTTTTGGAGTGGGTGGACCC[CG]GCCAAGACGGCCTGGGCTGACCAGAGACGGGAGGCAGAAAAAGTGGGCAGGTGGTTGCAG</td><td>⋯                                                                                                                           </td><td>Body;TSS1500                                                                                                                </td><td>chrY:9363680-9363943                                                                                                        </td><td>N_Shore                                                                                                                     </td><td>                                                                                                                            </td><td>                                                                                                                            </td><td>NA                                                                                                                          </td><td>Y:9973136-9976273                                                                                                           </td><td>                                                                                                                            </td><td>                                                                                                                            </td><td>NA                                                                                                                          </td></tr>\n",
       "\t<tr><th scope=row>cg00061679</th><td>cg00061679                                                                                                                  </td><td>cg00061679                                                                                                                  </td><td>28780415                                                                                                                    </td><td>AAAACATTAAAAAACTAATTCACTACTATTTAATTACTTTATTTTCCATC                                                                          </td><td>                                                                                                                            </td><td>                                                                                                                            </td><td>II                                                                                                                          </td><td>                                                                                                                            </td><td>                                                                                                                            </td><td>TCAACAAATGAGAGACATTGAAGAACTAATTCACTACTATTTGGTTACTTTATTTTCCAT[CG]AAGAAAACCTCTTTTTAAAAACTAACACATAAATAAAATGAACGAAGAACAAACTAAACG</td><td>⋯                                                                                                                           </td><td>Body;Body;Body                                                                                                              </td><td>                                                                                                                            </td><td>                                                                                                                            </td><td>                                                                                                                            </td><td>                                                                                                                            </td><td>NA                                                                                                                          </td><td>                                                                                                                            </td><td>                                                                                                                            </td><td>                                                                                                                            </td><td>NA                                                                                                                          </td></tr>\n",
       "\t<tr><th scope=row>cg00063477</th><td>cg00063477                                                                                                                  </td><td>cg00063477                                                                                                                  </td><td>16712347                                                                                                                    </td><td>TATTCTTCCACACAAAATACTAAACRTATATTTACAAAAATACTTCCATC                                                                          </td><td>                                                                                                                            </td><td>                                                                                                                            </td><td>II                                                                                                                          </td><td>                                                                                                                            </td><td>                                                                                                                            </td><td>CTCCTGTACTTGTTCATTAAATAATGATTCCTTGGATATACCAAGTCTGGATAGCGGATT[CG]ATGGAAGCATTTTTGTAAATATACGTTCAGTATTTTGTGTGGAAGAACACAATCTAGCTG</td><td>⋯                                                                                                                           </td><td>Body                                                                                                                        </td><td>chrY:22737825-22738052                                                                                                      </td><td>S_Shelf                                                                                                                     </td><td>                                                                                                                            </td><td>                                                                                                                            </td><td>NA                                                                                                                          </td><td>                                                                                                                            </td><td>                                                                                                                            </td><td>                                                                                                                            </td><td>NA                                                                                                                          </td></tr>\n",
       "\t<tr><th scope=row>cg00121626</th><td>cg00121626                                                                                                                  </td><td>cg00121626                                                                                                                  </td><td>19779393                                                                                                                    </td><td>AAAACTAATAAAAATAACTTACAAACCAAATACTATACCCTACAACTCTC                                                                          </td><td>                                                                                                                            </td><td>                                                                                                                            </td><td>II                                                                                                                          </td><td>                                                                                                                            </td><td>                                                                                                                            </td><td>AGGTGAATGAAGAGACTAATGGGAGTGGCTTGCAAGCCAGGTACTGTGCCCTACAACTCT[CG]CGCTGCCACAAAAAGCCAATTAACGAAGCAAACTGTTTTATCTTTTCCTCTCCCCAGAAG</td><td>⋯                                                                                                                           </td><td>Body                                                                                                                        </td><td>chrY:21664481-21665063                                                                                                      </td><td>N_Shore                                                                                                                     </td><td>                                                                                                                            </td><td>                                                                                                                            </td><td>NA                                                                                                                          </td><td>                                                                                                                            </td><td>                                                                                                                            </td><td>                                                                                                                            </td><td>NA                                                                                                                          </td></tr>\n",
       "\t<tr><th scope=row>cg00212031</th><td>cg00212031                                                                                                                  </td><td>cg00212031                                                                                                                  </td><td>29674443                                                                                                                    </td><td>CCCAATTAACCACAAAAACTAAACAAATTATACAATCAAAAAAACATACA                                                                          </td><td>38703326                                                                                                                    </td><td>CCCAATTAACCGCAAAAACTAAACAAATTATACGATCGAAAAAACGTACG                                                                          </td><td>I                                                                                                                           </td><td>T                                                                                                                           </td><td>Red                                                                                                                         </td><td>CCATTGGCCCGCCCCAGTTGGCCGCAGGGACTGAGCAAGTTATGCGGTCGGGAAGACGTG[CG]TTAAAGGGCTGAAGGGGAGGGACGGAACTGACAGTCTCTGTGACAGCTCTGAGGTGGGAG</td><td>⋯                                                                                                                           </td><td>TSS200                                                                                                                      </td><td>chrY:21238448-21240005                                                                                                      </td><td>Island                                                                                                                      </td><td>                                                                                                                            </td><td>                                                                                                                            </td><td>NA                                                                                                                          </td><td>Y:19697854-19699393                                                                                                         </td><td>                                                                                                                            </td><td>                                                                                                                            </td><td>NA                                                                                                                          </td></tr>\n",
       "</tbody>\n",
       "</table>\n"
      ],
      "text/latex": [
       "\\begin{tabular}{r|lllllllllllllllllllllllllllllllll}\n",
       "  & IlmnID & Name & AddressA\\_ID & AlleleA\\_ProbeSeq & AddressB\\_ID & AlleleB\\_ProbeSeq & Infinium\\_Design\\_Type & Next\\_Base & Color\\_Channel & Forward\\_Sequence & ⋯ & UCSC\\_RefGene\\_Group & UCSC\\_CpG\\_Islands\\_Name & Relation\\_to\\_UCSC\\_CpG\\_Island & Phantom & DMR & Enhancer & HMM\\_Island & Regulatory\\_Feature\\_Name & Regulatory\\_Feature\\_Group & DHS\\\\\n",
       "\\hline\n",
       "\tcg00035864 & cg00035864                                                                                                                       & cg00035864                                                                                                                       & 31729416                                                                                                                         & AAAACACTAACAATCTTATCCACATAAACCCTTAAATTTATCTCAAATTC                                                                               &                                                                                                                                  &                                                                                                                                  & II                                                                                                                               &                                                                                                                                  &                                                                                                                                  & AATCCAAAGATGATGGAGGAGTGCCCGCTCATGATGTGAAGTACCTGCTCAGCTGGAAAC{[}CG{]}AATTTGAGATAAATTCAAGGGTCTATGTGGACAAGACTGCTAGTGTCTCTCTCTGGATTG & ⋯                                                                                                                                & TSS1500                                                                                                                          &                                                                                                                                  &                                                                                                                                  &                                                                                                                                  &                                                                                                                                  & NA                                                                                                                               &                                                                                                                                  &                                                                                                                                  &                                                                                                                                  & NA                                                                                                                              \\\\\n",
       "\tcg00050873 & cg00050873                                                                                                                       & cg00050873                                                                                                                       & 32735311                                                                                                                         & ACAAAAAAACAACACACAACTATAATAATTTTTAAAATAAATAAACCCCA                                                                               & 31717405                                                                                                                         & ACGAAAAAACAACGCACAACTATAATAATTTTTAAAATAAATAAACCCCG                                                                               & I                                                                                                                                & A                                                                                                                                & Red                                                                                                                              & TATCTCTGTCTGGCGAGGAGGCAACGCACAACTGTGGTGGTTTTTGGAGTGGGTGGACCC{[}CG{]}GCCAAGACGGCCTGGGCTGACCAGAGACGGGAGGCAGAAAAAGTGGGCAGGTGGTTGCAG & ⋯                                                                                                                                & Body;TSS1500                                                                                                                     & chrY:9363680-9363943                                                                                                             & N\\_Shore                                                                                                                        &                                                                                                                                  &                                                                                                                                  & NA                                                                                                                               & Y:9973136-9976273                                                                                                                &                                                                                                                                  &                                                                                                                                  & NA                                                                                                                              \\\\\n",
       "\tcg00061679 & cg00061679                                                                                                                       & cg00061679                                                                                                                       & 28780415                                                                                                                         & AAAACATTAAAAAACTAATTCACTACTATTTAATTACTTTATTTTCCATC                                                                               &                                                                                                                                  &                                                                                                                                  & II                                                                                                                               &                                                                                                                                  &                                                                                                                                  & TCAACAAATGAGAGACATTGAAGAACTAATTCACTACTATTTGGTTACTTTATTTTCCAT{[}CG{]}AAGAAAACCTCTTTTTAAAAACTAACACATAAATAAAATGAACGAAGAACAAACTAAACG & ⋯                                                                                                                                & Body;Body;Body                                                                                                                   &                                                                                                                                  &                                                                                                                                  &                                                                                                                                  &                                                                                                                                  & NA                                                                                                                               &                                                                                                                                  &                                                                                                                                  &                                                                                                                                  & NA                                                                                                                              \\\\\n",
       "\tcg00063477 & cg00063477                                                                                                                       & cg00063477                                                                                                                       & 16712347                                                                                                                         & TATTCTTCCACACAAAATACTAAACRTATATTTACAAAAATACTTCCATC                                                                               &                                                                                                                                  &                                                                                                                                  & II                                                                                                                               &                                                                                                                                  &                                                                                                                                  & CTCCTGTACTTGTTCATTAAATAATGATTCCTTGGATATACCAAGTCTGGATAGCGGATT{[}CG{]}ATGGAAGCATTTTTGTAAATATACGTTCAGTATTTTGTGTGGAAGAACACAATCTAGCTG & ⋯                                                                                                                                & Body                                                                                                                             & chrY:22737825-22738052                                                                                                           & S\\_Shelf                                                                                                                        &                                                                                                                                  &                                                                                                                                  & NA                                                                                                                               &                                                                                                                                  &                                                                                                                                  &                                                                                                                                  & NA                                                                                                                              \\\\\n",
       "\tcg00121626 & cg00121626                                                                                                                       & cg00121626                                                                                                                       & 19779393                                                                                                                         & AAAACTAATAAAAATAACTTACAAACCAAATACTATACCCTACAACTCTC                                                                               &                                                                                                                                  &                                                                                                                                  & II                                                                                                                               &                                                                                                                                  &                                                                                                                                  & AGGTGAATGAAGAGACTAATGGGAGTGGCTTGCAAGCCAGGTACTGTGCCCTACAACTCT{[}CG{]}CGCTGCCACAAAAAGCCAATTAACGAAGCAAACTGTTTTATCTTTTCCTCTCCCCAGAAG & ⋯                                                                                                                                & Body                                                                                                                             & chrY:21664481-21665063                                                                                                           & N\\_Shore                                                                                                                        &                                                                                                                                  &                                                                                                                                  & NA                                                                                                                               &                                                                                                                                  &                                                                                                                                  &                                                                                                                                  & NA                                                                                                                              \\\\\n",
       "\tcg00212031 & cg00212031                                                                                                                       & cg00212031                                                                                                                       & 29674443                                                                                                                         & CCCAATTAACCACAAAAACTAAACAAATTATACAATCAAAAAAACATACA                                                                               & 38703326                                                                                                                         & CCCAATTAACCGCAAAAACTAAACAAATTATACGATCGAAAAAACGTACG                                                                               & I                                                                                                                                & T                                                                                                                                & Red                                                                                                                              & CCATTGGCCCGCCCCAGTTGGCCGCAGGGACTGAGCAAGTTATGCGGTCGGGAAGACGTG{[}CG{]}TTAAAGGGCTGAAGGGGAGGGACGGAACTGACAGTCTCTGTGACAGCTCTGAGGTGGGAG & ⋯                                                                                                                                & TSS200                                                                                                                           & chrY:21238448-21240005                                                                                                           & Island                                                                                                                           &                                                                                                                                  &                                                                                                                                  & NA                                                                                                                               & Y:19697854-19699393                                                                                                              &                                                                                                                                  &                                                                                                                                  & NA                                                                                                                              \\\\\n",
       "\\end{tabular}\n"
      ],
      "text/markdown": [
       "\n",
       "| <!--/--> | IlmnID | Name | AddressA_ID | AlleleA_ProbeSeq | AddressB_ID | AlleleB_ProbeSeq | Infinium_Design_Type | Next_Base | Color_Channel | Forward_Sequence | ⋯ | UCSC_RefGene_Group | UCSC_CpG_Islands_Name | Relation_to_UCSC_CpG_Island | Phantom | DMR | Enhancer | HMM_Island | Regulatory_Feature_Name | Regulatory_Feature_Group | DHS | \n",
       "|---|---|---|---|---|---|\n",
       "| cg00035864 | cg00035864                                                                                                                   | cg00035864                                                                                                                   | 31729416                                                                                                                     | AAAACACTAACAATCTTATCCACATAAACCCTTAAATTTATCTCAAATTC                                                                           |                                                                                                                              |                                                                                                                              | II                                                                                                                           |                                                                                                                              |                                                                                                                              | AATCCAAAGATGATGGAGGAGTGCCCGCTCATGATGTGAAGTACCTGCTCAGCTGGAAAC[CG]AATTTGAGATAAATTCAAGGGTCTATGTGGACAAGACTGCTAGTGTCTCTCTCTGGATTG | ⋯                                                                                                                            | TSS1500                                                                                                                      |                                                                                                                              |                                                                                                                              |                                                                                                                              |                                                                                                                              | NA                                                                                                                           |                                                                                                                              |                                                                                                                              |                                                                                                                              | NA                                                                                                                           | \n",
       "| cg00050873 | cg00050873                                                                                                                   | cg00050873                                                                                                                   | 32735311                                                                                                                     | ACAAAAAAACAACACACAACTATAATAATTTTTAAAATAAATAAACCCCA                                                                           | 31717405                                                                                                                     | ACGAAAAAACAACGCACAACTATAATAATTTTTAAAATAAATAAACCCCG                                                                           | I                                                                                                                            | A                                                                                                                            | Red                                                                                                                          | TATCTCTGTCTGGCGAGGAGGCAACGCACAACTGTGGTGGTTTTTGGAGTGGGTGGACCC[CG]GCCAAGACGGCCTGGGCTGACCAGAGACGGGAGGCAGAAAAAGTGGGCAGGTGGTTGCAG | ⋯                                                                                                                            | Body;TSS1500                                                                                                                 | chrY:9363680-9363943                                                                                                         | N_Shore                                                                                                                      |                                                                                                                              |                                                                                                                              | NA                                                                                                                           | Y:9973136-9976273                                                                                                            |                                                                                                                              |                                                                                                                              | NA                                                                                                                           | \n",
       "| cg00061679 | cg00061679                                                                                                                   | cg00061679                                                                                                                   | 28780415                                                                                                                     | AAAACATTAAAAAACTAATTCACTACTATTTAATTACTTTATTTTCCATC                                                                           |                                                                                                                              |                                                                                                                              | II                                                                                                                           |                                                                                                                              |                                                                                                                              | TCAACAAATGAGAGACATTGAAGAACTAATTCACTACTATTTGGTTACTTTATTTTCCAT[CG]AAGAAAACCTCTTTTTAAAAACTAACACATAAATAAAATGAACGAAGAACAAACTAAACG | ⋯                                                                                                                            | Body;Body;Body                                                                                                               |                                                                                                                              |                                                                                                                              |                                                                                                                              |                                                                                                                              | NA                                                                                                                           |                                                                                                                              |                                                                                                                              |                                                                                                                              | NA                                                                                                                           | \n",
       "| cg00063477 | cg00063477                                                                                                                   | cg00063477                                                                                                                   | 16712347                                                                                                                     | TATTCTTCCACACAAAATACTAAACRTATATTTACAAAAATACTTCCATC                                                                           |                                                                                                                              |                                                                                                                              | II                                                                                                                           |                                                                                                                              |                                                                                                                              | CTCCTGTACTTGTTCATTAAATAATGATTCCTTGGATATACCAAGTCTGGATAGCGGATT[CG]ATGGAAGCATTTTTGTAAATATACGTTCAGTATTTTGTGTGGAAGAACACAATCTAGCTG | ⋯                                                                                                                            | Body                                                                                                                         | chrY:22737825-22738052                                                                                                       | S_Shelf                                                                                                                      |                                                                                                                              |                                                                                                                              | NA                                                                                                                           |                                                                                                                              |                                                                                                                              |                                                                                                                              | NA                                                                                                                           | \n",
       "| cg00121626 | cg00121626                                                                                                                   | cg00121626                                                                                                                   | 19779393                                                                                                                     | AAAACTAATAAAAATAACTTACAAACCAAATACTATACCCTACAACTCTC                                                                           |                                                                                                                              |                                                                                                                              | II                                                                                                                           |                                                                                                                              |                                                                                                                              | AGGTGAATGAAGAGACTAATGGGAGTGGCTTGCAAGCCAGGTACTGTGCCCTACAACTCT[CG]CGCTGCCACAAAAAGCCAATTAACGAAGCAAACTGTTTTATCTTTTCCTCTCCCCAGAAG | ⋯                                                                                                                            | Body                                                                                                                         | chrY:21664481-21665063                                                                                                       | N_Shore                                                                                                                      |                                                                                                                              |                                                                                                                              | NA                                                                                                                           |                                                                                                                              |                                                                                                                              |                                                                                                                              | NA                                                                                                                           | \n",
       "| cg00212031 | cg00212031                                                                                                                   | cg00212031                                                                                                                   | 29674443                                                                                                                     | CCCAATTAACCACAAAAACTAAACAAATTATACAATCAAAAAAACATACA                                                                           | 38703326                                                                                                                     | CCCAATTAACCGCAAAAACTAAACAAATTATACGATCGAAAAAACGTACG                                                                           | I                                                                                                                            | T                                                                                                                            | Red                                                                                                                          | CCATTGGCCCGCCCCAGTTGGCCGCAGGGACTGAGCAAGTTATGCGGTCGGGAAGACGTG[CG]TTAAAGGGCTGAAGGGGAGGGACGGAACTGACAGTCTCTGTGACAGCTCTGAGGTGGGAG | ⋯                                                                                                                            | TSS200                                                                                                                       | chrY:21238448-21240005                                                                                                       | Island                                                                                                                       |                                                                                                                              |                                                                                                                              | NA                                                                                                                           | Y:19697854-19699393                                                                                                          |                                                                                                                              |                                                                                                                              | NA                                                                                                                           | \n",
       "\n",
       "\n"
      ],
      "text/plain": [
       "           IlmnID     Name       AddressA_ID\n",
       "cg00035864 cg00035864 cg00035864 31729416   \n",
       "cg00050873 cg00050873 cg00050873 32735311   \n",
       "cg00061679 cg00061679 cg00061679 28780415   \n",
       "cg00063477 cg00063477 cg00063477 16712347   \n",
       "cg00121626 cg00121626 cg00121626 19779393   \n",
       "cg00212031 cg00212031 cg00212031 29674443   \n",
       "           AlleleA_ProbeSeq                                   AddressB_ID\n",
       "cg00035864 AAAACACTAACAATCTTATCCACATAAACCCTTAAATTTATCTCAAATTC            \n",
       "cg00050873 ACAAAAAAACAACACACAACTATAATAATTTTTAAAATAAATAAACCCCA 31717405   \n",
       "cg00061679 AAAACATTAAAAAACTAATTCACTACTATTTAATTACTTTATTTTCCATC            \n",
       "cg00063477 TATTCTTCCACACAAAATACTAAACRTATATTTACAAAAATACTTCCATC            \n",
       "cg00121626 AAAACTAATAAAAATAACTTACAAACCAAATACTATACCCTACAACTCTC            \n",
       "cg00212031 CCCAATTAACCACAAAAACTAAACAAATTATACAATCAAAAAAACATACA 38703326   \n",
       "           AlleleB_ProbeSeq                                  \n",
       "cg00035864                                                   \n",
       "cg00050873 ACGAAAAAACAACGCACAACTATAATAATTTTTAAAATAAATAAACCCCG\n",
       "cg00061679                                                   \n",
       "cg00063477                                                   \n",
       "cg00121626                                                   \n",
       "cg00212031 CCCAATTAACCGCAAAAACTAAACAAATTATACGATCGAAAAAACGTACG\n",
       "           Infinium_Design_Type Next_Base Color_Channel\n",
       "cg00035864 II                                          \n",
       "cg00050873 I                    A         Red          \n",
       "cg00061679 II                                          \n",
       "cg00063477 II                                          \n",
       "cg00121626 II                                          \n",
       "cg00212031 I                    T         Red          \n",
       "           Forward_Sequence                                                                                                            \n",
       "cg00035864 AATCCAAAGATGATGGAGGAGTGCCCGCTCATGATGTGAAGTACCTGCTCAGCTGGAAAC[CG]AATTTGAGATAAATTCAAGGGTCTATGTGGACAAGACTGCTAGTGTCTCTCTCTGGATTG\n",
       "cg00050873 TATCTCTGTCTGGCGAGGAGGCAACGCACAACTGTGGTGGTTTTTGGAGTGGGTGGACCC[CG]GCCAAGACGGCCTGGGCTGACCAGAGACGGGAGGCAGAAAAAGTGGGCAGGTGGTTGCAG\n",
       "cg00061679 TCAACAAATGAGAGACATTGAAGAACTAATTCACTACTATTTGGTTACTTTATTTTCCAT[CG]AAGAAAACCTCTTTTTAAAAACTAACACATAAATAAAATGAACGAAGAACAAACTAAACG\n",
       "cg00063477 CTCCTGTACTTGTTCATTAAATAATGATTCCTTGGATATACCAAGTCTGGATAGCGGATT[CG]ATGGAAGCATTTTTGTAAATATACGTTCAGTATTTTGTGTGGAAGAACACAATCTAGCTG\n",
       "cg00121626 AGGTGAATGAAGAGACTAATGGGAGTGGCTTGCAAGCCAGGTACTGTGCCCTACAACTCT[CG]CGCTGCCACAAAAAGCCAATTAACGAAGCAAACTGTTTTATCTTTTCCTCTCCCCAGAAG\n",
       "cg00212031 CCATTGGCCCGCCCCAGTTGGCCGCAGGGACTGAGCAAGTTATGCGGTCGGGAAGACGTG[CG]TTAAAGGGCTGAAGGGGAGGGACGGAACTGACAGTCTCTGTGACAGCTCTGAGGTGGGAG\n",
       "           ⋯ UCSC_RefGene_Group UCSC_CpG_Islands_Name \n",
       "cg00035864 ⋯ TSS1500                                  \n",
       "cg00050873 ⋯ Body;TSS1500       chrY:9363680-9363943  \n",
       "cg00061679 ⋯ Body;Body;Body                           \n",
       "cg00063477 ⋯ Body               chrY:22737825-22738052\n",
       "cg00121626 ⋯ Body               chrY:21664481-21665063\n",
       "cg00212031 ⋯ TSS200             chrY:21238448-21240005\n",
       "           Relation_to_UCSC_CpG_Island Phantom DMR Enhancer HMM_Island         \n",
       "cg00035864                                         NA                          \n",
       "cg00050873 N_Shore                                 NA       Y:9973136-9976273  \n",
       "cg00061679                                         NA                          \n",
       "cg00063477 S_Shelf                                 NA                          \n",
       "cg00121626 N_Shore                                 NA                          \n",
       "cg00212031 Island                                  NA       Y:19697854-19699393\n",
       "           Regulatory_Feature_Name Regulatory_Feature_Group DHS\n",
       "cg00035864                                                  NA \n",
       "cg00050873                                                  NA \n",
       "cg00061679                                                  NA \n",
       "cg00063477                                                  NA \n",
       "cg00121626                                                  NA \n",
       "cg00212031                                                  NA "
      ]
     },
     "metadata": {},
     "output_type": "display_data"
    }
   ],
   "source": [
    "head(annotations)"
   ]
  },
  {
   "cell_type": "markdown",
   "metadata": {},
   "source": [
    "## Subset promoter region probes\n",
    "- `UCSC_RefGene_Group` contains `TSS1500`"
   ]
  },
  {
   "cell_type": "code",
   "execution_count": 5,
   "metadata": {
    "collapsed": true
   },
   "outputs": [],
   "source": [
    "probes.TSS1500 = annotations %>%\n",
    "  filter(grepl('TSS1500', UCSC_RefGene_Group, fixed=T))"
   ]
  },
  {
   "cell_type": "code",
   "execution_count": 6,
   "metadata": {},
   "outputs": [
    {
     "data": {
      "text/html": [
       "<table>\n",
       "<thead><tr><th scope=col>IlmnID</th><th scope=col>Name</th><th scope=col>AddressA_ID</th><th scope=col>AlleleA_ProbeSeq</th><th scope=col>AddressB_ID</th><th scope=col>AlleleB_ProbeSeq</th><th scope=col>Infinium_Design_Type</th><th scope=col>Next_Base</th><th scope=col>Color_Channel</th><th scope=col>Forward_Sequence</th><th scope=col>⋯</th><th scope=col>UCSC_RefGene_Group</th><th scope=col>UCSC_CpG_Islands_Name</th><th scope=col>Relation_to_UCSC_CpG_Island</th><th scope=col>Phantom</th><th scope=col>DMR</th><th scope=col>Enhancer</th><th scope=col>HMM_Island</th><th scope=col>Regulatory_Feature_Name</th><th scope=col>Regulatory_Feature_Group</th><th scope=col>DHS</th></tr></thead>\n",
       "<tbody>\n",
       "\t<tr><td>cg00035864                                                                                                                  </td><td>cg00035864                                                                                                                  </td><td>31729416                                                                                                                    </td><td>AAAACACTAACAATCTTATCCACATAAACCCTTAAATTTATCTCAAATTC                                                                          </td><td>                                                                                                                            </td><td>                                                                                                                            </td><td>II                                                                                                                          </td><td>                                                                                                                            </td><td>                                                                                                                            </td><td>AATCCAAAGATGATGGAGGAGTGCCCGCTCATGATGTGAAGTACCTGCTCAGCTGGAAAC[CG]AATTTGAGATAAATTCAAGGGTCTATGTGGACAAGACTGCTAGTGTCTCTCTCTGGATTG</td><td>⋯                                                                                                                           </td><td>TSS1500                                                                                                                     </td><td>                                                                                                                            </td><td>                                                                                                                            </td><td>                                                                                                                            </td><td>                                                                                                                            </td><td>NA                                                                                                                          </td><td>                                                                                                                            </td><td>                                                                                                                            </td><td>                                                                                                                            </td><td>NA                                                                                                                          </td></tr>\n",
       "\t<tr><td>cg00050873                                                                                                                  </td><td>cg00050873                                                                                                                  </td><td>32735311                                                                                                                    </td><td>ACAAAAAAACAACACACAACTATAATAATTTTTAAAATAAATAAACCCCA                                                                          </td><td>31717405                                                                                                                    </td><td>ACGAAAAAACAACGCACAACTATAATAATTTTTAAAATAAATAAACCCCG                                                                          </td><td>I                                                                                                                           </td><td>A                                                                                                                           </td><td>Red                                                                                                                         </td><td>TATCTCTGTCTGGCGAGGAGGCAACGCACAACTGTGGTGGTTTTTGGAGTGGGTGGACCC[CG]GCCAAGACGGCCTGGGCTGACCAGAGACGGGAGGCAGAAAAAGTGGGCAGGTGGTTGCAG</td><td>⋯                                                                                                                           </td><td>Body;TSS1500                                                                                                                </td><td>chrY:9363680-9363943                                                                                                        </td><td>N_Shore                                                                                                                     </td><td>                                                                                                                            </td><td>                                                                                                                            </td><td>NA                                                                                                                          </td><td>Y:9973136-9976273                                                                                                           </td><td>                                                                                                                            </td><td>                                                                                                                            </td><td>NA                                                                                                                          </td></tr>\n",
       "\t<tr><td>cg00272582                                                                                                                  </td><td>cg00272582                                                                                                                  </td><td>73678371                                                                                                                    </td><td>AAATCTAAAAACCTACAACAATAAAATCTATCRCCTTAACTAAAACTAAC                                                                          </td><td>                                                                                                                            </td><td>                                                                                                                            </td><td>II                                                                                                                          </td><td>                                                                                                                            </td><td>                                                                                                                            </td><td>ACTGAGGGCGGGGGTCTAAGGGCCTGCAACAATGAGATCTGTCGCCTTGGCTAGGACTGG[CG]CCGAGAGGCGATAGGTCTCGGGAGAGCCTGGCGCAGGGTGTGGGAGATTAGGAATCCCAG</td><td>⋯                                                                                                                           </td><td>TSS1500;TSS200;TSS1500                                                                                                      </td><td>chrY:2802964-2804283                                                                                                        </td><td>Island                                                                                                                      </td><td>                                                                                                                            </td><td>                                                                                                                            </td><td>NA                                                                                                                          </td><td>Y:2862947-2864321                                                                                                           </td><td>                                                                                                                            </td><td>                                                                                                                            </td><td>NA                                                                                                                          </td></tr>\n",
       "\t<tr><td>cg00311963                                                                                                                  </td><td>cg00311963                                                                                                                  </td><td>21726474                                                                                                                    </td><td>AATATAAAACRACTACTTCTCTAAATTCATAAACTACAAAAAACCTTTAC                                                                          </td><td>                                                                                                                            </td><td>                                                                                                                            </td><td>II                                                                                                                          </td><td>                                                                                                                            </td><td>                                                                                                                            </td><td>GACTAGGATAAGAAGACACCACACACCCGGACATCAGCAGAGCATGTCCAGCACCCAGCA[CG]CAAAGGCCTCCTGCAGCTCATGAACCCAGAGAAGCAGCCGCCTCACACCACCCTGCCCCC</td><td>⋯                                                                                                                           </td><td>TSS1500;TSS1500                                                                                                             </td><td>chrY:9745559-9745993                                                                                                        </td><td>S_Shore                                                                                                                     </td><td>                                                                                                                            </td><td>                                                                                                                            </td><td>NA                                                                                                                          </td><td>                                                                                                                            </td><td>                                                                                                                            </td><td>                                                                                                                            </td><td>NA                                                                                                                          </td></tr>\n",
       "\t<tr><td>cg00335297                                                                                                                  </td><td>cg00335297                                                                                                                  </td><td>53713392                                                                                                                    </td><td>ATCCTTATAAAATTTCAACTTCTATTACAAACAAATTCCACCCCAACAAC                                                                          </td><td>                                                                                                                            </td><td>                                                                                                                            </td><td>II                                                                                                                          </td><td>                                                                                                                            </td><td>                                                                                                                            </td><td>GACCTTAGAGAGTCCTTGTGGGGTTTCAGCTTCTATTGCAGACAAATTCCACCCCAGCAA[CG]TACCAGTCGACTTTCCTCACAGGCAACCGCCCTGCCCCACTCCCCTCAAACCACCGCCGC</td><td>⋯                                                                                                                           </td><td>TSS1500;TSS1500                                                                                                             </td><td>chrY:24454804-24455083                                                                                                      </td><td>N_Shore                                                                                                                     </td><td>                                                                                                                            </td><td>                                                                                                                            </td><td>NA                                                                                                                          </td><td>Y:22863915-22863999                                                                                                         </td><td>                                                                                                                            </td><td>                                                                                                                            </td><td>NA                                                                                                                          </td></tr>\n",
       "\t<tr><td>cg01053349                                                                                                                  </td><td>cg01053349                                                                                                                  </td><td>10737353                                                                                                                    </td><td>ACRCCTATCACTTTCTTCCTATTTAATTTTACTCTAATATTATTCTTCCC                                                                          </td><td>                                                                                                                            </td><td>                                                                                                                            </td><td>II                                                                                                                          </td><td>                                                                                                                            </td><td>                                                                                                                            </td><td>TAATCAACAATTTGTTCCTGATATATCTAGATGAGCCAGTGAGACAATTATAAGTAATAA[CG]GGAAGAACAATACCAGAGTAAAATCAAATAGGAAGAAAGTGATAGGCGTATTTACACTAA</td><td>⋯                                                                                                                           </td><td>TSS1500                                                                                                                     </td><td>                                                                                                                            </td><td>                                                                                                                            </td><td>                                                                                                                            </td><td>                                                                                                                            </td><td>NA                                                                                                                          </td><td>                                                                                                                            </td><td>                                                                                                                            </td><td>                                                                                                                            </td><td>NA                                                                                                                          </td></tr>\n",
       "</tbody>\n",
       "</table>\n"
      ],
      "text/latex": [
       "\\begin{tabular}{r|lllllllllllllllllllllllllllllllll}\n",
       " IlmnID & Name & AddressA\\_ID & AlleleA\\_ProbeSeq & AddressB\\_ID & AlleleB\\_ProbeSeq & Infinium\\_Design\\_Type & Next\\_Base & Color\\_Channel & Forward\\_Sequence & ⋯ & UCSC\\_RefGene\\_Group & UCSC\\_CpG\\_Islands\\_Name & Relation\\_to\\_UCSC\\_CpG\\_Island & Phantom & DMR & Enhancer & HMM\\_Island & Regulatory\\_Feature\\_Name & Regulatory\\_Feature\\_Group & DHS\\\\\n",
       "\\hline\n",
       "\t cg00035864                                                                                                                       & cg00035864                                                                                                                       & 31729416                                                                                                                         & AAAACACTAACAATCTTATCCACATAAACCCTTAAATTTATCTCAAATTC                                                                               &                                                                                                                                  &                                                                                                                                  & II                                                                                                                               &                                                                                                                                  &                                                                                                                                  & AATCCAAAGATGATGGAGGAGTGCCCGCTCATGATGTGAAGTACCTGCTCAGCTGGAAAC{[}CG{]}AATTTGAGATAAATTCAAGGGTCTATGTGGACAAGACTGCTAGTGTCTCTCTCTGGATTG & ⋯                                                                                                                                & TSS1500                                                                                                                          &                                                                                                                                  &                                                                                                                                  &                                                                                                                                  &                                                                                                                                  & NA                                                                                                                               &                                                                                                                                  &                                                                                                                                  &                                                                                                                                  & NA                                                                                                                              \\\\\n",
       "\t cg00050873                                                                                                                       & cg00050873                                                                                                                       & 32735311                                                                                                                         & ACAAAAAAACAACACACAACTATAATAATTTTTAAAATAAATAAACCCCA                                                                               & 31717405                                                                                                                         & ACGAAAAAACAACGCACAACTATAATAATTTTTAAAATAAATAAACCCCG                                                                               & I                                                                                                                                & A                                                                                                                                & Red                                                                                                                              & TATCTCTGTCTGGCGAGGAGGCAACGCACAACTGTGGTGGTTTTTGGAGTGGGTGGACCC{[}CG{]}GCCAAGACGGCCTGGGCTGACCAGAGACGGGAGGCAGAAAAAGTGGGCAGGTGGTTGCAG & ⋯                                                                                                                                & Body;TSS1500                                                                                                                     & chrY:9363680-9363943                                                                                                             & N\\_Shore                                                                                                                        &                                                                                                                                  &                                                                                                                                  & NA                                                                                                                               & Y:9973136-9976273                                                                                                                &                                                                                                                                  &                                                                                                                                  & NA                                                                                                                              \\\\\n",
       "\t cg00272582                                                                                                                       & cg00272582                                                                                                                       & 73678371                                                                                                                         & AAATCTAAAAACCTACAACAATAAAATCTATCRCCTTAACTAAAACTAAC                                                                               &                                                                                                                                  &                                                                                                                                  & II                                                                                                                               &                                                                                                                                  &                                                                                                                                  & ACTGAGGGCGGGGGTCTAAGGGCCTGCAACAATGAGATCTGTCGCCTTGGCTAGGACTGG{[}CG{]}CCGAGAGGCGATAGGTCTCGGGAGAGCCTGGCGCAGGGTGTGGGAGATTAGGAATCCCAG & ⋯                                                                                                                                & TSS1500;TSS200;TSS1500                                                                                                           & chrY:2802964-2804283                                                                                                             & Island                                                                                                                           &                                                                                                                                  &                                                                                                                                  & NA                                                                                                                               & Y:2862947-2864321                                                                                                                &                                                                                                                                  &                                                                                                                                  & NA                                                                                                                              \\\\\n",
       "\t cg00311963                                                                                                                       & cg00311963                                                                                                                       & 21726474                                                                                                                         & AATATAAAACRACTACTTCTCTAAATTCATAAACTACAAAAAACCTTTAC                                                                               &                                                                                                                                  &                                                                                                                                  & II                                                                                                                               &                                                                                                                                  &                                                                                                                                  & GACTAGGATAAGAAGACACCACACACCCGGACATCAGCAGAGCATGTCCAGCACCCAGCA{[}CG{]}CAAAGGCCTCCTGCAGCTCATGAACCCAGAGAAGCAGCCGCCTCACACCACCCTGCCCCC & ⋯                                                                                                                                & TSS1500;TSS1500                                                                                                                  & chrY:9745559-9745993                                                                                                             & S\\_Shore                                                                                                                        &                                                                                                                                  &                                                                                                                                  & NA                                                                                                                               &                                                                                                                                  &                                                                                                                                  &                                                                                                                                  & NA                                                                                                                              \\\\\n",
       "\t cg00335297                                                                                                                       & cg00335297                                                                                                                       & 53713392                                                                                                                         & ATCCTTATAAAATTTCAACTTCTATTACAAACAAATTCCACCCCAACAAC                                                                               &                                                                                                                                  &                                                                                                                                  & II                                                                                                                               &                                                                                                                                  &                                                                                                                                  & GACCTTAGAGAGTCCTTGTGGGGTTTCAGCTTCTATTGCAGACAAATTCCACCCCAGCAA{[}CG{]}TACCAGTCGACTTTCCTCACAGGCAACCGCCCTGCCCCACTCCCCTCAAACCACCGCCGC & ⋯                                                                                                                                & TSS1500;TSS1500                                                                                                                  & chrY:24454804-24455083                                                                                                           & N\\_Shore                                                                                                                        &                                                                                                                                  &                                                                                                                                  & NA                                                                                                                               & Y:22863915-22863999                                                                                                              &                                                                                                                                  &                                                                                                                                  & NA                                                                                                                              \\\\\n",
       "\t cg01053349                                                                                                                       & cg01053349                                                                                                                       & 10737353                                                                                                                         & ACRCCTATCACTTTCTTCCTATTTAATTTTACTCTAATATTATTCTTCCC                                                                               &                                                                                                                                  &                                                                                                                                  & II                                                                                                                               &                                                                                                                                  &                                                                                                                                  & TAATCAACAATTTGTTCCTGATATATCTAGATGAGCCAGTGAGACAATTATAAGTAATAA{[}CG{]}GGAAGAACAATACCAGAGTAAAATCAAATAGGAAGAAAGTGATAGGCGTATTTACACTAA & ⋯                                                                                                                                & TSS1500                                                                                                                          &                                                                                                                                  &                                                                                                                                  &                                                                                                                                  &                                                                                                                                  & NA                                                                                                                               &                                                                                                                                  &                                                                                                                                  &                                                                                                                                  & NA                                                                                                                              \\\\\n",
       "\\end{tabular}\n"
      ],
      "text/markdown": [
       "\n",
       "IlmnID | Name | AddressA_ID | AlleleA_ProbeSeq | AddressB_ID | AlleleB_ProbeSeq | Infinium_Design_Type | Next_Base | Color_Channel | Forward_Sequence | ⋯ | UCSC_RefGene_Group | UCSC_CpG_Islands_Name | Relation_to_UCSC_CpG_Island | Phantom | DMR | Enhancer | HMM_Island | Regulatory_Feature_Name | Regulatory_Feature_Group | DHS | \n",
       "|---|---|---|---|---|---|\n",
       "| cg00035864                                                                                                                   | cg00035864                                                                                                                   | 31729416                                                                                                                     | AAAACACTAACAATCTTATCCACATAAACCCTTAAATTTATCTCAAATTC                                                                           |                                                                                                                              |                                                                                                                              | II                                                                                                                           |                                                                                                                              |                                                                                                                              | AATCCAAAGATGATGGAGGAGTGCCCGCTCATGATGTGAAGTACCTGCTCAGCTGGAAAC[CG]AATTTGAGATAAATTCAAGGGTCTATGTGGACAAGACTGCTAGTGTCTCTCTCTGGATTG | ⋯                                                                                                                            | TSS1500                                                                                                                      |                                                                                                                              |                                                                                                                              |                                                                                                                              |                                                                                                                              | NA                                                                                                                           |                                                                                                                              |                                                                                                                              |                                                                                                                              | NA                                                                                                                           | \n",
       "| cg00050873                                                                                                                   | cg00050873                                                                                                                   | 32735311                                                                                                                     | ACAAAAAAACAACACACAACTATAATAATTTTTAAAATAAATAAACCCCA                                                                           | 31717405                                                                                                                     | ACGAAAAAACAACGCACAACTATAATAATTTTTAAAATAAATAAACCCCG                                                                           | I                                                                                                                            | A                                                                                                                            | Red                                                                                                                          | TATCTCTGTCTGGCGAGGAGGCAACGCACAACTGTGGTGGTTTTTGGAGTGGGTGGACCC[CG]GCCAAGACGGCCTGGGCTGACCAGAGACGGGAGGCAGAAAAAGTGGGCAGGTGGTTGCAG | ⋯                                                                                                                            | Body;TSS1500                                                                                                                 | chrY:9363680-9363943                                                                                                         | N_Shore                                                                                                                      |                                                                                                                              |                                                                                                                              | NA                                                                                                                           | Y:9973136-9976273                                                                                                            |                                                                                                                              |                                                                                                                              | NA                                                                                                                           | \n",
       "| cg00272582                                                                                                                   | cg00272582                                                                                                                   | 73678371                                                                                                                     | AAATCTAAAAACCTACAACAATAAAATCTATCRCCTTAACTAAAACTAAC                                                                           |                                                                                                                              |                                                                                                                              | II                                                                                                                           |                                                                                                                              |                                                                                                                              | ACTGAGGGCGGGGGTCTAAGGGCCTGCAACAATGAGATCTGTCGCCTTGGCTAGGACTGG[CG]CCGAGAGGCGATAGGTCTCGGGAGAGCCTGGCGCAGGGTGTGGGAGATTAGGAATCCCAG | ⋯                                                                                                                            | TSS1500;TSS200;TSS1500                                                                                                       | chrY:2802964-2804283                                                                                                         | Island                                                                                                                       |                                                                                                                              |                                                                                                                              | NA                                                                                                                           | Y:2862947-2864321                                                                                                            |                                                                                                                              |                                                                                                                              | NA                                                                                                                           | \n",
       "| cg00311963                                                                                                                   | cg00311963                                                                                                                   | 21726474                                                                                                                     | AATATAAAACRACTACTTCTCTAAATTCATAAACTACAAAAAACCTTTAC                                                                           |                                                                                                                              |                                                                                                                              | II                                                                                                                           |                                                                                                                              |                                                                                                                              | GACTAGGATAAGAAGACACCACACACCCGGACATCAGCAGAGCATGTCCAGCACCCAGCA[CG]CAAAGGCCTCCTGCAGCTCATGAACCCAGAGAAGCAGCCGCCTCACACCACCCTGCCCCC | ⋯                                                                                                                            | TSS1500;TSS1500                                                                                                              | chrY:9745559-9745993                                                                                                         | S_Shore                                                                                                                      |                                                                                                                              |                                                                                                                              | NA                                                                                                                           |                                                                                                                              |                                                                                                                              |                                                                                                                              | NA                                                                                                                           | \n",
       "| cg00335297                                                                                                                   | cg00335297                                                                                                                   | 53713392                                                                                                                     | ATCCTTATAAAATTTCAACTTCTATTACAAACAAATTCCACCCCAACAAC                                                                           |                                                                                                                              |                                                                                                                              | II                                                                                                                           |                                                                                                                              |                                                                                                                              | GACCTTAGAGAGTCCTTGTGGGGTTTCAGCTTCTATTGCAGACAAATTCCACCCCAGCAA[CG]TACCAGTCGACTTTCCTCACAGGCAACCGCCCTGCCCCACTCCCCTCAAACCACCGCCGC | ⋯                                                                                                                            | TSS1500;TSS1500                                                                                                              | chrY:24454804-24455083                                                                                                       | N_Shore                                                                                                                      |                                                                                                                              |                                                                                                                              | NA                                                                                                                           | Y:22863915-22863999                                                                                                          |                                                                                                                              |                                                                                                                              | NA                                                                                                                           | \n",
       "| cg01053349                                                                                                                   | cg01053349                                                                                                                   | 10737353                                                                                                                     | ACRCCTATCACTTTCTTCCTATTTAATTTTACTCTAATATTATTCTTCCC                                                                           |                                                                                                                              |                                                                                                                              | II                                                                                                                           |                                                                                                                              |                                                                                                                              | TAATCAACAATTTGTTCCTGATATATCTAGATGAGCCAGTGAGACAATTATAAGTAATAA[CG]GGAAGAACAATACCAGAGTAAAATCAAATAGGAAGAAAGTGATAGGCGTATTTACACTAA | ⋯                                                                                                                            | TSS1500                                                                                                                      |                                                                                                                              |                                                                                                                              |                                                                                                                              |                                                                                                                              | NA                                                                                                                           |                                                                                                                              |                                                                                                                              |                                                                                                                              | NA                                                                                                                           | \n",
       "\n",
       "\n"
      ],
      "text/plain": [
       "  IlmnID     Name       AddressA_ID\n",
       "1 cg00035864 cg00035864 31729416   \n",
       "2 cg00050873 cg00050873 32735311   \n",
       "3 cg00272582 cg00272582 73678371   \n",
       "4 cg00311963 cg00311963 21726474   \n",
       "5 cg00335297 cg00335297 53713392   \n",
       "6 cg01053349 cg01053349 10737353   \n",
       "  AlleleA_ProbeSeq                                   AddressB_ID\n",
       "1 AAAACACTAACAATCTTATCCACATAAACCCTTAAATTTATCTCAAATTC            \n",
       "2 ACAAAAAAACAACACACAACTATAATAATTTTTAAAATAAATAAACCCCA 31717405   \n",
       "3 AAATCTAAAAACCTACAACAATAAAATCTATCRCCTTAACTAAAACTAAC            \n",
       "4 AATATAAAACRACTACTTCTCTAAATTCATAAACTACAAAAAACCTTTAC            \n",
       "5 ATCCTTATAAAATTTCAACTTCTATTACAAACAAATTCCACCCCAACAAC            \n",
       "6 ACRCCTATCACTTTCTTCCTATTTAATTTTACTCTAATATTATTCTTCCC            \n",
       "  AlleleB_ProbeSeq                                   Infinium_Design_Type\n",
       "1                                                    II                  \n",
       "2 ACGAAAAAACAACGCACAACTATAATAATTTTTAAAATAAATAAACCCCG I                   \n",
       "3                                                    II                  \n",
       "4                                                    II                  \n",
       "5                                                    II                  \n",
       "6                                                    II                  \n",
       "  Next_Base Color_Channel\n",
       "1                        \n",
       "2 A         Red          \n",
       "3                        \n",
       "4                        \n",
       "5                        \n",
       "6                        \n",
       "  Forward_Sequence                                                                                                            \n",
       "1 AATCCAAAGATGATGGAGGAGTGCCCGCTCATGATGTGAAGTACCTGCTCAGCTGGAAAC[CG]AATTTGAGATAAATTCAAGGGTCTATGTGGACAAGACTGCTAGTGTCTCTCTCTGGATTG\n",
       "2 TATCTCTGTCTGGCGAGGAGGCAACGCACAACTGTGGTGGTTTTTGGAGTGGGTGGACCC[CG]GCCAAGACGGCCTGGGCTGACCAGAGACGGGAGGCAGAAAAAGTGGGCAGGTGGTTGCAG\n",
       "3 ACTGAGGGCGGGGGTCTAAGGGCCTGCAACAATGAGATCTGTCGCCTTGGCTAGGACTGG[CG]CCGAGAGGCGATAGGTCTCGGGAGAGCCTGGCGCAGGGTGTGGGAGATTAGGAATCCCAG\n",
       "4 GACTAGGATAAGAAGACACCACACACCCGGACATCAGCAGAGCATGTCCAGCACCCAGCA[CG]CAAAGGCCTCCTGCAGCTCATGAACCCAGAGAAGCAGCCGCCTCACACCACCCTGCCCCC\n",
       "5 GACCTTAGAGAGTCCTTGTGGGGTTTCAGCTTCTATTGCAGACAAATTCCACCCCAGCAA[CG]TACCAGTCGACTTTCCTCACAGGCAACCGCCCTGCCCCACTCCCCTCAAACCACCGCCGC\n",
       "6 TAATCAACAATTTGTTCCTGATATATCTAGATGAGCCAGTGAGACAATTATAAGTAATAA[CG]GGAAGAACAATACCAGAGTAAAATCAAATAGGAAGAAAGTGATAGGCGTATTTACACTAA\n",
       "  ⋯ UCSC_RefGene_Group     UCSC_CpG_Islands_Name  Relation_to_UCSC_CpG_Island\n",
       "1 ⋯ TSS1500                                                                  \n",
       "2 ⋯ Body;TSS1500           chrY:9363680-9363943   N_Shore                    \n",
       "3 ⋯ TSS1500;TSS200;TSS1500 chrY:2802964-2804283   Island                     \n",
       "4 ⋯ TSS1500;TSS1500        chrY:9745559-9745993   S_Shore                    \n",
       "5 ⋯ TSS1500;TSS1500        chrY:24454804-24455083 N_Shore                    \n",
       "6 ⋯ TSS1500                                                                  \n",
       "  Phantom DMR Enhancer HMM_Island          Regulatory_Feature_Name\n",
       "1             NA                                                  \n",
       "2             NA       Y:9973136-9976273                          \n",
       "3             NA       Y:2862947-2864321                          \n",
       "4             NA                                                  \n",
       "5             NA       Y:22863915-22863999                        \n",
       "6             NA                                                  \n",
       "  Regulatory_Feature_Group DHS\n",
       "1                          NA \n",
       "2                          NA \n",
       "3                          NA \n",
       "4                          NA \n",
       "5                          NA \n",
       "6                          NA "
      ]
     },
     "metadata": {},
     "output_type": "display_data"
    }
   ],
   "source": [
    "head(probes.TSS1500)"
   ]
  },
  {
   "cell_type": "code",
   "execution_count": 7,
   "metadata": {},
   "outputs": [
    {
     "data": {
      "text/html": [
       "<ol class=list-inline>\n",
       "\t<li>84342</li>\n",
       "\t<li>33</li>\n",
       "</ol>\n"
      ],
      "text/latex": [
       "\\begin{enumerate*}\n",
       "\\item 84342\n",
       "\\item 33\n",
       "\\end{enumerate*}\n"
      ],
      "text/markdown": [
       "1. 84342\n",
       "2. 33\n",
       "\n",
       "\n"
      ],
      "text/plain": [
       "[1] 84342    33"
      ]
     },
     "metadata": {},
     "output_type": "display_data"
    }
   ],
   "source": [
    "dim(probes.TSS1500)"
   ]
  },
  {
   "cell_type": "markdown",
   "metadata": {},
   "source": [
    "# Further subset probes within CpG island or shore\n",
    "- CGI shore definition: up to 2kbp away from the CGI\n",
    "- `Relation_to_UCSC_CpG_Island` contains `Shore` or `Island`"
   ]
  },
  {
   "cell_type": "code",
   "execution_count": 8,
   "metadata": {
    "collapsed": true
   },
   "outputs": [],
   "source": [
    "probes.CGI = probes.TSS1500 %>%\n",
    "  filter(grepl('Shore|Island', Relation_to_UCSC_CpG_Island))"
   ]
  },
  {
   "cell_type": "code",
   "execution_count": 9,
   "metadata": {},
   "outputs": [
    {
     "data": {
      "text/html": [
       "<table>\n",
       "<thead><tr><th scope=col>IlmnID</th><th scope=col>Name</th><th scope=col>AddressA_ID</th><th scope=col>AlleleA_ProbeSeq</th><th scope=col>AddressB_ID</th><th scope=col>AlleleB_ProbeSeq</th><th scope=col>Infinium_Design_Type</th><th scope=col>Next_Base</th><th scope=col>Color_Channel</th><th scope=col>Forward_Sequence</th><th scope=col>⋯</th><th scope=col>UCSC_RefGene_Group</th><th scope=col>UCSC_CpG_Islands_Name</th><th scope=col>Relation_to_UCSC_CpG_Island</th><th scope=col>Phantom</th><th scope=col>DMR</th><th scope=col>Enhancer</th><th scope=col>HMM_Island</th><th scope=col>Regulatory_Feature_Name</th><th scope=col>Regulatory_Feature_Group</th><th scope=col>DHS</th></tr></thead>\n",
       "<tbody>\n",
       "\t<tr><td>cg00050873                                                                                                                  </td><td>cg00050873                                                                                                                  </td><td>32735311                                                                                                                    </td><td>ACAAAAAAACAACACACAACTATAATAATTTTTAAAATAAATAAACCCCA                                                                          </td><td>31717405                                                                                                                    </td><td>ACGAAAAAACAACGCACAACTATAATAATTTTTAAAATAAATAAACCCCG                                                                          </td><td>I                                                                                                                           </td><td>A                                                                                                                           </td><td>Red                                                                                                                         </td><td>TATCTCTGTCTGGCGAGGAGGCAACGCACAACTGTGGTGGTTTTTGGAGTGGGTGGACCC[CG]GCCAAGACGGCCTGGGCTGACCAGAGACGGGAGGCAGAAAAAGTGGGCAGGTGGTTGCAG</td><td>⋯                                                                                                                           </td><td>Body;TSS1500                                                                                                                </td><td>chrY:9363680-9363943                                                                                                        </td><td>N_Shore                                                                                                                     </td><td>                                                                                                                            </td><td>                                                                                                                            </td><td>NA                                                                                                                          </td><td>Y:9973136-9976273                                                                                                           </td><td>                                                                                                                            </td><td>                                                                                                                            </td><td>NA                                                                                                                          </td></tr>\n",
       "\t<tr><td>cg00272582                                                                                                                  </td><td>cg00272582                                                                                                                  </td><td>73678371                                                                                                                    </td><td>AAATCTAAAAACCTACAACAATAAAATCTATCRCCTTAACTAAAACTAAC                                                                          </td><td>                                                                                                                            </td><td>                                                                                                                            </td><td>II                                                                                                                          </td><td>                                                                                                                            </td><td>                                                                                                                            </td><td>ACTGAGGGCGGGGGTCTAAGGGCCTGCAACAATGAGATCTGTCGCCTTGGCTAGGACTGG[CG]CCGAGAGGCGATAGGTCTCGGGAGAGCCTGGCGCAGGGTGTGGGAGATTAGGAATCCCAG</td><td>⋯                                                                                                                           </td><td>TSS1500;TSS200;TSS1500                                                                                                      </td><td>chrY:2802964-2804283                                                                                                        </td><td>Island                                                                                                                      </td><td>                                                                                                                            </td><td>                                                                                                                            </td><td>NA                                                                                                                          </td><td>Y:2862947-2864321                                                                                                           </td><td>                                                                                                                            </td><td>                                                                                                                            </td><td>NA                                                                                                                          </td></tr>\n",
       "\t<tr><td>cg00311963                                                                                                                  </td><td>cg00311963                                                                                                                  </td><td>21726474                                                                                                                    </td><td>AATATAAAACRACTACTTCTCTAAATTCATAAACTACAAAAAACCTTTAC                                                                          </td><td>                                                                                                                            </td><td>                                                                                                                            </td><td>II                                                                                                                          </td><td>                                                                                                                            </td><td>                                                                                                                            </td><td>GACTAGGATAAGAAGACACCACACACCCGGACATCAGCAGAGCATGTCCAGCACCCAGCA[CG]CAAAGGCCTCCTGCAGCTCATGAACCCAGAGAAGCAGCCGCCTCACACCACCCTGCCCCC</td><td>⋯                                                                                                                           </td><td>TSS1500;TSS1500                                                                                                             </td><td>chrY:9745559-9745993                                                                                                        </td><td>S_Shore                                                                                                                     </td><td>                                                                                                                            </td><td>                                                                                                                            </td><td>NA                                                                                                                          </td><td>                                                                                                                            </td><td>                                                                                                                            </td><td>                                                                                                                            </td><td>NA                                                                                                                          </td></tr>\n",
       "\t<tr><td>cg00335297                                                                                                                  </td><td>cg00335297                                                                                                                  </td><td>53713392                                                                                                                    </td><td>ATCCTTATAAAATTTCAACTTCTATTACAAACAAATTCCACCCCAACAAC                                                                          </td><td>                                                                                                                            </td><td>                                                                                                                            </td><td>II                                                                                                                          </td><td>                                                                                                                            </td><td>                                                                                                                            </td><td>GACCTTAGAGAGTCCTTGTGGGGTTTCAGCTTCTATTGCAGACAAATTCCACCCCAGCAA[CG]TACCAGTCGACTTTCCTCACAGGCAACCGCCCTGCCCCACTCCCCTCAAACCACCGCCGC</td><td>⋯                                                                                                                           </td><td>TSS1500;TSS1500                                                                                                             </td><td>chrY:24454804-24455083                                                                                                      </td><td>N_Shore                                                                                                                     </td><td>                                                                                                                            </td><td>                                                                                                                            </td><td>NA                                                                                                                          </td><td>Y:22863915-22863999                                                                                                         </td><td>                                                                                                                            </td><td>                                                                                                                            </td><td>NA                                                                                                                          </td></tr>\n",
       "\t<tr><td>cg01426558                                                                                                                  </td><td>cg01426558                                                                                                                  </td><td>29643447                                                                                                                    </td><td>AACRTTAATTATAACACACCTACAAAAAAACCTAAACCTAAACCCTTAAC                                                                          </td><td>                                                                                                                            </td><td>                                                                                                                            </td><td>II                                                                                                                          </td><td>                                                                                                                            </td><td>                                                                                                                            </td><td>GGTCATTCAGTATATAATTGTTTCATTGTTTCGTGAAAACAAGGGACCTATGCCAGGGTG[CG]TTAAGGGCCTAGGCCTAGGTCCCCTTGTAGGTGTGTTATAATCAACGTCATTCAGTATGT</td><td>⋯                                                                                                                           </td><td>TSS1500;TSS1500                                                                                                             </td><td>chrY:15016544-15017298                                                                                                      </td><td>N_Shore                                                                                                                     </td><td>                                                                                                                            </td><td>                                                                                                                            </td><td>NA                                                                                                                          </td><td>                                                                                                                            </td><td>                                                                                                                            </td><td>                                                                                                                            </td><td>NA                                                                                                                          </td></tr>\n",
       "\t<tr><td>cg01988452                                                                                                                  </td><td>cg01988452                                                                                                                  </td><td>17744441                                                                                                                    </td><td>TTTCTAATACATACAAACTACCAAAACTAACTTAAAAATAAATACAACAC                                                                          </td><td>                                                                                                                            </td><td>                                                                                                                            </td><td>II                                                                                                                          </td><td>                                                                                                                            </td><td>                                                                                                                            </td><td>AAATGAACAAATTTCTGGTACATACAAACTACCAGAACTGACTTGGGAATAAATACAGCA[CG]AATTCATAATCCAAACTAAGGCCTAGGACCATTTAAAAAATTTACATCAATCCTCGAATG</td><td>⋯                                                                                                                           </td><td>TSS1500                                                                                                                     </td><td>chrY:22737825-22738052                                                                                                      </td><td>N_Shore                                                                                                                     </td><td>                                                                                                                            </td><td>                                                                                                                            </td><td>NA                                                                                                                          </td><td>                                                                                                                            </td><td>                                                                                                                            </td><td>                                                                                                                            </td><td>NA                                                                                                                          </td></tr>\n",
       "</tbody>\n",
       "</table>\n"
      ],
      "text/latex": [
       "\\begin{tabular}{r|lllllllllllllllllllllllllllllllll}\n",
       " IlmnID & Name & AddressA\\_ID & AlleleA\\_ProbeSeq & AddressB\\_ID & AlleleB\\_ProbeSeq & Infinium\\_Design\\_Type & Next\\_Base & Color\\_Channel & Forward\\_Sequence & ⋯ & UCSC\\_RefGene\\_Group & UCSC\\_CpG\\_Islands\\_Name & Relation\\_to\\_UCSC\\_CpG\\_Island & Phantom & DMR & Enhancer & HMM\\_Island & Regulatory\\_Feature\\_Name & Regulatory\\_Feature\\_Group & DHS\\\\\n",
       "\\hline\n",
       "\t cg00050873                                                                                                                       & cg00050873                                                                                                                       & 32735311                                                                                                                         & ACAAAAAAACAACACACAACTATAATAATTTTTAAAATAAATAAACCCCA                                                                               & 31717405                                                                                                                         & ACGAAAAAACAACGCACAACTATAATAATTTTTAAAATAAATAAACCCCG                                                                               & I                                                                                                                                & A                                                                                                                                & Red                                                                                                                              & TATCTCTGTCTGGCGAGGAGGCAACGCACAACTGTGGTGGTTTTTGGAGTGGGTGGACCC{[}CG{]}GCCAAGACGGCCTGGGCTGACCAGAGACGGGAGGCAGAAAAAGTGGGCAGGTGGTTGCAG & ⋯                                                                                                                                & Body;TSS1500                                                                                                                     & chrY:9363680-9363943                                                                                                             & N\\_Shore                                                                                                                        &                                                                                                                                  &                                                                                                                                  & NA                                                                                                                               & Y:9973136-9976273                                                                                                                &                                                                                                                                  &                                                                                                                                  & NA                                                                                                                              \\\\\n",
       "\t cg00272582                                                                                                                       & cg00272582                                                                                                                       & 73678371                                                                                                                         & AAATCTAAAAACCTACAACAATAAAATCTATCRCCTTAACTAAAACTAAC                                                                               &                                                                                                                                  &                                                                                                                                  & II                                                                                                                               &                                                                                                                                  &                                                                                                                                  & ACTGAGGGCGGGGGTCTAAGGGCCTGCAACAATGAGATCTGTCGCCTTGGCTAGGACTGG{[}CG{]}CCGAGAGGCGATAGGTCTCGGGAGAGCCTGGCGCAGGGTGTGGGAGATTAGGAATCCCAG & ⋯                                                                                                                                & TSS1500;TSS200;TSS1500                                                                                                           & chrY:2802964-2804283                                                                                                             & Island                                                                                                                           &                                                                                                                                  &                                                                                                                                  & NA                                                                                                                               & Y:2862947-2864321                                                                                                                &                                                                                                                                  &                                                                                                                                  & NA                                                                                                                              \\\\\n",
       "\t cg00311963                                                                                                                       & cg00311963                                                                                                                       & 21726474                                                                                                                         & AATATAAAACRACTACTTCTCTAAATTCATAAACTACAAAAAACCTTTAC                                                                               &                                                                                                                                  &                                                                                                                                  & II                                                                                                                               &                                                                                                                                  &                                                                                                                                  & GACTAGGATAAGAAGACACCACACACCCGGACATCAGCAGAGCATGTCCAGCACCCAGCA{[}CG{]}CAAAGGCCTCCTGCAGCTCATGAACCCAGAGAAGCAGCCGCCTCACACCACCCTGCCCCC & ⋯                                                                                                                                & TSS1500;TSS1500                                                                                                                  & chrY:9745559-9745993                                                                                                             & S\\_Shore                                                                                                                        &                                                                                                                                  &                                                                                                                                  & NA                                                                                                                               &                                                                                                                                  &                                                                                                                                  &                                                                                                                                  & NA                                                                                                                              \\\\\n",
       "\t cg00335297                                                                                                                       & cg00335297                                                                                                                       & 53713392                                                                                                                         & ATCCTTATAAAATTTCAACTTCTATTACAAACAAATTCCACCCCAACAAC                                                                               &                                                                                                                                  &                                                                                                                                  & II                                                                                                                               &                                                                                                                                  &                                                                                                                                  & GACCTTAGAGAGTCCTTGTGGGGTTTCAGCTTCTATTGCAGACAAATTCCACCCCAGCAA{[}CG{]}TACCAGTCGACTTTCCTCACAGGCAACCGCCCTGCCCCACTCCCCTCAAACCACCGCCGC & ⋯                                                                                                                                & TSS1500;TSS1500                                                                                                                  & chrY:24454804-24455083                                                                                                           & N\\_Shore                                                                                                                        &                                                                                                                                  &                                                                                                                                  & NA                                                                                                                               & Y:22863915-22863999                                                                                                              &                                                                                                                                  &                                                                                                                                  & NA                                                                                                                              \\\\\n",
       "\t cg01426558                                                                                                                       & cg01426558                                                                                                                       & 29643447                                                                                                                         & AACRTTAATTATAACACACCTACAAAAAAACCTAAACCTAAACCCTTAAC                                                                               &                                                                                                                                  &                                                                                                                                  & II                                                                                                                               &                                                                                                                                  &                                                                                                                                  & GGTCATTCAGTATATAATTGTTTCATTGTTTCGTGAAAACAAGGGACCTATGCCAGGGTG{[}CG{]}TTAAGGGCCTAGGCCTAGGTCCCCTTGTAGGTGTGTTATAATCAACGTCATTCAGTATGT & ⋯                                                                                                                                & TSS1500;TSS1500                                                                                                                  & chrY:15016544-15017298                                                                                                           & N\\_Shore                                                                                                                        &                                                                                                                                  &                                                                                                                                  & NA                                                                                                                               &                                                                                                                                  &                                                                                                                                  &                                                                                                                                  & NA                                                                                                                              \\\\\n",
       "\t cg01988452                                                                                                                       & cg01988452                                                                                                                       & 17744441                                                                                                                         & TTTCTAATACATACAAACTACCAAAACTAACTTAAAAATAAATACAACAC                                                                               &                                                                                                                                  &                                                                                                                                  & II                                                                                                                               &                                                                                                                                  &                                                                                                                                  & AAATGAACAAATTTCTGGTACATACAAACTACCAGAACTGACTTGGGAATAAATACAGCA{[}CG{]}AATTCATAATCCAAACTAAGGCCTAGGACCATTTAAAAAATTTACATCAATCCTCGAATG & ⋯                                                                                                                                & TSS1500                                                                                                                          & chrY:22737825-22738052                                                                                                           & N\\_Shore                                                                                                                        &                                                                                                                                  &                                                                                                                                  & NA                                                                                                                               &                                                                                                                                  &                                                                                                                                  &                                                                                                                                  & NA                                                                                                                              \\\\\n",
       "\\end{tabular}\n"
      ],
      "text/markdown": [
       "\n",
       "IlmnID | Name | AddressA_ID | AlleleA_ProbeSeq | AddressB_ID | AlleleB_ProbeSeq | Infinium_Design_Type | Next_Base | Color_Channel | Forward_Sequence | ⋯ | UCSC_RefGene_Group | UCSC_CpG_Islands_Name | Relation_to_UCSC_CpG_Island | Phantom | DMR | Enhancer | HMM_Island | Regulatory_Feature_Name | Regulatory_Feature_Group | DHS | \n",
       "|---|---|---|---|---|---|\n",
       "| cg00050873                                                                                                                   | cg00050873                                                                                                                   | 32735311                                                                                                                     | ACAAAAAAACAACACACAACTATAATAATTTTTAAAATAAATAAACCCCA                                                                           | 31717405                                                                                                                     | ACGAAAAAACAACGCACAACTATAATAATTTTTAAAATAAATAAACCCCG                                                                           | I                                                                                                                            | A                                                                                                                            | Red                                                                                                                          | TATCTCTGTCTGGCGAGGAGGCAACGCACAACTGTGGTGGTTTTTGGAGTGGGTGGACCC[CG]GCCAAGACGGCCTGGGCTGACCAGAGACGGGAGGCAGAAAAAGTGGGCAGGTGGTTGCAG | ⋯                                                                                                                            | Body;TSS1500                                                                                                                 | chrY:9363680-9363943                                                                                                         | N_Shore                                                                                                                      |                                                                                                                              |                                                                                                                              | NA                                                                                                                           | Y:9973136-9976273                                                                                                            |                                                                                                                              |                                                                                                                              | NA                                                                                                                           | \n",
       "| cg00272582                                                                                                                   | cg00272582                                                                                                                   | 73678371                                                                                                                     | AAATCTAAAAACCTACAACAATAAAATCTATCRCCTTAACTAAAACTAAC                                                                           |                                                                                                                              |                                                                                                                              | II                                                                                                                           |                                                                                                                              |                                                                                                                              | ACTGAGGGCGGGGGTCTAAGGGCCTGCAACAATGAGATCTGTCGCCTTGGCTAGGACTGG[CG]CCGAGAGGCGATAGGTCTCGGGAGAGCCTGGCGCAGGGTGTGGGAGATTAGGAATCCCAG | ⋯                                                                                                                            | TSS1500;TSS200;TSS1500                                                                                                       | chrY:2802964-2804283                                                                                                         | Island                                                                                                                       |                                                                                                                              |                                                                                                                              | NA                                                                                                                           | Y:2862947-2864321                                                                                                            |                                                                                                                              |                                                                                                                              | NA                                                                                                                           | \n",
       "| cg00311963                                                                                                                   | cg00311963                                                                                                                   | 21726474                                                                                                                     | AATATAAAACRACTACTTCTCTAAATTCATAAACTACAAAAAACCTTTAC                                                                           |                                                                                                                              |                                                                                                                              | II                                                                                                                           |                                                                                                                              |                                                                                                                              | GACTAGGATAAGAAGACACCACACACCCGGACATCAGCAGAGCATGTCCAGCACCCAGCA[CG]CAAAGGCCTCCTGCAGCTCATGAACCCAGAGAAGCAGCCGCCTCACACCACCCTGCCCCC | ⋯                                                                                                                            | TSS1500;TSS1500                                                                                                              | chrY:9745559-9745993                                                                                                         | S_Shore                                                                                                                      |                                                                                                                              |                                                                                                                              | NA                                                                                                                           |                                                                                                                              |                                                                                                                              |                                                                                                                              | NA                                                                                                                           | \n",
       "| cg00335297                                                                                                                   | cg00335297                                                                                                                   | 53713392                                                                                                                     | ATCCTTATAAAATTTCAACTTCTATTACAAACAAATTCCACCCCAACAAC                                                                           |                                                                                                                              |                                                                                                                              | II                                                                                                                           |                                                                                                                              |                                                                                                                              | GACCTTAGAGAGTCCTTGTGGGGTTTCAGCTTCTATTGCAGACAAATTCCACCCCAGCAA[CG]TACCAGTCGACTTTCCTCACAGGCAACCGCCCTGCCCCACTCCCCTCAAACCACCGCCGC | ⋯                                                                                                                            | TSS1500;TSS1500                                                                                                              | chrY:24454804-24455083                                                                                                       | N_Shore                                                                                                                      |                                                                                                                              |                                                                                                                              | NA                                                                                                                           | Y:22863915-22863999                                                                                                          |                                                                                                                              |                                                                                                                              | NA                                                                                                                           | \n",
       "| cg01426558                                                                                                                   | cg01426558                                                                                                                   | 29643447                                                                                                                     | AACRTTAATTATAACACACCTACAAAAAAACCTAAACCTAAACCCTTAAC                                                                           |                                                                                                                              |                                                                                                                              | II                                                                                                                           |                                                                                                                              |                                                                                                                              | GGTCATTCAGTATATAATTGTTTCATTGTTTCGTGAAAACAAGGGACCTATGCCAGGGTG[CG]TTAAGGGCCTAGGCCTAGGTCCCCTTGTAGGTGTGTTATAATCAACGTCATTCAGTATGT | ⋯                                                                                                                            | TSS1500;TSS1500                                                                                                              | chrY:15016544-15017298                                                                                                       | N_Shore                                                                                                                      |                                                                                                                              |                                                                                                                              | NA                                                                                                                           |                                                                                                                              |                                                                                                                              |                                                                                                                              | NA                                                                                                                           | \n",
       "| cg01988452                                                                                                                   | cg01988452                                                                                                                   | 17744441                                                                                                                     | TTTCTAATACATACAAACTACCAAAACTAACTTAAAAATAAATACAACAC                                                                           |                                                                                                                              |                                                                                                                              | II                                                                                                                           |                                                                                                                              |                                                                                                                              | AAATGAACAAATTTCTGGTACATACAAACTACCAGAACTGACTTGGGAATAAATACAGCA[CG]AATTCATAATCCAAACTAAGGCCTAGGACCATTTAAAAAATTTACATCAATCCTCGAATG | ⋯                                                                                                                            | TSS1500                                                                                                                      | chrY:22737825-22738052                                                                                                       | N_Shore                                                                                                                      |                                                                                                                              |                                                                                                                              | NA                                                                                                                           |                                                                                                                              |                                                                                                                              |                                                                                                                              | NA                                                                                                                           | \n",
       "\n",
       "\n"
      ],
      "text/plain": [
       "  IlmnID     Name       AddressA_ID\n",
       "1 cg00050873 cg00050873 32735311   \n",
       "2 cg00272582 cg00272582 73678371   \n",
       "3 cg00311963 cg00311963 21726474   \n",
       "4 cg00335297 cg00335297 53713392   \n",
       "5 cg01426558 cg01426558 29643447   \n",
       "6 cg01988452 cg01988452 17744441   \n",
       "  AlleleA_ProbeSeq                                   AddressB_ID\n",
       "1 ACAAAAAAACAACACACAACTATAATAATTTTTAAAATAAATAAACCCCA 31717405   \n",
       "2 AAATCTAAAAACCTACAACAATAAAATCTATCRCCTTAACTAAAACTAAC            \n",
       "3 AATATAAAACRACTACTTCTCTAAATTCATAAACTACAAAAAACCTTTAC            \n",
       "4 ATCCTTATAAAATTTCAACTTCTATTACAAACAAATTCCACCCCAACAAC            \n",
       "5 AACRTTAATTATAACACACCTACAAAAAAACCTAAACCTAAACCCTTAAC            \n",
       "6 TTTCTAATACATACAAACTACCAAAACTAACTTAAAAATAAATACAACAC            \n",
       "  AlleleB_ProbeSeq                                   Infinium_Design_Type\n",
       "1 ACGAAAAAACAACGCACAACTATAATAATTTTTAAAATAAATAAACCCCG I                   \n",
       "2                                                    II                  \n",
       "3                                                    II                  \n",
       "4                                                    II                  \n",
       "5                                                    II                  \n",
       "6                                                    II                  \n",
       "  Next_Base Color_Channel\n",
       "1 A         Red          \n",
       "2                        \n",
       "3                        \n",
       "4                        \n",
       "5                        \n",
       "6                        \n",
       "  Forward_Sequence                                                                                                            \n",
       "1 TATCTCTGTCTGGCGAGGAGGCAACGCACAACTGTGGTGGTTTTTGGAGTGGGTGGACCC[CG]GCCAAGACGGCCTGGGCTGACCAGAGACGGGAGGCAGAAAAAGTGGGCAGGTGGTTGCAG\n",
       "2 ACTGAGGGCGGGGGTCTAAGGGCCTGCAACAATGAGATCTGTCGCCTTGGCTAGGACTGG[CG]CCGAGAGGCGATAGGTCTCGGGAGAGCCTGGCGCAGGGTGTGGGAGATTAGGAATCCCAG\n",
       "3 GACTAGGATAAGAAGACACCACACACCCGGACATCAGCAGAGCATGTCCAGCACCCAGCA[CG]CAAAGGCCTCCTGCAGCTCATGAACCCAGAGAAGCAGCCGCCTCACACCACCCTGCCCCC\n",
       "4 GACCTTAGAGAGTCCTTGTGGGGTTTCAGCTTCTATTGCAGACAAATTCCACCCCAGCAA[CG]TACCAGTCGACTTTCCTCACAGGCAACCGCCCTGCCCCACTCCCCTCAAACCACCGCCGC\n",
       "5 GGTCATTCAGTATATAATTGTTTCATTGTTTCGTGAAAACAAGGGACCTATGCCAGGGTG[CG]TTAAGGGCCTAGGCCTAGGTCCCCTTGTAGGTGTGTTATAATCAACGTCATTCAGTATGT\n",
       "6 AAATGAACAAATTTCTGGTACATACAAACTACCAGAACTGACTTGGGAATAAATACAGCA[CG]AATTCATAATCCAAACTAAGGCCTAGGACCATTTAAAAAATTTACATCAATCCTCGAATG\n",
       "  ⋯ UCSC_RefGene_Group     UCSC_CpG_Islands_Name  Relation_to_UCSC_CpG_Island\n",
       "1 ⋯ Body;TSS1500           chrY:9363680-9363943   N_Shore                    \n",
       "2 ⋯ TSS1500;TSS200;TSS1500 chrY:2802964-2804283   Island                     \n",
       "3 ⋯ TSS1500;TSS1500        chrY:9745559-9745993   S_Shore                    \n",
       "4 ⋯ TSS1500;TSS1500        chrY:24454804-24455083 N_Shore                    \n",
       "5 ⋯ TSS1500;TSS1500        chrY:15016544-15017298 N_Shore                    \n",
       "6 ⋯ TSS1500                chrY:22737825-22738052 N_Shore                    \n",
       "  Phantom DMR Enhancer HMM_Island          Regulatory_Feature_Name\n",
       "1             NA       Y:9973136-9976273                          \n",
       "2             NA       Y:2862947-2864321                          \n",
       "3             NA                                                  \n",
       "4             NA       Y:22863915-22863999                        \n",
       "5             NA                                                  \n",
       "6             NA                                                  \n",
       "  Regulatory_Feature_Group DHS\n",
       "1                          NA \n",
       "2                          NA \n",
       "3                          NA \n",
       "4                          NA \n",
       "5                          NA \n",
       "6                          NA "
      ]
     },
     "metadata": {},
     "output_type": "display_data"
    }
   ],
   "source": [
    "head(probes.CGI)"
   ]
  },
  {
   "cell_type": "code",
   "execution_count": 10,
   "metadata": {},
   "outputs": [
    {
     "data": {
      "text/html": [
       "<ol class=list-inline>\n",
       "\t<li>64707</li>\n",
       "\t<li>33</li>\n",
       "</ol>\n"
      ],
      "text/latex": [
       "\\begin{enumerate*}\n",
       "\\item 64707\n",
       "\\item 33\n",
       "\\end{enumerate*}\n"
      ],
      "text/markdown": [
       "1. 64707\n",
       "2. 33\n",
       "\n",
       "\n"
      ],
      "text/plain": [
       "[1] 64707    33"
      ]
     },
     "metadata": {},
     "output_type": "display_data"
    }
   ],
   "source": [
    "dim(probes.CGI)"
   ]
  },
  {
   "cell_type": "code",
   "execution_count": 11,
   "metadata": {},
   "outputs": [
    {
     "data": {
      "text/plain": [
       "\n",
       "S_Shore N_Shore  Island \n",
       "  16623   19508   28576 "
      ]
     },
     "metadata": {},
     "output_type": "display_data"
    }
   ],
   "source": [
    "sort(table(probes.CGI$Relation_to_UCSC_CpG_Island))"
   ]
  },
  {
   "cell_type": "code",
   "execution_count": 13,
   "metadata": {
    "collapsed": true
   },
   "outputs": [],
   "source": [
    "write.table(probes.TSS1500, sep='\\t', row.names=F, quote=F, file='../data/promoterRegionProbes/TSS1500.tsv')\n",
    "write.table(probes.CGI, sep='\\t', row.names=F, quote=F, file='../data/promoterRegionProbes/CGI.tsv')"
   ]
  },
  {
   "cell_type": "markdown",
   "metadata": {},
   "source": [
    "## Correlation between methylation level and corresponding gene expression\n",
    "- The correlation coefficient between methylation level and corresponding GEP for entire data and the two probe subsets were computed by `computeCorrelation.R` and `task.R`."
   ]
  },
  {
   "cell_type": "markdown",
   "metadata": {
    "collapsed": true
   },
   "source": [
    "### Entire data set (Beta value)"
   ]
  },
  {
   "cell_type": "code",
   "execution_count": 1,
   "metadata": {},
   "outputs": [
    {
     "data": {
      "text/html": [
       "171715"
      ],
      "text/latex": [
       "171715"
      ],
      "text/markdown": [
       "171715"
      ],
      "text/plain": [
       "[1] 171715"
      ]
     },
     "metadata": {},
     "output_type": "display_data"
    }
   ],
   "source": [
    "load('../data/processed/Correlation.RData')\n",
    "length(correlation)"
   ]
  },
  {
   "cell_type": "code",
   "execution_count": 4,
   "metadata": {},
   "outputs": [
    {
     "name": "stderr",
     "output_type": "stream",
     "text": [
      "`stat_bin()` using `bins = 30`. Pick better value with `binwidth`.\n"
     ]
    },
    {
     "data": {},
     "metadata": {},
     "output_type": "display_data"
    },
    {
     "data": {
      "image/png": "[encoded data removed]",
      "text/plain": [
       "plot without title"
      ]
     },
     "metadata": {},
     "output_type": "display_data"
    }
   ],
   "source": [
    "qplot(correlation, geom=\"histogram\")"
   ]
  },
  {
   "cell_type": "code",
   "execution_count": 5,
   "metadata": {},
   "outputs": [
    {
     "data": {
      "text/html": [
       "<dl class=dl-horizontal>\n",
       "\t<dt>0%</dt>\n",
       "\t\t<dd>-0.877780126021302</dd>\n",
       "\t<dt>25%</dt>\n",
       "\t\t<dd>-0.10706583838723</dd>\n",
       "\t<dt>50%</dt>\n",
       "\t\t<dd>-0.0218800063688982</dd>\n",
       "\t<dt>75%</dt>\n",
       "\t\t<dd>0.0555297852546172</dd>\n",
       "\t<dt>100%</dt>\n",
       "\t\t<dd>0.773269629860828</dd>\n",
       "</dl>\n"
      ],
      "text/latex": [
       "\\begin{description*}\n",
       "\\item[0\\textbackslash{}\\%] -0.877780126021302\n",
       "\\item[25\\textbackslash{}\\%] -0.10706583838723\n",
       "\\item[50\\textbackslash{}\\%] -0.0218800063688982\n",
       "\\item[75\\textbackslash{}\\%] 0.0555297852546172\n",
       "\\item[100\\textbackslash{}\\%] 0.773269629860828\n",
       "\\end{description*}\n"
      ],
      "text/markdown": [
       "0%\n",
       ":   -0.87778012602130225%\n",
       ":   -0.1070658383872350%\n",
       ":   -0.021880006368898275%\n",
       ":   0.0555297852546172100%\n",
       ":   0.773269629860828\n",
       "\n"
      ],
      "text/plain": [
       "         0%         25%         50%         75%        100% \n",
       "-0.87778013 -0.10706584 -0.02188001  0.05552979  0.77326963 "
      ]
     },
     "metadata": {},
     "output_type": "display_data"
    }
   ],
   "source": [
    "quantile(correlation)"
   ]
  },
  {
   "cell_type": "markdown",
   "metadata": {},
   "source": [
    "### Entire data set (M value)"
   ]
  },
  {
   "cell_type": "code",
   "execution_count": 1,
   "metadata": {},
   "outputs": [
    {
     "data": {
      "text/html": [
       "171715"
      ],
      "text/latex": [
       "171715"
      ],
      "text/markdown": [
       "171715"
      ],
      "text/plain": [
       "[1] 171715"
      ]
     },
     "metadata": {},
     "output_type": "display_data"
    }
   ],
   "source": [
    "load('../data/processed//CorrelationMvalue.RData')\n",
    "length(correlation)"
   ]
  },
  {
   "cell_type": "code",
   "execution_count": 3,
   "metadata": {},
   "outputs": [
    {
     "name": "stderr",
     "output_type": "stream",
     "text": [
      "`stat_bin()` using `bins = 30`. Pick better value with `binwidth`.\n"
     ]
    },
    {
     "data": {},
     "metadata": {},
     "output_type": "display_data"
    },
    {
     "data": {
      "image/png": "[encoded data removed]",
      "text/plain": [
       "plot without title"
      ]
     },
     "metadata": {},
     "output_type": "display_data"
    }
   ],
   "source": [
    "qplot(correlation, geom=\"histogram\")"
   ]
  },
  {
   "cell_type": "code",
   "execution_count": 4,
   "metadata": {},
   "outputs": [
    {
     "data": {
      "text/html": [
       "<dl class=dl-horizontal>\n",
       "\t<dt>0%</dt>\n",
       "\t\t<dd>-0.86615975661764</dd>\n",
       "\t<dt>25%</dt>\n",
       "\t\t<dd>-0.110612394114617</dd>\n",
       "\t<dt>50%</dt>\n",
       "\t\t<dd>-0.0234246076221494</dd>\n",
       "\t<dt>75%</dt>\n",
       "\t\t<dd>0.0554729811517139</dd>\n",
       "\t<dt>100%</dt>\n",
       "\t\t<dd>0.778443349512177</dd>\n",
       "</dl>\n"
      ],
      "text/latex": [
       "\\begin{description*}\n",
       "\\item[0\\textbackslash{}\\%] -0.86615975661764\n",
       "\\item[25\\textbackslash{}\\%] -0.110612394114617\n",
       "\\item[50\\textbackslash{}\\%] -0.0234246076221494\n",
       "\\item[75\\textbackslash{}\\%] 0.0554729811517139\n",
       "\\item[100\\textbackslash{}\\%] 0.778443349512177\n",
       "\\end{description*}\n"
      ],
      "text/markdown": [
       "0%\n",
       ":   -0.8661597566176425%\n",
       ":   -0.11061239411461750%\n",
       ":   -0.023424607622149475%\n",
       ":   0.0554729811517139100%\n",
       ":   0.778443349512177\n",
       "\n"
      ],
      "text/plain": [
       "         0%         25%         50%         75%        100% \n",
       "-0.86615976 -0.11061239 -0.02342461  0.05547298  0.77844335 "
      ]
     },
     "metadata": {},
     "output_type": "display_data"
    }
   ],
   "source": [
    "quantile(correlation)"
   ]
  },
  {
   "cell_type": "markdown",
   "metadata": {},
   "source": [
    "### Promoter region probes (Beta value)"
   ]
  },
  {
   "cell_type": "code",
   "execution_count": 2,
   "metadata": {},
   "outputs": [
    {
     "data": {
      "text/html": [
       "29321"
      ],
      "text/latex": [
       "29321"
      ],
      "text/markdown": [
       "29321"
      ],
      "text/plain": [
       "[1] 29321"
      ]
     },
     "metadata": {},
     "output_type": "display_data"
    }
   ],
   "source": [
    "load('../data/processed/CorrelationPromoterB.RData')\n",
    "length(correlation)"
   ]
  },
  {
   "cell_type": "code",
   "execution_count": 3,
   "metadata": {},
   "outputs": [
    {
     "name": "stderr",
     "output_type": "stream",
     "text": [
      "`stat_bin()` using `bins = 30`. Pick better value with `binwidth`.\n"
     ]
    },
    {
     "data": {},
     "metadata": {},
     "output_type": "display_data"
    },
    {
     "data": {
      "image/png": "[encoded data removed]",
      "text/plain": [
       "plot without title"
      ]
     },
     "metadata": {},
     "output_type": "display_data"
    }
   ],
   "source": [
    "qplot(correlation, geom=\"histogram\")"
   ]
  },
  {
   "cell_type": "code",
   "execution_count": 4,
   "metadata": {},
   "outputs": [
    {
     "data": {
      "text/html": [
       "<dl class=dl-horizontal>\n",
       "\t<dt>0%</dt>\n",
       "\t\t<dd>-0.844029658555815</dd>\n",
       "\t<dt>25%</dt>\n",
       "\t\t<dd>-0.11895568487116</dd>\n",
       "\t<dt>50%</dt>\n",
       "\t\t<dd>-0.0327491904504024</dd>\n",
       "\t<dt>75%</dt>\n",
       "\t\t<dd>0.0436259970128366</dd>\n",
       "\t<dt>100%</dt>\n",
       "\t\t<dd>0.520878451746882</dd>\n",
       "</dl>\n"
      ],
      "text/latex": [
       "\\begin{description*}\n",
       "\\item[0\\textbackslash{}\\%] -0.844029658555815\n",
       "\\item[25\\textbackslash{}\\%] -0.11895568487116\n",
       "\\item[50\\textbackslash{}\\%] -0.0327491904504024\n",
       "\\item[75\\textbackslash{}\\%] 0.0436259970128366\n",
       "\\item[100\\textbackslash{}\\%] 0.520878451746882\n",
       "\\end{description*}\n"
      ],
      "text/markdown": [
       "0%\n",
       ":   -0.84402965855581525%\n",
       ":   -0.1189556848711650%\n",
       ":   -0.032749190450402475%\n",
       ":   0.0436259970128366100%\n",
       ":   0.520878451746882\n",
       "\n"
      ],
      "text/plain": [
       "         0%         25%         50%         75%        100% \n",
       "-0.84402966 -0.11895568 -0.03274919  0.04362600  0.52087845 "
      ]
     },
     "metadata": {},
     "output_type": "display_data"
    }
   ],
   "source": [
    "quantile(correlation)"
   ]
  },
  {
   "cell_type": "markdown",
   "metadata": {},
   "source": [
    "### Promoter region probes (M value)"
   ]
  },
  {
   "cell_type": "code",
   "execution_count": 5,
   "metadata": {},
   "outputs": [
    {
     "data": {
      "text/html": [
       "29321"
      ],
      "text/latex": [
       "29321"
      ],
      "text/markdown": [
       "29321"
      ],
      "text/plain": [
       "[1] 29321"
      ]
     },
     "metadata": {},
     "output_type": "display_data"
    }
   ],
   "source": [
    "load('../data/processed/CorrelationPromoterM.RData')\n",
    "length(correlation)"
   ]
  },
  {
   "cell_type": "code",
   "execution_count": 6,
   "metadata": {},
   "outputs": [
    {
     "name": "stderr",
     "output_type": "stream",
     "text": [
      "`stat_bin()` using `bins = 30`. Pick better value with `binwidth`.\n"
     ]
    },
    {
     "data": {},
     "metadata": {},
     "output_type": "display_data"
    },
    {
     "data": {
      "image/png": "[encoded data removed]",
      "text/plain": [
       "plot without title"
      ]
     },
     "metadata": {},
     "output_type": "display_data"
    }
   ],
   "source": [
    "qplot(correlation, geom=\"histogram\")"
   ]
  },
  {
   "cell_type": "code",
   "execution_count": 7,
   "metadata": {},
   "outputs": [
    {
     "data": {
      "text/html": [
       "<dl class=dl-horizontal>\n",
       "\t<dt>0%</dt>\n",
       "\t\t<dd>-0.842982386441011</dd>\n",
       "\t<dt>25%</dt>\n",
       "\t\t<dd>-0.123964839098801</dd>\n",
       "\t<dt>50%</dt>\n",
       "\t\t<dd>-0.0349651842707149</dd>\n",
       "\t<dt>75%</dt>\n",
       "\t\t<dd>0.0424108636714229</dd>\n",
       "\t<dt>100%</dt>\n",
       "\t\t<dd>0.556912999188095</dd>\n",
       "</dl>\n"
      ],
      "text/latex": [
       "\\begin{description*}\n",
       "\\item[0\\textbackslash{}\\%] -0.842982386441011\n",
       "\\item[25\\textbackslash{}\\%] -0.123964839098801\n",
       "\\item[50\\textbackslash{}\\%] -0.0349651842707149\n",
       "\\item[75\\textbackslash{}\\%] 0.0424108636714229\n",
       "\\item[100\\textbackslash{}\\%] 0.556912999188095\n",
       "\\end{description*}\n"
      ],
      "text/markdown": [
       "0%\n",
       ":   -0.84298238644101125%\n",
       ":   -0.12396483909880150%\n",
       ":   -0.034965184270714975%\n",
       ":   0.0424108636714229100%\n",
       ":   0.556912999188095\n",
       "\n"
      ],
      "text/plain": [
       "         0%         25%         50%         75%        100% \n",
       "-0.84298239 -0.12396484 -0.03496518  0.04241086  0.55691300 "
      ]
     },
     "metadata": {},
     "output_type": "display_data"
    }
   ],
   "source": [
    "quantile(correlation)"
   ]
  },
  {
   "cell_type": "markdown",
   "metadata": {},
   "source": [
    "### Promoter + CGI/shore region (Beta value)"
   ]
  },
  {
   "cell_type": "code",
   "execution_count": 8,
   "metadata": {},
   "outputs": [
    {
     "data": {
      "text/html": [
       "25557"
      ],
      "text/latex": [
       "25557"
      ],
      "text/markdown": [
       "25557"
      ],
      "text/plain": [
       "[1] 25557"
      ]
     },
     "metadata": {},
     "output_type": "display_data"
    }
   ],
   "source": [
    "load('../data/processed/CorrelationCGIB.RData')\n",
    "length(correlation)"
   ]
  },
  {
   "cell_type": "code",
   "execution_count": 9,
   "metadata": {},
   "outputs": [
    {
     "name": "stderr",
     "output_type": "stream",
     "text": [
      "`stat_bin()` using `bins = 30`. Pick better value with `binwidth`.\n"
     ]
    },
    {
     "data": {},
     "metadata": {},
     "output_type": "display_data"
    },
    {
     "data": {
      "image/png": "[encoded data removed]",
      "text/plain": [
       "plot without title"
      ]
     },
     "metadata": {},
     "output_type": "display_data"
    }
   ],
   "source": [
    "qplot(correlation, geom=\"histogram\")"
   ]
  },
  {
   "cell_type": "code",
   "execution_count": 10,
   "metadata": {},
   "outputs": [
    {
     "data": {
      "text/html": [
       "<dl class=dl-horizontal>\n",
       "\t<dt>0%</dt>\n",
       "\t\t<dd>-0.844029658555815</dd>\n",
       "\t<dt>25%</dt>\n",
       "\t\t<dd>-0.115575119827516</dd>\n",
       "\t<dt>50%</dt>\n",
       "\t\t<dd>-0.032129657347947</dd>\n",
       "\t<dt>75%</dt>\n",
       "\t\t<dd>0.0424043010660547</dd>\n",
       "\t<dt>100%</dt>\n",
       "\t\t<dd>0.520878451746882</dd>\n",
       "</dl>\n"
      ],
      "text/latex": [
       "\\begin{description*}\n",
       "\\item[0\\textbackslash{}\\%] -0.844029658555815\n",
       "\\item[25\\textbackslash{}\\%] -0.115575119827516\n",
       "\\item[50\\textbackslash{}\\%] -0.032129657347947\n",
       "\\item[75\\textbackslash{}\\%] 0.0424043010660547\n",
       "\\item[100\\textbackslash{}\\%] 0.520878451746882\n",
       "\\end{description*}\n"
      ],
      "text/markdown": [
       "0%\n",
       ":   -0.84402965855581525%\n",
       ":   -0.11557511982751650%\n",
       ":   -0.03212965734794775%\n",
       ":   0.0424043010660547100%\n",
       ":   0.520878451746882\n",
       "\n"
      ],
      "text/plain": [
       "         0%         25%         50%         75%        100% \n",
       "-0.84402966 -0.11557512 -0.03212966  0.04240430  0.52087845 "
      ]
     },
     "metadata": {},
     "output_type": "display_data"
    }
   ],
   "source": [
    "quantile(correlation)"
   ]
  },
  {
   "cell_type": "markdown",
   "metadata": {},
   "source": [
    "### Promoter + CGI/shore region (M value)"
   ]
  },
  {
   "cell_type": "code",
   "execution_count": 11,
   "metadata": {},
   "outputs": [
    {
     "data": {
      "text/html": [
       "25557"
      ],
      "text/latex": [
       "25557"
      ],
      "text/markdown": [
       "25557"
      ],
      "text/plain": [
       "[1] 25557"
      ]
     },
     "metadata": {},
     "output_type": "display_data"
    }
   ],
   "source": [
    "load('../data/processed/CorrelationCGIM.RData')\n",
    "length(correlation)"
   ]
  },
  {
   "cell_type": "code",
   "execution_count": 12,
   "metadata": {},
   "outputs": [
    {
     "name": "stderr",
     "output_type": "stream",
     "text": [
      "`stat_bin()` using `bins = 30`. Pick better value with `binwidth`.\n"
     ]
    },
    {
     "data": {},
     "metadata": {},
     "output_type": "display_data"
    },
    {
     "data": {
      "image/png": "[encoded data removed]",
      "text/plain": [
       "plot without title"
      ]
     },
     "metadata": {},
     "output_type": "display_data"
    }
   ],
   "source": [
    "qplot(correlation, geom=\"histogram\")"
   ]
  },
  {
   "cell_type": "code",
   "execution_count": 13,
   "metadata": {},
   "outputs": [
    {
     "data": {
      "text/html": [
       "<dl class=dl-horizontal>\n",
       "\t<dt>0%</dt>\n",
       "\t\t<dd>-0.842982386441011</dd>\n",
       "\t<dt>25%</dt>\n",
       "\t\t<dd>-0.120355932640055</dd>\n",
       "\t<dt>50%</dt>\n",
       "\t\t<dd>-0.0341559967340824</dd>\n",
       "\t<dt>75%</dt>\n",
       "\t\t<dd>0.0415297939659954</dd>\n",
       "\t<dt>100%</dt>\n",
       "\t\t<dd>0.519813869671247</dd>\n",
       "</dl>\n"
      ],
      "text/latex": [
       "\\begin{description*}\n",
       "\\item[0\\textbackslash{}\\%] -0.842982386441011\n",
       "\\item[25\\textbackslash{}\\%] -0.120355932640055\n",
       "\\item[50\\textbackslash{}\\%] -0.0341559967340824\n",
       "\\item[75\\textbackslash{}\\%] 0.0415297939659954\n",
       "\\item[100\\textbackslash{}\\%] 0.519813869671247\n",
       "\\end{description*}\n"
      ],
      "text/markdown": [
       "0%\n",
       ":   -0.84298238644101125%\n",
       ":   -0.12035593264005550%\n",
       ":   -0.034155996734082475%\n",
       ":   0.0415297939659954100%\n",
       ":   0.519813869671247\n",
       "\n"
      ],
      "text/plain": [
       "         0%         25%         50%         75%        100% \n",
       "-0.84298239 -0.12035593 -0.03415600  0.04152979  0.51981387 "
      ]
     },
     "metadata": {},
     "output_type": "display_data"
    }
   ],
   "source": [
    "quantile(correlation)"
   ]
  },
  {
   "cell_type": "markdown",
   "metadata": {},
   "source": [
    "|  dataset name  |  0 %  |  25 % |  50 %  |  75 %  |  100 %  |  # samples  |\n",
    "|----------------|-------|-------|--------|--------|---------|-------------|\n",
    "|  all_beta      |-0.8778|-0.1071|-0.0219 |0.0555  |0.7733   | 171715      |\n",
    "|  all_M         |-0.8662|-0.1106|-0.0234 |0.0555  |0.7784   | 171715      |\n",
    "|  promoter_beta |-0.8440|-0.1190|-0.0327 |0.0436  |0.5209   | 29321       |\n",
    "|  promoter_M    |-0.8429|-0.1240|-0.0350 |0.0424  |0.5569   | 29321       |\n",
    "|  p+CGI_beta    |-0.8440|-0.1156|-0.0321 |0.0424  |0.5209   | 25557       |\n",
    "|  p+CGI_M       |-0.8430|-0.1204|-0.0342 |0.0415  |0.5198   | 25557       |"
   ]
  },
  {
   "cell_type": "code",
   "execution_count": null,
   "metadata": {
    "collapsed": true
   },
   "outputs": [],
   "source": []
  }
 ],
 "metadata": {
  "kernelspec": {
   "display_name": "R",
   "language": "R",
   "name": "ir"
  },
  "language_info": {
   "codemirror_mode": "r",
   "file_extension": ".r",
   "mimetype": "text/x-r-source",
   "name": "R",
   "pygments_lexer": "r",
   "version": "3.4.0"
  }
 },
 "nbformat": 4,
 "nbformat_minor": 2
}
