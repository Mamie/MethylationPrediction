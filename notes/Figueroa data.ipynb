{
 "cells": [
  {
   "cell_type": "markdown",
   "metadata": {},
   "source": [
    "# Figueroa data set analysis"
   ]
  },
  {
   "cell_type": "code",
   "execution_count": 7,
   "metadata": {},
   "outputs": [],
   "source": [
    "library(hashmap)"
   ]
  },
  {
   "cell_type": "code",
   "execution_count": 46,
   "metadata": {},
   "outputs": [],
   "source": [
    "GEP <- read.csv('../data/Figueroa/data/GSE14468.HGU133Plus2_EntrezCDF.MAS5.pcl.gz', sep='\\t', header=T, stringsAsFactor=F)"
   ]
  },
  {
   "cell_type": "code",
   "execution_count": 47,
   "metadata": {},
   "outputs": [
    {
     "data": {
      "text/html": [
       "<ol class=list-inline>\n",
       "\t<li>17788</li>\n",
       "\t<li>527</li>\n",
       "</ol>\n"
      ],
      "text/latex": [
       "\\begin{enumerate*}\n",
       "\\item 17788\n",
       "\\item 527\n",
       "\\end{enumerate*}\n"
      ],
      "text/markdown": [
       "1. 17788\n",
       "2. 527\n",
       "\n",
       "\n"
      ],
      "text/plain": [
       "[1] 17788   527"
      ]
     },
     "metadata": {},
     "output_type": "display_data"
    },
    {
     "data": {
      "text/html": [
       "<table>\n",
       "<thead><tr><th scope=col>Name</th><th scope=col>Description</th><th scope=col>GSM158711</th><th scope=col>GSM158712</th><th scope=col>GSM158713</th><th scope=col>GSM158714</th><th scope=col>GSM158715</th><th scope=col>GSM158716</th><th scope=col>GSM158717</th><th scope=col>GSM158718</th><th scope=col>⋯</th><th scope=col>GSM361376</th><th scope=col>GSM361377</th><th scope=col>GSM361378</th><th scope=col>GSM361379</th><th scope=col>GSM361380</th><th scope=col>GSM361381</th><th scope=col>GSM361382</th><th scope=col>GSM361383</th><th scope=col>GSM361384</th><th scope=col>GSM361385</th></tr></thead>\n",
       "<tbody>\n",
       "\t<tr><td>10000_at                                                                      </td><td>AKT3 - v-akt murine thymoma viral oncogene homolog 3 (protein kinase B, gamma)</td><td> 74.31740                                                                     </td><td> 27.66245                                                                     </td><td> 67.347557                                                                    </td><td>102.07207                                                                     </td><td>101.63736                                                                     </td><td> 31.43173                                                                     </td><td> 74.90709                                                                     </td><td> 68.88680                                                                     </td><td>⋯                                                                             </td><td>120.70662                                                                     </td><td> 84.648495                                                                    </td><td>126.01600                                                                     </td><td>139.102372                                                                    </td><td> 43.22202                                                                     </td><td>236.683761                                                                    </td><td>210.127001                                                                    </td><td>220.16244                                                                     </td><td>104.87436                                                                     </td><td>147.47831                                                                     </td></tr>\n",
       "\t<tr><td>10001_at                                                                      </td><td>MED6 - mediator complex subunit 6                                             </td><td>660.56974                                                                     </td><td>536.18860                                                                     </td><td>449.100475                                                                    </td><td>314.06915                                                                     </td><td>856.60955                                                                     </td><td>708.81936                                                                     </td><td>433.50528                                                                     </td><td>528.43526                                                                     </td><td>⋯                                                                             </td><td>410.51695                                                                     </td><td>486.993564                                                                    </td><td>625.71842                                                                     </td><td>547.827207                                                                    </td><td>587.26037                                                                     </td><td>549.849441                                                                    </td><td>398.540223                                                                    </td><td>457.63892                                                                     </td><td>643.28077                                                                     </td><td>384.29063                                                                     </td></tr>\n",
       "\t<tr><td>10002_at                                                                      </td><td>NR2E3 - nuclear receptor subfamily 2, group E, member 3                       </td><td> 84.34185                                                                     </td><td> 56.78113                                                                     </td><td> 12.698228                                                                    </td><td> 45.26591                                                                     </td><td>174.51750                                                                     </td><td> 70.79560                                                                     </td><td> 82.05186                                                                     </td><td> 73.81927                                                                     </td><td>⋯                                                                             </td><td> 25.49023                                                                     </td><td> 54.557642                                                                    </td><td> 44.67979                                                                     </td><td> 49.459930                                                                    </td><td>113.59767                                                                     </td><td> 52.312650                                                                    </td><td> 83.311828                                                                    </td><td> 34.09275                                                                     </td><td>101.07508                                                                     </td><td> 52.96940                                                                     </td></tr>\n",
       "\t<tr><td>10003_at                                                                      </td><td>NAALAD2 - N-acetylated alpha-linked acidic dipeptidase 2                      </td><td>  5.86148                                                                     </td><td> 32.40837                                                                     </td><td>  8.429345                                                                    </td><td> 51.85005                                                                     </td><td> 76.56115                                                                     </td><td> 73.57939                                                                     </td><td> 13.53790                                                                     </td><td> 29.43585                                                                     </td><td>⋯                                                                             </td><td> 95.36241                                                                     </td><td>  6.910256                                                                    </td><td> 20.23578                                                                     </td><td>  8.776655                                                                    </td><td> 31.93541                                                                     </td><td>  4.049604                                                                    </td><td>  6.307205                                                                    </td><td> 20.37099                                                                     </td><td> 23.25961                                                                     </td><td> 40.27214                                                                     </td></tr>\n",
       "\t<tr><td>100048912_at                                                                  </td><td>CDKN2BAS - CDKN2B antisense RNA (non-protein coding)                          </td><td> 12.71641                                                                     </td><td> 22.27272                                                                     </td><td>  9.921546                                                                    </td><td> 23.98954                                                                     </td><td> 29.54436                                                                     </td><td> 31.35884                                                                     </td><td> 22.69185                                                                     </td><td> 18.98887                                                                     </td><td>⋯                                                                             </td><td> 56.69111                                                                     </td><td> 48.705325                                                                    </td><td> 22.59692                                                                     </td><td> 17.938633                                                                    </td><td> 81.94882                                                                     </td><td> 14.863483                                                                    </td><td> 21.384744                                                                    </td><td> 11.86531                                                                     </td><td> 24.07572                                                                     </td><td> 57.72122                                                                     </td></tr>\n",
       "\t<tr><td>100049716_at                                                                  </td><td>--- - hypothetical protein LOC100049716                                       </td><td>299.88601                                                                     </td><td>265.28552                                                                     </td><td>395.907775                                                                    </td><td>478.21075                                                                     </td><td>308.41479                                                                     </td><td>263.84549                                                                     </td><td>472.05668                                                                     </td><td>481.85199                                                                     </td><td>⋯                                                                             </td><td>477.76088                                                                     </td><td>284.719476                                                                    </td><td>394.36068                                                                     </td><td>367.214957                                                                    </td><td>451.12851                                                                     </td><td>476.677204                                                                    </td><td>433.073318                                                                    </td><td>370.91945                                                                     </td><td>504.94448                                                                     </td><td>395.67301                                                                     </td></tr>\n",
       "</tbody>\n",
       "</table>\n"
      ],
      "text/latex": [
       "\\begin{tabular}{r|lllllllllllllllllllllllllllllllllllllllllllllllllllllllllllllllllllllllllllllllllllllllllllllllllllllllllllllllllllllllllllllllllllllllllllllllllllllllllllllllllllllllllllllllllllllllllllllllllllllllllllllllllllllllllllllllllllllllllllllllllllllllllllllllllllllllllllllllllllllllllllllllllllllllllllllllllllllllllllllllllllllllllllllllllllllllllllllllllllllllllllllllllllllllllllllllllllllllllllllllllllllllllllllllllllllllllllllllllllllllllllllllllllllllllllllllllllllllllllllllllllllllllllllllllllllllllllllllllllllllllllllll}\n",
       " Name & Description & GSM158711 & GSM158712 & GSM158713 & GSM158714 & GSM158715 & GSM158716 & GSM158717 & GSM158718 & ⋯ & GSM361376 & GSM361377 & GSM361378 & GSM361379 & GSM361380 & GSM361381 & GSM361382 & GSM361383 & GSM361384 & GSM361385\\\\\n",
       "\\hline\n",
       "\t 10000\\_at                                                                     & AKT3 - v-akt murine thymoma viral oncogene homolog 3 (protein kinase B, gamma) &  74.31740                                                                      &  27.66245                                                                      &  67.347557                                                                     & 102.07207                                                                      & 101.63736                                                                      &  31.43173                                                                      &  74.90709                                                                      &  68.88680                                                                      & ⋯                                                                              & 120.70662                                                                      &  84.648495                                                                     & 126.01600                                                                      & 139.102372                                                                     &  43.22202                                                                      & 236.683761                                                                     & 210.127001                                                                     & 220.16244                                                                      & 104.87436                                                                      & 147.47831                                                                     \\\\\n",
       "\t 10001\\_at                                                                     & MED6 - mediator complex subunit 6                                              & 660.56974                                                                      & 536.18860                                                                      & 449.100475                                                                     & 314.06915                                                                      & 856.60955                                                                      & 708.81936                                                                      & 433.50528                                                                      & 528.43526                                                                      & ⋯                                                                              & 410.51695                                                                      & 486.993564                                                                     & 625.71842                                                                      & 547.827207                                                                     & 587.26037                                                                      & 549.849441                                                                     & 398.540223                                                                     & 457.63892                                                                      & 643.28077                                                                      & 384.29063                                                                     \\\\\n",
       "\t 10002\\_at                                                                     & NR2E3 - nuclear receptor subfamily 2, group E, member 3                        &  84.34185                                                                      &  56.78113                                                                      &  12.698228                                                                     &  45.26591                                                                      & 174.51750                                                                      &  70.79560                                                                      &  82.05186                                                                      &  73.81927                                                                      & ⋯                                                                              &  25.49023                                                                      &  54.557642                                                                     &  44.67979                                                                      &  49.459930                                                                     & 113.59767                                                                      &  52.312650                                                                     &  83.311828                                                                     &  34.09275                                                                      & 101.07508                                                                      &  52.96940                                                                     \\\\\n",
       "\t 10003\\_at                                                                     & NAALAD2 - N-acetylated alpha-linked acidic dipeptidase 2                       &   5.86148                                                                      &  32.40837                                                                      &   8.429345                                                                     &  51.85005                                                                      &  76.56115                                                                      &  73.57939                                                                      &  13.53790                                                                      &  29.43585                                                                      & ⋯                                                                              &  95.36241                                                                      &   6.910256                                                                     &  20.23578                                                                      &   8.776655                                                                     &  31.93541                                                                      &   4.049604                                                                     &   6.307205                                                                     &  20.37099                                                                      &  23.25961                                                                      &  40.27214                                                                     \\\\\n",
       "\t 100048912\\_at                                                                 & CDKN2BAS - CDKN2B antisense RNA (non-protein coding)                           &  12.71641                                                                      &  22.27272                                                                      &   9.921546                                                                     &  23.98954                                                                      &  29.54436                                                                      &  31.35884                                                                      &  22.69185                                                                      &  18.98887                                                                      & ⋯                                                                              &  56.69111                                                                      &  48.705325                                                                     &  22.59692                                                                      &  17.938633                                                                     &  81.94882                                                                      &  14.863483                                                                     &  21.384744                                                                     &  11.86531                                                                      &  24.07572                                                                      &  57.72122                                                                     \\\\\n",
       "\t 100049716\\_at                                                                 & --- - hypothetical protein LOC100049716                                        & 299.88601                                                                      & 265.28552                                                                      & 395.907775                                                                     & 478.21075                                                                      & 308.41479                                                                      & 263.84549                                                                      & 472.05668                                                                      & 481.85199                                                                      & ⋯                                                                              & 477.76088                                                                      & 284.719476                                                                     & 394.36068                                                                      & 367.214957                                                                     & 451.12851                                                                      & 476.677204                                                                     & 433.073318                                                                     & 370.91945                                                                      & 504.94448                                                                      & 395.67301                                                                     \\\\\n",
       "\\end{tabular}\n"
      ],
      "text/markdown": [
       "\n",
       "Name | Description | GSM158711 | GSM158712 | GSM158713 | GSM158714 | GSM158715 | GSM158716 | GSM158717 | GSM158718 | ⋯ | GSM361376 | GSM361377 | GSM361378 | GSM361379 | GSM361380 | GSM361381 | GSM361382 | GSM361383 | GSM361384 | GSM361385 | \n",
       "|---|---|---|---|---|---|\n",
       "| 10000_at                                                                       | AKT3 - v-akt murine thymoma viral oncogene homolog 3 (protein kinase B, gamma) |  74.31740                                                                      |  27.66245                                                                      |  67.347557                                                                     | 102.07207                                                                      | 101.63736                                                                      |  31.43173                                                                      |  74.90709                                                                      |  68.88680                                                                      | ⋯                                                                              | 120.70662                                                                      |  84.648495                                                                     | 126.01600                                                                      | 139.102372                                                                     |  43.22202                                                                      | 236.683761                                                                     | 210.127001                                                                     | 220.16244                                                                      | 104.87436                                                                      | 147.47831                                                                      | \n",
       "| 10001_at                                                                       | MED6 - mediator complex subunit 6                                              | 660.56974                                                                      | 536.18860                                                                      | 449.100475                                                                     | 314.06915                                                                      | 856.60955                                                                      | 708.81936                                                                      | 433.50528                                                                      | 528.43526                                                                      | ⋯                                                                              | 410.51695                                                                      | 486.993564                                                                     | 625.71842                                                                      | 547.827207                                                                     | 587.26037                                                                      | 549.849441                                                                     | 398.540223                                                                     | 457.63892                                                                      | 643.28077                                                                      | 384.29063                                                                      | \n",
       "| 10002_at                                                                       | NR2E3 - nuclear receptor subfamily 2, group E, member 3                        |  84.34185                                                                      |  56.78113                                                                      |  12.698228                                                                     |  45.26591                                                                      | 174.51750                                                                      |  70.79560                                                                      |  82.05186                                                                      |  73.81927                                                                      | ⋯                                                                              |  25.49023                                                                      |  54.557642                                                                     |  44.67979                                                                      |  49.459930                                                                     | 113.59767                                                                      |  52.312650                                                                     |  83.311828                                                                     |  34.09275                                                                      | 101.07508                                                                      |  52.96940                                                                      | \n",
       "| 10003_at                                                                       | NAALAD2 - N-acetylated alpha-linked acidic dipeptidase 2                       |   5.86148                                                                      |  32.40837                                                                      |   8.429345                                                                     |  51.85005                                                                      |  76.56115                                                                      |  73.57939                                                                      |  13.53790                                                                      |  29.43585                                                                      | ⋯                                                                              |  95.36241                                                                      |   6.910256                                                                     |  20.23578                                                                      |   8.776655                                                                     |  31.93541                                                                      |   4.049604                                                                     |   6.307205                                                                     |  20.37099                                                                      |  23.25961                                                                      |  40.27214                                                                      | \n",
       "| 100048912_at                                                                   | CDKN2BAS - CDKN2B antisense RNA (non-protein coding)                           |  12.71641                                                                      |  22.27272                                                                      |   9.921546                                                                     |  23.98954                                                                      |  29.54436                                                                      |  31.35884                                                                      |  22.69185                                                                      |  18.98887                                                                      | ⋯                                                                              |  56.69111                                                                      |  48.705325                                                                     |  22.59692                                                                      |  17.938633                                                                     |  81.94882                                                                      |  14.863483                                                                     |  21.384744                                                                     |  11.86531                                                                      |  24.07572                                                                      |  57.72122                                                                      | \n",
       "| 100049716_at                                                                   | --- - hypothetical protein LOC100049716                                        | 299.88601                                                                      | 265.28552                                                                      | 395.907775                                                                     | 478.21075                                                                      | 308.41479                                                                      | 263.84549                                                                      | 472.05668                                                                      | 481.85199                                                                      | ⋯                                                                              | 477.76088                                                                      | 284.719476                                                                     | 394.36068                                                                      | 367.214957                                                                     | 451.12851                                                                      | 476.677204                                                                     | 433.073318                                                                     | 370.91945                                                                      | 504.94448                                                                      | 395.67301                                                                      | \n",
       "\n",
       "\n"
      ],
      "text/plain": [
       "  Name        \n",
       "1 10000_at    \n",
       "2 10001_at    \n",
       "3 10002_at    \n",
       "4 10003_at    \n",
       "5 100048912_at\n",
       "6 100049716_at\n",
       "  Description                                                                   \n",
       "1 AKT3 - v-akt murine thymoma viral oncogene homolog 3 (protein kinase B, gamma)\n",
       "2 MED6 - mediator complex subunit 6                                             \n",
       "3 NR2E3 - nuclear receptor subfamily 2, group E, member 3                       \n",
       "4 NAALAD2 - N-acetylated alpha-linked acidic dipeptidase 2                      \n",
       "5 CDKN2BAS - CDKN2B antisense RNA (non-protein coding)                          \n",
       "6 --- - hypothetical protein LOC100049716                                       \n",
       "  GSM158711 GSM158712 GSM158713  GSM158714 GSM158715 GSM158716 GSM158717\n",
       "1  74.31740  27.66245  67.347557 102.07207 101.63736  31.43173  74.90709\n",
       "2 660.56974 536.18860 449.100475 314.06915 856.60955 708.81936 433.50528\n",
       "3  84.34185  56.78113  12.698228  45.26591 174.51750  70.79560  82.05186\n",
       "4   5.86148  32.40837   8.429345  51.85005  76.56115  73.57939  13.53790\n",
       "5  12.71641  22.27272   9.921546  23.98954  29.54436  31.35884  22.69185\n",
       "6 299.88601 265.28552 395.907775 478.21075 308.41479 263.84549 472.05668\n",
       "  GSM158718 ⋯ GSM361376 GSM361377  GSM361378 GSM361379  GSM361380 GSM361381 \n",
       "1  68.88680 ⋯ 120.70662  84.648495 126.01600 139.102372  43.22202 236.683761\n",
       "2 528.43526 ⋯ 410.51695 486.993564 625.71842 547.827207 587.26037 549.849441\n",
       "3  73.81927 ⋯  25.49023  54.557642  44.67979  49.459930 113.59767  52.312650\n",
       "4  29.43585 ⋯  95.36241   6.910256  20.23578   8.776655  31.93541   4.049604\n",
       "5  18.98887 ⋯  56.69111  48.705325  22.59692  17.938633  81.94882  14.863483\n",
       "6 481.85199 ⋯ 477.76088 284.719476 394.36068 367.214957 451.12851 476.677204\n",
       "  GSM361382  GSM361383 GSM361384 GSM361385\n",
       "1 210.127001 220.16244 104.87436 147.47831\n",
       "2 398.540223 457.63892 643.28077 384.29063\n",
       "3  83.311828  34.09275 101.07508  52.96940\n",
       "4   6.307205  20.37099  23.25961  40.27214\n",
       "5  21.384744  11.86531  24.07572  57.72122\n",
       "6 433.073318 370.91945 504.94448 395.67301"
      ]
     },
     "metadata": {},
     "output_type": "display_data"
    }
   ],
   "source": [
    "dim(GEP)\n",
    "head(GEP)"
   ]
  },
  {
   "cell_type": "code",
   "execution_count": 13,
   "metadata": {},
   "outputs": [
    {
     "data": {
      "text/html": [
       "<ol class=list-inline>\n",
       "\t<li>526</li>\n",
       "\t<li>12</li>\n",
       "</ol>\n"
      ],
      "text/latex": [
       "\\begin{enumerate*}\n",
       "\\item 526\n",
       "\\item 12\n",
       "\\end{enumerate*}\n"
      ],
      "text/markdown": [
       "1. 526\n",
       "2. 12\n",
       "\n",
       "\n"
      ],
      "text/plain": [
       "[1] 526  12"
      ]
     },
     "metadata": {},
     "output_type": "display_data"
    },
    {
     "data": {
      "text/html": [
       "<table>\n",
       "<thead><tr><th scope=col>Accession</th><th scope=col>Title</th><th scope=col>Sample.Type</th><th scope=col>Taxonomy</th><th scope=col>Channels</th><th scope=col>Platform</th><th scope=col>Series</th><th scope=col>Supplementary.Types</th><th scope=col>Supplementary.Links</th><th scope=col>SRA.Accession</th><th scope=col>Contact</th><th scope=col>Release.Date</th></tr></thead>\n",
       "<tbody>\n",
       "\t<tr><td>GSM158711                                                       </td><td>AML 2199                                                        </td><td>RNA                                                             </td><td>Homo sapiens                                                    </td><td>1                                                               </td><td>GPL570                                                          </td><td>GSE6891;GSE14468                                                </td><td>CEL                                                             </td><td>ftp://ftp.ncbi.nlm.nih.gov/geo/samples/GSM158nnn/GSM158711/suppl</td><td>NA                                                              </td><td>Roel Verhaak                                                    </td><td>Mar 12, 2008                                                    </td></tr>\n",
       "\t<tr><td>GSM158712                                                       </td><td>AML 2200                                                        </td><td>RNA                                                             </td><td>Homo sapiens                                                    </td><td>1                                                               </td><td>GPL570                                                          </td><td>GSE6891;GSE14468                                                </td><td>CEL                                                             </td><td>ftp://ftp.ncbi.nlm.nih.gov/geo/samples/GSM158nnn/GSM158712/suppl</td><td>NA                                                              </td><td>Roel Verhaak                                                    </td><td>Mar 12, 2008                                                    </td></tr>\n",
       "\t<tr><td>GSM158713                                                       </td><td>AML 2201                                                        </td><td>RNA                                                             </td><td>Homo sapiens                                                    </td><td>1                                                               </td><td>GPL570                                                          </td><td>GSE6891;GSE14468                                                </td><td>CEL                                                             </td><td>ftp://ftp.ncbi.nlm.nih.gov/geo/samples/GSM158nnn/GSM158713/suppl</td><td>NA                                                              </td><td>Roel Verhaak                                                    </td><td>Mar 12, 2008                                                    </td></tr>\n",
       "\t<tr><td>GSM158714                                                       </td><td>AML 2202                                                        </td><td>RNA                                                             </td><td>Homo sapiens                                                    </td><td>1                                                               </td><td>GPL570                                                          </td><td>GSE6891;GSE14468                                                </td><td>CEL                                                             </td><td>ftp://ftp.ncbi.nlm.nih.gov/geo/samples/GSM158nnn/GSM158714/suppl</td><td>NA                                                              </td><td>Roel Verhaak                                                    </td><td>Mar 12, 2008                                                    </td></tr>\n",
       "\t<tr><td>GSM158715                                                       </td><td>AML 2203                                                        </td><td>RNA                                                             </td><td>Homo sapiens                                                    </td><td>1                                                               </td><td>GPL570                                                          </td><td>GSE6891;GSE14468                                                </td><td>CEL                                                             </td><td>ftp://ftp.ncbi.nlm.nih.gov/geo/samples/GSM158nnn/GSM158715/suppl</td><td>NA                                                              </td><td>Roel Verhaak                                                    </td><td>Mar 12, 2008                                                    </td></tr>\n",
       "\t<tr><td>GSM158716                                                       </td><td>AML 2204                                                        </td><td>RNA                                                             </td><td>Homo sapiens                                                    </td><td>1                                                               </td><td>GPL570                                                          </td><td>GSE6891;GSE14468                                                </td><td>CEL                                                             </td><td>ftp://ftp.ncbi.nlm.nih.gov/geo/samples/GSM158nnn/GSM158716/suppl</td><td>NA                                                              </td><td>Roel Verhaak                                                    </td><td>Mar 12, 2008                                                    </td></tr>\n",
       "</tbody>\n",
       "</table>\n"
      ],
      "text/latex": [
       "\\begin{tabular}{r|llllllllllll}\n",
       " Accession & Title & Sample.Type & Taxonomy & Channels & Platform & Series & Supplementary.Types & Supplementary.Links & SRA.Accession & Contact & Release.Date\\\\\n",
       "\\hline\n",
       "\t GSM158711                                                        & AML 2199                                                         & RNA                                                              & Homo sapiens                                                     & 1                                                                & GPL570                                                           & GSE6891;GSE14468                                                 & CEL                                                              & ftp://ftp.ncbi.nlm.nih.gov/geo/samples/GSM158nnn/GSM158711/suppl & NA                                                               & Roel Verhaak                                                     & Mar 12, 2008                                                    \\\\\n",
       "\t GSM158712                                                        & AML 2200                                                         & RNA                                                              & Homo sapiens                                                     & 1                                                                & GPL570                                                           & GSE6891;GSE14468                                                 & CEL                                                              & ftp://ftp.ncbi.nlm.nih.gov/geo/samples/GSM158nnn/GSM158712/suppl & NA                                                               & Roel Verhaak                                                     & Mar 12, 2008                                                    \\\\\n",
       "\t GSM158713                                                        & AML 2201                                                         & RNA                                                              & Homo sapiens                                                     & 1                                                                & GPL570                                                           & GSE6891;GSE14468                                                 & CEL                                                              & ftp://ftp.ncbi.nlm.nih.gov/geo/samples/GSM158nnn/GSM158713/suppl & NA                                                               & Roel Verhaak                                                     & Mar 12, 2008                                                    \\\\\n",
       "\t GSM158714                                                        & AML 2202                                                         & RNA                                                              & Homo sapiens                                                     & 1                                                                & GPL570                                                           & GSE6891;GSE14468                                                 & CEL                                                              & ftp://ftp.ncbi.nlm.nih.gov/geo/samples/GSM158nnn/GSM158714/suppl & NA                                                               & Roel Verhaak                                                     & Mar 12, 2008                                                    \\\\\n",
       "\t GSM158715                                                        & AML 2203                                                         & RNA                                                              & Homo sapiens                                                     & 1                                                                & GPL570                                                           & GSE6891;GSE14468                                                 & CEL                                                              & ftp://ftp.ncbi.nlm.nih.gov/geo/samples/GSM158nnn/GSM158715/suppl & NA                                                               & Roel Verhaak                                                     & Mar 12, 2008                                                    \\\\\n",
       "\t GSM158716                                                        & AML 2204                                                         & RNA                                                              & Homo sapiens                                                     & 1                                                                & GPL570                                                           & GSE6891;GSE14468                                                 & CEL                                                              & ftp://ftp.ncbi.nlm.nih.gov/geo/samples/GSM158nnn/GSM158716/suppl & NA                                                               & Roel Verhaak                                                     & Mar 12, 2008                                                    \\\\\n",
       "\\end{tabular}\n"
      ],
      "text/markdown": [
       "\n",
       "Accession | Title | Sample.Type | Taxonomy | Channels | Platform | Series | Supplementary.Types | Supplementary.Links | SRA.Accession | Contact | Release.Date | \n",
       "|---|---|---|---|---|---|\n",
       "| GSM158711                                                        | AML 2199                                                         | RNA                                                              | Homo sapiens                                                     | 1                                                                | GPL570                                                           | GSE6891;GSE14468                                                 | CEL                                                              | ftp://ftp.ncbi.nlm.nih.gov/geo/samples/GSM158nnn/GSM158711/suppl | NA                                                               | Roel Verhaak                                                     | Mar 12, 2008                                                     | \n",
       "| GSM158712                                                        | AML 2200                                                         | RNA                                                              | Homo sapiens                                                     | 1                                                                | GPL570                                                           | GSE6891;GSE14468                                                 | CEL                                                              | ftp://ftp.ncbi.nlm.nih.gov/geo/samples/GSM158nnn/GSM158712/suppl | NA                                                               | Roel Verhaak                                                     | Mar 12, 2008                                                     | \n",
       "| GSM158713                                                        | AML 2201                                                         | RNA                                                              | Homo sapiens                                                     | 1                                                                | GPL570                                                           | GSE6891;GSE14468                                                 | CEL                                                              | ftp://ftp.ncbi.nlm.nih.gov/geo/samples/GSM158nnn/GSM158713/suppl | NA                                                               | Roel Verhaak                                                     | Mar 12, 2008                                                     | \n",
       "| GSM158714                                                        | AML 2202                                                         | RNA                                                              | Homo sapiens                                                     | 1                                                                | GPL570                                                           | GSE6891;GSE14468                                                 | CEL                                                              | ftp://ftp.ncbi.nlm.nih.gov/geo/samples/GSM158nnn/GSM158714/suppl | NA                                                               | Roel Verhaak                                                     | Mar 12, 2008                                                     | \n",
       "| GSM158715                                                        | AML 2203                                                         | RNA                                                              | Homo sapiens                                                     | 1                                                                | GPL570                                                           | GSE6891;GSE14468                                                 | CEL                                                              | ftp://ftp.ncbi.nlm.nih.gov/geo/samples/GSM158nnn/GSM158715/suppl | NA                                                               | Roel Verhaak                                                     | Mar 12, 2008                                                     | \n",
       "| GSM158716                                                        | AML 2204                                                         | RNA                                                              | Homo sapiens                                                     | 1                                                                | GPL570                                                           | GSE6891;GSE14468                                                 | CEL                                                              | ftp://ftp.ncbi.nlm.nih.gov/geo/samples/GSM158nnn/GSM158716/suppl | NA                                                               | Roel Verhaak                                                     | Mar 12, 2008                                                     | \n",
       "\n",
       "\n"
      ],
      "text/plain": [
       "  Accession Title    Sample.Type Taxonomy     Channels Platform\n",
       "1 GSM158711 AML 2199 RNA         Homo sapiens 1        GPL570  \n",
       "2 GSM158712 AML 2200 RNA         Homo sapiens 1        GPL570  \n",
       "3 GSM158713 AML 2201 RNA         Homo sapiens 1        GPL570  \n",
       "4 GSM158714 AML 2202 RNA         Homo sapiens 1        GPL570  \n",
       "5 GSM158715 AML 2203 RNA         Homo sapiens 1        GPL570  \n",
       "6 GSM158716 AML 2204 RNA         Homo sapiens 1        GPL570  \n",
       "  Series           Supplementary.Types\n",
       "1 GSE6891;GSE14468 CEL                \n",
       "2 GSE6891;GSE14468 CEL                \n",
       "3 GSE6891;GSE14468 CEL                \n",
       "4 GSE6891;GSE14468 CEL                \n",
       "5 GSE6891;GSE14468 CEL                \n",
       "6 GSE6891;GSE14468 CEL                \n",
       "  Supplementary.Links                                             \n",
       "1 ftp://ftp.ncbi.nlm.nih.gov/geo/samples/GSM158nnn/GSM158711/suppl\n",
       "2 ftp://ftp.ncbi.nlm.nih.gov/geo/samples/GSM158nnn/GSM158712/suppl\n",
       "3 ftp://ftp.ncbi.nlm.nih.gov/geo/samples/GSM158nnn/GSM158713/suppl\n",
       "4 ftp://ftp.ncbi.nlm.nih.gov/geo/samples/GSM158nnn/GSM158714/suppl\n",
       "5 ftp://ftp.ncbi.nlm.nih.gov/geo/samples/GSM158nnn/GSM158715/suppl\n",
       "6 ftp://ftp.ncbi.nlm.nih.gov/geo/samples/GSM158nnn/GSM158716/suppl\n",
       "  SRA.Accession Contact      Release.Date\n",
       "1 NA            Roel Verhaak Mar 12, 2008\n",
       "2 NA            Roel Verhaak Mar 12, 2008\n",
       "3 NA            Roel Verhaak Mar 12, 2008\n",
       "4 NA            Roel Verhaak Mar 12, 2008\n",
       "5 NA            Roel Verhaak Mar 12, 2008\n",
       "6 NA            Roel Verhaak Mar 12, 2008"
      ]
     },
     "metadata": {},
     "output_type": "display_data"
    }
   ],
   "source": [
    "patients.GEP <- read.csv('../data/Figueroa/data/GSE14468-samples.tsv', sep='\\t', header=T, stringsAsFactor=F)\n",
    "dim(patients.GEP)\n",
    "head(patients.GEP)"
   ]
  },
  {
   "cell_type": "code",
   "execution_count": 4,
   "metadata": {},
   "outputs": [],
   "source": [
    "methylation <- read.csv('../data/Figueroa/data/GSE18700.GPL6604.matrix.txt.gz', sep='\\t', header=T, stringsAsFactor=F)"
   ]
  },
  {
   "cell_type": "code",
   "execution_count": 5,
   "metadata": {},
   "outputs": [
    {
     "data": {
      "text/html": [
       "<ol class=list-inline>\n",
       "\t<li>25626</li>\n",
       "\t<li>354</li>\n",
       "</ol>\n"
      ],
      "text/latex": [
       "\\begin{enumerate*}\n",
       "\\item 25626\n",
       "\\item 354\n",
       "\\end{enumerate*}\n"
      ],
      "text/markdown": [
       "1. 25626\n",
       "2. 354\n",
       "\n",
       "\n"
      ],
      "text/plain": [
       "[1] 25626   354"
      ]
     },
     "metadata": {},
     "output_type": "display_data"
    },
    {
     "data": {
      "text/html": [
       "<table>\n",
       "<thead><tr><th scope=col>Gene</th><th scope=col>Name</th><th scope=col>GSM435212</th><th scope=col>GSM435213</th><th scope=col>GSM435214</th><th scope=col>GSM435215</th><th scope=col>GSM435216</th><th scope=col>GSM435217</th><th scope=col>GSM435218</th><th scope=col>GSM435219</th><th scope=col>⋯</th><th scope=col>GSM465071</th><th scope=col>GSM465072</th><th scope=col>GSM465073</th><th scope=col>GSM465074</th><th scope=col>GSM465075</th><th scope=col>GSM465076</th><th scope=col>GSM465077</th><th scope=col>GSM465078</th><th scope=col>GSM465079</th><th scope=col>GSM465080</th></tr></thead>\n",
       "<tbody>\n",
       "\t<tr><td>MSPI0406S00402708                                                 </td><td>NOS3 - Nitric oxide synthase 3 (endothelial cell)                 </td><td>-1.5435858                                                        </td><td>-1.9927805                                                        </td><td>-2.6182545                                                        </td><td>-1.9734185                                                        </td><td>-1.69126972                                                       </td><td>-1.5270996                                                        </td><td>-2.6033025                                                        </td><td>-1.9613277                                                        </td><td>⋯                                                                 </td><td>-0.9308402                                                        </td><td>-0.39071988                                                       </td><td> 1.4705148                                                        </td><td>-0.1123418                                                        </td><td>-0.75974425                                                       </td><td>-0.3106185                                                        </td><td>-0.04199065                                                       </td><td>-1.3589481                                                        </td><td> 0.08236676                                                       </td><td>-0.4086701                                                        </td></tr>\n",
       "\t<tr><td>MSPI0406S00519671                                                 </td><td>KIAA1279 - KIAA1279                                               </td><td> 2.7986425                                                        </td><td> 2.4458314                                                        </td><td> 2.3637038                                                        </td><td> 2.4906471                                                        </td><td> 3.30476871                                                       </td><td> 3.4725503                                                        </td><td> 2.6806072                                                        </td><td> 2.9486480                                                        </td><td>⋯                                                                 </td><td> 2.6655187                                                        </td><td> 1.89543792                                                       </td><td> 2.2892770                                                        </td><td> 1.7177463                                                        </td><td> 1.93997572                                                       </td><td> 3.0420744                                                        </td><td> 2.66983281                                                       </td><td> 1.3041287                                                        </td><td> 0.86456765                                                       </td><td> 3.1523175                                                        </td></tr>\n",
       "\t<tr><td>MSPI0406S00858517                                                 </td><td>PARD6G - Par-6 partitioning defective 6 homolog gamma (C. elegans)</td><td> 1.9386168                                                        </td><td> 1.2231326                                                        </td><td> 1.6089088                                                        </td><td> 1.7304681                                                        </td><td> 1.81150714                                                       </td><td> 1.8543282                                                        </td><td> 1.0139826                                                        </td><td> 1.1481689                                                        </td><td>⋯                                                                 </td><td> 0.8114212                                                        </td><td> 0.98455877                                                       </td><td> 1.8580655                                                        </td><td> 0.2725135                                                        </td><td> 0.84147639                                                       </td><td> 0.7509086                                                        </td><td> 2.30108666                                                       </td><td> 1.3870724                                                        </td><td>-0.42386623                                                       </td><td> 0.2380754                                                        </td></tr>\n",
       "\t<tr><td>MSPI0406S00058122                                                 </td><td>KIAA0907 - KIAA0907                                               </td><td> 2.1010968                                                        </td><td> 1.4938887                                                        </td><td> 1.8926294                                                        </td><td> 1.2216751                                                        </td><td> 2.41485860                                                       </td><td> 2.1999212                                                        </td><td> 1.2243916                                                        </td><td> 1.4001953                                                        </td><td>⋯                                                                 </td><td>-0.1677361                                                        </td><td>-0.26989875                                                       </td><td> 1.1661593                                                        </td><td> 2.3019684                                                        </td><td>-0.28678960                                                       </td><td> 2.8419221                                                        </td><td> 0.32796741                                                       </td><td>-1.3042202                                                        </td><td> 0.36110642                                                       </td><td> 0.3791958                                                        </td></tr>\n",
       "\t<tr><td>MSPI0406S00119436                                                 </td><td>NA - NA                                                           </td><td>-0.2127461                                                        </td><td>-0.2955873                                                        </td><td>-0.1941732                                                        </td><td>-0.5324045                                                        </td><td> 0.09050635                                                       </td><td> 0.2466707                                                        </td><td>-0.3793723                                                        </td><td>-0.3584139                                                        </td><td>⋯                                                                 </td><td>-0.3999473                                                        </td><td> 0.07364305                                                       </td><td>-0.3525465                                                        </td><td>-0.3501032                                                        </td><td>-0.05955012                                                       </td><td>-0.2637562                                                        </td><td> 0.25416316                                                       </td><td>-0.8776334                                                        </td><td>-0.83689244                                                       </td><td>-0.2503927                                                        </td></tr>\n",
       "\t<tr><td>MSPI0406S00529821                                                 </td><td>CCNJ - Cyclin J                                                   </td><td>-1.9267210                                                        </td><td>-2.1972188                                                        </td><td>-2.1430273                                                        </td><td>-2.2047811                                                        </td><td>-1.36240416                                                       </td><td>-1.2238181                                                        </td><td>-2.2036621                                                        </td><td>-2.1776796                                                        </td><td>⋯                                                                 </td><td>-1.6768246                                                        </td><td>-2.17767028                                                       </td><td>-1.0284440                                                        </td><td>-0.8228966                                                        </td><td>-1.88490524                                                       </td><td>-1.5559083                                                        </td><td>-0.56112514                                                       </td><td>-2.0837676                                                        </td><td>-1.99013127                                                       </td><td>-0.8817319                                                        </td></tr>\n",
       "</tbody>\n",
       "</table>\n"
      ],
      "text/latex": [
       "\\begin{tabular}{r|llllllllllllllllllllllllllllllllllllllllllllllllllllllllllllllllllllllllllllllllllllllllllllllllllllllllllllllllllllllllllllllllllllllllllllllllllllllllllllllllllllllllllllllllllllllllllllllllllllllllllllllllllllllllllllllllllllllllllllllllllllllllllllllllllllllllllllllllllllllllllllllllllllllllllllllllllllllllllllllllllllllllllllllllllllllllllllllllll}\n",
       " Gene & Name & GSM435212 & GSM435213 & GSM435214 & GSM435215 & GSM435216 & GSM435217 & GSM435218 & GSM435219 & ⋯ & GSM465071 & GSM465072 & GSM465073 & GSM465074 & GSM465075 & GSM465076 & GSM465077 & GSM465078 & GSM465079 & GSM465080\\\\\n",
       "\\hline\n",
       "\t MSPI0406S00402708                                                  & NOS3 - Nitric oxide synthase 3 (endothelial cell)                  & -1.5435858                                                         & -1.9927805                                                         & -2.6182545                                                         & -1.9734185                                                         & -1.69126972                                                        & -1.5270996                                                         & -2.6033025                                                         & -1.9613277                                                         & ⋯                                                                  & -0.9308402                                                         & -0.39071988                                                        &  1.4705148                                                         & -0.1123418                                                         & -0.75974425                                                        & -0.3106185                                                         & -0.04199065                                                        & -1.3589481                                                         &  0.08236676                                                        & -0.4086701                                                        \\\\\n",
       "\t MSPI0406S00519671                                                  & KIAA1279 - KIAA1279                                                &  2.7986425                                                         &  2.4458314                                                         &  2.3637038                                                         &  2.4906471                                                         &  3.30476871                                                        &  3.4725503                                                         &  2.6806072                                                         &  2.9486480                                                         & ⋯                                                                  &  2.6655187                                                         &  1.89543792                                                        &  2.2892770                                                         &  1.7177463                                                         &  1.93997572                                                        &  3.0420744                                                         &  2.66983281                                                        &  1.3041287                                                         &  0.86456765                                                        &  3.1523175                                                        \\\\\n",
       "\t MSPI0406S00858517                                                  & PARD6G - Par-6 partitioning defective 6 homolog gamma (C. elegans) &  1.9386168                                                         &  1.2231326                                                         &  1.6089088                                                         &  1.7304681                                                         &  1.81150714                                                        &  1.8543282                                                         &  1.0139826                                                         &  1.1481689                                                         & ⋯                                                                  &  0.8114212                                                         &  0.98455877                                                        &  1.8580655                                                         &  0.2725135                                                         &  0.84147639                                                        &  0.7509086                                                         &  2.30108666                                                        &  1.3870724                                                         & -0.42386623                                                        &  0.2380754                                                        \\\\\n",
       "\t MSPI0406S00058122                                                  & KIAA0907 - KIAA0907                                                &  2.1010968                                                         &  1.4938887                                                         &  1.8926294                                                         &  1.2216751                                                         &  2.41485860                                                        &  2.1999212                                                         &  1.2243916                                                         &  1.4001953                                                         & ⋯                                                                  & -0.1677361                                                         & -0.26989875                                                        &  1.1661593                                                         &  2.3019684                                                         & -0.28678960                                                        &  2.8419221                                                         &  0.32796741                                                        & -1.3042202                                                         &  0.36110642                                                        &  0.3791958                                                        \\\\\n",
       "\t MSPI0406S00119436                                                  & NA - NA                                                            & -0.2127461                                                         & -0.2955873                                                         & -0.1941732                                                         & -0.5324045                                                         &  0.09050635                                                        &  0.2466707                                                         & -0.3793723                                                         & -0.3584139                                                         & ⋯                                                                  & -0.3999473                                                         &  0.07364305                                                        & -0.3525465                                                         & -0.3501032                                                         & -0.05955012                                                        & -0.2637562                                                         &  0.25416316                                                        & -0.8776334                                                         & -0.83689244                                                        & -0.2503927                                                        \\\\\n",
       "\t MSPI0406S00529821                                                  & CCNJ - Cyclin J                                                    & -1.9267210                                                         & -2.1972188                                                         & -2.1430273                                                         & -2.2047811                                                         & -1.36240416                                                        & -1.2238181                                                         & -2.2036621                                                         & -2.1776796                                                         & ⋯                                                                  & -1.6768246                                                         & -2.17767028                                                        & -1.0284440                                                         & -0.8228966                                                         & -1.88490524                                                        & -1.5559083                                                         & -0.56112514                                                        & -2.0837676                                                         & -1.99013127                                                        & -0.8817319                                                        \\\\\n",
       "\\end{tabular}\n"
      ],
      "text/markdown": [
       "\n",
       "Gene | Name | GSM435212 | GSM435213 | GSM435214 | GSM435215 | GSM435216 | GSM435217 | GSM435218 | GSM435219 | ⋯ | GSM465071 | GSM465072 | GSM465073 | GSM465074 | GSM465075 | GSM465076 | GSM465077 | GSM465078 | GSM465079 | GSM465080 | \n",
       "|---|---|---|---|---|---|\n",
       "| MSPI0406S00402708                                                  | NOS3 - Nitric oxide synthase 3 (endothelial cell)                  | -1.5435858                                                         | -1.9927805                                                         | -2.6182545                                                         | -1.9734185                                                         | -1.69126972                                                        | -1.5270996                                                         | -2.6033025                                                         | -1.9613277                                                         | ⋯                                                                  | -0.9308402                                                         | -0.39071988                                                        |  1.4705148                                                         | -0.1123418                                                         | -0.75974425                                                        | -0.3106185                                                         | -0.04199065                                                        | -1.3589481                                                         |  0.08236676                                                        | -0.4086701                                                         | \n",
       "| MSPI0406S00519671                                                  | KIAA1279 - KIAA1279                                                |  2.7986425                                                         |  2.4458314                                                         |  2.3637038                                                         |  2.4906471                                                         |  3.30476871                                                        |  3.4725503                                                         |  2.6806072                                                         |  2.9486480                                                         | ⋯                                                                  |  2.6655187                                                         |  1.89543792                                                        |  2.2892770                                                         |  1.7177463                                                         |  1.93997572                                                        |  3.0420744                                                         |  2.66983281                                                        |  1.3041287                                                         |  0.86456765                                                        |  3.1523175                                                         | \n",
       "| MSPI0406S00858517                                                  | PARD6G - Par-6 partitioning defective 6 homolog gamma (C. elegans) |  1.9386168                                                         |  1.2231326                                                         |  1.6089088                                                         |  1.7304681                                                         |  1.81150714                                                        |  1.8543282                                                         |  1.0139826                                                         |  1.1481689                                                         | ⋯                                                                  |  0.8114212                                                         |  0.98455877                                                        |  1.8580655                                                         |  0.2725135                                                         |  0.84147639                                                        |  0.7509086                                                         |  2.30108666                                                        |  1.3870724                                                         | -0.42386623                                                        |  0.2380754                                                         | \n",
       "| MSPI0406S00058122                                                  | KIAA0907 - KIAA0907                                                |  2.1010968                                                         |  1.4938887                                                         |  1.8926294                                                         |  1.2216751                                                         |  2.41485860                                                        |  2.1999212                                                         |  1.2243916                                                         |  1.4001953                                                         | ⋯                                                                  | -0.1677361                                                         | -0.26989875                                                        |  1.1661593                                                         |  2.3019684                                                         | -0.28678960                                                        |  2.8419221                                                         |  0.32796741                                                        | -1.3042202                                                         |  0.36110642                                                        |  0.3791958                                                         | \n",
       "| MSPI0406S00119436                                                  | NA - NA                                                            | -0.2127461                                                         | -0.2955873                                                         | -0.1941732                                                         | -0.5324045                                                         |  0.09050635                                                        |  0.2466707                                                         | -0.3793723                                                         | -0.3584139                                                         | ⋯                                                                  | -0.3999473                                                         |  0.07364305                                                        | -0.3525465                                                         | -0.3501032                                                         | -0.05955012                                                        | -0.2637562                                                         |  0.25416316                                                        | -0.8776334                                                         | -0.83689244                                                        | -0.2503927                                                         | \n",
       "| MSPI0406S00529821                                                  | CCNJ - Cyclin J                                                    | -1.9267210                                                         | -2.1972188                                                         | -2.1430273                                                         | -2.2047811                                                         | -1.36240416                                                        | -1.2238181                                                         | -2.2036621                                                         | -2.1776796                                                         | ⋯                                                                  | -1.6768246                                                         | -2.17767028                                                        | -1.0284440                                                         | -0.8228966                                                         | -1.88490524                                                        | -1.5559083                                                         | -0.56112514                                                        | -2.0837676                                                         | -1.99013127                                                        | -0.8817319                                                         | \n",
       "\n",
       "\n"
      ],
      "text/plain": [
       "  Gene             \n",
       "1 MSPI0406S00402708\n",
       "2 MSPI0406S00519671\n",
       "3 MSPI0406S00858517\n",
       "4 MSPI0406S00058122\n",
       "5 MSPI0406S00119436\n",
       "6 MSPI0406S00529821\n",
       "  Name                                                               GSM435212 \n",
       "1 NOS3 - Nitric oxide synthase 3 (endothelial cell)                  -1.5435858\n",
       "2 KIAA1279 - KIAA1279                                                 2.7986425\n",
       "3 PARD6G - Par-6 partitioning defective 6 homolog gamma (C. elegans)  1.9386168\n",
       "4 KIAA0907 - KIAA0907                                                 2.1010968\n",
       "5 NA - NA                                                            -0.2127461\n",
       "6 CCNJ - Cyclin J                                                    -1.9267210\n",
       "  GSM435213  GSM435214  GSM435215  GSM435216   GSM435217  GSM435218  GSM435219 \n",
       "1 -1.9927805 -2.6182545 -1.9734185 -1.69126972 -1.5270996 -2.6033025 -1.9613277\n",
       "2  2.4458314  2.3637038  2.4906471  3.30476871  3.4725503  2.6806072  2.9486480\n",
       "3  1.2231326  1.6089088  1.7304681  1.81150714  1.8543282  1.0139826  1.1481689\n",
       "4  1.4938887  1.8926294  1.2216751  2.41485860  2.1999212  1.2243916  1.4001953\n",
       "5 -0.2955873 -0.1941732 -0.5324045  0.09050635  0.2466707 -0.3793723 -0.3584139\n",
       "6 -2.1972188 -2.1430273 -2.2047811 -1.36240416 -1.2238181 -2.2036621 -2.1776796\n",
       "  ⋯ GSM465071  GSM465072   GSM465073  GSM465074  GSM465075   GSM465076 \n",
       "1 ⋯ -0.9308402 -0.39071988  1.4705148 -0.1123418 -0.75974425 -0.3106185\n",
       "2 ⋯  2.6655187  1.89543792  2.2892770  1.7177463  1.93997572  3.0420744\n",
       "3 ⋯  0.8114212  0.98455877  1.8580655  0.2725135  0.84147639  0.7509086\n",
       "4 ⋯ -0.1677361 -0.26989875  1.1661593  2.3019684 -0.28678960  2.8419221\n",
       "5 ⋯ -0.3999473  0.07364305 -0.3525465 -0.3501032 -0.05955012 -0.2637562\n",
       "6 ⋯ -1.6768246 -2.17767028 -1.0284440 -0.8228966 -1.88490524 -1.5559083\n",
       "  GSM465077   GSM465078  GSM465079   GSM465080 \n",
       "1 -0.04199065 -1.3589481  0.08236676 -0.4086701\n",
       "2  2.66983281  1.3041287  0.86456765  3.1523175\n",
       "3  2.30108666  1.3870724 -0.42386623  0.2380754\n",
       "4  0.32796741 -1.3042202  0.36110642  0.3791958\n",
       "5  0.25416316 -0.8776334 -0.83689244 -0.2503927\n",
       "6 -0.56112514 -2.0837676 -1.99013127 -0.8817319"
      ]
     },
     "metadata": {},
     "output_type": "display_data"
    }
   ],
   "source": [
    "dim(methylation)\n",
    "head(methylation)"
   ]
  },
  {
   "cell_type": "code",
   "execution_count": 12,
   "metadata": {},
   "outputs": [
    {
     "data": {
      "text/html": [
       "<ol class=list-inline>\n",
       "\t<li>352</li>\n",
       "\t<li>12</li>\n",
       "</ol>\n"
      ],
      "text/latex": [
       "\\begin{enumerate*}\n",
       "\\item 352\n",
       "\\item 12\n",
       "\\end{enumerate*}\n"
      ],
      "text/markdown": [
       "1. 352\n",
       "2. 12\n",
       "\n",
       "\n"
      ],
      "text/plain": [
       "[1] 352  12"
      ]
     },
     "metadata": {},
     "output_type": "display_data"
    },
    {
     "data": {
      "text/html": [
       "<table>\n",
       "<thead><tr><th scope=col>Accession</th><th scope=col>Title</th><th scope=col>Sample.Type</th><th scope=col>Taxonomy</th><th scope=col>Channels</th><th scope=col>Platform</th><th scope=col>Series</th><th scope=col>Supplementary.Types</th><th scope=col>Supplementary.Links</th><th scope=col>SRA.Accession</th><th scope=col>Contact</th><th scope=col>Release.Date</th></tr></thead>\n",
       "<tbody>\n",
       "\t<tr><td>GSM464737                                                       </td><td>322                                                             </td><td>genomic                                                         </td><td>Homo sapiens                                                    </td><td>2                                                               </td><td>GPL6604                                                         </td><td>GSE18700                                                        </td><td>PAIR                                                            </td><td>ftp://ftp.ncbi.nlm.nih.gov/geo/samples/GSM464nnn/GSM464737/suppl</td><td>NA                                                              </td><td>Maria Eugenia Figueroa                                          </td><td>Jan 12, 2010                                                    </td></tr>\n",
       "\t<tr><td>GSM464738                                                       </td><td>1174                                                            </td><td>genomic                                                         </td><td>Homo sapiens                                                    </td><td>2                                                               </td><td>GPL6604                                                         </td><td>GSE18700                                                        </td><td>PAIR                                                            </td><td>ftp://ftp.ncbi.nlm.nih.gov/geo/samples/GSM464nnn/GSM464738/suppl</td><td>NA                                                              </td><td>Maria Eugenia Figueroa                                          </td><td>Jan 12, 2010                                                    </td></tr>\n",
       "\t<tr><td>GSM464739                                                       </td><td>1188                                                            </td><td>genomic                                                         </td><td>Homo sapiens                                                    </td><td>2                                                               </td><td>GPL6604                                                         </td><td>GSE18700                                                        </td><td>PAIR                                                            </td><td>ftp://ftp.ncbi.nlm.nih.gov/geo/samples/GSM464nnn/GSM464739/suppl</td><td>NA                                                              </td><td>Maria Eugenia Figueroa                                          </td><td>Jan 12, 2010                                                    </td></tr>\n",
       "\t<tr><td>GSM464740                                                       </td><td>1299                                                            </td><td>genomic                                                         </td><td>Homo sapiens                                                    </td><td>2                                                               </td><td>GPL6604                                                         </td><td>GSE18700                                                        </td><td>PAIR                                                            </td><td>ftp://ftp.ncbi.nlm.nih.gov/geo/samples/GSM464nnn/GSM464740/suppl</td><td>NA                                                              </td><td>Maria Eugenia Figueroa                                          </td><td>Jan 12, 2010                                                    </td></tr>\n",
       "\t<tr><td>GSM464741                                                       </td><td>1316                                                            </td><td>genomic                                                         </td><td>Homo sapiens                                                    </td><td>2                                                               </td><td>GPL6604                                                         </td><td>GSE18700                                                        </td><td>PAIR                                                            </td><td>ftp://ftp.ncbi.nlm.nih.gov/geo/samples/GSM464nnn/GSM464741/suppl</td><td>NA                                                              </td><td>Maria Eugenia Figueroa                                          </td><td>Jan 12, 2010                                                    </td></tr>\n",
       "\t<tr><td>GSM464742                                                       </td><td>1432                                                            </td><td>genomic                                                         </td><td>Homo sapiens                                                    </td><td>2                                                               </td><td>GPL6604                                                         </td><td>GSE18700                                                        </td><td>PAIR                                                            </td><td>ftp://ftp.ncbi.nlm.nih.gov/geo/samples/GSM464nnn/GSM464742/suppl</td><td>NA                                                              </td><td>Maria Eugenia Figueroa                                          </td><td>Jan 12, 2010                                                    </td></tr>\n",
       "</tbody>\n",
       "</table>\n"
      ],
      "text/latex": [
       "\\begin{tabular}{r|llllllllllll}\n",
       " Accession & Title & Sample.Type & Taxonomy & Channels & Platform & Series & Supplementary.Types & Supplementary.Links & SRA.Accession & Contact & Release.Date\\\\\n",
       "\\hline\n",
       "\t GSM464737                                                        & 322                                                              & genomic                                                          & Homo sapiens                                                     & 2                                                                & GPL6604                                                          & GSE18700                                                         & PAIR                                                             & ftp://ftp.ncbi.nlm.nih.gov/geo/samples/GSM464nnn/GSM464737/suppl & NA                                                               & Maria Eugenia Figueroa                                           & Jan 12, 2010                                                    \\\\\n",
       "\t GSM464738                                                        & 1174                                                             & genomic                                                          & Homo sapiens                                                     & 2                                                                & GPL6604                                                          & GSE18700                                                         & PAIR                                                             & ftp://ftp.ncbi.nlm.nih.gov/geo/samples/GSM464nnn/GSM464738/suppl & NA                                                               & Maria Eugenia Figueroa                                           & Jan 12, 2010                                                    \\\\\n",
       "\t GSM464739                                                        & 1188                                                             & genomic                                                          & Homo sapiens                                                     & 2                                                                & GPL6604                                                          & GSE18700                                                         & PAIR                                                             & ftp://ftp.ncbi.nlm.nih.gov/geo/samples/GSM464nnn/GSM464739/suppl & NA                                                               & Maria Eugenia Figueroa                                           & Jan 12, 2010                                                    \\\\\n",
       "\t GSM464740                                                        & 1299                                                             & genomic                                                          & Homo sapiens                                                     & 2                                                                & GPL6604                                                          & GSE18700                                                         & PAIR                                                             & ftp://ftp.ncbi.nlm.nih.gov/geo/samples/GSM464nnn/GSM464740/suppl & NA                                                               & Maria Eugenia Figueroa                                           & Jan 12, 2010                                                    \\\\\n",
       "\t GSM464741                                                        & 1316                                                             & genomic                                                          & Homo sapiens                                                     & 2                                                                & GPL6604                                                          & GSE18700                                                         & PAIR                                                             & ftp://ftp.ncbi.nlm.nih.gov/geo/samples/GSM464nnn/GSM464741/suppl & NA                                                               & Maria Eugenia Figueroa                                           & Jan 12, 2010                                                    \\\\\n",
       "\t GSM464742                                                        & 1432                                                             & genomic                                                          & Homo sapiens                                                     & 2                                                                & GPL6604                                                          & GSE18700                                                         & PAIR                                                             & ftp://ftp.ncbi.nlm.nih.gov/geo/samples/GSM464nnn/GSM464742/suppl & NA                                                               & Maria Eugenia Figueroa                                           & Jan 12, 2010                                                    \\\\\n",
       "\\end{tabular}\n"
      ],
      "text/markdown": [
       "\n",
       "Accession | Title | Sample.Type | Taxonomy | Channels | Platform | Series | Supplementary.Types | Supplementary.Links | SRA.Accession | Contact | Release.Date | \n",
       "|---|---|---|---|---|---|\n",
       "| GSM464737                                                        | 322                                                              | genomic                                                          | Homo sapiens                                                     | 2                                                                | GPL6604                                                          | GSE18700                                                         | PAIR                                                             | ftp://ftp.ncbi.nlm.nih.gov/geo/samples/GSM464nnn/GSM464737/suppl | NA                                                               | Maria Eugenia Figueroa                                           | Jan 12, 2010                                                     | \n",
       "| GSM464738                                                        | 1174                                                             | genomic                                                          | Homo sapiens                                                     | 2                                                                | GPL6604                                                          | GSE18700                                                         | PAIR                                                             | ftp://ftp.ncbi.nlm.nih.gov/geo/samples/GSM464nnn/GSM464738/suppl | NA                                                               | Maria Eugenia Figueroa                                           | Jan 12, 2010                                                     | \n",
       "| GSM464739                                                        | 1188                                                             | genomic                                                          | Homo sapiens                                                     | 2                                                                | GPL6604                                                          | GSE18700                                                         | PAIR                                                             | ftp://ftp.ncbi.nlm.nih.gov/geo/samples/GSM464nnn/GSM464739/suppl | NA                                                               | Maria Eugenia Figueroa                                           | Jan 12, 2010                                                     | \n",
       "| GSM464740                                                        | 1299                                                             | genomic                                                          | Homo sapiens                                                     | 2                                                                | GPL6604                                                          | GSE18700                                                         | PAIR                                                             | ftp://ftp.ncbi.nlm.nih.gov/geo/samples/GSM464nnn/GSM464740/suppl | NA                                                               | Maria Eugenia Figueroa                                           | Jan 12, 2010                                                     | \n",
       "| GSM464741                                                        | 1316                                                             | genomic                                                          | Homo sapiens                                                     | 2                                                                | GPL6604                                                          | GSE18700                                                         | PAIR                                                             | ftp://ftp.ncbi.nlm.nih.gov/geo/samples/GSM464nnn/GSM464741/suppl | NA                                                               | Maria Eugenia Figueroa                                           | Jan 12, 2010                                                     | \n",
       "| GSM464742                                                        | 1432                                                             | genomic                                                          | Homo sapiens                                                     | 2                                                                | GPL6604                                                          | GSE18700                                                         | PAIR                                                             | ftp://ftp.ncbi.nlm.nih.gov/geo/samples/GSM464nnn/GSM464742/suppl | NA                                                               | Maria Eugenia Figueroa                                           | Jan 12, 2010                                                     | \n",
       "\n",
       "\n"
      ],
      "text/plain": [
       "  Accession Title Sample.Type Taxonomy     Channels Platform Series  \n",
       "1 GSM464737 322   genomic     Homo sapiens 2        GPL6604  GSE18700\n",
       "2 GSM464738 1174  genomic     Homo sapiens 2        GPL6604  GSE18700\n",
       "3 GSM464739 1188  genomic     Homo sapiens 2        GPL6604  GSE18700\n",
       "4 GSM464740 1299  genomic     Homo sapiens 2        GPL6604  GSE18700\n",
       "5 GSM464741 1316  genomic     Homo sapiens 2        GPL6604  GSE18700\n",
       "6 GSM464742 1432  genomic     Homo sapiens 2        GPL6604  GSE18700\n",
       "  Supplementary.Types\n",
       "1 PAIR               \n",
       "2 PAIR               \n",
       "3 PAIR               \n",
       "4 PAIR               \n",
       "5 PAIR               \n",
       "6 PAIR               \n",
       "  Supplementary.Links                                             \n",
       "1 ftp://ftp.ncbi.nlm.nih.gov/geo/samples/GSM464nnn/GSM464737/suppl\n",
       "2 ftp://ftp.ncbi.nlm.nih.gov/geo/samples/GSM464nnn/GSM464738/suppl\n",
       "3 ftp://ftp.ncbi.nlm.nih.gov/geo/samples/GSM464nnn/GSM464739/suppl\n",
       "4 ftp://ftp.ncbi.nlm.nih.gov/geo/samples/GSM464nnn/GSM464740/suppl\n",
       "5 ftp://ftp.ncbi.nlm.nih.gov/geo/samples/GSM464nnn/GSM464741/suppl\n",
       "6 ftp://ftp.ncbi.nlm.nih.gov/geo/samples/GSM464nnn/GSM464742/suppl\n",
       "  SRA.Accession Contact                Release.Date\n",
       "1 NA            Maria Eugenia Figueroa Jan 12, 2010\n",
       "2 NA            Maria Eugenia Figueroa Jan 12, 2010\n",
       "3 NA            Maria Eugenia Figueroa Jan 12, 2010\n",
       "4 NA            Maria Eugenia Figueroa Jan 12, 2010\n",
       "5 NA            Maria Eugenia Figueroa Jan 12, 2010\n",
       "6 NA            Maria Eugenia Figueroa Jan 12, 2010"
      ]
     },
     "metadata": {},
     "output_type": "display_data"
    }
   ],
   "source": [
    "patients.methylation <- read.csv('../data/Figueroa/data//GSE18700-samples.tsv', sep='\\t', header=T, stringsAsFactor=F)\n",
    "dim(patients.methylation)\n",
    "head(patients.methylation)"
   ]
  },
  {
   "cell_type": "markdown",
   "metadata": {},
   "source": [
    "## Mapping between GEP (14468) to methylation (18700)"
   ]
  },
  {
   "cell_type": "code",
   "execution_count": 32,
   "metadata": {},
   "outputs": [
    {
     "data": {
      "text/html": [
       "344"
      ],
      "text/latex": [
       "344"
      ],
      "text/markdown": [
       "344"
      ],
      "text/plain": [
       "[1] 344"
      ]
     },
     "metadata": {},
     "output_type": "display_data"
    }
   ],
   "source": [
    "preprocessTitle <- function(x) {\n",
    "    ifelse(grepl('AML', x, fixed=T), substr(x, 5, nchar(x)), x)\n",
    "}\n",
    "PreprocessTitle <- Vectorize(preprocessTitle)\n",
    "patients.titleGEP <- hashmap(PreprocessTitle(patients.GEP$Title), patients.GEP$Accession)\n",
    "patients.titleMethylation <- hashmap(patients.methylation$Title, patients.methylation$Accession)\n",
    "intersectTitles <- intersect(PreprocessTitle(patients.GEP$Title), patients.methylation$Title)\n",
    "\n",
    "length(intersectTitles) # get 344 AML cases as in Figueroa et al. 2009"
   ]
  },
  {
   "cell_type": "code",
   "execution_count": 38,
   "metadata": {},
   "outputs": [
    {
     "data": {
      "text/plain": [
       "## (character) => (character)\n",
       "## [GSM158776] => [GSM464750]\n",
       "## [GSM158779] => [GSM464752]\n",
       "## [GSM158778] => [GSM464751]\n",
       "## [GSM158773] => [GSM464747]\n",
       "## [GSM158775] => [GSM464749]\n",
       "## [GSM158774] => [GSM464748]\n",
       "##       [...] => [...]      "
      ]
     },
     "metadata": {},
     "output_type": "display_data"
    }
   ],
   "source": [
    "GEP2Methylation <- hashmap(patients.titleGEP[[intersectTitles]], patients.titleMethylation[[intersectTitles]])\n",
    "GEP2Methylation"
   ]
  },
  {
   "cell_type": "markdown",
   "metadata": {},
   "source": [
    "## Subset the methylation and GEP data set"
   ]
  },
  {
   "cell_type": "code",
   "execution_count": 44,
   "metadata": {},
   "outputs": [],
   "source": [
    "GEP.names <- GEP2Methylation[[colnames(GEP)]]"
   ]
  },
  {
   "cell_type": "code",
   "execution_count": 54,
   "metadata": {},
   "outputs": [],
   "source": [
    "GEP.names.filtered <- na.omit(GEP.names)\n",
    "omit.idx <- is.na(GEP.names)\n",
    "omit.idx[c(1,2)] <- F"
   ]
  },
  {
   "cell_type": "code",
   "execution_count": 55,
   "metadata": {},
   "outputs": [],
   "source": [
    "GEP.filtered <- GEP[,!omit.idx]"
   ]
  },
  {
   "cell_type": "code",
   "execution_count": 56,
   "metadata": {},
   "outputs": [],
   "source": [
    "colnames(GEP.filtered) <- c('Name', 'Description', GEP.names.filtered)"
   ]
  },
  {
   "cell_type": "code",
   "execution_count": 58,
   "metadata": {},
   "outputs": [
    {
     "data": {
      "text/html": [
       "<table>\n",
       "<thead><tr><th scope=col>Name</th><th scope=col>Description</th><th scope=col>GSM464771</th><th scope=col>GSM464772</th><th scope=col>GSM464773</th><th scope=col>GSM464774</th><th scope=col>GSM464775</th><th scope=col>GSM464776</th><th scope=col>GSM464777</th><th scope=col>GSM464778</th><th scope=col>⋯</th><th scope=col>GSM465020</th><th scope=col>GSM465024</th><th scope=col>GSM465026</th><th scope=col>GSM465030</th><th scope=col>GSM465060</th><th scope=col>GSM465061</th><th scope=col>GSM465062</th><th scope=col>GSM465063</th><th scope=col>GSM465064</th><th scope=col>GSM465065</th></tr></thead>\n",
       "<tbody>\n",
       "\t<tr><td>10000_at                                                                      </td><td>AKT3 - v-akt murine thymoma viral oncogene homolog 3 (protein kinase B, gamma)</td><td> 74.31740                                                                     </td><td> 27.66245                                                                     </td><td>102.07207                                                                     </td><td>101.63736                                                                     </td><td> 31.43173                                                                     </td><td> 74.90709                                                                     </td><td> 68.88680                                                                     </td><td>114.403609                                                                    </td><td>⋯                                                                             </td><td>106.803302                                                                    </td><td>207.452783                                                                    </td><td>120.70662                                                                     </td><td> 84.648495                                                                    </td><td>139.102372                                                                    </td><td> 43.22202                                                                     </td><td>236.683761                                                                    </td><td>210.127001                                                                    </td><td>220.16244                                                                     </td><td>147.47831                                                                     </td></tr>\n",
       "\t<tr><td>10001_at                                                                      </td><td>MED6 - mediator complex subunit 6                                             </td><td>660.56974                                                                     </td><td>536.18860                                                                     </td><td>314.06915                                                                     </td><td>856.60955                                                                     </td><td>708.81936                                                                     </td><td>433.50528                                                                     </td><td>528.43526                                                                     </td><td>448.259500                                                                    </td><td>⋯                                                                             </td><td>406.981439                                                                    </td><td>586.143017                                                                    </td><td>410.51695                                                                     </td><td>486.993564                                                                    </td><td>547.827207                                                                    </td><td>587.26037                                                                     </td><td>549.849441                                                                    </td><td>398.540223                                                                    </td><td>457.63892                                                                     </td><td>384.29063                                                                     </td></tr>\n",
       "\t<tr><td>10002_at                                                                      </td><td>NR2E3 - nuclear receptor subfamily 2, group E, member 3                       </td><td> 84.34185                                                                     </td><td> 56.78113                                                                     </td><td> 45.26591                                                                     </td><td>174.51750                                                                     </td><td> 70.79560                                                                     </td><td> 82.05186                                                                     </td><td> 73.81927                                                                     </td><td>142.904371                                                                    </td><td>⋯                                                                             </td><td> 75.138066                                                                    </td><td> 71.230441                                                                    </td><td> 25.49023                                                                     </td><td> 54.557642                                                                    </td><td> 49.459930                                                                    </td><td>113.59767                                                                     </td><td> 52.312650                                                                    </td><td> 83.311828                                                                    </td><td> 34.09275                                                                     </td><td> 52.96940                                                                     </td></tr>\n",
       "\t<tr><td>10003_at                                                                      </td><td>NAALAD2 - N-acetylated alpha-linked acidic dipeptidase 2                      </td><td>  5.86148                                                                     </td><td> 32.40837                                                                     </td><td> 51.85005                                                                     </td><td> 76.56115                                                                     </td><td> 73.57939                                                                     </td><td> 13.53790                                                                     </td><td> 29.43585                                                                     </td><td>  8.635934                                                                    </td><td>⋯                                                                             </td><td>  6.783521                                                                    </td><td>  8.134337                                                                    </td><td> 95.36241                                                                     </td><td>  6.910256                                                                    </td><td>  8.776655                                                                    </td><td> 31.93541                                                                     </td><td>  4.049604                                                                    </td><td>  6.307205                                                                    </td><td> 20.37099                                                                     </td><td> 40.27214                                                                     </td></tr>\n",
       "\t<tr><td>100048912_at                                                                  </td><td>CDKN2BAS - CDKN2B antisense RNA (non-protein coding)                          </td><td> 12.71641                                                                     </td><td> 22.27272                                                                     </td><td> 23.98954                                                                     </td><td> 29.54436                                                                     </td><td> 31.35884                                                                     </td><td> 22.69185                                                                     </td><td> 18.98887                                                                     </td><td> 23.015576                                                                    </td><td>⋯                                                                             </td><td> 11.820467                                                                    </td><td> 28.308667                                                                    </td><td> 56.69111                                                                     </td><td> 48.705325                                                                    </td><td> 17.938633                                                                    </td><td> 81.94882                                                                     </td><td> 14.863483                                                                    </td><td> 21.384744                                                                    </td><td> 11.86531                                                                     </td><td> 57.72122                                                                     </td></tr>\n",
       "\t<tr><td>100049716_at                                                                  </td><td>--- - hypothetical protein LOC100049716                                       </td><td>299.88601                                                                     </td><td>265.28552                                                                     </td><td>478.21075                                                                     </td><td>308.41479                                                                     </td><td>263.84549                                                                     </td><td>472.05668                                                                     </td><td>481.85199                                                                     </td><td>250.774280                                                                    </td><td>⋯                                                                             </td><td>625.654443                                                                    </td><td>254.955755                                                                    </td><td>477.76088                                                                     </td><td>284.719476                                                                    </td><td>367.214957                                                                    </td><td>451.12851                                                                     </td><td>476.677204                                                                    </td><td>433.073318                                                                    </td><td>370.91945                                                                     </td><td>395.67301                                                                     </td></tr>\n",
       "</tbody>\n",
       "</table>\n"
      ],
      "text/latex": [
       "\\begin{tabular}{r|llllllllllllllllllllllllllllllllllllllllllllllllllllllllllllllllllllllllllllllllllllllllllllllllllllllllllllllllllllllllllllllllllllllllllllllllllllllllllllllllllllllllllllllllllllllllllllllllllllllllllllllllllllllllllllllllllllllllllllllllllllllllllllllllllllllllllllllllllllllllllllllllllllllllllllllllllllllllllllllllllllllllllllllllllllllllll}\n",
       " Name & Description & GSM464771 & GSM464772 & GSM464773 & GSM464774 & GSM464775 & GSM464776 & GSM464777 & GSM464778 & ⋯ & GSM465020 & GSM465024 & GSM465026 & GSM465030 & GSM465060 & GSM465061 & GSM465062 & GSM465063 & GSM465064 & GSM465065\\\\\n",
       "\\hline\n",
       "\t 10000\\_at                                                                     & AKT3 - v-akt murine thymoma viral oncogene homolog 3 (protein kinase B, gamma) &  74.31740                                                                      &  27.66245                                                                      & 102.07207                                                                      & 101.63736                                                                      &  31.43173                                                                      &  74.90709                                                                      &  68.88680                                                                      & 114.403609                                                                     & ⋯                                                                              & 106.803302                                                                     & 207.452783                                                                     & 120.70662                                                                      &  84.648495                                                                     & 139.102372                                                                     &  43.22202                                                                      & 236.683761                                                                     & 210.127001                                                                     & 220.16244                                                                      & 147.47831                                                                     \\\\\n",
       "\t 10001\\_at                                                                     & MED6 - mediator complex subunit 6                                              & 660.56974                                                                      & 536.18860                                                                      & 314.06915                                                                      & 856.60955                                                                      & 708.81936                                                                      & 433.50528                                                                      & 528.43526                                                                      & 448.259500                                                                     & ⋯                                                                              & 406.981439                                                                     & 586.143017                                                                     & 410.51695                                                                      & 486.993564                                                                     & 547.827207                                                                     & 587.26037                                                                      & 549.849441                                                                     & 398.540223                                                                     & 457.63892                                                                      & 384.29063                                                                     \\\\\n",
       "\t 10002\\_at                                                                     & NR2E3 - nuclear receptor subfamily 2, group E, member 3                        &  84.34185                                                                      &  56.78113                                                                      &  45.26591                                                                      & 174.51750                                                                      &  70.79560                                                                      &  82.05186                                                                      &  73.81927                                                                      & 142.904371                                                                     & ⋯                                                                              &  75.138066                                                                     &  71.230441                                                                     &  25.49023                                                                      &  54.557642                                                                     &  49.459930                                                                     & 113.59767                                                                      &  52.312650                                                                     &  83.311828                                                                     &  34.09275                                                                      &  52.96940                                                                     \\\\\n",
       "\t 10003\\_at                                                                     & NAALAD2 - N-acetylated alpha-linked acidic dipeptidase 2                       &   5.86148                                                                      &  32.40837                                                                      &  51.85005                                                                      &  76.56115                                                                      &  73.57939                                                                      &  13.53790                                                                      &  29.43585                                                                      &   8.635934                                                                     & ⋯                                                                              &   6.783521                                                                     &   8.134337                                                                     &  95.36241                                                                      &   6.910256                                                                     &   8.776655                                                                     &  31.93541                                                                      &   4.049604                                                                     &   6.307205                                                                     &  20.37099                                                                      &  40.27214                                                                     \\\\\n",
       "\t 100048912\\_at                                                                 & CDKN2BAS - CDKN2B antisense RNA (non-protein coding)                           &  12.71641                                                                      &  22.27272                                                                      &  23.98954                                                                      &  29.54436                                                                      &  31.35884                                                                      &  22.69185                                                                      &  18.98887                                                                      &  23.015576                                                                     & ⋯                                                                              &  11.820467                                                                     &  28.308667                                                                     &  56.69111                                                                      &  48.705325                                                                     &  17.938633                                                                     &  81.94882                                                                      &  14.863483                                                                     &  21.384744                                                                     &  11.86531                                                                      &  57.72122                                                                     \\\\\n",
       "\t 100049716\\_at                                                                 & --- - hypothetical protein LOC100049716                                        & 299.88601                                                                      & 265.28552                                                                      & 478.21075                                                                      & 308.41479                                                                      & 263.84549                                                                      & 472.05668                                                                      & 481.85199                                                                      & 250.774280                                                                     & ⋯                                                                              & 625.654443                                                                     & 254.955755                                                                     & 477.76088                                                                      & 284.719476                                                                     & 367.214957                                                                     & 451.12851                                                                      & 476.677204                                                                     & 433.073318                                                                     & 370.91945                                                                      & 395.67301                                                                     \\\\\n",
       "\\end{tabular}\n"
      ],
      "text/markdown": [
       "\n",
       "Name | Description | GSM464771 | GSM464772 | GSM464773 | GSM464774 | GSM464775 | GSM464776 | GSM464777 | GSM464778 | ⋯ | GSM465020 | GSM465024 | GSM465026 | GSM465030 | GSM465060 | GSM465061 | GSM465062 | GSM465063 | GSM465064 | GSM465065 | \n",
       "|---|---|---|---|---|---|\n",
       "| 10000_at                                                                       | AKT3 - v-akt murine thymoma viral oncogene homolog 3 (protein kinase B, gamma) |  74.31740                                                                      |  27.66245                                                                      | 102.07207                                                                      | 101.63736                                                                      |  31.43173                                                                      |  74.90709                                                                      |  68.88680                                                                      | 114.403609                                                                     | ⋯                                                                              | 106.803302                                                                     | 207.452783                                                                     | 120.70662                                                                      |  84.648495                                                                     | 139.102372                                                                     |  43.22202                                                                      | 236.683761                                                                     | 210.127001                                                                     | 220.16244                                                                      | 147.47831                                                                      | \n",
       "| 10001_at                                                                       | MED6 - mediator complex subunit 6                                              | 660.56974                                                                      | 536.18860                                                                      | 314.06915                                                                      | 856.60955                                                                      | 708.81936                                                                      | 433.50528                                                                      | 528.43526                                                                      | 448.259500                                                                     | ⋯                                                                              | 406.981439                                                                     | 586.143017                                                                     | 410.51695                                                                      | 486.993564                                                                     | 547.827207                                                                     | 587.26037                                                                      | 549.849441                                                                     | 398.540223                                                                     | 457.63892                                                                      | 384.29063                                                                      | \n",
       "| 10002_at                                                                       | NR2E3 - nuclear receptor subfamily 2, group E, member 3                        |  84.34185                                                                      |  56.78113                                                                      |  45.26591                                                                      | 174.51750                                                                      |  70.79560                                                                      |  82.05186                                                                      |  73.81927                                                                      | 142.904371                                                                     | ⋯                                                                              |  75.138066                                                                     |  71.230441                                                                     |  25.49023                                                                      |  54.557642                                                                     |  49.459930                                                                     | 113.59767                                                                      |  52.312650                                                                     |  83.311828                                                                     |  34.09275                                                                      |  52.96940                                                                      | \n",
       "| 10003_at                                                                       | NAALAD2 - N-acetylated alpha-linked acidic dipeptidase 2                       |   5.86148                                                                      |  32.40837                                                                      |  51.85005                                                                      |  76.56115                                                                      |  73.57939                                                                      |  13.53790                                                                      |  29.43585                                                                      |   8.635934                                                                     | ⋯                                                                              |   6.783521                                                                     |   8.134337                                                                     |  95.36241                                                                      |   6.910256                                                                     |   8.776655                                                                     |  31.93541                                                                      |   4.049604                                                                     |   6.307205                                                                     |  20.37099                                                                      |  40.27214                                                                      | \n",
       "| 100048912_at                                                                   | CDKN2BAS - CDKN2B antisense RNA (non-protein coding)                           |  12.71641                                                                      |  22.27272                                                                      |  23.98954                                                                      |  29.54436                                                                      |  31.35884                                                                      |  22.69185                                                                      |  18.98887                                                                      |  23.015576                                                                     | ⋯                                                                              |  11.820467                                                                     |  28.308667                                                                     |  56.69111                                                                      |  48.705325                                                                     |  17.938633                                                                     |  81.94882                                                                      |  14.863483                                                                     |  21.384744                                                                     |  11.86531                                                                      |  57.72122                                                                      | \n",
       "| 100049716_at                                                                   | --- - hypothetical protein LOC100049716                                        | 299.88601                                                                      | 265.28552                                                                      | 478.21075                                                                      | 308.41479                                                                      | 263.84549                                                                      | 472.05668                                                                      | 481.85199                                                                      | 250.774280                                                                     | ⋯                                                                              | 625.654443                                                                     | 254.955755                                                                     | 477.76088                                                                      | 284.719476                                                                     | 367.214957                                                                     | 451.12851                                                                      | 476.677204                                                                     | 433.073318                                                                     | 370.91945                                                                      | 395.67301                                                                      | \n",
       "\n",
       "\n"
      ],
      "text/plain": [
       "  Name        \n",
       "1 10000_at    \n",
       "2 10001_at    \n",
       "3 10002_at    \n",
       "4 10003_at    \n",
       "5 100048912_at\n",
       "6 100049716_at\n",
       "  Description                                                                   \n",
       "1 AKT3 - v-akt murine thymoma viral oncogene homolog 3 (protein kinase B, gamma)\n",
       "2 MED6 - mediator complex subunit 6                                             \n",
       "3 NR2E3 - nuclear receptor subfamily 2, group E, member 3                       \n",
       "4 NAALAD2 - N-acetylated alpha-linked acidic dipeptidase 2                      \n",
       "5 CDKN2BAS - CDKN2B antisense RNA (non-protein coding)                          \n",
       "6 --- - hypothetical protein LOC100049716                                       \n",
       "  GSM464771 GSM464772 GSM464773 GSM464774 GSM464775 GSM464776 GSM464777\n",
       "1  74.31740  27.66245 102.07207 101.63736  31.43173  74.90709  68.88680\n",
       "2 660.56974 536.18860 314.06915 856.60955 708.81936 433.50528 528.43526\n",
       "3  84.34185  56.78113  45.26591 174.51750  70.79560  82.05186  73.81927\n",
       "4   5.86148  32.40837  51.85005  76.56115  73.57939  13.53790  29.43585\n",
       "5  12.71641  22.27272  23.98954  29.54436  31.35884  22.69185  18.98887\n",
       "6 299.88601 265.28552 478.21075 308.41479 263.84549 472.05668 481.85199\n",
       "  GSM464778  ⋯ GSM465020  GSM465024  GSM465026 GSM465030  GSM465060  GSM465061\n",
       "1 114.403609 ⋯ 106.803302 207.452783 120.70662  84.648495 139.102372  43.22202\n",
       "2 448.259500 ⋯ 406.981439 586.143017 410.51695 486.993564 547.827207 587.26037\n",
       "3 142.904371 ⋯  75.138066  71.230441  25.49023  54.557642  49.459930 113.59767\n",
       "4   8.635934 ⋯   6.783521   8.134337  95.36241   6.910256   8.776655  31.93541\n",
       "5  23.015576 ⋯  11.820467  28.308667  56.69111  48.705325  17.938633  81.94882\n",
       "6 250.774280 ⋯ 625.654443 254.955755 477.76088 284.719476 367.214957 451.12851\n",
       "  GSM465062  GSM465063  GSM465064 GSM465065\n",
       "1 236.683761 210.127001 220.16244 147.47831\n",
       "2 549.849441 398.540223 457.63892 384.29063\n",
       "3  52.312650  83.311828  34.09275  52.96940\n",
       "4   4.049604   6.307205  20.37099  40.27214\n",
       "5  14.863483  21.384744  11.86531  57.72122\n",
       "6 476.677204 433.073318 370.91945 395.67301"
      ]
     },
     "metadata": {},
     "output_type": "display_data"
    },
    {
     "data": {
      "text/html": [
       "<ol class=list-inline>\n",
       "\t<li>17788</li>\n",
       "\t<li>346</li>\n",
       "</ol>\n"
      ],
      "text/latex": [
       "\\begin{enumerate*}\n",
       "\\item 17788\n",
       "\\item 346\n",
       "\\end{enumerate*}\n"
      ],
      "text/markdown": [
       "1. 17788\n",
       "2. 346\n",
       "\n",
       "\n"
      ],
      "text/plain": [
       "[1] 17788   346"
      ]
     },
     "metadata": {},
     "output_type": "display_data"
    }
   ],
   "source": [
    "head(GEP.filtered)\n",
    "dim(GEP.filtered)"
   ]
  },
  {
   "cell_type": "code",
   "execution_count": 78,
   "metadata": {},
   "outputs": [
    {
     "data": {
      "text/html": [
       "0"
      ],
      "text/latex": [
       "0"
      ],
      "text/markdown": [
       "0"
      ],
      "text/plain": [
       "[1] 0"
      ]
     },
     "metadata": {},
     "output_type": "display_data"
    }
   ],
   "source": [
    "sum(is.na(GEP.filtered))"
   ]
  },
  {
   "cell_type": "code",
   "execution_count": 75,
   "metadata": {},
   "outputs": [],
   "source": [
    "findColumnIdx <- function(x) {\n",
    "    which(colnames(methylation) %in% x)\n",
    "}\n",
    "FindColumnIdx <- Vectorize(findColumnIdx)"
   ]
  },
  {
   "cell_type": "code",
   "execution_count": 76,
   "metadata": {},
   "outputs": [
    {
     "data": {
      "text/html": [
       "<table>\n",
       "<thead><tr><th scope=col>Gene</th><th scope=col>Name</th><th scope=col>GSM464771</th><th scope=col>GSM464772</th><th scope=col>GSM464773</th><th scope=col>GSM464774</th><th scope=col>GSM464775</th><th scope=col>GSM464776</th><th scope=col>GSM464777</th><th scope=col>GSM464778</th><th scope=col>⋯</th><th scope=col>GSM465020</th><th scope=col>GSM465024</th><th scope=col>GSM465026</th><th scope=col>GSM465030</th><th scope=col>GSM465060</th><th scope=col>GSM465061</th><th scope=col>GSM465062</th><th scope=col>GSM465063</th><th scope=col>GSM465064</th><th scope=col>GSM465065</th></tr></thead>\n",
       "<tbody>\n",
       "\t<tr><td>MSPI0406S00402708                                                 </td><td>NOS3 - Nitric oxide synthase 3 (endothelial cell)                 </td><td>-1.3147684                                                        </td><td>-0.5629360                                                        </td><td>-1.7048943                                                        </td><td> 0.3056685                                                        </td><td>-1.4696092                                                        </td><td> 1.5246939                                                        </td><td> 0.02468921                                                       </td><td>-0.02486799                                                       </td><td>⋯                                                                 </td><td>-1.16072636                                                       </td><td>-0.3174757                                                        </td><td>-1.2944380                                                        </td><td>-0.3388840                                                        </td><td>-1.1180039                                                        </td><td> 0.89367873                                                       </td><td>-1.3842954                                                        </td><td>-0.6716157                                                        </td><td> 0.5345794                                                        </td><td> 0.08037697                                                       </td></tr>\n",
       "\t<tr><td>MSPI0406S00519671                                                 </td><td>KIAA1279 - KIAA1279                                               </td><td> 2.8507955                                                        </td><td> 1.0682617                                                        </td><td> 1.8469177                                                        </td><td> 1.9675782                                                        </td><td> 1.3614195                                                        </td><td> 2.6233542                                                        </td><td> 2.13396343                                                       </td><td> 4.11175224                                                       </td><td>⋯                                                                 </td><td> 2.83781800                                                       </td><td> 1.8297567                                                        </td><td> 3.4490415                                                        </td><td> 3.6720635                                                        </td><td> 2.3150181                                                        </td><td> 2.45463764                                                       </td><td> 1.4218559                                                        </td><td> 2.5848064                                                        </td><td> 1.4915783                                                        </td><td> 1.15726762                                                       </td></tr>\n",
       "\t<tr><td>MSPI0406S00858517                                                 </td><td>PARD6G - Par-6 partitioning defective 6 homolog gamma (C. elegans)</td><td> 0.6687586                                                        </td><td> 0.4048923                                                        </td><td> 1.7913150                                                        </td><td> 0.9674711                                                        </td><td>-1.8156339                                                        </td><td> 1.6442515                                                        </td><td> 0.32125761                                                       </td><td> 2.06788784                                                       </td><td>⋯                                                                 </td><td>-0.58188132                                                       </td><td>-0.4907295                                                        </td><td> 3.1224335                                                        </td><td> 3.0003623                                                        </td><td> 0.4376672                                                        </td><td> 2.44244356                                                       </td><td> 1.4506365                                                        </td><td> 2.4799181                                                        </td><td> 1.3620136                                                        </td><td>-0.06456265                                                       </td></tr>\n",
       "\t<tr><td>MSPI0406S00058122                                                 </td><td>KIAA0907 - KIAA0907                                               </td><td> 2.0505397                                                        </td><td> 1.4817065                                                        </td><td>-0.4151739                                                        </td><td>-1.7909133                                                        </td><td>-0.4834199                                                        </td><td>-0.3264914                                                        </td><td> 0.61962983                                                       </td><td> 3.10289553                                                       </td><td>⋯                                                                 </td><td> 0.04688256                                                       </td><td>-0.6831568                                                        </td><td>-0.4510115                                                        </td><td> 3.1288223                                                        </td><td> 0.5067000                                                        </td><td> 0.62038341                                                       </td><td>-0.6570391                                                        </td><td> 0.2071706                                                        </td><td>-1.1137356                                                        </td><td>-0.81803031                                                       </td></tr>\n",
       "\t<tr><td>MSPI0406S00119436                                                 </td><td>NA - NA                                                           </td><td>-0.3350500                                                        </td><td>-0.1546812                                                        </td><td>-0.1342071                                                        </td><td>-0.9558677                                                        </td><td>-0.3869965                                                        </td><td>-0.3335348                                                        </td><td>-0.16773208                                                       </td><td>-0.25878557                                                       </td><td>⋯                                                                 </td><td>-0.26687435                                                       </td><td>-0.7000626                                                        </td><td>-0.3411185                                                        </td><td>-0.2424519                                                        </td><td>-0.6045007                                                        </td><td>-0.08251822                                                       </td><td>-0.7825063                                                        </td><td>-0.6353012                                                        </td><td>-1.0562565                                                        </td><td>-0.45875969                                                       </td></tr>\n",
       "\t<tr><td>MSPI0406S00529821                                                 </td><td>CCNJ - Cyclin J                                                   </td><td>-1.4401736                                                        </td><td>-1.4461696                                                        </td><td>-1.1203388                                                        </td><td>-1.5287089                                                        </td><td>-2.6302894                                                        </td><td>-1.1915056                                                        </td><td>-2.23733195                                                       </td><td>-1.72724550                                                       </td><td>⋯                                                                 </td><td>-1.21607094                                                       </td><td>-2.9942374                                                        </td><td>-1.8292535                                                        </td><td>-2.2071685                                                        </td><td>-2.2005827                                                        </td><td>-1.82187329                                                       </td><td>-2.7131745                                                        </td><td>-1.7934447                                                        </td><td>-3.1464344                                                        </td><td>-2.60651030                                                       </td></tr>\n",
       "</tbody>\n",
       "</table>\n"
      ],
      "text/latex": [
       "\\begin{tabular}{r|llllllllllllllllllllllllllllllllllllllllllllllllllllllllllllllllllllllllllllllllllllllllllllllllllllllllllllllllllllllllllllllllllllllllllllllllllllllllllllllllllllllllllllllllllllllllllllllllllllllllllllllllllllllllllllllllllllllllllllllllllllllllllllllllllllllllllllllllllllllllllllllllllllllllllllllllllllllllllllllllllllllllllllllllllllllllll}\n",
       " Gene & Name & GSM464771 & GSM464772 & GSM464773 & GSM464774 & GSM464775 & GSM464776 & GSM464777 & GSM464778 & ⋯ & GSM465020 & GSM465024 & GSM465026 & GSM465030 & GSM465060 & GSM465061 & GSM465062 & GSM465063 & GSM465064 & GSM465065\\\\\n",
       "\\hline\n",
       "\t MSPI0406S00402708                                                  & NOS3 - Nitric oxide synthase 3 (endothelial cell)                  & -1.3147684                                                         & -0.5629360                                                         & -1.7048943                                                         &  0.3056685                                                         & -1.4696092                                                         &  1.5246939                                                         &  0.02468921                                                        & -0.02486799                                                        & ⋯                                                                  & -1.16072636                                                        & -0.3174757                                                         & -1.2944380                                                         & -0.3388840                                                         & -1.1180039                                                         &  0.89367873                                                        & -1.3842954                                                         & -0.6716157                                                         &  0.5345794                                                         &  0.08037697                                                       \\\\\n",
       "\t MSPI0406S00519671                                                  & KIAA1279 - KIAA1279                                                &  2.8507955                                                         &  1.0682617                                                         &  1.8469177                                                         &  1.9675782                                                         &  1.3614195                                                         &  2.6233542                                                         &  2.13396343                                                        &  4.11175224                                                        & ⋯                                                                  &  2.83781800                                                        &  1.8297567                                                         &  3.4490415                                                         &  3.6720635                                                         &  2.3150181                                                         &  2.45463764                                                        &  1.4218559                                                         &  2.5848064                                                         &  1.4915783                                                         &  1.15726762                                                       \\\\\n",
       "\t MSPI0406S00858517                                                  & PARD6G - Par-6 partitioning defective 6 homolog gamma (C. elegans) &  0.6687586                                                         &  0.4048923                                                         &  1.7913150                                                         &  0.9674711                                                         & -1.8156339                                                         &  1.6442515                                                         &  0.32125761                                                        &  2.06788784                                                        & ⋯                                                                  & -0.58188132                                                        & -0.4907295                                                         &  3.1224335                                                         &  3.0003623                                                         &  0.4376672                                                         &  2.44244356                                                        &  1.4506365                                                         &  2.4799181                                                         &  1.3620136                                                         & -0.06456265                                                       \\\\\n",
       "\t MSPI0406S00058122                                                  & KIAA0907 - KIAA0907                                                &  2.0505397                                                         &  1.4817065                                                         & -0.4151739                                                         & -1.7909133                                                         & -0.4834199                                                         & -0.3264914                                                         &  0.61962983                                                        &  3.10289553                                                        & ⋯                                                                  &  0.04688256                                                        & -0.6831568                                                         & -0.4510115                                                         &  3.1288223                                                         &  0.5067000                                                         &  0.62038341                                                        & -0.6570391                                                         &  0.2071706                                                         & -1.1137356                                                         & -0.81803031                                                       \\\\\n",
       "\t MSPI0406S00119436                                                  & NA - NA                                                            & -0.3350500                                                         & -0.1546812                                                         & -0.1342071                                                         & -0.9558677                                                         & -0.3869965                                                         & -0.3335348                                                         & -0.16773208                                                        & -0.25878557                                                        & ⋯                                                                  & -0.26687435                                                        & -0.7000626                                                         & -0.3411185                                                         & -0.2424519                                                         & -0.6045007                                                         & -0.08251822                                                        & -0.7825063                                                         & -0.6353012                                                         & -1.0562565                                                         & -0.45875969                                                       \\\\\n",
       "\t MSPI0406S00529821                                                  & CCNJ - Cyclin J                                                    & -1.4401736                                                         & -1.4461696                                                         & -1.1203388                                                         & -1.5287089                                                         & -2.6302894                                                         & -1.1915056                                                         & -2.23733195                                                        & -1.72724550                                                        & ⋯                                                                  & -1.21607094                                                        & -2.9942374                                                         & -1.8292535                                                         & -2.2071685                                                         & -2.2005827                                                         & -1.82187329                                                        & -2.7131745                                                         & -1.7934447                                                         & -3.1464344                                                         & -2.60651030                                                       \\\\\n",
       "\\end{tabular}\n"
      ],
      "text/markdown": [
       "\n",
       "Gene | Name | GSM464771 | GSM464772 | GSM464773 | GSM464774 | GSM464775 | GSM464776 | GSM464777 | GSM464778 | ⋯ | GSM465020 | GSM465024 | GSM465026 | GSM465030 | GSM465060 | GSM465061 | GSM465062 | GSM465063 | GSM465064 | GSM465065 | \n",
       "|---|---|---|---|---|---|\n",
       "| MSPI0406S00402708                                                  | NOS3 - Nitric oxide synthase 3 (endothelial cell)                  | -1.3147684                                                         | -0.5629360                                                         | -1.7048943                                                         |  0.3056685                                                         | -1.4696092                                                         |  1.5246939                                                         |  0.02468921                                                        | -0.02486799                                                        | ⋯                                                                  | -1.16072636                                                        | -0.3174757                                                         | -1.2944380                                                         | -0.3388840                                                         | -1.1180039                                                         |  0.89367873                                                        | -1.3842954                                                         | -0.6716157                                                         |  0.5345794                                                         |  0.08037697                                                        | \n",
       "| MSPI0406S00519671                                                  | KIAA1279 - KIAA1279                                                |  2.8507955                                                         |  1.0682617                                                         |  1.8469177                                                         |  1.9675782                                                         |  1.3614195                                                         |  2.6233542                                                         |  2.13396343                                                        |  4.11175224                                                        | ⋯                                                                  |  2.83781800                                                        |  1.8297567                                                         |  3.4490415                                                         |  3.6720635                                                         |  2.3150181                                                         |  2.45463764                                                        |  1.4218559                                                         |  2.5848064                                                         |  1.4915783                                                         |  1.15726762                                                        | \n",
       "| MSPI0406S00858517                                                  | PARD6G - Par-6 partitioning defective 6 homolog gamma (C. elegans) |  0.6687586                                                         |  0.4048923                                                         |  1.7913150                                                         |  0.9674711                                                         | -1.8156339                                                         |  1.6442515                                                         |  0.32125761                                                        |  2.06788784                                                        | ⋯                                                                  | -0.58188132                                                        | -0.4907295                                                         |  3.1224335                                                         |  3.0003623                                                         |  0.4376672                                                         |  2.44244356                                                        |  1.4506365                                                         |  2.4799181                                                         |  1.3620136                                                         | -0.06456265                                                        | \n",
       "| MSPI0406S00058122                                                  | KIAA0907 - KIAA0907                                                |  2.0505397                                                         |  1.4817065                                                         | -0.4151739                                                         | -1.7909133                                                         | -0.4834199                                                         | -0.3264914                                                         |  0.61962983                                                        |  3.10289553                                                        | ⋯                                                                  |  0.04688256                                                        | -0.6831568                                                         | -0.4510115                                                         |  3.1288223                                                         |  0.5067000                                                         |  0.62038341                                                        | -0.6570391                                                         |  0.2071706                                                         | -1.1137356                                                         | -0.81803031                                                        | \n",
       "| MSPI0406S00119436                                                  | NA - NA                                                            | -0.3350500                                                         | -0.1546812                                                         | -0.1342071                                                         | -0.9558677                                                         | -0.3869965                                                         | -0.3335348                                                         | -0.16773208                                                        | -0.25878557                                                        | ⋯                                                                  | -0.26687435                                                        | -0.7000626                                                         | -0.3411185                                                         | -0.2424519                                                         | -0.6045007                                                         | -0.08251822                                                        | -0.7825063                                                         | -0.6353012                                                         | -1.0562565                                                         | -0.45875969                                                        | \n",
       "| MSPI0406S00529821                                                  | CCNJ - Cyclin J                                                    | -1.4401736                                                         | -1.4461696                                                         | -1.1203388                                                         | -1.5287089                                                         | -2.6302894                                                         | -1.1915056                                                         | -2.23733195                                                        | -1.72724550                                                        | ⋯                                                                  | -1.21607094                                                        | -2.9942374                                                         | -1.8292535                                                         | -2.2071685                                                         | -2.2005827                                                         | -1.82187329                                                        | -2.7131745                                                         | -1.7934447                                                         | -3.1464344                                                         | -2.60651030                                                        | \n",
       "\n",
       "\n"
      ],
      "text/plain": [
       "  Gene             \n",
       "1 MSPI0406S00402708\n",
       "2 MSPI0406S00519671\n",
       "3 MSPI0406S00858517\n",
       "4 MSPI0406S00058122\n",
       "5 MSPI0406S00119436\n",
       "6 MSPI0406S00529821\n",
       "  Name                                                               GSM464771 \n",
       "1 NOS3 - Nitric oxide synthase 3 (endothelial cell)                  -1.3147684\n",
       "2 KIAA1279 - KIAA1279                                                 2.8507955\n",
       "3 PARD6G - Par-6 partitioning defective 6 homolog gamma (C. elegans)  0.6687586\n",
       "4 KIAA0907 - KIAA0907                                                 2.0505397\n",
       "5 NA - NA                                                            -0.3350500\n",
       "6 CCNJ - Cyclin J                                                    -1.4401736\n",
       "  GSM464772  GSM464773  GSM464774  GSM464775  GSM464776  GSM464777  \n",
       "1 -0.5629360 -1.7048943  0.3056685 -1.4696092  1.5246939  0.02468921\n",
       "2  1.0682617  1.8469177  1.9675782  1.3614195  2.6233542  2.13396343\n",
       "3  0.4048923  1.7913150  0.9674711 -1.8156339  1.6442515  0.32125761\n",
       "4  1.4817065 -0.4151739 -1.7909133 -0.4834199 -0.3264914  0.61962983\n",
       "5 -0.1546812 -0.1342071 -0.9558677 -0.3869965 -0.3335348 -0.16773208\n",
       "6 -1.4461696 -1.1203388 -1.5287089 -2.6302894 -1.1915056 -2.23733195\n",
       "  GSM464778   ⋯ GSM465020   GSM465024  GSM465026  GSM465030  GSM465060 \n",
       "1 -0.02486799 ⋯ -1.16072636 -0.3174757 -1.2944380 -0.3388840 -1.1180039\n",
       "2  4.11175224 ⋯  2.83781800  1.8297567  3.4490415  3.6720635  2.3150181\n",
       "3  2.06788784 ⋯ -0.58188132 -0.4907295  3.1224335  3.0003623  0.4376672\n",
       "4  3.10289553 ⋯  0.04688256 -0.6831568 -0.4510115  3.1288223  0.5067000\n",
       "5 -0.25878557 ⋯ -0.26687435 -0.7000626 -0.3411185 -0.2424519 -0.6045007\n",
       "6 -1.72724550 ⋯ -1.21607094 -2.9942374 -1.8292535 -2.2071685 -2.2005827\n",
       "  GSM465061   GSM465062  GSM465063  GSM465064  GSM465065  \n",
       "1  0.89367873 -1.3842954 -0.6716157  0.5345794  0.08037697\n",
       "2  2.45463764  1.4218559  2.5848064  1.4915783  1.15726762\n",
       "3  2.44244356  1.4506365  2.4799181  1.3620136 -0.06456265\n",
       "4  0.62038341 -0.6570391  0.2071706 -1.1137356 -0.81803031\n",
       "5 -0.08251822 -0.7825063 -0.6353012 -1.0562565 -0.45875969\n",
       "6 -1.82187329 -2.7131745 -1.7934447 -3.1464344 -2.60651030"
      ]
     },
     "metadata": {},
     "output_type": "display_data"
    },
    {
     "data": {
      "text/html": [
       "<ol class=list-inline>\n",
       "\t<li>25626</li>\n",
       "\t<li>346</li>\n",
       "</ol>\n"
      ],
      "text/latex": [
       "\\begin{enumerate*}\n",
       "\\item 25626\n",
       "\\item 346\n",
       "\\end{enumerate*}\n"
      ],
      "text/markdown": [
       "1. 25626\n",
       "2. 346\n",
       "\n",
       "\n"
      ],
      "text/plain": [
       "[1] 25626   346"
      ]
     },
     "metadata": {},
     "output_type": "display_data"
    }
   ],
   "source": [
    "column.idx <- c(1, 2, na.omit(as.numeric(FindColumnIdx(colnames(GEP.filtered)[-c(1,2)]))))\n",
    "methylation.filtered <- methylation[, column.idx]\n",
    "head(methylation.filtered)\n",
    "dim(methylation.filtered)"
   ]
  },
  {
   "cell_type": "code",
   "execution_count": 77,
   "metadata": {},
   "outputs": [
    {
     "data": {
      "text/html": [
       "0"
      ],
      "text/latex": [
       "0"
      ],
      "text/markdown": [
       "0"
      ],
      "text/plain": [
       "[1] 0"
      ]
     },
     "metadata": {},
     "output_type": "display_data"
    }
   ],
   "source": [
    "sum(is.na(methylation.filtered))"
   ]
  },
  {
   "cell_type": "code",
   "execution_count": 79,
   "metadata": {},
   "outputs": [],
   "source": [
    "write.table(methylation.filtered, file='../data/Figueroa/data/methylation-filtered.tsv', sep='\\t', quote=F, \n",
    "           col.names=T, row.names=F)"
   ]
  },
  {
   "cell_type": "code",
   "execution_count": 80,
   "metadata": {},
   "outputs": [],
   "source": [
    "write.table(GEP.filtered, file='../data/Figueroa/data/GEP-filtered.tsv', sep='\\t', quote=F, \n",
    "           col.names=T, row.names=F)"
   ]
  }
 ],
 "metadata": {
  "kernelspec": {
   "display_name": "R",
   "language": "R",
   "name": "ir"
  },
  "language_info": {
   "codemirror_mode": "r",
   "file_extension": ".r",
   "mimetype": "text/x-r-source",
   "name": "R",
   "pygments_lexer": "r",
   "version": "3.4.4"
  }
 },
 "nbformat": 4,
 "nbformat_minor": 2
}
