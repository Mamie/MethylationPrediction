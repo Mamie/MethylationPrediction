{
 "cells": [
  {
   "cell_type": "markdown",
   "metadata": {},
   "source": [
    "# Figueroa LAML HM450 probes clustering analysis"
   ]
  },
  {
   "cell_type": "markdown",
   "metadata": {},
   "source": [
    "Load subset of probes filtered from Figueroa paper and display the heatmap"
   ]
  },
  {
   "cell_type": "code",
   "execution_count": 3,
   "metadata": {},
   "outputs": [
    {
     "name": "stderr",
     "output_type": "stream",
     "text": [
      "Loading required package: Matrix\n",
      "Loading required package: foreach\n",
      "Loaded glmnet 2.0-13\n",
      "\n",
      "Loading required package: grid\n",
      "========================================\n",
      "ComplexHeatmap version 1.17.1\n",
      "Bioconductor page: http://bioconductor.org/packages/ComplexHeatmap/\n",
      "Github page: https://github.com/jokergoo/ComplexHeatmap\n",
      "Documentation: http://bioconductor.org/packages/ComplexHeatmap/\n",
      "\n",
      "If you use it in published research, please cite:\n",
      "Gu, Z. Complex heatmaps reveal patterns and correlations in multidimensional \n",
      "  genomic data. Bioinformatics 2016.\n",
      "========================================\n",
      "\n"
     ]
    }
   ],
   "source": [
    "library(pheatmap)\n",
    "library(RColorBrewer)\n",
    "library(viridis)\n",
    "library(dplyr)\n",
    "source(\"../R/regressionModel/regressionModel.R\")"
   ]
  },
  {
   "cell_type": "code",
   "execution_count": null,
   "metadata": {},
   "outputs": [],
   "source": [
    "Figueroa.HM450 <- read.csv('../data/LAML/processed/HM450-imputed-matched.tsv', sep='\\t', stringsAsFactor=F, header=F)\n",
    "HM450 <- data.matrix(Figueroa.HM450[-1,-1])\n",
    "rownames(HM450) <- Figueroa.HM450[-1,1]\n",
    "colnames(HM450) <- Figueroa.HM450[1,-dim(Figueroa.HM450)[2]]\n",
    "head(HM450)\n",
    "dim(HM450)"
   ]
  },
  {
   "cell_type": "markdown",
   "metadata": {},
   "source": [
    "## try different number of clusters and xx probes are the best\n",
    "see if the results are similar as on HM27 array (which has 1470 probes) ? compare with lasso"
   ]
  },
  {
   "cell_type": "code",
   "execution_count": null,
   "metadata": {},
   "outputs": [],
   "source": [
    "n = "
   ]
  },
  {
   "cell_type": "code",
   "execution_count": null,
   "metadata": {},
   "outputs": [],
   "source": [
    "options(repr.plot.width=8, repr.plot.height=12)\n",
    "\n",
    "res <- pheatmap(\n",
    "  mat               = HM450,\n",
    "  color             = inferno(10),\n",
    "  border_color      = NA,\n",
    "  show_colnames     = FALSE,\n",
    "  show_rownames     = FALSE,\n",
    "  fontsize          = 14,\n",
    "  cutree_rows       = n,\n",
    "  main              = \"All probes\"\n",
    ")"
   ]
  },
  {
   "cell_type": "code",
   "execution_count": null,
   "metadata": {},
   "outputs": [],
   "source": [
    "res.clust <- cbind(HM450, \n",
    "                   cluster = cutree(res$tree_row, k = n))\n",
    "head(res.clust)"
   ]
  },
  {
   "cell_type": "code",
   "execution_count": null,
   "metadata": {},
   "outputs": [],
   "source": [
    "table(res.clust[,dim(res.clust)[2]])"
   ]
  },
  {
   "cell_type": "markdown",
   "metadata": {},
   "source": [
    "## Load RNAseq data"
   ]
  },
  {
   "cell_type": "code",
   "execution_count": null,
   "metadata": {},
   "outputs": [],
   "source": [
    "rnaseq.raw <- read.csv('../data/LAML/processed/rnaseq-imputed-matched-filtered.tsv', sep='\\t', stringsAsFactor=F, header=F)\n",
    "rnaseq <- data.matrix(rnaseq.raw[-1, -1])\n",
    "colnames(rnaseq) <- rnaseq.raw[1, -dim(rnaseq.raw)[2]]\n",
    "rownames(rnaseq) <- rnaseq.raw[-1, 1]\n",
    "head(rnaseq)  # predictors"
   ]
  },
  {
   "cell_type": "markdown",
   "metadata": {},
   "source": [
    "## Compute average methylation level functions and set the training set (compute training set and testing set RMSE)"
   ]
  },
  {
   "cell_type": "code",
   "execution_count": null,
   "metadata": {},
   "outputs": [],
   "source": [
    "findClusterIdx <- function(i) {\n",
    "    n <- dim(res.clust)[2]\n",
    "    which(res.clust[,n] == i)\n",
    "}"
   ]
  },
  {
   "cell_type": "code",
   "execution_count": null,
   "metadata": {},
   "outputs": [],
   "source": [
    "computeAverage <- function(idx) {\n",
    "    n <- dim(res.clust)[2]\n",
    "    cluster.probes <- res.clust[idx, -n]\n",
    "    cbind(apply(cluster.probes, 2, mean), apply(cluster.probes, 2, sd))\n",
    "}"
   ]
  },
  {
   "cell_type": "code",
   "execution_count": null,
   "metadata": {},
   "outputs": [],
   "source": [
    "set.seed(1)\n",
    "train.idx <- sample(colnames(rnaseq), round(dim(rnaseq)[2] * 0.75, 0)) # 75 % as training set"
   ]
  },
  {
   "cell_type": "code",
   "execution_count": null,
   "metadata": {},
   "outputs": [],
   "source": [
    "rnaseq.train <- rnaseq[, colnames(rnaseq) %in% train.idx]\n",
    "head(rnaseq.train)"
   ]
  },
  {
   "cell_type": "code",
   "execution_count": null,
   "metadata": {},
   "outputs": [],
   "source": [
    "findIdx <- function(gene) {\n",
    "    which(rownames(rnaseq) %in% gene)\n",
    "}\n",
    "FindIdx <- Vectorize(findIdx)"
   ]
  },
  {
   "cell_type": "code",
   "execution_count": null,
   "metadata": {},
   "outputs": [],
   "source": [
    "predict.vbsr <- function(vbsr.fit, new.rnaseq, y.true) {\n",
    "    alpha <- vbsr.fit$alpha\n",
    "    beta <- vbsr.fit$beta\n",
    "    y.hat <- alpha + t(new.rnaseq) %*% matrix(beta, ncol=1)\n",
    "    rmse <- sqrt(mean((y.true - y.hat)^2))\n",
    "    return(rmse)\n",
    "}"
   ]
  },
  {
   "cell_type": "code",
   "execution_count": null,
   "metadata": {},
   "outputs": [],
   "source": [
    "n <- dim(HM450)[2]\n",
    "plotCluster <- function(i) {\n",
    "    set.seed(1)\n",
    "    idx <- findClusterIdx(i)\n",
    "    cluster.probes <- HM27[idx, -n]\n",
    "    train.rnaseq.idx <- colnames(rnaseq) %in% train.idx\n",
    "    train.hm450.idx <- colnames(HM450) %in% train.idx\n",
    "    \n",
    "    cluster.mean <- computeAverage(findClusterIdx(i))\n",
    "    \n",
    "    model.fit <- vbsr(y=cluster.mean[train.hm450.idx], X=t(rnaseq[,train.rnaseq.idx]), \n",
    "                      family='normal', eps=5e-15, maxit=10^4, post=0.5)\n",
    "    rmse <- predict.vbsr(model.fit, rnaseq[,-train.rnaseq.idx], cluster.mean[-train.hm450.idx])\n",
    "    \n",
    "    post <- model.fit$post\n",
    "    significant.idx <- post > 0.3\n",
    "    coef.names <- rownames(rnaseq.train)[significant.idx]\n",
    "    coef.significant <- model.fit$beta[significant.idx]\n",
    "    res1 <- data.frame(gene=coef.names, coef=coef.significant)\n",
    "    print(res1)\n",
    "    ModuleHeatmap(t(cluster.probes), cluster.mean[,1], t(rnaseq[as.numeric(FindIdx(res1$gene)), ] * as.vector(sign(res1$coef))), center=T, scale=T)\n",
    "    return(rmse)\n",
    "}"
   ]
  },
  {
   "cell_type": "markdown",
   "metadata": {},
   "source": [
    "## VBSR analysis"
   ]
  },
  {
   "cell_type": "code",
   "execution_count": null,
   "metadata": {},
   "outputs": [],
   "source": [
    "for (i in seq(n)) {\n",
    "    plotCluster(i)\n",
    "}"
   ]
  }
 ],
 "metadata": {
  "kernelspec": {
   "display_name": "R",
   "language": "R",
   "name": "ir"
  },
  "language_info": {
   "codemirror_mode": "r",
   "file_extension": ".r",
   "mimetype": "text/x-r-source",
   "name": "R",
   "pygments_lexer": "r",
   "version": "3.4.0"
  }
 },
 "nbformat": 4,
 "nbformat_minor": 2
}
