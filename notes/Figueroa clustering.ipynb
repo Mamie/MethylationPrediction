{
 "cells": [
  {
   "cell_type": "markdown",
   "metadata": {},
   "source": [
    "# Extract Figueroa 2009 methylation signiture methylation probes"
   ]
  },
  {
   "cell_type": "code",
   "execution_count": 5,
   "metadata": {},
   "outputs": [
    {
     "name": "stderr",
     "output_type": "stream",
     "text": [
      "gdata: read.xls support for 'XLS' (Excel 97-2004) files ENABLED.\n",
      "\n",
      "gdata: read.xls support for 'XLSX' (Excel 2007+) files ENABLED.\n",
      "\n",
      "Attaching package: ‘gdata’\n",
      "\n",
      "The following object is masked from ‘package:stats’:\n",
      "\n",
      "    nobs\n",
      "\n",
      "The following object is masked from ‘package:utils’:\n",
      "\n",
      "    object.size\n",
      "\n",
      "The following object is masked from ‘package:base’:\n",
      "\n",
      "    startsWith\n",
      "\n"
     ]
    }
   ],
   "source": [
    "library(gdata)"
   ]
  },
  {
   "cell_type": "code",
   "execution_count": 11,
   "metadata": {},
   "outputs": [],
   "source": [
    "n <- 16\n",
    "clusters <- list()\n",
    "for (i in seq(n)) {\n",
    "    clusters[[i]] <- read.xls('../data/mmc3.xls', sheet=i, skip=1, header=T, stringsAsFactor=F)\n",
    "}"
   ]
  },
  {
   "cell_type": "code",
   "execution_count": 13,
   "metadata": {},
   "outputs": [
    {
     "data": {
      "text/html": [
       "<table>\n",
       "<thead><tr><th scope=col>HELP_ID</th><th scope=col>REFSEQ</th><th scope=col>GENE.SYMBOL</th><th scope=col>Status</th></tr></thead>\n",
       "<tbody>\n",
       "\t<tr><td>MSPI0406S00055568</td><td>NM_016178        </td><td>OAZ3             </td><td>Hypermethylated  </td></tr>\n",
       "\t<tr><td>MSPI0406S00055568</td><td>NM_031420        </td><td>MRPL9            </td><td>Hypermethylated  </td></tr>\n",
       "\t<tr><td>MSPI0406S00062872</td><td>NM_015569        </td><td>DNM3             </td><td>Hypermethylated  </td></tr>\n",
       "\t<tr><td>MSPI0406S00069595</td><td>NM_006618        </td><td>JARID1B          </td><td>Hypermethylated  </td></tr>\n",
       "\t<tr><td>MSPI0406S00083922</td><td>NM_014322        </td><td>OPN3             </td><td>Hypermethylated  </td></tr>\n",
       "\t<tr><td>MSPI0406S00099987</td><td>NM_173853        </td><td>KRTCAP3          </td><td>Hypermethylated  </td></tr>\n",
       "</tbody>\n",
       "</table>\n"
      ],
      "text/latex": [
       "\\begin{tabular}{r|llll}\n",
       " HELP\\_ID & REFSEQ & GENE.SYMBOL & Status\\\\\n",
       "\\hline\n",
       "\t MSPI0406S00055568 & NM\\_016178       & OAZ3              & Hypermethylated  \\\\\n",
       "\t MSPI0406S00055568 & NM\\_031420       & MRPL9             & Hypermethylated  \\\\\n",
       "\t MSPI0406S00062872 & NM\\_015569       & DNM3              & Hypermethylated  \\\\\n",
       "\t MSPI0406S00069595 & NM\\_006618       & JARID1B           & Hypermethylated  \\\\\n",
       "\t MSPI0406S00083922 & NM\\_014322       & OPN3              & Hypermethylated  \\\\\n",
       "\t MSPI0406S00099987 & NM\\_173853       & KRTCAP3           & Hypermethylated  \\\\\n",
       "\\end{tabular}\n"
      ],
      "text/markdown": [
       "\n",
       "HELP_ID | REFSEQ | GENE.SYMBOL | Status | \n",
       "|---|---|---|---|---|---|\n",
       "| MSPI0406S00055568 | NM_016178         | OAZ3              | Hypermethylated   | \n",
       "| MSPI0406S00055568 | NM_031420         | MRPL9             | Hypermethylated   | \n",
       "| MSPI0406S00062872 | NM_015569         | DNM3              | Hypermethylated   | \n",
       "| MSPI0406S00069595 | NM_006618         | JARID1B           | Hypermethylated   | \n",
       "| MSPI0406S00083922 | NM_014322         | OPN3              | Hypermethylated   | \n",
       "| MSPI0406S00099987 | NM_173853         | KRTCAP3           | Hypermethylated   | \n",
       "\n",
       "\n"
      ],
      "text/plain": [
       "  HELP_ID           REFSEQ    GENE.SYMBOL Status         \n",
       "1 MSPI0406S00055568 NM_016178 OAZ3        Hypermethylated\n",
       "2 MSPI0406S00055568 NM_031420 MRPL9       Hypermethylated\n",
       "3 MSPI0406S00062872 NM_015569 DNM3        Hypermethylated\n",
       "4 MSPI0406S00069595 NM_006618 JARID1B     Hypermethylated\n",
       "5 MSPI0406S00083922 NM_014322 OPN3        Hypermethylated\n",
       "6 MSPI0406S00099987 NM_173853 KRTCAP3     Hypermethylated"
      ]
     },
     "metadata": {},
     "output_type": "display_data"
    }
   ],
   "source": [
    "head(clusters[[16]])"
   ]
  },
  {
   "cell_type": "code",
   "execution_count": 20,
   "metadata": {},
   "outputs": [],
   "source": [
    "cluster.probes <- list()\n",
    "for (i in seq(n)) {\n",
    "    probe.names <- unique(clusters[[i]]$GENE.SYMBOL)\n",
    "    cluster.probes[[i]] <- probe.names[probe.names!='']\n",
    "}"
   ]
  },
  {
   "cell_type": "code",
   "execution_count": 22,
   "metadata": {},
   "outputs": [
    {
     "data": {
      "text/html": [
       "<ol>\n",
       "\t<li>173</li>\n",
       "\t<li>63</li>\n",
       "\t<li>210</li>\n",
       "\t<li>128</li>\n",
       "\t<li>58</li>\n",
       "\t<li>176</li>\n",
       "\t<li>124</li>\n",
       "\t<li>118</li>\n",
       "\t<li>114</li>\n",
       "\t<li>374</li>\n",
       "\t<li>124</li>\n",
       "\t<li>289</li>\n",
       "\t<li>138</li>\n",
       "\t<li>310</li>\n",
       "\t<li>196</li>\n",
       "\t<li>124</li>\n",
       "</ol>\n"
      ],
      "text/latex": [
       "\\begin{enumerate}\n",
       "\\item 173\n",
       "\\item 63\n",
       "\\item 210\n",
       "\\item 128\n",
       "\\item 58\n",
       "\\item 176\n",
       "\\item 124\n",
       "\\item 118\n",
       "\\item 114\n",
       "\\item 374\n",
       "\\item 124\n",
       "\\item 289\n",
       "\\item 138\n",
       "\\item 310\n",
       "\\item 196\n",
       "\\item 124\n",
       "\\end{enumerate}\n"
      ],
      "text/markdown": [
       "1. 173\n",
       "2. 63\n",
       "3. 210\n",
       "4. 128\n",
       "5. 58\n",
       "6. 176\n",
       "7. 124\n",
       "8. 118\n",
       "9. 114\n",
       "10. 374\n",
       "11. 124\n",
       "12. 289\n",
       "13. 138\n",
       "14. 310\n",
       "15. 196\n",
       "16. 124\n",
       "\n",
       "\n"
      ],
      "text/plain": [
       "[[1]]\n",
       "[1] 173\n",
       "\n",
       "[[2]]\n",
       "[1] 63\n",
       "\n",
       "[[3]]\n",
       "[1] 210\n",
       "\n",
       "[[4]]\n",
       "[1] 128\n",
       "\n",
       "[[5]]\n",
       "[1] 58\n",
       "\n",
       "[[6]]\n",
       "[1] 176\n",
       "\n",
       "[[7]]\n",
       "[1] 124\n",
       "\n",
       "[[8]]\n",
       "[1] 118\n",
       "\n",
       "[[9]]\n",
       "[1] 114\n",
       "\n",
       "[[10]]\n",
       "[1] 374\n",
       "\n",
       "[[11]]\n",
       "[1] 124\n",
       "\n",
       "[[12]]\n",
       "[1] 289\n",
       "\n",
       "[[13]]\n",
       "[1] 138\n",
       "\n",
       "[[14]]\n",
       "[1] 310\n",
       "\n",
       "[[15]]\n",
       "[1] 196\n",
       "\n",
       "[[16]]\n",
       "[1] 124\n"
      ]
     },
     "metadata": {},
     "output_type": "display_data"
    }
   ],
   "source": [
    "lapply(cluster.probes, length)"
   ]
  },
  {
   "cell_type": "code",
   "execution_count": null,
   "metadata": {},
   "outputs": [],
   "source": [
    "# save probes as separate tsv files\n",
    "for (i in seq(n)) {\n",
    "    write.table(cluster.probes[[i]], file=paste0('cluster', i, '.tsv', sep='\\t', quote=F, row.names=F, col.names=F)\n",
    "}"
   ]
  },
  {
   "cell_type": "markdown",
   "metadata": {},
   "source": [
    "## Subset the methylation array given the gene symbol match"
   ]
  },
  {
   "cell_type": "code",
   "execution_count": null,
   "metadata": {},
   "outputs": [],
   "source": [
    "# load methylation data (KNN imputation)"
   ]
  }
 ],
 "metadata": {
  "kernelspec": {
   "display_name": "R",
   "language": "R",
   "name": "ir"
  },
  "language_info": {
   "codemirror_mode": "r",
   "file_extension": ".r",
   "mimetype": "text/x-r-source",
   "name": "R",
   "pygments_lexer": "r",
   "version": "3.4.4"
  }
 },
 "nbformat": 4,
 "nbformat_minor": 2
}
