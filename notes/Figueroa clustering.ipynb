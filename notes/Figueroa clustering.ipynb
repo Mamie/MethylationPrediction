{
 "cells": [
  {
   "cell_type": "markdown",
   "metadata": {},
   "source": [
    "# Extract Figueroa 2009 methylation signiture methylation probes"
   ]
  },
  {
   "cell_type": "code",
   "execution_count": 80,
   "metadata": {},
   "outputs": [],
   "source": [
    "library(gdata)\n",
    "library(dplyr)\n",
    "library(impute)\n",
    "library(Heatplus)"
   ]
  },
  {
   "cell_type": "code",
   "execution_count": 4,
   "metadata": {},
   "outputs": [],
   "source": [
    "n <- 16\n",
    "clusters <- list()\n",
    "for (i in seq(n)) {\n",
    "    clusters[[i]] <- read.xls('../data/mmc3.xls', sheet=i, skip=1, header=T, stringsAsFactor=F)\n",
    "}"
   ]
  },
  {
   "cell_type": "code",
   "execution_count": 5,
   "metadata": {},
   "outputs": [
    {
     "data": {
      "text/html": [
       "<table>\n",
       "<thead><tr><th scope=col>HELP_ID</th><th scope=col>REFSEQ</th><th scope=col>GENE.SYMBOL</th><th scope=col>Status</th></tr></thead>\n",
       "<tbody>\n",
       "\t<tr><td>MSPI0406S00055568</td><td>NM_016178        </td><td>OAZ3             </td><td>Hypermethylated  </td></tr>\n",
       "\t<tr><td>MSPI0406S00055568</td><td>NM_031420        </td><td>MRPL9            </td><td>Hypermethylated  </td></tr>\n",
       "\t<tr><td>MSPI0406S00062872</td><td>NM_015569        </td><td>DNM3             </td><td>Hypermethylated  </td></tr>\n",
       "\t<tr><td>MSPI0406S00069595</td><td>NM_006618        </td><td>JARID1B          </td><td>Hypermethylated  </td></tr>\n",
       "\t<tr><td>MSPI0406S00083922</td><td>NM_014322        </td><td>OPN3             </td><td>Hypermethylated  </td></tr>\n",
       "\t<tr><td>MSPI0406S00099987</td><td>NM_173853        </td><td>KRTCAP3          </td><td>Hypermethylated  </td></tr>\n",
       "</tbody>\n",
       "</table>\n"
      ],
      "text/latex": [
       "\\begin{tabular}{r|llll}\n",
       " HELP\\_ID & REFSEQ & GENE.SYMBOL & Status\\\\\n",
       "\\hline\n",
       "\t MSPI0406S00055568 & NM\\_016178       & OAZ3              & Hypermethylated  \\\\\n",
       "\t MSPI0406S00055568 & NM\\_031420       & MRPL9             & Hypermethylated  \\\\\n",
       "\t MSPI0406S00062872 & NM\\_015569       & DNM3              & Hypermethylated  \\\\\n",
       "\t MSPI0406S00069595 & NM\\_006618       & JARID1B           & Hypermethylated  \\\\\n",
       "\t MSPI0406S00083922 & NM\\_014322       & OPN3              & Hypermethylated  \\\\\n",
       "\t MSPI0406S00099987 & NM\\_173853       & KRTCAP3           & Hypermethylated  \\\\\n",
       "\\end{tabular}\n"
      ],
      "text/markdown": [
       "\n",
       "HELP_ID | REFSEQ | GENE.SYMBOL | Status | \n",
       "|---|---|---|---|---|---|\n",
       "| MSPI0406S00055568 | NM_016178         | OAZ3              | Hypermethylated   | \n",
       "| MSPI0406S00055568 | NM_031420         | MRPL9             | Hypermethylated   | \n",
       "| MSPI0406S00062872 | NM_015569         | DNM3              | Hypermethylated   | \n",
       "| MSPI0406S00069595 | NM_006618         | JARID1B           | Hypermethylated   | \n",
       "| MSPI0406S00083922 | NM_014322         | OPN3              | Hypermethylated   | \n",
       "| MSPI0406S00099987 | NM_173853         | KRTCAP3           | Hypermethylated   | \n",
       "\n",
       "\n"
      ],
      "text/plain": [
       "  HELP_ID           REFSEQ    GENE.SYMBOL Status         \n",
       "1 MSPI0406S00055568 NM_016178 OAZ3        Hypermethylated\n",
       "2 MSPI0406S00055568 NM_031420 MRPL9       Hypermethylated\n",
       "3 MSPI0406S00062872 NM_015569 DNM3        Hypermethylated\n",
       "4 MSPI0406S00069595 NM_006618 JARID1B     Hypermethylated\n",
       "5 MSPI0406S00083922 NM_014322 OPN3        Hypermethylated\n",
       "6 MSPI0406S00099987 NM_173853 KRTCAP3     Hypermethylated"
      ]
     },
     "metadata": {},
     "output_type": "display_data"
    }
   ],
   "source": [
    "head(clusters[[16]])"
   ]
  },
  {
   "cell_type": "code",
   "execution_count": 6,
   "metadata": {},
   "outputs": [],
   "source": [
    "cluster.probes <- list()\n",
    "for (i in seq(n)) {\n",
    "    probe.names <- unique(clusters[[i]]$GENE.SYMBOL)\n",
    "    cluster.probes[[i]] <- probe.names[probe.names!='']\n",
    "}"
   ]
  },
  {
   "cell_type": "code",
   "execution_count": 14,
   "metadata": {},
   "outputs": [
    {
     "data": {
      "text/html": [
       "2719"
      ],
      "text/latex": [
       "2719"
      ],
      "text/markdown": [
       "2719"
      ],
      "text/plain": [
       "[1] 2719"
      ]
     },
     "metadata": {},
     "output_type": "display_data"
    }
   ],
   "source": [
    "sum(unlist(lapply(cluster.probes, length)))"
   ]
  },
  {
   "cell_type": "code",
   "execution_count": 12,
   "metadata": {},
   "outputs": [
    {
     "data": {
      "text/html": [
       "944"
      ],
      "text/latex": [
       "944"
      ],
      "text/markdown": [
       "944"
      ],
      "text/plain": [
       "[1] 944"
      ]
     },
     "metadata": {},
     "output_type": "display_data"
    }
   ],
   "source": [
    "length(unique(unlist(cluster.probes)))"
   ]
  },
  {
   "cell_type": "code",
   "execution_count": 16,
   "metadata": {},
   "outputs": [],
   "source": [
    "# save probes as separate tsv files\n",
    "for (i in seq(n)) {\n",
    "    write.table(cluster.probes[[i]], file=paste0('../data/Figueroa/cluster', i, '.tsv'), sep='\\t', quote=F, row.names=F, col.names=F)\n",
    "}"
   ]
  },
  {
   "cell_type": "markdown",
   "metadata": {},
   "source": [
    "## Change the runRegressionModel function to take directly given methylation clusters"
   ]
  },
  {
   "cell_type": "code",
   "execution_count": 28,
   "metadata": {},
   "outputs": [],
   "source": [
    "in.file <- \"/oak/stanford/groups/andrewg/users/szmamie/repos/MethylationPrediction/data/LAML/HM27/LAML.methylation__humanmethylation27__jhu_usc_edu__Level_3__within_bioassay_data_set_function__data.data.txt\"\n",
    "data.HM27 <- read.csv(in.file, sep='\\t', header=T, stringsAsFactors=F)"
   ]
  },
  {
   "cell_type": "code",
   "execution_count": 29,
   "metadata": {},
   "outputs": [
    {
     "data": {
      "text/html": [
       "<table>\n",
       "<thead><tr><th scope=col>Hybridization.REF</th><th scope=col>TCGA.AB.2802.03A.01D.0741.05</th><th scope=col>TCGA.AB.2802.03A.01D.0741.05.1</th><th scope=col>TCGA.AB.2802.03A.01D.0741.05.2</th><th scope=col>TCGA.AB.2802.03A.01D.0741.05.3</th><th scope=col>TCGA.AB.2803.03A.01D.0741.05</th><th scope=col>TCGA.AB.2803.03A.01D.0741.05.1</th><th scope=col>TCGA.AB.2803.03A.01D.0741.05.2</th><th scope=col>TCGA.AB.2803.03A.01D.0741.05.3</th><th scope=col>TCGA.AB.2804.03A.01D.0741.05</th><th scope=col>⋯</th><th scope=col>TCGA.AB.3009.03A.01D.0741.05.2</th><th scope=col>TCGA.AB.3009.03A.01D.0741.05.3</th><th scope=col>TCGA.AB.3011.03A.01D.0742.05</th><th scope=col>TCGA.AB.3011.03A.01D.0742.05.1</th><th scope=col>TCGA.AB.3011.03A.01D.0742.05.2</th><th scope=col>TCGA.AB.3011.03A.01D.0742.05.3</th><th scope=col>TCGA.AB.3012.03A.01D.0741.05</th><th scope=col>TCGA.AB.3012.03A.01D.0741.05.1</th><th scope=col>TCGA.AB.3012.03A.01D.0741.05.2</th><th scope=col>TCGA.AB.3012.03A.01D.0741.05.3</th></tr></thead>\n",
       "<tbody>\n",
       "\t<tr><td>Composite Element REF</td><td>Beta_value           </td><td>Gene_Symbol          </td><td>Chromosome           </td><td>Genomic_Coordinate   </td><td>Beta_value           </td><td>Gene_Symbol          </td><td>Chromosome           </td><td>Genomic_Coordinate   </td><td>Beta_value           </td><td>⋯                    </td><td>Chromosome           </td><td>Genomic_Coordinate   </td><td>Beta_value           </td><td>Gene_Symbol          </td><td>Chromosome           </td><td>Genomic_Coordinate   </td><td>Beta_value           </td><td>Gene_Symbol          </td><td>Chromosome           </td><td>Genomic_Coordinate   </td></tr>\n",
       "\t<tr><td>cg00000292           </td><td>0.861564594389913    </td><td>ATP2A1               </td><td>16                   </td><td>28890100             </td><td>0.869796254327262    </td><td>ATP2A1               </td><td>16                   </td><td>28890100             </td><td>0.659263617015686    </td><td>⋯                    </td><td>16                   </td><td>28890100             </td><td>0.928697049000533    </td><td>ATP2A1               </td><td>16                   </td><td>28890100             </td><td>0.776383029009759    </td><td>ATP2A1               </td><td>16                   </td><td>28890100             </td></tr>\n",
       "\t<tr><td>cg00002426           </td><td>0.946342497027903    </td><td>SLMAP                </td><td>3                    </td><td>57743543             </td><td>0.956351509562422    </td><td>SLMAP                </td><td>3                    </td><td>57743543             </td><td>0.952163188492067    </td><td>⋯                    </td><td>3                    </td><td>57743543             </td><td>0.943344882215032    </td><td>SLMAP                </td><td>3                    </td><td>57743543             </td><td>0.958471471600558    </td><td>SLMAP                </td><td>3                    </td><td>57743543             </td></tr>\n",
       "\t<tr><td>cg00003994           </td><td>0.125274641595058    </td><td>MEOX2                </td><td>7                    </td><td>15725862             </td><td>0.0328039420364536   </td><td>MEOX2                </td><td>7                    </td><td>15725862             </td><td>0.0198515878808095   </td><td>⋯                    </td><td>7                    </td><td>15725862             </td><td>0.0432628171713411   </td><td>MEOX2                </td><td>7                    </td><td>15725862             </td><td>0.0241999405267976   </td><td>MEOX2                </td><td>7                    </td><td>15725862             </td></tr>\n",
       "\t<tr><td>cg00005847           </td><td>0.0598080004964315   </td><td>HOXD3                </td><td>2                    </td><td>177029073            </td><td>0.07380597656889     </td><td>HOXD3                </td><td>2                    </td><td>177029073            </td><td>0.0759276258088186   </td><td>⋯                    </td><td>2                    </td><td>177029073            </td><td>0.0619550401824966   </td><td>HOXD3                </td><td>2                    </td><td>177029073            </td><td>0.483870393824195    </td><td>HOXD3                </td><td>2                    </td><td>177029073            </td></tr>\n",
       "\t<tr><td>cg00006414           </td><td>NA                   </td><td>ZNF425;ZNF398        </td><td>7                    </td><td>148822837            </td><td>NA                   </td><td>ZNF425;ZNF398        </td><td>7                    </td><td>148822837            </td><td>NA                   </td><td>⋯                    </td><td>7                    </td><td>148822837            </td><td>NA                   </td><td>ZNF425;ZNF398        </td><td>7                    </td><td>148822837            </td><td>NA                   </td><td>ZNF425;ZNF398        </td><td>7                    </td><td>148822837            </td></tr>\n",
       "</tbody>\n",
       "</table>\n"
      ],
      "text/latex": [
       "\\begin{tabular}{r|lllllllllllllllllllllllllllllllllllllllllllllllllllllllllllllllllllllllllllllllllllllllllllllllllllllllllllllllllllllllllllllllllllllllllllllllllllllllllllllllllllllllllllllllllllllllllllllllllllllllllllllllllllllllllllllllllllllllllllllllllllllllllllllllllllllllllllllllllllllllllllllllllllllllllllllllllllllllllllllllllllllllllllllllllllllllllllllllllllllllllllllllllllllllllllllllllllllllllllllllllllllllllllllllllllllllllllllllllllllllllllllllllllllllllllllllllllllllllllllllllllllllllllllllllllllllllllllllllllllllllllllllllllllllllllllllllllllllllllllllllllllllllllllllllllllllllllllllllllllllllllllllllllllllllllllllllllllllllllllllllllllllllllllllllllllllllllllllllllllllllllllllllllllllllllllllllllllllllllllllllllllllllllllllllllllllllllllllllllllllllllllllllllllllll}\n",
       " Hybridization.REF & TCGA.AB.2802.03A.01D.0741.05 & TCGA.AB.2802.03A.01D.0741.05.1 & TCGA.AB.2802.03A.01D.0741.05.2 & TCGA.AB.2802.03A.01D.0741.05.3 & TCGA.AB.2803.03A.01D.0741.05 & TCGA.AB.2803.03A.01D.0741.05.1 & TCGA.AB.2803.03A.01D.0741.05.2 & TCGA.AB.2803.03A.01D.0741.05.3 & TCGA.AB.2804.03A.01D.0741.05 & ⋯ & TCGA.AB.3009.03A.01D.0741.05.2 & TCGA.AB.3009.03A.01D.0741.05.3 & TCGA.AB.3011.03A.01D.0742.05 & TCGA.AB.3011.03A.01D.0742.05.1 & TCGA.AB.3011.03A.01D.0742.05.2 & TCGA.AB.3011.03A.01D.0742.05.3 & TCGA.AB.3012.03A.01D.0741.05 & TCGA.AB.3012.03A.01D.0741.05.1 & TCGA.AB.3012.03A.01D.0741.05.2 & TCGA.AB.3012.03A.01D.0741.05.3\\\\\n",
       "\\hline\n",
       "\t Composite Element REF & Beta\\_value          & Gene\\_Symbol         & Chromosome            & Genomic\\_Coordinate  & Beta\\_value          & Gene\\_Symbol         & Chromosome            & Genomic\\_Coordinate  & Beta\\_value          & ⋯                     & Chromosome            & Genomic\\_Coordinate  & Beta\\_value          & Gene\\_Symbol         & Chromosome            & Genomic\\_Coordinate  & Beta\\_value          & Gene\\_Symbol         & Chromosome            & Genomic\\_Coordinate \\\\\n",
       "\t cg00000292            & 0.861564594389913     & ATP2A1                & 16                    & 28890100              & 0.869796254327262     & ATP2A1                & 16                    & 28890100              & 0.659263617015686     & ⋯                     & 16                    & 28890100              & 0.928697049000533     & ATP2A1                & 16                    & 28890100              & 0.776383029009759     & ATP2A1                & 16                    & 28890100             \\\\\n",
       "\t cg00002426            & 0.946342497027903     & SLMAP                 & 3                     & 57743543              & 0.956351509562422     & SLMAP                 & 3                     & 57743543              & 0.952163188492067     & ⋯                     & 3                     & 57743543              & 0.943344882215032     & SLMAP                 & 3                     & 57743543              & 0.958471471600558     & SLMAP                 & 3                     & 57743543             \\\\\n",
       "\t cg00003994            & 0.125274641595058     & MEOX2                 & 7                     & 15725862              & 0.0328039420364536    & MEOX2                 & 7                     & 15725862              & 0.0198515878808095    & ⋯                     & 7                     & 15725862              & 0.0432628171713411    & MEOX2                 & 7                     & 15725862              & 0.0241999405267976    & MEOX2                 & 7                     & 15725862             \\\\\n",
       "\t cg00005847            & 0.0598080004964315    & HOXD3                 & 2                     & 177029073             & 0.07380597656889      & HOXD3                 & 2                     & 177029073             & 0.0759276258088186    & ⋯                     & 2                     & 177029073             & 0.0619550401824966    & HOXD3                 & 2                     & 177029073             & 0.483870393824195     & HOXD3                 & 2                     & 177029073            \\\\\n",
       "\t cg00006414            & NA                    & ZNF425;ZNF398         & 7                     & 148822837             & NA                    & ZNF425;ZNF398         & 7                     & 148822837             & NA                    & ⋯                     & 7                     & 148822837             & NA                    & ZNF425;ZNF398         & 7                     & 148822837             & NA                    & ZNF425;ZNF398         & 7                     & 148822837            \\\\\n",
       "\\end{tabular}\n"
      ],
      "text/markdown": [
       "\n",
       "Hybridization.REF | TCGA.AB.2802.03A.01D.0741.05 | TCGA.AB.2802.03A.01D.0741.05.1 | TCGA.AB.2802.03A.01D.0741.05.2 | TCGA.AB.2802.03A.01D.0741.05.3 | TCGA.AB.2803.03A.01D.0741.05 | TCGA.AB.2803.03A.01D.0741.05.1 | TCGA.AB.2803.03A.01D.0741.05.2 | TCGA.AB.2803.03A.01D.0741.05.3 | TCGA.AB.2804.03A.01D.0741.05 | ⋯ | TCGA.AB.3009.03A.01D.0741.05.2 | TCGA.AB.3009.03A.01D.0741.05.3 | TCGA.AB.3011.03A.01D.0742.05 | TCGA.AB.3011.03A.01D.0742.05.1 | TCGA.AB.3011.03A.01D.0742.05.2 | TCGA.AB.3011.03A.01D.0742.05.3 | TCGA.AB.3012.03A.01D.0741.05 | TCGA.AB.3012.03A.01D.0741.05.1 | TCGA.AB.3012.03A.01D.0741.05.2 | TCGA.AB.3012.03A.01D.0741.05.3 | \n",
       "|---|---|---|---|---|---|\n",
       "| Composite Element REF | Beta_value            | Gene_Symbol           | Chromosome            | Genomic_Coordinate    | Beta_value            | Gene_Symbol           | Chromosome            | Genomic_Coordinate    | Beta_value            | ⋯                     | Chromosome            | Genomic_Coordinate    | Beta_value            | Gene_Symbol           | Chromosome            | Genomic_Coordinate    | Beta_value            | Gene_Symbol           | Chromosome            | Genomic_Coordinate    | \n",
       "| cg00000292            | 0.861564594389913     | ATP2A1                | 16                    | 28890100              | 0.869796254327262     | ATP2A1                | 16                    | 28890100              | 0.659263617015686     | ⋯                     | 16                    | 28890100              | 0.928697049000533     | ATP2A1                | 16                    | 28890100              | 0.776383029009759     | ATP2A1                | 16                    | 28890100              | \n",
       "| cg00002426            | 0.946342497027903     | SLMAP                 | 3                     | 57743543              | 0.956351509562422     | SLMAP                 | 3                     | 57743543              | 0.952163188492067     | ⋯                     | 3                     | 57743543              | 0.943344882215032     | SLMAP                 | 3                     | 57743543              | 0.958471471600558     | SLMAP                 | 3                     | 57743543              | \n",
       "| cg00003994            | 0.125274641595058     | MEOX2                 | 7                     | 15725862              | 0.0328039420364536    | MEOX2                 | 7                     | 15725862              | 0.0198515878808095    | ⋯                     | 7                     | 15725862              | 0.0432628171713411    | MEOX2                 | 7                     | 15725862              | 0.0241999405267976    | MEOX2                 | 7                     | 15725862              | \n",
       "| cg00005847            | 0.0598080004964315    | HOXD3                 | 2                     | 177029073             | 0.07380597656889      | HOXD3                 | 2                     | 177029073             | 0.0759276258088186    | ⋯                     | 2                     | 177029073             | 0.0619550401824966    | HOXD3                 | 2                     | 177029073             | 0.483870393824195     | HOXD3                 | 2                     | 177029073             | \n",
       "| cg00006414            | NA                    | ZNF425;ZNF398         | 7                     | 148822837             | NA                    | ZNF425;ZNF398         | 7                     | 148822837             | NA                    | ⋯                     | 7                     | 148822837             | NA                    | ZNF425;ZNF398         | 7                     | 148822837             | NA                    | ZNF425;ZNF398         | 7                     | 148822837             | \n",
       "\n",
       "\n"
      ],
      "text/plain": [
       "  Hybridization.REF     TCGA.AB.2802.03A.01D.0741.05\n",
       "1 Composite Element REF Beta_value                  \n",
       "2 cg00000292            0.861564594389913           \n",
       "3 cg00002426            0.946342497027903           \n",
       "4 cg00003994            0.125274641595058           \n",
       "5 cg00005847            0.0598080004964315          \n",
       "6 cg00006414            NA                          \n",
       "  TCGA.AB.2802.03A.01D.0741.05.1 TCGA.AB.2802.03A.01D.0741.05.2\n",
       "1 Gene_Symbol                    Chromosome                    \n",
       "2 ATP2A1                         16                            \n",
       "3 SLMAP                          3                             \n",
       "4 MEOX2                          7                             \n",
       "5 HOXD3                          2                             \n",
       "6 ZNF425;ZNF398                  7                             \n",
       "  TCGA.AB.2802.03A.01D.0741.05.3 TCGA.AB.2803.03A.01D.0741.05\n",
       "1 Genomic_Coordinate             Beta_value                  \n",
       "2 28890100                       0.869796254327262           \n",
       "3 57743543                       0.956351509562422           \n",
       "4 15725862                       0.0328039420364536          \n",
       "5 177029073                      0.07380597656889            \n",
       "6 148822837                      NA                          \n",
       "  TCGA.AB.2803.03A.01D.0741.05.1 TCGA.AB.2803.03A.01D.0741.05.2\n",
       "1 Gene_Symbol                    Chromosome                    \n",
       "2 ATP2A1                         16                            \n",
       "3 SLMAP                          3                             \n",
       "4 MEOX2                          7                             \n",
       "5 HOXD3                          2                             \n",
       "6 ZNF425;ZNF398                  7                             \n",
       "  TCGA.AB.2803.03A.01D.0741.05.3 TCGA.AB.2804.03A.01D.0741.05 ⋯\n",
       "1 Genomic_Coordinate             Beta_value                   ⋯\n",
       "2 28890100                       0.659263617015686            ⋯\n",
       "3 57743543                       0.952163188492067            ⋯\n",
       "4 15725862                       0.0198515878808095           ⋯\n",
       "5 177029073                      0.0759276258088186           ⋯\n",
       "6 148822837                      NA                           ⋯\n",
       "  TCGA.AB.3009.03A.01D.0741.05.2 TCGA.AB.3009.03A.01D.0741.05.3\n",
       "1 Chromosome                     Genomic_Coordinate            \n",
       "2 16                             28890100                      \n",
       "3 3                              57743543                      \n",
       "4 7                              15725862                      \n",
       "5 2                              177029073                     \n",
       "6 7                              148822837                     \n",
       "  TCGA.AB.3011.03A.01D.0742.05 TCGA.AB.3011.03A.01D.0742.05.1\n",
       "1 Beta_value                   Gene_Symbol                   \n",
       "2 0.928697049000533            ATP2A1                        \n",
       "3 0.943344882215032            SLMAP                         \n",
       "4 0.0432628171713411           MEOX2                         \n",
       "5 0.0619550401824966           HOXD3                         \n",
       "6 NA                           ZNF425;ZNF398                 \n",
       "  TCGA.AB.3011.03A.01D.0742.05.2 TCGA.AB.3011.03A.01D.0742.05.3\n",
       "1 Chromosome                     Genomic_Coordinate            \n",
       "2 16                             28890100                      \n",
       "3 3                              57743543                      \n",
       "4 7                              15725862                      \n",
       "5 2                              177029073                     \n",
       "6 7                              148822837                     \n",
       "  TCGA.AB.3012.03A.01D.0741.05 TCGA.AB.3012.03A.01D.0741.05.1\n",
       "1 Beta_value                   Gene_Symbol                   \n",
       "2 0.776383029009759            ATP2A1                        \n",
       "3 0.958471471600558            SLMAP                         \n",
       "4 0.0241999405267976           MEOX2                         \n",
       "5 0.483870393824195            HOXD3                         \n",
       "6 NA                           ZNF425;ZNF398                 \n",
       "  TCGA.AB.3012.03A.01D.0741.05.2 TCGA.AB.3012.03A.01D.0741.05.3\n",
       "1 Chromosome                     Genomic_Coordinate            \n",
       "2 16                             28890100                      \n",
       "3 3                              57743543                      \n",
       "4 7                              15725862                      \n",
       "5 2                              177029073                     \n",
       "6 7                              148822837                     "
      ]
     },
     "metadata": {},
     "output_type": "display_data"
    }
   ],
   "source": [
    "head(data.HM27)"
   ]
  },
  {
   "cell_type": "code",
   "execution_count": 31,
   "metadata": {},
   "outputs": [],
   "source": [
    "# remove duplicate columns\n",
    "num.columns <- dim(data.HM27)[2]\n",
    "redundant.idx <- c(seq(7, num.columns, by=4), seq(8, num.columns, by=4),\n",
    "                   seq(9, num.columns, by=4))\n",
    "data.HM27 <- data.HM27[-1,-redundant.idx] # remove duplicate columns and the subheader"
   ]
  },
  {
   "cell_type": "code",
   "execution_count": 33,
   "metadata": {},
   "outputs": [],
   "source": [
    "data.HM27[,seq(5)] <- data.HM27[,c(1,3,4,5,2)]\n",
    "columnnames <- colnames(data.HM27)\n",
    "columnnames[seq(4)] <- c('ID', 'Gene.Symbol', 'Chromosome', 'Genomic.Coordinate')"
   ]
  },
  {
   "cell_type": "code",
   "execution_count": 35,
   "metadata": {},
   "outputs": [
    {
     "data": {
      "text/html": [
       "<table>\n",
       "<thead><tr><th></th><th scope=col>ID</th><th scope=col>Gene.Symbol</th><th scope=col>Chromosome</th><th scope=col>Genomic.Coordinate</th><th scope=col>TCGA.AB.2802.03A.01D.0741.05.3</th><th scope=col>TCGA.AB.2803.03A.01D.0741.05</th><th scope=col>TCGA.AB.2804.03A.01D.0741.05</th><th scope=col>TCGA.AB.2805.03A.01D.0741.05</th><th scope=col>TCGA.AB.2806.03A.01D.0741.05</th><th scope=col>TCGA.AB.2807.03A.01D.0741.05</th><th scope=col>⋯</th><th scope=col>TCGA.AB.3000.03A.01D.0741.05</th><th scope=col>TCGA.AB.3001.03A.01D.0741.05</th><th scope=col>TCGA.AB.3002.03A.01D.0742.05</th><th scope=col>TCGA.AB.3005.03A.01D.0741.05</th><th scope=col>TCGA.AB.3006.03A.01D.0741.05</th><th scope=col>TCGA.AB.3007.03A.01D.0741.05</th><th scope=col>TCGA.AB.3008.03A.01D.0741.05</th><th scope=col>TCGA.AB.3009.03A.01D.0741.05</th><th scope=col>TCGA.AB.3011.03A.01D.0742.05</th><th scope=col>TCGA.AB.3012.03A.01D.0741.05</th></tr></thead>\n",
       "<tbody>\n",
       "\t<tr><th scope=row>2</th><td>cg00000292        </td><td>ATP2A1            </td><td>16                </td><td>28890100          </td><td>0.861564594389913 </td><td>0.869796254327262 </td><td>0.659263617015686 </td><td>0.932946724632718 </td><td>0.434150957621834 </td><td>0.928195228689417 </td><td>⋯                 </td><td>0.83005568466969  </td><td>0.822909899344701 </td><td>0.896799579299195 </td><td>0.116586283587051 </td><td>0.803471817822614 </td><td>0.755601291503743 </td><td>0.8376730984871   </td><td>0.874428168920322 </td><td>0.928697049000533 </td><td>0.776383029009759 </td></tr>\n",
       "\t<tr><th scope=row>3</th><td>cg00002426        </td><td>SLMAP             </td><td>3                 </td><td>57743543          </td><td>0.946342497027903 </td><td>0.956351509562422 </td><td>0.952163188492067 </td><td>0.944987302521737 </td><td>0.960404867712641 </td><td>0.910392613236136 </td><td>⋯                 </td><td>0.954125833073063 </td><td>0.904435458531103 </td><td>0.854480226555902 </td><td>0.907178257587787 </td><td>0.95398285797124  </td><td>0.955507212862314 </td><td>0.943963876160918 </td><td>0.0914740039517164</td><td>0.943344882215032 </td><td>0.958471471600558 </td></tr>\n",
       "\t<tr><th scope=row>4</th><td>cg00003994        </td><td>MEOX2             </td><td>7                 </td><td>15725862          </td><td>0.125274641595058 </td><td>0.0328039420364536</td><td>0.0198515878808095</td><td>0.0611239926405519</td><td>0.701073431514385 </td><td>0.323642434664094 </td><td>⋯                 </td><td>0.0676724573176588</td><td>0.0641117583780573</td><td>0.164212889387799 </td><td>0.044640912422344 </td><td>0.0263884798629089</td><td>0.0394962364556658</td><td>0.126589731612399 </td><td>0.780510713213238 </td><td>0.0432628171713411</td><td>0.0241999405267976</td></tr>\n",
       "\t<tr><th scope=row>5</th><td>cg00005847        </td><td>HOXD3             </td><td>2                 </td><td>177029073         </td><td>0.0598080004964315</td><td>0.07380597656889  </td><td>0.0759276258088186</td><td>0.418507583461411 </td><td>0.578411542720016 </td><td>0.0622155841391899</td><td>⋯                 </td><td>0.0987722054558421</td><td>0.419468490515621 </td><td>0.0722420125364288</td><td>0.0450166849393871</td><td>0.405852511062285 </td><td>0.0498983050892556</td><td>0.413694628901505 </td><td>0.843740668771244 </td><td>0.0619550401824966</td><td>0.483870393824195 </td></tr>\n",
       "\t<tr><th scope=row>6</th><td>cg00006414        </td><td>ZNF425;ZNF398     </td><td>7                 </td><td>148822837         </td><td>NA                </td><td>NA                </td><td>NA                </td><td>NA                </td><td>NA                </td><td>NA                </td><td>⋯                 </td><td>NA                </td><td>NA                </td><td>NA                </td><td>NA                </td><td>NA                </td><td>NA                </td><td>NA                </td><td>NA                </td><td>NA                </td><td>NA                </td></tr>\n",
       "\t<tr><th scope=row>7</th><td>cg00007981        </td><td>PANX1             </td><td>11                </td><td>93862594          </td><td>0.0215376632808789</td><td>0.0196252163995875</td><td>0.0276856671415462</td><td>0.0201775775125595</td><td>0.0165949846691597</td><td>0.0246986033158712</td><td>⋯                 </td><td>0.0278169104575322</td><td>0.021802428840714 </td><td>0.0491109694610346</td><td>0.0247554209860639</td><td>0.0299209972718848</td><td>0.0203239370900496</td><td>0.0264614106898471</td><td>0.0235354854469433</td><td>0.0307930650695307</td><td>0.0218305446674515</td></tr>\n",
       "</tbody>\n",
       "</table>\n"
      ],
      "text/latex": [
       "\\begin{tabular}{r|llllllllllllllllllllllllllllllllllllllllllllllllllllllllllllllllllllllllllllllllllllllllllllllllllllllllllllllllllllllllllllllllllllllllllllllllllllllllllllllllllllllllllllllllllllllllllllllllllllll}\n",
       "  & ID & Gene.Symbol & Chromosome & Genomic.Coordinate & TCGA.AB.2802.03A.01D.0741.05.3 & TCGA.AB.2803.03A.01D.0741.05 & TCGA.AB.2804.03A.01D.0741.05 & TCGA.AB.2805.03A.01D.0741.05 & TCGA.AB.2806.03A.01D.0741.05 & TCGA.AB.2807.03A.01D.0741.05 & ⋯ & TCGA.AB.3000.03A.01D.0741.05 & TCGA.AB.3001.03A.01D.0741.05 & TCGA.AB.3002.03A.01D.0742.05 & TCGA.AB.3005.03A.01D.0741.05 & TCGA.AB.3006.03A.01D.0741.05 & TCGA.AB.3007.03A.01D.0741.05 & TCGA.AB.3008.03A.01D.0741.05 & TCGA.AB.3009.03A.01D.0741.05 & TCGA.AB.3011.03A.01D.0742.05 & TCGA.AB.3012.03A.01D.0741.05\\\\\n",
       "\\hline\n",
       "\t2 & cg00000292         & ATP2A1             & 16                 & 28890100           & 0.861564594389913  & 0.869796254327262  & 0.659263617015686  & 0.932946724632718  & 0.434150957621834  & 0.928195228689417  & ⋯                  & 0.83005568466969   & 0.822909899344701  & 0.896799579299195  & 0.116586283587051  & 0.803471817822614  & 0.755601291503743  & 0.8376730984871    & 0.874428168920322  & 0.928697049000533  & 0.776383029009759 \\\\\n",
       "\t3 & cg00002426         & SLMAP              & 3                  & 57743543           & 0.946342497027903  & 0.956351509562422  & 0.952163188492067  & 0.944987302521737  & 0.960404867712641  & 0.910392613236136  & ⋯                  & 0.954125833073063  & 0.904435458531103  & 0.854480226555902  & 0.907178257587787  & 0.95398285797124   & 0.955507212862314  & 0.943963876160918  & 0.0914740039517164 & 0.943344882215032  & 0.958471471600558 \\\\\n",
       "\t4 & cg00003994         & MEOX2              & 7                  & 15725862           & 0.125274641595058  & 0.0328039420364536 & 0.0198515878808095 & 0.0611239926405519 & 0.701073431514385  & 0.323642434664094  & ⋯                  & 0.0676724573176588 & 0.0641117583780573 & 0.164212889387799  & 0.044640912422344  & 0.0263884798629089 & 0.0394962364556658 & 0.126589731612399  & 0.780510713213238  & 0.0432628171713411 & 0.0241999405267976\\\\\n",
       "\t5 & cg00005847         & HOXD3              & 2                  & 177029073          & 0.0598080004964315 & 0.07380597656889   & 0.0759276258088186 & 0.418507583461411  & 0.578411542720016  & 0.0622155841391899 & ⋯                  & 0.0987722054558421 & 0.419468490515621  & 0.0722420125364288 & 0.0450166849393871 & 0.405852511062285  & 0.0498983050892556 & 0.413694628901505  & 0.843740668771244  & 0.0619550401824966 & 0.483870393824195 \\\\\n",
       "\t6 & cg00006414         & ZNF425;ZNF398      & 7                  & 148822837          & NA                 & NA                 & NA                 & NA                 & NA                 & NA                 & ⋯                  & NA                 & NA                 & NA                 & NA                 & NA                 & NA                 & NA                 & NA                 & NA                 & NA                \\\\\n",
       "\t7 & cg00007981         & PANX1              & 11                 & 93862594           & 0.0215376632808789 & 0.0196252163995875 & 0.0276856671415462 & 0.0201775775125595 & 0.0165949846691597 & 0.0246986033158712 & ⋯                  & 0.0278169104575322 & 0.021802428840714  & 0.0491109694610346 & 0.0247554209860639 & 0.0299209972718848 & 0.0203239370900496 & 0.0264614106898471 & 0.0235354854469433 & 0.0307930650695307 & 0.0218305446674515\\\\\n",
       "\\end{tabular}\n"
      ],
      "text/markdown": [
       "\n",
       "| <!--/--> | ID | Gene.Symbol | Chromosome | Genomic.Coordinate | TCGA.AB.2802.03A.01D.0741.05.3 | TCGA.AB.2803.03A.01D.0741.05 | TCGA.AB.2804.03A.01D.0741.05 | TCGA.AB.2805.03A.01D.0741.05 | TCGA.AB.2806.03A.01D.0741.05 | TCGA.AB.2807.03A.01D.0741.05 | ⋯ | TCGA.AB.3000.03A.01D.0741.05 | TCGA.AB.3001.03A.01D.0741.05 | TCGA.AB.3002.03A.01D.0742.05 | TCGA.AB.3005.03A.01D.0741.05 | TCGA.AB.3006.03A.01D.0741.05 | TCGA.AB.3007.03A.01D.0741.05 | TCGA.AB.3008.03A.01D.0741.05 | TCGA.AB.3009.03A.01D.0741.05 | TCGA.AB.3011.03A.01D.0742.05 | TCGA.AB.3012.03A.01D.0741.05 | \n",
       "|---|---|---|---|---|---|\n",
       "| 2 | cg00000292         | ATP2A1             | 16                 | 28890100           | 0.861564594389913  | 0.869796254327262  | 0.659263617015686  | 0.932946724632718  | 0.434150957621834  | 0.928195228689417  | ⋯                  | 0.83005568466969   | 0.822909899344701  | 0.896799579299195  | 0.116586283587051  | 0.803471817822614  | 0.755601291503743  | 0.8376730984871    | 0.874428168920322  | 0.928697049000533  | 0.776383029009759  | \n",
       "| 3 | cg00002426         | SLMAP              | 3                  | 57743543           | 0.946342497027903  | 0.956351509562422  | 0.952163188492067  | 0.944987302521737  | 0.960404867712641  | 0.910392613236136  | ⋯                  | 0.954125833073063  | 0.904435458531103  | 0.854480226555902  | 0.907178257587787  | 0.95398285797124   | 0.955507212862314  | 0.943963876160918  | 0.0914740039517164 | 0.943344882215032  | 0.958471471600558  | \n",
       "| 4 | cg00003994         | MEOX2              | 7                  | 15725862           | 0.125274641595058  | 0.0328039420364536 | 0.0198515878808095 | 0.0611239926405519 | 0.701073431514385  | 0.323642434664094  | ⋯                  | 0.0676724573176588 | 0.0641117583780573 | 0.164212889387799  | 0.044640912422344  | 0.0263884798629089 | 0.0394962364556658 | 0.126589731612399  | 0.780510713213238  | 0.0432628171713411 | 0.0241999405267976 | \n",
       "| 5 | cg00005847         | HOXD3              | 2                  | 177029073          | 0.0598080004964315 | 0.07380597656889   | 0.0759276258088186 | 0.418507583461411  | 0.578411542720016  | 0.0622155841391899 | ⋯                  | 0.0987722054558421 | 0.419468490515621  | 0.0722420125364288 | 0.0450166849393871 | 0.405852511062285  | 0.0498983050892556 | 0.413694628901505  | 0.843740668771244  | 0.0619550401824966 | 0.483870393824195  | \n",
       "| 6 | cg00006414         | ZNF425;ZNF398      | 7                  | 148822837          | NA                 | NA                 | NA                 | NA                 | NA                 | NA                 | ⋯                  | NA                 | NA                 | NA                 | NA                 | NA                 | NA                 | NA                 | NA                 | NA                 | NA                 | \n",
       "| 7 | cg00007981         | PANX1              | 11                 | 93862594           | 0.0215376632808789 | 0.0196252163995875 | 0.0276856671415462 | 0.0201775775125595 | 0.0165949846691597 | 0.0246986033158712 | ⋯                  | 0.0278169104575322 | 0.021802428840714  | 0.0491109694610346 | 0.0247554209860639 | 0.0299209972718848 | 0.0203239370900496 | 0.0264614106898471 | 0.0235354854469433 | 0.0307930650695307 | 0.0218305446674515 | \n",
       "\n",
       "\n"
      ],
      "text/plain": [
       "  ID         Gene.Symbol   Chromosome Genomic.Coordinate\n",
       "2 cg00000292 ATP2A1        16         28890100          \n",
       "3 cg00002426 SLMAP         3          57743543          \n",
       "4 cg00003994 MEOX2         7          15725862          \n",
       "5 cg00005847 HOXD3         2          177029073         \n",
       "6 cg00006414 ZNF425;ZNF398 7          148822837         \n",
       "7 cg00007981 PANX1         11         93862594          \n",
       "  TCGA.AB.2802.03A.01D.0741.05.3 TCGA.AB.2803.03A.01D.0741.05\n",
       "2 0.861564594389913              0.869796254327262           \n",
       "3 0.946342497027903              0.956351509562422           \n",
       "4 0.125274641595058              0.0328039420364536          \n",
       "5 0.0598080004964315             0.07380597656889            \n",
       "6 NA                             NA                          \n",
       "7 0.0215376632808789             0.0196252163995875          \n",
       "  TCGA.AB.2804.03A.01D.0741.05 TCGA.AB.2805.03A.01D.0741.05\n",
       "2 0.659263617015686            0.932946724632718           \n",
       "3 0.952163188492067            0.944987302521737           \n",
       "4 0.0198515878808095           0.0611239926405519          \n",
       "5 0.0759276258088186           0.418507583461411           \n",
       "6 NA                           NA                          \n",
       "7 0.0276856671415462           0.0201775775125595          \n",
       "  TCGA.AB.2806.03A.01D.0741.05 TCGA.AB.2807.03A.01D.0741.05 ⋯\n",
       "2 0.434150957621834            0.928195228689417            ⋯\n",
       "3 0.960404867712641            0.910392613236136            ⋯\n",
       "4 0.701073431514385            0.323642434664094            ⋯\n",
       "5 0.578411542720016            0.0622155841391899           ⋯\n",
       "6 NA                           NA                           ⋯\n",
       "7 0.0165949846691597           0.0246986033158712           ⋯\n",
       "  TCGA.AB.3000.03A.01D.0741.05 TCGA.AB.3001.03A.01D.0741.05\n",
       "2 0.83005568466969             0.822909899344701           \n",
       "3 0.954125833073063            0.904435458531103           \n",
       "4 0.0676724573176588           0.0641117583780573          \n",
       "5 0.0987722054558421           0.419468490515621           \n",
       "6 NA                           NA                          \n",
       "7 0.0278169104575322           0.021802428840714           \n",
       "  TCGA.AB.3002.03A.01D.0742.05 TCGA.AB.3005.03A.01D.0741.05\n",
       "2 0.896799579299195            0.116586283587051           \n",
       "3 0.854480226555902            0.907178257587787           \n",
       "4 0.164212889387799            0.044640912422344           \n",
       "5 0.0722420125364288           0.0450166849393871          \n",
       "6 NA                           NA                          \n",
       "7 0.0491109694610346           0.0247554209860639          \n",
       "  TCGA.AB.3006.03A.01D.0741.05 TCGA.AB.3007.03A.01D.0741.05\n",
       "2 0.803471817822614            0.755601291503743           \n",
       "3 0.95398285797124             0.955507212862314           \n",
       "4 0.0263884798629089           0.0394962364556658          \n",
       "5 0.405852511062285            0.0498983050892556          \n",
       "6 NA                           NA                          \n",
       "7 0.0299209972718848           0.0203239370900496          \n",
       "  TCGA.AB.3008.03A.01D.0741.05 TCGA.AB.3009.03A.01D.0741.05\n",
       "2 0.8376730984871              0.874428168920322           \n",
       "3 0.943963876160918            0.0914740039517164          \n",
       "4 0.126589731612399            0.780510713213238           \n",
       "5 0.413694628901505            0.843740668771244           \n",
       "6 NA                           NA                          \n",
       "7 0.0264614106898471           0.0235354854469433          \n",
       "  TCGA.AB.3011.03A.01D.0742.05 TCGA.AB.3012.03A.01D.0741.05\n",
       "2 0.928697049000533            0.776383029009759           \n",
       "3 0.943344882215032            0.958471471600558           \n",
       "4 0.0432628171713411           0.0241999405267976          \n",
       "5 0.0619550401824966           0.483870393824195           \n",
       "6 NA                           NA                          \n",
       "7 0.0307930650695307           0.0218305446674515          "
      ]
     },
     "metadata": {},
     "output_type": "display_data"
    }
   ],
   "source": [
    "colnames(data.HM27) <- columnnames\n",
    "head(data.HM27)"
   ]
  },
  {
   "cell_type": "code",
   "execution_count": 36,
   "metadata": {},
   "outputs": [
    {
     "data": {
      "text/html": [
       "<ol class=list-inline>\n",
       "\t<li>27578</li>\n",
       "\t<li>198</li>\n",
       "</ol>\n"
      ],
      "text/latex": [
       "\\begin{enumerate*}\n",
       "\\item 27578\n",
       "\\item 198\n",
       "\\end{enumerate*}\n"
      ],
      "text/markdown": [
       "1. 27578\n",
       "2. 198\n",
       "\n",
       "\n"
      ],
      "text/plain": [
       "[1] 27578   198"
      ]
     },
     "metadata": {},
     "output_type": "display_data"
    }
   ],
   "source": [
    "dim(data.HM27)"
   ]
  },
  {
   "cell_type": "code",
   "execution_count": 41,
   "metadata": {},
   "outputs": [
    {
     "name": "stdout",
     "output_type": "stream",
     "text": [
      " [1] \"16\" \"3\"  \"7\"  \"2\"  \"11\" \"14\" \"18\" NA   \"1\"  \"6\"  \"22\" \"12\" \"4\"  \"17\" \"20\"\n",
      "[16] \"10\" \"X\"  \"19\" \"9\"  \"13\" \"8\"  \"5\"  \"15\" \"21\" \"Y\" \n"
     ]
    }
   ],
   "source": [
    "print(unique(data.HM27$Chromosome))"
   ]
  },
  {
   "cell_type": "code",
   "execution_count": 42,
   "metadata": {},
   "outputs": [],
   "source": [
    "# remove X, Y, NA chromosome \n",
    "data.HM27 <- data.HM27 %>%\n",
    "  dplyr::filter(!(Chromosome %in% c(\"X\", \"Y\", NA)))"
   ]
  },
  {
   "cell_type": "code",
   "execution_count": 43,
   "metadata": {},
   "outputs": [
    {
     "data": {
      "text/html": [
       "<ol class=list-inline>\n",
       "\t<li>25014</li>\n",
       "\t<li>198</li>\n",
       "</ol>\n"
      ],
      "text/latex": [
       "\\begin{enumerate*}\n",
       "\\item 25014\n",
       "\\item 198\n",
       "\\end{enumerate*}\n"
      ],
      "text/markdown": [
       "1. 25014\n",
       "2. 198\n",
       "\n",
       "\n"
      ],
      "text/plain": [
       "[1] 25014   198"
      ]
     },
     "metadata": {},
     "output_type": "display_data"
    }
   ],
   "source": [
    "dim(data.HM27)"
   ]
  },
  {
   "cell_type": "code",
   "execution_count": 46,
   "metadata": {},
   "outputs": [
    {
     "data": {
      "image/png": "[encoded data removed]",
      "text/plain": [
       "Plot with title “Histogram of c(missingness)”"
      ]
     },
     "metadata": {},
     "output_type": "display_data"
    }
   ],
   "source": [
    "# remove rows with missingness > 10 % and impute missing beta values \n",
    "options(repr.plot.width=8, repr.plot.height=4)\n",
    "missingness <- apply(data.HM27[,-seq(4)], 1, function(x) mean(is.na(x)))\n",
    "hist(c(missingness), breaks=30)"
   ]
  },
  {
   "cell_type": "code",
   "execution_count": 50,
   "metadata": {},
   "outputs": [
    {
     "data": {
      "text/html": [
       "2528"
      ],
      "text/latex": [
       "2528"
      ],
      "text/markdown": [
       "2528"
      ],
      "text/plain": [
       "[1] 2528"
      ]
     },
     "metadata": {},
     "output_type": "display_data"
    }
   ],
   "source": [
    "sum(missingness >= 0.5) # 2528 rows to remove"
   ]
  },
  {
   "cell_type": "code",
   "execution_count": 51,
   "metadata": {},
   "outputs": [
    {
     "data": {
      "text/html": [
       "<ol class=list-inline>\n",
       "\t<li>22486</li>\n",
       "\t<li>198</li>\n",
       "</ol>\n"
      ],
      "text/latex": [
       "\\begin{enumerate*}\n",
       "\\item 22486\n",
       "\\item 198\n",
       "\\end{enumerate*}\n"
      ],
      "text/markdown": [
       "1. 22486\n",
       "2. 198\n",
       "\n",
       "\n"
      ],
      "text/plain": [
       "[1] 22486   198"
      ]
     },
     "metadata": {},
     "output_type": "display_data"
    }
   ],
   "source": [
    "data.HM27 <- data.HM27[missingness < 0.5,]\n",
    "dim(data.HM27)"
   ]
  },
  {
   "cell_type": "code",
   "execution_count": 52,
   "metadata": {},
   "outputs": [
    {
     "data": {
      "text/html": [
       "<table>\n",
       "<thead><tr><th></th><th scope=col>ID</th><th scope=col>Gene.Symbol</th><th scope=col>Chromosome</th><th scope=col>Genomic.Coordinate</th><th scope=col>TCGA.AB.2802.03A.01D.0741.05.3</th><th scope=col>TCGA.AB.2803.03A.01D.0741.05</th><th scope=col>TCGA.AB.2804.03A.01D.0741.05</th><th scope=col>TCGA.AB.2805.03A.01D.0741.05</th><th scope=col>TCGA.AB.2806.03A.01D.0741.05</th><th scope=col>TCGA.AB.2807.03A.01D.0741.05</th><th scope=col>⋯</th><th scope=col>TCGA.AB.3000.03A.01D.0741.05</th><th scope=col>TCGA.AB.3001.03A.01D.0741.05</th><th scope=col>TCGA.AB.3002.03A.01D.0742.05</th><th scope=col>TCGA.AB.3005.03A.01D.0741.05</th><th scope=col>TCGA.AB.3006.03A.01D.0741.05</th><th scope=col>TCGA.AB.3007.03A.01D.0741.05</th><th scope=col>TCGA.AB.3008.03A.01D.0741.05</th><th scope=col>TCGA.AB.3009.03A.01D.0741.05</th><th scope=col>TCGA.AB.3011.03A.01D.0742.05</th><th scope=col>TCGA.AB.3012.03A.01D.0741.05</th></tr></thead>\n",
       "<tbody>\n",
       "\t<tr><th scope=row>1</th><td>cg00000292        </td><td>ATP2A1            </td><td>16                </td><td>28890100          </td><td>0.861564594389913 </td><td>0.869796254327262 </td><td>0.659263617015686 </td><td>0.932946724632718 </td><td>0.434150957621834 </td><td>0.928195228689417 </td><td>⋯                 </td><td>0.83005568466969  </td><td>0.822909899344701 </td><td>0.896799579299195 </td><td>0.116586283587051 </td><td>0.803471817822614 </td><td>0.755601291503743 </td><td>0.8376730984871   </td><td>0.874428168920322 </td><td>0.928697049000533 </td><td>0.776383029009759 </td></tr>\n",
       "\t<tr><th scope=row>2</th><td>cg00002426        </td><td>SLMAP             </td><td>3                 </td><td>57743543          </td><td>0.946342497027903 </td><td>0.956351509562422 </td><td>0.952163188492067 </td><td>0.944987302521737 </td><td>0.960404867712641 </td><td>0.910392613236136 </td><td>⋯                 </td><td>0.954125833073063 </td><td>0.904435458531103 </td><td>0.854480226555902 </td><td>0.907178257587787 </td><td>0.95398285797124  </td><td>0.955507212862314 </td><td>0.943963876160918 </td><td>0.0914740039517164</td><td>0.943344882215032 </td><td>0.958471471600558 </td></tr>\n",
       "\t<tr><th scope=row>3</th><td>cg00003994        </td><td>MEOX2             </td><td>7                 </td><td>15725862          </td><td>0.125274641595058 </td><td>0.0328039420364536</td><td>0.0198515878808095</td><td>0.0611239926405519</td><td>0.701073431514385 </td><td>0.323642434664094 </td><td>⋯                 </td><td>0.0676724573176588</td><td>0.0641117583780573</td><td>0.164212889387799 </td><td>0.044640912422344 </td><td>0.0263884798629089</td><td>0.0394962364556658</td><td>0.126589731612399 </td><td>0.780510713213238 </td><td>0.0432628171713411</td><td>0.0241999405267976</td></tr>\n",
       "\t<tr><th scope=row>4</th><td>cg00005847        </td><td>HOXD3             </td><td>2                 </td><td>177029073         </td><td>0.0598080004964315</td><td>0.07380597656889  </td><td>0.0759276258088186</td><td>0.418507583461411 </td><td>0.578411542720016 </td><td>0.0622155841391899</td><td>⋯                 </td><td>0.0987722054558421</td><td>0.419468490515621 </td><td>0.0722420125364288</td><td>0.0450166849393871</td><td>0.405852511062285 </td><td>0.0498983050892556</td><td>0.413694628901505 </td><td>0.843740668771244 </td><td>0.0619550401824966</td><td>0.483870393824195 </td></tr>\n",
       "\t<tr><th scope=row>6</th><td>cg00007981        </td><td>PANX1             </td><td>11                </td><td>93862594          </td><td>0.0215376632808789</td><td>0.0196252163995875</td><td>0.0276856671415462</td><td>0.0201775775125595</td><td>0.0165949846691597</td><td>0.0246986033158712</td><td>⋯                 </td><td>0.0278169104575322</td><td>0.021802428840714 </td><td>0.0491109694610346</td><td>0.0247554209860639</td><td>0.0299209972718848</td><td>0.0203239370900496</td><td>0.0264614106898471</td><td>0.0235354854469433</td><td>0.0307930650695307</td><td>0.0218305446674515</td></tr>\n",
       "\t<tr><th scope=row>7</th><td>cg00008493        </td><td>COX8C;KIAA1409    </td><td>14                </td><td>93813777          </td><td>0.981396555005453 </td><td>0.981749684415936 </td><td>0.98403200299398  </td><td>0.986814081141049 </td><td>0.985375369737061 </td><td>0.981171686729287 </td><td>⋯                 </td><td>0.986511791525834 </td><td>0.975793228408668 </td><td>0.981439717909794 </td><td>0.983013757322295 </td><td>0.985596206515573 </td><td>0.985931551668339 </td><td>0.985511914327982 </td><td>0.98634041766771  </td><td>0.984950726081008 </td><td>0.984399675867947 </td></tr>\n",
       "</tbody>\n",
       "</table>\n"
      ],
      "text/latex": [
       "\\begin{tabular}{r|llllllllllllllllllllllllllllllllllllllllllllllllllllllllllllllllllllllllllllllllllllllllllllllllllllllllllllllllllllllllllllllllllllllllllllllllllllllllllllllllllllllllllllllllllllllllllllllllllllll}\n",
       "  & ID & Gene.Symbol & Chromosome & Genomic.Coordinate & TCGA.AB.2802.03A.01D.0741.05.3 & TCGA.AB.2803.03A.01D.0741.05 & TCGA.AB.2804.03A.01D.0741.05 & TCGA.AB.2805.03A.01D.0741.05 & TCGA.AB.2806.03A.01D.0741.05 & TCGA.AB.2807.03A.01D.0741.05 & ⋯ & TCGA.AB.3000.03A.01D.0741.05 & TCGA.AB.3001.03A.01D.0741.05 & TCGA.AB.3002.03A.01D.0742.05 & TCGA.AB.3005.03A.01D.0741.05 & TCGA.AB.3006.03A.01D.0741.05 & TCGA.AB.3007.03A.01D.0741.05 & TCGA.AB.3008.03A.01D.0741.05 & TCGA.AB.3009.03A.01D.0741.05 & TCGA.AB.3011.03A.01D.0742.05 & TCGA.AB.3012.03A.01D.0741.05\\\\\n",
       "\\hline\n",
       "\t1 & cg00000292         & ATP2A1             & 16                 & 28890100           & 0.861564594389913  & 0.869796254327262  & 0.659263617015686  & 0.932946724632718  & 0.434150957621834  & 0.928195228689417  & ⋯                  & 0.83005568466969   & 0.822909899344701  & 0.896799579299195  & 0.116586283587051  & 0.803471817822614  & 0.755601291503743  & 0.8376730984871    & 0.874428168920322  & 0.928697049000533  & 0.776383029009759 \\\\\n",
       "\t2 & cg00002426         & SLMAP              & 3                  & 57743543           & 0.946342497027903  & 0.956351509562422  & 0.952163188492067  & 0.944987302521737  & 0.960404867712641  & 0.910392613236136  & ⋯                  & 0.954125833073063  & 0.904435458531103  & 0.854480226555902  & 0.907178257587787  & 0.95398285797124   & 0.955507212862314  & 0.943963876160918  & 0.0914740039517164 & 0.943344882215032  & 0.958471471600558 \\\\\n",
       "\t3 & cg00003994         & MEOX2              & 7                  & 15725862           & 0.125274641595058  & 0.0328039420364536 & 0.0198515878808095 & 0.0611239926405519 & 0.701073431514385  & 0.323642434664094  & ⋯                  & 0.0676724573176588 & 0.0641117583780573 & 0.164212889387799  & 0.044640912422344  & 0.0263884798629089 & 0.0394962364556658 & 0.126589731612399  & 0.780510713213238  & 0.0432628171713411 & 0.0241999405267976\\\\\n",
       "\t4 & cg00005847         & HOXD3              & 2                  & 177029073          & 0.0598080004964315 & 0.07380597656889   & 0.0759276258088186 & 0.418507583461411  & 0.578411542720016  & 0.0622155841391899 & ⋯                  & 0.0987722054558421 & 0.419468490515621  & 0.0722420125364288 & 0.0450166849393871 & 0.405852511062285  & 0.0498983050892556 & 0.413694628901505  & 0.843740668771244  & 0.0619550401824966 & 0.483870393824195 \\\\\n",
       "\t6 & cg00007981         & PANX1              & 11                 & 93862594           & 0.0215376632808789 & 0.0196252163995875 & 0.0276856671415462 & 0.0201775775125595 & 0.0165949846691597 & 0.0246986033158712 & ⋯                  & 0.0278169104575322 & 0.021802428840714  & 0.0491109694610346 & 0.0247554209860639 & 0.0299209972718848 & 0.0203239370900496 & 0.0264614106898471 & 0.0235354854469433 & 0.0307930650695307 & 0.0218305446674515\\\\\n",
       "\t7 & cg00008493         & COX8C;KIAA1409     & 14                 & 93813777           & 0.981396555005453  & 0.981749684415936  & 0.98403200299398   & 0.986814081141049  & 0.985375369737061  & 0.981171686729287  & ⋯                  & 0.986511791525834  & 0.975793228408668  & 0.981439717909794  & 0.983013757322295  & 0.985596206515573  & 0.985931551668339  & 0.985511914327982  & 0.98634041766771   & 0.984950726081008  & 0.984399675867947 \\\\\n",
       "\\end{tabular}\n"
      ],
      "text/markdown": [
       "\n",
       "| <!--/--> | ID | Gene.Symbol | Chromosome | Genomic.Coordinate | TCGA.AB.2802.03A.01D.0741.05.3 | TCGA.AB.2803.03A.01D.0741.05 | TCGA.AB.2804.03A.01D.0741.05 | TCGA.AB.2805.03A.01D.0741.05 | TCGA.AB.2806.03A.01D.0741.05 | TCGA.AB.2807.03A.01D.0741.05 | ⋯ | TCGA.AB.3000.03A.01D.0741.05 | TCGA.AB.3001.03A.01D.0741.05 | TCGA.AB.3002.03A.01D.0742.05 | TCGA.AB.3005.03A.01D.0741.05 | TCGA.AB.3006.03A.01D.0741.05 | TCGA.AB.3007.03A.01D.0741.05 | TCGA.AB.3008.03A.01D.0741.05 | TCGA.AB.3009.03A.01D.0741.05 | TCGA.AB.3011.03A.01D.0742.05 | TCGA.AB.3012.03A.01D.0741.05 | \n",
       "|---|---|---|---|---|---|\n",
       "| 1 | cg00000292         | ATP2A1             | 16                 | 28890100           | 0.861564594389913  | 0.869796254327262  | 0.659263617015686  | 0.932946724632718  | 0.434150957621834  | 0.928195228689417  | ⋯                  | 0.83005568466969   | 0.822909899344701  | 0.896799579299195  | 0.116586283587051  | 0.803471817822614  | 0.755601291503743  | 0.8376730984871    | 0.874428168920322  | 0.928697049000533  | 0.776383029009759  | \n",
       "| 2 | cg00002426         | SLMAP              | 3                  | 57743543           | 0.946342497027903  | 0.956351509562422  | 0.952163188492067  | 0.944987302521737  | 0.960404867712641  | 0.910392613236136  | ⋯                  | 0.954125833073063  | 0.904435458531103  | 0.854480226555902  | 0.907178257587787  | 0.95398285797124   | 0.955507212862314  | 0.943963876160918  | 0.0914740039517164 | 0.943344882215032  | 0.958471471600558  | \n",
       "| 3 | cg00003994         | MEOX2              | 7                  | 15725862           | 0.125274641595058  | 0.0328039420364536 | 0.0198515878808095 | 0.0611239926405519 | 0.701073431514385  | 0.323642434664094  | ⋯                  | 0.0676724573176588 | 0.0641117583780573 | 0.164212889387799  | 0.044640912422344  | 0.0263884798629089 | 0.0394962364556658 | 0.126589731612399  | 0.780510713213238  | 0.0432628171713411 | 0.0241999405267976 | \n",
       "| 4 | cg00005847         | HOXD3              | 2                  | 177029073          | 0.0598080004964315 | 0.07380597656889   | 0.0759276258088186 | 0.418507583461411  | 0.578411542720016  | 0.0622155841391899 | ⋯                  | 0.0987722054558421 | 0.419468490515621  | 0.0722420125364288 | 0.0450166849393871 | 0.405852511062285  | 0.0498983050892556 | 0.413694628901505  | 0.843740668771244  | 0.0619550401824966 | 0.483870393824195  | \n",
       "| 6 | cg00007981         | PANX1              | 11                 | 93862594           | 0.0215376632808789 | 0.0196252163995875 | 0.0276856671415462 | 0.0201775775125595 | 0.0165949846691597 | 0.0246986033158712 | ⋯                  | 0.0278169104575322 | 0.021802428840714  | 0.0491109694610346 | 0.0247554209860639 | 0.0299209972718848 | 0.0203239370900496 | 0.0264614106898471 | 0.0235354854469433 | 0.0307930650695307 | 0.0218305446674515 | \n",
       "| 7 | cg00008493         | COX8C;KIAA1409     | 14                 | 93813777           | 0.981396555005453  | 0.981749684415936  | 0.98403200299398   | 0.986814081141049  | 0.985375369737061  | 0.981171686729287  | ⋯                  | 0.986511791525834  | 0.975793228408668  | 0.981439717909794  | 0.983013757322295  | 0.985596206515573  | 0.985931551668339  | 0.985511914327982  | 0.98634041766771   | 0.984950726081008  | 0.984399675867947  | \n",
       "\n",
       "\n"
      ],
      "text/plain": [
       "  ID         Gene.Symbol    Chromosome Genomic.Coordinate\n",
       "1 cg00000292 ATP2A1         16         28890100          \n",
       "2 cg00002426 SLMAP          3          57743543          \n",
       "3 cg00003994 MEOX2          7          15725862          \n",
       "4 cg00005847 HOXD3          2          177029073         \n",
       "6 cg00007981 PANX1          11         93862594          \n",
       "7 cg00008493 COX8C;KIAA1409 14         93813777          \n",
       "  TCGA.AB.2802.03A.01D.0741.05.3 TCGA.AB.2803.03A.01D.0741.05\n",
       "1 0.861564594389913              0.869796254327262           \n",
       "2 0.946342497027903              0.956351509562422           \n",
       "3 0.125274641595058              0.0328039420364536          \n",
       "4 0.0598080004964315             0.07380597656889            \n",
       "6 0.0215376632808789             0.0196252163995875          \n",
       "7 0.981396555005453              0.981749684415936           \n",
       "  TCGA.AB.2804.03A.01D.0741.05 TCGA.AB.2805.03A.01D.0741.05\n",
       "1 0.659263617015686            0.932946724632718           \n",
       "2 0.952163188492067            0.944987302521737           \n",
       "3 0.0198515878808095           0.0611239926405519          \n",
       "4 0.0759276258088186           0.418507583461411           \n",
       "6 0.0276856671415462           0.0201775775125595          \n",
       "7 0.98403200299398             0.986814081141049           \n",
       "  TCGA.AB.2806.03A.01D.0741.05 TCGA.AB.2807.03A.01D.0741.05 ⋯\n",
       "1 0.434150957621834            0.928195228689417            ⋯\n",
       "2 0.960404867712641            0.910392613236136            ⋯\n",
       "3 0.701073431514385            0.323642434664094            ⋯\n",
       "4 0.578411542720016            0.0622155841391899           ⋯\n",
       "6 0.0165949846691597           0.0246986033158712           ⋯\n",
       "7 0.985375369737061            0.981171686729287            ⋯\n",
       "  TCGA.AB.3000.03A.01D.0741.05 TCGA.AB.3001.03A.01D.0741.05\n",
       "1 0.83005568466969             0.822909899344701           \n",
       "2 0.954125833073063            0.904435458531103           \n",
       "3 0.0676724573176588           0.0641117583780573          \n",
       "4 0.0987722054558421           0.419468490515621           \n",
       "6 0.0278169104575322           0.021802428840714           \n",
       "7 0.986511791525834            0.975793228408668           \n",
       "  TCGA.AB.3002.03A.01D.0742.05 TCGA.AB.3005.03A.01D.0741.05\n",
       "1 0.896799579299195            0.116586283587051           \n",
       "2 0.854480226555902            0.907178257587787           \n",
       "3 0.164212889387799            0.044640912422344           \n",
       "4 0.0722420125364288           0.0450166849393871          \n",
       "6 0.0491109694610346           0.0247554209860639          \n",
       "7 0.981439717909794            0.983013757322295           \n",
       "  TCGA.AB.3006.03A.01D.0741.05 TCGA.AB.3007.03A.01D.0741.05\n",
       "1 0.803471817822614            0.755601291503743           \n",
       "2 0.95398285797124             0.955507212862314           \n",
       "3 0.0263884798629089           0.0394962364556658          \n",
       "4 0.405852511062285            0.0498983050892556          \n",
       "6 0.0299209972718848           0.0203239370900496          \n",
       "7 0.985596206515573            0.985931551668339           \n",
       "  TCGA.AB.3008.03A.01D.0741.05 TCGA.AB.3009.03A.01D.0741.05\n",
       "1 0.8376730984871              0.874428168920322           \n",
       "2 0.943963876160918            0.0914740039517164          \n",
       "3 0.126589731612399            0.780510713213238           \n",
       "4 0.413694628901505            0.843740668771244           \n",
       "6 0.0264614106898471           0.0235354854469433          \n",
       "7 0.985511914327982            0.98634041766771            \n",
       "  TCGA.AB.3011.03A.01D.0742.05 TCGA.AB.3012.03A.01D.0741.05\n",
       "1 0.928697049000533            0.776383029009759           \n",
       "2 0.943344882215032            0.958471471600558           \n",
       "3 0.0432628171713411           0.0241999405267976          \n",
       "4 0.0619550401824966           0.483870393824195           \n",
       "6 0.0307930650695307           0.0218305446674515          \n",
       "7 0.984950726081008            0.984399675867947           "
      ]
     },
     "metadata": {},
     "output_type": "display_data"
    }
   ],
   "source": [
    "head(data.HM27)"
   ]
  },
  {
   "cell_type": "code",
   "execution_count": 53,
   "metadata": {},
   "outputs": [
    {
     "name": "stdout",
     "output_type": "stream",
     "text": [
      "Cluster size 22486 broken into 16374 6112 \n",
      "Cluster size 16374 broken into 2768 13606 \n",
      "Cluster size 2768 broken into 1057 1711 \n",
      "Done cluster 1057 \n",
      "Cluster size 1711 broken into 685 1026 \n",
      "Done cluster 685 \n",
      "Done cluster 1026 \n",
      "Done cluster 1711 \n",
      "Done cluster 2768 \n",
      "Cluster size 13606 broken into 11025 2581 \n",
      "Cluster size 11025 broken into 2683 8342 \n",
      "Cluster size 2683 broken into 353 2330 \n",
      "Done cluster 353 \n",
      "Cluster size 2330 broken into 647 1683 \n",
      "Done cluster 647 \n",
      "Cluster size 1683 broken into 373 1310 \n",
      "Done cluster 373 \n",
      "Done cluster 1310 \n",
      "Done cluster 1683 \n",
      "Done cluster 2330 \n",
      "Done cluster 2683 \n",
      "Cluster size 8342 broken into 5354 2988 \n",
      "Cluster size 5354 broken into 2694 2660 \n",
      "Cluster size 2694 broken into 89 2605 \n",
      "Done cluster 89 \n",
      "Cluster size 2605 broken into 2599 6 \n",
      "Cluster size 2599 broken into 2272 327 \n",
      "Cluster size 2272 broken into 1365 907 \n",
      "Done cluster 1365 \n",
      "Done cluster 907 \n",
      "Done cluster 2272 \n",
      "Done cluster 327 \n",
      "Done cluster 2599 \n",
      "Done cluster 6 \n",
      "Done cluster 2605 \n",
      "Done cluster 2694 \n",
      "Cluster size 2660 broken into 1141 1519 \n",
      "Done cluster 1141 \n",
      "Cluster size 1519 broken into 58 1461 \n",
      "Done cluster 58 \n",
      "Done cluster 1461 \n",
      "Done cluster 1519 \n",
      "Done cluster 2660 \n",
      "Done cluster 5354 \n",
      "Cluster size 2988 broken into 11 2977 \n",
      "Done cluster 11 \n",
      "Cluster size 2977 broken into 2517 460 \n",
      "Cluster size 2517 broken into 1138 1379 \n",
      "Done cluster 1138 \n",
      "Done cluster 1379 \n",
      "Done cluster 2517 \n",
      "Done cluster 460 \n",
      "Done cluster 2977 \n",
      "Done cluster 2988 \n",
      "Done cluster 8342 \n",
      "Done cluster 11025 \n",
      "Cluster size 2581 broken into 1593 988 \n",
      "Cluster size 1593 broken into 998 595 \n",
      "Done cluster 998 \n",
      "Done cluster 595 \n",
      "Done cluster 1593 \n",
      "Done cluster 988 \n",
      "Done cluster 2581 \n",
      "Done cluster 13606 \n",
      "Done cluster 16374 \n",
      "Cluster size 6112 broken into 4303 1809 \n",
      "Cluster size 4303 broken into 2853 1450 \n",
      "Cluster size 2853 broken into 202 2651 \n",
      "Done cluster 202 \n",
      "Cluster size 2651 broken into 1280 1371 \n",
      "Done cluster 1280 \n",
      "Done cluster 1371 \n",
      "Done cluster 2651 \n",
      "Done cluster 2853 \n",
      "Done cluster 1450 \n",
      "Done cluster 4303 \n",
      "Cluster size 1809 broken into 1002 807 \n",
      "Done cluster 1002 \n",
      "Done cluster 807 \n",
      "Done cluster 1809 \n",
      "Done cluster 6112 \n"
     ]
    }
   ],
   "source": [
    "data.HM27.imputed <- impute.knn(data.matrix(data.HM27[-seq(4)]), k = 10, rowmax = 0.5, colmax = 0.8, maxp = 1500, rng.seed=362436069)"
   ]
  },
  {
   "cell_type": "code",
   "execution_count": 59,
   "metadata": {},
   "outputs": [
    {
     "data": {
      "text/html": [
       "<table>\n",
       "<thead><tr><th></th><th scope=col>TCGA.AB.2802.03A.01D.0741.05.3</th><th scope=col>TCGA.AB.2803.03A.01D.0741.05</th><th scope=col>TCGA.AB.2804.03A.01D.0741.05</th><th scope=col>TCGA.AB.2805.03A.01D.0741.05</th><th scope=col>TCGA.AB.2806.03A.01D.0741.05</th><th scope=col>TCGA.AB.2807.03A.01D.0741.05</th><th scope=col>TCGA.AB.2808.03A.01D.0741.05</th><th scope=col>TCGA.AB.2809.03A.01D.0741.05</th><th scope=col>TCGA.AB.2810.03A.01D.0741.05</th><th scope=col>TCGA.AB.2811.03A.01D.0741.05</th><th scope=col>⋯</th><th scope=col>TCGA.AB.3000.03A.01D.0741.05</th><th scope=col>TCGA.AB.3001.03A.01D.0741.05</th><th scope=col>TCGA.AB.3002.03A.01D.0742.05</th><th scope=col>TCGA.AB.3005.03A.01D.0741.05</th><th scope=col>TCGA.AB.3006.03A.01D.0741.05</th><th scope=col>TCGA.AB.3007.03A.01D.0741.05</th><th scope=col>TCGA.AB.3008.03A.01D.0741.05</th><th scope=col>TCGA.AB.3009.03A.01D.0741.05</th><th scope=col>TCGA.AB.3011.03A.01D.0742.05</th><th scope=col>TCGA.AB.3012.03A.01D.0741.05</th></tr></thead>\n",
       "<tbody>\n",
       "\t<tr><th scope=row>1</th><td>0.86156459</td><td>0.86979625</td><td>0.65926362</td><td>0.93294672</td><td>0.43415096</td><td>0.92819523</td><td>0.78032215</td><td>0.59317697</td><td>0.94480293</td><td>0.58047182</td><td>⋯         </td><td>0.83005568</td><td>0.82290990</td><td>0.89679958</td><td>0.11658628</td><td>0.80347182</td><td>0.75560129</td><td>0.83767310</td><td>0.87442817</td><td>0.92869705</td><td>0.77638303</td></tr>\n",
       "\t<tr><th scope=row>2</th><td>0.94634250</td><td>0.95635151</td><td>0.95216319</td><td>0.94498730</td><td>0.96040487</td><td>0.91039261</td><td>0.92129838</td><td>0.91930527</td><td>0.95642581</td><td>0.93849838</td><td>⋯         </td><td>0.95412583</td><td>0.90443546</td><td>0.85448023</td><td>0.90717826</td><td>0.95398286</td><td>0.95550721</td><td>0.94396388</td><td>0.09147400</td><td>0.94334488</td><td>0.95847147</td></tr>\n",
       "\t<tr><th scope=row>3</th><td>0.12527464</td><td>0.03280394</td><td>0.01985159</td><td>0.06112399</td><td>0.70107343</td><td>0.32364243</td><td>0.04443957</td><td>0.02832298</td><td>0.02952006</td><td>0.01792710</td><td>⋯         </td><td>0.06767246</td><td>0.06411176</td><td>0.16421289</td><td>0.04464091</td><td>0.02638848</td><td>0.03949624</td><td>0.12658973</td><td>0.78051071</td><td>0.04326282</td><td>0.02419994</td></tr>\n",
       "\t<tr><th scope=row>4</th><td>0.05980800</td><td>0.07380598</td><td>0.07592763</td><td>0.41850758</td><td>0.57841154</td><td>0.06221558</td><td>0.07963455</td><td>0.04705453</td><td>0.04435912</td><td>0.03485283</td><td>⋯         </td><td>0.09877221</td><td>0.41946849</td><td>0.07224201</td><td>0.04501668</td><td>0.40585251</td><td>0.04989831</td><td>0.41369463</td><td>0.84374067</td><td>0.06195504</td><td>0.48387039</td></tr>\n",
       "\t<tr><th scope=row>6</th><td>0.02153766</td><td>0.01962522</td><td>0.02768567</td><td>0.02017758</td><td>0.01659498</td><td>0.02469860</td><td>0.03145926</td><td>0.02087033</td><td>0.02540435</td><td>0.02989397</td><td>⋯         </td><td>0.02781691</td><td>0.02180243</td><td>0.04911097</td><td>0.02475542</td><td>0.02992100</td><td>0.02032394</td><td>0.02646141</td><td>0.02353549</td><td>0.03079307</td><td>0.02183054</td></tr>\n",
       "\t<tr><th scope=row>7</th><td>0.98139656</td><td>0.98174968</td><td>0.98403200</td><td>0.98681408</td><td>0.98537537</td><td>0.98117169</td><td>0.97975446</td><td>0.98762202</td><td>0.98431479</td><td>0.98766407</td><td>⋯         </td><td>0.98651179</td><td>0.97579323</td><td>0.98143972</td><td>0.98301376</td><td>0.98559621</td><td>0.98593155</td><td>0.98551191</td><td>0.98634042</td><td>0.98495073</td><td>0.98439968</td></tr>\n",
       "</tbody>\n",
       "</table>\n"
      ],
      "text/latex": [
       "\\begin{tabular}{r|llllllllllllllllllllllllllllllllllllllllllllllllllllllllllllllllllllllllllllllllllllllllllllllllllllllllllllllllllllllllllllllllllllllllllllllllllllllllllllllllllllllllllllllllllllllllllllllllll}\n",
       "  & TCGA.AB.2802.03A.01D.0741.05.3 & TCGA.AB.2803.03A.01D.0741.05 & TCGA.AB.2804.03A.01D.0741.05 & TCGA.AB.2805.03A.01D.0741.05 & TCGA.AB.2806.03A.01D.0741.05 & TCGA.AB.2807.03A.01D.0741.05 & TCGA.AB.2808.03A.01D.0741.05 & TCGA.AB.2809.03A.01D.0741.05 & TCGA.AB.2810.03A.01D.0741.05 & TCGA.AB.2811.03A.01D.0741.05 & ⋯ & TCGA.AB.3000.03A.01D.0741.05 & TCGA.AB.3001.03A.01D.0741.05 & TCGA.AB.3002.03A.01D.0742.05 & TCGA.AB.3005.03A.01D.0741.05 & TCGA.AB.3006.03A.01D.0741.05 & TCGA.AB.3007.03A.01D.0741.05 & TCGA.AB.3008.03A.01D.0741.05 & TCGA.AB.3009.03A.01D.0741.05 & TCGA.AB.3011.03A.01D.0742.05 & TCGA.AB.3012.03A.01D.0741.05\\\\\n",
       "\\hline\n",
       "\t1 & 0.86156459 & 0.86979625 & 0.65926362 & 0.93294672 & 0.43415096 & 0.92819523 & 0.78032215 & 0.59317697 & 0.94480293 & 0.58047182 & ⋯          & 0.83005568 & 0.82290990 & 0.89679958 & 0.11658628 & 0.80347182 & 0.75560129 & 0.83767310 & 0.87442817 & 0.92869705 & 0.77638303\\\\\n",
       "\t2 & 0.94634250 & 0.95635151 & 0.95216319 & 0.94498730 & 0.96040487 & 0.91039261 & 0.92129838 & 0.91930527 & 0.95642581 & 0.93849838 & ⋯          & 0.95412583 & 0.90443546 & 0.85448023 & 0.90717826 & 0.95398286 & 0.95550721 & 0.94396388 & 0.09147400 & 0.94334488 & 0.95847147\\\\\n",
       "\t3 & 0.12527464 & 0.03280394 & 0.01985159 & 0.06112399 & 0.70107343 & 0.32364243 & 0.04443957 & 0.02832298 & 0.02952006 & 0.01792710 & ⋯          & 0.06767246 & 0.06411176 & 0.16421289 & 0.04464091 & 0.02638848 & 0.03949624 & 0.12658973 & 0.78051071 & 0.04326282 & 0.02419994\\\\\n",
       "\t4 & 0.05980800 & 0.07380598 & 0.07592763 & 0.41850758 & 0.57841154 & 0.06221558 & 0.07963455 & 0.04705453 & 0.04435912 & 0.03485283 & ⋯          & 0.09877221 & 0.41946849 & 0.07224201 & 0.04501668 & 0.40585251 & 0.04989831 & 0.41369463 & 0.84374067 & 0.06195504 & 0.48387039\\\\\n",
       "\t6 & 0.02153766 & 0.01962522 & 0.02768567 & 0.02017758 & 0.01659498 & 0.02469860 & 0.03145926 & 0.02087033 & 0.02540435 & 0.02989397 & ⋯          & 0.02781691 & 0.02180243 & 0.04911097 & 0.02475542 & 0.02992100 & 0.02032394 & 0.02646141 & 0.02353549 & 0.03079307 & 0.02183054\\\\\n",
       "\t7 & 0.98139656 & 0.98174968 & 0.98403200 & 0.98681408 & 0.98537537 & 0.98117169 & 0.97975446 & 0.98762202 & 0.98431479 & 0.98766407 & ⋯          & 0.98651179 & 0.97579323 & 0.98143972 & 0.98301376 & 0.98559621 & 0.98593155 & 0.98551191 & 0.98634042 & 0.98495073 & 0.98439968\\\\\n",
       "\\end{tabular}\n"
      ],
      "text/markdown": [
       "\n",
       "| <!--/--> | TCGA.AB.2802.03A.01D.0741.05.3 | TCGA.AB.2803.03A.01D.0741.05 | TCGA.AB.2804.03A.01D.0741.05 | TCGA.AB.2805.03A.01D.0741.05 | TCGA.AB.2806.03A.01D.0741.05 | TCGA.AB.2807.03A.01D.0741.05 | TCGA.AB.2808.03A.01D.0741.05 | TCGA.AB.2809.03A.01D.0741.05 | TCGA.AB.2810.03A.01D.0741.05 | TCGA.AB.2811.03A.01D.0741.05 | ⋯ | TCGA.AB.3000.03A.01D.0741.05 | TCGA.AB.3001.03A.01D.0741.05 | TCGA.AB.3002.03A.01D.0742.05 | TCGA.AB.3005.03A.01D.0741.05 | TCGA.AB.3006.03A.01D.0741.05 | TCGA.AB.3007.03A.01D.0741.05 | TCGA.AB.3008.03A.01D.0741.05 | TCGA.AB.3009.03A.01D.0741.05 | TCGA.AB.3011.03A.01D.0742.05 | TCGA.AB.3012.03A.01D.0741.05 | \n",
       "|---|---|---|---|---|---|\n",
       "| 1 | 0.86156459 | 0.86979625 | 0.65926362 | 0.93294672 | 0.43415096 | 0.92819523 | 0.78032215 | 0.59317697 | 0.94480293 | 0.58047182 | ⋯          | 0.83005568 | 0.82290990 | 0.89679958 | 0.11658628 | 0.80347182 | 0.75560129 | 0.83767310 | 0.87442817 | 0.92869705 | 0.77638303 | \n",
       "| 2 | 0.94634250 | 0.95635151 | 0.95216319 | 0.94498730 | 0.96040487 | 0.91039261 | 0.92129838 | 0.91930527 | 0.95642581 | 0.93849838 | ⋯          | 0.95412583 | 0.90443546 | 0.85448023 | 0.90717826 | 0.95398286 | 0.95550721 | 0.94396388 | 0.09147400 | 0.94334488 | 0.95847147 | \n",
       "| 3 | 0.12527464 | 0.03280394 | 0.01985159 | 0.06112399 | 0.70107343 | 0.32364243 | 0.04443957 | 0.02832298 | 0.02952006 | 0.01792710 | ⋯          | 0.06767246 | 0.06411176 | 0.16421289 | 0.04464091 | 0.02638848 | 0.03949624 | 0.12658973 | 0.78051071 | 0.04326282 | 0.02419994 | \n",
       "| 4 | 0.05980800 | 0.07380598 | 0.07592763 | 0.41850758 | 0.57841154 | 0.06221558 | 0.07963455 | 0.04705453 | 0.04435912 | 0.03485283 | ⋯          | 0.09877221 | 0.41946849 | 0.07224201 | 0.04501668 | 0.40585251 | 0.04989831 | 0.41369463 | 0.84374067 | 0.06195504 | 0.48387039 | \n",
       "| 6 | 0.02153766 | 0.01962522 | 0.02768567 | 0.02017758 | 0.01659498 | 0.02469860 | 0.03145926 | 0.02087033 | 0.02540435 | 0.02989397 | ⋯          | 0.02781691 | 0.02180243 | 0.04911097 | 0.02475542 | 0.02992100 | 0.02032394 | 0.02646141 | 0.02353549 | 0.03079307 | 0.02183054 | \n",
       "| 7 | 0.98139656 | 0.98174968 | 0.98403200 | 0.98681408 | 0.98537537 | 0.98117169 | 0.97975446 | 0.98762202 | 0.98431479 | 0.98766407 | ⋯          | 0.98651179 | 0.97579323 | 0.98143972 | 0.98301376 | 0.98559621 | 0.98593155 | 0.98551191 | 0.98634042 | 0.98495073 | 0.98439968 | \n",
       "\n",
       "\n"
      ],
      "text/plain": [
       "  TCGA.AB.2802.03A.01D.0741.05.3 TCGA.AB.2803.03A.01D.0741.05\n",
       "1 0.86156459                     0.86979625                  \n",
       "2 0.94634250                     0.95635151                  \n",
       "3 0.12527464                     0.03280394                  \n",
       "4 0.05980800                     0.07380598                  \n",
       "6 0.02153766                     0.01962522                  \n",
       "7 0.98139656                     0.98174968                  \n",
       "  TCGA.AB.2804.03A.01D.0741.05 TCGA.AB.2805.03A.01D.0741.05\n",
       "1 0.65926362                   0.93294672                  \n",
       "2 0.95216319                   0.94498730                  \n",
       "3 0.01985159                   0.06112399                  \n",
       "4 0.07592763                   0.41850758                  \n",
       "6 0.02768567                   0.02017758                  \n",
       "7 0.98403200                   0.98681408                  \n",
       "  TCGA.AB.2806.03A.01D.0741.05 TCGA.AB.2807.03A.01D.0741.05\n",
       "1 0.43415096                   0.92819523                  \n",
       "2 0.96040487                   0.91039261                  \n",
       "3 0.70107343                   0.32364243                  \n",
       "4 0.57841154                   0.06221558                  \n",
       "6 0.01659498                   0.02469860                  \n",
       "7 0.98537537                   0.98117169                  \n",
       "  TCGA.AB.2808.03A.01D.0741.05 TCGA.AB.2809.03A.01D.0741.05\n",
       "1 0.78032215                   0.59317697                  \n",
       "2 0.92129838                   0.91930527                  \n",
       "3 0.04443957                   0.02832298                  \n",
       "4 0.07963455                   0.04705453                  \n",
       "6 0.03145926                   0.02087033                  \n",
       "7 0.97975446                   0.98762202                  \n",
       "  TCGA.AB.2810.03A.01D.0741.05 TCGA.AB.2811.03A.01D.0741.05 ⋯\n",
       "1 0.94480293                   0.58047182                   ⋯\n",
       "2 0.95642581                   0.93849838                   ⋯\n",
       "3 0.02952006                   0.01792710                   ⋯\n",
       "4 0.04435912                   0.03485283                   ⋯\n",
       "6 0.02540435                   0.02989397                   ⋯\n",
       "7 0.98431479                   0.98766407                   ⋯\n",
       "  TCGA.AB.3000.03A.01D.0741.05 TCGA.AB.3001.03A.01D.0741.05\n",
       "1 0.83005568                   0.82290990                  \n",
       "2 0.95412583                   0.90443546                  \n",
       "3 0.06767246                   0.06411176                  \n",
       "4 0.09877221                   0.41946849                  \n",
       "6 0.02781691                   0.02180243                  \n",
       "7 0.98651179                   0.97579323                  \n",
       "  TCGA.AB.3002.03A.01D.0742.05 TCGA.AB.3005.03A.01D.0741.05\n",
       "1 0.89679958                   0.11658628                  \n",
       "2 0.85448023                   0.90717826                  \n",
       "3 0.16421289                   0.04464091                  \n",
       "4 0.07224201                   0.04501668                  \n",
       "6 0.04911097                   0.02475542                  \n",
       "7 0.98143972                   0.98301376                  \n",
       "  TCGA.AB.3006.03A.01D.0741.05 TCGA.AB.3007.03A.01D.0741.05\n",
       "1 0.80347182                   0.75560129                  \n",
       "2 0.95398286                   0.95550721                  \n",
       "3 0.02638848                   0.03949624                  \n",
       "4 0.40585251                   0.04989831                  \n",
       "6 0.02992100                   0.02032394                  \n",
       "7 0.98559621                   0.98593155                  \n",
       "  TCGA.AB.3008.03A.01D.0741.05 TCGA.AB.3009.03A.01D.0741.05\n",
       "1 0.83767310                   0.87442817                  \n",
       "2 0.94396388                   0.09147400                  \n",
       "3 0.12658973                   0.78051071                  \n",
       "4 0.41369463                   0.84374067                  \n",
       "6 0.02646141                   0.02353549                  \n",
       "7 0.98551191                   0.98634042                  \n",
       "  TCGA.AB.3011.03A.01D.0742.05 TCGA.AB.3012.03A.01D.0741.05\n",
       "1 0.92869705                   0.77638303                  \n",
       "2 0.94334488                   0.95847147                  \n",
       "3 0.04326282                   0.02419994                  \n",
       "4 0.06195504                   0.48387039                  \n",
       "6 0.03079307                   0.02183054                  \n",
       "7 0.98495073                   0.98439968                  "
      ]
     },
     "metadata": {},
     "output_type": "display_data"
    }
   ],
   "source": [
    "head(data.HM27.imputed$data)"
   ]
  },
  {
   "cell_type": "code",
   "execution_count": 61,
   "metadata": {},
   "outputs": [],
   "source": [
    "HM27.processed <- data.HM27.imputed$data\n",
    "rownames(HM27.processed) <- c(data.HM27$Gene.Symbol)"
   ]
  },
  {
   "cell_type": "code",
   "execution_count": 62,
   "metadata": {},
   "outputs": [
    {
     "data": {
      "text/html": [
       "<table>\n",
       "<thead><tr><th></th><th scope=col>TCGA.AB.2802.03A.01D.0741.05.3</th><th scope=col>TCGA.AB.2803.03A.01D.0741.05</th><th scope=col>TCGA.AB.2804.03A.01D.0741.05</th><th scope=col>TCGA.AB.2805.03A.01D.0741.05</th><th scope=col>TCGA.AB.2806.03A.01D.0741.05</th><th scope=col>TCGA.AB.2807.03A.01D.0741.05</th><th scope=col>TCGA.AB.2808.03A.01D.0741.05</th><th scope=col>TCGA.AB.2809.03A.01D.0741.05</th><th scope=col>TCGA.AB.2810.03A.01D.0741.05</th><th scope=col>TCGA.AB.2811.03A.01D.0741.05</th><th scope=col>⋯</th><th scope=col>TCGA.AB.3000.03A.01D.0741.05</th><th scope=col>TCGA.AB.3001.03A.01D.0741.05</th><th scope=col>TCGA.AB.3002.03A.01D.0742.05</th><th scope=col>TCGA.AB.3005.03A.01D.0741.05</th><th scope=col>TCGA.AB.3006.03A.01D.0741.05</th><th scope=col>TCGA.AB.3007.03A.01D.0741.05</th><th scope=col>TCGA.AB.3008.03A.01D.0741.05</th><th scope=col>TCGA.AB.3009.03A.01D.0741.05</th><th scope=col>TCGA.AB.3011.03A.01D.0742.05</th><th scope=col>TCGA.AB.3012.03A.01D.0741.05</th></tr></thead>\n",
       "<tbody>\n",
       "\t<tr><th scope=row>ATP2A1</th><td>0.86156459</td><td>0.86979625</td><td>0.65926362</td><td>0.93294672</td><td>0.43415096</td><td>0.92819523</td><td>0.78032215</td><td>0.59317697</td><td>0.94480293</td><td>0.58047182</td><td>⋯         </td><td>0.83005568</td><td>0.82290990</td><td>0.89679958</td><td>0.11658628</td><td>0.80347182</td><td>0.75560129</td><td>0.83767310</td><td>0.87442817</td><td>0.92869705</td><td>0.77638303</td></tr>\n",
       "\t<tr><th scope=row>SLMAP</th><td>0.94634250</td><td>0.95635151</td><td>0.95216319</td><td>0.94498730</td><td>0.96040487</td><td>0.91039261</td><td>0.92129838</td><td>0.91930527</td><td>0.95642581</td><td>0.93849838</td><td>⋯         </td><td>0.95412583</td><td>0.90443546</td><td>0.85448023</td><td>0.90717826</td><td>0.95398286</td><td>0.95550721</td><td>0.94396388</td><td>0.09147400</td><td>0.94334488</td><td>0.95847147</td></tr>\n",
       "\t<tr><th scope=row>MEOX2</th><td>0.12527464</td><td>0.03280394</td><td>0.01985159</td><td>0.06112399</td><td>0.70107343</td><td>0.32364243</td><td>0.04443957</td><td>0.02832298</td><td>0.02952006</td><td>0.01792710</td><td>⋯         </td><td>0.06767246</td><td>0.06411176</td><td>0.16421289</td><td>0.04464091</td><td>0.02638848</td><td>0.03949624</td><td>0.12658973</td><td>0.78051071</td><td>0.04326282</td><td>0.02419994</td></tr>\n",
       "\t<tr><th scope=row>HOXD3</th><td>0.05980800</td><td>0.07380598</td><td>0.07592763</td><td>0.41850758</td><td>0.57841154</td><td>0.06221558</td><td>0.07963455</td><td>0.04705453</td><td>0.04435912</td><td>0.03485283</td><td>⋯         </td><td>0.09877221</td><td>0.41946849</td><td>0.07224201</td><td>0.04501668</td><td>0.40585251</td><td>0.04989831</td><td>0.41369463</td><td>0.84374067</td><td>0.06195504</td><td>0.48387039</td></tr>\n",
       "\t<tr><th scope=row>PANX1</th><td>0.02153766</td><td>0.01962522</td><td>0.02768567</td><td>0.02017758</td><td>0.01659498</td><td>0.02469860</td><td>0.03145926</td><td>0.02087033</td><td>0.02540435</td><td>0.02989397</td><td>⋯         </td><td>0.02781691</td><td>0.02180243</td><td>0.04911097</td><td>0.02475542</td><td>0.02992100</td><td>0.02032394</td><td>0.02646141</td><td>0.02353549</td><td>0.03079307</td><td>0.02183054</td></tr>\n",
       "\t<tr><th scope=row>COX8C;KIAA1409</th><td>0.98139656</td><td>0.98174968</td><td>0.98403200</td><td>0.98681408</td><td>0.98537537</td><td>0.98117169</td><td>0.97975446</td><td>0.98762202</td><td>0.98431479</td><td>0.98766407</td><td>⋯         </td><td>0.98651179</td><td>0.97579323</td><td>0.98143972</td><td>0.98301376</td><td>0.98559621</td><td>0.98593155</td><td>0.98551191</td><td>0.98634042</td><td>0.98495073</td><td>0.98439968</td></tr>\n",
       "</tbody>\n",
       "</table>\n"
      ],
      "text/latex": [
       "\\begin{tabular}{r|llllllllllllllllllllllllllllllllllllllllllllllllllllllllllllllllllllllllllllllllllllllllllllllllllllllllllllllllllllllllllllllllllllllllllllllllllllllllllllllllllllllllllllllllllllllllllllllllll}\n",
       "  & TCGA.AB.2802.03A.01D.0741.05.3 & TCGA.AB.2803.03A.01D.0741.05 & TCGA.AB.2804.03A.01D.0741.05 & TCGA.AB.2805.03A.01D.0741.05 & TCGA.AB.2806.03A.01D.0741.05 & TCGA.AB.2807.03A.01D.0741.05 & TCGA.AB.2808.03A.01D.0741.05 & TCGA.AB.2809.03A.01D.0741.05 & TCGA.AB.2810.03A.01D.0741.05 & TCGA.AB.2811.03A.01D.0741.05 & ⋯ & TCGA.AB.3000.03A.01D.0741.05 & TCGA.AB.3001.03A.01D.0741.05 & TCGA.AB.3002.03A.01D.0742.05 & TCGA.AB.3005.03A.01D.0741.05 & TCGA.AB.3006.03A.01D.0741.05 & TCGA.AB.3007.03A.01D.0741.05 & TCGA.AB.3008.03A.01D.0741.05 & TCGA.AB.3009.03A.01D.0741.05 & TCGA.AB.3011.03A.01D.0742.05 & TCGA.AB.3012.03A.01D.0741.05\\\\\n",
       "\\hline\n",
       "\tATP2A1 & 0.86156459 & 0.86979625 & 0.65926362 & 0.93294672 & 0.43415096 & 0.92819523 & 0.78032215 & 0.59317697 & 0.94480293 & 0.58047182 & ⋯          & 0.83005568 & 0.82290990 & 0.89679958 & 0.11658628 & 0.80347182 & 0.75560129 & 0.83767310 & 0.87442817 & 0.92869705 & 0.77638303\\\\\n",
       "\tSLMAP & 0.94634250 & 0.95635151 & 0.95216319 & 0.94498730 & 0.96040487 & 0.91039261 & 0.92129838 & 0.91930527 & 0.95642581 & 0.93849838 & ⋯          & 0.95412583 & 0.90443546 & 0.85448023 & 0.90717826 & 0.95398286 & 0.95550721 & 0.94396388 & 0.09147400 & 0.94334488 & 0.95847147\\\\\n",
       "\tMEOX2 & 0.12527464 & 0.03280394 & 0.01985159 & 0.06112399 & 0.70107343 & 0.32364243 & 0.04443957 & 0.02832298 & 0.02952006 & 0.01792710 & ⋯          & 0.06767246 & 0.06411176 & 0.16421289 & 0.04464091 & 0.02638848 & 0.03949624 & 0.12658973 & 0.78051071 & 0.04326282 & 0.02419994\\\\\n",
       "\tHOXD3 & 0.05980800 & 0.07380598 & 0.07592763 & 0.41850758 & 0.57841154 & 0.06221558 & 0.07963455 & 0.04705453 & 0.04435912 & 0.03485283 & ⋯          & 0.09877221 & 0.41946849 & 0.07224201 & 0.04501668 & 0.40585251 & 0.04989831 & 0.41369463 & 0.84374067 & 0.06195504 & 0.48387039\\\\\n",
       "\tPANX1 & 0.02153766 & 0.01962522 & 0.02768567 & 0.02017758 & 0.01659498 & 0.02469860 & 0.03145926 & 0.02087033 & 0.02540435 & 0.02989397 & ⋯          & 0.02781691 & 0.02180243 & 0.04911097 & 0.02475542 & 0.02992100 & 0.02032394 & 0.02646141 & 0.02353549 & 0.03079307 & 0.02183054\\\\\n",
       "\tCOX8C;KIAA1409 & 0.98139656 & 0.98174968 & 0.98403200 & 0.98681408 & 0.98537537 & 0.98117169 & 0.97975446 & 0.98762202 & 0.98431479 & 0.98766407 & ⋯          & 0.98651179 & 0.97579323 & 0.98143972 & 0.98301376 & 0.98559621 & 0.98593155 & 0.98551191 & 0.98634042 & 0.98495073 & 0.98439968\\\\\n",
       "\\end{tabular}\n"
      ],
      "text/markdown": [
       "\n",
       "| <!--/--> | TCGA.AB.2802.03A.01D.0741.05.3 | TCGA.AB.2803.03A.01D.0741.05 | TCGA.AB.2804.03A.01D.0741.05 | TCGA.AB.2805.03A.01D.0741.05 | TCGA.AB.2806.03A.01D.0741.05 | TCGA.AB.2807.03A.01D.0741.05 | TCGA.AB.2808.03A.01D.0741.05 | TCGA.AB.2809.03A.01D.0741.05 | TCGA.AB.2810.03A.01D.0741.05 | TCGA.AB.2811.03A.01D.0741.05 | ⋯ | TCGA.AB.3000.03A.01D.0741.05 | TCGA.AB.3001.03A.01D.0741.05 | TCGA.AB.3002.03A.01D.0742.05 | TCGA.AB.3005.03A.01D.0741.05 | TCGA.AB.3006.03A.01D.0741.05 | TCGA.AB.3007.03A.01D.0741.05 | TCGA.AB.3008.03A.01D.0741.05 | TCGA.AB.3009.03A.01D.0741.05 | TCGA.AB.3011.03A.01D.0742.05 | TCGA.AB.3012.03A.01D.0741.05 | \n",
       "|---|---|---|---|---|---|\n",
       "| ATP2A1 | 0.86156459 | 0.86979625 | 0.65926362 | 0.93294672 | 0.43415096 | 0.92819523 | 0.78032215 | 0.59317697 | 0.94480293 | 0.58047182 | ⋯          | 0.83005568 | 0.82290990 | 0.89679958 | 0.11658628 | 0.80347182 | 0.75560129 | 0.83767310 | 0.87442817 | 0.92869705 | 0.77638303 | \n",
       "| SLMAP | 0.94634250 | 0.95635151 | 0.95216319 | 0.94498730 | 0.96040487 | 0.91039261 | 0.92129838 | 0.91930527 | 0.95642581 | 0.93849838 | ⋯          | 0.95412583 | 0.90443546 | 0.85448023 | 0.90717826 | 0.95398286 | 0.95550721 | 0.94396388 | 0.09147400 | 0.94334488 | 0.95847147 | \n",
       "| MEOX2 | 0.12527464 | 0.03280394 | 0.01985159 | 0.06112399 | 0.70107343 | 0.32364243 | 0.04443957 | 0.02832298 | 0.02952006 | 0.01792710 | ⋯          | 0.06767246 | 0.06411176 | 0.16421289 | 0.04464091 | 0.02638848 | 0.03949624 | 0.12658973 | 0.78051071 | 0.04326282 | 0.02419994 | \n",
       "| HOXD3 | 0.05980800 | 0.07380598 | 0.07592763 | 0.41850758 | 0.57841154 | 0.06221558 | 0.07963455 | 0.04705453 | 0.04435912 | 0.03485283 | ⋯          | 0.09877221 | 0.41946849 | 0.07224201 | 0.04501668 | 0.40585251 | 0.04989831 | 0.41369463 | 0.84374067 | 0.06195504 | 0.48387039 | \n",
       "| PANX1 | 0.02153766 | 0.01962522 | 0.02768567 | 0.02017758 | 0.01659498 | 0.02469860 | 0.03145926 | 0.02087033 | 0.02540435 | 0.02989397 | ⋯          | 0.02781691 | 0.02180243 | 0.04911097 | 0.02475542 | 0.02992100 | 0.02032394 | 0.02646141 | 0.02353549 | 0.03079307 | 0.02183054 | \n",
       "| COX8C;KIAA1409 | 0.98139656 | 0.98174968 | 0.98403200 | 0.98681408 | 0.98537537 | 0.98117169 | 0.97975446 | 0.98762202 | 0.98431479 | 0.98766407 | ⋯          | 0.98651179 | 0.97579323 | 0.98143972 | 0.98301376 | 0.98559621 | 0.98593155 | 0.98551191 | 0.98634042 | 0.98495073 | 0.98439968 | \n",
       "\n",
       "\n"
      ],
      "text/plain": [
       "               TCGA.AB.2802.03A.01D.0741.05.3 TCGA.AB.2803.03A.01D.0741.05\n",
       "ATP2A1         0.86156459                     0.86979625                  \n",
       "SLMAP          0.94634250                     0.95635151                  \n",
       "MEOX2          0.12527464                     0.03280394                  \n",
       "HOXD3          0.05980800                     0.07380598                  \n",
       "PANX1          0.02153766                     0.01962522                  \n",
       "COX8C;KIAA1409 0.98139656                     0.98174968                  \n",
       "               TCGA.AB.2804.03A.01D.0741.05 TCGA.AB.2805.03A.01D.0741.05\n",
       "ATP2A1         0.65926362                   0.93294672                  \n",
       "SLMAP          0.95216319                   0.94498730                  \n",
       "MEOX2          0.01985159                   0.06112399                  \n",
       "HOXD3          0.07592763                   0.41850758                  \n",
       "PANX1          0.02768567                   0.02017758                  \n",
       "COX8C;KIAA1409 0.98403200                   0.98681408                  \n",
       "               TCGA.AB.2806.03A.01D.0741.05 TCGA.AB.2807.03A.01D.0741.05\n",
       "ATP2A1         0.43415096                   0.92819523                  \n",
       "SLMAP          0.96040487                   0.91039261                  \n",
       "MEOX2          0.70107343                   0.32364243                  \n",
       "HOXD3          0.57841154                   0.06221558                  \n",
       "PANX1          0.01659498                   0.02469860                  \n",
       "COX8C;KIAA1409 0.98537537                   0.98117169                  \n",
       "               TCGA.AB.2808.03A.01D.0741.05 TCGA.AB.2809.03A.01D.0741.05\n",
       "ATP2A1         0.78032215                   0.59317697                  \n",
       "SLMAP          0.92129838                   0.91930527                  \n",
       "MEOX2          0.04443957                   0.02832298                  \n",
       "HOXD3          0.07963455                   0.04705453                  \n",
       "PANX1          0.03145926                   0.02087033                  \n",
       "COX8C;KIAA1409 0.97975446                   0.98762202                  \n",
       "               TCGA.AB.2810.03A.01D.0741.05 TCGA.AB.2811.03A.01D.0741.05 ⋯\n",
       "ATP2A1         0.94480293                   0.58047182                   ⋯\n",
       "SLMAP          0.95642581                   0.93849838                   ⋯\n",
       "MEOX2          0.02952006                   0.01792710                   ⋯\n",
       "HOXD3          0.04435912                   0.03485283                   ⋯\n",
       "PANX1          0.02540435                   0.02989397                   ⋯\n",
       "COX8C;KIAA1409 0.98431479                   0.98766407                   ⋯\n",
       "               TCGA.AB.3000.03A.01D.0741.05 TCGA.AB.3001.03A.01D.0741.05\n",
       "ATP2A1         0.83005568                   0.82290990                  \n",
       "SLMAP          0.95412583                   0.90443546                  \n",
       "MEOX2          0.06767246                   0.06411176                  \n",
       "HOXD3          0.09877221                   0.41946849                  \n",
       "PANX1          0.02781691                   0.02180243                  \n",
       "COX8C;KIAA1409 0.98651179                   0.97579323                  \n",
       "               TCGA.AB.3002.03A.01D.0742.05 TCGA.AB.3005.03A.01D.0741.05\n",
       "ATP2A1         0.89679958                   0.11658628                  \n",
       "SLMAP          0.85448023                   0.90717826                  \n",
       "MEOX2          0.16421289                   0.04464091                  \n",
       "HOXD3          0.07224201                   0.04501668                  \n",
       "PANX1          0.04911097                   0.02475542                  \n",
       "COX8C;KIAA1409 0.98143972                   0.98301376                  \n",
       "               TCGA.AB.3006.03A.01D.0741.05 TCGA.AB.3007.03A.01D.0741.05\n",
       "ATP2A1         0.80347182                   0.75560129                  \n",
       "SLMAP          0.95398286                   0.95550721                  \n",
       "MEOX2          0.02638848                   0.03949624                  \n",
       "HOXD3          0.40585251                   0.04989831                  \n",
       "PANX1          0.02992100                   0.02032394                  \n",
       "COX8C;KIAA1409 0.98559621                   0.98593155                  \n",
       "               TCGA.AB.3008.03A.01D.0741.05 TCGA.AB.3009.03A.01D.0741.05\n",
       "ATP2A1         0.83767310                   0.87442817                  \n",
       "SLMAP          0.94396388                   0.09147400                  \n",
       "MEOX2          0.12658973                   0.78051071                  \n",
       "HOXD3          0.41369463                   0.84374067                  \n",
       "PANX1          0.02646141                   0.02353549                  \n",
       "COX8C;KIAA1409 0.98551191                   0.98634042                  \n",
       "               TCGA.AB.3011.03A.01D.0742.05 TCGA.AB.3012.03A.01D.0741.05\n",
       "ATP2A1         0.92869705                   0.77638303                  \n",
       "SLMAP          0.94334488                   0.95847147                  \n",
       "MEOX2          0.04326282                   0.02419994                  \n",
       "HOXD3          0.06195504                   0.48387039                  \n",
       "PANX1          0.03079307                   0.02183054                  \n",
       "COX8C;KIAA1409 0.98495073                   0.98439968                  "
      ]
     },
     "metadata": {},
     "output_type": "display_data"
    }
   ],
   "source": [
    "head(HM27.processed)"
   ]
  },
  {
   "cell_type": "code",
   "execution_count": 63,
   "metadata": {},
   "outputs": [
    {
     "data": {
      "text/html": [
       "<ol class=list-inline>\n",
       "\t<li>22486</li>\n",
       "\t<li>194</li>\n",
       "</ol>\n"
      ],
      "text/latex": [
       "\\begin{enumerate*}\n",
       "\\item 22486\n",
       "\\item 194\n",
       "\\end{enumerate*}\n"
      ],
      "text/markdown": [
       "1. 22486\n",
       "2. 194\n",
       "\n",
       "\n"
      ],
      "text/plain": [
       "[1] 22486   194"
      ]
     },
     "metadata": {},
     "output_type": "display_data"
    }
   ],
   "source": [
    "dim(HM27.processed)"
   ]
  },
  {
   "cell_type": "markdown",
   "metadata": {},
   "source": [
    "## Find the corresponding probes in the Figueroa paper"
   ]
  },
  {
   "cell_type": "code",
   "execution_count": 64,
   "metadata": {},
   "outputs": [
    {
     "data": {
      "text/html": [
       "9328"
      ],
      "text/latex": [
       "9328"
      ],
      "text/markdown": [
       "9328"
      ],
      "text/plain": [
       "[1] 9328"
      ]
     },
     "metadata": {},
     "output_type": "display_data"
    }
   ],
   "source": [
    "sum(duplicated(rownames(HM27.processed))) # there is actually duplicate probes for each gene"
   ]
  },
  {
   "cell_type": "code",
   "execution_count": 72,
   "metadata": {},
   "outputs": [],
   "source": [
    "findIdx <- function(probe.name) which(grepl(paste0(probe.name, '$|', probe.name, ';'), rownames(HM27.processed), fixed=F))\n",
    "FindIdx <- Vectorize(findIdx)                              \n",
    "res <- FindIdx(cluster.probes[[1]])"
   ]
  },
  {
   "cell_type": "markdown",
   "metadata": {},
   "source": [
    "### there are more than one probes matching each gene in the cluster"
   ]
  },
  {
   "cell_type": "code",
   "execution_count": 76,
   "metadata": {},
   "outputs": [
    {
     "name": "stdout",
     "output_type": "stream",
     "text": [
      "List of 173\n",
      " $ PHF13        : int [1:2] 5491 6987\n",
      " $ HNRPR        : int(0) \n",
      " $ HNRNPR       : int [1:2] 1464 5200\n",
      " $ TIE1         : int(0) \n",
      " $ SYDE2        : int(0) \n",
      " $ THEM4        : int [1:2] 3220 5677\n",
      " $ FCRLB        : int [1:2] 21193 22354\n",
      " $ DNM3         : int [1:2] 826 19061\n",
      " $ ZNF281       : int [1:2] 7474 14637\n",
      " $ MRPL55       : int [1:2] 6687 7642\n",
      " $ LBX2         : int(0) \n",
      " $ SDPR         : int [1:2] 5121 11747\n",
      " $ ICA1L        : int [1:3] 8842 11679 21634\n",
      " $ ZNF662       : int 21602\n",
      " $ CISH         : int [1:2] 5755 7252\n",
      " $ FSTL1        : int [1:2] 16396 18321\n",
      " $ TXNRD3       : int(0) \n",
      " $ PFN2         : int [1:2] 2371 19762\n",
      " $ GPR149       : int(0) \n",
      " $ PIGZ         : int [1:2] 775 4809\n",
      " $ CCDC96       : int [1:2] 3082 7604\n",
      " $ MGC21874     : int(0) \n",
      " $ CXCL1        : int [1:2] 1662 21017\n",
      " $ EREG         : int [1:2] 4038 15747\n",
      " $ TLR2         : int [1:2] 5364 15529\n",
      " $ DKFZP686E2158: int(0) \n",
      " $ CRHBP        : int [1:2] 13535 17815\n",
      " $ NEUROG1      : int [1:5] 3535 4012 9095 9669 12175\n",
      " $ PCDHB16      : int 9602\n",
      " $ PCDHB9       : int(0) \n",
      " $ PCDHGC5      : int [1:2] 779 13963\n",
      " $ JAKMIP2      : int [1:2] 681 13707\n",
      " $ POU5F1P4     : int(0) \n",
      " $ DAAM2        : int [1:2] 1619 11482\n",
      " $ FAM83B       : int(0) \n",
      " $ GPR6         : int [1:2] 10362 21401\n",
      " $ MAP7         : int [1:3] 1503 15948 16674\n",
      " $ GPR126       : int 3651\n",
      " $ CHCHD2       : int 17191\n",
      " $ GNG11        : int 18725\n",
      " $ TNPO3        : int 17985\n",
      " $ SLC39A14     : int [1:2] 4270 6317\n",
      " $ AGPAT6       : int [1:2] 7998 11736\n",
      " $ MOS          : int 18273\n",
      " $ WDR67        : int [1:2] 709 5757\n",
      " $ ELAVL2       : int 6144\n",
      " $ TEK          : int [1:2] 4085 7917\n",
      " $ IL11RA       : int [1:2] 2978 17538\n",
      " $ MCART1       : int [1:2] 3043 18347\n",
      " $ ISCA1        : int [1:2] 11268 11421\n",
      " $ C9orf31      : int(0) \n",
      " $ TAF3         : int(0) \n",
      " $ KIAA1462     : int(0) \n",
      " $ CYP26C1      : int [1:2] 16557 21522\n",
      " $ C10orf26     : int [1:2] 7583 12389\n",
      " $ ABLIM1       : int 4138\n",
      " $ CCDC34       : int [1:2] 1396 9841\n",
      " $ WT1          : int [1:20] 1391 3357 3641 4243 5275 9716 10339 10754 11051 12292 ...\n",
      " $ WIT1         : int [1:5] 12292 16070 18718 20846 20858\n",
      " $ APIP         : int [1:4] 5859 16997 19627 21137\n",
      " $ PDHX         : int [1:4] 5859 16997 19627 21137\n",
      " $ TIGD3        : int 10349\n",
      " $ ENDOD1       : int(0) \n",
      " $ SORL1        : int [1:2] 8115 13123\n",
      " $ LOH11CR2A    : int(0) \n",
      " $ VWF          : int 22241\n",
      " $ CD9          : int [1:2] 6865 9383\n",
      " $ GDF3         : int 13090\n",
      " $ CSDA         : int [1:2] 3167 5312\n",
      " $ IPO8         : int [1:2] 16073 21125\n",
      " $ KRT81        : int 12805\n",
      " $ MSRB3        : int [1:2] 6160 16642\n",
      " $ C12orf23     : int [1:2] 5252 21438\n",
      " $ HTR2A        : int [1:2] 252 1839\n",
      " $ DHRS12       : int 4531\n",
      " $ OXA1L        : int 13705\n",
      " $ PABPN1       : int 8964\n",
      " $ ZFHX2        : int(0) \n",
      " $ SLC8A3       : int [1:2] 4229 11514\n",
      " $ GTF2A1       : int 14282\n",
      " $ SCG5         : int 12904\n",
      " $ PAQR5        : int [1:2] 10596 16367\n",
      " $ N4BP1        : int(0) \n",
      " $ GAN          : int 9385\n",
      " $ VPS53        : int [1:2] 3530 5258\n",
      " $ ZFP3         : int 3986\n",
      " $ RICH2        : int(0) \n",
      " $ PRR6         : int(0) \n",
      " $ FLJ25006     : int [1:2] 7326 18481\n",
      " $ MYL4         : int 4301\n",
      " $ RECQL5       : int [1:2] 2977 12940\n",
      " $ SAP30BP      : int [1:2] 2977 12940\n",
      " $ FOXJ1        : int [1:2] 1048 19685\n",
      " $ CANT1        : int [1:2] 892 17330\n",
      " $ TBC1D16      : int [1:2] 16029 19661\n",
      " $ MGC15523     : int(0) \n",
      " $ ZFP161       : int [1:2] 3525 4485\n",
      " $ TUBB6        : int [1:2] 5900 18314\n",
      " $ PMAIP1       : int 10850\n",
      "  [list output truncated]\n",
      "NULL\n"
     ]
    }
   ],
   "source": [
    "print(str(res))"
   ]
  },
  {
   "cell_type": "code",
   "execution_count": 79,
   "metadata": {},
   "outputs": [],
   "source": [
    "cluster1.idx <- as.numeric(unlist(res))"
   ]
  },
  {
   "cell_type": "code",
   "execution_count": 89,
   "metadata": {},
   "outputs": [],
   "source": [
    "cluster1.heatmap <- regHeatmap(HM27.processed[cluster1.idx,])"
   ]
  },
  {
   "cell_type": "code",
   "execution_count": 90,
   "metadata": {},
   "outputs": [
    {
     "data": {
      "image/png": "[encoded data removed]",
      "text/plain": [
       "plot without title"
      ]
     },
     "metadata": {},
     "output_type": "display_data"
    }
   ],
   "source": [
    "options(repr.plot.width=8, repr.plot.width=8)\n",
    "plot(cluster1.heatmap)"
   ]
  },
  {
   "cell_type": "markdown",
   "metadata": {},
   "source": [
    "# the scale of color look really bad; convert to M value\n",
    "\n",
    "\\begin{align}\n",
    "\\beta &= \\frac{2^M}{2^M + 1} \\\\\n",
    "M &= \\log_2 \\frac{\\beta}{1 - \\beta}\n",
    "\\end{align}"
   ]
  },
  {
   "cell_type": "code",
   "execution_count": 92,
   "metadata": {},
   "outputs": [],
   "source": [
    "beta2M <- function(beta) {\n",
    "    log(beta/(1 - beta), base=2)\n",
    "}\n",
    "Beta2M <- Vectorize(beta2M)"
   ]
  },
  {
   "cell_type": "code",
   "execution_count": 93,
   "metadata": {},
   "outputs": [],
   "source": [
    "test <- Beta2M(HM27.processed) # need to convert to matrix form"
   ]
  },
  {
   "cell_type": "code",
   "execution_count": 95,
   "metadata": {},
   "outputs": [
    {
     "data": {
      "text/html": [
       "4362284"
      ],
      "text/latex": [
       "4362284"
      ],
      "text/markdown": [
       "4362284"
      ],
      "text/plain": [
       "[1] 4362284"
      ]
     },
     "metadata": {},
     "output_type": "display_data"
    }
   ],
   "source": [
    "length(test)"
   ]
  }
 ],
 "metadata": {
  "kernelspec": {
   "display_name": "R",
   "language": "R",
   "name": "ir"
  },
  "language_info": {
   "codemirror_mode": "r",
   "file_extension": ".r",
   "mimetype": "text/x-r-source",
   "name": "R",
   "pygments_lexer": "r",
   "version": "3.4.0"
  }
 },
 "nbformat": 4,
 "nbformat_minor": 2
}
