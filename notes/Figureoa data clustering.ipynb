{
 "cells": [
  {
   "cell_type": "markdown",
   "metadata": {},
   "source": [
    "# Clustering on Figueroa data\n",
    "\n",
    "Aims:\n",
    "- reproduce the Figueroa patient clusters (16 clusters) and assign the same labels as in Figueroa 2009\n",
    "- for each cluster, obtain signature genes and plot the heatmap\n",
    "- determine the best strategy for clustering the gene probes"
   ]
  },
  {
   "cell_type": "code",
   "execution_count": 1,
   "metadata": {},
   "outputs": [
    {
     "name": "stderr",
     "output_type": "stream",
     "text": [
      "Warning message in file(file, \"rt\"):\n",
      "“cannot open file '../data/Figueroa/data/GEP-filtered.tsv': No such file or directory”"
     ]
    },
    {
     "ename": "ERROR",
     "evalue": "Error in file(file, \"rt\"): cannot open the connection\n",
     "execution_count": 1,
     "output_type": "error",
     "traceback": [
      "Error in file(file, \"rt\"): cannot open the connection\nTraceback:\n",
      "1. read.csv(\"../data/Figueroa/data/GEP-filtered.tsv\", sep = \"\\t\", \n .     stringsAsFactor = F, header = T)",
      "2. read.table(file = file, header = header, sep = sep, quote = quote, \n .     dec = dec, fill = fill, comment.char = comment.char, ...)",
      "3. file(file, \"rt\")"
     ]
    }
   ],
   "source": [
    "# load RNAseq and methylation data\n",
    "rnaseq <- read.csv('../data/Figueroa/data/GEP-filtered.tsv', sep='\\t', stringsAsFactor=F,\n",
    "                       header=T)\n",
    "methylation <- read.csv('../data/Figueroa/data/methylation-filtered.tsv', sep='\\t', stringsAsFactor=F,\n",
    "                       header=T)"
   ]
  },
  {
   "cell_type": "code",
   "execution_count": null,
   "metadata": {},
   "outputs": [],
   "source": []
  }
 ],
 "metadata": {
  "kernelspec": {
   "display_name": "R",
   "language": "R",
   "name": "ir"
  },
  "language_info": {
   "codemirror_mode": "r",
   "file_extension": ".r",
   "mimetype": "text/x-r-source",
   "name": "R",
   "pygments_lexer": "r",
   "version": "3.4.4"
  }
 },
 "nbformat": 4,
 "nbformat_minor": 2
}
