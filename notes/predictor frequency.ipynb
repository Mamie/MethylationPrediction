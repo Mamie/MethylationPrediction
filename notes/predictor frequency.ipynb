{
 "cells": [
  {
   "cell_type": "markdown",
   "metadata": {},
   "source": [
    "# Table of predictor frequency in each cluster"
   ]
  },
  {
   "cell_type": "markdown",
   "metadata": {},
   "source": [
    "## AML HM 450 predictor frequencies\n",
    "\n",
    "File location: `/oak/stanford/groups/andrewg/users/szmamie/repos/MethylationPrediction/data/results/LAML/vbsr-hm27-M-data/`"
   ]
  },
  {
   "cell_type": "code",
   "execution_count": 1,
   "metadata": {},
   "outputs": [
    {
     "name": "stderr",
     "output_type": "stream",
     "text": [
      "\n",
      "Attaching package: ‘dplyr’\n",
      "\n",
      "The following objects are masked from ‘package:stats’:\n",
      "\n",
      "    filter, lag\n",
      "\n",
      "The following objects are masked from ‘package:base’:\n",
      "\n",
      "    intersect, setdiff, setequal, union\n",
      "\n",
      "Loading required package: sp\n",
      "Loading required package: maps\n",
      "Loading required package: shapefiles\n",
      "Loading required package: foreign\n",
      "\n",
      "Attaching package: ‘shapefiles’\n",
      "\n",
      "The following objects are masked from ‘package:foreign’:\n",
      "\n",
      "    read.dbf, write.dbf\n",
      "\n"
     ]
    }
   ],
   "source": [
    "library(stringr)\n",
    "source('helperFunctions.R')"
   ]
  },
  {
   "cell_type": "code",
   "execution_count": 2,
   "metadata": {},
   "outputs": [],
   "source": [
    "base.dir <- \"../data/results/LAML/vbsr-hm27-M-data/\"\n",
    "load(paste0(base.dir, 'cluster1.RData'))"
   ]
  },
  {
   "cell_type": "markdown",
   "metadata": {},
   "source": [
    "The predictors are in coef data frame, aggregate all the predictor in a single dataframe and save it in the data/results folder"
   ]
  },
  {
   "cell_type": "code",
   "execution_count": 3,
   "metadata": {},
   "outputs": [
    {
     "data": {
      "text/html": [
       "<table>\n",
       "<thead><tr><th scope=col>gene</th><th scope=col>coef</th></tr></thead>\n",
       "<tbody>\n",
       "\t<tr><td>BBS7      </td><td>-0.3374807</td></tr>\n",
       "\t<tr><td>IRAK3     </td><td>-0.1493213</td></tr>\n",
       "\t<tr><td>KLF11     </td><td>-0.1770719</td></tr>\n",
       "\t<tr><td>MGC12982  </td><td> 0.2388038</td></tr>\n",
       "\t<tr><td>NRSN2     </td><td>-0.1253448</td></tr>\n",
       "\t<tr><td>SLC38A2   </td><td> 0.4207201</td></tr>\n",
       "</tbody>\n",
       "</table>\n"
      ],
      "text/latex": [
       "\\begin{tabular}{r|ll}\n",
       " gene & coef\\\\\n",
       "\\hline\n",
       "\t BBS7       & -0.3374807\\\\\n",
       "\t IRAK3      & -0.1493213\\\\\n",
       "\t KLF11      & -0.1770719\\\\\n",
       "\t MGC12982   &  0.2388038\\\\\n",
       "\t NRSN2      & -0.1253448\\\\\n",
       "\t SLC38A2    &  0.4207201\\\\\n",
       "\\end{tabular}\n"
      ],
      "text/markdown": [
       "\n",
       "gene | coef | \n",
       "|---|---|---|---|---|---|\n",
       "| BBS7       | -0.3374807 | \n",
       "| IRAK3      | -0.1493213 | \n",
       "| KLF11      | -0.1770719 | \n",
       "| MGC12982   |  0.2388038 | \n",
       "| NRSN2      | -0.1253448 | \n",
       "| SLC38A2    |  0.4207201 | \n",
       "\n",
       "\n"
      ],
      "text/plain": [
       "  gene     coef      \n",
       "1 BBS7     -0.3374807\n",
       "2 IRAK3    -0.1493213\n",
       "3 KLF11    -0.1770719\n",
       "4 MGC12982  0.2388038\n",
       "5 NRSN2    -0.1253448\n",
       "6 SLC38A2   0.4207201"
      ]
     },
     "metadata": {},
     "output_type": "display_data"
    },
    {
     "data": {
      "text/html": [
       "'data.frame'"
      ],
      "text/latex": [
       "'data.frame'"
      ],
      "text/markdown": [
       "'data.frame'"
      ],
      "text/plain": [
       "[1] \"data.frame\""
      ]
     },
     "metadata": {},
     "output_type": "display_data"
    }
   ],
   "source": [
    "coef\n",
    "class(coef)"
   ]
  },
  {
   "cell_type": "code",
   "execution_count": 4,
   "metadata": {},
   "outputs": [
    {
     "data": {
      "text/html": [
       "'1'"
      ],
      "text/latex": [
       "'1'"
      ],
      "text/markdown": [
       "'1'"
      ],
      "text/plain": [
       "[1] \"1\""
      ]
     },
     "metadata": {},
     "output_type": "display_data"
    }
   ],
   "source": [
    "str_match('cluster1.RData', 'cluster([0-9]*)\\\\.RData')[2]"
   ]
  },
  {
   "cell_type": "code",
   "execution_count": 17,
   "metadata": {},
   "outputs": [],
   "source": [
    "predictors <- data.frame(gene=character(), coef=numeric(), ID=character(), stringsAsFactors=FALSE)\n",
    "for (f in list.files(base.dir, 'cluster[0-9]*\\\\.RData')) {\n",
    "    load(paste0(base.dir, f))\n",
    "    idx <- str_match(f, 'cluster([0-9]*)\\\\.RData')[2]\n",
    "    coef$cluster <- idx\n",
    "    predictors <- rbind(predictors, coef)\n",
    "}"
   ]
  },
  {
   "cell_type": "code",
   "execution_count": 18,
   "metadata": {},
   "outputs": [
    {
     "data": {
      "text/html": [
       "<ol class=list-inline>\n",
       "\t<li>75</li>\n",
       "\t<li>3</li>\n",
       "</ol>\n"
      ],
      "text/latex": [
       "\\begin{enumerate*}\n",
       "\\item 75\n",
       "\\item 3\n",
       "\\end{enumerate*}\n"
      ],
      "text/markdown": [
       "1. 75\n",
       "2. 3\n",
       "\n",
       "\n"
      ],
      "text/plain": [
       "[1] 75  3"
      ]
     },
     "metadata": {},
     "output_type": "display_data"
    },
    {
     "data": {
      "text/html": [
       "53"
      ],
      "text/latex": [
       "53"
      ],
      "text/markdown": [
       "53"
      ],
      "text/plain": [
       "[1] 53"
      ]
     },
     "metadata": {},
     "output_type": "display_data"
    },
    {
     "data": {
      "text/html": [
       "<table>\n",
       "<thead><tr><th scope=col>gene</th><th scope=col>coef</th><th scope=col>cluster</th></tr></thead>\n",
       "<tbody>\n",
       "\t<tr><td>BBS7      </td><td>-0.3374807</td><td>1         </td></tr>\n",
       "\t<tr><td>IRAK3     </td><td>-0.1493213</td><td>1         </td></tr>\n",
       "\t<tr><td>KLF11     </td><td>-0.1770719</td><td>1         </td></tr>\n",
       "\t<tr><td>MGC12982  </td><td> 0.2388038</td><td>1         </td></tr>\n",
       "\t<tr><td>NRSN2     </td><td>-0.1253448</td><td>1         </td></tr>\n",
       "\t<tr><td>SLC38A2   </td><td> 0.4207201</td><td>1         </td></tr>\n",
       "</tbody>\n",
       "</table>\n"
      ],
      "text/latex": [
       "\\begin{tabular}{r|lll}\n",
       " gene & coef & cluster\\\\\n",
       "\\hline\n",
       "\t BBS7       & -0.3374807 & 1         \\\\\n",
       "\t IRAK3      & -0.1493213 & 1         \\\\\n",
       "\t KLF11      & -0.1770719 & 1         \\\\\n",
       "\t MGC12982   &  0.2388038 & 1         \\\\\n",
       "\t NRSN2      & -0.1253448 & 1         \\\\\n",
       "\t SLC38A2    &  0.4207201 & 1         \\\\\n",
       "\\end{tabular}\n"
      ],
      "text/markdown": [
       "\n",
       "gene | coef | cluster | \n",
       "|---|---|---|---|---|---|\n",
       "| BBS7       | -0.3374807 | 1          | \n",
       "| IRAK3      | -0.1493213 | 1          | \n",
       "| KLF11      | -0.1770719 | 1          | \n",
       "| MGC12982   |  0.2388038 | 1          | \n",
       "| NRSN2      | -0.1253448 | 1          | \n",
       "| SLC38A2    |  0.4207201 | 1          | \n",
       "\n",
       "\n"
      ],
      "text/plain": [
       "  gene     coef       cluster\n",
       "1 BBS7     -0.3374807 1      \n",
       "2 IRAK3    -0.1493213 1      \n",
       "3 KLF11    -0.1770719 1      \n",
       "4 MGC12982  0.2388038 1      \n",
       "5 NRSN2    -0.1253448 1      \n",
       "6 SLC38A2   0.4207201 1      "
      ]
     },
     "metadata": {},
     "output_type": "display_data"
    }
   ],
   "source": [
    "dim(predictors)\n",
    "length(unique(predictors$gene))\n",
    "head(predictors)"
   ]
  },
  {
   "cell_type": "code",
   "execution_count": 19,
   "metadata": {},
   "outputs": [
    {
     "name": "stderr",
     "output_type": "stream",
     "text": [
      "Warning message:\n",
      "“Column `gene`/`hgnc_symbol` joining factor and character vector, coercing into character vector”"
     ]
    }
   ],
   "source": [
    "freq.table <- data.frame(sort(table(predictors$gene), decreasing=T))\n",
    "annot.freq.table <- MergeHGNCDescription(predictors)"
   ]
  },
  {
   "cell_type": "code",
   "execution_count": 20,
   "metadata": {},
   "outputs": [
    {
     "data": {
      "text/html": [
       "<table>\n",
       "<thead><tr><th scope=col>gene</th><th scope=col>coef</th><th scope=col>cluster</th><th scope=col>description</th></tr></thead>\n",
       "<tbody>\n",
       "\t<tr><td>BBS7                                                                          </td><td>-0.3374807                                                                    </td><td>1                                                                             </td><td>Bardet-Biedl syndrome 7 [Source:HGNC Symbol;Acc:HGNC:18758]                   </td></tr>\n",
       "\t<tr><td>IRAK3                                                                         </td><td>-0.1493213                                                                    </td><td>1                                                                             </td><td>interleukin 1 receptor associated kinase 3 [Source:HGNC Symbol;Acc:HGNC:17020]</td></tr>\n",
       "\t<tr><td>KLF11                                                                         </td><td>-0.1770719                                                                    </td><td>1                                                                             </td><td>Kruppel like factor 11 [Source:HGNC Symbol;Acc:HGNC:11811]                    </td></tr>\n",
       "\t<tr><td>MGC12982                                                                      </td><td> 0.2388038                                                                    </td><td>1                                                                             </td><td>NA                                                                            </td></tr>\n",
       "\t<tr><td>NRSN2                                                                         </td><td>-0.1253448                                                                    </td><td>1                                                                             </td><td>neurensin 2 [Source:HGNC Symbol;Acc:HGNC:16229]                               </td></tr>\n",
       "\t<tr><td>SLC38A2                                                                       </td><td> 0.4207201                                                                    </td><td>1                                                                             </td><td>solute carrier family 38 member 2 [Source:HGNC Symbol;Acc:HGNC:13448]         </td></tr>\n",
       "</tbody>\n",
       "</table>\n"
      ],
      "text/latex": [
       "\\begin{tabular}{r|llll}\n",
       " gene & coef & cluster & description\\\\\n",
       "\\hline\n",
       "\t BBS7                                                                               & -0.3374807                                                                         & 1                                                                                  & Bardet-Biedl syndrome 7 {[}Source:HGNC Symbol;Acc:HGNC:18758{]}                   \\\\\n",
       "\t IRAK3                                                                              & -0.1493213                                                                         & 1                                                                                  & interleukin 1 receptor associated kinase 3 {[}Source:HGNC Symbol;Acc:HGNC:17020{]}\\\\\n",
       "\t KLF11                                                                              & -0.1770719                                                                         & 1                                                                                  & Kruppel like factor 11 {[}Source:HGNC Symbol;Acc:HGNC:11811{]}                    \\\\\n",
       "\t MGC12982                                                                       &  0.2388038                                                                     & 1                                                                              & NA                                                                            \\\\\n",
       "\t NRSN2                                                                              & -0.1253448                                                                         & 1                                                                                  & neurensin 2 {[}Source:HGNC Symbol;Acc:HGNC:16229{]}                               \\\\\n",
       "\t SLC38A2                                                                            &  0.4207201                                                                         & 1                                                                                  & solute carrier family 38 member 2 {[}Source:HGNC Symbol;Acc:HGNC:13448{]}         \\\\\n",
       "\\end{tabular}\n"
      ],
      "text/markdown": [
       "\n",
       "gene | coef | cluster | description | \n",
       "|---|---|---|---|---|---|\n",
       "| BBS7                                                                           | -0.3374807                                                                     | 1                                                                              | Bardet-Biedl syndrome 7 [Source:HGNC Symbol;Acc:HGNC:18758]                    | \n",
       "| IRAK3                                                                          | -0.1493213                                                                     | 1                                                                              | interleukin 1 receptor associated kinase 3 [Source:HGNC Symbol;Acc:HGNC:17020] | \n",
       "| KLF11                                                                          | -0.1770719                                                                     | 1                                                                              | Kruppel like factor 11 [Source:HGNC Symbol;Acc:HGNC:11811]                     | \n",
       "| MGC12982                                                                       |  0.2388038                                                                     | 1                                                                              | NA                                                                             | \n",
       "| NRSN2                                                                          | -0.1253448                                                                     | 1                                                                              | neurensin 2 [Source:HGNC Symbol;Acc:HGNC:16229]                                | \n",
       "| SLC38A2                                                                        |  0.4207201                                                                     | 1                                                                              | solute carrier family 38 member 2 [Source:HGNC Symbol;Acc:HGNC:13448]          | \n",
       "\n",
       "\n"
      ],
      "text/plain": [
       "  gene     coef       cluster\n",
       "1 BBS7     -0.3374807 1      \n",
       "2 IRAK3    -0.1493213 1      \n",
       "3 KLF11    -0.1770719 1      \n",
       "4 MGC12982  0.2388038 1      \n",
       "5 NRSN2    -0.1253448 1      \n",
       "6 SLC38A2   0.4207201 1      \n",
       "  description                                                                   \n",
       "1 Bardet-Biedl syndrome 7 [Source:HGNC Symbol;Acc:HGNC:18758]                   \n",
       "2 interleukin 1 receptor associated kinase 3 [Source:HGNC Symbol;Acc:HGNC:17020]\n",
       "3 Kruppel like factor 11 [Source:HGNC Symbol;Acc:HGNC:11811]                    \n",
       "4 NA                                                                            \n",
       "5 neurensin 2 [Source:HGNC Symbol;Acc:HGNC:16229]                               \n",
       "6 solute carrier family 38 member 2 [Source:HGNC Symbol;Acc:HGNC:13448]         "
      ]
     },
     "metadata": {},
     "output_type": "display_data"
    }
   ],
   "source": [
    "head(annot.freq.table)"
   ]
  },
  {
   "cell_type": "code",
   "execution_count": 21,
   "metadata": {},
   "outputs": [
    {
     "data": {
      "text/html": [
       "<table>\n",
       "<thead><tr><th scope=col>Var1</th><th scope=col>Freq</th></tr></thead>\n",
       "<tbody>\n",
       "\t<tr><td>TNFSF12 </td><td>5       </td></tr>\n",
       "\t<tr><td>C7orf46 </td><td>5       </td></tr>\n",
       "\t<tr><td>SH3PXD2A</td><td>4       </td></tr>\n",
       "\t<tr><td>IRAK3   </td><td>3       </td></tr>\n",
       "\t<tr><td>ZNF518B </td><td>3       </td></tr>\n",
       "\t<tr><td>ADPRH   </td><td>3       </td></tr>\n",
       "</tbody>\n",
       "</table>\n"
      ],
      "text/latex": [
       "\\begin{tabular}{r|ll}\n",
       " Var1 & Freq\\\\\n",
       "\\hline\n",
       "\t TNFSF12  & 5       \\\\\n",
       "\t C7orf46  & 5       \\\\\n",
       "\t SH3PXD2A & 4       \\\\\n",
       "\t IRAK3    & 3       \\\\\n",
       "\t ZNF518B  & 3       \\\\\n",
       "\t ADPRH    & 3       \\\\\n",
       "\\end{tabular}\n"
      ],
      "text/markdown": [
       "\n",
       "Var1 | Freq | \n",
       "|---|---|---|---|---|---|\n",
       "| TNFSF12  | 5        | \n",
       "| C7orf46  | 5        | \n",
       "| SH3PXD2A | 4        | \n",
       "| IRAK3    | 3        | \n",
       "| ZNF518B  | 3        | \n",
       "| ADPRH    | 3        | \n",
       "\n",
       "\n"
      ],
      "text/plain": [
       "  Var1     Freq\n",
       "1 TNFSF12  5   \n",
       "2 C7orf46  5   \n",
       "3 SH3PXD2A 4   \n",
       "4 IRAK3    3   \n",
       "5 ZNF518B  3   \n",
       "6 ADPRH    3   "
      ]
     },
     "metadata": {},
     "output_type": "display_data"
    }
   ],
   "source": [
    "head(freq.table)"
   ]
  },
  {
   "cell_type": "code",
   "execution_count": 27,
   "metadata": {},
   "outputs": [
    {
     "name": "stderr",
     "output_type": "stream",
     "text": [
      "Warning message:\n",
      "“Column `gene`/`Var1` joining character vector and factor, coercing into character vector”"
     ]
    },
    {
     "data": {
      "text/html": [
       "<table>\n",
       "<thead><tr><th scope=col>gene</th><th scope=col>description</th><th scope=col>Freq</th></tr></thead>\n",
       "<tbody>\n",
       "\t<tr><td>TNFSF12                                                                                         </td><td>TNF superfamily member 12 [Source:HGNC Symbol;Acc:HGNC:11927]                                   </td><td>5                                                                                               </td></tr>\n",
       "\t<tr><td>C7orf46                                                                                         </td><td>NA                                                                                              </td><td>5                                                                                               </td></tr>\n",
       "\t<tr><td>SH3PXD2A                                                                                        </td><td>SH3 and PX domains 2A [Source:HGNC Symbol;Acc:HGNC:23664]                                       </td><td>4                                                                                               </td></tr>\n",
       "\t<tr><td>IRAK3                                                                                           </td><td>interleukin 1 receptor associated kinase 3 [Source:HGNC Symbol;Acc:HGNC:17020]                  </td><td>3                                                                                               </td></tr>\n",
       "\t<tr><td>ZNF518B                                                                                         </td><td>zinc finger protein 518B [Source:HGNC Symbol;Acc:HGNC:29365]                                    </td><td>3                                                                                               </td></tr>\n",
       "\t<tr><td>ADPRH                                                                                           </td><td>ADP-ribosylarginine hydrolase [Source:HGNC Symbol;Acc:HGNC:269]                                 </td><td>3                                                                                               </td></tr>\n",
       "\t<tr><td>KLF11                                                                                           </td><td>Kruppel like factor 11 [Source:HGNC Symbol;Acc:HGNC:11811]                                      </td><td>2                                                                                               </td></tr>\n",
       "\t<tr><td>MGC12982                                                                                        </td><td>NA                                                                                              </td><td>2                                                                                               </td></tr>\n",
       "\t<tr><td>MANEAL                                                                                          </td><td>mannosidase endo-alpha like [Source:HGNC Symbol;Acc:HGNC:26452]                                 </td><td>2                                                                                               </td></tr>\n",
       "\t<tr><td>RPP25                                                                                           </td><td>ribonuclease P and MRP subunit p25 [Source:HGNC Symbol;Acc:HGNC:30361]                          </td><td>2                                                                                               </td></tr>\n",
       "\t<tr><td>ACCN3                                                                                           </td><td>NA                                                                                              </td><td>2                                                                                               </td></tr>\n",
       "\t<tr><td>BBS7                                                                                            </td><td>Bardet-Biedl syndrome 7 [Source:HGNC Symbol;Acc:HGNC:18758]                                     </td><td>1                                                                                               </td></tr>\n",
       "\t<tr><td>NRSN2                                                                                           </td><td>neurensin 2 [Source:HGNC Symbol;Acc:HGNC:16229]                                                 </td><td>1                                                                                               </td></tr>\n",
       "\t<tr><td>SLC38A2                                                                                         </td><td>solute carrier family 38 member 2 [Source:HGNC Symbol;Acc:HGNC:13448]                           </td><td>1                                                                                               </td></tr>\n",
       "\t<tr><td>FAM164C                                                                                         </td><td>NA                                                                                              </td><td>1                                                                                               </td></tr>\n",
       "\t<tr><td>GALC                                                                                            </td><td>galactosylceramidase [Source:HGNC Symbol;Acc:HGNC:4115]                                         </td><td>1                                                                                               </td></tr>\n",
       "\t<tr><td>SHQ1                                                                                            </td><td>SHQ1, H/ACA ribonucleoprotein assembly factor [Source:HGNC Symbol;Acc:HGNC:25543]               </td><td>1                                                                                               </td></tr>\n",
       "\t<tr><td>TPMT                                                                                            </td><td>thiopurine S-methyltransferase [Source:HGNC Symbol;Acc:HGNC:12014]                              </td><td>1                                                                                               </td></tr>\n",
       "\t<tr><td>C11orf74                                                                                        </td><td>chromosome 11 open reading frame 74 [Source:HGNC Symbol;Acc:HGNC:25142]                         </td><td>1                                                                                               </td></tr>\n",
       "\t<tr><td>CHFR                                                                                            </td><td>checkpoint with forkhead and ring finger domains [Source:HGNC Symbol;Acc:HGNC:20455]            </td><td>1                                                                                               </td></tr>\n",
       "\t<tr><td>IMPACT                                                                                          </td><td>impact RWD domain protein [Source:HGNC Symbol;Acc:HGNC:20387]                                   </td><td>1                                                                                               </td></tr>\n",
       "\t<tr><td>FAM109B                                                                                         </td><td>family with sequence similarity 109 member B [Source:HGNC Symbol;Acc:HGNC:27161]                </td><td>1                                                                                               </td></tr>\n",
       "\t<tr><td>GLO1                                                                                            </td><td>glyoxalase I [Source:HGNC Symbol;Acc:HGNC:4323]                                                 </td><td>1                                                                                               </td></tr>\n",
       "\t<tr><td>LDLRAD2                                                                                         </td><td>low density lipoprotein receptor class A domain containing 2 [Source:HGNC Symbol;Acc:HGNC:32071]</td><td>1                                                                                               </td></tr>\n",
       "\t<tr><td>SQRDL                                                                                           </td><td>NA                                                                                              </td><td>1                                                                                               </td></tr>\n",
       "\t<tr><td>ITPRIPL2                                                                                        </td><td>ITPRIP like 2 [Source:HGNC Symbol;Acc:HGNC:27257]                                               </td><td>1                                                                                               </td></tr>\n",
       "\t<tr><td>LOC100128288                                                                                    </td><td>NA                                                                                              </td><td>1                                                                                               </td></tr>\n",
       "\t<tr><td>MTX3                                                                                            </td><td>metaxin 3 [Source:HGNC Symbol;Acc:HGNC:24812]                                                   </td><td>1                                                                                               </td></tr>\n",
       "\t<tr><td>C1orf104                                                                                        </td><td>NA                                                                                              </td><td>1                                                                                               </td></tr>\n",
       "\t<tr><td>DNAJA4                                                                                          </td><td>DnaJ heat shock protein family (Hsp40) member A4 [Source:HGNC Symbol;Acc:HGNC:14885]            </td><td>1                                                                                               </td></tr>\n",
       "\t<tr><td>TMEM126B                                                                                        </td><td>transmembrane protein 126B [Source:HGNC Symbol;Acc:HGNC:30883]                                  </td><td>1                                                                                               </td></tr>\n",
       "\t<tr><td>FHDC1                                                                                           </td><td>FH2 domain containing 1 [Source:HGNC Symbol;Acc:HGNC:29363]                                     </td><td>1                                                                                               </td></tr>\n",
       "\t<tr><td>PDSS1                                                                                           </td><td>decaprenyl diphosphate synthase subunit 1 [Source:HGNC Symbol;Acc:HGNC:17759]                   </td><td>1                                                                                               </td></tr>\n",
       "\t<tr><td>RAB11FIP1                                                                                       </td><td>RAB11 family interacting protein 1 [Source:HGNC Symbol;Acc:HGNC:30265]                          </td><td>1                                                                                               </td></tr>\n",
       "\t<tr><td>ZBTB20                                                                                          </td><td>zinc finger and BTB domain containing 20 [Source:HGNC Symbol;Acc:HGNC:13503]                    </td><td>1                                                                                               </td></tr>\n",
       "\t<tr><td>ANKMY1                                                                                          </td><td>ankyrin repeat and MYND domain containing 1 [Source:HGNC Symbol;Acc:HGNC:20987]                 </td><td>1                                                                                               </td></tr>\n",
       "\t<tr><td>CIDEB                                                                                           </td><td>cell death-inducing DFFA-like effector b [Source:HGNC Symbol;Acc:HGNC:1977]                     </td><td>1                                                                                               </td></tr>\n",
       "\t<tr><td>ELMO1                                                                                           </td><td>engulfment and cell motility 1 [Source:HGNC Symbol;Acc:HGNC:16286]                              </td><td>1                                                                                               </td></tr>\n",
       "\t<tr><td>QRICH2                                                                                          </td><td>glutamine rich 2 [Source:HGNC Symbol;Acc:HGNC:25326]                                            </td><td>1                                                                                               </td></tr>\n",
       "\t<tr><td>BNIP3                                                                                           </td><td>BCL2 interacting protein 3 [Source:HGNC Symbol;Acc:HGNC:1084]                                   </td><td>1                                                                                               </td></tr>\n",
       "\t<tr><td>FXR2                                                                                            </td><td>FMR1 autosomal homolog 2 [Source:HGNC Symbol;Acc:HGNC:4024]                                     </td><td>1                                                                                               </td></tr>\n",
       "\t<tr><td>ICOSLG                                                                                          </td><td>inducible T cell costimulator ligand [Source:HGNC Symbol;Acc:HGNC:17087]                        </td><td>1                                                                                               </td></tr>\n",
       "\t<tr><td>HCG11                                                                                           </td><td>HLA complex group 11 (non-protein coding) [Source:HGNC Symbol;Acc:HGNC:17707]                   </td><td>1                                                                                               </td></tr>\n",
       "\t<tr><td>TSSK3                                                                                           </td><td>testis specific serine kinase 3 [Source:HGNC Symbol;Acc:HGNC:15473]                             </td><td>1                                                                                               </td></tr>\n",
       "\t<tr><td>ACTG1                                                                                           </td><td>actin gamma 1 [Source:HGNC Symbol;Acc:HGNC:144]                                                 </td><td>1                                                                                               </td></tr>\n",
       "\t<tr><td>KIAA0495                                                                                        </td><td>NA                                                                                              </td><td>1                                                                                               </td></tr>\n",
       "\t<tr><td>MUC5B                                                                                           </td><td>mucin 5B, oligomeric mucus/gel-forming [Source:HGNC Symbol;Acc:HGNC:7516]                       </td><td>1                                                                                               </td></tr>\n",
       "\t<tr><td>RAPGEFL1                                                                                        </td><td>Rap guanine nucleotide exchange factor like 1 [Source:HGNC Symbol;Acc:HGNC:17428]               </td><td>1                                                                                               </td></tr>\n",
       "\t<tr><td>ANUBL1                                                                                          </td><td>NA                                                                                              </td><td>1                                                                                               </td></tr>\n",
       "\t<tr><td>ARRDC5                                                                                          </td><td>arrestin domain containing 5 [Source:HGNC Symbol;Acc:HGNC:31407]                                </td><td>1                                                                                               </td></tr>\n",
       "\t<tr><td>LDLR                                                                                            </td><td>low density lipoprotein receptor [Source:HGNC Symbol;Acc:HGNC:6547]                             </td><td>1                                                                                               </td></tr>\n",
       "\t<tr><td>SEPN1                                                                                           </td><td>NA                                                                                              </td><td>1                                                                                               </td></tr>\n",
       "\t<tr><td>SLC25A19                                                                                        </td><td>solute carrier family 25 member 19 [Source:HGNC Symbol;Acc:HGNC:14409]                          </td><td>1                                                                                               </td></tr>\n",
       "</tbody>\n",
       "</table>\n"
      ],
      "text/latex": [
       "\\begin{tabular}{r|lll}\n",
       " gene & description & Freq\\\\\n",
       "\\hline\n",
       "\t TNFSF12                                                                                              & TNF superfamily member 12 {[}Source:HGNC Symbol;Acc:HGNC:11927{]}                                    & 5                                                                                                   \\\\\n",
       "\t C7orf46                                                                                          & NA                                                                                               & 5                                                                                               \\\\\n",
       "\t SH3PXD2A                                                                                             & SH3 and PX domains 2A {[}Source:HGNC Symbol;Acc:HGNC:23664{]}                                        & 4                                                                                                   \\\\\n",
       "\t IRAK3                                                                                                & interleukin 1 receptor associated kinase 3 {[}Source:HGNC Symbol;Acc:HGNC:17020{]}                   & 3                                                                                                   \\\\\n",
       "\t ZNF518B                                                                                              & zinc finger protein 518B {[}Source:HGNC Symbol;Acc:HGNC:29365{]}                                     & 3                                                                                                   \\\\\n",
       "\t ADPRH                                                                                                & ADP-ribosylarginine hydrolase {[}Source:HGNC Symbol;Acc:HGNC:269{]}                                  & 3                                                                                                   \\\\\n",
       "\t KLF11                                                                                                & Kruppel like factor 11 {[}Source:HGNC Symbol;Acc:HGNC:11811{]}                                       & 2                                                                                                   \\\\\n",
       "\t MGC12982                                                                                         & NA                                                                                               & 2                                                                                               \\\\\n",
       "\t MANEAL                                                                                               & mannosidase endo-alpha like {[}Source:HGNC Symbol;Acc:HGNC:26452{]}                                  & 2                                                                                                   \\\\\n",
       "\t RPP25                                                                                                & ribonuclease P and MRP subunit p25 {[}Source:HGNC Symbol;Acc:HGNC:30361{]}                           & 2                                                                                                   \\\\\n",
       "\t ACCN3                                                                                            & NA                                                                                               & 2                                                                                               \\\\\n",
       "\t BBS7                                                                                                 & Bardet-Biedl syndrome 7 {[}Source:HGNC Symbol;Acc:HGNC:18758{]}                                      & 1                                                                                                   \\\\\n",
       "\t NRSN2                                                                                                & neurensin 2 {[}Source:HGNC Symbol;Acc:HGNC:16229{]}                                                  & 1                                                                                                   \\\\\n",
       "\t SLC38A2                                                                                              & solute carrier family 38 member 2 {[}Source:HGNC Symbol;Acc:HGNC:13448{]}                            & 1                                                                                                   \\\\\n",
       "\t FAM164C                                                                                          & NA                                                                                               & 1                                                                                               \\\\\n",
       "\t GALC                                                                                                 & galactosylceramidase {[}Source:HGNC Symbol;Acc:HGNC:4115{]}                                          & 1                                                                                                   \\\\\n",
       "\t SHQ1                                                                                                 & SHQ1, H/ACA ribonucleoprotein assembly factor {[}Source:HGNC Symbol;Acc:HGNC:25543{]}                & 1                                                                                                   \\\\\n",
       "\t TPMT                                                                                                 & thiopurine S-methyltransferase {[}Source:HGNC Symbol;Acc:HGNC:12014{]}                               & 1                                                                                                   \\\\\n",
       "\t C11orf74                                                                                             & chromosome 11 open reading frame 74 {[}Source:HGNC Symbol;Acc:HGNC:25142{]}                          & 1                                                                                                   \\\\\n",
       "\t CHFR                                                                                                 & checkpoint with forkhead and ring finger domains {[}Source:HGNC Symbol;Acc:HGNC:20455{]}             & 1                                                                                                   \\\\\n",
       "\t IMPACT                                                                                               & impact RWD domain protein {[}Source:HGNC Symbol;Acc:HGNC:20387{]}                                    & 1                                                                                                   \\\\\n",
       "\t FAM109B                                                                                              & family with sequence similarity 109 member B {[}Source:HGNC Symbol;Acc:HGNC:27161{]}                 & 1                                                                                                   \\\\\n",
       "\t GLO1                                                                                                 & glyoxalase I {[}Source:HGNC Symbol;Acc:HGNC:4323{]}                                                  & 1                                                                                                   \\\\\n",
       "\t LDLRAD2                                                                                              & low density lipoprotein receptor class A domain containing 2 {[}Source:HGNC Symbol;Acc:HGNC:32071{]} & 1                                                                                                   \\\\\n",
       "\t SQRDL                                                                                            & NA                                                                                               & 1                                                                                               \\\\\n",
       "\t ITPRIPL2                                                                                             & ITPRIP like 2 {[}Source:HGNC Symbol;Acc:HGNC:27257{]}                                                & 1                                                                                                   \\\\\n",
       "\t LOC100128288                                                                                     & NA                                                                                               & 1                                                                                               \\\\\n",
       "\t MTX3                                                                                                 & metaxin 3 {[}Source:HGNC Symbol;Acc:HGNC:24812{]}                                                    & 1                                                                                                   \\\\\n",
       "\t C1orf104                                                                                         & NA                                                                                               & 1                                                                                               \\\\\n",
       "\t DNAJA4                                                                                               & DnaJ heat shock protein family (Hsp40) member A4 {[}Source:HGNC Symbol;Acc:HGNC:14885{]}             & 1                                                                                                   \\\\\n",
       "\t TMEM126B                                                                                             & transmembrane protein 126B {[}Source:HGNC Symbol;Acc:HGNC:30883{]}                                   & 1                                                                                                   \\\\\n",
       "\t FHDC1                                                                                                & FH2 domain containing 1 {[}Source:HGNC Symbol;Acc:HGNC:29363{]}                                      & 1                                                                                                   \\\\\n",
       "\t PDSS1                                                                                                & decaprenyl diphosphate synthase subunit 1 {[}Source:HGNC Symbol;Acc:HGNC:17759{]}                    & 1                                                                                                   \\\\\n",
       "\t RAB11FIP1                                                                                            & RAB11 family interacting protein 1 {[}Source:HGNC Symbol;Acc:HGNC:30265{]}                           & 1                                                                                                   \\\\\n",
       "\t ZBTB20                                                                                               & zinc finger and BTB domain containing 20 {[}Source:HGNC Symbol;Acc:HGNC:13503{]}                     & 1                                                                                                   \\\\\n",
       "\t ANKMY1                                                                                               & ankyrin repeat and MYND domain containing 1 {[}Source:HGNC Symbol;Acc:HGNC:20987{]}                  & 1                                                                                                   \\\\\n",
       "\t CIDEB                                                                                                & cell death-inducing DFFA-like effector b {[}Source:HGNC Symbol;Acc:HGNC:1977{]}                      & 1                                                                                                   \\\\\n",
       "\t ELMO1                                                                                                & engulfment and cell motility 1 {[}Source:HGNC Symbol;Acc:HGNC:16286{]}                               & 1                                                                                                   \\\\\n",
       "\t QRICH2                                                                                               & glutamine rich 2 {[}Source:HGNC Symbol;Acc:HGNC:25326{]}                                             & 1                                                                                                   \\\\\n",
       "\t BNIP3                                                                                                & BCL2 interacting protein 3 {[}Source:HGNC Symbol;Acc:HGNC:1084{]}                                    & 1                                                                                                   \\\\\n",
       "\t FXR2                                                                                                 & FMR1 autosomal homolog 2 {[}Source:HGNC Symbol;Acc:HGNC:4024{]}                                      & 1                                                                                                   \\\\\n",
       "\t ICOSLG                                                                                               & inducible T cell costimulator ligand {[}Source:HGNC Symbol;Acc:HGNC:17087{]}                         & 1                                                                                                   \\\\\n",
       "\t HCG11                                                                                                & HLA complex group 11 (non-protein coding) {[}Source:HGNC Symbol;Acc:HGNC:17707{]}                    & 1                                                                                                   \\\\\n",
       "\t TSSK3                                                                                                & testis specific serine kinase 3 {[}Source:HGNC Symbol;Acc:HGNC:15473{]}                              & 1                                                                                                   \\\\\n",
       "\t ACTG1                                                                                                & actin gamma 1 {[}Source:HGNC Symbol;Acc:HGNC:144{]}                                                  & 1                                                                                                   \\\\\n",
       "\t KIAA0495                                                                                         & NA                                                                                               & 1                                                                                               \\\\\n",
       "\t MUC5B                                                                                                & mucin 5B, oligomeric mucus/gel-forming {[}Source:HGNC Symbol;Acc:HGNC:7516{]}                        & 1                                                                                                   \\\\\n",
       "\t RAPGEFL1                                                                                             & Rap guanine nucleotide exchange factor like 1 {[}Source:HGNC Symbol;Acc:HGNC:17428{]}                & 1                                                                                                   \\\\\n",
       "\t ANUBL1                                                                                           & NA                                                                                               & 1                                                                                               \\\\\n",
       "\t ARRDC5                                                                                               & arrestin domain containing 5 {[}Source:HGNC Symbol;Acc:HGNC:31407{]}                                 & 1                                                                                                   \\\\\n",
       "\t LDLR                                                                                                 & low density lipoprotein receptor {[}Source:HGNC Symbol;Acc:HGNC:6547{]}                              & 1                                                                                                   \\\\\n",
       "\t SEPN1                                                                                            & NA                                                                                               & 1                                                                                               \\\\\n",
       "\t SLC25A19                                                                                             & solute carrier family 25 member 19 {[}Source:HGNC Symbol;Acc:HGNC:14409{]}                           & 1                                                                                                   \\\\\n",
       "\\end{tabular}\n"
      ],
      "text/markdown": [
       "\n",
       "gene | description | Freq | \n",
       "|---|---|---|---|---|---|---|---|---|---|---|---|---|---|---|---|---|---|---|---|---|---|---|---|---|---|---|---|---|---|---|---|---|---|---|---|---|---|---|---|---|---|---|---|---|---|---|---|---|---|---|---|---|\n",
       "| TNFSF12                                                                                          | TNF superfamily member 12 [Source:HGNC Symbol;Acc:HGNC:11927]                                    | 5                                                                                                | \n",
       "| C7orf46                                                                                          | NA                                                                                               | 5                                                                                                | \n",
       "| SH3PXD2A                                                                                         | SH3 and PX domains 2A [Source:HGNC Symbol;Acc:HGNC:23664]                                        | 4                                                                                                | \n",
       "| IRAK3                                                                                            | interleukin 1 receptor associated kinase 3 [Source:HGNC Symbol;Acc:HGNC:17020]                   | 3                                                                                                | \n",
       "| ZNF518B                                                                                          | zinc finger protein 518B [Source:HGNC Symbol;Acc:HGNC:29365]                                     | 3                                                                                                | \n",
       "| ADPRH                                                                                            | ADP-ribosylarginine hydrolase [Source:HGNC Symbol;Acc:HGNC:269]                                  | 3                                                                                                | \n",
       "| KLF11                                                                                            | Kruppel like factor 11 [Source:HGNC Symbol;Acc:HGNC:11811]                                       | 2                                                                                                | \n",
       "| MGC12982                                                                                         | NA                                                                                               | 2                                                                                                | \n",
       "| MANEAL                                                                                           | mannosidase endo-alpha like [Source:HGNC Symbol;Acc:HGNC:26452]                                  | 2                                                                                                | \n",
       "| RPP25                                                                                            | ribonuclease P and MRP subunit p25 [Source:HGNC Symbol;Acc:HGNC:30361]                           | 2                                                                                                | \n",
       "| ACCN3                                                                                            | NA                                                                                               | 2                                                                                                | \n",
       "| BBS7                                                                                             | Bardet-Biedl syndrome 7 [Source:HGNC Symbol;Acc:HGNC:18758]                                      | 1                                                                                                | \n",
       "| NRSN2                                                                                            | neurensin 2 [Source:HGNC Symbol;Acc:HGNC:16229]                                                  | 1                                                                                                | \n",
       "| SLC38A2                                                                                          | solute carrier family 38 member 2 [Source:HGNC Symbol;Acc:HGNC:13448]                            | 1                                                                                                | \n",
       "| FAM164C                                                                                          | NA                                                                                               | 1                                                                                                | \n",
       "| GALC                                                                                             | galactosylceramidase [Source:HGNC Symbol;Acc:HGNC:4115]                                          | 1                                                                                                | \n",
       "| SHQ1                                                                                             | SHQ1, H/ACA ribonucleoprotein assembly factor [Source:HGNC Symbol;Acc:HGNC:25543]                | 1                                                                                                | \n",
       "| TPMT                                                                                             | thiopurine S-methyltransferase [Source:HGNC Symbol;Acc:HGNC:12014]                               | 1                                                                                                | \n",
       "| C11orf74                                                                                         | chromosome 11 open reading frame 74 [Source:HGNC Symbol;Acc:HGNC:25142]                          | 1                                                                                                | \n",
       "| CHFR                                                                                             | checkpoint with forkhead and ring finger domains [Source:HGNC Symbol;Acc:HGNC:20455]             | 1                                                                                                | \n",
       "| IMPACT                                                                                           | impact RWD domain protein [Source:HGNC Symbol;Acc:HGNC:20387]                                    | 1                                                                                                | \n",
       "| FAM109B                                                                                          | family with sequence similarity 109 member B [Source:HGNC Symbol;Acc:HGNC:27161]                 | 1                                                                                                | \n",
       "| GLO1                                                                                             | glyoxalase I [Source:HGNC Symbol;Acc:HGNC:4323]                                                  | 1                                                                                                | \n",
       "| LDLRAD2                                                                                          | low density lipoprotein receptor class A domain containing 2 [Source:HGNC Symbol;Acc:HGNC:32071] | 1                                                                                                | \n",
       "| SQRDL                                                                                            | NA                                                                                               | 1                                                                                                | \n",
       "| ITPRIPL2                                                                                         | ITPRIP like 2 [Source:HGNC Symbol;Acc:HGNC:27257]                                                | 1                                                                                                | \n",
       "| LOC100128288                                                                                     | NA                                                                                               | 1                                                                                                | \n",
       "| MTX3                                                                                             | metaxin 3 [Source:HGNC Symbol;Acc:HGNC:24812]                                                    | 1                                                                                                | \n",
       "| C1orf104                                                                                         | NA                                                                                               | 1                                                                                                | \n",
       "| DNAJA4                                                                                           | DnaJ heat shock protein family (Hsp40) member A4 [Source:HGNC Symbol;Acc:HGNC:14885]             | 1                                                                                                | \n",
       "| TMEM126B                                                                                         | transmembrane protein 126B [Source:HGNC Symbol;Acc:HGNC:30883]                                   | 1                                                                                                | \n",
       "| FHDC1                                                                                            | FH2 domain containing 1 [Source:HGNC Symbol;Acc:HGNC:29363]                                      | 1                                                                                                | \n",
       "| PDSS1                                                                                            | decaprenyl diphosphate synthase subunit 1 [Source:HGNC Symbol;Acc:HGNC:17759]                    | 1                                                                                                | \n",
       "| RAB11FIP1                                                                                        | RAB11 family interacting protein 1 [Source:HGNC Symbol;Acc:HGNC:30265]                           | 1                                                                                                | \n",
       "| ZBTB20                                                                                           | zinc finger and BTB domain containing 20 [Source:HGNC Symbol;Acc:HGNC:13503]                     | 1                                                                                                | \n",
       "| ANKMY1                                                                                           | ankyrin repeat and MYND domain containing 1 [Source:HGNC Symbol;Acc:HGNC:20987]                  | 1                                                                                                | \n",
       "| CIDEB                                                                                            | cell death-inducing DFFA-like effector b [Source:HGNC Symbol;Acc:HGNC:1977]                      | 1                                                                                                | \n",
       "| ELMO1                                                                                            | engulfment and cell motility 1 [Source:HGNC Symbol;Acc:HGNC:16286]                               | 1                                                                                                | \n",
       "| QRICH2                                                                                           | glutamine rich 2 [Source:HGNC Symbol;Acc:HGNC:25326]                                             | 1                                                                                                | \n",
       "| BNIP3                                                                                            | BCL2 interacting protein 3 [Source:HGNC Symbol;Acc:HGNC:1084]                                    | 1                                                                                                | \n",
       "| FXR2                                                                                             | FMR1 autosomal homolog 2 [Source:HGNC Symbol;Acc:HGNC:4024]                                      | 1                                                                                                | \n",
       "| ICOSLG                                                                                           | inducible T cell costimulator ligand [Source:HGNC Symbol;Acc:HGNC:17087]                         | 1                                                                                                | \n",
       "| HCG11                                                                                            | HLA complex group 11 (non-protein coding) [Source:HGNC Symbol;Acc:HGNC:17707]                    | 1                                                                                                | \n",
       "| TSSK3                                                                                            | testis specific serine kinase 3 [Source:HGNC Symbol;Acc:HGNC:15473]                              | 1                                                                                                | \n",
       "| ACTG1                                                                                            | actin gamma 1 [Source:HGNC Symbol;Acc:HGNC:144]                                                  | 1                                                                                                | \n",
       "| KIAA0495                                                                                         | NA                                                                                               | 1                                                                                                | \n",
       "| MUC5B                                                                                            | mucin 5B, oligomeric mucus/gel-forming [Source:HGNC Symbol;Acc:HGNC:7516]                        | 1                                                                                                | \n",
       "| RAPGEFL1                                                                                         | Rap guanine nucleotide exchange factor like 1 [Source:HGNC Symbol;Acc:HGNC:17428]                | 1                                                                                                | \n",
       "| ANUBL1                                                                                           | NA                                                                                               | 1                                                                                                | \n",
       "| ARRDC5                                                                                           | arrestin domain containing 5 [Source:HGNC Symbol;Acc:HGNC:31407]                                 | 1                                                                                                | \n",
       "| LDLR                                                                                             | low density lipoprotein receptor [Source:HGNC Symbol;Acc:HGNC:6547]                              | 1                                                                                                | \n",
       "| SEPN1                                                                                            | NA                                                                                               | 1                                                                                                | \n",
       "| SLC25A19                                                                                         | solute carrier family 25 member 19 [Source:HGNC Symbol;Acc:HGNC:14409]                           | 1                                                                                                | \n",
       "\n",
       "\n"
      ],
      "text/plain": [
       "   gene        \n",
       "1  TNFSF12     \n",
       "2  C7orf46     \n",
       "3  SH3PXD2A    \n",
       "4  IRAK3       \n",
       "5  ZNF518B     \n",
       "6  ADPRH       \n",
       "7  KLF11       \n",
       "8  MGC12982    \n",
       "9  MANEAL      \n",
       "10 RPP25       \n",
       "11 ACCN3       \n",
       "12 BBS7        \n",
       "13 NRSN2       \n",
       "14 SLC38A2     \n",
       "15 FAM164C     \n",
       "16 GALC        \n",
       "17 SHQ1        \n",
       "18 TPMT        \n",
       "19 C11orf74    \n",
       "20 CHFR        \n",
       "21 IMPACT      \n",
       "22 FAM109B     \n",
       "23 GLO1        \n",
       "24 LDLRAD2     \n",
       "25 SQRDL       \n",
       "26 ITPRIPL2    \n",
       "27 LOC100128288\n",
       "28 MTX3        \n",
       "29 C1orf104    \n",
       "30 DNAJA4      \n",
       "31 TMEM126B    \n",
       "32 FHDC1       \n",
       "33 PDSS1       \n",
       "34 RAB11FIP1   \n",
       "35 ZBTB20      \n",
       "36 ANKMY1      \n",
       "37 CIDEB       \n",
       "38 ELMO1       \n",
       "39 QRICH2      \n",
       "40 BNIP3       \n",
       "41 FXR2        \n",
       "42 ICOSLG      \n",
       "43 HCG11       \n",
       "44 TSSK3       \n",
       "45 ACTG1       \n",
       "46 KIAA0495    \n",
       "47 MUC5B       \n",
       "48 RAPGEFL1    \n",
       "49 ANUBL1      \n",
       "50 ARRDC5      \n",
       "51 LDLR        \n",
       "52 SEPN1       \n",
       "53 SLC25A19    \n",
       "   description                                                                                     \n",
       "1  TNF superfamily member 12 [Source:HGNC Symbol;Acc:HGNC:11927]                                   \n",
       "2  NA                                                                                              \n",
       "3  SH3 and PX domains 2A [Source:HGNC Symbol;Acc:HGNC:23664]                                       \n",
       "4  interleukin 1 receptor associated kinase 3 [Source:HGNC Symbol;Acc:HGNC:17020]                  \n",
       "5  zinc finger protein 518B [Source:HGNC Symbol;Acc:HGNC:29365]                                    \n",
       "6  ADP-ribosylarginine hydrolase [Source:HGNC Symbol;Acc:HGNC:269]                                 \n",
       "7  Kruppel like factor 11 [Source:HGNC Symbol;Acc:HGNC:11811]                                      \n",
       "8  NA                                                                                              \n",
       "9  mannosidase endo-alpha like [Source:HGNC Symbol;Acc:HGNC:26452]                                 \n",
       "10 ribonuclease P and MRP subunit p25 [Source:HGNC Symbol;Acc:HGNC:30361]                          \n",
       "11 NA                                                                                              \n",
       "12 Bardet-Biedl syndrome 7 [Source:HGNC Symbol;Acc:HGNC:18758]                                     \n",
       "13 neurensin 2 [Source:HGNC Symbol;Acc:HGNC:16229]                                                 \n",
       "14 solute carrier family 38 member 2 [Source:HGNC Symbol;Acc:HGNC:13448]                           \n",
       "15 NA                                                                                              \n",
       "16 galactosylceramidase [Source:HGNC Symbol;Acc:HGNC:4115]                                         \n",
       "17 SHQ1, H/ACA ribonucleoprotein assembly factor [Source:HGNC Symbol;Acc:HGNC:25543]               \n",
       "18 thiopurine S-methyltransferase [Source:HGNC Symbol;Acc:HGNC:12014]                              \n",
       "19 chromosome 11 open reading frame 74 [Source:HGNC Symbol;Acc:HGNC:25142]                         \n",
       "20 checkpoint with forkhead and ring finger domains [Source:HGNC Symbol;Acc:HGNC:20455]            \n",
       "21 impact RWD domain protein [Source:HGNC Symbol;Acc:HGNC:20387]                                   \n",
       "22 family with sequence similarity 109 member B [Source:HGNC Symbol;Acc:HGNC:27161]                \n",
       "23 glyoxalase I [Source:HGNC Symbol;Acc:HGNC:4323]                                                 \n",
       "24 low density lipoprotein receptor class A domain containing 2 [Source:HGNC Symbol;Acc:HGNC:32071]\n",
       "25 NA                                                                                              \n",
       "26 ITPRIP like 2 [Source:HGNC Symbol;Acc:HGNC:27257]                                               \n",
       "27 NA                                                                                              \n",
       "28 metaxin 3 [Source:HGNC Symbol;Acc:HGNC:24812]                                                   \n",
       "29 NA                                                                                              \n",
       "30 DnaJ heat shock protein family (Hsp40) member A4 [Source:HGNC Symbol;Acc:HGNC:14885]            \n",
       "31 transmembrane protein 126B [Source:HGNC Symbol;Acc:HGNC:30883]                                  \n",
       "32 FH2 domain containing 1 [Source:HGNC Symbol;Acc:HGNC:29363]                                     \n",
       "33 decaprenyl diphosphate synthase subunit 1 [Source:HGNC Symbol;Acc:HGNC:17759]                   \n",
       "34 RAB11 family interacting protein 1 [Source:HGNC Symbol;Acc:HGNC:30265]                          \n",
       "35 zinc finger and BTB domain containing 20 [Source:HGNC Symbol;Acc:HGNC:13503]                    \n",
       "36 ankyrin repeat and MYND domain containing 1 [Source:HGNC Symbol;Acc:HGNC:20987]                 \n",
       "37 cell death-inducing DFFA-like effector b [Source:HGNC Symbol;Acc:HGNC:1977]                     \n",
       "38 engulfment and cell motility 1 [Source:HGNC Symbol;Acc:HGNC:16286]                              \n",
       "39 glutamine rich 2 [Source:HGNC Symbol;Acc:HGNC:25326]                                            \n",
       "40 BCL2 interacting protein 3 [Source:HGNC Symbol;Acc:HGNC:1084]                                   \n",
       "41 FMR1 autosomal homolog 2 [Source:HGNC Symbol;Acc:HGNC:4024]                                     \n",
       "42 inducible T cell costimulator ligand [Source:HGNC Symbol;Acc:HGNC:17087]                        \n",
       "43 HLA complex group 11 (non-protein coding) [Source:HGNC Symbol;Acc:HGNC:17707]                   \n",
       "44 testis specific serine kinase 3 [Source:HGNC Symbol;Acc:HGNC:15473]                             \n",
       "45 actin gamma 1 [Source:HGNC Symbol;Acc:HGNC:144]                                                 \n",
       "46 NA                                                                                              \n",
       "47 mucin 5B, oligomeric mucus/gel-forming [Source:HGNC Symbol;Acc:HGNC:7516]                       \n",
       "48 Rap guanine nucleotide exchange factor like 1 [Source:HGNC Symbol;Acc:HGNC:17428]               \n",
       "49 NA                                                                                              \n",
       "50 arrestin domain containing 5 [Source:HGNC Symbol;Acc:HGNC:31407]                                \n",
       "51 low density lipoprotein receptor [Source:HGNC Symbol;Acc:HGNC:6547]                             \n",
       "52 NA                                                                                              \n",
       "53 solute carrier family 25 member 19 [Source:HGNC Symbol;Acc:HGNC:14409]                          \n",
       "   Freq\n",
       "1  5   \n",
       "2  5   \n",
       "3  4   \n",
       "4  3   \n",
       "5  3   \n",
       "6  3   \n",
       "7  2   \n",
       "8  2   \n",
       "9  2   \n",
       "10 2   \n",
       "11 2   \n",
       "12 1   \n",
       "13 1   \n",
       "14 1   \n",
       "15 1   \n",
       "16 1   \n",
       "17 1   \n",
       "18 1   \n",
       "19 1   \n",
       "20 1   \n",
       "21 1   \n",
       "22 1   \n",
       "23 1   \n",
       "24 1   \n",
       "25 1   \n",
       "26 1   \n",
       "27 1   \n",
       "28 1   \n",
       "29 1   \n",
       "30 1   \n",
       "31 1   \n",
       "32 1   \n",
       "33 1   \n",
       "34 1   \n",
       "35 1   \n",
       "36 1   \n",
       "37 1   \n",
       "38 1   \n",
       "39 1   \n",
       "40 1   \n",
       "41 1   \n",
       "42 1   \n",
       "43 1   \n",
       "44 1   \n",
       "45 1   \n",
       "46 1   \n",
       "47 1   \n",
       "48 1   \n",
       "49 1   \n",
       "50 1   \n",
       "51 1   \n",
       "52 1   \n",
       "53 1   "
      ]
     },
     "metadata": {},
     "output_type": "display_data"
    }
   ],
   "source": [
    "annot.freq.table <- annot.freq.table %>%\n",
    "    dplyr::select(gene, description) %>%\n",
    "    dplyr::distinct() %>%\n",
    "    dplyr::left_join(freq.table, by=c('gene'='Var1')) %>%\n",
    "    arrange(desc(Freq))\n",
    "annot.freq.table"
   ]
  },
  {
   "cell_type": "code",
   "execution_count": 29,
   "metadata": {},
   "outputs": [],
   "source": [
    "write.table(annot.freq.table, paste0(base.dir, 'predictors.summary.csv'), quote=F, sep=',', row.names=F, col.names=T)"
   ]
  },
  {
   "cell_type": "markdown",
   "metadata": {},
   "source": [
    "# now construct it as a function and run for all folders"
   ]
  },
  {
   "cell_type": "code",
   "execution_count": 44,
   "metadata": {},
   "outputs": [],
   "source": [
    "WriteFreqTable <- function(base.dirs) {\n",
    "    for (base.dir in base.dirs) {\n",
    "        print(base.dir)\n",
    "        predictors <- data.frame(gene=character(), coef=numeric(), ID=character(), stringsAsFactors=FALSE)\n",
    "        for (f in list.files(base.dir, 'cluster[0-9]*\\\\.RData')) {\n",
    "            # print(paste0('Loading ', base.dir, f))\n",
    "            load(paste0(base.dir, f))\n",
    "            if(dim(coef)[1]==0) next \n",
    "            idx <- str_match(f, 'cluster([0-9]*)\\\\.RData')[2]\n",
    "            coef$cluster <- idx\n",
    "            predictors <- rbind(predictors, coef)\n",
    "        }\n",
    "        print(paste0('There are in total ', dim(predictors)[1], ' predictors from ', length(unique(predictors$cluster)), \n",
    "                     ' clusters. The number of unqiue genes are ', length(unique(predictors$gene)), '.'))\n",
    "        freq.table <- data.frame(sort(table(predictors$gene), decreasing=T))\n",
    "        annot.freq.table <- MergeHGNCDescription(predictors) \n",
    "        annot.freq.table <- annot.freq.table %>%\n",
    "            dplyr::select(gene, description) %>%\n",
    "            dplyr::distinct() %>%\n",
    "            dplyr::left_join(freq.table, by=c('gene'='Var1')) %>%\n",
    "            arrange(desc(Freq))\n",
    "        write.table(annot.freq.table, paste0(base.dir, 'predictors.summary.csv'), quote=F, sep=',', row.names=F, col.names=T)\n",
    "        print(paste0(\"wrote results to \", base.dir, 'predictors.summary.csv.'))\n",
    "    }\n",
    "}"
   ]
  },
  {
   "cell_type": "code",
   "execution_count": 45,
   "metadata": {},
   "outputs": [
    {
     "name": "stdout",
     "output_type": "stream",
     "text": [
      "[1] \"../data/results/LAML/vbsr-hm27-B-data/\"\n",
      "[1] \"There are in total 81 predictors from 18 clusters. The number of unqiue genes are 57.\"\n"
     ]
    },
    {
     "name": "stderr",
     "output_type": "stream",
     "text": [
      "Warning message:\n",
      "“Column `gene`/`hgnc_symbol` joining factor and character vector, coercing into character vector”Warning message:\n",
      "“Column `gene`/`Var1` joining character vector and factor, coercing into character vector”"
     ]
    },
    {
     "name": "stdout",
     "output_type": "stream",
     "text": [
      "[1] \"wrote results to ../data/results/LAML/vbsr-hm27-B-data/predictors.summary.csv.\"\n",
      "[1] \"../data/results/LAML/vbsr-hm27-M-data/\"\n",
      "[1] \"There are in total 75 predictors from 18 clusters. The number of unqiue genes are 53.\"\n"
     ]
    },
    {
     "name": "stderr",
     "output_type": "stream",
     "text": [
      "Warning message:\n",
      "“Column `gene`/`hgnc_symbol` joining factor and character vector, coercing into character vector”Warning message:\n",
      "“Column `gene`/`Var1` joining character vector and factor, coercing into character vector”"
     ]
    },
    {
     "name": "stdout",
     "output_type": "stream",
     "text": [
      "[1] \"wrote results to ../data/results/LAML/vbsr-hm27-M-data/predictors.summary.csv.\"\n",
      "[1] \"../data/results/LAML/vbsr-hm450-B-data/\"\n",
      "[1] \"There are in total 85 predictors from 20 clusters. The number of unqiue genes are 57.\"\n"
     ]
    },
    {
     "name": "stderr",
     "output_type": "stream",
     "text": [
      "Warning message:\n",
      "“Column `gene`/`hgnc_symbol` joining factor and character vector, coercing into character vector”Warning message:\n",
      "“Column `gene`/`Var1` joining character vector and factor, coercing into character vector”"
     ]
    },
    {
     "name": "stdout",
     "output_type": "stream",
     "text": [
      "[1] \"wrote results to ../data/results/LAML/vbsr-hm450-B-data/predictors.summary.csv.\"\n",
      "[1] \"../data/results/LAML/vbsr-hm450-M-data/\"\n",
      "[1] \"There are in total 92 predictors from 20 clusters. The number of unqiue genes are 56.\"\n"
     ]
    },
    {
     "name": "stderr",
     "output_type": "stream",
     "text": [
      "Warning message:\n",
      "“Column `gene`/`hgnc_symbol` joining factor and character vector, coercing into character vector”Warning message:\n",
      "“Column `gene`/`Var1` joining character vector and factor, coercing into character vector”"
     ]
    },
    {
     "name": "stdout",
     "output_type": "stream",
     "text": [
      "[1] \"wrote results to ../data/results/LAML/vbsr-hm450-M-data/predictors.summary.csv.\"\n",
      "[1] \"../data/results/HNSC/vbsr-hm450-B-data/\"\n",
      "[1] \"There are in total 234 predictors from 20 clusters. The number of unqiue genes are 158.\"\n"
     ]
    },
    {
     "name": "stderr",
     "output_type": "stream",
     "text": [
      "Warning message:\n",
      "“Column `gene`/`hgnc_symbol` joining factor and character vector, coercing into character vector”Warning message:\n",
      "“Column `gene`/`Var1` joining character vector and factor, coercing into character vector”"
     ]
    },
    {
     "name": "stdout",
     "output_type": "stream",
     "text": [
      "[1] \"wrote results to ../data/results/HNSC/vbsr-hm450-B-data/predictors.summary.csv.\"\n",
      "[1] \"../data/results/HNSC/vbsr-hm450-M-data/\"\n",
      "[1] \"There are in total 196 predictors from 20 clusters. The number of unqiue genes are 134.\"\n"
     ]
    },
    {
     "name": "stderr",
     "output_type": "stream",
     "text": [
      "Warning message:\n",
      "“Column `gene`/`hgnc_symbol` joining factor and character vector, coercing into character vector”Warning message:\n",
      "“Column `gene`/`Var1` joining character vector and factor, coercing into character vector”"
     ]
    },
    {
     "name": "stdout",
     "output_type": "stream",
     "text": [
      "[1] \"wrote results to ../data/results/HNSC/vbsr-hm450-M-data/predictors.summary.csv.\"\n",
      "[1] \"../data/results/SKCM/vbsr-hm450-B-data/\"\n",
      "[1] \"There are in total 183 predictors from 20 clusters. The number of unqiue genes are 110.\"\n"
     ]
    },
    {
     "name": "stderr",
     "output_type": "stream",
     "text": [
      "Warning message:\n",
      "“Column `gene`/`hgnc_symbol` joining factor and character vector, coercing into character vector”Warning message:\n",
      "“Column `gene`/`Var1` joining character vector and factor, coercing into character vector”"
     ]
    },
    {
     "name": "stdout",
     "output_type": "stream",
     "text": [
      "[1] \"wrote results to ../data/results/SKCM/vbsr-hm450-B-data/predictors.summary.csv.\"\n",
      "[1] \"../data/results/SKCM/vbsr-hm450-M-data/\"\n",
      "[1] \"There are in total 159 predictors from 18 clusters. The number of unqiue genes are 105.\"\n"
     ]
    },
    {
     "name": "stderr",
     "output_type": "stream",
     "text": [
      "Warning message:\n",
      "“Column `gene`/`hgnc_symbol` joining factor and character vector, coercing into character vector”Warning message:\n",
      "“Column `gene`/`Var1` joining character vector and factor, coercing into character vector”"
     ]
    },
    {
     "name": "stdout",
     "output_type": "stream",
     "text": [
      "[1] \"wrote results to ../data/results/SKCM/vbsr-hm450-M-data/predictors.summary.csv.\"\n"
     ]
    }
   ],
   "source": [
    "base.dirs <- paste0('../data/results/', c('LAML/vbsr-hm27-B-data/',  'LAML/vbsr-hm27-M-data/',  \n",
    "                                          'LAML/vbsr-hm450-B-data/', 'LAML/vbsr-hm450-M-data/',\n",
    "                                         'HNSC/vbsr-hm450-B-data/', 'HNSC/vbsr-hm450-M-data/',\n",
    "                                         'SKCM/vbsr-hm450-B-data/', 'SKCM/vbsr-hm450-M-data/'))\n",
    "WriteFreqTable(base.dirs)"
   ]
  }
 ],
 "metadata": {
  "kernelspec": {
   "display_name": "R",
   "language": "R",
   "name": "ir"
  },
  "language_info": {
   "codemirror_mode": "r",
   "file_extension": ".r",
   "mimetype": "text/x-r-source",
   "name": "R",
   "pygments_lexer": "r",
   "version": "3.4.4"
  }
 },
 "nbformat": 4,
 "nbformat_minor": 2
}
