{
 "cells": [
  {
   "cell_type": "markdown",
   "metadata": {},
   "source": [
    "# Table of predictor frequency in each cluster"
   ]
  },
  {
   "cell_type": "markdown",
   "metadata": {},
   "source": [
    "## AML HM 450 predictor frequencies\n",
    "\n",
    "File location: `/oak/stanford/groups/andrewg/users/szmamie/repos/MethylationPrediction/data/results/LAML/vbsr-hm27-M-data/`"
   ]
  },
  {
   "cell_type": "code",
   "execution_count": 36,
   "metadata": {},
   "outputs": [
    {
     "name": "stderr",
     "output_type": "stream",
     "text": [
      "\n",
      "Attaching package: ‘dplyr’\n",
      "\n",
      "The following objects are masked from ‘package:stats’:\n",
      "\n",
      "    filter, lag\n",
      "\n",
      "The following objects are masked from ‘package:base’:\n",
      "\n",
      "    intersect, setdiff, setequal, union\n",
      "\n"
     ]
    },
    {
     "ename": "ERROR",
     "evalue": "Error in library(biomaRt): there is no package called ‘biomaRt’\n",
     "execution_count": 36,
     "output_type": "error",
     "traceback": [
      "Error in library(biomaRt): there is no package called ‘biomaRt’\nTraceback:\n",
      "1. source(\"helperFunctions.R\")",
      "2. withVisible(eval(ei, envir))",
      "3. eval(ei, envir)",
      "4. eval(ei, envir)",
      "5. library(biomaRt)",
      "6. stop(txt, domain = NA)"
     ]
    }
   ],
   "source": [
    "library(stringr)\n",
    "source('helperFunctions.R')"
   ]
  },
  {
   "cell_type": "code",
   "execution_count": 1,
   "metadata": {},
   "outputs": [],
   "source": [
    "base.dir <- \"../data/results/LAML/vbsr-hm27-M-data/\"\n",
    "load(paste0(base.dir, 'cluster1.RData'))"
   ]
  },
  {
   "cell_type": "markdown",
   "metadata": {},
   "source": [
    "The predictors are in coef data frame, aggregate all the predictor in a single dataframe and save it in the data/results folder"
   ]
  },
  {
   "cell_type": "code",
   "execution_count": 8,
   "metadata": {},
   "outputs": [
    {
     "data": {
      "text/html": [
       "<table>\n",
       "<thead><tr><th scope=col>gene</th><th scope=col>coef</th></tr></thead>\n",
       "<tbody>\n",
       "\t<tr><td>BBS7      </td><td>-0.3374807</td></tr>\n",
       "\t<tr><td>IRAK3     </td><td>-0.1493213</td></tr>\n",
       "\t<tr><td>KLF11     </td><td>-0.1770719</td></tr>\n",
       "\t<tr><td>MGC12982  </td><td> 0.2388038</td></tr>\n",
       "\t<tr><td>NRSN2     </td><td>-0.1253448</td></tr>\n",
       "\t<tr><td>SLC38A2   </td><td> 0.4207201</td></tr>\n",
       "</tbody>\n",
       "</table>\n"
      ],
      "text/latex": [
       "\\begin{tabular}{r|ll}\n",
       " gene & coef\\\\\n",
       "\\hline\n",
       "\t BBS7       & -0.3374807\\\\\n",
       "\t IRAK3      & -0.1493213\\\\\n",
       "\t KLF11      & -0.1770719\\\\\n",
       "\t MGC12982   &  0.2388038\\\\\n",
       "\t NRSN2      & -0.1253448\\\\\n",
       "\t SLC38A2    &  0.4207201\\\\\n",
       "\\end{tabular}\n"
      ],
      "text/markdown": [
       "\n",
       "gene | coef | \n",
       "|---|---|---|---|---|---|\n",
       "| BBS7       | -0.3374807 | \n",
       "| IRAK3      | -0.1493213 | \n",
       "| KLF11      | -0.1770719 | \n",
       "| MGC12982   |  0.2388038 | \n",
       "| NRSN2      | -0.1253448 | \n",
       "| SLC38A2    |  0.4207201 | \n",
       "\n",
       "\n"
      ],
      "text/plain": [
       "  gene     coef      \n",
       "1 BBS7     -0.3374807\n",
       "2 IRAK3    -0.1493213\n",
       "3 KLF11    -0.1770719\n",
       "4 MGC12982  0.2388038\n",
       "5 NRSN2    -0.1253448\n",
       "6 SLC38A2   0.4207201"
      ]
     },
     "metadata": {},
     "output_type": "display_data"
    },
    {
     "data": {
      "text/html": [
       "'data.frame'"
      ],
      "text/latex": [
       "'data.frame'"
      ],
      "text/markdown": [
       "'data.frame'"
      ],
      "text/plain": [
       "[1] \"data.frame\""
      ]
     },
     "metadata": {},
     "output_type": "display_data"
    }
   ],
   "source": [
    "coef\n",
    "class(coef)"
   ]
  },
  {
   "cell_type": "code",
   "execution_count": 18,
   "metadata": {},
   "outputs": [
    {
     "data": {
      "text/html": [
       "'1'"
      ],
      "text/latex": [
       "'1'"
      ],
      "text/markdown": [
       "'1'"
      ],
      "text/plain": [
       "[1] \"1\""
      ]
     },
     "metadata": {},
     "output_type": "display_data"
    }
   ],
   "source": [
    "str_match('cluster1.RData', 'cluster([0-9]*)\\\\.RData')[2]"
   ]
  },
  {
   "cell_type": "code",
   "execution_count": 24,
   "metadata": {},
   "outputs": [],
   "source": [
    "predictors <- data.frame(gene=character(), coef=numeric(), ID=character(), stringsAsFactors=FALSE)\n",
    "for (f in list.files(base.dir, 'cluster[0-9]*\\\\.RData')) {\n",
    "    load(paste0(base.dir, f))\n",
    "    idx <- str_match(f, 'cluster([0-9]*)\\\\.RData')[2]\n",
    "    coef$ID <- idx\n",
    "    predictors <- rbind(predictors, coef)\n",
    "}"
   ]
  },
  {
   "cell_type": "code",
   "execution_count": 34,
   "metadata": {},
   "outputs": [
    {
     "data": {
      "text/html": [
       "<ol class=list-inline>\n",
       "\t<li>75</li>\n",
       "\t<li>3</li>\n",
       "</ol>\n"
      ],
      "text/latex": [
       "\\begin{enumerate*}\n",
       "\\item 75\n",
       "\\item 3\n",
       "\\end{enumerate*}\n"
      ],
      "text/markdown": [
       "1. 75\n",
       "2. 3\n",
       "\n",
       "\n"
      ],
      "text/plain": [
       "[1] 75  3"
      ]
     },
     "metadata": {},
     "output_type": "display_data"
    },
    {
     "data": {
      "text/html": [
       "53"
      ],
      "text/latex": [
       "53"
      ],
      "text/markdown": [
       "53"
      ],
      "text/plain": [
       "[1] 53"
      ]
     },
     "metadata": {},
     "output_type": "display_data"
    },
    {
     "data": {
      "text/html": [
       "<table>\n",
       "<thead><tr><th scope=col>gene</th><th scope=col>coef</th><th scope=col>ID</th></tr></thead>\n",
       "<tbody>\n",
       "\t<tr><td>BBS7      </td><td>-0.3374807</td><td>1         </td></tr>\n",
       "\t<tr><td>IRAK3     </td><td>-0.1493213</td><td>1         </td></tr>\n",
       "\t<tr><td>KLF11     </td><td>-0.1770719</td><td>1         </td></tr>\n",
       "\t<tr><td>MGC12982  </td><td> 0.2388038</td><td>1         </td></tr>\n",
       "\t<tr><td>NRSN2     </td><td>-0.1253448</td><td>1         </td></tr>\n",
       "\t<tr><td>SLC38A2   </td><td> 0.4207201</td><td>1         </td></tr>\n",
       "</tbody>\n",
       "</table>\n"
      ],
      "text/latex": [
       "\\begin{tabular}{r|lll}\n",
       " gene & coef & ID\\\\\n",
       "\\hline\n",
       "\t BBS7       & -0.3374807 & 1         \\\\\n",
       "\t IRAK3      & -0.1493213 & 1         \\\\\n",
       "\t KLF11      & -0.1770719 & 1         \\\\\n",
       "\t MGC12982   &  0.2388038 & 1         \\\\\n",
       "\t NRSN2      & -0.1253448 & 1         \\\\\n",
       "\t SLC38A2    &  0.4207201 & 1         \\\\\n",
       "\\end{tabular}\n"
      ],
      "text/markdown": [
       "\n",
       "gene | coef | ID | \n",
       "|---|---|---|---|---|---|\n",
       "| BBS7       | -0.3374807 | 1          | \n",
       "| IRAK3      | -0.1493213 | 1          | \n",
       "| KLF11      | -0.1770719 | 1          | \n",
       "| MGC12982   |  0.2388038 | 1          | \n",
       "| NRSN2      | -0.1253448 | 1          | \n",
       "| SLC38A2    |  0.4207201 | 1          | \n",
       "\n",
       "\n"
      ],
      "text/plain": [
       "  gene     coef       ID\n",
       "1 BBS7     -0.3374807 1 \n",
       "2 IRAK3    -0.1493213 1 \n",
       "3 KLF11    -0.1770719 1 \n",
       "4 MGC12982  0.2388038 1 \n",
       "5 NRSN2    -0.1253448 1 \n",
       "6 SLC38A2   0.4207201 1 "
      ]
     },
     "metadata": {},
     "output_type": "display_data"
    }
   ],
   "source": [
    "dim(predictors)\n",
    "length(unique(predictors$gene))\n",
    "head(predictors)"
   ]
  },
  {
   "cell_type": "code",
   "execution_count": 35,
   "metadata": {},
   "outputs": [],
   "source": [
    "freq.table <- data.frame(sort(table(predictors$gene), decreasing=T))\n",
    "annot.freq.table <- MergeHGNCDescription(freq.table)"
   ]
  },
  {
   "cell_type": "code",
   "execution_count": null,
   "metadata": {},
   "outputs": [],
   "source": [
    "write.table(annot.freq.table, paste0(base.dir, 'predictors.summary.csv'))"
   ]
  }
 ],
 "metadata": {
  "kernelspec": {
   "display_name": "R",
   "language": "R",
   "name": "ir"
  },
  "language_info": {
   "codemirror_mode": "r",
   "file_extension": ".r",
   "mimetype": "text/x-r-source",
   "name": "R",
   "pygments_lexer": "r",
   "version": "3.4.0"
  }
 },
 "nbformat": 4,
 "nbformat_minor": 2
}
