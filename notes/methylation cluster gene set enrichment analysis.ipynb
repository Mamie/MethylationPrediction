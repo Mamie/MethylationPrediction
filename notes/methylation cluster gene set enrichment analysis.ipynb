{
 "cells": [
  {
   "cell_type": "markdown",
   "metadata": {},
   "source": [
    "# Figueroa methylation cluster enrichment analysis"
   ]
  },
  {
   "cell_type": "markdown",
   "metadata": {},
   "source": [
    "get the gene names from each cluster defined"
   ]
  },
  {
   "cell_type": "code",
   "execution_count": 1,
   "metadata": {},
   "outputs": [
    {
     "data": {
      "text/html": [
       "<table>\n",
       "<thead><tr><th></th><th scope=col>TCGA.AB.2803.03</th><th scope=col>TCGA.AB.2805.03</th><th scope=col>TCGA.AB.2806.03</th><th scope=col>TCGA.AB.2807.03</th><th scope=col>TCGA.AB.2808.03</th><th scope=col>TCGA.AB.2810.03</th><th scope=col>TCGA.AB.2811.03</th><th scope=col>TCGA.AB.2812.03</th><th scope=col>TCGA.AB.2813.03</th><th scope=col>TCGA.AB.2814.03</th><th scope=col>⋯</th><th scope=col>TCGA.AB.3001.03</th><th scope=col>TCGA.AB.3002.03</th><th scope=col>TCGA.AB.3005.03</th><th scope=col>TCGA.AB.3006.03</th><th scope=col>TCGA.AB.3007.03</th><th scope=col>TCGA.AB.3008.03</th><th scope=col>TCGA.AB.3009.03</th><th scope=col>TCGA.AB.3011.03</th><th scope=col>TCGA.AB.3012.03</th><th scope=col>cluster</th></tr></thead>\n",
       "<tbody>\n",
       "\t<tr><th scope=row>PHF13</th><td> 0.3423768 </td><td> 3.899110  </td><td>-0.3258948 </td><td> 2.132405  </td><td> 0.6044729 </td><td> 4.276452  </td><td> 0.09398224</td><td> 1.602381  </td><td>-2.457818  </td><td>-1.091170  </td><td>⋯          </td><td>-0.2017327 </td><td> 2.949828  </td><td>-4.423115  </td><td> 0.7053693 </td><td> 1.844769  </td><td> 2.150347  </td><td>-4.591566  </td><td> 4.080576  </td><td> 1.006973  </td><td>1          </td></tr>\n",
       "\t<tr><th scope=row>PHF13</th><td>-5.2259860 </td><td>-5.116844  </td><td>-5.5943558 </td><td>-4.179371  </td><td>-4.7216463 </td><td>-4.913952  </td><td>-5.67461066</td><td>-5.268793  </td><td>-5.285608  </td><td>-5.253347  </td><td>⋯          </td><td>-5.4211828 </td><td>-3.363674  </td><td>-4.943104  </td><td>-5.2486713 </td><td>-5.322556  </td><td>-4.897025  </td><td>-4.664227  </td><td>-4.570267  </td><td>-5.182862  </td><td>2          </td></tr>\n",
       "\t<tr><th scope=row>HNRNPR</th><td>-5.9847709 </td><td>-6.140785  </td><td>-6.1453889 </td><td>-5.680161  </td><td>-6.0131620 </td><td>-6.098731  </td><td>-5.98669727</td><td>-6.111675  </td><td>-5.525164  </td><td>-5.862543  </td><td>⋯          </td><td>-6.3027623 </td><td>-5.680407  </td><td>-5.847166  </td><td>-5.9365068 </td><td>-5.594875  </td><td>-5.941308  </td><td>-5.683442  </td><td>-6.048175  </td><td>-5.976539  </td><td>3          </td></tr>\n",
       "\t<tr><th scope=row>HNRNPR</th><td>-6.3115184 </td><td>-6.699785  </td><td>-6.5491666 </td><td>-6.240934  </td><td>-6.4530199 </td><td>-6.418142  </td><td>-6.34926654</td><td>-6.747975  </td><td>-6.355054  </td><td>-6.933813  </td><td>⋯          </td><td>-6.5207027 </td><td>-6.063758  </td><td>-6.543737  </td><td>-6.4526815 </td><td>-6.532402  </td><td>-6.271586  </td><td>-6.262929  </td><td>-6.531617  </td><td>-6.642015  </td><td>3          </td></tr>\n",
       "\t<tr><th scope=row>THEM4</th><td>-6.3682729 </td><td>-4.368278  </td><td> 2.4186535 </td><td>-1.148027  </td><td>-3.6899751 </td><td>-4.178010  </td><td>-6.13787492</td><td>-2.606591  </td><td>-5.844866  </td><td>-1.927395  </td><td>⋯          </td><td>-5.9987964 </td><td>-1.909916  </td><td>-6.357597  </td><td>-6.1512105 </td><td>-5.429418  </td><td>-5.890694  </td><td> 2.651787  </td><td>-4.851152  </td><td>-6.214985  </td><td>2          </td></tr>\n",
       "\t<tr><th scope=row>THEM4</th><td>-5.2171690 </td><td>-4.240914  </td><td> 2.5841896 </td><td>-3.553892  </td><td>-4.6451805 </td><td>-4.960789  </td><td>-4.37749236</td><td>-3.616209  </td><td>-4.026943  </td><td>-3.625518  </td><td>⋯          </td><td>-4.2415622 </td><td>-2.342572  </td><td>-5.486683  </td><td>-4.2190998 </td><td>-4.611432  </td><td>-5.189960  </td><td> 2.841078  </td><td>-3.840631  </td><td>-4.191026  </td><td>2          </td></tr>\n",
       "</tbody>\n",
       "</table>\n"
      ],
      "text/latex": [
       "\\begin{tabular}{r|lllllllllllllllllllllllllllllllllllllllllllllllllllllllllllllllllllllllllllllllllllllllllllllllllllllllllllllllllllllllllllllllllllllllllllllllllllllllllllllllllllllllllll}\n",
       "  & TCGA.AB.2803.03 & TCGA.AB.2805.03 & TCGA.AB.2806.03 & TCGA.AB.2807.03 & TCGA.AB.2808.03 & TCGA.AB.2810.03 & TCGA.AB.2811.03 & TCGA.AB.2812.03 & TCGA.AB.2813.03 & TCGA.AB.2814.03 & ⋯ & TCGA.AB.3001.03 & TCGA.AB.3002.03 & TCGA.AB.3005.03 & TCGA.AB.3006.03 & TCGA.AB.3007.03 & TCGA.AB.3008.03 & TCGA.AB.3009.03 & TCGA.AB.3011.03 & TCGA.AB.3012.03 & cluster\\\\\n",
       "\\hline\n",
       "\tPHF13 &  0.3423768  &  3.899110   & -0.3258948  &  2.132405   &  0.6044729  &  4.276452   &  0.09398224 &  1.602381   & -2.457818   & -1.091170   & ⋯           & -0.2017327  &  2.949828   & -4.423115   &  0.7053693  &  1.844769   &  2.150347   & -4.591566   &  4.080576   &  1.006973   & 1          \\\\\n",
       "\tPHF13 & -5.2259860  & -5.116844   & -5.5943558  & -4.179371   & -4.7216463  & -4.913952   & -5.67461066 & -5.268793   & -5.285608   & -5.253347   & ⋯           & -5.4211828  & -3.363674   & -4.943104   & -5.2486713  & -5.322556   & -4.897025   & -4.664227   & -4.570267   & -5.182862   & 2          \\\\\n",
       "\tHNRNPR & -5.9847709  & -6.140785   & -6.1453889  & -5.680161   & -6.0131620  & -6.098731   & -5.98669727 & -6.111675   & -5.525164   & -5.862543   & ⋯           & -6.3027623  & -5.680407   & -5.847166   & -5.9365068  & -5.594875   & -5.941308   & -5.683442   & -6.048175   & -5.976539   & 3          \\\\\n",
       "\tHNRNPR & -6.3115184  & -6.699785   & -6.5491666  & -6.240934   & -6.4530199  & -6.418142   & -6.34926654 & -6.747975   & -6.355054   & -6.933813   & ⋯           & -6.5207027  & -6.063758   & -6.543737   & -6.4526815  & -6.532402   & -6.271586   & -6.262929   & -6.531617   & -6.642015   & 3          \\\\\n",
       "\tTHEM4 & -6.3682729  & -4.368278   &  2.4186535  & -1.148027   & -3.6899751  & -4.178010   & -6.13787492 & -2.606591   & -5.844866   & -1.927395   & ⋯           & -5.9987964  & -1.909916   & -6.357597   & -6.1512105  & -5.429418   & -5.890694   &  2.651787   & -4.851152   & -6.214985   & 2          \\\\\n",
       "\tTHEM4 & -5.2171690  & -4.240914   &  2.5841896  & -3.553892   & -4.6451805  & -4.960789   & -4.37749236 & -3.616209   & -4.026943   & -3.625518   & ⋯           & -4.2415622  & -2.342572   & -5.486683   & -4.2190998  & -4.611432   & -5.189960   &  2.841078   & -3.840631   & -4.191026   & 2          \\\\\n",
       "\\end{tabular}\n"
      ],
      "text/markdown": [
       "\n",
       "| <!--/--> | TCGA.AB.2803.03 | TCGA.AB.2805.03 | TCGA.AB.2806.03 | TCGA.AB.2807.03 | TCGA.AB.2808.03 | TCGA.AB.2810.03 | TCGA.AB.2811.03 | TCGA.AB.2812.03 | TCGA.AB.2813.03 | TCGA.AB.2814.03 | ⋯ | TCGA.AB.3001.03 | TCGA.AB.3002.03 | TCGA.AB.3005.03 | TCGA.AB.3006.03 | TCGA.AB.3007.03 | TCGA.AB.3008.03 | TCGA.AB.3009.03 | TCGA.AB.3011.03 | TCGA.AB.3012.03 | cluster | \n",
       "|---|---|---|---|---|---|\n",
       "| PHF13 |  0.3423768  |  3.899110   | -0.3258948  |  2.132405   |  0.6044729  |  4.276452   |  0.09398224 |  1.602381   | -2.457818   | -1.091170   | ⋯           | -0.2017327  |  2.949828   | -4.423115   |  0.7053693  |  1.844769   |  2.150347   | -4.591566   |  4.080576   |  1.006973   | 1           | \n",
       "| PHF13 | -5.2259860  | -5.116844   | -5.5943558  | -4.179371   | -4.7216463  | -4.913952   | -5.67461066 | -5.268793   | -5.285608   | -5.253347   | ⋯           | -5.4211828  | -3.363674   | -4.943104   | -5.2486713  | -5.322556   | -4.897025   | -4.664227   | -4.570267   | -5.182862   | 2           | \n",
       "| HNRNPR | -5.9847709  | -6.140785   | -6.1453889  | -5.680161   | -6.0131620  | -6.098731   | -5.98669727 | -6.111675   | -5.525164   | -5.862543   | ⋯           | -6.3027623  | -5.680407   | -5.847166   | -5.9365068  | -5.594875   | -5.941308   | -5.683442   | -6.048175   | -5.976539   | 3           | \n",
       "| HNRNPR | -6.3115184  | -6.699785   | -6.5491666  | -6.240934   | -6.4530199  | -6.418142   | -6.34926654 | -6.747975   | -6.355054   | -6.933813   | ⋯           | -6.5207027  | -6.063758   | -6.543737   | -6.4526815  | -6.532402   | -6.271586   | -6.262929   | -6.531617   | -6.642015   | 3           | \n",
       "| THEM4 | -6.3682729  | -4.368278   |  2.4186535  | -1.148027   | -3.6899751  | -4.178010   | -6.13787492 | -2.606591   | -5.844866   | -1.927395   | ⋯           | -5.9987964  | -1.909916   | -6.357597   | -6.1512105  | -5.429418   | -5.890694   |  2.651787   | -4.851152   | -6.214985   | 2           | \n",
       "| THEM4 | -5.2171690  | -4.240914   |  2.5841896  | -3.553892   | -4.6451805  | -4.960789   | -4.37749236 | -3.616209   | -4.026943   | -3.625518   | ⋯           | -4.2415622  | -2.342572   | -5.486683   | -4.2190998  | -4.611432   | -5.189960   |  2.841078   | -3.840631   | -4.191026   | 2           | \n",
       "\n",
       "\n"
      ],
      "text/plain": [
       "       TCGA.AB.2803.03 TCGA.AB.2805.03 TCGA.AB.2806.03 TCGA.AB.2807.03\n",
       "PHF13   0.3423768       3.899110       -0.3258948       2.132405      \n",
       "PHF13  -5.2259860      -5.116844       -5.5943558      -4.179371      \n",
       "HNRNPR -5.9847709      -6.140785       -6.1453889      -5.680161      \n",
       "HNRNPR -6.3115184      -6.699785       -6.5491666      -6.240934      \n",
       "THEM4  -6.3682729      -4.368278        2.4186535      -1.148027      \n",
       "THEM4  -5.2171690      -4.240914        2.5841896      -3.553892      \n",
       "       TCGA.AB.2808.03 TCGA.AB.2810.03 TCGA.AB.2811.03 TCGA.AB.2812.03\n",
       "PHF13   0.6044729       4.276452        0.09398224      1.602381      \n",
       "PHF13  -4.7216463      -4.913952       -5.67461066     -5.268793      \n",
       "HNRNPR -6.0131620      -6.098731       -5.98669727     -6.111675      \n",
       "HNRNPR -6.4530199      -6.418142       -6.34926654     -6.747975      \n",
       "THEM4  -3.6899751      -4.178010       -6.13787492     -2.606591      \n",
       "THEM4  -4.6451805      -4.960789       -4.37749236     -3.616209      \n",
       "       TCGA.AB.2813.03 TCGA.AB.2814.03 ⋯ TCGA.AB.3001.03 TCGA.AB.3002.03\n",
       "PHF13  -2.457818       -1.091170       ⋯ -0.2017327       2.949828      \n",
       "PHF13  -5.285608       -5.253347       ⋯ -5.4211828      -3.363674      \n",
       "HNRNPR -5.525164       -5.862543       ⋯ -6.3027623      -5.680407      \n",
       "HNRNPR -6.355054       -6.933813       ⋯ -6.5207027      -6.063758      \n",
       "THEM4  -5.844866       -1.927395       ⋯ -5.9987964      -1.909916      \n",
       "THEM4  -4.026943       -3.625518       ⋯ -4.2415622      -2.342572      \n",
       "       TCGA.AB.3005.03 TCGA.AB.3006.03 TCGA.AB.3007.03 TCGA.AB.3008.03\n",
       "PHF13  -4.423115        0.7053693       1.844769        2.150347      \n",
       "PHF13  -4.943104       -5.2486713      -5.322556       -4.897025      \n",
       "HNRNPR -5.847166       -5.9365068      -5.594875       -5.941308      \n",
       "HNRNPR -6.543737       -6.4526815      -6.532402       -6.271586      \n",
       "THEM4  -6.357597       -6.1512105      -5.429418       -5.890694      \n",
       "THEM4  -5.486683       -4.2190998      -4.611432       -5.189960      \n",
       "       TCGA.AB.3009.03 TCGA.AB.3011.03 TCGA.AB.3012.03 cluster\n",
       "PHF13  -4.591566        4.080576        1.006973       1      \n",
       "PHF13  -4.664227       -4.570267       -5.182862       2      \n",
       "HNRNPR -5.683442       -6.048175       -5.976539       3      \n",
       "HNRNPR -6.262929       -6.531617       -6.642015       3      \n",
       "THEM4   2.651787       -4.851152       -6.214985       2      \n",
       "THEM4   2.841078       -3.840631       -4.191026       2      "
      ]
     },
     "metadata": {},
     "output_type": "display_data"
    }
   ],
   "source": [
    "Figueroa.HM27 <- read.csv('/oak/stanford/groups/andrewg/users/szmamie/repos/MethylationPrediction/data/LAML/processed/Figueroa-HM27-imputed-M.tsv',\n",
    "                          stringsAsFactor=F, sep='\\t', header=F)\n",
    "HM27 <- data.matrix(Figueroa.HM27[-1,-1])\n",
    "\n",
    "rownames(HM27) <- Figueroa.HM27[-1,1]\n",
    "colnames(HM27) <- Figueroa.HM27[1,-dim(Figueroa.HM27)[2]]\n",
    "head(HM27)"
   ]
  },
  {
   "cell_type": "code",
   "execution_count": 2,
   "metadata": {},
   "outputs": [
    {
     "name": "stdout",
     "output_type": "stream",
     "text": [
      "[1] \"Cluster 1 has 230 probes.\"\n",
      "[1] \"Cluster 2 has 407 probes.\"\n",
      "[1] \"Cluster 3 has 345 probes.\"\n",
      "[1] \"Cluster 4 has 257 probes.\"\n",
      "[1] \"Cluster 5 has 187 probes.\"\n",
      "[1] \"Cluster 6 has 13 probes.\"\n",
      "[1] \"Cluster 7 has 31 probes.\"\n"
     ]
    }
   ],
   "source": [
    "n <- dim(HM27)[2]\n",
    "cluster.membership <- HM27[, n]\n",
    "gene.cluster <- list()\n",
    "for (i in seq(length(unique(cluster.membership)))) {\n",
    "    cluster.idx <- which(cluster.membership == i)\n",
    "    print(paste0('Cluster ', i, ' has ', length(cluster.idx), ' probes.'))\n",
    "    gene.cluster[[i]] <- rownames(HM27)[cluster.idx]\n",
    "}"
   ]
  },
  {
   "cell_type": "code",
   "execution_count": 12,
   "metadata": {},
   "outputs": [],
   "source": [
    "extractUniqueGenes <- function(genes) {\n",
    "    unique(unlist(sapply(genes, function(x) strsplit(x, split=';')[[1]])))\n",
    "}"
   ]
  },
  {
   "cell_type": "code",
   "execution_count": 17,
   "metadata": {},
   "outputs": [],
   "source": [
    "for (i in seq(unique(cluster.membership))) {\n",
    "    write.table(extractUniqueGenes(gene.cluster[[i]]), file=paste0('../data/Figueroa/cluster', i, '.tsv'), row.names=F, col.names=F, quote=F)\n",
    "}"
   ]
  },
  {
   "cell_type": "markdown",
   "metadata": {},
   "source": [
    "## Cluster 1"
   ]
  },
  {
   "cell_type": "code",
   "execution_count": 22,
   "metadata": {},
   "outputs": [],
   "source": [
    "cluster1 <- read.csv('../data/Figueroa/cluster1.txt', skip=5, header=T, sep='\\t', stringsAsFactor=F)"
   ]
  },
  {
   "cell_type": "code",
   "execution_count": 35,
   "metadata": {},
   "outputs": [
    {
     "data": {
      "text/html": [
       "<table>\n",
       "<thead><tr><th scope=col>GO.biological.process.complete</th><th scope=col>Homo.sapiens...REFLIST..21042.</th><th scope=col>upload_1..203.</th><th scope=col>upload_1..expected.</th><th scope=col>upload_1..over.under.</th><th scope=col>upload_1..fold.Enrichment.</th><th scope=col>upload_1..raw.P.value.</th><th scope=col>upload_1..FDR.</th></tr></thead>\n",
       "<tbody>\n",
       "\t<tr><td>homophilic cell adhesion via plasma membrane adhesion molecules (GO:0007156)</td><td>163                                                                         </td><td>22                                                                          </td><td>1.57                                                                        </td><td>+                                                                           </td><td>13.99                                                                       </td><td>5.48e-18                                                                    </td><td>8.57e-14                                                                    </td></tr>\n",
       "\t<tr><td>cell-cell adhesion via plasma-membrane adhesion molecules (GO:0098742)      </td><td>235                                                                         </td><td>23                                                                          </td><td>2.27                                                                        </td><td>+                                                                           </td><td>10.14                                                                       </td><td>5.86e-16                                                                    </td><td>4.59e-12                                                                    </td></tr>\n",
       "\t<tr><td>synapse assembly (GO:0007416)                                               </td><td> 84                                                                         </td><td> 7                                                                          </td><td>0.81                                                                        </td><td>+                                                                           </td><td> 8.64                                                                       </td><td>2.69e-05                                                                    </td><td>2.22e-02                                                                    </td></tr>\n",
       "\t<tr><td>cell-cell adhesion (GO:0098609)                                             </td><td>456                                                                         </td><td>25                                                                          </td><td>4.40                                                                        </td><td>+                                                                           </td><td> 5.68                                                                       </td><td>6.52e-12                                                                    </td><td>1.70e-08                                                                    </td></tr>\n",
       "\t<tr><td>synapse organization (GO:0050808)                                           </td><td>203                                                                         </td><td>10                                                                          </td><td>1.96                                                                        </td><td>+                                                                           </td><td> 5.11                                                                       </td><td>4.05e-05                                                                    </td><td>3.17e-02                                                                    </td></tr>\n",
       "\t<tr><td>chemical synaptic transmission (GO:0007268)                                 </td><td>456                                                                         </td><td>19                                                                          </td><td>4.40                                                                        </td><td>+                                                                           </td><td> 4.32                                                                       </td><td>1.65e-07                                                                    </td><td>2.35e-04                                                                    </td></tr>\n",
       "</tbody>\n",
       "</table>\n"
      ],
      "text/latex": [
       "\\begin{tabular}{r|llllllll}\n",
       " GO.biological.process.complete & Homo.sapiens...REFLIST..21042. & upload\\_1..203. & upload\\_1..expected. & upload\\_1..over.under. & upload\\_1..fold.Enrichment. & upload\\_1..raw.P.value. & upload\\_1..FDR.\\\\\n",
       "\\hline\n",
       "\t homophilic cell adhesion via plasma membrane adhesion molecules (GO:0007156) & 163                                                                          & 22                                                                           & 1.57                                                                         & +                                                                            & 13.99                                                                        & 5.48e-18                                                                     & 8.57e-14                                                                    \\\\\n",
       "\t cell-cell adhesion via plasma-membrane adhesion molecules (GO:0098742)       & 235                                                                          & 23                                                                           & 2.27                                                                         & +                                                                            & 10.14                                                                        & 5.86e-16                                                                     & 4.59e-12                                                                    \\\\\n",
       "\t synapse assembly (GO:0007416)                                                &  84                                                                          &  7                                                                           & 0.81                                                                         & +                                                                            &  8.64                                                                        & 2.69e-05                                                                     & 2.22e-02                                                                    \\\\\n",
       "\t cell-cell adhesion (GO:0098609)                                              & 456                                                                          & 25                                                                           & 4.40                                                                         & +                                                                            &  5.68                                                                        & 6.52e-12                                                                     & 1.70e-08                                                                    \\\\\n",
       "\t synapse organization (GO:0050808)                                            & 203                                                                          & 10                                                                           & 1.96                                                                         & +                                                                            &  5.11                                                                        & 4.05e-05                                                                     & 3.17e-02                                                                    \\\\\n",
       "\t chemical synaptic transmission (GO:0007268)                                  & 456                                                                          & 19                                                                           & 4.40                                                                         & +                                                                            &  4.32                                                                        & 1.65e-07                                                                     & 2.35e-04                                                                    \\\\\n",
       "\\end{tabular}\n"
      ],
      "text/markdown": [
       "\n",
       "GO.biological.process.complete | Homo.sapiens...REFLIST..21042. | upload_1..203. | upload_1..expected. | upload_1..over.under. | upload_1..fold.Enrichment. | upload_1..raw.P.value. | upload_1..FDR. | \n",
       "|---|---|---|---|---|---|\n",
       "| homophilic cell adhesion via plasma membrane adhesion molecules (GO:0007156) | 163                                                                          | 22                                                                           | 1.57                                                                         | +                                                                            | 13.99                                                                        | 5.48e-18                                                                     | 8.57e-14                                                                     | \n",
       "| cell-cell adhesion via plasma-membrane adhesion molecules (GO:0098742)       | 235                                                                          | 23                                                                           | 2.27                                                                         | +                                                                            | 10.14                                                                        | 5.86e-16                                                                     | 4.59e-12                                                                     | \n",
       "| synapse assembly (GO:0007416)                                                |  84                                                                          |  7                                                                           | 0.81                                                                         | +                                                                            |  8.64                                                                        | 2.69e-05                                                                     | 2.22e-02                                                                     | \n",
       "| cell-cell adhesion (GO:0098609)                                              | 456                                                                          | 25                                                                           | 4.40                                                                         | +                                                                            |  5.68                                                                        | 6.52e-12                                                                     | 1.70e-08                                                                     | \n",
       "| synapse organization (GO:0050808)                                            | 203                                                                          | 10                                                                           | 1.96                                                                         | +                                                                            |  5.11                                                                        | 4.05e-05                                                                     | 3.17e-02                                                                     | \n",
       "| chemical synaptic transmission (GO:0007268)                                  | 456                                                                          | 19                                                                           | 4.40                                                                         | +                                                                            |  4.32                                                                        | 1.65e-07                                                                     | 2.35e-04                                                                     | \n",
       "\n",
       "\n"
      ],
      "text/plain": [
       "  GO.biological.process.complete                                              \n",
       "1 homophilic cell adhesion via plasma membrane adhesion molecules (GO:0007156)\n",
       "2 cell-cell adhesion via plasma-membrane adhesion molecules (GO:0098742)      \n",
       "3 synapse assembly (GO:0007416)                                               \n",
       "4 cell-cell adhesion (GO:0098609)                                             \n",
       "5 synapse organization (GO:0050808)                                           \n",
       "6 chemical synaptic transmission (GO:0007268)                                 \n",
       "  Homo.sapiens...REFLIST..21042. upload_1..203. upload_1..expected.\n",
       "1 163                            22             1.57               \n",
       "2 235                            23             2.27               \n",
       "3  84                             7             0.81               \n",
       "4 456                            25             4.40               \n",
       "5 203                            10             1.96               \n",
       "6 456                            19             4.40               \n",
       "  upload_1..over.under. upload_1..fold.Enrichment. upload_1..raw.P.value.\n",
       "1 +                     13.99                      5.48e-18              \n",
       "2 +                     10.14                      5.86e-16              \n",
       "3 +                      8.64                      2.69e-05              \n",
       "4 +                      5.68                      6.52e-12              \n",
       "5 +                      5.11                      4.05e-05              \n",
       "6 +                      4.32                      1.65e-07              \n",
       "  upload_1..FDR.\n",
       "1 8.57e-14      \n",
       "2 4.59e-12      \n",
       "3 2.22e-02      \n",
       "4 1.70e-08      \n",
       "5 3.17e-02      \n",
       "6 2.35e-04      "
      ]
     },
     "metadata": {},
     "output_type": "display_data"
    }
   ],
   "source": [
    "head(cluster1)"
   ]
  },
  {
   "cell_type": "markdown",
   "metadata": {},
   "source": [
    "## Cluster 2"
   ]
  },
  {
   "cell_type": "code",
   "execution_count": 26,
   "metadata": {},
   "outputs": [],
   "source": [
    "cluster2 <- read.csv('../data/Figueroa/cluster2.txt', skip=5, header=T, sep='\\t', stringsAsFactor=F)"
   ]
  },
  {
   "cell_type": "code",
   "execution_count": 34,
   "metadata": {},
   "outputs": [
    {
     "data": {
      "text/html": [
       "<table>\n",
       "<thead><tr><th scope=col>GO.biological.process.complete</th><th scope=col>Homo.sapiens...REFLIST..21042.</th><th scope=col>upload_1..356.</th><th scope=col>upload_1..expected.</th><th scope=col>upload_1..over.under.</th><th scope=col>upload_1..fold.Enrichment.</th><th scope=col>upload_1..raw.P.value.</th><th scope=col>upload_1..FDR.</th></tr></thead>\n",
       "<tbody>\n",
       "\t<tr><td>homophilic cell adhesion via plasma membrane adhesion molecules (GO:0007156)</td><td>163                                                                         </td><td>23                                                                          </td><td> 2.76                                                                       </td><td>+                                                                           </td><td>8.34                                                                        </td><td>7.56e-14                                                                    </td><td>1.18e-09                                                                    </td></tr>\n",
       "\t<tr><td>cell-cell adhesion via plasma-membrane adhesion molecules (GO:0098742)      </td><td>235                                                                         </td><td>25                                                                          </td><td> 3.98                                                                       </td><td>+                                                                           </td><td>6.29                                                                        </td><td>1.95e-12                                                                    </td><td>5.08e-09                                                                    </td></tr>\n",
       "\t<tr><td>cell-cell adhesion (GO:0098609)                                             </td><td>456                                                                         </td><td>30                                                                          </td><td> 7.71                                                                       </td><td>+                                                                           </td><td>3.89                                                                        </td><td>8.12e-10                                                                    </td><td>1.27e-06                                                                    </td></tr>\n",
       "\t<tr><td>regulation of cellular amide metabolic process (GO:0034248)                 </td><td>377                                                                         </td><td>20                                                                          </td><td> 6.38                                                                       </td><td>+                                                                           </td><td>3.14                                                                        </td><td>1.25e-05                                                                    </td><td>7.52e-03                                                                    </td></tr>\n",
       "\t<tr><td>cell adhesion (GO:0007155)                                                  </td><td>889                                                                         </td><td>42                                                                          </td><td>15.04                                                                       </td><td>+                                                                           </td><td>2.79                                                                        </td><td>4.72e-09                                                                    </td><td>6.71e-06                                                                    </td></tr>\n",
       "\t<tr><td>biological adhesion (GO:0022610)                                            </td><td>895                                                                         </td><td>42                                                                          </td><td>15.14                                                                       </td><td>+                                                                           </td><td>2.77                                                                        </td><td>5.68e-09                                                                    </td><td>7.41e-06                                                                    </td></tr>\n",
       "</tbody>\n",
       "</table>\n"
      ],
      "text/latex": [
       "\\begin{tabular}{r|llllllll}\n",
       " GO.biological.process.complete & Homo.sapiens...REFLIST..21042. & upload\\_1..356. & upload\\_1..expected. & upload\\_1..over.under. & upload\\_1..fold.Enrichment. & upload\\_1..raw.P.value. & upload\\_1..FDR.\\\\\n",
       "\\hline\n",
       "\t homophilic cell adhesion via plasma membrane adhesion molecules (GO:0007156) & 163                                                                          & 23                                                                           &  2.76                                                                        & +                                                                            & 8.34                                                                         & 7.56e-14                                                                     & 1.18e-09                                                                    \\\\\n",
       "\t cell-cell adhesion via plasma-membrane adhesion molecules (GO:0098742)       & 235                                                                          & 25                                                                           &  3.98                                                                        & +                                                                            & 6.29                                                                         & 1.95e-12                                                                     & 5.08e-09                                                                    \\\\\n",
       "\t cell-cell adhesion (GO:0098609)                                              & 456                                                                          & 30                                                                           &  7.71                                                                        & +                                                                            & 3.89                                                                         & 8.12e-10                                                                     & 1.27e-06                                                                    \\\\\n",
       "\t regulation of cellular amide metabolic process (GO:0034248)                  & 377                                                                          & 20                                                                           &  6.38                                                                        & +                                                                            & 3.14                                                                         & 1.25e-05                                                                     & 7.52e-03                                                                    \\\\\n",
       "\t cell adhesion (GO:0007155)                                                   & 889                                                                          & 42                                                                           & 15.04                                                                        & +                                                                            & 2.79                                                                         & 4.72e-09                                                                     & 6.71e-06                                                                    \\\\\n",
       "\t biological adhesion (GO:0022610)                                             & 895                                                                          & 42                                                                           & 15.14                                                                        & +                                                                            & 2.77                                                                         & 5.68e-09                                                                     & 7.41e-06                                                                    \\\\\n",
       "\\end{tabular}\n"
      ],
      "text/markdown": [
       "\n",
       "GO.biological.process.complete | Homo.sapiens...REFLIST..21042. | upload_1..356. | upload_1..expected. | upload_1..over.under. | upload_1..fold.Enrichment. | upload_1..raw.P.value. | upload_1..FDR. | \n",
       "|---|---|---|---|---|---|\n",
       "| homophilic cell adhesion via plasma membrane adhesion molecules (GO:0007156) | 163                                                                          | 23                                                                           |  2.76                                                                        | +                                                                            | 8.34                                                                         | 7.56e-14                                                                     | 1.18e-09                                                                     | \n",
       "| cell-cell adhesion via plasma-membrane adhesion molecules (GO:0098742)       | 235                                                                          | 25                                                                           |  3.98                                                                        | +                                                                            | 6.29                                                                         | 1.95e-12                                                                     | 5.08e-09                                                                     | \n",
       "| cell-cell adhesion (GO:0098609)                                              | 456                                                                          | 30                                                                           |  7.71                                                                        | +                                                                            | 3.89                                                                         | 8.12e-10                                                                     | 1.27e-06                                                                     | \n",
       "| regulation of cellular amide metabolic process (GO:0034248)                  | 377                                                                          | 20                                                                           |  6.38                                                                        | +                                                                            | 3.14                                                                         | 1.25e-05                                                                     | 7.52e-03                                                                     | \n",
       "| cell adhesion (GO:0007155)                                                   | 889                                                                          | 42                                                                           | 15.04                                                                        | +                                                                            | 2.79                                                                         | 4.72e-09                                                                     | 6.71e-06                                                                     | \n",
       "| biological adhesion (GO:0022610)                                             | 895                                                                          | 42                                                                           | 15.14                                                                        | +                                                                            | 2.77                                                                         | 5.68e-09                                                                     | 7.41e-06                                                                     | \n",
       "\n",
       "\n"
      ],
      "text/plain": [
       "  GO.biological.process.complete                                              \n",
       "1 homophilic cell adhesion via plasma membrane adhesion molecules (GO:0007156)\n",
       "2 cell-cell adhesion via plasma-membrane adhesion molecules (GO:0098742)      \n",
       "3 cell-cell adhesion (GO:0098609)                                             \n",
       "4 regulation of cellular amide metabolic process (GO:0034248)                 \n",
       "5 cell adhesion (GO:0007155)                                                  \n",
       "6 biological adhesion (GO:0022610)                                            \n",
       "  Homo.sapiens...REFLIST..21042. upload_1..356. upload_1..expected.\n",
       "1 163                            23              2.76              \n",
       "2 235                            25              3.98              \n",
       "3 456                            30              7.71              \n",
       "4 377                            20              6.38              \n",
       "5 889                            42             15.04              \n",
       "6 895                            42             15.14              \n",
       "  upload_1..over.under. upload_1..fold.Enrichment. upload_1..raw.P.value.\n",
       "1 +                     8.34                       7.56e-14              \n",
       "2 +                     6.29                       1.95e-12              \n",
       "3 +                     3.89                       8.12e-10              \n",
       "4 +                     3.14                       1.25e-05              \n",
       "5 +                     2.79                       4.72e-09              \n",
       "6 +                     2.77                       5.68e-09              \n",
       "  upload_1..FDR.\n",
       "1 1.18e-09      \n",
       "2 5.08e-09      \n",
       "3 1.27e-06      \n",
       "4 7.52e-03      \n",
       "5 6.71e-06      \n",
       "6 7.41e-06      "
      ]
     },
     "metadata": {},
     "output_type": "display_data"
    }
   ],
   "source": [
    "head(cluster2)"
   ]
  },
  {
   "cell_type": "markdown",
   "metadata": {},
   "source": [
    "## Cluster 3"
   ]
  },
  {
   "cell_type": "code",
   "execution_count": 28,
   "metadata": {},
   "outputs": [],
   "source": [
    "cluster3 <- read.csv('../data/Figueroa/cluster3.txt', skip=5, header=T, sep='\\t', stringsAsFactor=F)"
   ]
  },
  {
   "cell_type": "code",
   "execution_count": 31,
   "metadata": {},
   "outputs": [
    {
     "data": {
      "text/html": [
       "<table>\n",
       "<thead><tr><th scope=col>GO.biological.process.complete</th><th scope=col>Homo.sapiens...REFLIST..21042.</th><th scope=col>upload_1..272.</th><th scope=col>upload_1..expected.</th><th scope=col>upload_1..over.under.</th><th scope=col>upload_1..fold.Enrichment.</th><th scope=col>upload_1..raw.P.value.</th><th scope=col>upload_1..FDR.</th></tr></thead>\n",
       "<tbody>\n",
       "\t<tr><td>regulation of cellular amide metabolic process (GO:0034248)</td><td> 377                                                       </td><td>18                                                         </td><td> 4.87                                                      </td><td>+                                                          </td><td>3.69                                                       </td><td>3.62e-06                                                   </td><td>0.00435                                                    </td></tr>\n",
       "\t<tr><td>protein localization to organelle (GO:0033365)             </td><td> 692                                                       </td><td>25                                                         </td><td> 8.95                                                      </td><td>+                                                          </td><td>2.79                                                       </td><td>5.93e-06                                                   </td><td>0.00662                                                    </td></tr>\n",
       "\t<tr><td>cellular macromolecule localization (GO:0070727)           </td><td>1519                                                       </td><td>40                                                         </td><td>19.64                                                      </td><td>+                                                          </td><td>2.04                                                       </td><td>2.86e-05                                                   </td><td>0.01860                                                    </td></tr>\n",
       "\t<tr><td>cellular protein localization (GO:0034613)                 </td><td>1509                                                       </td><td>39                                                         </td><td>19.51                                                      </td><td>+                                                          </td><td>2.00                                                       </td><td>4.70e-05                                                   </td><td>0.02630                                                    </td></tr>\n",
       "\t<tr><td>protein localization (GO:0008104)                          </td><td>2066                                                       </td><td>51                                                         </td><td>26.71                                                      </td><td>+                                                          </td><td>1.91                                                       </td><td>8.48e-06                                                   </td><td>0.00780                                                    </td></tr>\n",
       "\t<tr><td>negative regulation of gene expression (GO:0010629)        </td><td>1736                                                       </td><td>42                                                         </td><td>22.44                                                      </td><td>+                                                          </td><td>1.87                                                       </td><td>9.38e-05                                                   </td><td>0.04580                                                    </td></tr>\n",
       "</tbody>\n",
       "</table>\n"
      ],
      "text/latex": [
       "\\begin{tabular}{r|llllllll}\n",
       " GO.biological.process.complete & Homo.sapiens...REFLIST..21042. & upload\\_1..272. & upload\\_1..expected. & upload\\_1..over.under. & upload\\_1..fold.Enrichment. & upload\\_1..raw.P.value. & upload\\_1..FDR.\\\\\n",
       "\\hline\n",
       "\t regulation of cellular amide metabolic process (GO:0034248) &  377                                                        & 18                                                          &  4.87                                                       & +                                                           & 3.69                                                        & 3.62e-06                                                    & 0.00435                                                    \\\\\n",
       "\t protein localization to organelle (GO:0033365)              &  692                                                        & 25                                                          &  8.95                                                       & +                                                           & 2.79                                                        & 5.93e-06                                                    & 0.00662                                                    \\\\\n",
       "\t cellular macromolecule localization (GO:0070727)            & 1519                                                        & 40                                                          & 19.64                                                       & +                                                           & 2.04                                                        & 2.86e-05                                                    & 0.01860                                                    \\\\\n",
       "\t cellular protein localization (GO:0034613)                  & 1509                                                        & 39                                                          & 19.51                                                       & +                                                           & 2.00                                                        & 4.70e-05                                                    & 0.02630                                                    \\\\\n",
       "\t protein localization (GO:0008104)                           & 2066                                                        & 51                                                          & 26.71                                                       & +                                                           & 1.91                                                        & 8.48e-06                                                    & 0.00780                                                    \\\\\n",
       "\t negative regulation of gene expression (GO:0010629)         & 1736                                                        & 42                                                          & 22.44                                                       & +                                                           & 1.87                                                        & 9.38e-05                                                    & 0.04580                                                    \\\\\n",
       "\\end{tabular}\n"
      ],
      "text/markdown": [
       "\n",
       "GO.biological.process.complete | Homo.sapiens...REFLIST..21042. | upload_1..272. | upload_1..expected. | upload_1..over.under. | upload_1..fold.Enrichment. | upload_1..raw.P.value. | upload_1..FDR. | \n",
       "|---|---|---|---|---|---|\n",
       "| regulation of cellular amide metabolic process (GO:0034248) |  377                                                        | 18                                                          |  4.87                                                       | +                                                           | 3.69                                                        | 3.62e-06                                                    | 0.00435                                                     | \n",
       "| protein localization to organelle (GO:0033365)              |  692                                                        | 25                                                          |  8.95                                                       | +                                                           | 2.79                                                        | 5.93e-06                                                    | 0.00662                                                     | \n",
       "| cellular macromolecule localization (GO:0070727)            | 1519                                                        | 40                                                          | 19.64                                                       | +                                                           | 2.04                                                        | 2.86e-05                                                    | 0.01860                                                     | \n",
       "| cellular protein localization (GO:0034613)                  | 1509                                                        | 39                                                          | 19.51                                                       | +                                                           | 2.00                                                        | 4.70e-05                                                    | 0.02630                                                     | \n",
       "| protein localization (GO:0008104)                           | 2066                                                        | 51                                                          | 26.71                                                       | +                                                           | 1.91                                                        | 8.48e-06                                                    | 0.00780                                                     | \n",
       "| negative regulation of gene expression (GO:0010629)         | 1736                                                        | 42                                                          | 22.44                                                       | +                                                           | 1.87                                                        | 9.38e-05                                                    | 0.04580                                                     | \n",
       "\n",
       "\n"
      ],
      "text/plain": [
       "  GO.biological.process.complete                             \n",
       "1 regulation of cellular amide metabolic process (GO:0034248)\n",
       "2 protein localization to organelle (GO:0033365)             \n",
       "3 cellular macromolecule localization (GO:0070727)           \n",
       "4 cellular protein localization (GO:0034613)                 \n",
       "5 protein localization (GO:0008104)                          \n",
       "6 negative regulation of gene expression (GO:0010629)        \n",
       "  Homo.sapiens...REFLIST..21042. upload_1..272. upload_1..expected.\n",
       "1  377                           18              4.87              \n",
       "2  692                           25              8.95              \n",
       "3 1519                           40             19.64              \n",
       "4 1509                           39             19.51              \n",
       "5 2066                           51             26.71              \n",
       "6 1736                           42             22.44              \n",
       "  upload_1..over.under. upload_1..fold.Enrichment. upload_1..raw.P.value.\n",
       "1 +                     3.69                       3.62e-06              \n",
       "2 +                     2.79                       5.93e-06              \n",
       "3 +                     2.04                       2.86e-05              \n",
       "4 +                     2.00                       4.70e-05              \n",
       "5 +                     1.91                       8.48e-06              \n",
       "6 +                     1.87                       9.38e-05              \n",
       "  upload_1..FDR.\n",
       "1 0.00435       \n",
       "2 0.00662       \n",
       "3 0.01860       \n",
       "4 0.02630       \n",
       "5 0.00780       \n",
       "6 0.04580       "
      ]
     },
     "metadata": {},
     "output_type": "display_data"
    }
   ],
   "source": [
    "head(cluster3)"
   ]
  },
  {
   "cell_type": "markdown",
   "metadata": {},
   "source": [
    "## Cluster 4"
   ]
  },
  {
   "cell_type": "code",
   "execution_count": 32,
   "metadata": {},
   "outputs": [],
   "source": [
    "cluster4 <- read.csv('../data/Figueroa/cluster4.txt', skip=5, header=T, sep='\\t', stringsAsFactor=F)"
   ]
  },
  {
   "cell_type": "code",
   "execution_count": 33,
   "metadata": {},
   "outputs": [
    {
     "data": {
      "text/html": [
       "<table>\n",
       "<thead><tr><th scope=col>GO.biological.process.complete</th><th scope=col>Homo.sapiens...REFLIST..21042.</th><th scope=col>upload_1..221.</th><th scope=col>upload_1..expected.</th><th scope=col>upload_1..over.under.</th><th scope=col>upload_1..fold.Enrichment.</th><th scope=col>upload_1..raw.P.value.</th><th scope=col>upload_1..FDR.</th></tr></thead>\n",
       "<tbody>\n",
       "\t<tr><td>homophilic cell adhesion via plasma membrane adhesion molecules (GO:0007156)</td><td> 163                                                                        </td><td>22                                                                          </td><td> 1.71                                                                       </td><td>+                                                                           </td><td>12.85                                                                       </td><td>3.37e-17                                                                    </td><td>5.27e-13                                                                    </td></tr>\n",
       "\t<tr><td>cell-cell adhesion via plasma-membrane adhesion molecules (GO:0098742)      </td><td> 235                                                                        </td><td>24                                                                          </td><td> 2.47                                                                       </td><td>+                                                                           </td><td> 9.72                                                                       </td><td>3.79e-16                                                                    </td><td>2.96e-12                                                                    </td></tr>\n",
       "\t<tr><td>cell-cell adhesion (GO:0098609)                                             </td><td> 456                                                                        </td><td>27                                                                          </td><td> 4.79                                                                       </td><td>+                                                                           </td><td> 5.64                                                                       </td><td>1.21e-12                                                                    </td><td>6.32e-09                                                                    </td></tr>\n",
       "\t<tr><td>cell adhesion (GO:0007155)                                                  </td><td> 889                                                                        </td><td>36                                                                          </td><td> 9.34                                                                       </td><td>+                                                                           </td><td> 3.86                                                                       </td><td>7.44e-12                                                                    </td><td>2.91e-08                                                                    </td></tr>\n",
       "\t<tr><td>biological adhesion (GO:0022610)                                            </td><td> 895                                                                        </td><td>36                                                                          </td><td> 9.40                                                                       </td><td>+                                                                           </td><td> 3.83                                                                       </td><td>8.95e-12                                                                    </td><td>2.80e-08                                                                    </td></tr>\n",
       "\t<tr><td>cell-cell signaling (GO:0007267)                                            </td><td>1143                                                                        </td><td>35                                                                          </td><td>12.00                                                                       </td><td>+                                                                           </td><td> 2.92                                                                       </td><td>1.89e-08                                                                    </td><td>4.94e-05                                                                    </td></tr>\n",
       "</tbody>\n",
       "</table>\n"
      ],
      "text/latex": [
       "\\begin{tabular}{r|llllllll}\n",
       " GO.biological.process.complete & Homo.sapiens...REFLIST..21042. & upload\\_1..221. & upload\\_1..expected. & upload\\_1..over.under. & upload\\_1..fold.Enrichment. & upload\\_1..raw.P.value. & upload\\_1..FDR.\\\\\n",
       "\\hline\n",
       "\t homophilic cell adhesion via plasma membrane adhesion molecules (GO:0007156) &  163                                                                         & 22                                                                           &  1.71                                                                        & +                                                                            & 12.85                                                                        & 3.37e-17                                                                     & 5.27e-13                                                                    \\\\\n",
       "\t cell-cell adhesion via plasma-membrane adhesion molecules (GO:0098742)       &  235                                                                         & 24                                                                           &  2.47                                                                        & +                                                                            &  9.72                                                                        & 3.79e-16                                                                     & 2.96e-12                                                                    \\\\\n",
       "\t cell-cell adhesion (GO:0098609)                                              &  456                                                                         & 27                                                                           &  4.79                                                                        & +                                                                            &  5.64                                                                        & 1.21e-12                                                                     & 6.32e-09                                                                    \\\\\n",
       "\t cell adhesion (GO:0007155)                                                   &  889                                                                         & 36                                                                           &  9.34                                                                        & +                                                                            &  3.86                                                                        & 7.44e-12                                                                     & 2.91e-08                                                                    \\\\\n",
       "\t biological adhesion (GO:0022610)                                             &  895                                                                         & 36                                                                           &  9.40                                                                        & +                                                                            &  3.83                                                                        & 8.95e-12                                                                     & 2.80e-08                                                                    \\\\\n",
       "\t cell-cell signaling (GO:0007267)                                             & 1143                                                                         & 35                                                                           & 12.00                                                                        & +                                                                            &  2.92                                                                        & 1.89e-08                                                                     & 4.94e-05                                                                    \\\\\n",
       "\\end{tabular}\n"
      ],
      "text/markdown": [
       "\n",
       "GO.biological.process.complete | Homo.sapiens...REFLIST..21042. | upload_1..221. | upload_1..expected. | upload_1..over.under. | upload_1..fold.Enrichment. | upload_1..raw.P.value. | upload_1..FDR. | \n",
       "|---|---|---|---|---|---|\n",
       "| homophilic cell adhesion via plasma membrane adhesion molecules (GO:0007156) |  163                                                                         | 22                                                                           |  1.71                                                                        | +                                                                            | 12.85                                                                        | 3.37e-17                                                                     | 5.27e-13                                                                     | \n",
       "| cell-cell adhesion via plasma-membrane adhesion molecules (GO:0098742)       |  235                                                                         | 24                                                                           |  2.47                                                                        | +                                                                            |  9.72                                                                        | 3.79e-16                                                                     | 2.96e-12                                                                     | \n",
       "| cell-cell adhesion (GO:0098609)                                              |  456                                                                         | 27                                                                           |  4.79                                                                        | +                                                                            |  5.64                                                                        | 1.21e-12                                                                     | 6.32e-09                                                                     | \n",
       "| cell adhesion (GO:0007155)                                                   |  889                                                                         | 36                                                                           |  9.34                                                                        | +                                                                            |  3.86                                                                        | 7.44e-12                                                                     | 2.91e-08                                                                     | \n",
       "| biological adhesion (GO:0022610)                                             |  895                                                                         | 36                                                                           |  9.40                                                                        | +                                                                            |  3.83                                                                        | 8.95e-12                                                                     | 2.80e-08                                                                     | \n",
       "| cell-cell signaling (GO:0007267)                                             | 1143                                                                         | 35                                                                           | 12.00                                                                        | +                                                                            |  2.92                                                                        | 1.89e-08                                                                     | 4.94e-05                                                                     | \n",
       "\n",
       "\n"
      ],
      "text/plain": [
       "  GO.biological.process.complete                                              \n",
       "1 homophilic cell adhesion via plasma membrane adhesion molecules (GO:0007156)\n",
       "2 cell-cell adhesion via plasma-membrane adhesion molecules (GO:0098742)      \n",
       "3 cell-cell adhesion (GO:0098609)                                             \n",
       "4 cell adhesion (GO:0007155)                                                  \n",
       "5 biological adhesion (GO:0022610)                                            \n",
       "6 cell-cell signaling (GO:0007267)                                            \n",
       "  Homo.sapiens...REFLIST..21042. upload_1..221. upload_1..expected.\n",
       "1  163                           22              1.71              \n",
       "2  235                           24              2.47              \n",
       "3  456                           27              4.79              \n",
       "4  889                           36              9.34              \n",
       "5  895                           36              9.40              \n",
       "6 1143                           35             12.00              \n",
       "  upload_1..over.under. upload_1..fold.Enrichment. upload_1..raw.P.value.\n",
       "1 +                     12.85                      3.37e-17              \n",
       "2 +                      9.72                      3.79e-16              \n",
       "3 +                      5.64                      1.21e-12              \n",
       "4 +                      3.86                      7.44e-12              \n",
       "5 +                      3.83                      8.95e-12              \n",
       "6 +                      2.92                      1.89e-08              \n",
       "  upload_1..FDR.\n",
       "1 5.27e-13      \n",
       "2 2.96e-12      \n",
       "3 6.32e-09      \n",
       "4 2.91e-08      \n",
       "5 2.80e-08      \n",
       "6 4.94e-05      "
      ]
     },
     "metadata": {},
     "output_type": "display_data"
    }
   ],
   "source": [
    "head(cluster4)"
   ]
  },
  {
   "cell_type": "markdown",
   "metadata": {},
   "source": [
    "## Cluster 5"
   ]
  },
  {
   "cell_type": "code",
   "execution_count": 36,
   "metadata": {},
   "outputs": [],
   "source": [
    "cluster5 <- read.csv('../data/Figueroa/cluster5.txt', skip=5, header=T, sep='\\t', stringsAsFactor=F)"
   ]
  },
  {
   "cell_type": "code",
   "execution_count": 37,
   "metadata": {},
   "outputs": [
    {
     "data": {
      "text/html": [
       "<table>\n",
       "<thead><tr><th scope=col>GO.biological.process.complete</th><th scope=col>Homo.sapiens...REFLIST..21042.</th><th scope=col>upload_1..164.</th><th scope=col>upload_1..expected.</th><th scope=col>upload_1..over.under.</th><th scope=col>upload_1..fold.Enrichment.</th><th scope=col>upload_1..raw.P.value.</th><th scope=col>upload_1..FDR.</th></tr></thead>\n",
       "<tbody>\n",
       "\t<tr><td>regulation of saliva secretion (GO:0046877)                                 </td><td>  8                                                                         </td><td> 3                                                                          </td><td>0.06                                                                        </td><td>+                                                                           </td><td>48.11                                                                       </td><td>7.16e-05                                                                    </td><td>2.54e-02                                                                    </td></tr>\n",
       "\t<tr><td>retinal cone cell differentiation (GO:0042670)                              </td><td> 10                                                                         </td><td> 3                                                                          </td><td>0.08                                                                        </td><td>+                                                                           </td><td>38.49                                                                       </td><td>1.23e-04                                                                    </td><td>3.55e-02                                                                    </td></tr>\n",
       "\t<tr><td>regulation of dopaminergic neuron differentiation (GO:1904338)              </td><td> 10                                                                         </td><td> 3                                                                          </td><td>0.08                                                                        </td><td>+                                                                           </td><td>38.49                                                                       </td><td>1.23e-04                                                                    </td><td>3.49e-02                                                                    </td></tr>\n",
       "\t<tr><td>retinal cone cell development (GO:0046549)                                  </td><td> 10                                                                         </td><td> 3                                                                          </td><td>0.08                                                                        </td><td>+                                                                           </td><td>38.49                                                                       </td><td>1.23e-04                                                                    </td><td>3.43e-02                                                                    </td></tr>\n",
       "\t<tr><td>homophilic cell adhesion via plasma membrane adhesion molecules (GO:0007156)</td><td>163                                                                         </td><td>25                                                                          </td><td>1.27                                                                        </td><td>+                                                                           </td><td>19.68                                                                       </td><td>7.36e-24                                                                    </td><td>1.15e-19                                                                    </td></tr>\n",
       "\t<tr><td>positive regulation of acute inflammatory response (GO:0002675)             </td><td> 27                                                                         </td><td> 4                                                                          </td><td>0.21                                                                        </td><td>+                                                                           </td><td>19.01                                                                       </td><td>9.22e-05                                                                    </td><td>3.00e-02                                                                    </td></tr>\n",
       "</tbody>\n",
       "</table>\n"
      ],
      "text/latex": [
       "\\begin{tabular}{r|llllllll}\n",
       " GO.biological.process.complete & Homo.sapiens...REFLIST..21042. & upload\\_1..164. & upload\\_1..expected. & upload\\_1..over.under. & upload\\_1..fold.Enrichment. & upload\\_1..raw.P.value. & upload\\_1..FDR.\\\\\n",
       "\\hline\n",
       "\t regulation of saliva secretion (GO:0046877)                                  &   8                                                                          &  3                                                                           & 0.06                                                                         & +                                                                            & 48.11                                                                        & 7.16e-05                                                                     & 2.54e-02                                                                    \\\\\n",
       "\t retinal cone cell differentiation (GO:0042670)                               &  10                                                                          &  3                                                                           & 0.08                                                                         & +                                                                            & 38.49                                                                        & 1.23e-04                                                                     & 3.55e-02                                                                    \\\\\n",
       "\t regulation of dopaminergic neuron differentiation (GO:1904338)               &  10                                                                          &  3                                                                           & 0.08                                                                         & +                                                                            & 38.49                                                                        & 1.23e-04                                                                     & 3.49e-02                                                                    \\\\\n",
       "\t retinal cone cell development (GO:0046549)                                   &  10                                                                          &  3                                                                           & 0.08                                                                         & +                                                                            & 38.49                                                                        & 1.23e-04                                                                     & 3.43e-02                                                                    \\\\\n",
       "\t homophilic cell adhesion via plasma membrane adhesion molecules (GO:0007156) & 163                                                                          & 25                                                                           & 1.27                                                                         & +                                                                            & 19.68                                                                        & 7.36e-24                                                                     & 1.15e-19                                                                    \\\\\n",
       "\t positive regulation of acute inflammatory response (GO:0002675)              &  27                                                                          &  4                                                                           & 0.21                                                                         & +                                                                            & 19.01                                                                        & 9.22e-05                                                                     & 3.00e-02                                                                    \\\\\n",
       "\\end{tabular}\n"
      ],
      "text/markdown": [
       "\n",
       "GO.biological.process.complete | Homo.sapiens...REFLIST..21042. | upload_1..164. | upload_1..expected. | upload_1..over.under. | upload_1..fold.Enrichment. | upload_1..raw.P.value. | upload_1..FDR. | \n",
       "|---|---|---|---|---|---|\n",
       "| regulation of saliva secretion (GO:0046877)                                  |   8                                                                          |  3                                                                           | 0.06                                                                         | +                                                                            | 48.11                                                                        | 7.16e-05                                                                     | 2.54e-02                                                                     | \n",
       "| retinal cone cell differentiation (GO:0042670)                               |  10                                                                          |  3                                                                           | 0.08                                                                         | +                                                                            | 38.49                                                                        | 1.23e-04                                                                     | 3.55e-02                                                                     | \n",
       "| regulation of dopaminergic neuron differentiation (GO:1904338)               |  10                                                                          |  3                                                                           | 0.08                                                                         | +                                                                            | 38.49                                                                        | 1.23e-04                                                                     | 3.49e-02                                                                     | \n",
       "| retinal cone cell development (GO:0046549)                                   |  10                                                                          |  3                                                                           | 0.08                                                                         | +                                                                            | 38.49                                                                        | 1.23e-04                                                                     | 3.43e-02                                                                     | \n",
       "| homophilic cell adhesion via plasma membrane adhesion molecules (GO:0007156) | 163                                                                          | 25                                                                           | 1.27                                                                         | +                                                                            | 19.68                                                                        | 7.36e-24                                                                     | 1.15e-19                                                                     | \n",
       "| positive regulation of acute inflammatory response (GO:0002675)              |  27                                                                          |  4                                                                           | 0.21                                                                         | +                                                                            | 19.01                                                                        | 9.22e-05                                                                     | 3.00e-02                                                                     | \n",
       "\n",
       "\n"
      ],
      "text/plain": [
       "  GO.biological.process.complete                                              \n",
       "1 regulation of saliva secretion (GO:0046877)                                 \n",
       "2 retinal cone cell differentiation (GO:0042670)                              \n",
       "3 regulation of dopaminergic neuron differentiation (GO:1904338)              \n",
       "4 retinal cone cell development (GO:0046549)                                  \n",
       "5 homophilic cell adhesion via plasma membrane adhesion molecules (GO:0007156)\n",
       "6 positive regulation of acute inflammatory response (GO:0002675)             \n",
       "  Homo.sapiens...REFLIST..21042. upload_1..164. upload_1..expected.\n",
       "1   8                             3             0.06               \n",
       "2  10                             3             0.08               \n",
       "3  10                             3             0.08               \n",
       "4  10                             3             0.08               \n",
       "5 163                            25             1.27               \n",
       "6  27                             4             0.21               \n",
       "  upload_1..over.under. upload_1..fold.Enrichment. upload_1..raw.P.value.\n",
       "1 +                     48.11                      7.16e-05              \n",
       "2 +                     38.49                      1.23e-04              \n",
       "3 +                     38.49                      1.23e-04              \n",
       "4 +                     38.49                      1.23e-04              \n",
       "5 +                     19.68                      7.36e-24              \n",
       "6 +                     19.01                      9.22e-05              \n",
       "  upload_1..FDR.\n",
       "1 2.54e-02      \n",
       "2 3.55e-02      \n",
       "3 3.49e-02      \n",
       "4 3.43e-02      \n",
       "5 1.15e-19      \n",
       "6 3.00e-02      "
      ]
     },
     "metadata": {},
     "output_type": "display_data"
    }
   ],
   "source": [
    "head(cluster5)"
   ]
  },
  {
   "cell_type": "markdown",
   "metadata": {},
   "source": [
    "## Cluster 6, cluster 7\n",
    "\n",
    "no significant matching"
   ]
  }
 ],
 "metadata": {
  "kernelspec": {
   "display_name": "R",
   "language": "R",
   "name": "ir"
  },
  "language_info": {
   "codemirror_mode": "r",
   "file_extension": ".r",
   "mimetype": "text/x-r-source",
   "name": "R",
   "pygments_lexer": "r",
   "version": "3.4.0"
  }
 },
 "nbformat": 4,
 "nbformat_minor": 2
}
