{
 "cells": [
  {
   "cell_type": "markdown",
   "metadata": {},
   "source": [
    "## VBSR vs glmnet on one of the methylation cluster"
   ]
  },
  {
   "cell_type": "code",
   "execution_count": 33,
   "metadata": {},
   "outputs": [],
   "source": [
    "source('../R/regressionModel/regressionModel.R')\n",
    "source('../R/correlation_HM450/computeCorrelation.R')"
   ]
  },
  {
   "cell_type": "code",
   "execution_count": 6,
   "metadata": {},
   "outputs": [],
   "source": [
    "load('../data/processed/HM27.RData')\n",
    "load('../data/processed/RNAseq.RData')"
   ]
  },
  {
   "cell_type": "code",
   "execution_count": 8,
   "metadata": {},
   "outputs": [],
   "source": [
    "CGI.probes <- read.csv('../data/promoterRegionProbes/CGICorFdr10.tsv',\n",
    "                            sep='\\t', header=T, stringsAsFactors=F)\n",
    "probe.id <- as.character(CGI.probes[,1])\n",
    "subsetProbes <- probe.id"
   ]
  },
  {
   "cell_type": "markdown",
   "metadata": {},
   "source": [
    "## glmnet results"
   ]
  },
  {
   "cell_type": "code",
   "execution_count": 11,
   "metadata": {},
   "outputs": [
    {
     "name": "stdout",
     "output_type": "stream",
     "text": [
      "[1] \"Running model for cluster 1\"\n",
      "[1] \"Image saved as ../data/180413/HM27/moduleNetworkFigMcentersubset/cluster1.eps\"\n",
      "[1] \"Model saved at ../data/180413/HM27/resultsMcentersubset/cluster1.RData\"\n",
      "[1] \"Running model for cluster 2\"\n",
      "[1] \"Image saved as ../data/180413/HM27/moduleNetworkFigMcentersubset/cluster2.eps\"\n",
      "[1] \"Model saved at ../data/180413/HM27/resultsMcentersubset/cluster2.RData\"\n",
      "[1] \"Running model for cluster 3\"\n",
      "[1] \"Image saved as ../data/180413/HM27/moduleNetworkFigMcentersubset/cluster3.eps\"\n",
      "[1] \"Model saved at ../data/180413/HM27/resultsMcentersubset/cluster3.RData\"\n",
      "[1] \"Running model for cluster 4\"\n",
      "[1] \"Image saved as ../data/180413/HM27/moduleNetworkFigMcentersubset/cluster4.eps\"\n",
      "[1] \"Model saved at ../data/180413/HM27/resultsMcentersubset/cluster4.RData\"\n",
      "[1] \"Running model for cluster 5\"\n",
      "[1] \"Image saved as ../data/180413/HM27/moduleNetworkFigMcentersubset/cluster5.eps\"\n",
      "[1] \"Model saved at ../data/180413/HM27/resultsMcentersubset/cluster5.RData\"\n",
      "[1] \"Running model for cluster 6\"\n",
      "[1] \"Image saved as ../data/180413/HM27/moduleNetworkFigMcentersubset/cluster6.eps\"\n",
      "[1] \"Model saved at ../data/180413/HM27/resultsMcentersubset/cluster6.RData\"\n",
      "[1] \"Running model for cluster 7\"\n",
      "[1] \"Image saved as ../data/180413/HM27/moduleNetworkFigMcentersubset/cluster7.eps\"\n",
      "[1] \"Model saved at ../data/180413/HM27/resultsMcentersubset/cluster7.RData\"\n",
      "[1] \"Running model for cluster 8\"\n",
      "[1] \"Image saved as ../data/180413/HM27/moduleNetworkFigMcentersubset/cluster8.eps\"\n",
      "[1] \"Model saved at ../data/180413/HM27/resultsMcentersubset/cluster8.RData\"\n",
      "[1] \"Running model for cluster 9\"\n",
      "[1] \"Image saved as ../data/180413/HM27/moduleNetworkFigMcentersubset/cluster9.eps\"\n",
      "[1] \"Model saved at ../data/180413/HM27/resultsMcentersubset/cluster9.RData\"\n",
      "[1] \"Running model for cluster 10\"\n",
      "[1] \"Image saved as ../data/180413/HM27/moduleNetworkFigMcentersubset/cluster10.eps\"\n",
      "[1] \"Model saved at ../data/180413/HM27/resultsMcentersubset/cluster10.RData\"\n",
      "[1] \"Running model for cluster 11\"\n",
      "[1] \"Image saved as ../data/180413/HM27/moduleNetworkFigMcentersubset/cluster11.eps\"\n",
      "[1] \"Model saved at ../data/180413/HM27/resultsMcentersubset/cluster11.RData\"\n",
      "[1] \"Running model for cluster 12\"\n",
      "[1] \"Image saved as ../data/180413/HM27/moduleNetworkFigMcentersubset/cluster12.eps\"\n",
      "[1] \"Model saved at ../data/180413/HM27/resultsMcentersubset/cluster12.RData\"\n",
      "[1] \"Running model for cluster 13\"\n",
      "[1] \"Image saved as ../data/180413/HM27/moduleNetworkFigMcentersubset/cluster13.eps\"\n",
      "[1] \"Model saved at ../data/180413/HM27/resultsMcentersubset/cluster13.RData\"\n",
      "[1] \"Running model for cluster 14\"\n",
      "[1] \"Image saved as ../data/180413/HM27/moduleNetworkFigMcentersubset/cluster14.eps\"\n",
      "[1] \"Model saved at ../data/180413/HM27/resultsMcentersubset/cluster14.RData\"\n",
      "[1] \"Running model for cluster 15\"\n",
      "[1] \"Image saved as ../data/180413/HM27/moduleNetworkFigMcentersubset/cluster15.eps\"\n",
      "[1] \"Model saved at ../data/180413/HM27/resultsMcentersubset/cluster15.RData\"\n",
      "[1] \"Running model for cluster 16\"\n",
      "[1] \"Image saved as ../data/180413/HM27/moduleNetworkFigMcentersubset/cluster16.eps\"\n",
      "[1] \"Model saved at ../data/180413/HM27/resultsMcentersubset/cluster16.RData\"\n",
      "[1] \"Running model for cluster 17\"\n",
      "[1] \"Image saved as ../data/180413/HM27/moduleNetworkFigMcentersubset/cluster17.eps\"\n",
      "[1] \"Model saved at ../data/180413/HM27/resultsMcentersubset/cluster17.RData\"\n",
      "[1] \"Running model for cluster 18\"\n",
      "[1] \"Image saved as ../data/180413/HM27/moduleNetworkFigMcentersubset/cluster18.eps\"\n",
      "[1] \"Model saved at ../data/180413/HM27/resultsMcentersubset/cluster18.RData\"\n",
      "[1] \"Running model for cluster 19\"\n",
      "[1] \"Image saved as ../data/180413/HM27/moduleNetworkFigMcentersubset/cluster19.eps\"\n",
      "[1] \"Model saved at ../data/180413/HM27/resultsMcentersubset/cluster19.RData\"\n",
      "[1] \"Running model for cluster 20\"\n",
      "[1] \"Image saved as ../data/180413/HM27/moduleNetworkFigMcentersubset/cluster20.eps\"\n",
      "[1] \"Model saved at ../data/180413/HM27/resultsMcentersubset/cluster20.RData\"\n",
      "[1] \"Cluster information saved at ../data/180413/HM27/resultsMcentersubset/cluster20.RData\"\n"
     ]
    }
   ],
   "source": [
    "center <- T\n",
    "scale <- T\n",
    "convert2M <- T\n",
    "percent.test <- 0.3\n",
    "cutoff <- 20\n",
    "alpha <- 1\n",
    "distance <- 'euclidean'\n",
    "method <- 'ward.D2'\n",
    "subset.method <- 'glmnet'\n",
    "imagefolder <- '../data/180413/HM27/moduleNetworkFigMcentersubset'\n",
    "datafolder <- '../data/180413/HM27/resultsMcentersubset'\n",
    "\n",
    "RunModel(data.HM27, RNAseq, imagefolder, datafolder, convert2M=convert2M, subsetProbes=subsetProbes, distance=distance, method=method, \n",
    "         cutoff=cutoff, percent.test=percent.test, alpha=alpha, center=center, scale=scale, subset.method=subset.method)"
   ]
  },
  {
   "cell_type": "markdown",
   "metadata": {},
   "source": [
    "## vbsr results"
   ]
  },
  {
   "cell_type": "code",
   "execution_count": 34,
   "metadata": {},
   "outputs": [
    {
     "name": "stdout",
     "output_type": "stream",
     "text": [
      "[1] \"Running model for cluster 1\"\n",
      "[1] \"Image saved as ../data/180413/HM27/vbsrMcentersubset/cluster1.eps\"\n",
      "[1] \"Model saved at ../data/180413/HM27/vbsrresultsMcentersubset/cluster1.RData\"\n",
      "[1] \"Running model for cluster 2\"\n",
      "[1] \"Image saved as ../data/180413/HM27/vbsrMcentersubset/cluster2.eps\"\n",
      "[1] \"Model saved at ../data/180413/HM27/vbsrresultsMcentersubset/cluster2.RData\"\n",
      "[1] \"Running model for cluster 3\"\n",
      "[1] \"Image saved as ../data/180413/HM27/vbsrMcentersubset/cluster3.eps\"\n",
      "[1] \"Model saved at ../data/180413/HM27/vbsrresultsMcentersubset/cluster3.RData\"\n",
      "[1] \"Running model for cluster 4\"\n",
      "[1] \"Image saved as ../data/180413/HM27/vbsrMcentersubset/cluster4.eps\"\n",
      "[1] \"Model saved at ../data/180413/HM27/vbsrresultsMcentersubset/cluster4.RData\"\n",
      "[1] \"Running model for cluster 5\"\n",
      "[1] \"Image saved as ../data/180413/HM27/vbsrMcentersubset/cluster5.eps\"\n",
      "[1] \"Model saved at ../data/180413/HM27/vbsrresultsMcentersubset/cluster5.RData\"\n",
      "[1] \"Running model for cluster 6\"\n",
      "[1] \"Image saved as ../data/180413/HM27/vbsrMcentersubset/cluster6.eps\"\n",
      "[1] \"Model saved at ../data/180413/HM27/vbsrresultsMcentersubset/cluster6.RData\"\n",
      "[1] \"Running model for cluster 7\"\n",
      "[1] \"Image saved as ../data/180413/HM27/vbsrMcentersubset/cluster7.eps\"\n",
      "[1] \"Model saved at ../data/180413/HM27/vbsrresultsMcentersubset/cluster7.RData\"\n",
      "[1] \"Running model for cluster 8\"\n",
      "[1] \"Image saved as ../data/180413/HM27/vbsrMcentersubset/cluster8.eps\"\n",
      "[1] \"Model saved at ../data/180413/HM27/vbsrresultsMcentersubset/cluster8.RData\"\n",
      "[1] \"Running model for cluster 9\"\n",
      "[1] \"Image saved as ../data/180413/HM27/vbsrMcentersubset/cluster9.eps\"\n",
      "[1] \"Model saved at ../data/180413/HM27/vbsrresultsMcentersubset/cluster9.RData\"\n",
      "[1] \"Running model for cluster 10\"\n",
      "[1] \"Image saved as ../data/180413/HM27/vbsrMcentersubset/cluster10.eps\"\n",
      "[1] \"Model saved at ../data/180413/HM27/vbsrresultsMcentersubset/cluster10.RData\"\n",
      "[1] \"Running model for cluster 11\"\n",
      "[1] \"Image saved as ../data/180413/HM27/vbsrMcentersubset/cluster11.eps\"\n",
      "[1] \"Model saved at ../data/180413/HM27/vbsrresultsMcentersubset/cluster11.RData\"\n",
      "[1] \"Running model for cluster 12\"\n",
      "[1] \"Image saved as ../data/180413/HM27/vbsrMcentersubset/cluster12.eps\"\n",
      "[1] \"Model saved at ../data/180413/HM27/vbsrresultsMcentersubset/cluster12.RData\"\n",
      "[1] \"Running model for cluster 13\"\n",
      "[1] \"Image saved as ../data/180413/HM27/vbsrMcentersubset/cluster13.eps\"\n",
      "[1] \"Model saved at ../data/180413/HM27/vbsrresultsMcentersubset/cluster13.RData\"\n",
      "[1] \"Running model for cluster 14\"\n",
      "[1] \"Image saved as ../data/180413/HM27/vbsrMcentersubset/cluster14.eps\"\n",
      "[1] \"Model saved at ../data/180413/HM27/vbsrresultsMcentersubset/cluster14.RData\"\n",
      "[1] \"Running model for cluster 15\"\n",
      "[1] \"Image saved as ../data/180413/HM27/vbsrMcentersubset/cluster15.eps\"\n",
      "[1] \"Model saved at ../data/180413/HM27/vbsrresultsMcentersubset/cluster15.RData\"\n",
      "[1] \"Running model for cluster 16\"\n",
      "[1] \"Image saved as ../data/180413/HM27/vbsrMcentersubset/cluster16.eps\"\n",
      "[1] \"Model saved at ../data/180413/HM27/vbsrresultsMcentersubset/cluster16.RData\"\n",
      "[1] \"Running model for cluster 17\"\n",
      "[1] \"Image saved as ../data/180413/HM27/vbsrMcentersubset/cluster17.eps\"\n",
      "[1] \"Model saved at ../data/180413/HM27/vbsrresultsMcentersubset/cluster17.RData\"\n",
      "[1] \"Running model for cluster 18\"\n",
      "[1] \"Image saved as ../data/180413/HM27/vbsrMcentersubset/cluster18.eps\"\n",
      "[1] \"Model saved at ../data/180413/HM27/vbsrresultsMcentersubset/cluster18.RData\"\n",
      "[1] \"Running model for cluster 19\"\n",
      "[1] \"Image saved as ../data/180413/HM27/vbsrMcentersubset/cluster19.eps\"\n",
      "[1] \"Model saved at ../data/180413/HM27/vbsrresultsMcentersubset/cluster19.RData\"\n",
      "[1] \"Running model for cluster 20\"\n",
      "[1] \"Image saved as ../data/180413/HM27/vbsrMcentersubset/cluster20.eps\"\n",
      "[1] \"Model saved at ../data/180413/HM27/vbsrresultsMcentersubset/cluster20.RData\"\n",
      "[1] \"Cluster information saved at ../data/180413/HM27/vbsrresultsMcentersubset/cluster20.RData\"\n"
     ]
    }
   ],
   "source": [
    "center <- T\n",
    "scale <- T\n",
    "convert2M <- T\n",
    "percent.test <- 0.3\n",
    "cutoff <- 20\n",
    "alpha <- 1\n",
    "distance <- 'euclidean'\n",
    "method <- 'ward.D2'\n",
    "subset.method <- 'vbsr'\n",
    "imagefolder <- '../data/180413/HM27/vbsrMcentersubset'\n",
    "datafolder <- '../data/180413/HM27/vbsrresultsMcentersubset'\n",
    "\n",
    "RunModel(data.HM27, RNAseq, imagefolder, datafolder, convert2M=convert2M, subsetProbes=subsetProbes, distance=distance, method=method, \n",
    "         cutoff=cutoff, percent.test=percent.test, alpha=alpha, center=center, scale=scale, subset.method=subset.method)"
   ]
  },
  {
   "cell_type": "code",
   "execution_count": null,
   "metadata": {},
   "outputs": [],
   "source": []
  }
 ],
 "metadata": {
  "kernelspec": {
   "display_name": "R",
   "language": "R",
   "name": "ir"
  },
  "language_info": {
   "codemirror_mode": "r",
   "file_extension": ".r",
   "mimetype": "text/x-r-source",
   "name": "R",
   "pygments_lexer": "r",
   "version": "3.4.4"
  }
 },
 "nbformat": 4,
 "nbformat_minor": 2
}
