{
 "cells": [
  {
   "cell_type": "markdown",
   "metadata": {},
   "source": [
    "# Compare the results of hierarchical clustering between HM27 and HM450"
   ]
  },
  {
   "cell_type": "code",
   "execution_count": 23,
   "metadata": {},
   "outputs": [
    {
     "name": "stderr",
     "output_type": "stream",
     "text": [
      "Loading required package: sp\n",
      "Loading required package: maps\n",
      "Loading required package: shapefiles\n",
      "Loading required package: foreign\n",
      "\n",
      "Attaching package: ‘shapefiles’\n",
      "\n",
      "The following objects are masked from ‘package:foreign’:\n",
      "\n",
      "    read.dbf, write.dbf\n",
      "\n"
     ]
    }
   ],
   "source": [
    "library(fossil)"
   ]
  },
  {
   "cell_type": "code",
   "execution_count": 24,
   "metadata": {},
   "outputs": [
    {
     "data": {
      "text/html": [
       "590"
      ],
      "text/latex": [
       "590"
      ],
      "text/markdown": [
       "590"
      ],
      "text/plain": [
       "[1] 590"
      ]
     },
     "metadata": {},
     "output_type": "display_data"
    }
   ],
   "source": [
    "load('../data/180413/HM27/resultsMcentersubset/clusterInfo.RData')\n",
    "HM27.cluster <- clustering$cluster # the probes are aggregated based on the gene id\n",
    "length(HM27.cluster)"
   ]
  },
  {
   "cell_type": "code",
   "execution_count": 25,
   "metadata": {},
   "outputs": [
    {
     "data": {
      "text/html": [
       "2667"
      ],
      "text/latex": [
       "2667"
      ],
      "text/markdown": [
       "2667"
      ],
      "text/plain": [
       "[1] 2667"
      ]
     },
     "metadata": {},
     "output_type": "display_data"
    }
   ],
   "source": [
    "load('../data/180413/HM450/vbsrMcenterScaleData/clusterInfo.RData')\n",
    "HM450.cluster <- clustering$cluster\n",
    "length(HM450.cluster)"
   ]
  },
  {
   "cell_type": "code",
   "execution_count": 32,
   "metadata": {},
   "outputs": [
    {
     "data": {
      "text/html": [
       "364"
      ],
      "text/latex": [
       "364"
      ],
      "text/markdown": [
       "364"
      ],
      "text/plain": [
       "[1] 364"
      ]
     },
     "metadata": {},
     "output_type": "display_data"
    }
   ],
   "source": [
    "# find intersections between two set of probes and subset these probes and compute the rand index\n",
    "intersect.probes <- intersect(names(HM27.cluster), names(HM450.cluster))\n",
    "HM27.intersect <- HM27.cluster[intersect.probes]\n",
    "HM450.intersect <- HM450.cluster[intersect.probes]\n",
    "length(HM27.intersect)"
   ]
  },
  {
   "cell_type": "code",
   "execution_count": 29,
   "metadata": {},
   "outputs": [],
   "source": [
    "HM450.intersectOrdered <- HM450.intersect[names(HM27.intersect)]\n",
    "randIdx <- rand.index(HM450.intersectOrdered, HM27.intersect)"
   ]
  },
  {
   "cell_type": "code",
   "execution_count": 30,
   "metadata": {},
   "outputs": [
    {
     "name": "stdout",
     "output_type": "stream",
     "text": [
      "[1] 0.878243\n"
     ]
    }
   ],
   "source": [
    "print(randIdx)"
   ]
  },
  {
   "cell_type": "code",
   "execution_count": 31,
   "metadata": {},
   "outputs": [
    {
     "data": {
      "text/html": [
       "<table>\n",
       "<thead><tr><th></th><th scope=col>HM450.intersectOrdered</th><th scope=col>HM27.intersect</th></tr></thead>\n",
       "<tbody>\n",
       "\t<tr><th scope=row>cg00128877</th><td> 8</td><td>1 </td></tr>\n",
       "\t<tr><th scope=row>cg00164898</th><td> 6</td><td>2 </td></tr>\n",
       "\t<tr><th scope=row>cg00186141</th><td> 4</td><td>3 </td></tr>\n",
       "\t<tr><th scope=row>cg00259755</th><td> 4</td><td>5 </td></tr>\n",
       "\t<tr><th scope=row>cg00328227</th><td> 5</td><td>6 </td></tr>\n",
       "\t<tr><th scope=row>cg00381076</th><td>12</td><td>1 </td></tr>\n",
       "</tbody>\n",
       "</table>\n"
      ],
      "text/latex": [
       "\\begin{tabular}{r|ll}\n",
       "  & HM450.intersectOrdered & HM27.intersect\\\\\n",
       "\\hline\n",
       "\tcg00128877 &  8 & 1 \\\\\n",
       "\tcg00164898 &  6 & 2 \\\\\n",
       "\tcg00186141 &  4 & 3 \\\\\n",
       "\tcg00259755 &  4 & 5 \\\\\n",
       "\tcg00328227 &  5 & 6 \\\\\n",
       "\tcg00381076 & 12 & 1 \\\\\n",
       "\\end{tabular}\n"
      ],
      "text/markdown": [
       "\n",
       "| <!--/--> | HM450.intersectOrdered | HM27.intersect | \n",
       "|---|---|---|---|---|---|\n",
       "| cg00128877 |  8 | 1  | \n",
       "| cg00164898 |  6 | 2  | \n",
       "| cg00186141 |  4 | 3  | \n",
       "| cg00259755 |  4 | 5  | \n",
       "| cg00328227 |  5 | 6  | \n",
       "| cg00381076 | 12 | 1  | \n",
       "\n",
       "\n"
      ],
      "text/plain": [
       "           HM450.intersectOrdered HM27.intersect\n",
       "cg00128877  8                     1             \n",
       "cg00164898  6                     2             \n",
       "cg00186141  4                     3             \n",
       "cg00259755  4                     5             \n",
       "cg00328227  5                     6             \n",
       "cg00381076 12                     1             "
      ]
     },
     "metadata": {},
     "output_type": "display_data"
    }
   ],
   "source": [
    "head(cbind(HM450.intersectOrdered, HM27.intersect))"
   ]
  }
 ],
 "metadata": {
  "kernelspec": {
   "display_name": "R",
   "language": "R",
   "name": "ir"
  },
  "language_info": {
   "codemirror_mode": "r",
   "file_extension": ".r",
   "mimetype": "text/x-r-source",
   "name": "R",
   "pygments_lexer": "r",
   "version": "3.4.4"
  }
 },
 "nbformat": 4,
 "nbformat_minor": 2
}
