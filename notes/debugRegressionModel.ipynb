{
 "cells": [
  {
   "cell_type": "markdown",
   "metadata": {},
   "source": [
    "## Debug the regression model"
   ]
  },
  {
   "cell_type": "code",
   "execution_count": 13,
   "metadata": {},
   "outputs": [],
   "source": [
    "cancer = '/Users/wangmeng/Documents/Research/Gentles/repos/MethylationPrediction/data/results/LAML/'\n",
    "methylation = '/Users/wangmeng/Documents/Research/Gentles/repos/MethylationPrediction/data/processed/HM27.RData'\n",
    "rnaseq = '/Users/wangmeng/Documents/Research/Gentles/repos/MethylationPrediction/data/processed/RNAseq.RData'\n",
    "convert2M = as.numeric('0')"
   ]
  },
  {
   "cell_type": "code",
   "execution_count": 2,
   "metadata": {},
   "outputs": [],
   "source": [
    "load(methylation)\n",
    "load(rnaseq)"
   ]
  },
  {
   "cell_type": "code",
   "execution_count": 5,
   "metadata": {},
   "outputs": [
    {
     "name": "stderr",
     "output_type": "stream",
     "text": [
      "Loading required package: Matrix\n",
      "Loading required package: foreach\n",
      "Loaded glmnet 2.0-13\n",
      "\n",
      "\n",
      "Attaching package: ‘dplyr’\n",
      "\n",
      "The following objects are masked from ‘package:stats’:\n",
      "\n",
      "    filter, lag\n",
      "\n",
      "The following objects are masked from ‘package:base’:\n",
      "\n",
      "    intersect, setdiff, setequal, union\n",
      "\n",
      "Loading required package: grid\n",
      "========================================\n",
      "ComplexHeatmap version 1.17.1\n",
      "Bioconductor page: http://bioconductor.org/packages/ComplexHeatmap/\n",
      "Github page: https://github.com/jokergoo/ComplexHeatmap\n",
      "Documentation: http://bioconductor.org/packages/ComplexHeatmap/\n",
      "\n",
      "If you use it in published research, please cite:\n",
      "Gu, Z. Complex heatmaps reveal patterns and correlations in multidimensional \n",
      "  genomic data. Bioinformatics 2016.\n",
      "========================================\n",
      "\n",
      "Loading required package: viridisLite\n"
     ]
    }
   ],
   "source": [
    "source('../R/regressionModel/regressionModel.R')\n",
    "source('../R/correlation_HM450/computeCorrelation.R')"
   ]
  },
  {
   "cell_type": "code",
   "execution_count": 26,
   "metadata": {},
   "outputs": [],
   "source": [
    "CGI.probes <- read.csv('/Users/wangmeng/Documents/Research/Gentles/repos/MethylationPrediction/data/promoterRegionProbes/CGICorFdr10.tsv',\n",
    "                      sep='\\t', header=T, stringsAsFactors=F)\n",
    "probe.id <- as.character(CGI.probes[,1])\n",
    "subsetProbes <- probe.id\n",
    "center <- T\n",
    "scale <- T\n",
    "convert2M <- as.logical(convert2M)\n",
    "percent.test <- 0.2\n",
    "cutoff <- 20\n",
    "alpha <- 1\n",
    "subset.method <- 'vbsr'\n",
    "distance <- 'euclidean'\n",
    "method <- 'ward.D2'\n",
    "dir.create(cancer, showWarnings=F)\n",
    "imagefolder <- paste0('vbsr-', ifelse(convert2M, 'M', 'B'), '-plots/')\n",
    "dir.create(file.path(cancer, imagefolder), showWarnings=F)\n",
    "imagefolder <- paste0(cancer, imagefolder)\n",
    "datafolder <- paste0('vbsr-', ifelse(convert2M, 'M', 'B'), '-data/')\n",
    "dir.create(file.path(cancer, datafolder), showWarnings=F)\n",
    "datafolder <- paste0(cancer, datafolder)"
   ]
  },
  {
   "cell_type": "code",
   "execution_count": 27,
   "metadata": {},
   "outputs": [],
   "source": [
    "# preprocess and hclust\n",
    "methylation <- data.HM27\n",
    "rnaseq.processed <- PreprocessRNAseq(RNAseq)\n",
    "rownames(rnaseq.processed$rnaseq) <- rnaseq.processed$g.geneid[,2]\n",
    "methylation.processed <- PreprocessMethylation(methylation, convert2M=convert2M,\n",
    "                                                 subsetProbes=subsetProbes)\n",
    "processed <- matchColumns(rnaseq.processed$rnaseq,\n",
    "                            methylation.processed$methylation)\n",
    "methylation <- processed$methylation\n",
    "rnaseq <- processed$rnaseq\n",
    "methylprobes.geneid <- methylation.processed$m.geneid[,2]\n",
    "methylation <- AverageMethylation(methylation, methylprobes.geneid)\n",
    "methylation <- data.matrix(methylation[,-1])\n",
    "rownames(methylation) <- methylation.processed$m.geneid[!duplicated(methylprobes.geneid), 1]\n",
    "test.idx <- sample(seq(dim(methylation)[2]), round(dim(methylation)[2]*percent.test))\n",
    "clustering <- ClusterMethylation(methylation, distance=distance, method=method, cutoff=cutoff)\n",
    "cluster <- clustering$cluster\n",
    "avemethyl <- AverageMethylation(methylation, cluster)"
   ]
  },
  {
   "cell_type": "code",
   "execution_count": 28,
   "metadata": {},
   "outputs": [],
   "source": [
    "i <- 16\n",
    "model <- RegressMethylationOnRNAseq(avemethyl[i, -1], rnaseq, test.idx, method=subset.method)"
   ]
  },
  {
   "cell_type": "code",
   "execution_count": 29,
   "metadata": {},
   "outputs": [],
   "source": [
    "coef <- ExtractVBSRSignificantCoef(model, m=dim(rnaseq)[1], coef.names=unlist(rnaseq.processed$g.geneid[,2]))"
   ]
  },
  {
   "cell_type": "code",
   "execution_count": 30,
   "metadata": {},
   "outputs": [
    {
     "name": "stdout",
     "output_type": "stream",
     "text": [
      "`nrow` of all heatmaps:\n",
      "        methylation Average methylation \n",
      "                  1                 136 \n"
     ]
    },
    {
     "ename": "ERROR",
     "evalue": "Error in .local(object, ...): `nrow` of all heatmaps should be the same.\n",
     "execution_count": 30,
     "output_type": "error",
     "traceback": [
      "Error in .local(object, ...): `nrow` of all heatmaps should be the same.\nTraceback:\n",
      "1. ModuleHeatmap(t(data.matrix(methylation[cluster == i, -test.idx])), \n .     t(data.matrix(avemethyl[i, -1][, -test.idx])), t(rnaseq[ordering.genes, \n .         -test.idx]), path.fig, center = center, scale = scale)",
      "2. draw(ht1 + ht2 + ht3)",
      "3. `+.AdditiveUnit`(ht1, ht2)",
      "4. add_heatmap(x, y)",
      "5. add_heatmap(x, y)",
      "6. .local(object, ...)",
      "7. add_heatmap(ht_list, x)",
      "8. add_heatmap(ht_list, x)",
      "9. .local(object, ...)",
      "10. stop(\"`nrow` of all heatmaps should be the same.\")"
     ]
    }
   ],
   "source": [
    "# only 1 probe ends up in the cluster ...\n",
    "base.name <- paste0('cluster', i)\n",
    "path.fig <- paste0(imagefolder, '/', base.name, '.eps')\n",
    "ordering <- order(abs(coef[-1,2]), decreasing=T)\n",
    "ordering.genes <- as.character(coef[-1,1][ordering])\n",
    "ModuleHeatmap(t(data.matrix(methylation[cluster==i, -test.idx])),\n",
    "                  t(data.matrix(avemethyl[i, -1][,-test.idx])),\n",
    "                  t(rnaseq[ordering.genes, -test.idx]),\n",
    "                  path.fig, center=center, scale=scale)"
   ]
  },
  {
   "cell_type": "code",
   "execution_count": 25,
   "metadata": {},
   "outputs": [
    {
     "data": {
      "text/plain": [
       "cluster\n",
       "  1   2   3   4   5   6   7   8   9  10  11  12  13  14  15  16  17  18  19  20 \n",
       " 41 208  35   6  40  77  20  24  13  16  26  13  20  16   8   1   1  18   5   2 "
      ]
     },
     "metadata": {},
     "output_type": "display_data"
    }
   ],
   "source": [
    "table(cluster)"
   ]
  },
  {
   "cell_type": "code",
   "execution_count": null,
   "metadata": {},
   "outputs": [],
   "source": [
    "# run the function as a whole\n",
    "RunModel(methylation, RNAseq, imagefolder, datafolder, convert2M=convert2M, subsetProbes=subsetProbes, distance=distance, method=method,\n",
    "         cutoff=cutoff, percent.test=percent.test, alpha=alpha, center=center, scale=scale, subset.method=subset.method)"
   ]
  }
 ],
 "metadata": {
  "kernelspec": {
   "display_name": "R",
   "language": "R",
   "name": "ir"
  },
  "language_info": {
   "codemirror_mode": "r",
   "file_extension": ".r",
   "mimetype": "text/x-r-source",
   "name": "R",
   "pygments_lexer": "r",
   "version": "3.4.4"
  }
 },
 "nbformat": 4,
 "nbformat_minor": 2
}
