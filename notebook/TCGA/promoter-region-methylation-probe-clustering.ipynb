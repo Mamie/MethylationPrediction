{
 "cells": [
  {
   "cell_type": "markdown",
   "metadata": {},
   "source": [
    "# Promoter region methylation probe clustering\n",
    "## Mamie Wang (szmamie@stanford.edu)\n",
    "## 2018/03/08\n",
    "\n",
    "This note aims to examine the results of hierarchical clustering of the HM450K methylation probes. \n",
    "\n",
    "The clustering procedure is as follows:\n",
    "\n",
    "- subset probes that are between 200 - 1500 base upstream of the transcription start site (`TSS1500` in `UCSC_RefGene_Group`)\n",
    "- for probes that correspond to the same gene average the methylation profile\n",
    "- perform hierarchical clustering with euclidean distance and `ward.D2` method\n",
    "\n",
    "The source code for the clustering procedure was in `../R/regressionModel/regressionModel.R`\n"
   ]
  },
  {
   "cell_type": "markdown",
   "metadata": {},
   "source": [
    "### Load the clustering data"
   ]
  },
  {
   "cell_type": "code",
   "execution_count": 26,
   "metadata": {},
   "outputs": [
    {
     "name": "stderr",
     "output_type": "stream",
     "text": [
      "Loading required package: sp\n",
      "Loading required package: maps\n",
      "Loading required package: shapefiles\n",
      "Loading required package: foreign\n",
      "\n",
      "Attaching package: ‘shapefiles’\n",
      "\n",
      "The following objects are masked from ‘package:foreign’:\n",
      "\n",
      "    read.dbf, write.dbf\n",
      "\n"
     ]
    }
   ],
   "source": [
    "library(fossil)"
   ]
  },
  {
   "cell_type": "code",
   "execution_count": 30,
   "metadata": {},
   "outputs": [],
   "source": [
    "load('../data/180307_M/HM450/resultsM/clusterInfo.RData')"
   ]
  },
  {
   "cell_type": "markdown",
   "metadata": {},
   "source": [
    "The number of merged promoter-region methylation probes is"
   ]
  },
  {
   "cell_type": "code",
   "execution_count": 31,
   "metadata": {},
   "outputs": [
    {
     "data": {
      "text/html": [
       "18261"
      ],
      "text/latex": [
       "18261"
      ],
      "text/markdown": [
       "18261"
      ],
      "text/plain": [
       "[1] 18261"
      ]
     },
     "metadata": {},
     "output_type": "display_data"
    }
   ],
   "source": [
    "length(clustering$cluster) "
   ]
  },
  {
   "cell_type": "code",
   "execution_count": 32,
   "metadata": {},
   "outputs": [
    {
     "data": {
      "image/png": "[encoded data removed]",
      "text/plain": [
       "Plot with title “Cluster Dendrogram”"
      ]
     },
     "metadata": {},
     "output_type": "display_data"
    }
   ],
   "source": [
    "plot(clustering$hclust, hang = -1, cex = 0.001)"
   ]
  },
  {
   "cell_type": "code",
   "execution_count": 33,
   "metadata": {},
   "outputs": [
    {
     "data": {
      "text/plain": [
       "\n",
       "   9    8    2    1    5   13    7    3   10   15   17   18   14    4   16   11 \n",
       "2263 1585 1462 1250 1238 1174 1043  954  947  847  820  771  743  622  616  554 \n",
       "   6   12   19   20 \n",
       " 540  478  277   77 "
      ]
     },
     "metadata": {},
     "output_type": "display_data"
    }
   ],
   "source": [
    "sort(table(clustering$cluster), decreasing=T)"
   ]
  },
  {
   "cell_type": "code",
   "execution_count": 34,
   "metadata": {},
   "outputs": [],
   "source": [
    "HM450.clusterM <- clustering$cluster\n",
    "ordering <- order(names(clustering$cluster))\n",
    "HM450.clusterM <- clustering$cluster[ordering]"
   ]
  },
  {
   "cell_type": "code",
   "execution_count": 37,
   "metadata": {},
   "outputs": [
    {
     "data": {
      "text/html": [
       "<dl class=dl-horizontal>\n",
       "\t<dt>cg00000029</dt>\n",
       "\t\t<dd>1</dd>\n",
       "\t<dt>cg00000321</dt>\n",
       "\t\t<dd>2</dd>\n",
       "\t<dt>cg00001510</dt>\n",
       "\t\t<dd>3</dd>\n",
       "\t<dt>cg00001582</dt>\n",
       "\t\t<dd>2</dd>\n",
       "\t<dt>cg00001854</dt>\n",
       "\t\t<dd>4</dd>\n",
       "</dl>\n"
      ],
      "text/latex": [
       "\\begin{description*}\n",
       "\\item[cg00000029] 1\n",
       "\\item[cg00000321] 2\n",
       "\\item[cg00001510] 3\n",
       "\\item[cg00001582] 2\n",
       "\\item[cg00001854] 4\n",
       "\\end{description*}\n"
      ],
      "text/markdown": [
       "cg00000029\n",
       ":   1cg00000321\n",
       ":   2cg00001510\n",
       ":   3cg00001582\n",
       ":   2cg00001854\n",
       ":   4\n",
       "\n"
      ],
      "text/plain": [
       "cg00000029 cg00000321 cg00001510 cg00001582 cg00001854 \n",
       "         1          2          3          2          4 "
      ]
     },
     "metadata": {},
     "output_type": "display_data"
    }
   ],
   "source": [
    "HM450.clusterM[1:5]"
   ]
  },
  {
   "cell_type": "markdown",
   "metadata": {},
   "source": [
    "## Clustering for beta values"
   ]
  },
  {
   "cell_type": "code",
   "execution_count": 38,
   "metadata": {},
   "outputs": [],
   "source": [
    "load('../data/180307_M/HM450/resultsB/clusterInfo.RData')"
   ]
  },
  {
   "cell_type": "code",
   "execution_count": 39,
   "metadata": {},
   "outputs": [
    {
     "data": {
      "text/html": [
       "18261"
      ],
      "text/latex": [
       "18261"
      ],
      "text/markdown": [
       "18261"
      ],
      "text/plain": [
       "[1] 18261"
      ]
     },
     "metadata": {},
     "output_type": "display_data"
    }
   ],
   "source": [
    "length(clustering$cluster) "
   ]
  },
  {
   "cell_type": "code",
   "execution_count": 40,
   "metadata": {},
   "outputs": [
    {
     "data": {
      "image/png": "[encoded data removed]",
      "text/plain": [
       "Plot with title “Cluster Dendrogram”"
      ]
     },
     "metadata": {},
     "output_type": "display_data"
    }
   ],
   "source": [
    "plot(clustering$hclust, hang = -1, cex = 0.001)"
   ]
  },
  {
   "cell_type": "code",
   "execution_count": 41,
   "metadata": {},
   "outputs": [
    {
     "data": {
      "text/plain": [
       "\n",
       "   8    7    2   10   15   16    3    5   14    1    4   19   17   18    9   11 \n",
       "3359 1893 1833 1817 1020  980  864  807  778  655  621  608  548  516  484  459 \n",
       "   6   13   20   12 \n",
       " 351  242  237  189 "
      ]
     },
     "metadata": {},
     "output_type": "display_data"
    }
   ],
   "source": [
    "sort(table(clustering$cluster), decreasing=T)"
   ]
  },
  {
   "cell_type": "code",
   "execution_count": 42,
   "metadata": {},
   "outputs": [],
   "source": [
    "HM450.clusterB <- clustering$cluster\n",
    "ordering <- order(names(clustering$cluster))\n",
    "HM450.clusterB <- clustering$cluster[ordering]"
   ]
  },
  {
   "cell_type": "code",
   "execution_count": 43,
   "metadata": {},
   "outputs": [
    {
     "data": {
      "text/html": [
       "<dl class=dl-horizontal>\n",
       "\t<dt>cg00000029</dt>\n",
       "\t\t<dd>1</dd>\n",
       "\t<dt>cg00000321</dt>\n",
       "\t\t<dd>2</dd>\n",
       "\t<dt>cg00001510</dt>\n",
       "\t\t<dd>3</dd>\n",
       "\t<dt>cg00001582</dt>\n",
       "\t\t<dd>2</dd>\n",
       "\t<dt>cg00001854</dt>\n",
       "\t\t<dd>4</dd>\n",
       "</dl>\n"
      ],
      "text/latex": [
       "\\begin{description*}\n",
       "\\item[cg00000029] 1\n",
       "\\item[cg00000321] 2\n",
       "\\item[cg00001510] 3\n",
       "\\item[cg00001582] 2\n",
       "\\item[cg00001854] 4\n",
       "\\end{description*}\n"
      ],
      "text/markdown": [
       "cg00000029\n",
       ":   1cg00000321\n",
       ":   2cg00001510\n",
       ":   3cg00001582\n",
       ":   2cg00001854\n",
       ":   4\n",
       "\n"
      ],
      "text/plain": [
       "cg00000029 cg00000321 cg00001510 cg00001582 cg00001854 \n",
       "         1          2          3          2          4 "
      ]
     },
     "metadata": {},
     "output_type": "display_data"
    }
   ],
   "source": [
    "HM450.clusterB[1:5]"
   ]
  },
  {
   "cell_type": "code",
   "execution_count": null,
   "metadata": {},
   "outputs": [],
   "source": [
    "rand.index(HM450.clusterM, HM450.clusterB)"
   ]
  },
  {
   "cell_type": "markdown",
   "metadata": {},
   "source": [
    "The code was ran in `/R/regressionModel/compareClustering.R` and the rand index is $0.922723568977585$. The clustering using the two distances is almost identical"
   ]
  },
  {
   "cell_type": "markdown",
   "metadata": {},
   "source": [
    "## HM 27 data"
   ]
  },
  {
   "cell_type": "code",
   "execution_count": 18,
   "metadata": {},
   "outputs": [],
   "source": [
    "load('../data/180307_M/HM27/resultsM/clusterInfo.RData')"
   ]
  },
  {
   "cell_type": "code",
   "execution_count": 19,
   "metadata": {},
   "outputs": [
    {
     "data": {
      "text/html": [
       "6279"
      ],
      "text/latex": [
       "6279"
      ],
      "text/markdown": [
       "6279"
      ],
      "text/plain": [
       "[1] 6279"
      ]
     },
     "metadata": {},
     "output_type": "display_data"
    }
   ],
   "source": [
    "length(clustering$cluster) "
   ]
  },
  {
   "cell_type": "code",
   "execution_count": 20,
   "metadata": {},
   "outputs": [
    {
     "data": {
      "image/png": "[encoded data removed]",
      "text/plain": [
       "Plot with title “Cluster Dendrogram”"
      ]
     },
     "metadata": {},
     "output_type": "display_data"
    }
   ],
   "source": [
    "plot(clustering$hclust, hang = -1, cex = 0.001)"
   ]
  },
  {
   "cell_type": "code",
   "execution_count": 21,
   "metadata": {},
   "outputs": [
    {
     "data": {
      "text/plain": [
       "\n",
       "  8   5  16   6  10   3   2   7   1   9  14  12   4  17  11  15  13  18  20  19 \n",
       "816 684 487 414 384 368 365 358 329 280 278 274 244 238 226 156 137 101  81  59 "
      ]
     },
     "metadata": {},
     "output_type": "display_data"
    }
   ],
   "source": [
    "sort(table(clustering$cluster), decreasing=T)"
   ]
  },
  {
   "cell_type": "code",
   "execution_count": null,
   "metadata": {},
   "outputs": [],
   "source": [
    "HM27.clusterM <- clustering$cluster\n",
    "ordering <- order(names(clustering$cluster))\n",
    "HM27.clusterM <- clustering$cluster[ordering]"
   ]
  },
  {
   "cell_type": "markdown",
   "metadata": {},
   "source": [
    "### HM 27 (beta)"
   ]
  },
  {
   "cell_type": "code",
   "execution_count": 22,
   "metadata": {},
   "outputs": [],
   "source": [
    "load('../data/180307_M/HM27/resultsB/clusterInfo.RData')"
   ]
  },
  {
   "cell_type": "code",
   "execution_count": 24,
   "metadata": {},
   "outputs": [
    {
     "data": {
      "text/html": [
       "6279"
      ],
      "text/latex": [
       "6279"
      ],
      "text/markdown": [
       "6279"
      ],
      "text/plain": [
       "[1] 6279"
      ]
     },
     "metadata": {},
     "output_type": "display_data"
    }
   ],
   "source": [
    "length(clustering$cluster) "
   ]
  },
  {
   "cell_type": "code",
   "execution_count": 23,
   "metadata": {},
   "outputs": [
    {
     "data": {
      "text/plain": [
       "\n",
       "   6    8    3   14   15    4    5    7   16   11   17    1   13    2   19   12 \n",
       "1820 1070  526  341  263  250  244  224  215  181  179  163  161  119  111  102 \n",
       "  20   10   18    9 \n",
       " 100   95   77   38 "
      ]
     },
     "metadata": {},
     "output_type": "display_data"
    }
   ],
   "source": [
    "sort(table(clustering$cluster), decreasing=T)"
   ]
  },
  {
   "cell_type": "code",
   "execution_count": null,
   "metadata": {},
   "outputs": [],
   "source": [
    "HM27.clusterB <- clustering$cluster\n",
    "ordering <- order(names(clustering$cluster))\n",
    "HM27.clusterB <- clustering$cluster[ordering]"
   ]
  },
  {
   "cell_type": "markdown",
   "metadata": {},
   "source": [
    "Comparing the rand index between the two clustering using different distance metrics"
   ]
  },
  {
   "cell_type": "code",
   "execution_count": null,
   "metadata": {},
   "outputs": [],
   "source": [
    "rand.index(HM27.clusterM, HM27.clusterB)"
   ]
  },
  {
   "cell_type": "markdown",
   "metadata": {},
   "source": [
    "The code was ran also in `/R/regressionModel/compareClustering.R` and the rand index is $0.883055220146789$. The clustering using the two distances is similar"
   ]
  },
  {
   "cell_type": "code",
   "execution_count": null,
   "metadata": {},
   "outputs": [],
   "source": []
  }
 ],
 "metadata": {
  "kernelspec": {
   "display_name": "R",
   "language": "R",
   "name": "ir"
  },
  "language_info": {
   "codemirror_mode": "r",
   "file_extension": ".r",
   "mimetype": "text/x-r-source",
   "name": "R",
   "pygments_lexer": "r",
   "version": "3.4.0"
  }
 },
 "nbformat": 4,
 "nbformat_minor": 2
}
