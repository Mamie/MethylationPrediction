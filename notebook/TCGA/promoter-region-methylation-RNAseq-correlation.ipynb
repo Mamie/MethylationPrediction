{
 "cells": [
  {
   "cell_type": "markdown",
   "metadata": {},
   "source": [
    "# Promoter region methylation-RNAseq correlation\n",
    "\n",
    "### Mamie Wang (szmamie@stanford.edu)\n",
    "### 2018/02/27\n",
    "\n",
    "## This note aims to explore the correlation between methylation M value and RNA-seq RSEM level for HM 450K \n",
    "\n",
    "## objective\n",
    "- subset probes with `UCSC_RefGene_Group` as `TSS1500` (within 200 bp - 1500 bp upstream of the transcription start site)\n",
    "- subset probes at CpG island and shore\n",
    "- compute the correlation between methylation and corresponding gene expression level"
   ]
  },
  {
   "cell_type": "code",
   "execution_count": 1,
   "metadata": {},
   "outputs": [
    {
     "name": "stderr",
     "output_type": "stream",
     "text": [
      "\n",
      "Attaching package: ‘dplyr’\n",
      "\n",
      "The following objects are masked from ‘package:stats’:\n",
      "\n",
      "    filter, lag\n",
      "\n",
      "The following objects are masked from ‘package:base’:\n",
      "\n",
      "    intersect, setdiff, setequal, union\n",
      "\n"
     ]
    }
   ],
   "source": [
    "library(dplyr)\n",
    "library(ggplot2)"
   ]
  },
  {
   "cell_type": "markdown",
   "metadata": {},
   "source": [
    "## Illumina HumanMethylation 450 manifest file\n",
    "- UCSC_RefGene_Group: functional regions with genes that a probe is associated to\n",
    "- Relation_to_UCSC_CpG_Island: relation of the probe to one or more CpG islands"
   ]
  },
  {
   "cell_type": "code",
   "execution_count": 3,
   "metadata": {
    "collapsed": true
   },
   "outputs": [],
   "source": [
    "annotations = read.csv('../data/HumanMethylation450_15017482_v1-2.csv',\n",
    "                        sep=',', stringsAsFactors=F, skip=7, header=T)\n",
    "row.names(annotations) = annotations$IlmnID"
   ]
  },
  {
   "cell_type": "code",
   "execution_count": 4,
   "metadata": {},
   "outputs": [
    {
     "data": {
      "text/html": [
       "<table>\n",
       "<thead><tr><th></th><th scope=col>IlmnID</th><th scope=col>Name</th><th scope=col>AddressA_ID</th><th scope=col>AlleleA_ProbeSeq</th><th scope=col>AddressB_ID</th><th scope=col>AlleleB_ProbeSeq</th><th scope=col>Infinium_Design_Type</th><th scope=col>Next_Base</th><th scope=col>Color_Channel</th><th scope=col>Forward_Sequence</th><th scope=col>⋯</th><th scope=col>UCSC_RefGene_Group</th><th scope=col>UCSC_CpG_Islands_Name</th><th scope=col>Relation_to_UCSC_CpG_Island</th><th scope=col>Phantom</th><th scope=col>DMR</th><th scope=col>Enhancer</th><th scope=col>HMM_Island</th><th scope=col>Regulatory_Feature_Name</th><th scope=col>Regulatory_Feature_Group</th><th scope=col>DHS</th></tr></thead>\n",
       "<tbody>\n",
       "\t<tr><th scope=row>cg00035864</th><td>cg00035864                                                                                                                  </td><td>cg00035864                                                                                                                  </td><td>31729416                                                                                                                    </td><td>AAAACACTAACAATCTTATCCACATAAACCCTTAAATTTATCTCAAATTC                                                                          </td><td>                                                                                                                            </td><td>                                                                                                                            </td><td>II                                                                                                                          </td><td>                                                                                                                            </td><td>                                                                                                                            </td><td>AATCCAAAGATGATGGAGGAGTGCCCGCTCATGATGTGAAGTACCTGCTCAGCTGGAAAC[CG]AATTTGAGATAAATTCAAGGGTCTATGTGGACAAGACTGCTAGTGTCTCTCTCTGGATTG</td><td>⋯                                                                                                                           </td><td>TSS1500                                                                                                                     </td><td>                                                                                                                            </td><td>                                                                                                                            </td><td>                                                                                                                            </td><td>                                                                                                                            </td><td>NA                                                                                                                          </td><td>                                                                                                                            </td><td>                                                                                                                            </td><td>                                                                                                                            </td><td>NA                                                                                                                          </td></tr>\n",
       "\t<tr><th scope=row>cg00050873</th><td>cg00050873                                                                                                                  </td><td>cg00050873                                                                                                                  </td><td>32735311                                                                                                                    </td><td>ACAAAAAAACAACACACAACTATAATAATTTTTAAAATAAATAAACCCCA                                                                          </td><td>31717405                                                                                                                    </td><td>ACGAAAAAACAACGCACAACTATAATAATTTTTAAAATAAATAAACCCCG                                                                          </td><td>I                                                                                                                           </td><td>A                                                                                                                           </td><td>Red                                                                                                                         </td><td>TATCTCTGTCTGGCGAGGAGGCAACGCACAACTGTGGTGGTTTTTGGAGTGGGTGGACCC[CG]GCCAAGACGGCCTGGGCTGACCAGAGACGGGAGGCAGAAAAAGTGGGCAGGTGGTTGCAG</td><td>⋯                                                                                                                           </td><td>Body;TSS1500                                                                                                                </td><td>chrY:9363680-9363943                                                                                                        </td><td>N_Shore                                                                                                                     </td><td>                                                                                                                            </td><td>                                                                                                                            </td><td>NA                                                                                                                          </td><td>Y:9973136-9976273                                                                                                           </td><td>                                                                                                                            </td><td>                                                                                                                            </td><td>NA                                                                                                                          </td></tr>\n",
       "\t<tr><th scope=row>cg00061679</th><td>cg00061679                                                                                                                  </td><td>cg00061679                                                                                                                  </td><td>28780415                                                                                                                    </td><td>AAAACATTAAAAAACTAATTCACTACTATTTAATTACTTTATTTTCCATC                                                                          </td><td>                                                                                                                            </td><td>                                                                                                                            </td><td>II                                                                                                                          </td><td>                                                                                                                            </td><td>                                                                                                                            </td><td>TCAACAAATGAGAGACATTGAAGAACTAATTCACTACTATTTGGTTACTTTATTTTCCAT[CG]AAGAAAACCTCTTTTTAAAAACTAACACATAAATAAAATGAACGAAGAACAAACTAAACG</td><td>⋯                                                                                                                           </td><td>Body;Body;Body                                                                                                              </td><td>                                                                                                                            </td><td>                                                                                                                            </td><td>                                                                                                                            </td><td>                                                                                                                            </td><td>NA                                                                                                                          </td><td>                                                                                                                            </td><td>                                                                                                                            </td><td>                                                                                                                            </td><td>NA                                                                                                                          </td></tr>\n",
       "\t<tr><th scope=row>cg00063477</th><td>cg00063477                                                                                                                  </td><td>cg00063477                                                                                                                  </td><td>16712347                                                                                                                    </td><td>TATTCTTCCACACAAAATACTAAACRTATATTTACAAAAATACTTCCATC                                                                          </td><td>                                                                                                                            </td><td>                                                                                                                            </td><td>II                                                                                                                          </td><td>                                                                                                                            </td><td>                                                                                                                            </td><td>CTCCTGTACTTGTTCATTAAATAATGATTCCTTGGATATACCAAGTCTGGATAGCGGATT[CG]ATGGAAGCATTTTTGTAAATATACGTTCAGTATTTTGTGTGGAAGAACACAATCTAGCTG</td><td>⋯                                                                                                                           </td><td>Body                                                                                                                        </td><td>chrY:22737825-22738052                                                                                                      </td><td>S_Shelf                                                                                                                     </td><td>                                                                                                                            </td><td>                                                                                                                            </td><td>NA                                                                                                                          </td><td>                                                                                                                            </td><td>                                                                                                                            </td><td>                                                                                                                            </td><td>NA                                                                                                                          </td></tr>\n",
       "\t<tr><th scope=row>cg00121626</th><td>cg00121626                                                                                                                  </td><td>cg00121626                                                                                                                  </td><td>19779393                                                                                                                    </td><td>AAAACTAATAAAAATAACTTACAAACCAAATACTATACCCTACAACTCTC                                                                          </td><td>                                                                                                                            </td><td>                                                                                                                            </td><td>II                                                                                                                          </td><td>                                                                                                                            </td><td>                                                                                                                            </td><td>AGGTGAATGAAGAGACTAATGGGAGTGGCTTGCAAGCCAGGTACTGTGCCCTACAACTCT[CG]CGCTGCCACAAAAAGCCAATTAACGAAGCAAACTGTTTTATCTTTTCCTCTCCCCAGAAG</td><td>⋯                                                                                                                           </td><td>Body                                                                                                                        </td><td>chrY:21664481-21665063                                                                                                      </td><td>N_Shore                                                                                                                     </td><td>                                                                                                                            </td><td>                                                                                                                            </td><td>NA                                                                                                                          </td><td>                                                                                                                            </td><td>                                                                                                                            </td><td>                                                                                                                            </td><td>NA                                                                                                                          </td></tr>\n",
       "\t<tr><th scope=row>cg00212031</th><td>cg00212031                                                                                                                  </td><td>cg00212031                                                                                                                  </td><td>29674443                                                                                                                    </td><td>CCCAATTAACCACAAAAACTAAACAAATTATACAATCAAAAAAACATACA                                                                          </td><td>38703326                                                                                                                    </td><td>CCCAATTAACCGCAAAAACTAAACAAATTATACGATCGAAAAAACGTACG                                                                          </td><td>I                                                                                                                           </td><td>T                                                                                                                           </td><td>Red                                                                                                                         </td><td>CCATTGGCCCGCCCCAGTTGGCCGCAGGGACTGAGCAAGTTATGCGGTCGGGAAGACGTG[CG]TTAAAGGGCTGAAGGGGAGGGACGGAACTGACAGTCTCTGTGACAGCTCTGAGGTGGGAG</td><td>⋯                                                                                                                           </td><td>TSS200                                                                                                                      </td><td>chrY:21238448-21240005                                                                                                      </td><td>Island                                                                                                                      </td><td>                                                                                                                            </td><td>                                                                                                                            </td><td>NA                                                                                                                          </td><td>Y:19697854-19699393                                                                                                         </td><td>                                                                                                                            </td><td>                                                                                                                            </td><td>NA                                                                                                                          </td></tr>\n",
       "</tbody>\n",
       "</table>\n"
      ],
      "text/latex": [
       "\\begin{tabular}{r|lllllllllllllllllllllllllllllllll}\n",
       "  & IlmnID & Name & AddressA\\_ID & AlleleA\\_ProbeSeq & AddressB\\_ID & AlleleB\\_ProbeSeq & Infinium\\_Design\\_Type & Next\\_Base & Color\\_Channel & Forward\\_Sequence & ⋯ & UCSC\\_RefGene\\_Group & UCSC\\_CpG\\_Islands\\_Name & Relation\\_to\\_UCSC\\_CpG\\_Island & Phantom & DMR & Enhancer & HMM\\_Island & Regulatory\\_Feature\\_Name & Regulatory\\_Feature\\_Group & DHS\\\\\n",
       "\\hline\n",
       "\tcg00035864 & cg00035864                                                                                                                       & cg00035864                                                                                                                       & 31729416                                                                                                                         & AAAACACTAACAATCTTATCCACATAAACCCTTAAATTTATCTCAAATTC                                                                               &                                                                                                                                  &                                                                                                                                  & II                                                                                                                               &                                                                                                                                  &                                                                                                                                  & AATCCAAAGATGATGGAGGAGTGCCCGCTCATGATGTGAAGTACCTGCTCAGCTGGAAAC{[}CG{]}AATTTGAGATAAATTCAAGGGTCTATGTGGACAAGACTGCTAGTGTCTCTCTCTGGATTG & ⋯                                                                                                                                & TSS1500                                                                                                                          &                                                                                                                                  &                                                                                                                                  &                                                                                                                                  &                                                                                                                                  & NA                                                                                                                               &                                                                                                                                  &                                                                                                                                  &                                                                                                                                  & NA                                                                                                                              \\\\\n",
       "\tcg00050873 & cg00050873                                                                                                                       & cg00050873                                                                                                                       & 32735311                                                                                                                         & ACAAAAAAACAACACACAACTATAATAATTTTTAAAATAAATAAACCCCA                                                                               & 31717405                                                                                                                         & ACGAAAAAACAACGCACAACTATAATAATTTTTAAAATAAATAAACCCCG                                                                               & I                                                                                                                                & A                                                                                                                                & Red                                                                                                                              & TATCTCTGTCTGGCGAGGAGGCAACGCACAACTGTGGTGGTTTTTGGAGTGGGTGGACCC{[}CG{]}GCCAAGACGGCCTGGGCTGACCAGAGACGGGAGGCAGAAAAAGTGGGCAGGTGGTTGCAG & ⋯                                                                                                                                & Body;TSS1500                                                                                                                     & chrY:9363680-9363943                                                                                                             & N\\_Shore                                                                                                                        &                                                                                                                                  &                                                                                                                                  & NA                                                                                                                               & Y:9973136-9976273                                                                                                                &                                                                                                                                  &                                                                                                                                  & NA                                                                                                                              \\\\\n",
       "\tcg00061679 & cg00061679                                                                                                                       & cg00061679                                                                                                                       & 28780415                                                                                                                         & AAAACATTAAAAAACTAATTCACTACTATTTAATTACTTTATTTTCCATC                                                                               &                                                                                                                                  &                                                                                                                                  & II                                                                                                                               &                                                                                                                                  &                                                                                                                                  & TCAACAAATGAGAGACATTGAAGAACTAATTCACTACTATTTGGTTACTTTATTTTCCAT{[}CG{]}AAGAAAACCTCTTTTTAAAAACTAACACATAAATAAAATGAACGAAGAACAAACTAAACG & ⋯                                                                                                                                & Body;Body;Body                                                                                                                   &                                                                                                                                  &                                                                                                                                  &                                                                                                                                  &                                                                                                                                  & NA                                                                                                                               &                                                                                                                                  &                                                                                                                                  &                                                                                                                                  & NA                                                                                                                              \\\\\n",
       "\tcg00063477 & cg00063477                                                                                                                       & cg00063477                                                                                                                       & 16712347                                                                                                                         & TATTCTTCCACACAAAATACTAAACRTATATTTACAAAAATACTTCCATC                                                                               &                                                                                                                                  &                                                                                                                                  & II                                                                                                                               &                                                                                                                                  &                                                                                                                                  & CTCCTGTACTTGTTCATTAAATAATGATTCCTTGGATATACCAAGTCTGGATAGCGGATT{[}CG{]}ATGGAAGCATTTTTGTAAATATACGTTCAGTATTTTGTGTGGAAGAACACAATCTAGCTG & ⋯                                                                                                                                & Body                                                                                                                             & chrY:22737825-22738052                                                                                                           & S\\_Shelf                                                                                                                        &                                                                                                                                  &                                                                                                                                  & NA                                                                                                                               &                                                                                                                                  &                                                                                                                                  &                                                                                                                                  & NA                                                                                                                              \\\\\n",
       "\tcg00121626 & cg00121626                                                                                                                       & cg00121626                                                                                                                       & 19779393                                                                                                                         & AAAACTAATAAAAATAACTTACAAACCAAATACTATACCCTACAACTCTC                                                                               &                                                                                                                                  &                                                                                                                                  & II                                                                                                                               &                                                                                                                                  &                                                                                                                                  & AGGTGAATGAAGAGACTAATGGGAGTGGCTTGCAAGCCAGGTACTGTGCCCTACAACTCT{[}CG{]}CGCTGCCACAAAAAGCCAATTAACGAAGCAAACTGTTTTATCTTTTCCTCTCCCCAGAAG & ⋯                                                                                                                                & Body                                                                                                                             & chrY:21664481-21665063                                                                                                           & N\\_Shore                                                                                                                        &                                                                                                                                  &                                                                                                                                  & NA                                                                                                                               &                                                                                                                                  &                                                                                                                                  &                                                                                                                                  & NA                                                                                                                              \\\\\n",
       "\tcg00212031 & cg00212031                                                                                                                       & cg00212031                                                                                                                       & 29674443                                                                                                                         & CCCAATTAACCACAAAAACTAAACAAATTATACAATCAAAAAAACATACA                                                                               & 38703326                                                                                                                         & CCCAATTAACCGCAAAAACTAAACAAATTATACGATCGAAAAAACGTACG                                                                               & I                                                                                                                                & T                                                                                                                                & Red                                                                                                                              & CCATTGGCCCGCCCCAGTTGGCCGCAGGGACTGAGCAAGTTATGCGGTCGGGAAGACGTG{[}CG{]}TTAAAGGGCTGAAGGGGAGGGACGGAACTGACAGTCTCTGTGACAGCTCTGAGGTGGGAG & ⋯                                                                                                                                & TSS200                                                                                                                           & chrY:21238448-21240005                                                                                                           & Island                                                                                                                           &                                                                                                                                  &                                                                                                                                  & NA                                                                                                                               & Y:19697854-19699393                                                                                                              &                                                                                                                                  &                                                                                                                                  & NA                                                                                                                              \\\\\n",
       "\\end{tabular}\n"
      ],
      "text/markdown": [
       "\n",
       "| <!--/--> | IlmnID | Name | AddressA_ID | AlleleA_ProbeSeq | AddressB_ID | AlleleB_ProbeSeq | Infinium_Design_Type | Next_Base | Color_Channel | Forward_Sequence | ⋯ | UCSC_RefGene_Group | UCSC_CpG_Islands_Name | Relation_to_UCSC_CpG_Island | Phantom | DMR | Enhancer | HMM_Island | Regulatory_Feature_Name | Regulatory_Feature_Group | DHS | \n",
       "|---|---|---|---|---|---|\n",
       "| cg00035864 | cg00035864                                                                                                                   | cg00035864                                                                                                                   | 31729416                                                                                                                     | AAAACACTAACAATCTTATCCACATAAACCCTTAAATTTATCTCAAATTC                                                                           |                                                                                                                              |                                                                                                                              | II                                                                                                                           |                                                                                                                              |                                                                                                                              | AATCCAAAGATGATGGAGGAGTGCCCGCTCATGATGTGAAGTACCTGCTCAGCTGGAAAC[CG]AATTTGAGATAAATTCAAGGGTCTATGTGGACAAGACTGCTAGTGTCTCTCTCTGGATTG | ⋯                                                                                                                            | TSS1500                                                                                                                      |                                                                                                                              |                                                                                                                              |                                                                                                                              |                                                                                                                              | NA                                                                                                                           |                                                                                                                              |                                                                                                                              |                                                                                                                              | NA                                                                                                                           | \n",
       "| cg00050873 | cg00050873                                                                                                                   | cg00050873                                                                                                                   | 32735311                                                                                                                     | ACAAAAAAACAACACACAACTATAATAATTTTTAAAATAAATAAACCCCA                                                                           | 31717405                                                                                                                     | ACGAAAAAACAACGCACAACTATAATAATTTTTAAAATAAATAAACCCCG                                                                           | I                                                                                                                            | A                                                                                                                            | Red                                                                                                                          | TATCTCTGTCTGGCGAGGAGGCAACGCACAACTGTGGTGGTTTTTGGAGTGGGTGGACCC[CG]GCCAAGACGGCCTGGGCTGACCAGAGACGGGAGGCAGAAAAAGTGGGCAGGTGGTTGCAG | ⋯                                                                                                                            | Body;TSS1500                                                                                                                 | chrY:9363680-9363943                                                                                                         | N_Shore                                                                                                                      |                                                                                                                              |                                                                                                                              | NA                                                                                                                           | Y:9973136-9976273                                                                                                            |                                                                                                                              |                                                                                                                              | NA                                                                                                                           | \n",
       "| cg00061679 | cg00061679                                                                                                                   | cg00061679                                                                                                                   | 28780415                                                                                                                     | AAAACATTAAAAAACTAATTCACTACTATTTAATTACTTTATTTTCCATC                                                                           |                                                                                                                              |                                                                                                                              | II                                                                                                                           |                                                                                                                              |                                                                                                                              | TCAACAAATGAGAGACATTGAAGAACTAATTCACTACTATTTGGTTACTTTATTTTCCAT[CG]AAGAAAACCTCTTTTTAAAAACTAACACATAAATAAAATGAACGAAGAACAAACTAAACG | ⋯                                                                                                                            | Body;Body;Body                                                                                                               |                                                                                                                              |                                                                                                                              |                                                                                                                              |                                                                                                                              | NA                                                                                                                           |                                                                                                                              |                                                                                                                              |                                                                                                                              | NA                                                                                                                           | \n",
       "| cg00063477 | cg00063477                                                                                                                   | cg00063477                                                                                                                   | 16712347                                                                                                                     | TATTCTTCCACACAAAATACTAAACRTATATTTACAAAAATACTTCCATC                                                                           |                                                                                                                              |                                                                                                                              | II                                                                                                                           |                                                                                                                              |                                                                                                                              | CTCCTGTACTTGTTCATTAAATAATGATTCCTTGGATATACCAAGTCTGGATAGCGGATT[CG]ATGGAAGCATTTTTGTAAATATACGTTCAGTATTTTGTGTGGAAGAACACAATCTAGCTG | ⋯                                                                                                                            | Body                                                                                                                         | chrY:22737825-22738052                                                                                                       | S_Shelf                                                                                                                      |                                                                                                                              |                                                                                                                              | NA                                                                                                                           |                                                                                                                              |                                                                                                                              |                                                                                                                              | NA                                                                                                                           | \n",
       "| cg00121626 | cg00121626                                                                                                                   | cg00121626                                                                                                                   | 19779393                                                                                                                     | AAAACTAATAAAAATAACTTACAAACCAAATACTATACCCTACAACTCTC                                                                           |                                                                                                                              |                                                                                                                              | II                                                                                                                           |                                                                                                                              |                                                                                                                              | AGGTGAATGAAGAGACTAATGGGAGTGGCTTGCAAGCCAGGTACTGTGCCCTACAACTCT[CG]CGCTGCCACAAAAAGCCAATTAACGAAGCAAACTGTTTTATCTTTTCCTCTCCCCAGAAG | ⋯                                                                                                                            | Body                                                                                                                         | chrY:21664481-21665063                                                                                                       | N_Shore                                                                                                                      |                                                                                                                              |                                                                                                                              | NA                                                                                                                           |                                                                                                                              |                                                                                                                              |                                                                                                                              | NA                                                                                                                           | \n",
       "| cg00212031 | cg00212031                                                                                                                   | cg00212031                                                                                                                   | 29674443                                                                                                                     | CCCAATTAACCACAAAAACTAAACAAATTATACAATCAAAAAAACATACA                                                                           | 38703326                                                                                                                     | CCCAATTAACCGCAAAAACTAAACAAATTATACGATCGAAAAAACGTACG                                                                           | I                                                                                                                            | T                                                                                                                            | Red                                                                                                                          | CCATTGGCCCGCCCCAGTTGGCCGCAGGGACTGAGCAAGTTATGCGGTCGGGAAGACGTG[CG]TTAAAGGGCTGAAGGGGAGGGACGGAACTGACAGTCTCTGTGACAGCTCTGAGGTGGGAG | ⋯                                                                                                                            | TSS200                                                                                                                       | chrY:21238448-21240005                                                                                                       | Island                                                                                                                       |                                                                                                                              |                                                                                                                              | NA                                                                                                                           | Y:19697854-19699393                                                                                                          |                                                                                                                              |                                                                                                                              | NA                                                                                                                           | \n",
       "\n",
       "\n"
      ],
      "text/plain": [
       "           IlmnID     Name       AddressA_ID\n",
       "cg00035864 cg00035864 cg00035864 31729416   \n",
       "cg00050873 cg00050873 cg00050873 32735311   \n",
       "cg00061679 cg00061679 cg00061679 28780415   \n",
       "cg00063477 cg00063477 cg00063477 16712347   \n",
       "cg00121626 cg00121626 cg00121626 19779393   \n",
       "cg00212031 cg00212031 cg00212031 29674443   \n",
       "           AlleleA_ProbeSeq                                   AddressB_ID\n",
       "cg00035864 AAAACACTAACAATCTTATCCACATAAACCCTTAAATTTATCTCAAATTC            \n",
       "cg00050873 ACAAAAAAACAACACACAACTATAATAATTTTTAAAATAAATAAACCCCA 31717405   \n",
       "cg00061679 AAAACATTAAAAAACTAATTCACTACTATTTAATTACTTTATTTTCCATC            \n",
       "cg00063477 TATTCTTCCACACAAAATACTAAACRTATATTTACAAAAATACTTCCATC            \n",
       "cg00121626 AAAACTAATAAAAATAACTTACAAACCAAATACTATACCCTACAACTCTC            \n",
       "cg00212031 CCCAATTAACCACAAAAACTAAACAAATTATACAATCAAAAAAACATACA 38703326   \n",
       "           AlleleB_ProbeSeq                                  \n",
       "cg00035864                                                   \n",
       "cg00050873 ACGAAAAAACAACGCACAACTATAATAATTTTTAAAATAAATAAACCCCG\n",
       "cg00061679                                                   \n",
       "cg00063477                                                   \n",
       "cg00121626                                                   \n",
       "cg00212031 CCCAATTAACCGCAAAAACTAAACAAATTATACGATCGAAAAAACGTACG\n",
       "           Infinium_Design_Type Next_Base Color_Channel\n",
       "cg00035864 II                                          \n",
       "cg00050873 I                    A         Red          \n",
       "cg00061679 II                                          \n",
       "cg00063477 II                                          \n",
       "cg00121626 II                                          \n",
       "cg00212031 I                    T         Red          \n",
       "           Forward_Sequence                                                                                                            \n",
       "cg00035864 AATCCAAAGATGATGGAGGAGTGCCCGCTCATGATGTGAAGTACCTGCTCAGCTGGAAAC[CG]AATTTGAGATAAATTCAAGGGTCTATGTGGACAAGACTGCTAGTGTCTCTCTCTGGATTG\n",
       "cg00050873 TATCTCTGTCTGGCGAGGAGGCAACGCACAACTGTGGTGGTTTTTGGAGTGGGTGGACCC[CG]GCCAAGACGGCCTGGGCTGACCAGAGACGGGAGGCAGAAAAAGTGGGCAGGTGGTTGCAG\n",
       "cg00061679 TCAACAAATGAGAGACATTGAAGAACTAATTCACTACTATTTGGTTACTTTATTTTCCAT[CG]AAGAAAACCTCTTTTTAAAAACTAACACATAAATAAAATGAACGAAGAACAAACTAAACG\n",
       "cg00063477 CTCCTGTACTTGTTCATTAAATAATGATTCCTTGGATATACCAAGTCTGGATAGCGGATT[CG]ATGGAAGCATTTTTGTAAATATACGTTCAGTATTTTGTGTGGAAGAACACAATCTAGCTG\n",
       "cg00121626 AGGTGAATGAAGAGACTAATGGGAGTGGCTTGCAAGCCAGGTACTGTGCCCTACAACTCT[CG]CGCTGCCACAAAAAGCCAATTAACGAAGCAAACTGTTTTATCTTTTCCTCTCCCCAGAAG\n",
       "cg00212031 CCATTGGCCCGCCCCAGTTGGCCGCAGGGACTGAGCAAGTTATGCGGTCGGGAAGACGTG[CG]TTAAAGGGCTGAAGGGGAGGGACGGAACTGACAGTCTCTGTGACAGCTCTGAGGTGGGAG\n",
       "           ⋯ UCSC_RefGene_Group UCSC_CpG_Islands_Name \n",
       "cg00035864 ⋯ TSS1500                                  \n",
       "cg00050873 ⋯ Body;TSS1500       chrY:9363680-9363943  \n",
       "cg00061679 ⋯ Body;Body;Body                           \n",
       "cg00063477 ⋯ Body               chrY:22737825-22738052\n",
       "cg00121626 ⋯ Body               chrY:21664481-21665063\n",
       "cg00212031 ⋯ TSS200             chrY:21238448-21240005\n",
       "           Relation_to_UCSC_CpG_Island Phantom DMR Enhancer HMM_Island         \n",
       "cg00035864                                         NA                          \n",
       "cg00050873 N_Shore                                 NA       Y:9973136-9976273  \n",
       "cg00061679                                         NA                          \n",
       "cg00063477 S_Shelf                                 NA                          \n",
       "cg00121626 N_Shore                                 NA                          \n",
       "cg00212031 Island                                  NA       Y:19697854-19699393\n",
       "           Regulatory_Feature_Name Regulatory_Feature_Group DHS\n",
       "cg00035864                                                  NA \n",
       "cg00050873                                                  NA \n",
       "cg00061679                                                  NA \n",
       "cg00063477                                                  NA \n",
       "cg00121626                                                  NA \n",
       "cg00212031                                                  NA "
      ]
     },
     "metadata": {},
     "output_type": "display_data"
    }
   ],
   "source": [
    "head(annotations)"
   ]
  },
  {
   "cell_type": "markdown",
   "metadata": {},
   "source": [
    "## Subset promoter region probes\n",
    "- `UCSC_RefGene_Group` contains `TSS1500`"
   ]
  },
  {
   "cell_type": "code",
   "execution_count": 5,
   "metadata": {
    "collapsed": true
   },
   "outputs": [],
   "source": [
    "probes.TSS1500 = annotations %>%\n",
    "  filter(grepl('TSS1500', UCSC_RefGene_Group, fixed=T))"
   ]
  },
  {
   "cell_type": "code",
   "execution_count": 6,
   "metadata": {},
   "outputs": [
    {
     "data": {
      "text/html": [
       "<table>\n",
       "<thead><tr><th scope=col>IlmnID</th><th scope=col>Name</th><th scope=col>AddressA_ID</th><th scope=col>AlleleA_ProbeSeq</th><th scope=col>AddressB_ID</th><th scope=col>AlleleB_ProbeSeq</th><th scope=col>Infinium_Design_Type</th><th scope=col>Next_Base</th><th scope=col>Color_Channel</th><th scope=col>Forward_Sequence</th><th scope=col>⋯</th><th scope=col>UCSC_RefGene_Group</th><th scope=col>UCSC_CpG_Islands_Name</th><th scope=col>Relation_to_UCSC_CpG_Island</th><th scope=col>Phantom</th><th scope=col>DMR</th><th scope=col>Enhancer</th><th scope=col>HMM_Island</th><th scope=col>Regulatory_Feature_Name</th><th scope=col>Regulatory_Feature_Group</th><th scope=col>DHS</th></tr></thead>\n",
       "<tbody>\n",
       "\t<tr><td>cg00035864                                                                                                                  </td><td>cg00035864                                                                                                                  </td><td>31729416                                                                                                                    </td><td>AAAACACTAACAATCTTATCCACATAAACCCTTAAATTTATCTCAAATTC                                                                          </td><td>                                                                                                                            </td><td>                                                                                                                            </td><td>II                                                                                                                          </td><td>                                                                                                                            </td><td>                                                                                                                            </td><td>AATCCAAAGATGATGGAGGAGTGCCCGCTCATGATGTGAAGTACCTGCTCAGCTGGAAAC[CG]AATTTGAGATAAATTCAAGGGTCTATGTGGACAAGACTGCTAGTGTCTCTCTCTGGATTG</td><td>⋯                                                                                                                           </td><td>TSS1500                                                                                                                     </td><td>                                                                                                                            </td><td>                                                                                                                            </td><td>                                                                                                                            </td><td>                                                                                                                            </td><td>NA                                                                                                                          </td><td>                                                                                                                            </td><td>                                                                                                                            </td><td>                                                                                                                            </td><td>NA                                                                                                                          </td></tr>\n",
       "\t<tr><td>cg00050873                                                                                                                  </td><td>cg00050873                                                                                                                  </td><td>32735311                                                                                                                    </td><td>ACAAAAAAACAACACACAACTATAATAATTTTTAAAATAAATAAACCCCA                                                                          </td><td>31717405                                                                                                                    </td><td>ACGAAAAAACAACGCACAACTATAATAATTTTTAAAATAAATAAACCCCG                                                                          </td><td>I                                                                                                                           </td><td>A                                                                                                                           </td><td>Red                                                                                                                         </td><td>TATCTCTGTCTGGCGAGGAGGCAACGCACAACTGTGGTGGTTTTTGGAGTGGGTGGACCC[CG]GCCAAGACGGCCTGGGCTGACCAGAGACGGGAGGCAGAAAAAGTGGGCAGGTGGTTGCAG</td><td>⋯                                                                                                                           </td><td>Body;TSS1500                                                                                                                </td><td>chrY:9363680-9363943                                                                                                        </td><td>N_Shore                                                                                                                     </td><td>                                                                                                                            </td><td>                                                                                                                            </td><td>NA                                                                                                                          </td><td>Y:9973136-9976273                                                                                                           </td><td>                                                                                                                            </td><td>                                                                                                                            </td><td>NA                                                                                                                          </td></tr>\n",
       "\t<tr><td>cg00272582                                                                                                                  </td><td>cg00272582                                                                                                                  </td><td>73678371                                                                                                                    </td><td>AAATCTAAAAACCTACAACAATAAAATCTATCRCCTTAACTAAAACTAAC                                                                          </td><td>                                                                                                                            </td><td>                                                                                                                            </td><td>II                                                                                                                          </td><td>                                                                                                                            </td><td>                                                                                                                            </td><td>ACTGAGGGCGGGGGTCTAAGGGCCTGCAACAATGAGATCTGTCGCCTTGGCTAGGACTGG[CG]CCGAGAGGCGATAGGTCTCGGGAGAGCCTGGCGCAGGGTGTGGGAGATTAGGAATCCCAG</td><td>⋯                                                                                                                           </td><td>TSS1500;TSS200;TSS1500                                                                                                      </td><td>chrY:2802964-2804283                                                                                                        </td><td>Island                                                                                                                      </td><td>                                                                                                                            </td><td>                                                                                                                            </td><td>NA                                                                                                                          </td><td>Y:2862947-2864321                                                                                                           </td><td>                                                                                                                            </td><td>                                                                                                                            </td><td>NA                                                                                                                          </td></tr>\n",
       "\t<tr><td>cg00311963                                                                                                                  </td><td>cg00311963                                                                                                                  </td><td>21726474                                                                                                                    </td><td>AATATAAAACRACTACTTCTCTAAATTCATAAACTACAAAAAACCTTTAC                                                                          </td><td>                                                                                                                            </td><td>                                                                                                                            </td><td>II                                                                                                                          </td><td>                                                                                                                            </td><td>                                                                                                                            </td><td>GACTAGGATAAGAAGACACCACACACCCGGACATCAGCAGAGCATGTCCAGCACCCAGCA[CG]CAAAGGCCTCCTGCAGCTCATGAACCCAGAGAAGCAGCCGCCTCACACCACCCTGCCCCC</td><td>⋯                                                                                                                           </td><td>TSS1500;TSS1500                                                                                                             </td><td>chrY:9745559-9745993                                                                                                        </td><td>S_Shore                                                                                                                     </td><td>                                                                                                                            </td><td>                                                                                                                            </td><td>NA                                                                                                                          </td><td>                                                                                                                            </td><td>                                                                                                                            </td><td>                                                                                                                            </td><td>NA                                                                                                                          </td></tr>\n",
       "\t<tr><td>cg00335297                                                                                                                  </td><td>cg00335297                                                                                                                  </td><td>53713392                                                                                                                    </td><td>ATCCTTATAAAATTTCAACTTCTATTACAAACAAATTCCACCCCAACAAC                                                                          </td><td>                                                                                                                            </td><td>                                                                                                                            </td><td>II                                                                                                                          </td><td>                                                                                                                            </td><td>                                                                                                                            </td><td>GACCTTAGAGAGTCCTTGTGGGGTTTCAGCTTCTATTGCAGACAAATTCCACCCCAGCAA[CG]TACCAGTCGACTTTCCTCACAGGCAACCGCCCTGCCCCACTCCCCTCAAACCACCGCCGC</td><td>⋯                                                                                                                           </td><td>TSS1500;TSS1500                                                                                                             </td><td>chrY:24454804-24455083                                                                                                      </td><td>N_Shore                                                                                                                     </td><td>                                                                                                                            </td><td>                                                                                                                            </td><td>NA                                                                                                                          </td><td>Y:22863915-22863999                                                                                                         </td><td>                                                                                                                            </td><td>                                                                                                                            </td><td>NA                                                                                                                          </td></tr>\n",
       "\t<tr><td>cg01053349                                                                                                                  </td><td>cg01053349                                                                                                                  </td><td>10737353                                                                                                                    </td><td>ACRCCTATCACTTTCTTCCTATTTAATTTTACTCTAATATTATTCTTCCC                                                                          </td><td>                                                                                                                            </td><td>                                                                                                                            </td><td>II                                                                                                                          </td><td>                                                                                                                            </td><td>                                                                                                                            </td><td>TAATCAACAATTTGTTCCTGATATATCTAGATGAGCCAGTGAGACAATTATAAGTAATAA[CG]GGAAGAACAATACCAGAGTAAAATCAAATAGGAAGAAAGTGATAGGCGTATTTACACTAA</td><td>⋯                                                                                                                           </td><td>TSS1500                                                                                                                     </td><td>                                                                                                                            </td><td>                                                                                                                            </td><td>                                                                                                                            </td><td>                                                                                                                            </td><td>NA                                                                                                                          </td><td>                                                                                                                            </td><td>                                                                                                                            </td><td>                                                                                                                            </td><td>NA                                                                                                                          </td></tr>\n",
       "</tbody>\n",
       "</table>\n"
      ],
      "text/latex": [
       "\\begin{tabular}{r|lllllllllllllllllllllllllllllllll}\n",
       " IlmnID & Name & AddressA\\_ID & AlleleA\\_ProbeSeq & AddressB\\_ID & AlleleB\\_ProbeSeq & Infinium\\_Design\\_Type & Next\\_Base & Color\\_Channel & Forward\\_Sequence & ⋯ & UCSC\\_RefGene\\_Group & UCSC\\_CpG\\_Islands\\_Name & Relation\\_to\\_UCSC\\_CpG\\_Island & Phantom & DMR & Enhancer & HMM\\_Island & Regulatory\\_Feature\\_Name & Regulatory\\_Feature\\_Group & DHS\\\\\n",
       "\\hline\n",
       "\t cg00035864                                                                                                                       & cg00035864                                                                                                                       & 31729416                                                                                                                         & AAAACACTAACAATCTTATCCACATAAACCCTTAAATTTATCTCAAATTC                                                                               &                                                                                                                                  &                                                                                                                                  & II                                                                                                                               &                                                                                                                                  &                                                                                                                                  & AATCCAAAGATGATGGAGGAGTGCCCGCTCATGATGTGAAGTACCTGCTCAGCTGGAAAC{[}CG{]}AATTTGAGATAAATTCAAGGGTCTATGTGGACAAGACTGCTAGTGTCTCTCTCTGGATTG & ⋯                                                                                                                                & TSS1500                                                                                                                          &                                                                                                                                  &                                                                                                                                  &                                                                                                                                  &                                                                                                                                  & NA                                                                                                                               &                                                                                                                                  &                                                                                                                                  &                                                                                                                                  & NA                                                                                                                              \\\\\n",
       "\t cg00050873                                                                                                                       & cg00050873                                                                                                                       & 32735311                                                                                                                         & ACAAAAAAACAACACACAACTATAATAATTTTTAAAATAAATAAACCCCA                                                                               & 31717405                                                                                                                         & ACGAAAAAACAACGCACAACTATAATAATTTTTAAAATAAATAAACCCCG                                                                               & I                                                                                                                                & A                                                                                                                                & Red                                                                                                                              & TATCTCTGTCTGGCGAGGAGGCAACGCACAACTGTGGTGGTTTTTGGAGTGGGTGGACCC{[}CG{]}GCCAAGACGGCCTGGGCTGACCAGAGACGGGAGGCAGAAAAAGTGGGCAGGTGGTTGCAG & ⋯                                                                                                                                & Body;TSS1500                                                                                                                     & chrY:9363680-9363943                                                                                                             & N\\_Shore                                                                                                                        &                                                                                                                                  &                                                                                                                                  & NA                                                                                                                               & Y:9973136-9976273                                                                                                                &                                                                                                                                  &                                                                                                                                  & NA                                                                                                                              \\\\\n",
       "\t cg00272582                                                                                                                       & cg00272582                                                                                                                       & 73678371                                                                                                                         & AAATCTAAAAACCTACAACAATAAAATCTATCRCCTTAACTAAAACTAAC                                                                               &                                                                                                                                  &                                                                                                                                  & II                                                                                                                               &                                                                                                                                  &                                                                                                                                  & ACTGAGGGCGGGGGTCTAAGGGCCTGCAACAATGAGATCTGTCGCCTTGGCTAGGACTGG{[}CG{]}CCGAGAGGCGATAGGTCTCGGGAGAGCCTGGCGCAGGGTGTGGGAGATTAGGAATCCCAG & ⋯                                                                                                                                & TSS1500;TSS200;TSS1500                                                                                                           & chrY:2802964-2804283                                                                                                             & Island                                                                                                                           &                                                                                                                                  &                                                                                                                                  & NA                                                                                                                               & Y:2862947-2864321                                                                                                                &                                                                                                                                  &                                                                                                                                  & NA                                                                                                                              \\\\\n",
       "\t cg00311963                                                                                                                       & cg00311963                                                                                                                       & 21726474                                                                                                                         & AATATAAAACRACTACTTCTCTAAATTCATAAACTACAAAAAACCTTTAC                                                                               &                                                                                                                                  &                                                                                                                                  & II                                                                                                                               &                                                                                                                                  &                                                                                                                                  & GACTAGGATAAGAAGACACCACACACCCGGACATCAGCAGAGCATGTCCAGCACCCAGCA{[}CG{]}CAAAGGCCTCCTGCAGCTCATGAACCCAGAGAAGCAGCCGCCTCACACCACCCTGCCCCC & ⋯                                                                                                                                & TSS1500;TSS1500                                                                                                                  & chrY:9745559-9745993                                                                                                             & S\\_Shore                                                                                                                        &                                                                                                                                  &                                                                                                                                  & NA                                                                                                                               &                                                                                                                                  &                                                                                                                                  &                                                                                                                                  & NA                                                                                                                              \\\\\n",
       "\t cg00335297                                                                                                                       & cg00335297                                                                                                                       & 53713392                                                                                                                         & ATCCTTATAAAATTTCAACTTCTATTACAAACAAATTCCACCCCAACAAC                                                                               &                                                                                                                                  &                                                                                                                                  & II                                                                                                                               &                                                                                                                                  &                                                                                                                                  & GACCTTAGAGAGTCCTTGTGGGGTTTCAGCTTCTATTGCAGACAAATTCCACCCCAGCAA{[}CG{]}TACCAGTCGACTTTCCTCACAGGCAACCGCCCTGCCCCACTCCCCTCAAACCACCGCCGC & ⋯                                                                                                                                & TSS1500;TSS1500                                                                                                                  & chrY:24454804-24455083                                                                                                           & N\\_Shore                                                                                                                        &                                                                                                                                  &                                                                                                                                  & NA                                                                                                                               & Y:22863915-22863999                                                                                                              &                                                                                                                                  &                                                                                                                                  & NA                                                                                                                              \\\\\n",
       "\t cg01053349                                                                                                                       & cg01053349                                                                                                                       & 10737353                                                                                                                         & ACRCCTATCACTTTCTTCCTATTTAATTTTACTCTAATATTATTCTTCCC                                                                               &                                                                                                                                  &                                                                                                                                  & II                                                                                                                               &                                                                                                                                  &                                                                                                                                  & TAATCAACAATTTGTTCCTGATATATCTAGATGAGCCAGTGAGACAATTATAAGTAATAA{[}CG{]}GGAAGAACAATACCAGAGTAAAATCAAATAGGAAGAAAGTGATAGGCGTATTTACACTAA & ⋯                                                                                                                                & TSS1500                                                                                                                          &                                                                                                                                  &                                                                                                                                  &                                                                                                                                  &                                                                                                                                  & NA                                                                                                                               &                                                                                                                                  &                                                                                                                                  &                                                                                                                                  & NA                                                                                                                              \\\\\n",
       "\\end{tabular}\n"
      ],
      "text/markdown": [
       "\n",
       "IlmnID | Name | AddressA_ID | AlleleA_ProbeSeq | AddressB_ID | AlleleB_ProbeSeq | Infinium_Design_Type | Next_Base | Color_Channel | Forward_Sequence | ⋯ | UCSC_RefGene_Group | UCSC_CpG_Islands_Name | Relation_to_UCSC_CpG_Island | Phantom | DMR | Enhancer | HMM_Island | Regulatory_Feature_Name | Regulatory_Feature_Group | DHS | \n",
       "|---|---|---|---|---|---|\n",
       "| cg00035864                                                                                                                   | cg00035864                                                                                                                   | 31729416                                                                                                                     | AAAACACTAACAATCTTATCCACATAAACCCTTAAATTTATCTCAAATTC                                                                           |                                                                                                                              |                                                                                                                              | II                                                                                                                           |                                                                                                                              |                                                                                                                              | AATCCAAAGATGATGGAGGAGTGCCCGCTCATGATGTGAAGTACCTGCTCAGCTGGAAAC[CG]AATTTGAGATAAATTCAAGGGTCTATGTGGACAAGACTGCTAGTGTCTCTCTCTGGATTG | ⋯                                                                                                                            | TSS1500                                                                                                                      |                                                                                                                              |                                                                                                                              |                                                                                                                              |                                                                                                                              | NA                                                                                                                           |                                                                                                                              |                                                                                                                              |                                                                                                                              | NA                                                                                                                           | \n",
       "| cg00050873                                                                                                                   | cg00050873                                                                                                                   | 32735311                                                                                                                     | ACAAAAAAACAACACACAACTATAATAATTTTTAAAATAAATAAACCCCA                                                                           | 31717405                                                                                                                     | ACGAAAAAACAACGCACAACTATAATAATTTTTAAAATAAATAAACCCCG                                                                           | I                                                                                                                            | A                                                                                                                            | Red                                                                                                                          | TATCTCTGTCTGGCGAGGAGGCAACGCACAACTGTGGTGGTTTTTGGAGTGGGTGGACCC[CG]GCCAAGACGGCCTGGGCTGACCAGAGACGGGAGGCAGAAAAAGTGGGCAGGTGGTTGCAG | ⋯                                                                                                                            | Body;TSS1500                                                                                                                 | chrY:9363680-9363943                                                                                                         | N_Shore                                                                                                                      |                                                                                                                              |                                                                                                                              | NA                                                                                                                           | Y:9973136-9976273                                                                                                            |                                                                                                                              |                                                                                                                              | NA                                                                                                                           | \n",
       "| cg00272582                                                                                                                   | cg00272582                                                                                                                   | 73678371                                                                                                                     | AAATCTAAAAACCTACAACAATAAAATCTATCRCCTTAACTAAAACTAAC                                                                           |                                                                                                                              |                                                                                                                              | II                                                                                                                           |                                                                                                                              |                                                                                                                              | ACTGAGGGCGGGGGTCTAAGGGCCTGCAACAATGAGATCTGTCGCCTTGGCTAGGACTGG[CG]CCGAGAGGCGATAGGTCTCGGGAGAGCCTGGCGCAGGGTGTGGGAGATTAGGAATCCCAG | ⋯                                                                                                                            | TSS1500;TSS200;TSS1500                                                                                                       | chrY:2802964-2804283                                                                                                         | Island                                                                                                                       |                                                                                                                              |                                                                                                                              | NA                                                                                                                           | Y:2862947-2864321                                                                                                            |                                                                                                                              |                                                                                                                              | NA                                                                                                                           | \n",
       "| cg00311963                                                                                                                   | cg00311963                                                                                                                   | 21726474                                                                                                                     | AATATAAAACRACTACTTCTCTAAATTCATAAACTACAAAAAACCTTTAC                                                                           |                                                                                                                              |                                                                                                                              | II                                                                                                                           |                                                                                                                              |                                                                                                                              | GACTAGGATAAGAAGACACCACACACCCGGACATCAGCAGAGCATGTCCAGCACCCAGCA[CG]CAAAGGCCTCCTGCAGCTCATGAACCCAGAGAAGCAGCCGCCTCACACCACCCTGCCCCC | ⋯                                                                                                                            | TSS1500;TSS1500                                                                                                              | chrY:9745559-9745993                                                                                                         | S_Shore                                                                                                                      |                                                                                                                              |                                                                                                                              | NA                                                                                                                           |                                                                                                                              |                                                                                                                              |                                                                                                                              | NA                                                                                                                           | \n",
       "| cg00335297                                                                                                                   | cg00335297                                                                                                                   | 53713392                                                                                                                     | ATCCTTATAAAATTTCAACTTCTATTACAAACAAATTCCACCCCAACAAC                                                                           |                                                                                                                              |                                                                                                                              | II                                                                                                                           |                                                                                                                              |                                                                                                                              | GACCTTAGAGAGTCCTTGTGGGGTTTCAGCTTCTATTGCAGACAAATTCCACCCCAGCAA[CG]TACCAGTCGACTTTCCTCACAGGCAACCGCCCTGCCCCACTCCCCTCAAACCACCGCCGC | ⋯                                                                                                                            | TSS1500;TSS1500                                                                                                              | chrY:24454804-24455083                                                                                                       | N_Shore                                                                                                                      |                                                                                                                              |                                                                                                                              | NA                                                                                                                           | Y:22863915-22863999                                                                                                          |                                                                                                                              |                                                                                                                              | NA                                                                                                                           | \n",
       "| cg01053349                                                                                                                   | cg01053349                                                                                                                   | 10737353                                                                                                                     | ACRCCTATCACTTTCTTCCTATTTAATTTTACTCTAATATTATTCTTCCC                                                                           |                                                                                                                              |                                                                                                                              | II                                                                                                                           |                                                                                                                              |                                                                                                                              | TAATCAACAATTTGTTCCTGATATATCTAGATGAGCCAGTGAGACAATTATAAGTAATAA[CG]GGAAGAACAATACCAGAGTAAAATCAAATAGGAAGAAAGTGATAGGCGTATTTACACTAA | ⋯                                                                                                                            | TSS1500                                                                                                                      |                                                                                                                              |                                                                                                                              |                                                                                                                              |                                                                                                                              | NA                                                                                                                           |                                                                                                                              |                                                                                                                              |                                                                                                                              | NA                                                                                                                           | \n",
       "\n",
       "\n"
      ],
      "text/plain": [
       "  IlmnID     Name       AddressA_ID\n",
       "1 cg00035864 cg00035864 31729416   \n",
       "2 cg00050873 cg00050873 32735311   \n",
       "3 cg00272582 cg00272582 73678371   \n",
       "4 cg00311963 cg00311963 21726474   \n",
       "5 cg00335297 cg00335297 53713392   \n",
       "6 cg01053349 cg01053349 10737353   \n",
       "  AlleleA_ProbeSeq                                   AddressB_ID\n",
       "1 AAAACACTAACAATCTTATCCACATAAACCCTTAAATTTATCTCAAATTC            \n",
       "2 ACAAAAAAACAACACACAACTATAATAATTTTTAAAATAAATAAACCCCA 31717405   \n",
       "3 AAATCTAAAAACCTACAACAATAAAATCTATCRCCTTAACTAAAACTAAC            \n",
       "4 AATATAAAACRACTACTTCTCTAAATTCATAAACTACAAAAAACCTTTAC            \n",
       "5 ATCCTTATAAAATTTCAACTTCTATTACAAACAAATTCCACCCCAACAAC            \n",
       "6 ACRCCTATCACTTTCTTCCTATTTAATTTTACTCTAATATTATTCTTCCC            \n",
       "  AlleleB_ProbeSeq                                   Infinium_Design_Type\n",
       "1                                                    II                  \n",
       "2 ACGAAAAAACAACGCACAACTATAATAATTTTTAAAATAAATAAACCCCG I                   \n",
       "3                                                    II                  \n",
       "4                                                    II                  \n",
       "5                                                    II                  \n",
       "6                                                    II                  \n",
       "  Next_Base Color_Channel\n",
       "1                        \n",
       "2 A         Red          \n",
       "3                        \n",
       "4                        \n",
       "5                        \n",
       "6                        \n",
       "  Forward_Sequence                                                                                                            \n",
       "1 AATCCAAAGATGATGGAGGAGTGCCCGCTCATGATGTGAAGTACCTGCTCAGCTGGAAAC[CG]AATTTGAGATAAATTCAAGGGTCTATGTGGACAAGACTGCTAGTGTCTCTCTCTGGATTG\n",
       "2 TATCTCTGTCTGGCGAGGAGGCAACGCACAACTGTGGTGGTTTTTGGAGTGGGTGGACCC[CG]GCCAAGACGGCCTGGGCTGACCAGAGACGGGAGGCAGAAAAAGTGGGCAGGTGGTTGCAG\n",
       "3 ACTGAGGGCGGGGGTCTAAGGGCCTGCAACAATGAGATCTGTCGCCTTGGCTAGGACTGG[CG]CCGAGAGGCGATAGGTCTCGGGAGAGCCTGGCGCAGGGTGTGGGAGATTAGGAATCCCAG\n",
       "4 GACTAGGATAAGAAGACACCACACACCCGGACATCAGCAGAGCATGTCCAGCACCCAGCA[CG]CAAAGGCCTCCTGCAGCTCATGAACCCAGAGAAGCAGCCGCCTCACACCACCCTGCCCCC\n",
       "5 GACCTTAGAGAGTCCTTGTGGGGTTTCAGCTTCTATTGCAGACAAATTCCACCCCAGCAA[CG]TACCAGTCGACTTTCCTCACAGGCAACCGCCCTGCCCCACTCCCCTCAAACCACCGCCGC\n",
       "6 TAATCAACAATTTGTTCCTGATATATCTAGATGAGCCAGTGAGACAATTATAAGTAATAA[CG]GGAAGAACAATACCAGAGTAAAATCAAATAGGAAGAAAGTGATAGGCGTATTTACACTAA\n",
       "  ⋯ UCSC_RefGene_Group     UCSC_CpG_Islands_Name  Relation_to_UCSC_CpG_Island\n",
       "1 ⋯ TSS1500                                                                  \n",
       "2 ⋯ Body;TSS1500           chrY:9363680-9363943   N_Shore                    \n",
       "3 ⋯ TSS1500;TSS200;TSS1500 chrY:2802964-2804283   Island                     \n",
       "4 ⋯ TSS1500;TSS1500        chrY:9745559-9745993   S_Shore                    \n",
       "5 ⋯ TSS1500;TSS1500        chrY:24454804-24455083 N_Shore                    \n",
       "6 ⋯ TSS1500                                                                  \n",
       "  Phantom DMR Enhancer HMM_Island          Regulatory_Feature_Name\n",
       "1             NA                                                  \n",
       "2             NA       Y:9973136-9976273                          \n",
       "3             NA       Y:2862947-2864321                          \n",
       "4             NA                                                  \n",
       "5             NA       Y:22863915-22863999                        \n",
       "6             NA                                                  \n",
       "  Regulatory_Feature_Group DHS\n",
       "1                          NA \n",
       "2                          NA \n",
       "3                          NA \n",
       "4                          NA \n",
       "5                          NA \n",
       "6                          NA "
      ]
     },
     "metadata": {},
     "output_type": "display_data"
    }
   ],
   "source": [
    "head(probes.TSS1500)"
   ]
  },
  {
   "cell_type": "code",
   "execution_count": 7,
   "metadata": {},
   "outputs": [
    {
     "data": {
      "text/html": [
       "<ol class=list-inline>\n",
       "\t<li>84342</li>\n",
       "\t<li>33</li>\n",
       "</ol>\n"
      ],
      "text/latex": [
       "\\begin{enumerate*}\n",
       "\\item 84342\n",
       "\\item 33\n",
       "\\end{enumerate*}\n"
      ],
      "text/markdown": [
       "1. 84342\n",
       "2. 33\n",
       "\n",
       "\n"
      ],
      "text/plain": [
       "[1] 84342    33"
      ]
     },
     "metadata": {},
     "output_type": "display_data"
    }
   ],
   "source": [
    "dim(probes.TSS1500)"
   ]
  },
  {
   "cell_type": "markdown",
   "metadata": {},
   "source": [
    "# Further subset probes within CpG island or shore\n",
    "- CGI shore definition: up to 2kbp away from the CGI\n",
    "- `Relation_to_UCSC_CpG_Island` contains `Shore` or `Island`"
   ]
  },
  {
   "cell_type": "code",
   "execution_count": 8,
   "metadata": {
    "collapsed": true
   },
   "outputs": [],
   "source": [
    "probes.CGI = probes.TSS1500 %>%\n",
    "  filter(grepl('Shore|Island', Relation_to_UCSC_CpG_Island))"
   ]
  },
  {
   "cell_type": "code",
   "execution_count": 9,
   "metadata": {},
   "outputs": [
    {
     "data": {
      "text/html": [
       "<table>\n",
       "<thead><tr><th scope=col>IlmnID</th><th scope=col>Name</th><th scope=col>AddressA_ID</th><th scope=col>AlleleA_ProbeSeq</th><th scope=col>AddressB_ID</th><th scope=col>AlleleB_ProbeSeq</th><th scope=col>Infinium_Design_Type</th><th scope=col>Next_Base</th><th scope=col>Color_Channel</th><th scope=col>Forward_Sequence</th><th scope=col>⋯</th><th scope=col>UCSC_RefGene_Group</th><th scope=col>UCSC_CpG_Islands_Name</th><th scope=col>Relation_to_UCSC_CpG_Island</th><th scope=col>Phantom</th><th scope=col>DMR</th><th scope=col>Enhancer</th><th scope=col>HMM_Island</th><th scope=col>Regulatory_Feature_Name</th><th scope=col>Regulatory_Feature_Group</th><th scope=col>DHS</th></tr></thead>\n",
       "<tbody>\n",
       "\t<tr><td>cg00050873                                                                                                                  </td><td>cg00050873                                                                                                                  </td><td>32735311                                                                                                                    </td><td>ACAAAAAAACAACACACAACTATAATAATTTTTAAAATAAATAAACCCCA                                                                          </td><td>31717405                                                                                                                    </td><td>ACGAAAAAACAACGCACAACTATAATAATTTTTAAAATAAATAAACCCCG                                                                          </td><td>I                                                                                                                           </td><td>A                                                                                                                           </td><td>Red                                                                                                                         </td><td>TATCTCTGTCTGGCGAGGAGGCAACGCACAACTGTGGTGGTTTTTGGAGTGGGTGGACCC[CG]GCCAAGACGGCCTGGGCTGACCAGAGACGGGAGGCAGAAAAAGTGGGCAGGTGGTTGCAG</td><td>⋯                                                                                                                           </td><td>Body;TSS1500                                                                                                                </td><td>chrY:9363680-9363943                                                                                                        </td><td>N_Shore                                                                                                                     </td><td>                                                                                                                            </td><td>                                                                                                                            </td><td>NA                                                                                                                          </td><td>Y:9973136-9976273                                                                                                           </td><td>                                                                                                                            </td><td>                                                                                                                            </td><td>NA                                                                                                                          </td></tr>\n",
       "\t<tr><td>cg00272582                                                                                                                  </td><td>cg00272582                                                                                                                  </td><td>73678371                                                                                                                    </td><td>AAATCTAAAAACCTACAACAATAAAATCTATCRCCTTAACTAAAACTAAC                                                                          </td><td>                                                                                                                            </td><td>                                                                                                                            </td><td>II                                                                                                                          </td><td>                                                                                                                            </td><td>                                                                                                                            </td><td>ACTGAGGGCGGGGGTCTAAGGGCCTGCAACAATGAGATCTGTCGCCTTGGCTAGGACTGG[CG]CCGAGAGGCGATAGGTCTCGGGAGAGCCTGGCGCAGGGTGTGGGAGATTAGGAATCCCAG</td><td>⋯                                                                                                                           </td><td>TSS1500;TSS200;TSS1500                                                                                                      </td><td>chrY:2802964-2804283                                                                                                        </td><td>Island                                                                                                                      </td><td>                                                                                                                            </td><td>                                                                                                                            </td><td>NA                                                                                                                          </td><td>Y:2862947-2864321                                                                                                           </td><td>                                                                                                                            </td><td>                                                                                                                            </td><td>NA                                                                                                                          </td></tr>\n",
       "\t<tr><td>cg00311963                                                                                                                  </td><td>cg00311963                                                                                                                  </td><td>21726474                                                                                                                    </td><td>AATATAAAACRACTACTTCTCTAAATTCATAAACTACAAAAAACCTTTAC                                                                          </td><td>                                                                                                                            </td><td>                                                                                                                            </td><td>II                                                                                                                          </td><td>                                                                                                                            </td><td>                                                                                                                            </td><td>GACTAGGATAAGAAGACACCACACACCCGGACATCAGCAGAGCATGTCCAGCACCCAGCA[CG]CAAAGGCCTCCTGCAGCTCATGAACCCAGAGAAGCAGCCGCCTCACACCACCCTGCCCCC</td><td>⋯                                                                                                                           </td><td>TSS1500;TSS1500                                                                                                             </td><td>chrY:9745559-9745993                                                                                                        </td><td>S_Shore                                                                                                                     </td><td>                                                                                                                            </td><td>                                                                                                                            </td><td>NA                                                                                                                          </td><td>                                                                                                                            </td><td>                                                                                                                            </td><td>                                                                                                                            </td><td>NA                                                                                                                          </td></tr>\n",
       "\t<tr><td>cg00335297                                                                                                                  </td><td>cg00335297                                                                                                                  </td><td>53713392                                                                                                                    </td><td>ATCCTTATAAAATTTCAACTTCTATTACAAACAAATTCCACCCCAACAAC                                                                          </td><td>                                                                                                                            </td><td>                                                                                                                            </td><td>II                                                                                                                          </td><td>                                                                                                                            </td><td>                                                                                                                            </td><td>GACCTTAGAGAGTCCTTGTGGGGTTTCAGCTTCTATTGCAGACAAATTCCACCCCAGCAA[CG]TACCAGTCGACTTTCCTCACAGGCAACCGCCCTGCCCCACTCCCCTCAAACCACCGCCGC</td><td>⋯                                                                                                                           </td><td>TSS1500;TSS1500                                                                                                             </td><td>chrY:24454804-24455083                                                                                                      </td><td>N_Shore                                                                                                                     </td><td>                                                                                                                            </td><td>                                                                                                                            </td><td>NA                                                                                                                          </td><td>Y:22863915-22863999                                                                                                         </td><td>                                                                                                                            </td><td>                                                                                                                            </td><td>NA                                                                                                                          </td></tr>\n",
       "\t<tr><td>cg01426558                                                                                                                  </td><td>cg01426558                                                                                                                  </td><td>29643447                                                                                                                    </td><td>AACRTTAATTATAACACACCTACAAAAAAACCTAAACCTAAACCCTTAAC                                                                          </td><td>                                                                                                                            </td><td>                                                                                                                            </td><td>II                                                                                                                          </td><td>                                                                                                                            </td><td>                                                                                                                            </td><td>GGTCATTCAGTATATAATTGTTTCATTGTTTCGTGAAAACAAGGGACCTATGCCAGGGTG[CG]TTAAGGGCCTAGGCCTAGGTCCCCTTGTAGGTGTGTTATAATCAACGTCATTCAGTATGT</td><td>⋯                                                                                                                           </td><td>TSS1500;TSS1500                                                                                                             </td><td>chrY:15016544-15017298                                                                                                      </td><td>N_Shore                                                                                                                     </td><td>                                                                                                                            </td><td>                                                                                                                            </td><td>NA                                                                                                                          </td><td>                                                                                                                            </td><td>                                                                                                                            </td><td>                                                                                                                            </td><td>NA                                                                                                                          </td></tr>\n",
       "\t<tr><td>cg01988452                                                                                                                  </td><td>cg01988452                                                                                                                  </td><td>17744441                                                                                                                    </td><td>TTTCTAATACATACAAACTACCAAAACTAACTTAAAAATAAATACAACAC                                                                          </td><td>                                                                                                                            </td><td>                                                                                                                            </td><td>II                                                                                                                          </td><td>                                                                                                                            </td><td>                                                                                                                            </td><td>AAATGAACAAATTTCTGGTACATACAAACTACCAGAACTGACTTGGGAATAAATACAGCA[CG]AATTCATAATCCAAACTAAGGCCTAGGACCATTTAAAAAATTTACATCAATCCTCGAATG</td><td>⋯                                                                                                                           </td><td>TSS1500                                                                                                                     </td><td>chrY:22737825-22738052                                                                                                      </td><td>N_Shore                                                                                                                     </td><td>                                                                                                                            </td><td>                                                                                                                            </td><td>NA                                                                                                                          </td><td>                                                                                                                            </td><td>                                                                                                                            </td><td>                                                                                                                            </td><td>NA                                                                                                                          </td></tr>\n",
       "</tbody>\n",
       "</table>\n"
      ],
      "text/latex": [
       "\\begin{tabular}{r|lllllllllllllllllllllllllllllllll}\n",
       " IlmnID & Name & AddressA\\_ID & AlleleA\\_ProbeSeq & AddressB\\_ID & AlleleB\\_ProbeSeq & Infinium\\_Design\\_Type & Next\\_Base & Color\\_Channel & Forward\\_Sequence & ⋯ & UCSC\\_RefGene\\_Group & UCSC\\_CpG\\_Islands\\_Name & Relation\\_to\\_UCSC\\_CpG\\_Island & Phantom & DMR & Enhancer & HMM\\_Island & Regulatory\\_Feature\\_Name & Regulatory\\_Feature\\_Group & DHS\\\\\n",
       "\\hline\n",
       "\t cg00050873                                                                                                                       & cg00050873                                                                                                                       & 32735311                                                                                                                         & ACAAAAAAACAACACACAACTATAATAATTTTTAAAATAAATAAACCCCA                                                                               & 31717405                                                                                                                         & ACGAAAAAACAACGCACAACTATAATAATTTTTAAAATAAATAAACCCCG                                                                               & I                                                                                                                                & A                                                                                                                                & Red                                                                                                                              & TATCTCTGTCTGGCGAGGAGGCAACGCACAACTGTGGTGGTTTTTGGAGTGGGTGGACCC{[}CG{]}GCCAAGACGGCCTGGGCTGACCAGAGACGGGAGGCAGAAAAAGTGGGCAGGTGGTTGCAG & ⋯                                                                                                                                & Body;TSS1500                                                                                                                     & chrY:9363680-9363943                                                                                                             & N\\_Shore                                                                                                                        &                                                                                                                                  &                                                                                                                                  & NA                                                                                                                               & Y:9973136-9976273                                                                                                                &                                                                                                                                  &                                                                                                                                  & NA                                                                                                                              \\\\\n",
       "\t cg00272582                                                                                                                       & cg00272582                                                                                                                       & 73678371                                                                                                                         & AAATCTAAAAACCTACAACAATAAAATCTATCRCCTTAACTAAAACTAAC                                                                               &                                                                                                                                  &                                                                                                                                  & II                                                                                                                               &                                                                                                                                  &                                                                                                                                  & ACTGAGGGCGGGGGTCTAAGGGCCTGCAACAATGAGATCTGTCGCCTTGGCTAGGACTGG{[}CG{]}CCGAGAGGCGATAGGTCTCGGGAGAGCCTGGCGCAGGGTGTGGGAGATTAGGAATCCCAG & ⋯                                                                                                                                & TSS1500;TSS200;TSS1500                                                                                                           & chrY:2802964-2804283                                                                                                             & Island                                                                                                                           &                                                                                                                                  &                                                                                                                                  & NA                                                                                                                               & Y:2862947-2864321                                                                                                                &                                                                                                                                  &                                                                                                                                  & NA                                                                                                                              \\\\\n",
       "\t cg00311963                                                                                                                       & cg00311963                                                                                                                       & 21726474                                                                                                                         & AATATAAAACRACTACTTCTCTAAATTCATAAACTACAAAAAACCTTTAC                                                                               &                                                                                                                                  &                                                                                                                                  & II                                                                                                                               &                                                                                                                                  &                                                                                                                                  & GACTAGGATAAGAAGACACCACACACCCGGACATCAGCAGAGCATGTCCAGCACCCAGCA{[}CG{]}CAAAGGCCTCCTGCAGCTCATGAACCCAGAGAAGCAGCCGCCTCACACCACCCTGCCCCC & ⋯                                                                                                                                & TSS1500;TSS1500                                                                                                                  & chrY:9745559-9745993                                                                                                             & S\\_Shore                                                                                                                        &                                                                                                                                  &                                                                                                                                  & NA                                                                                                                               &                                                                                                                                  &                                                                                                                                  &                                                                                                                                  & NA                                                                                                                              \\\\\n",
       "\t cg00335297                                                                                                                       & cg00335297                                                                                                                       & 53713392                                                                                                                         & ATCCTTATAAAATTTCAACTTCTATTACAAACAAATTCCACCCCAACAAC                                                                               &                                                                                                                                  &                                                                                                                                  & II                                                                                                                               &                                                                                                                                  &                                                                                                                                  & GACCTTAGAGAGTCCTTGTGGGGTTTCAGCTTCTATTGCAGACAAATTCCACCCCAGCAA{[}CG{]}TACCAGTCGACTTTCCTCACAGGCAACCGCCCTGCCCCACTCCCCTCAAACCACCGCCGC & ⋯                                                                                                                                & TSS1500;TSS1500                                                                                                                  & chrY:24454804-24455083                                                                                                           & N\\_Shore                                                                                                                        &                                                                                                                                  &                                                                                                                                  & NA                                                                                                                               & Y:22863915-22863999                                                                                                              &                                                                                                                                  &                                                                                                                                  & NA                                                                                                                              \\\\\n",
       "\t cg01426558                                                                                                                       & cg01426558                                                                                                                       & 29643447                                                                                                                         & AACRTTAATTATAACACACCTACAAAAAAACCTAAACCTAAACCCTTAAC                                                                               &                                                                                                                                  &                                                                                                                                  & II                                                                                                                               &                                                                                                                                  &                                                                                                                                  & GGTCATTCAGTATATAATTGTTTCATTGTTTCGTGAAAACAAGGGACCTATGCCAGGGTG{[}CG{]}TTAAGGGCCTAGGCCTAGGTCCCCTTGTAGGTGTGTTATAATCAACGTCATTCAGTATGT & ⋯                                                                                                                                & TSS1500;TSS1500                                                                                                                  & chrY:15016544-15017298                                                                                                           & N\\_Shore                                                                                                                        &                                                                                                                                  &                                                                                                                                  & NA                                                                                                                               &                                                                                                                                  &                                                                                                                                  &                                                                                                                                  & NA                                                                                                                              \\\\\n",
       "\t cg01988452                                                                                                                       & cg01988452                                                                                                                       & 17744441                                                                                                                         & TTTCTAATACATACAAACTACCAAAACTAACTTAAAAATAAATACAACAC                                                                               &                                                                                                                                  &                                                                                                                                  & II                                                                                                                               &                                                                                                                                  &                                                                                                                                  & AAATGAACAAATTTCTGGTACATACAAACTACCAGAACTGACTTGGGAATAAATACAGCA{[}CG{]}AATTCATAATCCAAACTAAGGCCTAGGACCATTTAAAAAATTTACATCAATCCTCGAATG & ⋯                                                                                                                                & TSS1500                                                                                                                          & chrY:22737825-22738052                                                                                                           & N\\_Shore                                                                                                                        &                                                                                                                                  &                                                                                                                                  & NA                                                                                                                               &                                                                                                                                  &                                                                                                                                  &                                                                                                                                  & NA                                                                                                                              \\\\\n",
       "\\end{tabular}\n"
      ],
      "text/markdown": [
       "\n",
       "IlmnID | Name | AddressA_ID | AlleleA_ProbeSeq | AddressB_ID | AlleleB_ProbeSeq | Infinium_Design_Type | Next_Base | Color_Channel | Forward_Sequence | ⋯ | UCSC_RefGene_Group | UCSC_CpG_Islands_Name | Relation_to_UCSC_CpG_Island | Phantom | DMR | Enhancer | HMM_Island | Regulatory_Feature_Name | Regulatory_Feature_Group | DHS | \n",
       "|---|---|---|---|---|---|\n",
       "| cg00050873                                                                                                                   | cg00050873                                                                                                                   | 32735311                                                                                                                     | ACAAAAAAACAACACACAACTATAATAATTTTTAAAATAAATAAACCCCA                                                                           | 31717405                                                                                                                     | ACGAAAAAACAACGCACAACTATAATAATTTTTAAAATAAATAAACCCCG                                                                           | I                                                                                                                            | A                                                                                                                            | Red                                                                                                                          | TATCTCTGTCTGGCGAGGAGGCAACGCACAACTGTGGTGGTTTTTGGAGTGGGTGGACCC[CG]GCCAAGACGGCCTGGGCTGACCAGAGACGGGAGGCAGAAAAAGTGGGCAGGTGGTTGCAG | ⋯                                                                                                                            | Body;TSS1500                                                                                                                 | chrY:9363680-9363943                                                                                                         | N_Shore                                                                                                                      |                                                                                                                              |                                                                                                                              | NA                                                                                                                           | Y:9973136-9976273                                                                                                            |                                                                                                                              |                                                                                                                              | NA                                                                                                                           | \n",
       "| cg00272582                                                                                                                   | cg00272582                                                                                                                   | 73678371                                                                                                                     | AAATCTAAAAACCTACAACAATAAAATCTATCRCCTTAACTAAAACTAAC                                                                           |                                                                                                                              |                                                                                                                              | II                                                                                                                           |                                                                                                                              |                                                                                                                              | ACTGAGGGCGGGGGTCTAAGGGCCTGCAACAATGAGATCTGTCGCCTTGGCTAGGACTGG[CG]CCGAGAGGCGATAGGTCTCGGGAGAGCCTGGCGCAGGGTGTGGGAGATTAGGAATCCCAG | ⋯                                                                                                                            | TSS1500;TSS200;TSS1500                                                                                                       | chrY:2802964-2804283                                                                                                         | Island                                                                                                                       |                                                                                                                              |                                                                                                                              | NA                                                                                                                           | Y:2862947-2864321                                                                                                            |                                                                                                                              |                                                                                                                              | NA                                                                                                                           | \n",
       "| cg00311963                                                                                                                   | cg00311963                                                                                                                   | 21726474                                                                                                                     | AATATAAAACRACTACTTCTCTAAATTCATAAACTACAAAAAACCTTTAC                                                                           |                                                                                                                              |                                                                                                                              | II                                                                                                                           |                                                                                                                              |                                                                                                                              | GACTAGGATAAGAAGACACCACACACCCGGACATCAGCAGAGCATGTCCAGCACCCAGCA[CG]CAAAGGCCTCCTGCAGCTCATGAACCCAGAGAAGCAGCCGCCTCACACCACCCTGCCCCC | ⋯                                                                                                                            | TSS1500;TSS1500                                                                                                              | chrY:9745559-9745993                                                                                                         | S_Shore                                                                                                                      |                                                                                                                              |                                                                                                                              | NA                                                                                                                           |                                                                                                                              |                                                                                                                              |                                                                                                                              | NA                                                                                                                           | \n",
       "| cg00335297                                                                                                                   | cg00335297                                                                                                                   | 53713392                                                                                                                     | ATCCTTATAAAATTTCAACTTCTATTACAAACAAATTCCACCCCAACAAC                                                                           |                                                                                                                              |                                                                                                                              | II                                                                                                                           |                                                                                                                              |                                                                                                                              | GACCTTAGAGAGTCCTTGTGGGGTTTCAGCTTCTATTGCAGACAAATTCCACCCCAGCAA[CG]TACCAGTCGACTTTCCTCACAGGCAACCGCCCTGCCCCACTCCCCTCAAACCACCGCCGC | ⋯                                                                                                                            | TSS1500;TSS1500                                                                                                              | chrY:24454804-24455083                                                                                                       | N_Shore                                                                                                                      |                                                                                                                              |                                                                                                                              | NA                                                                                                                           | Y:22863915-22863999                                                                                                          |                                                                                                                              |                                                                                                                              | NA                                                                                                                           | \n",
       "| cg01426558                                                                                                                   | cg01426558                                                                                                                   | 29643447                                                                                                                     | AACRTTAATTATAACACACCTACAAAAAAACCTAAACCTAAACCCTTAAC                                                                           |                                                                                                                              |                                                                                                                              | II                                                                                                                           |                                                                                                                              |                                                                                                                              | GGTCATTCAGTATATAATTGTTTCATTGTTTCGTGAAAACAAGGGACCTATGCCAGGGTG[CG]TTAAGGGCCTAGGCCTAGGTCCCCTTGTAGGTGTGTTATAATCAACGTCATTCAGTATGT | ⋯                                                                                                                            | TSS1500;TSS1500                                                                                                              | chrY:15016544-15017298                                                                                                       | N_Shore                                                                                                                      |                                                                                                                              |                                                                                                                              | NA                                                                                                                           |                                                                                                                              |                                                                                                                              |                                                                                                                              | NA                                                                                                                           | \n",
       "| cg01988452                                                                                                                   | cg01988452                                                                                                                   | 17744441                                                                                                                     | TTTCTAATACATACAAACTACCAAAACTAACTTAAAAATAAATACAACAC                                                                           |                                                                                                                              |                                                                                                                              | II                                                                                                                           |                                                                                                                              |                                                                                                                              | AAATGAACAAATTTCTGGTACATACAAACTACCAGAACTGACTTGGGAATAAATACAGCA[CG]AATTCATAATCCAAACTAAGGCCTAGGACCATTTAAAAAATTTACATCAATCCTCGAATG | ⋯                                                                                                                            | TSS1500                                                                                                                      | chrY:22737825-22738052                                                                                                       | N_Shore                                                                                                                      |                                                                                                                              |                                                                                                                              | NA                                                                                                                           |                                                                                                                              |                                                                                                                              |                                                                                                                              | NA                                                                                                                           | \n",
       "\n",
       "\n"
      ],
      "text/plain": [
       "  IlmnID     Name       AddressA_ID\n",
       "1 cg00050873 cg00050873 32735311   \n",
       "2 cg00272582 cg00272582 73678371   \n",
       "3 cg00311963 cg00311963 21726474   \n",
       "4 cg00335297 cg00335297 53713392   \n",
       "5 cg01426558 cg01426558 29643447   \n",
       "6 cg01988452 cg01988452 17744441   \n",
       "  AlleleA_ProbeSeq                                   AddressB_ID\n",
       "1 ACAAAAAAACAACACACAACTATAATAATTTTTAAAATAAATAAACCCCA 31717405   \n",
       "2 AAATCTAAAAACCTACAACAATAAAATCTATCRCCTTAACTAAAACTAAC            \n",
       "3 AATATAAAACRACTACTTCTCTAAATTCATAAACTACAAAAAACCTTTAC            \n",
       "4 ATCCTTATAAAATTTCAACTTCTATTACAAACAAATTCCACCCCAACAAC            \n",
       "5 AACRTTAATTATAACACACCTACAAAAAAACCTAAACCTAAACCCTTAAC            \n",
       "6 TTTCTAATACATACAAACTACCAAAACTAACTTAAAAATAAATACAACAC            \n",
       "  AlleleB_ProbeSeq                                   Infinium_Design_Type\n",
       "1 ACGAAAAAACAACGCACAACTATAATAATTTTTAAAATAAATAAACCCCG I                   \n",
       "2                                                    II                  \n",
       "3                                                    II                  \n",
       "4                                                    II                  \n",
       "5                                                    II                  \n",
       "6                                                    II                  \n",
       "  Next_Base Color_Channel\n",
       "1 A         Red          \n",
       "2                        \n",
       "3                        \n",
       "4                        \n",
       "5                        \n",
       "6                        \n",
       "  Forward_Sequence                                                                                                            \n",
       "1 TATCTCTGTCTGGCGAGGAGGCAACGCACAACTGTGGTGGTTTTTGGAGTGGGTGGACCC[CG]GCCAAGACGGCCTGGGCTGACCAGAGACGGGAGGCAGAAAAAGTGGGCAGGTGGTTGCAG\n",
       "2 ACTGAGGGCGGGGGTCTAAGGGCCTGCAACAATGAGATCTGTCGCCTTGGCTAGGACTGG[CG]CCGAGAGGCGATAGGTCTCGGGAGAGCCTGGCGCAGGGTGTGGGAGATTAGGAATCCCAG\n",
       "3 GACTAGGATAAGAAGACACCACACACCCGGACATCAGCAGAGCATGTCCAGCACCCAGCA[CG]CAAAGGCCTCCTGCAGCTCATGAACCCAGAGAAGCAGCCGCCTCACACCACCCTGCCCCC\n",
       "4 GACCTTAGAGAGTCCTTGTGGGGTTTCAGCTTCTATTGCAGACAAATTCCACCCCAGCAA[CG]TACCAGTCGACTTTCCTCACAGGCAACCGCCCTGCCCCACTCCCCTCAAACCACCGCCGC\n",
       "5 GGTCATTCAGTATATAATTGTTTCATTGTTTCGTGAAAACAAGGGACCTATGCCAGGGTG[CG]TTAAGGGCCTAGGCCTAGGTCCCCTTGTAGGTGTGTTATAATCAACGTCATTCAGTATGT\n",
       "6 AAATGAACAAATTTCTGGTACATACAAACTACCAGAACTGACTTGGGAATAAATACAGCA[CG]AATTCATAATCCAAACTAAGGCCTAGGACCATTTAAAAAATTTACATCAATCCTCGAATG\n",
       "  ⋯ UCSC_RefGene_Group     UCSC_CpG_Islands_Name  Relation_to_UCSC_CpG_Island\n",
       "1 ⋯ Body;TSS1500           chrY:9363680-9363943   N_Shore                    \n",
       "2 ⋯ TSS1500;TSS200;TSS1500 chrY:2802964-2804283   Island                     \n",
       "3 ⋯ TSS1500;TSS1500        chrY:9745559-9745993   S_Shore                    \n",
       "4 ⋯ TSS1500;TSS1500        chrY:24454804-24455083 N_Shore                    \n",
       "5 ⋯ TSS1500;TSS1500        chrY:15016544-15017298 N_Shore                    \n",
       "6 ⋯ TSS1500                chrY:22737825-22738052 N_Shore                    \n",
       "  Phantom DMR Enhancer HMM_Island          Regulatory_Feature_Name\n",
       "1             NA       Y:9973136-9976273                          \n",
       "2             NA       Y:2862947-2864321                          \n",
       "3             NA                                                  \n",
       "4             NA       Y:22863915-22863999                        \n",
       "5             NA                                                  \n",
       "6             NA                                                  \n",
       "  Regulatory_Feature_Group DHS\n",
       "1                          NA \n",
       "2                          NA \n",
       "3                          NA \n",
       "4                          NA \n",
       "5                          NA \n",
       "6                          NA "
      ]
     },
     "metadata": {},
     "output_type": "display_data"
    }
   ],
   "source": [
    "head(probes.CGI)"
   ]
  },
  {
   "cell_type": "code",
   "execution_count": 10,
   "metadata": {},
   "outputs": [
    {
     "data": {
      "text/html": [
       "<ol class=list-inline>\n",
       "\t<li>64707</li>\n",
       "\t<li>33</li>\n",
       "</ol>\n"
      ],
      "text/latex": [
       "\\begin{enumerate*}\n",
       "\\item 64707\n",
       "\\item 33\n",
       "\\end{enumerate*}\n"
      ],
      "text/markdown": [
       "1. 64707\n",
       "2. 33\n",
       "\n",
       "\n"
      ],
      "text/plain": [
       "[1] 64707    33"
      ]
     },
     "metadata": {},
     "output_type": "display_data"
    }
   ],
   "source": [
    "dim(probes.CGI)"
   ]
  },
  {
   "cell_type": "code",
   "execution_count": 11,
   "metadata": {},
   "outputs": [
    {
     "data": {
      "text/plain": [
       "\n",
       "S_Shore N_Shore  Island \n",
       "  16623   19508   28576 "
      ]
     },
     "metadata": {},
     "output_type": "display_data"
    }
   ],
   "source": [
    "sort(table(probes.CGI$Relation_to_UCSC_CpG_Island))"
   ]
  },
  {
   "cell_type": "code",
   "execution_count": 13,
   "metadata": {
    "collapsed": true
   },
   "outputs": [],
   "source": [
    "write.table(probes.TSS1500, sep='\\t', row.names=F, quote=F, file='../data/promoterRegionProbes/TSS1500.tsv')\n",
    "write.table(probes.CGI, sep='\\t', row.names=F, quote=F, file='../data/promoterRegionProbes/CGI.tsv')"
   ]
  },
  {
   "cell_type": "markdown",
   "metadata": {},
   "source": [
    "## Correlation between methylation level and corresponding gene expression\n",
    "- The correlation coefficient between methylation level and corresponding GEP for entire data and the two probe subsets were computed by `computeCorrelation.R` and `task.R`."
   ]
  },
  {
   "cell_type": "markdown",
   "metadata": {},
   "source": [
    "### Entire data set (Beta value)"
   ]
  },
  {
   "cell_type": "code",
   "execution_count": 1,
   "metadata": {},
   "outputs": [
    {
     "data": {
      "text/html": [
       "171715"
      ],
      "text/latex": [
       "171715"
      ],
      "text/markdown": [
       "171715"
      ],
      "text/plain": [
       "[1] 171715"
      ]
     },
     "metadata": {},
     "output_type": "display_data"
    }
   ],
   "source": [
    "load('../data/processed/Correlation.RData')\n",
    "length(correlation)"
   ]
  },
  {
   "cell_type": "code",
   "execution_count": 4,
   "metadata": {},
   "outputs": [
    {
     "name": "stderr",
     "output_type": "stream",
     "text": [
      "`stat_bin()` using `bins = 30`. Pick better value with `binwidth`.\n"
     ]
    },
    {
     "data": {},
     "metadata": {},
     "output_type": "display_data"
    },
    {
     "data": {
      "image/png": "[encoded data removed]",
      "text/plain": [
       "plot without title"
      ]
     },
     "metadata": {},
     "output_type": "display_data"
    }
   ],
   "source": [
    "qplot(correlation, geom=\"histogram\")"
   ]
  },
  {
   "cell_type": "code",
   "execution_count": 5,
   "metadata": {},
   "outputs": [
    {
     "data": {
      "text/html": [
       "<dl class=dl-horizontal>\n",
       "\t<dt>0%</dt>\n",
       "\t\t<dd>-0.877780126021302</dd>\n",
       "\t<dt>25%</dt>\n",
       "\t\t<dd>-0.10706583838723</dd>\n",
       "\t<dt>50%</dt>\n",
       "\t\t<dd>-0.0218800063688982</dd>\n",
       "\t<dt>75%</dt>\n",
       "\t\t<dd>0.0555297852546172</dd>\n",
       "\t<dt>100%</dt>\n",
       "\t\t<dd>0.773269629860828</dd>\n",
       "</dl>\n"
      ],
      "text/latex": [
       "\\begin{description*}\n",
       "\\item[0\\textbackslash{}\\%] -0.877780126021302\n",
       "\\item[25\\textbackslash{}\\%] -0.10706583838723\n",
       "\\item[50\\textbackslash{}\\%] -0.0218800063688982\n",
       "\\item[75\\textbackslash{}\\%] 0.0555297852546172\n",
       "\\item[100\\textbackslash{}\\%] 0.773269629860828\n",
       "\\end{description*}\n"
      ],
      "text/markdown": [
       "0%\n",
       ":   -0.87778012602130225%\n",
       ":   -0.1070658383872350%\n",
       ":   -0.021880006368898275%\n",
       ":   0.0555297852546172100%\n",
       ":   0.773269629860828\n",
       "\n"
      ],
      "text/plain": [
       "         0%         25%         50%         75%        100% \n",
       "-0.87778013 -0.10706584 -0.02188001  0.05552979  0.77326963 "
      ]
     },
     "metadata": {},
     "output_type": "display_data"
    }
   ],
   "source": [
    "quantile(correlation)"
   ]
  },
  {
   "cell_type": "markdown",
   "metadata": {},
   "source": [
    "### Entire data set (M value)"
   ]
  },
  {
   "cell_type": "code",
   "execution_count": 1,
   "metadata": {},
   "outputs": [
    {
     "data": {
      "text/html": [
       "171715"
      ],
      "text/latex": [
       "171715"
      ],
      "text/markdown": [
       "171715"
      ],
      "text/plain": [
       "[1] 171715"
      ]
     },
     "metadata": {},
     "output_type": "display_data"
    }
   ],
   "source": [
    "load('../data/processed//CorrelationMvalue.RData')\n",
    "length(correlation)"
   ]
  },
  {
   "cell_type": "code",
   "execution_count": 3,
   "metadata": {},
   "outputs": [
    {
     "name": "stderr",
     "output_type": "stream",
     "text": [
      "`stat_bin()` using `bins = 30`. Pick better value with `binwidth`.\n"
     ]
    },
    {
     "data": {},
     "metadata": {},
     "output_type": "display_data"
    },
    {
     "data": {
      "image/png": "[encoded data removed]",
      "text/plain": [
       "plot without title"
      ]
     },
     "metadata": {},
     "output_type": "display_data"
    }
   ],
   "source": [
    "qplot(correlation, geom=\"histogram\")"
   ]
  },
  {
   "cell_type": "code",
   "execution_count": 4,
   "metadata": {},
   "outputs": [
    {
     "data": {
      "text/html": [
       "<dl class=dl-horizontal>\n",
       "\t<dt>0%</dt>\n",
       "\t\t<dd>-0.86615975661764</dd>\n",
       "\t<dt>25%</dt>\n",
       "\t\t<dd>-0.110612394114617</dd>\n",
       "\t<dt>50%</dt>\n",
       "\t\t<dd>-0.0234246076221494</dd>\n",
       "\t<dt>75%</dt>\n",
       "\t\t<dd>0.0554729811517139</dd>\n",
       "\t<dt>100%</dt>\n",
       "\t\t<dd>0.778443349512177</dd>\n",
       "</dl>\n"
      ],
      "text/latex": [
       "\\begin{description*}\n",
       "\\item[0\\textbackslash{}\\%] -0.86615975661764\n",
       "\\item[25\\textbackslash{}\\%] -0.110612394114617\n",
       "\\item[50\\textbackslash{}\\%] -0.0234246076221494\n",
       "\\item[75\\textbackslash{}\\%] 0.0554729811517139\n",
       "\\item[100\\textbackslash{}\\%] 0.778443349512177\n",
       "\\end{description*}\n"
      ],
      "text/markdown": [
       "0%\n",
       ":   -0.8661597566176425%\n",
       ":   -0.11061239411461750%\n",
       ":   -0.023424607622149475%\n",
       ":   0.0554729811517139100%\n",
       ":   0.778443349512177\n",
       "\n"
      ],
      "text/plain": [
       "         0%         25%         50%         75%        100% \n",
       "-0.86615976 -0.11061239 -0.02342461  0.05547298  0.77844335 "
      ]
     },
     "metadata": {},
     "output_type": "display_data"
    }
   ],
   "source": [
    "quantile(correlation)"
   ]
  },
  {
   "cell_type": "markdown",
   "metadata": {},
   "source": [
    "### Promoter region probes (Beta value)"
   ]
  },
  {
   "cell_type": "code",
   "execution_count": 2,
   "metadata": {},
   "outputs": [
    {
     "data": {
      "text/html": [
       "29321"
      ],
      "text/latex": [
       "29321"
      ],
      "text/markdown": [
       "29321"
      ],
      "text/plain": [
       "[1] 29321"
      ]
     },
     "metadata": {},
     "output_type": "display_data"
    }
   ],
   "source": [
    "load('../data/processed/CorrelationPromoterB.RData')\n",
    "length(correlation)"
   ]
  },
  {
   "cell_type": "code",
   "execution_count": 3,
   "metadata": {},
   "outputs": [
    {
     "name": "stderr",
     "output_type": "stream",
     "text": [
      "`stat_bin()` using `bins = 30`. Pick better value with `binwidth`.\n"
     ]
    },
    {
     "data": {},
     "metadata": {},
     "output_type": "display_data"
    },
    {
     "data": {
      "image/png": "[encoded data removed]",
      "text/plain": [
       "plot without title"
      ]
     },
     "metadata": {},
     "output_type": "display_data"
    }
   ],
   "source": [
    "qplot(correlation, geom=\"histogram\")"
   ]
  },
  {
   "cell_type": "code",
   "execution_count": 4,
   "metadata": {},
   "outputs": [
    {
     "data": {
      "text/html": [
       "<dl class=dl-horizontal>\n",
       "\t<dt>0%</dt>\n",
       "\t\t<dd>-0.844029658555815</dd>\n",
       "\t<dt>25%</dt>\n",
       "\t\t<dd>-0.11895568487116</dd>\n",
       "\t<dt>50%</dt>\n",
       "\t\t<dd>-0.0327491904504024</dd>\n",
       "\t<dt>75%</dt>\n",
       "\t\t<dd>0.0436259970128366</dd>\n",
       "\t<dt>100%</dt>\n",
       "\t\t<dd>0.520878451746882</dd>\n",
       "</dl>\n"
      ],
      "text/latex": [
       "\\begin{description*}\n",
       "\\item[0\\textbackslash{}\\%] -0.844029658555815\n",
       "\\item[25\\textbackslash{}\\%] -0.11895568487116\n",
       "\\item[50\\textbackslash{}\\%] -0.0327491904504024\n",
       "\\item[75\\textbackslash{}\\%] 0.0436259970128366\n",
       "\\item[100\\textbackslash{}\\%] 0.520878451746882\n",
       "\\end{description*}\n"
      ],
      "text/markdown": [
       "0%\n",
       ":   -0.84402965855581525%\n",
       ":   -0.1189556848711650%\n",
       ":   -0.032749190450402475%\n",
       ":   0.0436259970128366100%\n",
       ":   0.520878451746882\n",
       "\n"
      ],
      "text/plain": [
       "         0%         25%         50%         75%        100% \n",
       "-0.84402966 -0.11895568 -0.03274919  0.04362600  0.52087845 "
      ]
     },
     "metadata": {},
     "output_type": "display_data"
    }
   ],
   "source": [
    "quantile(correlation)"
   ]
  },
  {
   "cell_type": "markdown",
   "metadata": {},
   "source": [
    "### Promoter region probes (M value)"
   ]
  },
  {
   "cell_type": "code",
   "execution_count": 5,
   "metadata": {},
   "outputs": [
    {
     "data": {
      "text/html": [
       "29321"
      ],
      "text/latex": [
       "29321"
      ],
      "text/markdown": [
       "29321"
      ],
      "text/plain": [
       "[1] 29321"
      ]
     },
     "metadata": {},
     "output_type": "display_data"
    }
   ],
   "source": [
    "load('../data/processed/CorrelationPromoterM.RData')\n",
    "length(correlation)"
   ]
  },
  {
   "cell_type": "code",
   "execution_count": 6,
   "metadata": {},
   "outputs": [
    {
     "name": "stderr",
     "output_type": "stream",
     "text": [
      "`stat_bin()` using `bins = 30`. Pick better value with `binwidth`.\n"
     ]
    },
    {
     "data": {},
     "metadata": {},
     "output_type": "display_data"
    },
    {
     "data": {
      "image/png": "[encoded data removed]",
      "text/plain": [
       "plot without title"
      ]
     },
     "metadata": {},
     "output_type": "display_data"
    }
   ],
   "source": [
    "qplot(correlation, geom=\"histogram\")"
   ]
  },
  {
   "cell_type": "code",
   "execution_count": 7,
   "metadata": {},
   "outputs": [
    {
     "data": {
      "text/html": [
       "<dl class=dl-horizontal>\n",
       "\t<dt>0%</dt>\n",
       "\t\t<dd>-0.842982386441011</dd>\n",
       "\t<dt>25%</dt>\n",
       "\t\t<dd>-0.123964839098801</dd>\n",
       "\t<dt>50%</dt>\n",
       "\t\t<dd>-0.0349651842707149</dd>\n",
       "\t<dt>75%</dt>\n",
       "\t\t<dd>0.0424108636714229</dd>\n",
       "\t<dt>100%</dt>\n",
       "\t\t<dd>0.556912999188095</dd>\n",
       "</dl>\n"
      ],
      "text/latex": [
       "\\begin{description*}\n",
       "\\item[0\\textbackslash{}\\%] -0.842982386441011\n",
       "\\item[25\\textbackslash{}\\%] -0.123964839098801\n",
       "\\item[50\\textbackslash{}\\%] -0.0349651842707149\n",
       "\\item[75\\textbackslash{}\\%] 0.0424108636714229\n",
       "\\item[100\\textbackslash{}\\%] 0.556912999188095\n",
       "\\end{description*}\n"
      ],
      "text/markdown": [
       "0%\n",
       ":   -0.84298238644101125%\n",
       ":   -0.12396483909880150%\n",
       ":   -0.034965184270714975%\n",
       ":   0.0424108636714229100%\n",
       ":   0.556912999188095\n",
       "\n"
      ],
      "text/plain": [
       "         0%         25%         50%         75%        100% \n",
       "-0.84298239 -0.12396484 -0.03496518  0.04241086  0.55691300 "
      ]
     },
     "metadata": {},
     "output_type": "display_data"
    }
   ],
   "source": [
    "quantile(correlation)"
   ]
  },
  {
   "cell_type": "markdown",
   "metadata": {},
   "source": [
    "### Promoter + CGI/shore region (Beta value)"
   ]
  },
  {
   "cell_type": "code",
   "execution_count": 8,
   "metadata": {},
   "outputs": [
    {
     "data": {
      "text/html": [
       "25557"
      ],
      "text/latex": [
       "25557"
      ],
      "text/markdown": [
       "25557"
      ],
      "text/plain": [
       "[1] 25557"
      ]
     },
     "metadata": {},
     "output_type": "display_data"
    }
   ],
   "source": [
    "load('../data/processed/CorrelationCGIB.RData')\n",
    "length(correlation)"
   ]
  },
  {
   "cell_type": "code",
   "execution_count": 9,
   "metadata": {},
   "outputs": [
    {
     "name": "stderr",
     "output_type": "stream",
     "text": [
      "`stat_bin()` using `bins = 30`. Pick better value with `binwidth`.\n"
     ]
    },
    {
     "data": {},
     "metadata": {},
     "output_type": "display_data"
    },
    {
     "data": {
      "image/png": "[encoded data removed]",
      "text/plain": [
       "plot without title"
      ]
     },
     "metadata": {},
     "output_type": "display_data"
    }
   ],
   "source": [
    "qplot(correlation, geom=\"histogram\")"
   ]
  },
  {
   "cell_type": "code",
   "execution_count": 10,
   "metadata": {},
   "outputs": [
    {
     "data": {
      "text/html": [
       "<dl class=dl-horizontal>\n",
       "\t<dt>0%</dt>\n",
       "\t\t<dd>-0.844029658555815</dd>\n",
       "\t<dt>25%</dt>\n",
       "\t\t<dd>-0.115575119827516</dd>\n",
       "\t<dt>50%</dt>\n",
       "\t\t<dd>-0.032129657347947</dd>\n",
       "\t<dt>75%</dt>\n",
       "\t\t<dd>0.0424043010660547</dd>\n",
       "\t<dt>100%</dt>\n",
       "\t\t<dd>0.520878451746882</dd>\n",
       "</dl>\n"
      ],
      "text/latex": [
       "\\begin{description*}\n",
       "\\item[0\\textbackslash{}\\%] -0.844029658555815\n",
       "\\item[25\\textbackslash{}\\%] -0.115575119827516\n",
       "\\item[50\\textbackslash{}\\%] -0.032129657347947\n",
       "\\item[75\\textbackslash{}\\%] 0.0424043010660547\n",
       "\\item[100\\textbackslash{}\\%] 0.520878451746882\n",
       "\\end{description*}\n"
      ],
      "text/markdown": [
       "0%\n",
       ":   -0.84402965855581525%\n",
       ":   -0.11557511982751650%\n",
       ":   -0.03212965734794775%\n",
       ":   0.0424043010660547100%\n",
       ":   0.520878451746882\n",
       "\n"
      ],
      "text/plain": [
       "         0%         25%         50%         75%        100% \n",
       "-0.84402966 -0.11557512 -0.03212966  0.04240430  0.52087845 "
      ]
     },
     "metadata": {},
     "output_type": "display_data"
    }
   ],
   "source": [
    "quantile(correlation)"
   ]
  },
  {
   "cell_type": "markdown",
   "metadata": {},
   "source": [
    "### Promoter + CGI/shore region (M value)"
   ]
  },
  {
   "cell_type": "code",
   "execution_count": 11,
   "metadata": {},
   "outputs": [
    {
     "data": {
      "text/html": [
       "25557"
      ],
      "text/latex": [
       "25557"
      ],
      "text/markdown": [
       "25557"
      ],
      "text/plain": [
       "[1] 25557"
      ]
     },
     "metadata": {},
     "output_type": "display_data"
    }
   ],
   "source": [
    "load('../data/processed/CorrelationCGIM.RData')\n",
    "length(correlation)"
   ]
  },
  {
   "cell_type": "code",
   "execution_count": 12,
   "metadata": {},
   "outputs": [
    {
     "name": "stderr",
     "output_type": "stream",
     "text": [
      "`stat_bin()` using `bins = 30`. Pick better value with `binwidth`.\n"
     ]
    },
    {
     "data": {},
     "metadata": {},
     "output_type": "display_data"
    },
    {
     "data": {
      "image/png": "[encoded data removed]",
      "text/plain": [
       "plot without title"
      ]
     },
     "metadata": {},
     "output_type": "display_data"
    }
   ],
   "source": [
    "qplot(correlation, geom=\"histogram\")"
   ]
  },
  {
   "cell_type": "code",
   "execution_count": 13,
   "metadata": {},
   "outputs": [
    {
     "data": {
      "text/html": [
       "<dl class=dl-horizontal>\n",
       "\t<dt>0%</dt>\n",
       "\t\t<dd>-0.842982386441011</dd>\n",
       "\t<dt>25%</dt>\n",
       "\t\t<dd>-0.120355932640055</dd>\n",
       "\t<dt>50%</dt>\n",
       "\t\t<dd>-0.0341559967340824</dd>\n",
       "\t<dt>75%</dt>\n",
       "\t\t<dd>0.0415297939659954</dd>\n",
       "\t<dt>100%</dt>\n",
       "\t\t<dd>0.519813869671247</dd>\n",
       "</dl>\n"
      ],
      "text/latex": [
       "\\begin{description*}\n",
       "\\item[0\\textbackslash{}\\%] -0.842982386441011\n",
       "\\item[25\\textbackslash{}\\%] -0.120355932640055\n",
       "\\item[50\\textbackslash{}\\%] -0.0341559967340824\n",
       "\\item[75\\textbackslash{}\\%] 0.0415297939659954\n",
       "\\item[100\\textbackslash{}\\%] 0.519813869671247\n",
       "\\end{description*}\n"
      ],
      "text/markdown": [
       "0%\n",
       ":   -0.84298238644101125%\n",
       ":   -0.12035593264005550%\n",
       ":   -0.034155996734082475%\n",
       ":   0.0415297939659954100%\n",
       ":   0.519813869671247\n",
       "\n"
      ],
      "text/plain": [
       "         0%         25%         50%         75%        100% \n",
       "-0.84298239 -0.12035593 -0.03415600  0.04152979  0.51981387 "
      ]
     },
     "metadata": {},
     "output_type": "display_data"
    }
   ],
   "source": [
    "quantile(correlation)"
   ]
  },
  {
   "cell_type": "markdown",
   "metadata": {},
   "source": [
    "|  dataset name  |  0 %  |  25 % |  50 %  |  75 %  |  100 %  |  # samples  |\n",
    "|----------------|-------|-------|--------|--------|---------|-------------|\n",
    "|  all_beta      |-0.8778|-0.1071|-0.0219 |0.0555  |0.7733   | 171715      |\n",
    "|  all_M         |-0.8662|-0.1106|-0.0234 |0.0555  |0.7784   | 171715      |\n",
    "|  promoter_beta |-0.8440|-0.1190|-0.0327 |0.0436  |0.5209   | 29321       |\n",
    "|  promoter_M    |-0.8429|-0.1240|-0.0350 |0.0424  |0.5569   | 29321       |\n",
    "|  p+CGI_beta    |-0.8440|-0.1156|-0.0321 |0.0424  |0.5209   | 25557       |\n",
    "|  p+CGI_M       |-0.8430|-0.1204|-0.0342 |0.0415  |0.5198   | 25557       |"
   ]
  },
  {
   "cell_type": "markdown",
   "metadata": {},
   "source": [
    "## Update (03/08/2018)\n",
    "\n",
    "- check the number of unique genes in three dataset (`all`, `promoter`, `promoter + CGI`) \n",
    "- obtain the top 100 most negative correlated gene probe"
   ]
  },
  {
   "cell_type": "markdown",
   "metadata": {},
   "source": [
    "### All data"
   ]
  },
  {
   "cell_type": "code",
   "execution_count": 46,
   "metadata": {},
   "outputs": [],
   "source": [
    "load('../data/processed/CorrelationM.RData')"
   ]
  },
  {
   "cell_type": "code",
   "execution_count": 47,
   "metadata": {},
   "outputs": [
    {
     "data": {
      "text/html": [
       "<table>\n",
       "<thead><tr><th></th><th scope=col>gene</th><th scope=col>correlation</th></tr></thead>\n",
       "<tbody>\n",
       "\t<tr><th scope=row>cg00000029</th><td>RBL2        </td><td>-0.005897207</td></tr>\n",
       "\t<tr><th scope=row>cg00000236</th><td>VDAC3       </td><td>-0.402955754</td></tr>\n",
       "\t<tr><th scope=row>cg00000289</th><td>ACTN1       </td><td> 0.003027153</td></tr>\n",
       "\t<tr><th scope=row>cg00000292</th><td>ATP2A1      </td><td> 0.013048239</td></tr>\n",
       "\t<tr><th scope=row>cg00000622</th><td>NIPA2       </td><td>-0.058901265</td></tr>\n",
       "\t<tr><th scope=row>cg00000658</th><td>MAN1B1      </td><td>-0.197919831</td></tr>\n",
       "</tbody>\n",
       "</table>\n"
      ],
      "text/latex": [
       "\\begin{tabular}{r|ll}\n",
       "  & gene & correlation\\\\\n",
       "\\hline\n",
       "\tcg00000029 & RBL2         & -0.005897207\\\\\n",
       "\tcg00000236 & VDAC3        & -0.402955754\\\\\n",
       "\tcg00000289 & ACTN1        &  0.003027153\\\\\n",
       "\tcg00000292 & ATP2A1       &  0.013048239\\\\\n",
       "\tcg00000622 & NIPA2        & -0.058901265\\\\\n",
       "\tcg00000658 & MAN1B1       & -0.197919831\\\\\n",
       "\\end{tabular}\n"
      ],
      "text/markdown": [
       "\n",
       "| <!--/--> | gene | correlation | \n",
       "|---|---|---|---|---|---|\n",
       "| cg00000029 | RBL2         | -0.005897207 | \n",
       "| cg00000236 | VDAC3        | -0.402955754 | \n",
       "| cg00000289 | ACTN1        |  0.003027153 | \n",
       "| cg00000292 | ATP2A1       |  0.013048239 | \n",
       "| cg00000622 | NIPA2        | -0.058901265 | \n",
       "| cg00000658 | MAN1B1       | -0.197919831 | \n",
       "\n",
       "\n"
      ],
      "text/plain": [
       "           gene   correlation \n",
       "cg00000029 RBL2   -0.005897207\n",
       "cg00000236 VDAC3  -0.402955754\n",
       "cg00000289 ACTN1   0.003027153\n",
       "cg00000292 ATP2A1  0.013048239\n",
       "cg00000622 NIPA2  -0.058901265\n",
       "cg00000658 MAN1B1 -0.197919831"
      ]
     },
     "metadata": {},
     "output_type": "display_data"
    }
   ],
   "source": [
    "head(correlation)"
   ]
  },
  {
   "cell_type": "code",
   "execution_count": 48,
   "metadata": {},
   "outputs": [
    {
     "data": {
      "text/html": [
       "<ol class=list-inline>\n",
       "\t<li>171715</li>\n",
       "\t<li>2</li>\n",
       "</ol>\n"
      ],
      "text/latex": [
       "\\begin{enumerate*}\n",
       "\\item 171715\n",
       "\\item 2\n",
       "\\end{enumerate*}\n"
      ],
      "text/markdown": [
       "1. 171715\n",
       "2. 2\n",
       "\n",
       "\n"
      ],
      "text/plain": [
       "[1] 171715      2"
      ]
     },
     "metadata": {},
     "output_type": "display_data"
    }
   ],
   "source": [
    "dim(correlation)"
   ]
  },
  {
   "cell_type": "code",
   "execution_count": 49,
   "metadata": {},
   "outputs": [
    {
     "data": {
      "text/html": [
       "10845"
      ],
      "text/latex": [
       "10845"
      ],
      "text/markdown": [
       "10845"
      ],
      "text/plain": [
       "[1] 10845"
      ]
     },
     "metadata": {},
     "output_type": "display_data"
    }
   ],
   "source": [
    "length(unique(correlation$gene))"
   ]
  },
  {
   "cell_type": "code",
   "execution_count": 50,
   "metadata": {},
   "outputs": [
    {
     "data": {
      "text/plain": [
       "\n",
       "  PTPRN2   MAD1L1     TNXB    DIP2C    RPTOR    HDAC4   INPP5A   ATP11A \n",
       "    1042      533      440      415      370      356      328      293 \n",
       "   RASA3     TBCD    AGAP1  COL11A2   CAMTA1  RPS6KA2  ANKRD11  C7orf50 \n",
       "     278      258      251      214      205      203      197      197 \n",
       "    CUX1    KCNQ1    NCOR2  CBFA2T3 ARHGEF10  PRKAR1B     LMF1   TRIM26 \n",
       "     197      190      189      181      179      174      170      169 \n",
       " TRAPPC9     BANP     BRD2   GABBR1   HRNBP3    CASZ1    FOXK1  SLC12A7 \n",
       "     168      163      162      161      160      159      158      157 \n",
       "  NFATC1    EHMT2      ABR     BAT2     LRP5    SEPT9  TSNARE1  CACNA1C \n",
       "     148      146      141      139      135      133      128      127 \n",
       "     GAK      SKI   FBRSL1    OBSCN   TRIM27    IGF1R    RGS12   PRKAG2 \n",
       "     127      126      123      122      121      119      119      118 \n",
       "  KIF26B    PCGF3   NOTCH4  SYNGAP1     TRIO    FOXP1  B3GNTL1   RPH3AL \n",
       "     117      117      116      116      116      115      114      114 \n",
       "  STK32C     GNAS   KLHL29  TBC1D16    ZFPM1   DNAH17   BAHCC1   EIF2C2 \n",
       "     114      113      113      112      112      110      109      109 \n",
       "   MEGF6   BAIAP2 KIAA0182   TNRC18     RERE     ANK1   FRMD4A   LPCAT1 \n",
       "     109      108      108      108      106      105      105      105 \n",
       "  GOLGA3    KDM4B     PAX6    TRRAP    AUTS2   TOLLIP    TSSC1    AP2A2 \n",
       "     103      102      102      102      101      101      101      100 \n",
       "KIAA1530   FAM38A    NPHP4  MACROD1     DAXX     IQCE    BRSK2    CTBP2 \n",
       "     100       98       98       97       96       96       95       95 \n",
       "   PACS2     PFKP     CMIP     JPH3     TAP2    ZFHX3  ZFYVE28   IQSEC1 \n",
       "      94       94       93       93       93       93       93       91 \n",
       "    VARS   HEATR2   JARID2 SLC38A10 \n",
       "      91       90       90       90 "
      ]
     },
     "metadata": {},
     "output_type": "display_data"
    }
   ],
   "source": [
    "sort(table(correlation$gene), decreasing=T)[1:100]"
   ]
  },
  {
   "cell_type": "markdown",
   "metadata": {},
   "source": [
    "#### correlation (all M)"
   ]
  },
  {
   "cell_type": "code",
   "execution_count": 51,
   "metadata": {},
   "outputs": [
    {
     "data": {
      "text/html": [
       "<table>\n",
       "<thead><tr><th></th><th scope=col>gene</th><th scope=col>correlation</th></tr></thead>\n",
       "<tbody>\n",
       "\t<tr><th scope=row>cg11264499</th><td>MTX3      </td><td>-0.8661598</td></tr>\n",
       "\t<tr><th scope=row>cg03583857</th><td>CD34      </td><td>-0.8429824</td></tr>\n",
       "\t<tr><th scope=row>cg00129196</th><td>WDR35     </td><td>-0.8372056</td></tr>\n",
       "\t<tr><th scope=row>cg26266618</th><td>CD34      </td><td>-0.8280892</td></tr>\n",
       "\t<tr><th scope=row>cg08923054</th><td>ANK1      </td><td>-0.8278396</td></tr>\n",
       "\t<tr><th scope=row>cg26695784</th><td>FTO       </td><td>-0.8277260</td></tr>\n",
       "\t<tr><th scope=row>cg03276813</th><td>SSFA2     </td><td>-0.8206695</td></tr>\n",
       "\t<tr><th scope=row>cg20293352</th><td>CD34      </td><td>-0.8135794</td></tr>\n",
       "\t<tr><th scope=row>cg18294707</th><td>RNASE2    </td><td>-0.8061969</td></tr>\n",
       "\t<tr><th scope=row>cg06101274</th><td>ITPRIPL2  </td><td>-0.8061266</td></tr>\n",
       "\t<tr><th scope=row>cg09233395</th><td>TRPS1     </td><td>-0.8054778</td></tr>\n",
       "\t<tr><th scope=row>cg09032544</th><td>CD247     </td><td>-0.7967193</td></tr>\n",
       "\t<tr><th scope=row>cg04927537</th><td>LGALS3BP  </td><td>-0.7965879</td></tr>\n",
       "\t<tr><th scope=row>cg20894963</th><td>CLECL1    </td><td>-0.7951226</td></tr>\n",
       "\t<tr><th scope=row>cg14870271</th><td>LGALS3BP  </td><td>-0.7950687</td></tr>\n",
       "\t<tr><th scope=row>cg19433066</th><td>SUCLG2    </td><td>-0.7937598</td></tr>\n",
       "\t<tr><th scope=row>cg09303701</th><td>WDR35     </td><td>-0.7934741</td></tr>\n",
       "\t<tr><th scope=row>cg09705174</th><td>SSFA2     </td><td>-0.7927245</td></tr>\n",
       "\t<tr><th scope=row>cg07703372</th><td>SUCLG2    </td><td>-0.7919559</td></tr>\n",
       "\t<tr><th scope=row>cg11197418</th><td>SUCLG2    </td><td>-0.7913196</td></tr>\n",
       "\t<tr><th scope=row>cg03046812</th><td>SLC41A1   </td><td>-0.7899232</td></tr>\n",
       "\t<tr><th scope=row>cg07062476</th><td>MTX3      </td><td>-0.7873957</td></tr>\n",
       "\t<tr><th scope=row>cg12293132</th><td>C7orf46   </td><td>-0.7858766</td></tr>\n",
       "\t<tr><th scope=row>cg05655806</th><td>CD96      </td><td>-0.7857778</td></tr>\n",
       "\t<tr><th scope=row>cg03990033</th><td>CD34      </td><td>-0.7819445</td></tr>\n",
       "\t<tr><th scope=row>cg02138358</th><td>MPO       </td><td>-0.7805266</td></tr>\n",
       "\t<tr><th scope=row>cg09690326</th><td>C7orf46   </td><td>-0.7800332</td></tr>\n",
       "\t<tr><th scope=row>cg03317517</th><td>ZNF90     </td><td>-0.7794964</td></tr>\n",
       "\t<tr><th scope=row>cg24129356</th><td>HLA-DMA   </td><td>-0.7790760</td></tr>\n",
       "\t<tr><th scope=row>cg16563370</th><td>SLFN13    </td><td>-0.7786577</td></tr>\n",
       "\t<tr><th scope=row>⋮</th><td>⋮</td><td>⋮</td></tr>\n",
       "\t<tr><th scope=row>cg27040423</th><td>CHFR      </td><td>-0.7466806</td></tr>\n",
       "\t<tr><th scope=row>cg24897127</th><td>IFITM3    </td><td>-0.7461437</td></tr>\n",
       "\t<tr><th scope=row>cg04066396</th><td>PKP4      </td><td>-0.7461434</td></tr>\n",
       "\t<tr><th scope=row>cg21273703</th><td>CHFR      </td><td>-0.7450175</td></tr>\n",
       "\t<tr><th scope=row>cg23889684</th><td>APOL3     </td><td>-0.7448229</td></tr>\n",
       "\t<tr><th scope=row>cg21645164</th><td>CHFR      </td><td>-0.7419218</td></tr>\n",
       "\t<tr><th scope=row>cg11202345</th><td>LGALS3BP  </td><td>-0.7414495</td></tr>\n",
       "\t<tr><th scope=row>cg06062848</th><td>ZCCHC2    </td><td>-0.7408221</td></tr>\n",
       "\t<tr><th scope=row>cg03909781</th><td>KIAA0495  </td><td>-0.7406983</td></tr>\n",
       "\t<tr><th scope=row>cg24934561</th><td>KIAA0495  </td><td>-0.7404791</td></tr>\n",
       "\t<tr><th scope=row>cg06998765</th><td>RPS6KL1   </td><td>-0.7401114</td></tr>\n",
       "\t<tr><th scope=row>cg25178683</th><td>LGALS3BP  </td><td>-0.7392017</td></tr>\n",
       "\t<tr><th scope=row>cg06685724</th><td>C7orf46   </td><td>-0.7387195</td></tr>\n",
       "\t<tr><th scope=row>cg01570551</th><td>C7orf46   </td><td>-0.7386328</td></tr>\n",
       "\t<tr><th scope=row>cg00068305</th><td>CSNK1G3   </td><td>-0.7385896</td></tr>\n",
       "\t<tr><th scope=row>cg16291276</th><td>CD34      </td><td>-0.7385062</td></tr>\n",
       "\t<tr><th scope=row>cg05954276</th><td>CSNK1G3   </td><td>-0.7381876</td></tr>\n",
       "\t<tr><th scope=row>cg16732469</th><td>ZFP3      </td><td>-0.7374773</td></tr>\n",
       "\t<tr><th scope=row>cg00837649</th><td>SUCLG2    </td><td>-0.7371309</td></tr>\n",
       "\t<tr><th scope=row>cg17848531</th><td>SSFA2     </td><td>-0.7368234</td></tr>\n",
       "\t<tr><th scope=row>cg24737783</th><td>C1orf59   </td><td>-0.7358695</td></tr>\n",
       "\t<tr><th scope=row>cg15880738</th><td>CD3G      </td><td>-0.7351060</td></tr>\n",
       "\t<tr><th scope=row>cg16124934</th><td>RPS6KL1   </td><td>-0.7350926</td></tr>\n",
       "\t<tr><th scope=row>cg13922442</th><td>TARP      </td><td>-0.7349775</td></tr>\n",
       "\t<tr><th scope=row>cg15866047</th><td>KLF1      </td><td>-0.7349165</td></tr>\n",
       "\t<tr><th scope=row>cg10589443</th><td>SCRN1     </td><td>-0.7348930</td></tr>\n",
       "\t<tr><th scope=row>cg04862556</th><td>SLFN13    </td><td>-0.7346399</td></tr>\n",
       "\t<tr><th scope=row>cg18332806</th><td>IMPACT    </td><td>-0.7337250</td></tr>\n",
       "\t<tr><th scope=row>cg14619064</th><td>MPO       </td><td>-0.7336867</td></tr>\n",
       "\t<tr><th scope=row>cg08764162</th><td>ZNF438    </td><td>-0.7330082</td></tr>\n",
       "</tbody>\n",
       "</table>\n"
      ],
      "text/latex": [
       "\\begin{tabular}{r|ll}\n",
       "  & gene & correlation\\\\\n",
       "\\hline\n",
       "\tcg11264499 & MTX3       & -0.8661598\\\\\n",
       "\tcg03583857 & CD34       & -0.8429824\\\\\n",
       "\tcg00129196 & WDR35      & -0.8372056\\\\\n",
       "\tcg26266618 & CD34       & -0.8280892\\\\\n",
       "\tcg08923054 & ANK1       & -0.8278396\\\\\n",
       "\tcg26695784 & FTO        & -0.8277260\\\\\n",
       "\tcg03276813 & SSFA2      & -0.8206695\\\\\n",
       "\tcg20293352 & CD34       & -0.8135794\\\\\n",
       "\tcg18294707 & RNASE2     & -0.8061969\\\\\n",
       "\tcg06101274 & ITPRIPL2   & -0.8061266\\\\\n",
       "\tcg09233395 & TRPS1      & -0.8054778\\\\\n",
       "\tcg09032544 & CD247      & -0.7967193\\\\\n",
       "\tcg04927537 & LGALS3BP   & -0.7965879\\\\\n",
       "\tcg20894963 & CLECL1     & -0.7951226\\\\\n",
       "\tcg14870271 & LGALS3BP   & -0.7950687\\\\\n",
       "\tcg19433066 & SUCLG2     & -0.7937598\\\\\n",
       "\tcg09303701 & WDR35      & -0.7934741\\\\\n",
       "\tcg09705174 & SSFA2      & -0.7927245\\\\\n",
       "\tcg07703372 & SUCLG2     & -0.7919559\\\\\n",
       "\tcg11197418 & SUCLG2     & -0.7913196\\\\\n",
       "\tcg03046812 & SLC41A1    & -0.7899232\\\\\n",
       "\tcg07062476 & MTX3       & -0.7873957\\\\\n",
       "\tcg12293132 & C7orf46    & -0.7858766\\\\\n",
       "\tcg05655806 & CD96       & -0.7857778\\\\\n",
       "\tcg03990033 & CD34       & -0.7819445\\\\\n",
       "\tcg02138358 & MPO        & -0.7805266\\\\\n",
       "\tcg09690326 & C7orf46    & -0.7800332\\\\\n",
       "\tcg03317517 & ZNF90      & -0.7794964\\\\\n",
       "\tcg24129356 & HLA-DMA    & -0.7790760\\\\\n",
       "\tcg16563370 & SLFN13     & -0.7786577\\\\\n",
       "\t⋮ & ⋮ & ⋮\\\\\n",
       "\tcg27040423 & CHFR       & -0.7466806\\\\\n",
       "\tcg24897127 & IFITM3     & -0.7461437\\\\\n",
       "\tcg04066396 & PKP4       & -0.7461434\\\\\n",
       "\tcg21273703 & CHFR       & -0.7450175\\\\\n",
       "\tcg23889684 & APOL3      & -0.7448229\\\\\n",
       "\tcg21645164 & CHFR       & -0.7419218\\\\\n",
       "\tcg11202345 & LGALS3BP   & -0.7414495\\\\\n",
       "\tcg06062848 & ZCCHC2     & -0.7408221\\\\\n",
       "\tcg03909781 & KIAA0495   & -0.7406983\\\\\n",
       "\tcg24934561 & KIAA0495   & -0.7404791\\\\\n",
       "\tcg06998765 & RPS6KL1    & -0.7401114\\\\\n",
       "\tcg25178683 & LGALS3BP   & -0.7392017\\\\\n",
       "\tcg06685724 & C7orf46    & -0.7387195\\\\\n",
       "\tcg01570551 & C7orf46    & -0.7386328\\\\\n",
       "\tcg00068305 & CSNK1G3    & -0.7385896\\\\\n",
       "\tcg16291276 & CD34       & -0.7385062\\\\\n",
       "\tcg05954276 & CSNK1G3    & -0.7381876\\\\\n",
       "\tcg16732469 & ZFP3       & -0.7374773\\\\\n",
       "\tcg00837649 & SUCLG2     & -0.7371309\\\\\n",
       "\tcg17848531 & SSFA2      & -0.7368234\\\\\n",
       "\tcg24737783 & C1orf59    & -0.7358695\\\\\n",
       "\tcg15880738 & CD3G       & -0.7351060\\\\\n",
       "\tcg16124934 & RPS6KL1    & -0.7350926\\\\\n",
       "\tcg13922442 & TARP       & -0.7349775\\\\\n",
       "\tcg15866047 & KLF1       & -0.7349165\\\\\n",
       "\tcg10589443 & SCRN1      & -0.7348930\\\\\n",
       "\tcg04862556 & SLFN13     & -0.7346399\\\\\n",
       "\tcg18332806 & IMPACT     & -0.7337250\\\\\n",
       "\tcg14619064 & MPO        & -0.7336867\\\\\n",
       "\tcg08764162 & ZNF438     & -0.7330082\\\\\n",
       "\\end{tabular}\n"
      ],
      "text/markdown": [
       "\n",
       "| <!--/--> | gene | correlation | \n",
       "|---|---|---|---|---|---|---|---|---|---|---|---|---|---|---|---|---|---|---|---|---|---|---|---|---|---|---|---|---|---|---|---|---|---|---|---|---|---|---|---|---|---|---|---|---|---|---|---|---|---|---|---|---|---|---|---|---|---|---|---|---|\n",
       "| cg11264499 | MTX3       | -0.8661598 | \n",
       "| cg03583857 | CD34       | -0.8429824 | \n",
       "| cg00129196 | WDR35      | -0.8372056 | \n",
       "| cg26266618 | CD34       | -0.8280892 | \n",
       "| cg08923054 | ANK1       | -0.8278396 | \n",
       "| cg26695784 | FTO        | -0.8277260 | \n",
       "| cg03276813 | SSFA2      | -0.8206695 | \n",
       "| cg20293352 | CD34       | -0.8135794 | \n",
       "| cg18294707 | RNASE2     | -0.8061969 | \n",
       "| cg06101274 | ITPRIPL2   | -0.8061266 | \n",
       "| cg09233395 | TRPS1      | -0.8054778 | \n",
       "| cg09032544 | CD247      | -0.7967193 | \n",
       "| cg04927537 | LGALS3BP   | -0.7965879 | \n",
       "| cg20894963 | CLECL1     | -0.7951226 | \n",
       "| cg14870271 | LGALS3BP   | -0.7950687 | \n",
       "| cg19433066 | SUCLG2     | -0.7937598 | \n",
       "| cg09303701 | WDR35      | -0.7934741 | \n",
       "| cg09705174 | SSFA2      | -0.7927245 | \n",
       "| cg07703372 | SUCLG2     | -0.7919559 | \n",
       "| cg11197418 | SUCLG2     | -0.7913196 | \n",
       "| cg03046812 | SLC41A1    | -0.7899232 | \n",
       "| cg07062476 | MTX3       | -0.7873957 | \n",
       "| cg12293132 | C7orf46    | -0.7858766 | \n",
       "| cg05655806 | CD96       | -0.7857778 | \n",
       "| cg03990033 | CD34       | -0.7819445 | \n",
       "| cg02138358 | MPO        | -0.7805266 | \n",
       "| cg09690326 | C7orf46    | -0.7800332 | \n",
       "| cg03317517 | ZNF90      | -0.7794964 | \n",
       "| cg24129356 | HLA-DMA    | -0.7790760 | \n",
       "| cg16563370 | SLFN13     | -0.7786577 | \n",
       "| ⋮ | ⋮ | ⋮ | \n",
       "| cg27040423 | CHFR       | -0.7466806 | \n",
       "| cg24897127 | IFITM3     | -0.7461437 | \n",
       "| cg04066396 | PKP4       | -0.7461434 | \n",
       "| cg21273703 | CHFR       | -0.7450175 | \n",
       "| cg23889684 | APOL3      | -0.7448229 | \n",
       "| cg21645164 | CHFR       | -0.7419218 | \n",
       "| cg11202345 | LGALS3BP   | -0.7414495 | \n",
       "| cg06062848 | ZCCHC2     | -0.7408221 | \n",
       "| cg03909781 | KIAA0495   | -0.7406983 | \n",
       "| cg24934561 | KIAA0495   | -0.7404791 | \n",
       "| cg06998765 | RPS6KL1    | -0.7401114 | \n",
       "| cg25178683 | LGALS3BP   | -0.7392017 | \n",
       "| cg06685724 | C7orf46    | -0.7387195 | \n",
       "| cg01570551 | C7orf46    | -0.7386328 | \n",
       "| cg00068305 | CSNK1G3    | -0.7385896 | \n",
       "| cg16291276 | CD34       | -0.7385062 | \n",
       "| cg05954276 | CSNK1G3    | -0.7381876 | \n",
       "| cg16732469 | ZFP3       | -0.7374773 | \n",
       "| cg00837649 | SUCLG2     | -0.7371309 | \n",
       "| cg17848531 | SSFA2      | -0.7368234 | \n",
       "| cg24737783 | C1orf59    | -0.7358695 | \n",
       "| cg15880738 | CD3G       | -0.7351060 | \n",
       "| cg16124934 | RPS6KL1    | -0.7350926 | \n",
       "| cg13922442 | TARP       | -0.7349775 | \n",
       "| cg15866047 | KLF1       | -0.7349165 | \n",
       "| cg10589443 | SCRN1      | -0.7348930 | \n",
       "| cg04862556 | SLFN13     | -0.7346399 | \n",
       "| cg18332806 | IMPACT     | -0.7337250 | \n",
       "| cg14619064 | MPO        | -0.7336867 | \n",
       "| cg08764162 | ZNF438     | -0.7330082 | \n",
       "\n",
       "\n"
      ],
      "text/plain": [
       "           gene     correlation\n",
       "cg11264499 MTX3     -0.8661598 \n",
       "cg03583857 CD34     -0.8429824 \n",
       "cg00129196 WDR35    -0.8372056 \n",
       "cg26266618 CD34     -0.8280892 \n",
       "cg08923054 ANK1     -0.8278396 \n",
       "cg26695784 FTO      -0.8277260 \n",
       "cg03276813 SSFA2    -0.8206695 \n",
       "cg20293352 CD34     -0.8135794 \n",
       "cg18294707 RNASE2   -0.8061969 \n",
       "cg06101274 ITPRIPL2 -0.8061266 \n",
       "cg09233395 TRPS1    -0.8054778 \n",
       "cg09032544 CD247    -0.7967193 \n",
       "cg04927537 LGALS3BP -0.7965879 \n",
       "cg20894963 CLECL1   -0.7951226 \n",
       "cg14870271 LGALS3BP -0.7950687 \n",
       "cg19433066 SUCLG2   -0.7937598 \n",
       "cg09303701 WDR35    -0.7934741 \n",
       "cg09705174 SSFA2    -0.7927245 \n",
       "cg07703372 SUCLG2   -0.7919559 \n",
       "cg11197418 SUCLG2   -0.7913196 \n",
       "cg03046812 SLC41A1  -0.7899232 \n",
       "cg07062476 MTX3     -0.7873957 \n",
       "cg12293132 C7orf46  -0.7858766 \n",
       "cg05655806 CD96     -0.7857778 \n",
       "cg03990033 CD34     -0.7819445 \n",
       "cg02138358 MPO      -0.7805266 \n",
       "cg09690326 C7orf46  -0.7800332 \n",
       "cg03317517 ZNF90    -0.7794964 \n",
       "cg24129356 HLA-DMA  -0.7790760 \n",
       "cg16563370 SLFN13   -0.7786577 \n",
       "⋮          ⋮        ⋮          \n",
       "cg27040423 CHFR     -0.7466806 \n",
       "cg24897127 IFITM3   -0.7461437 \n",
       "cg04066396 PKP4     -0.7461434 \n",
       "cg21273703 CHFR     -0.7450175 \n",
       "cg23889684 APOL3    -0.7448229 \n",
       "cg21645164 CHFR     -0.7419218 \n",
       "cg11202345 LGALS3BP -0.7414495 \n",
       "cg06062848 ZCCHC2   -0.7408221 \n",
       "cg03909781 KIAA0495 -0.7406983 \n",
       "cg24934561 KIAA0495 -0.7404791 \n",
       "cg06998765 RPS6KL1  -0.7401114 \n",
       "cg25178683 LGALS3BP -0.7392017 \n",
       "cg06685724 C7orf46  -0.7387195 \n",
       "cg01570551 C7orf46  -0.7386328 \n",
       "cg00068305 CSNK1G3  -0.7385896 \n",
       "cg16291276 CD34     -0.7385062 \n",
       "cg05954276 CSNK1G3  -0.7381876 \n",
       "cg16732469 ZFP3     -0.7374773 \n",
       "cg00837649 SUCLG2   -0.7371309 \n",
       "cg17848531 SSFA2    -0.7368234 \n",
       "cg24737783 C1orf59  -0.7358695 \n",
       "cg15880738 CD3G     -0.7351060 \n",
       "cg16124934 RPS6KL1  -0.7350926 \n",
       "cg13922442 TARP     -0.7349775 \n",
       "cg15866047 KLF1     -0.7349165 \n",
       "cg10589443 SCRN1    -0.7348930 \n",
       "cg04862556 SLFN13   -0.7346399 \n",
       "cg18332806 IMPACT   -0.7337250 \n",
       "cg14619064 MPO      -0.7336867 \n",
       "cg08764162 ZNF438   -0.7330082 "
      ]
     },
     "metadata": {},
     "output_type": "display_data"
    }
   ],
   "source": [
    "topCorrelated <- correlation[order(correlation$correlation),][1:100,]\n",
    "topCorrelated"
   ]
  },
  {
   "cell_type": "code",
   "execution_count": 52,
   "metadata": {},
   "outputs": [],
   "source": [
    "write.table(topCorrelated, file='../data/processed/negCorProbes/topNegCorProbesAllM.tsv', quote=F, row.names=T, \n",
    "           col.names=T, sep='\\t')"
   ]
  },
  {
   "cell_type": "markdown",
   "metadata": {},
   "source": [
    "#### correlation (all B)"
   ]
  },
  {
   "cell_type": "code",
   "execution_count": 53,
   "metadata": {},
   "outputs": [],
   "source": [
    "load('../data/processed/CorrelationB.RData')"
   ]
  },
  {
   "cell_type": "code",
   "execution_count": 54,
   "metadata": {},
   "outputs": [
    {
     "data": {
      "text/html": [
       "<table>\n",
       "<thead><tr><th></th><th scope=col>gene</th><th scope=col>correlation</th></tr></thead>\n",
       "<tbody>\n",
       "\t<tr><th scope=row>cg03276813</th><td>SSFA2     </td><td>-0.8777801</td></tr>\n",
       "\t<tr><th scope=row>cg05210131</th><td>SSFA2     </td><td>-0.8760448</td></tr>\n",
       "\t<tr><th scope=row>cg09705174</th><td>SSFA2     </td><td>-0.8538425</td></tr>\n",
       "\t<tr><th scope=row>cg00129196</th><td>WDR35     </td><td>-0.8525473</td></tr>\n",
       "\t<tr><th scope=row>cg11264499</th><td>MTX3      </td><td>-0.8483651</td></tr>\n",
       "\t<tr><th scope=row>cg03583857</th><td>CD34      </td><td>-0.8440297</td></tr>\n",
       "\t<tr><th scope=row>cg26695784</th><td>FTO       </td><td>-0.8389124</td></tr>\n",
       "\t<tr><th scope=row>cg26266618</th><td>CD34      </td><td>-0.8363744</td></tr>\n",
       "\t<tr><th scope=row>cg19990182</th><td>WDR35     </td><td>-0.8167212</td></tr>\n",
       "\t<tr><th scope=row>cg02516189</th><td>CARD9     </td><td>-0.8093841</td></tr>\n",
       "\t<tr><th scope=row>cg07062476</th><td>MTX3      </td><td>-0.8088739</td></tr>\n",
       "\t<tr><th scope=row>cg02477380</th><td>UBE3C     </td><td>-0.8086369</td></tr>\n",
       "\t<tr><th scope=row>cg13314310</th><td>WDR35     </td><td>-0.8058012</td></tr>\n",
       "\t<tr><th scope=row>cg09233395</th><td>TRPS1     </td><td>-0.8033993</td></tr>\n",
       "\t<tr><th scope=row>cg18294707</th><td>RNASE2    </td><td>-0.8025127</td></tr>\n",
       "\t<tr><th scope=row>cg04927537</th><td>LGALS3BP  </td><td>-0.8001134</td></tr>\n",
       "\t<tr><th scope=row>cg15790214</th><td>HCG11     </td><td>-0.7996459</td></tr>\n",
       "\t<tr><th scope=row>cg14870271</th><td>LGALS3BP  </td><td>-0.7991700</td></tr>\n",
       "\t<tr><th scope=row>cg11197418</th><td>SUCLG2    </td><td>-0.7987677</td></tr>\n",
       "\t<tr><th scope=row>cg17848531</th><td>SSFA2     </td><td>-0.7962246</td></tr>\n",
       "\t<tr><th scope=row>cg09303701</th><td>WDR35     </td><td>-0.7950861</td></tr>\n",
       "\t<tr><th scope=row>cg08923054</th><td>ANK1      </td><td>-0.7932538</td></tr>\n",
       "\t<tr><th scope=row>cg07914866</th><td>IRAK3     </td><td>-0.7918930</td></tr>\n",
       "\t<tr><th scope=row>cg12293132</th><td>C7orf46   </td><td>-0.7907572</td></tr>\n",
       "\t<tr><th scope=row>cg03046812</th><td>SLC41A1   </td><td>-0.7900547</td></tr>\n",
       "\t<tr><th scope=row>cg02852407</th><td>CD34      </td><td>-0.7895896</td></tr>\n",
       "\t<tr><th scope=row>cg13699657</th><td>UBE3C     </td><td>-0.7867203</td></tr>\n",
       "\t<tr><th scope=row>cg20894963</th><td>CLECL1    </td><td>-0.7853275</td></tr>\n",
       "\t<tr><th scope=row>cg05655806</th><td>CD96      </td><td>-0.7848512</td></tr>\n",
       "\t<tr><th scope=row>cg02138358</th><td>MPO       </td><td>-0.7819778</td></tr>\n",
       "\t<tr><th scope=row>⋮</th><td>⋮</td><td>⋮</td></tr>\n",
       "\t<tr><th scope=row>cg25247351</th><td>HLA-DMB   </td><td>-0.7483772</td></tr>\n",
       "\t<tr><th scope=row>cg20516209</th><td>EMILIN1   </td><td>-0.7480814</td></tr>\n",
       "\t<tr><th scope=row>cg16300030</th><td>HLA-DMB   </td><td>-0.7474555</td></tr>\n",
       "\t<tr><th scope=row>cg21781828</th><td>MTX3      </td><td>-0.7460609</td></tr>\n",
       "\t<tr><th scope=row>cg00328227</th><td>C1orf59   </td><td>-0.7460529</td></tr>\n",
       "\t<tr><th scope=row>cg03317517</th><td>ZNF90     </td><td>-0.7455716</td></tr>\n",
       "\t<tr><th scope=row>cg05253480</th><td>IL17RE    </td><td>-0.7453648</td></tr>\n",
       "\t<tr><th scope=row>cg07611334</th><td>NRSN2     </td><td>-0.7443650</td></tr>\n",
       "\t<tr><th scope=row>cg18332806</th><td>IMPACT    </td><td>-0.7443301</td></tr>\n",
       "\t<tr><th scope=row>cg26162794</th><td>CCDC144B  </td><td>-0.7442365</td></tr>\n",
       "\t<tr><th scope=row>cg24897127</th><td>IFITM3    </td><td>-0.7437390</td></tr>\n",
       "\t<tr><th scope=row>cg18874902</th><td>CSNK1G3   </td><td>-0.7430303</td></tr>\n",
       "\t<tr><th scope=row>cg19210276</th><td>CTNND1    </td><td>-0.7417592</td></tr>\n",
       "\t<tr><th scope=row>cg00470794</th><td>CHFR      </td><td>-0.7417550</td></tr>\n",
       "\t<tr><th scope=row>cg02631957</th><td>CSNK1G3   </td><td>-0.7414908</td></tr>\n",
       "\t<tr><th scope=row>cg20995835</th><td>CCDC144B  </td><td>-0.7414762</td></tr>\n",
       "\t<tr><th scope=row>cg03609308</th><td>KIAA0495  </td><td>-0.7413475</td></tr>\n",
       "\t<tr><th scope=row>cg15063355</th><td>CHFR      </td><td>-0.7391952</td></tr>\n",
       "\t<tr><th scope=row>cg04862556</th><td>SLFN13    </td><td>-0.7382191</td></tr>\n",
       "\t<tr><th scope=row>cg20331595</th><td>NRSN2     </td><td>-0.7379938</td></tr>\n",
       "\t<tr><th scope=row>cg15880738</th><td>CD3G      </td><td>-0.7373257</td></tr>\n",
       "\t<tr><th scope=row>cg25619607</th><td>IMPACT    </td><td>-0.7372161</td></tr>\n",
       "\t<tr><th scope=row>cg12551582</th><td>CHFR      </td><td>-0.7362669</td></tr>\n",
       "\t<tr><th scope=row>cg14030674</th><td>ANK1      </td><td>-0.7361150</td></tr>\n",
       "\t<tr><th scope=row>cg25178683</th><td>LGALS3BP  </td><td>-0.7354804</td></tr>\n",
       "\t<tr><th scope=row>cg06062848</th><td>ZCCHC2    </td><td>-0.7353204</td></tr>\n",
       "\t<tr><th scope=row>cg03013329</th><td>IMPACT    </td><td>-0.7346200</td></tr>\n",
       "\t<tr><th scope=row>cg23889684</th><td>APOL3     </td><td>-0.7345701</td></tr>\n",
       "\t<tr><th scope=row>cg27040423</th><td>CHFR      </td><td>-0.7334967</td></tr>\n",
       "\t<tr><th scope=row>cg10831212</th><td>CTNND1    </td><td>-0.7326544</td></tr>\n",
       "</tbody>\n",
       "</table>\n"
      ],
      "text/latex": [
       "\\begin{tabular}{r|ll}\n",
       "  & gene & correlation\\\\\n",
       "\\hline\n",
       "\tcg03276813 & SSFA2      & -0.8777801\\\\\n",
       "\tcg05210131 & SSFA2      & -0.8760448\\\\\n",
       "\tcg09705174 & SSFA2      & -0.8538425\\\\\n",
       "\tcg00129196 & WDR35      & -0.8525473\\\\\n",
       "\tcg11264499 & MTX3       & -0.8483651\\\\\n",
       "\tcg03583857 & CD34       & -0.8440297\\\\\n",
       "\tcg26695784 & FTO        & -0.8389124\\\\\n",
       "\tcg26266618 & CD34       & -0.8363744\\\\\n",
       "\tcg19990182 & WDR35      & -0.8167212\\\\\n",
       "\tcg02516189 & CARD9      & -0.8093841\\\\\n",
       "\tcg07062476 & MTX3       & -0.8088739\\\\\n",
       "\tcg02477380 & UBE3C      & -0.8086369\\\\\n",
       "\tcg13314310 & WDR35      & -0.8058012\\\\\n",
       "\tcg09233395 & TRPS1      & -0.8033993\\\\\n",
       "\tcg18294707 & RNASE2     & -0.8025127\\\\\n",
       "\tcg04927537 & LGALS3BP   & -0.8001134\\\\\n",
       "\tcg15790214 & HCG11      & -0.7996459\\\\\n",
       "\tcg14870271 & LGALS3BP   & -0.7991700\\\\\n",
       "\tcg11197418 & SUCLG2     & -0.7987677\\\\\n",
       "\tcg17848531 & SSFA2      & -0.7962246\\\\\n",
       "\tcg09303701 & WDR35      & -0.7950861\\\\\n",
       "\tcg08923054 & ANK1       & -0.7932538\\\\\n",
       "\tcg07914866 & IRAK3      & -0.7918930\\\\\n",
       "\tcg12293132 & C7orf46    & -0.7907572\\\\\n",
       "\tcg03046812 & SLC41A1    & -0.7900547\\\\\n",
       "\tcg02852407 & CD34       & -0.7895896\\\\\n",
       "\tcg13699657 & UBE3C      & -0.7867203\\\\\n",
       "\tcg20894963 & CLECL1     & -0.7853275\\\\\n",
       "\tcg05655806 & CD96       & -0.7848512\\\\\n",
       "\tcg02138358 & MPO        & -0.7819778\\\\\n",
       "\t⋮ & ⋮ & ⋮\\\\\n",
       "\tcg25247351 & HLA-DMB    & -0.7483772\\\\\n",
       "\tcg20516209 & EMILIN1    & -0.7480814\\\\\n",
       "\tcg16300030 & HLA-DMB    & -0.7474555\\\\\n",
       "\tcg21781828 & MTX3       & -0.7460609\\\\\n",
       "\tcg00328227 & C1orf59    & -0.7460529\\\\\n",
       "\tcg03317517 & ZNF90      & -0.7455716\\\\\n",
       "\tcg05253480 & IL17RE     & -0.7453648\\\\\n",
       "\tcg07611334 & NRSN2      & -0.7443650\\\\\n",
       "\tcg18332806 & IMPACT     & -0.7443301\\\\\n",
       "\tcg26162794 & CCDC144B   & -0.7442365\\\\\n",
       "\tcg24897127 & IFITM3     & -0.7437390\\\\\n",
       "\tcg18874902 & CSNK1G3    & -0.7430303\\\\\n",
       "\tcg19210276 & CTNND1     & -0.7417592\\\\\n",
       "\tcg00470794 & CHFR       & -0.7417550\\\\\n",
       "\tcg02631957 & CSNK1G3    & -0.7414908\\\\\n",
       "\tcg20995835 & CCDC144B   & -0.7414762\\\\\n",
       "\tcg03609308 & KIAA0495   & -0.7413475\\\\\n",
       "\tcg15063355 & CHFR       & -0.7391952\\\\\n",
       "\tcg04862556 & SLFN13     & -0.7382191\\\\\n",
       "\tcg20331595 & NRSN2      & -0.7379938\\\\\n",
       "\tcg15880738 & CD3G       & -0.7373257\\\\\n",
       "\tcg25619607 & IMPACT     & -0.7372161\\\\\n",
       "\tcg12551582 & CHFR       & -0.7362669\\\\\n",
       "\tcg14030674 & ANK1       & -0.7361150\\\\\n",
       "\tcg25178683 & LGALS3BP   & -0.7354804\\\\\n",
       "\tcg06062848 & ZCCHC2     & -0.7353204\\\\\n",
       "\tcg03013329 & IMPACT     & -0.7346200\\\\\n",
       "\tcg23889684 & APOL3      & -0.7345701\\\\\n",
       "\tcg27040423 & CHFR       & -0.7334967\\\\\n",
       "\tcg10831212 & CTNND1     & -0.7326544\\\\\n",
       "\\end{tabular}\n"
      ],
      "text/markdown": [
       "\n",
       "| <!--/--> | gene | correlation | \n",
       "|---|---|---|---|---|---|---|---|---|---|---|---|---|---|---|---|---|---|---|---|---|---|---|---|---|---|---|---|---|---|---|---|---|---|---|---|---|---|---|---|---|---|---|---|---|---|---|---|---|---|---|---|---|---|---|---|---|---|---|---|---|\n",
       "| cg03276813 | SSFA2      | -0.8777801 | \n",
       "| cg05210131 | SSFA2      | -0.8760448 | \n",
       "| cg09705174 | SSFA2      | -0.8538425 | \n",
       "| cg00129196 | WDR35      | -0.8525473 | \n",
       "| cg11264499 | MTX3       | -0.8483651 | \n",
       "| cg03583857 | CD34       | -0.8440297 | \n",
       "| cg26695784 | FTO        | -0.8389124 | \n",
       "| cg26266618 | CD34       | -0.8363744 | \n",
       "| cg19990182 | WDR35      | -0.8167212 | \n",
       "| cg02516189 | CARD9      | -0.8093841 | \n",
       "| cg07062476 | MTX3       | -0.8088739 | \n",
       "| cg02477380 | UBE3C      | -0.8086369 | \n",
       "| cg13314310 | WDR35      | -0.8058012 | \n",
       "| cg09233395 | TRPS1      | -0.8033993 | \n",
       "| cg18294707 | RNASE2     | -0.8025127 | \n",
       "| cg04927537 | LGALS3BP   | -0.8001134 | \n",
       "| cg15790214 | HCG11      | -0.7996459 | \n",
       "| cg14870271 | LGALS3BP   | -0.7991700 | \n",
       "| cg11197418 | SUCLG2     | -0.7987677 | \n",
       "| cg17848531 | SSFA2      | -0.7962246 | \n",
       "| cg09303701 | WDR35      | -0.7950861 | \n",
       "| cg08923054 | ANK1       | -0.7932538 | \n",
       "| cg07914866 | IRAK3      | -0.7918930 | \n",
       "| cg12293132 | C7orf46    | -0.7907572 | \n",
       "| cg03046812 | SLC41A1    | -0.7900547 | \n",
       "| cg02852407 | CD34       | -0.7895896 | \n",
       "| cg13699657 | UBE3C      | -0.7867203 | \n",
       "| cg20894963 | CLECL1     | -0.7853275 | \n",
       "| cg05655806 | CD96       | -0.7848512 | \n",
       "| cg02138358 | MPO        | -0.7819778 | \n",
       "| ⋮ | ⋮ | ⋮ | \n",
       "| cg25247351 | HLA-DMB    | -0.7483772 | \n",
       "| cg20516209 | EMILIN1    | -0.7480814 | \n",
       "| cg16300030 | HLA-DMB    | -0.7474555 | \n",
       "| cg21781828 | MTX3       | -0.7460609 | \n",
       "| cg00328227 | C1orf59    | -0.7460529 | \n",
       "| cg03317517 | ZNF90      | -0.7455716 | \n",
       "| cg05253480 | IL17RE     | -0.7453648 | \n",
       "| cg07611334 | NRSN2      | -0.7443650 | \n",
       "| cg18332806 | IMPACT     | -0.7443301 | \n",
       "| cg26162794 | CCDC144B   | -0.7442365 | \n",
       "| cg24897127 | IFITM3     | -0.7437390 | \n",
       "| cg18874902 | CSNK1G3    | -0.7430303 | \n",
       "| cg19210276 | CTNND1     | -0.7417592 | \n",
       "| cg00470794 | CHFR       | -0.7417550 | \n",
       "| cg02631957 | CSNK1G3    | -0.7414908 | \n",
       "| cg20995835 | CCDC144B   | -0.7414762 | \n",
       "| cg03609308 | KIAA0495   | -0.7413475 | \n",
       "| cg15063355 | CHFR       | -0.7391952 | \n",
       "| cg04862556 | SLFN13     | -0.7382191 | \n",
       "| cg20331595 | NRSN2      | -0.7379938 | \n",
       "| cg15880738 | CD3G       | -0.7373257 | \n",
       "| cg25619607 | IMPACT     | -0.7372161 | \n",
       "| cg12551582 | CHFR       | -0.7362669 | \n",
       "| cg14030674 | ANK1       | -0.7361150 | \n",
       "| cg25178683 | LGALS3BP   | -0.7354804 | \n",
       "| cg06062848 | ZCCHC2     | -0.7353204 | \n",
       "| cg03013329 | IMPACT     | -0.7346200 | \n",
       "| cg23889684 | APOL3      | -0.7345701 | \n",
       "| cg27040423 | CHFR       | -0.7334967 | \n",
       "| cg10831212 | CTNND1     | -0.7326544 | \n",
       "\n",
       "\n"
      ],
      "text/plain": [
       "           gene     correlation\n",
       "cg03276813 SSFA2    -0.8777801 \n",
       "cg05210131 SSFA2    -0.8760448 \n",
       "cg09705174 SSFA2    -0.8538425 \n",
       "cg00129196 WDR35    -0.8525473 \n",
       "cg11264499 MTX3     -0.8483651 \n",
       "cg03583857 CD34     -0.8440297 \n",
       "cg26695784 FTO      -0.8389124 \n",
       "cg26266618 CD34     -0.8363744 \n",
       "cg19990182 WDR35    -0.8167212 \n",
       "cg02516189 CARD9    -0.8093841 \n",
       "cg07062476 MTX3     -0.8088739 \n",
       "cg02477380 UBE3C    -0.8086369 \n",
       "cg13314310 WDR35    -0.8058012 \n",
       "cg09233395 TRPS1    -0.8033993 \n",
       "cg18294707 RNASE2   -0.8025127 \n",
       "cg04927537 LGALS3BP -0.8001134 \n",
       "cg15790214 HCG11    -0.7996459 \n",
       "cg14870271 LGALS3BP -0.7991700 \n",
       "cg11197418 SUCLG2   -0.7987677 \n",
       "cg17848531 SSFA2    -0.7962246 \n",
       "cg09303701 WDR35    -0.7950861 \n",
       "cg08923054 ANK1     -0.7932538 \n",
       "cg07914866 IRAK3    -0.7918930 \n",
       "cg12293132 C7orf46  -0.7907572 \n",
       "cg03046812 SLC41A1  -0.7900547 \n",
       "cg02852407 CD34     -0.7895896 \n",
       "cg13699657 UBE3C    -0.7867203 \n",
       "cg20894963 CLECL1   -0.7853275 \n",
       "cg05655806 CD96     -0.7848512 \n",
       "cg02138358 MPO      -0.7819778 \n",
       "⋮          ⋮        ⋮          \n",
       "cg25247351 HLA-DMB  -0.7483772 \n",
       "cg20516209 EMILIN1  -0.7480814 \n",
       "cg16300030 HLA-DMB  -0.7474555 \n",
       "cg21781828 MTX3     -0.7460609 \n",
       "cg00328227 C1orf59  -0.7460529 \n",
       "cg03317517 ZNF90    -0.7455716 \n",
       "cg05253480 IL17RE   -0.7453648 \n",
       "cg07611334 NRSN2    -0.7443650 \n",
       "cg18332806 IMPACT   -0.7443301 \n",
       "cg26162794 CCDC144B -0.7442365 \n",
       "cg24897127 IFITM3   -0.7437390 \n",
       "cg18874902 CSNK1G3  -0.7430303 \n",
       "cg19210276 CTNND1   -0.7417592 \n",
       "cg00470794 CHFR     -0.7417550 \n",
       "cg02631957 CSNK1G3  -0.7414908 \n",
       "cg20995835 CCDC144B -0.7414762 \n",
       "cg03609308 KIAA0495 -0.7413475 \n",
       "cg15063355 CHFR     -0.7391952 \n",
       "cg04862556 SLFN13   -0.7382191 \n",
       "cg20331595 NRSN2    -0.7379938 \n",
       "cg15880738 CD3G     -0.7373257 \n",
       "cg25619607 IMPACT   -0.7372161 \n",
       "cg12551582 CHFR     -0.7362669 \n",
       "cg14030674 ANK1     -0.7361150 \n",
       "cg25178683 LGALS3BP -0.7354804 \n",
       "cg06062848 ZCCHC2   -0.7353204 \n",
       "cg03013329 IMPACT   -0.7346200 \n",
       "cg23889684 APOL3    -0.7345701 \n",
       "cg27040423 CHFR     -0.7334967 \n",
       "cg10831212 CTNND1   -0.7326544 "
      ]
     },
     "metadata": {},
     "output_type": "display_data"
    }
   ],
   "source": [
    "topCorrelated <- correlation[order(correlation$correlation),][1:100,]\n",
    "topCorrelated"
   ]
  },
  {
   "cell_type": "code",
   "execution_count": 55,
   "metadata": {},
   "outputs": [],
   "source": [
    "write.table(topCorrelated, file='../data/processed/negCorProbes/topNegCorProbesAllB.tsv', quote=F, row.names=T, \n",
    "           col.names=T, sep='\\t')"
   ]
  },
  {
   "cell_type": "markdown",
   "metadata": {},
   "source": [
    "### Promoter"
   ]
  },
  {
   "cell_type": "code",
   "execution_count": 56,
   "metadata": {},
   "outputs": [],
   "source": [
    "load('../data/processed/CorrelationPromoterM.RData')"
   ]
  },
  {
   "cell_type": "code",
   "execution_count": 57,
   "metadata": {},
   "outputs": [
    {
     "data": {
      "text/html": [
       "<ol class=list-inline>\n",
       "\t<li>29321</li>\n",
       "\t<li>2</li>\n",
       "</ol>\n"
      ],
      "text/latex": [
       "\\begin{enumerate*}\n",
       "\\item 29321\n",
       "\\item 2\n",
       "\\end{enumerate*}\n"
      ],
      "text/markdown": [
       "1. 29321\n",
       "2. 2\n",
       "\n",
       "\n"
      ],
      "text/plain": [
       "[1] 29321     2"
      ]
     },
     "metadata": {},
     "output_type": "display_data"
    }
   ],
   "source": [
    "dim(correlation)"
   ]
  },
  {
   "cell_type": "code",
   "execution_count": 58,
   "metadata": {},
   "outputs": [
    {
     "data": {
      "text/html": [
       "8264"
      ],
      "text/latex": [
       "8264"
      ],
      "text/markdown": [
       "8264"
      ],
      "text/plain": [
       "[1] 8264"
      ]
     },
     "metadata": {},
     "output_type": "display_data"
    }
   ],
   "source": [
    "length(unique(correlation$gene))"
   ]
  },
  {
   "cell_type": "code",
   "execution_count": 59,
   "metadata": {},
   "outputs": [
    {
     "data": {
      "text/plain": [
       "\n",
       "     GNAS      HIC1      GFI1     BLCAP      BRD2     KCNQ1     RUNX3      BAT3 \n",
       "       74        49        47        39        39        35        31        30 \n",
       "    CCND2    OSBPL5    TRIM26     ASCL2     CCNA1    FGFRL1      TNXB     EHMT2 \n",
       "       30        29        29        28        28        28        28        27 \n",
       "     PAOX    BRP44L     PSMB8     GRB10    ATP10A     CCND1    HNRNPF      DAXX \n",
       "       27        26        26        25        24        24        24        23 \n",
       "    TSSC4      BAT2    LY6G5C      UBTF    ZBTB12      CHFR      CTSZ     DUSP1 \n",
       "       23        21        21        21        21        20        20        20 \n",
       "    TGIF1      BCL2      CD81   COL11A2    DNMT3A      HLTF      LDB1    NAP1L4 \n",
       "       20        19        19        19        19        19        19        19 \n",
       "  C5orf13      CREM       GPT    HDAC11       MYC     RAB1B     SEPT9      SGK1 \n",
       "       18        18        18        18        18        18        18        18 \n",
       "    YWHAZ   ANKRD11       BIK     EIF5A     PEX10    RASSF1   SLC12A6       AGL \n",
       "       18        17        17        17        17        17        17        16 \n",
       "   CDKN1C    CITED2     HMGB2    L3MBTL      MSL2      PHF1   PLEKHB1   PPP1R11 \n",
       "       16        16        16        16        16        16        16        16 \n",
       "     TCF7     ALDOA    FBRSL1      GALE    HSPA1B     KCTD1     MGAT1     MTIF3 \n",
       "       16        15        15        15        15        15        15        15 \n",
       "    NFKB2      PEX5    PNPLA6     THBS1    UBE2D3      UGP2     ABCG1      ANK1 \n",
       "       15        15        15        15        15        15        14        14 \n",
       "   ATP5G2     CRLS1     EHBP1    HOMER3      JDP2    KCNIP4      KRAS LOC285830 \n",
       "       14        14        14        14        14        14        14        14 \n",
       " PRICKLE1      RBPJ      RCC2     STMN1     SYNE1     UBE3A     UHRF1   CABLES1 \n",
       "       14        14        14        14        14        14        14        13 \n",
       "    CREB5       DUT     FKBP2    GABBR1 \n",
       "       13        13        13        13 "
      ]
     },
     "metadata": {},
     "output_type": "display_data"
    }
   ],
   "source": [
    "sort(table(correlation$gene), decreasing=T)[1:100]"
   ]
  },
  {
   "cell_type": "markdown",
   "metadata": {},
   "source": [
    "#### correlation (promoter M)"
   ]
  },
  {
   "cell_type": "code",
   "execution_count": 60,
   "metadata": {},
   "outputs": [
    {
     "data": {
      "text/html": [
       "<table>\n",
       "<thead><tr><th></th><th scope=col>gene</th><th scope=col>correlation</th></tr></thead>\n",
       "<tbody>\n",
       "\t<tr><th scope=row>cg03583857</th><td>CD34      </td><td>-0.8429824</td></tr>\n",
       "\t<tr><th scope=row>cg26266618</th><td>CD34      </td><td>-0.8280892</td></tr>\n",
       "\t<tr><th scope=row>cg20293352</th><td>CD34      </td><td>-0.8135794</td></tr>\n",
       "\t<tr><th scope=row>cg18294707</th><td>RNASE2    </td><td>-0.8061969</td></tr>\n",
       "\t<tr><th scope=row>cg11197418</th><td>SUCLG2    </td><td>-0.7913196</td></tr>\n",
       "\t<tr><th scope=row>cg02852407</th><td>CD34      </td><td>-0.7727605</td></tr>\n",
       "\t<tr><th scope=row>cg00470794</th><td>CHFR      </td><td>-0.7659533</td></tr>\n",
       "\t<tr><th scope=row>cg27084026</th><td>CHFR      </td><td>-0.7659373</td></tr>\n",
       "\t<tr><th scope=row>cg14519294</th><td>CHFR      </td><td>-0.7603678</td></tr>\n",
       "\t<tr><th scope=row>cg00328227</th><td>C1orf59   </td><td>-0.7554652</td></tr>\n",
       "\t<tr><th scope=row>cg27040423</th><td>CHFR      </td><td>-0.7466806</td></tr>\n",
       "\t<tr><th scope=row>cg06998765</th><td>RPS6KL1   </td><td>-0.7401114</td></tr>\n",
       "\t<tr><th scope=row>cg25178683</th><td>LGALS3BP  </td><td>-0.7392017</td></tr>\n",
       "\t<tr><th scope=row>cg24737783</th><td>C1orf59   </td><td>-0.7358695</td></tr>\n",
       "\t<tr><th scope=row>cg16124934</th><td>RPS6KL1   </td><td>-0.7350926</td></tr>\n",
       "\t<tr><th scope=row>cg17317266</th><td>EPOR      </td><td>-0.7292687</td></tr>\n",
       "\t<tr><th scope=row>cg23680821</th><td>C1orf59   </td><td>-0.7233335</td></tr>\n",
       "\t<tr><th scope=row>cg18533833</th><td>CHFR      </td><td>-0.7224534</td></tr>\n",
       "\t<tr><th scope=row>cg17836612</th><td>LGALS3BP  </td><td>-0.7219269</td></tr>\n",
       "\t<tr><th scope=row>cg20516845</th><td>UBASH3A   </td><td>-0.7207183</td></tr>\n",
       "\t<tr><th scope=row>cg02835499</th><td>CBX1      </td><td>-0.7160259</td></tr>\n",
       "\t<tr><th scope=row>cg04975272</th><td>DNAJA4    </td><td>-0.7158287</td></tr>\n",
       "\t<tr><th scope=row>cg12551582</th><td>CHFR      </td><td>-0.7120361</td></tr>\n",
       "\t<tr><th scope=row>cg27067282</th><td>CRY1      </td><td>-0.7116343</td></tr>\n",
       "\t<tr><th scope=row>cg22202031</th><td>CHFR      </td><td>-0.7112596</td></tr>\n",
       "\t<tr><th scope=row>cg24777950</th><td>CTSG      </td><td>-0.7078510</td></tr>\n",
       "\t<tr><th scope=row>cg10223066</th><td>CHFR      </td><td>-0.7076599</td></tr>\n",
       "\t<tr><th scope=row>cg25402049</th><td>PRDM2     </td><td>-0.7071041</td></tr>\n",
       "\t<tr><th scope=row>cg26410484</th><td>CHFR      </td><td>-0.7046418</td></tr>\n",
       "\t<tr><th scope=row>cg13342109</th><td>CBX1      </td><td>-0.7036294</td></tr>\n",
       "\t<tr><th scope=row>⋮</th><td>⋮</td><td>⋮</td></tr>\n",
       "\t<tr><th scope=row>cg18563860</th><td>CTSZ      </td><td>-0.6505103</td></tr>\n",
       "\t<tr><th scope=row>cg06795971</th><td>TET2      </td><td>-0.6504843</td></tr>\n",
       "\t<tr><th scope=row>cg19529273</th><td>LGALS12   </td><td>-0.6427988</td></tr>\n",
       "\t<tr><th scope=row>cg01210909</th><td>TET2      </td><td>-0.6411534</td></tr>\n",
       "\t<tr><th scope=row>cg10325497</th><td>LCK       </td><td>-0.6409347</td></tr>\n",
       "\t<tr><th scope=row>cg11402700</th><td>CARKD     </td><td>-0.6395960</td></tr>\n",
       "\t<tr><th scope=row>cg02652597</th><td>VAMP5     </td><td>-0.6393489</td></tr>\n",
       "\t<tr><th scope=row>cg14330655</th><td>TET2      </td><td>-0.6370369</td></tr>\n",
       "\t<tr><th scope=row>cg05725531</th><td>ENPP4     </td><td>-0.6364751</td></tr>\n",
       "\t<tr><th scope=row>cg25724895</th><td>C20orf197 </td><td>-0.6352645</td></tr>\n",
       "\t<tr><th scope=row>cg18963800</th><td>HSD17B7P2 </td><td>-0.6350111</td></tr>\n",
       "\t<tr><th scope=row>cg12037947</th><td>CD93      </td><td>-0.6337585</td></tr>\n",
       "\t<tr><th scope=row>cg19696583</th><td>KIF13A    </td><td>-0.6327766</td></tr>\n",
       "\t<tr><th scope=row>cg18177616</th><td>IRAK3     </td><td>-0.6323687</td></tr>\n",
       "\t<tr><th scope=row>cg16229875</th><td>CEBPE     </td><td>-0.6323041</td></tr>\n",
       "\t<tr><th scope=row>cg13440296</th><td>TET2      </td><td>-0.6320842</td></tr>\n",
       "\t<tr><th scope=row>cg19899223</th><td>RPS6KL1   </td><td>-0.6305122</td></tr>\n",
       "\t<tr><th scope=row>cg25166437</th><td>SCARF1    </td><td>-0.6285301</td></tr>\n",
       "\t<tr><th scope=row>cg09151381</th><td>PAIP2B    </td><td>-0.6277451</td></tr>\n",
       "\t<tr><th scope=row>cg07118139</th><td>FAM83H    </td><td>-0.6272109</td></tr>\n",
       "\t<tr><th scope=row>cg05425877</th><td>FAM83H    </td><td>-0.6262488</td></tr>\n",
       "\t<tr><th scope=row>cg08924430</th><td>TET2      </td><td>-0.6261897</td></tr>\n",
       "\t<tr><th scope=row>cg14706739</th><td>EPB49     </td><td>-0.6246682</td></tr>\n",
       "\t<tr><th scope=row>cg23893997</th><td>SKAP2     </td><td>-0.6246488</td></tr>\n",
       "\t<tr><th scope=row>cg21725624</th><td>KIF13A    </td><td>-0.6246241</td></tr>\n",
       "\t<tr><th scope=row>cg19966212</th><td>CD74      </td><td>-0.6243540</td></tr>\n",
       "\t<tr><th scope=row>cg23893629</th><td>LAX1      </td><td>-0.6235524</td></tr>\n",
       "\t<tr><th scope=row>cg12437239</th><td>GOLIM4    </td><td>-0.6229351</td></tr>\n",
       "\t<tr><th scope=row>cg11583475</th><td>CCDC149   </td><td>-0.6228871</td></tr>\n",
       "\t<tr><th scope=row>cg19566405</th><td>SLFN12    </td><td>-0.6222009</td></tr>\n",
       "</tbody>\n",
       "</table>\n"
      ],
      "text/latex": [
       "\\begin{tabular}{r|ll}\n",
       "  & gene & correlation\\\\\n",
       "\\hline\n",
       "\tcg03583857 & CD34       & -0.8429824\\\\\n",
       "\tcg26266618 & CD34       & -0.8280892\\\\\n",
       "\tcg20293352 & CD34       & -0.8135794\\\\\n",
       "\tcg18294707 & RNASE2     & -0.8061969\\\\\n",
       "\tcg11197418 & SUCLG2     & -0.7913196\\\\\n",
       "\tcg02852407 & CD34       & -0.7727605\\\\\n",
       "\tcg00470794 & CHFR       & -0.7659533\\\\\n",
       "\tcg27084026 & CHFR       & -0.7659373\\\\\n",
       "\tcg14519294 & CHFR       & -0.7603678\\\\\n",
       "\tcg00328227 & C1orf59    & -0.7554652\\\\\n",
       "\tcg27040423 & CHFR       & -0.7466806\\\\\n",
       "\tcg06998765 & RPS6KL1    & -0.7401114\\\\\n",
       "\tcg25178683 & LGALS3BP   & -0.7392017\\\\\n",
       "\tcg24737783 & C1orf59    & -0.7358695\\\\\n",
       "\tcg16124934 & RPS6KL1    & -0.7350926\\\\\n",
       "\tcg17317266 & EPOR       & -0.7292687\\\\\n",
       "\tcg23680821 & C1orf59    & -0.7233335\\\\\n",
       "\tcg18533833 & CHFR       & -0.7224534\\\\\n",
       "\tcg17836612 & LGALS3BP   & -0.7219269\\\\\n",
       "\tcg20516845 & UBASH3A    & -0.7207183\\\\\n",
       "\tcg02835499 & CBX1       & -0.7160259\\\\\n",
       "\tcg04975272 & DNAJA4     & -0.7158287\\\\\n",
       "\tcg12551582 & CHFR       & -0.7120361\\\\\n",
       "\tcg27067282 & CRY1       & -0.7116343\\\\\n",
       "\tcg22202031 & CHFR       & -0.7112596\\\\\n",
       "\tcg24777950 & CTSG       & -0.7078510\\\\\n",
       "\tcg10223066 & CHFR       & -0.7076599\\\\\n",
       "\tcg25402049 & PRDM2      & -0.7071041\\\\\n",
       "\tcg26410484 & CHFR       & -0.7046418\\\\\n",
       "\tcg13342109 & CBX1       & -0.7036294\\\\\n",
       "\t⋮ & ⋮ & ⋮\\\\\n",
       "\tcg18563860 & CTSZ       & -0.6505103\\\\\n",
       "\tcg06795971 & TET2       & -0.6504843\\\\\n",
       "\tcg19529273 & LGALS12    & -0.6427988\\\\\n",
       "\tcg01210909 & TET2       & -0.6411534\\\\\n",
       "\tcg10325497 & LCK        & -0.6409347\\\\\n",
       "\tcg11402700 & CARKD      & -0.6395960\\\\\n",
       "\tcg02652597 & VAMP5      & -0.6393489\\\\\n",
       "\tcg14330655 & TET2       & -0.6370369\\\\\n",
       "\tcg05725531 & ENPP4      & -0.6364751\\\\\n",
       "\tcg25724895 & C20orf197  & -0.6352645\\\\\n",
       "\tcg18963800 & HSD17B7P2  & -0.6350111\\\\\n",
       "\tcg12037947 & CD93       & -0.6337585\\\\\n",
       "\tcg19696583 & KIF13A     & -0.6327766\\\\\n",
       "\tcg18177616 & IRAK3      & -0.6323687\\\\\n",
       "\tcg16229875 & CEBPE      & -0.6323041\\\\\n",
       "\tcg13440296 & TET2       & -0.6320842\\\\\n",
       "\tcg19899223 & RPS6KL1    & -0.6305122\\\\\n",
       "\tcg25166437 & SCARF1     & -0.6285301\\\\\n",
       "\tcg09151381 & PAIP2B     & -0.6277451\\\\\n",
       "\tcg07118139 & FAM83H     & -0.6272109\\\\\n",
       "\tcg05425877 & FAM83H     & -0.6262488\\\\\n",
       "\tcg08924430 & TET2       & -0.6261897\\\\\n",
       "\tcg14706739 & EPB49      & -0.6246682\\\\\n",
       "\tcg23893997 & SKAP2      & -0.6246488\\\\\n",
       "\tcg21725624 & KIF13A     & -0.6246241\\\\\n",
       "\tcg19966212 & CD74       & -0.6243540\\\\\n",
       "\tcg23893629 & LAX1       & -0.6235524\\\\\n",
       "\tcg12437239 & GOLIM4     & -0.6229351\\\\\n",
       "\tcg11583475 & CCDC149    & -0.6228871\\\\\n",
       "\tcg19566405 & SLFN12     & -0.6222009\\\\\n",
       "\\end{tabular}\n"
      ],
      "text/markdown": [
       "\n",
       "| <!--/--> | gene | correlation | \n",
       "|---|---|---|---|---|---|---|---|---|---|---|---|---|---|---|---|---|---|---|---|---|---|---|---|---|---|---|---|---|---|---|---|---|---|---|---|---|---|---|---|---|---|---|---|---|---|---|---|---|---|---|---|---|---|---|---|---|---|---|---|---|\n",
       "| cg03583857 | CD34       | -0.8429824 | \n",
       "| cg26266618 | CD34       | -0.8280892 | \n",
       "| cg20293352 | CD34       | -0.8135794 | \n",
       "| cg18294707 | RNASE2     | -0.8061969 | \n",
       "| cg11197418 | SUCLG2     | -0.7913196 | \n",
       "| cg02852407 | CD34       | -0.7727605 | \n",
       "| cg00470794 | CHFR       | -0.7659533 | \n",
       "| cg27084026 | CHFR       | -0.7659373 | \n",
       "| cg14519294 | CHFR       | -0.7603678 | \n",
       "| cg00328227 | C1orf59    | -0.7554652 | \n",
       "| cg27040423 | CHFR       | -0.7466806 | \n",
       "| cg06998765 | RPS6KL1    | -0.7401114 | \n",
       "| cg25178683 | LGALS3BP   | -0.7392017 | \n",
       "| cg24737783 | C1orf59    | -0.7358695 | \n",
       "| cg16124934 | RPS6KL1    | -0.7350926 | \n",
       "| cg17317266 | EPOR       | -0.7292687 | \n",
       "| cg23680821 | C1orf59    | -0.7233335 | \n",
       "| cg18533833 | CHFR       | -0.7224534 | \n",
       "| cg17836612 | LGALS3BP   | -0.7219269 | \n",
       "| cg20516845 | UBASH3A    | -0.7207183 | \n",
       "| cg02835499 | CBX1       | -0.7160259 | \n",
       "| cg04975272 | DNAJA4     | -0.7158287 | \n",
       "| cg12551582 | CHFR       | -0.7120361 | \n",
       "| cg27067282 | CRY1       | -0.7116343 | \n",
       "| cg22202031 | CHFR       | -0.7112596 | \n",
       "| cg24777950 | CTSG       | -0.7078510 | \n",
       "| cg10223066 | CHFR       | -0.7076599 | \n",
       "| cg25402049 | PRDM2      | -0.7071041 | \n",
       "| cg26410484 | CHFR       | -0.7046418 | \n",
       "| cg13342109 | CBX1       | -0.7036294 | \n",
       "| ⋮ | ⋮ | ⋮ | \n",
       "| cg18563860 | CTSZ       | -0.6505103 | \n",
       "| cg06795971 | TET2       | -0.6504843 | \n",
       "| cg19529273 | LGALS12    | -0.6427988 | \n",
       "| cg01210909 | TET2       | -0.6411534 | \n",
       "| cg10325497 | LCK        | -0.6409347 | \n",
       "| cg11402700 | CARKD      | -0.6395960 | \n",
       "| cg02652597 | VAMP5      | -0.6393489 | \n",
       "| cg14330655 | TET2       | -0.6370369 | \n",
       "| cg05725531 | ENPP4      | -0.6364751 | \n",
       "| cg25724895 | C20orf197  | -0.6352645 | \n",
       "| cg18963800 | HSD17B7P2  | -0.6350111 | \n",
       "| cg12037947 | CD93       | -0.6337585 | \n",
       "| cg19696583 | KIF13A     | -0.6327766 | \n",
       "| cg18177616 | IRAK3      | -0.6323687 | \n",
       "| cg16229875 | CEBPE      | -0.6323041 | \n",
       "| cg13440296 | TET2       | -0.6320842 | \n",
       "| cg19899223 | RPS6KL1    | -0.6305122 | \n",
       "| cg25166437 | SCARF1     | -0.6285301 | \n",
       "| cg09151381 | PAIP2B     | -0.6277451 | \n",
       "| cg07118139 | FAM83H     | -0.6272109 | \n",
       "| cg05425877 | FAM83H     | -0.6262488 | \n",
       "| cg08924430 | TET2       | -0.6261897 | \n",
       "| cg14706739 | EPB49      | -0.6246682 | \n",
       "| cg23893997 | SKAP2      | -0.6246488 | \n",
       "| cg21725624 | KIF13A     | -0.6246241 | \n",
       "| cg19966212 | CD74       | -0.6243540 | \n",
       "| cg23893629 | LAX1       | -0.6235524 | \n",
       "| cg12437239 | GOLIM4     | -0.6229351 | \n",
       "| cg11583475 | CCDC149    | -0.6228871 | \n",
       "| cg19566405 | SLFN12     | -0.6222009 | \n",
       "\n",
       "\n"
      ],
      "text/plain": [
       "           gene      correlation\n",
       "cg03583857 CD34      -0.8429824 \n",
       "cg26266618 CD34      -0.8280892 \n",
       "cg20293352 CD34      -0.8135794 \n",
       "cg18294707 RNASE2    -0.8061969 \n",
       "cg11197418 SUCLG2    -0.7913196 \n",
       "cg02852407 CD34      -0.7727605 \n",
       "cg00470794 CHFR      -0.7659533 \n",
       "cg27084026 CHFR      -0.7659373 \n",
       "cg14519294 CHFR      -0.7603678 \n",
       "cg00328227 C1orf59   -0.7554652 \n",
       "cg27040423 CHFR      -0.7466806 \n",
       "cg06998765 RPS6KL1   -0.7401114 \n",
       "cg25178683 LGALS3BP  -0.7392017 \n",
       "cg24737783 C1orf59   -0.7358695 \n",
       "cg16124934 RPS6KL1   -0.7350926 \n",
       "cg17317266 EPOR      -0.7292687 \n",
       "cg23680821 C1orf59   -0.7233335 \n",
       "cg18533833 CHFR      -0.7224534 \n",
       "cg17836612 LGALS3BP  -0.7219269 \n",
       "cg20516845 UBASH3A   -0.7207183 \n",
       "cg02835499 CBX1      -0.7160259 \n",
       "cg04975272 DNAJA4    -0.7158287 \n",
       "cg12551582 CHFR      -0.7120361 \n",
       "cg27067282 CRY1      -0.7116343 \n",
       "cg22202031 CHFR      -0.7112596 \n",
       "cg24777950 CTSG      -0.7078510 \n",
       "cg10223066 CHFR      -0.7076599 \n",
       "cg25402049 PRDM2     -0.7071041 \n",
       "cg26410484 CHFR      -0.7046418 \n",
       "cg13342109 CBX1      -0.7036294 \n",
       "⋮          ⋮         ⋮          \n",
       "cg18563860 CTSZ      -0.6505103 \n",
       "cg06795971 TET2      -0.6504843 \n",
       "cg19529273 LGALS12   -0.6427988 \n",
       "cg01210909 TET2      -0.6411534 \n",
       "cg10325497 LCK       -0.6409347 \n",
       "cg11402700 CARKD     -0.6395960 \n",
       "cg02652597 VAMP5     -0.6393489 \n",
       "cg14330655 TET2      -0.6370369 \n",
       "cg05725531 ENPP4     -0.6364751 \n",
       "cg25724895 C20orf197 -0.6352645 \n",
       "cg18963800 HSD17B7P2 -0.6350111 \n",
       "cg12037947 CD93      -0.6337585 \n",
       "cg19696583 KIF13A    -0.6327766 \n",
       "cg18177616 IRAK3     -0.6323687 \n",
       "cg16229875 CEBPE     -0.6323041 \n",
       "cg13440296 TET2      -0.6320842 \n",
       "cg19899223 RPS6KL1   -0.6305122 \n",
       "cg25166437 SCARF1    -0.6285301 \n",
       "cg09151381 PAIP2B    -0.6277451 \n",
       "cg07118139 FAM83H    -0.6272109 \n",
       "cg05425877 FAM83H    -0.6262488 \n",
       "cg08924430 TET2      -0.6261897 \n",
       "cg14706739 EPB49     -0.6246682 \n",
       "cg23893997 SKAP2     -0.6246488 \n",
       "cg21725624 KIF13A    -0.6246241 \n",
       "cg19966212 CD74      -0.6243540 \n",
       "cg23893629 LAX1      -0.6235524 \n",
       "cg12437239 GOLIM4    -0.6229351 \n",
       "cg11583475 CCDC149   -0.6228871 \n",
       "cg19566405 SLFN12    -0.6222009 "
      ]
     },
     "metadata": {},
     "output_type": "display_data"
    }
   ],
   "source": [
    "topCorrelated <- correlation[order(correlation$correlation),][1:100,]\n",
    "topCorrelated"
   ]
  },
  {
   "cell_type": "code",
   "execution_count": 61,
   "metadata": {},
   "outputs": [],
   "source": [
    "write.table(topCorrelated, file='../data/processed/negCorProbes/topNegCorProbesPromoterM.tsv', quote=F, row.names=T, \n",
    "           col.names=T, sep='\\t')"
   ]
  },
  {
   "cell_type": "markdown",
   "metadata": {},
   "source": [
    "#### correlation (promoter B)"
   ]
  },
  {
   "cell_type": "code",
   "execution_count": 62,
   "metadata": {},
   "outputs": [
    {
     "data": {
      "text/html": [
       "<table>\n",
       "<thead><tr><th></th><th scope=col>gene</th><th scope=col>correlation</th></tr></thead>\n",
       "<tbody>\n",
       "\t<tr><th scope=row>cg03583857</th><td>CD34      </td><td>-0.8440297</td></tr>\n",
       "\t<tr><th scope=row>cg26266618</th><td>CD34      </td><td>-0.8363744</td></tr>\n",
       "\t<tr><th scope=row>cg18294707</th><td>RNASE2    </td><td>-0.8025127</td></tr>\n",
       "\t<tr><th scope=row>cg11197418</th><td>SUCLG2    </td><td>-0.7987677</td></tr>\n",
       "\t<tr><th scope=row>cg02852407</th><td>CD34      </td><td>-0.7895896</td></tr>\n",
       "\t<tr><th scope=row>cg20293352</th><td>CD34      </td><td>-0.7802990</td></tr>\n",
       "\t<tr><th scope=row>cg14519294</th><td>CHFR      </td><td>-0.7634431</td></tr>\n",
       "\t<tr><th scope=row>cg27084026</th><td>CHFR      </td><td>-0.7546301</td></tr>\n",
       "\t<tr><th scope=row>cg26394825</th><td>CHFR      </td><td>-0.7531514</td></tr>\n",
       "\t<tr><th scope=row>cg00328227</th><td>C1orf59   </td><td>-0.7460529</td></tr>\n",
       "\t<tr><th scope=row>cg00470794</th><td>CHFR      </td><td>-0.7417550</td></tr>\n",
       "\t<tr><th scope=row>cg15063355</th><td>CHFR      </td><td>-0.7391952</td></tr>\n",
       "\t<tr><th scope=row>cg12551582</th><td>CHFR      </td><td>-0.7362669</td></tr>\n",
       "\t<tr><th scope=row>cg25178683</th><td>LGALS3BP  </td><td>-0.7354804</td></tr>\n",
       "\t<tr><th scope=row>cg27040423</th><td>CHFR      </td><td>-0.7334967</td></tr>\n",
       "\t<tr><th scope=row>cg13342109</th><td>CBX1      </td><td>-0.7265223</td></tr>\n",
       "\t<tr><th scope=row>cg07951978</th><td>CHFR      </td><td>-0.7250528</td></tr>\n",
       "\t<tr><th scope=row>cg24737783</th><td>C1orf59   </td><td>-0.7249771</td></tr>\n",
       "\t<tr><th scope=row>cg02835499</th><td>CBX1      </td><td>-0.7144194</td></tr>\n",
       "\t<tr><th scope=row>cg17317266</th><td>EPOR      </td><td>-0.7129366</td></tr>\n",
       "\t<tr><th scope=row>cg09330427</th><td>MGST3     </td><td>-0.7113791</td></tr>\n",
       "\t<tr><th scope=row>cg06998765</th><td>RPS6KL1   </td><td>-0.7110188</td></tr>\n",
       "\t<tr><th scope=row>cg18177616</th><td>IRAK3     </td><td>-0.7102298</td></tr>\n",
       "\t<tr><th scope=row>cg26832509</th><td>CHFR      </td><td>-0.7091152</td></tr>\n",
       "\t<tr><th scope=row>cg21511817</th><td>CBX1      </td><td>-0.7086689</td></tr>\n",
       "\t<tr><th scope=row>cg17836612</th><td>LGALS3BP  </td><td>-0.7084448</td></tr>\n",
       "\t<tr><th scope=row>cg04975272</th><td>DNAJA4    </td><td>-0.7083305</td></tr>\n",
       "\t<tr><th scope=row>cg18533833</th><td>CHFR      </td><td>-0.7072867</td></tr>\n",
       "\t<tr><th scope=row>cg09536694</th><td>ZNF717    </td><td>-0.7064549</td></tr>\n",
       "\t<tr><th scope=row>cg24790297</th><td>CLEC11A   </td><td>-0.7049566</td></tr>\n",
       "\t<tr><th scope=row>⋮</th><td>⋮</td><td>⋮</td></tr>\n",
       "\t<tr><th scope=row>cg26223989</th><td>ZCCHC2    </td><td>-0.6547355</td></tr>\n",
       "\t<tr><th scope=row>cg27477594</th><td>MGST3     </td><td>-0.6533536</td></tr>\n",
       "\t<tr><th scope=row>cg17223520</th><td>LCK       </td><td>-0.6530503</td></tr>\n",
       "\t<tr><th scope=row>cg01210909</th><td>TET2      </td><td>-0.6525582</td></tr>\n",
       "\t<tr><th scope=row>cg03514843</th><td>EMILIN1   </td><td>-0.6524544</td></tr>\n",
       "\t<tr><th scope=row>cg25166437</th><td>SCARF1    </td><td>-0.6493378</td></tr>\n",
       "\t<tr><th scope=row>cg06795971</th><td>TET2      </td><td>-0.6493049</td></tr>\n",
       "\t<tr><th scope=row>cg14002301</th><td>CCDC149   </td><td>-0.6489295</td></tr>\n",
       "\t<tr><th scope=row>cg08924430</th><td>TET2      </td><td>-0.6487155</td></tr>\n",
       "\t<tr><th scope=row>cg19407955</th><td>MGST3     </td><td>-0.6475691</td></tr>\n",
       "\t<tr><th scope=row>cg19850333</th><td>CCRL2     </td><td>-0.6471175</td></tr>\n",
       "\t<tr><th scope=row>cg23653008</th><td>CHFR      </td><td>-0.6461140</td></tr>\n",
       "\t<tr><th scope=row>cg09381178</th><td>TET2      </td><td>-0.6460523</td></tr>\n",
       "\t<tr><th scope=row>cg19696583</th><td>KIF13A    </td><td>-0.6436591</td></tr>\n",
       "\t<tr><th scope=row>cg08236468</th><td>ASPH      </td><td>-0.6431184</td></tr>\n",
       "\t<tr><th scope=row>cg14690980</th><td>HGF       </td><td>-0.6417109</td></tr>\n",
       "\t<tr><th scope=row>cg18563860</th><td>CTSZ      </td><td>-0.6411708</td></tr>\n",
       "\t<tr><th scope=row>cg10773601</th><td>CLEC11A   </td><td>-0.6411206</td></tr>\n",
       "\t<tr><th scope=row>cg20516845</th><td>UBASH3A   </td><td>-0.6406855</td></tr>\n",
       "\t<tr><th scope=row>cg15309910</th><td>CD93      </td><td>-0.6402292</td></tr>\n",
       "\t<tr><th scope=row>cg19241468</th><td>PARP14    </td><td>-0.6367147</td></tr>\n",
       "\t<tr><th scope=row>cg14105409</th><td>SUSD3     </td><td>-0.6325430</td></tr>\n",
       "\t<tr><th scope=row>cg25724895</th><td>C20orf197 </td><td>-0.6323155</td></tr>\n",
       "\t<tr><th scope=row>cg21725624</th><td>KIF13A    </td><td>-0.6316261</td></tr>\n",
       "\t<tr><th scope=row>cg11987455</th><td>ERMAP     </td><td>-0.6313635</td></tr>\n",
       "\t<tr><th scope=row>cg10325497</th><td>LCK       </td><td>-0.6310971</td></tr>\n",
       "\t<tr><th scope=row>cg19566405</th><td>SLFN12    </td><td>-0.6299106</td></tr>\n",
       "\t<tr><th scope=row>cg26482164</th><td>C20orf197 </td><td>-0.6294557</td></tr>\n",
       "\t<tr><th scope=row>cg02652597</th><td>VAMP5     </td><td>-0.6292129</td></tr>\n",
       "\t<tr><th scope=row>cg04044684</th><td>CHFR      </td><td>-0.6291671</td></tr>\n",
       "</tbody>\n",
       "</table>\n"
      ],
      "text/latex": [
       "\\begin{tabular}{r|ll}\n",
       "  & gene & correlation\\\\\n",
       "\\hline\n",
       "\tcg03583857 & CD34       & -0.8440297\\\\\n",
       "\tcg26266618 & CD34       & -0.8363744\\\\\n",
       "\tcg18294707 & RNASE2     & -0.8025127\\\\\n",
       "\tcg11197418 & SUCLG2     & -0.7987677\\\\\n",
       "\tcg02852407 & CD34       & -0.7895896\\\\\n",
       "\tcg20293352 & CD34       & -0.7802990\\\\\n",
       "\tcg14519294 & CHFR       & -0.7634431\\\\\n",
       "\tcg27084026 & CHFR       & -0.7546301\\\\\n",
       "\tcg26394825 & CHFR       & -0.7531514\\\\\n",
       "\tcg00328227 & C1orf59    & -0.7460529\\\\\n",
       "\tcg00470794 & CHFR       & -0.7417550\\\\\n",
       "\tcg15063355 & CHFR       & -0.7391952\\\\\n",
       "\tcg12551582 & CHFR       & -0.7362669\\\\\n",
       "\tcg25178683 & LGALS3BP   & -0.7354804\\\\\n",
       "\tcg27040423 & CHFR       & -0.7334967\\\\\n",
       "\tcg13342109 & CBX1       & -0.7265223\\\\\n",
       "\tcg07951978 & CHFR       & -0.7250528\\\\\n",
       "\tcg24737783 & C1orf59    & -0.7249771\\\\\n",
       "\tcg02835499 & CBX1       & -0.7144194\\\\\n",
       "\tcg17317266 & EPOR       & -0.7129366\\\\\n",
       "\tcg09330427 & MGST3      & -0.7113791\\\\\n",
       "\tcg06998765 & RPS6KL1    & -0.7110188\\\\\n",
       "\tcg18177616 & IRAK3      & -0.7102298\\\\\n",
       "\tcg26832509 & CHFR       & -0.7091152\\\\\n",
       "\tcg21511817 & CBX1       & -0.7086689\\\\\n",
       "\tcg17836612 & LGALS3BP   & -0.7084448\\\\\n",
       "\tcg04975272 & DNAJA4     & -0.7083305\\\\\n",
       "\tcg18533833 & CHFR       & -0.7072867\\\\\n",
       "\tcg09536694 & ZNF717     & -0.7064549\\\\\n",
       "\tcg24790297 & CLEC11A    & -0.7049566\\\\\n",
       "\t⋮ & ⋮ & ⋮\\\\\n",
       "\tcg26223989 & ZCCHC2     & -0.6547355\\\\\n",
       "\tcg27477594 & MGST3      & -0.6533536\\\\\n",
       "\tcg17223520 & LCK        & -0.6530503\\\\\n",
       "\tcg01210909 & TET2       & -0.6525582\\\\\n",
       "\tcg03514843 & EMILIN1    & -0.6524544\\\\\n",
       "\tcg25166437 & SCARF1     & -0.6493378\\\\\n",
       "\tcg06795971 & TET2       & -0.6493049\\\\\n",
       "\tcg14002301 & CCDC149    & -0.6489295\\\\\n",
       "\tcg08924430 & TET2       & -0.6487155\\\\\n",
       "\tcg19407955 & MGST3      & -0.6475691\\\\\n",
       "\tcg19850333 & CCRL2      & -0.6471175\\\\\n",
       "\tcg23653008 & CHFR       & -0.6461140\\\\\n",
       "\tcg09381178 & TET2       & -0.6460523\\\\\n",
       "\tcg19696583 & KIF13A     & -0.6436591\\\\\n",
       "\tcg08236468 & ASPH       & -0.6431184\\\\\n",
       "\tcg14690980 & HGF        & -0.6417109\\\\\n",
       "\tcg18563860 & CTSZ       & -0.6411708\\\\\n",
       "\tcg10773601 & CLEC11A    & -0.6411206\\\\\n",
       "\tcg20516845 & UBASH3A    & -0.6406855\\\\\n",
       "\tcg15309910 & CD93       & -0.6402292\\\\\n",
       "\tcg19241468 & PARP14     & -0.6367147\\\\\n",
       "\tcg14105409 & SUSD3      & -0.6325430\\\\\n",
       "\tcg25724895 & C20orf197  & -0.6323155\\\\\n",
       "\tcg21725624 & KIF13A     & -0.6316261\\\\\n",
       "\tcg11987455 & ERMAP      & -0.6313635\\\\\n",
       "\tcg10325497 & LCK        & -0.6310971\\\\\n",
       "\tcg19566405 & SLFN12     & -0.6299106\\\\\n",
       "\tcg26482164 & C20orf197  & -0.6294557\\\\\n",
       "\tcg02652597 & VAMP5      & -0.6292129\\\\\n",
       "\tcg04044684 & CHFR       & -0.6291671\\\\\n",
       "\\end{tabular}\n"
      ],
      "text/markdown": [
       "\n",
       "| <!--/--> | gene | correlation | \n",
       "|---|---|---|---|---|---|---|---|---|---|---|---|---|---|---|---|---|---|---|---|---|---|---|---|---|---|---|---|---|---|---|---|---|---|---|---|---|---|---|---|---|---|---|---|---|---|---|---|---|---|---|---|---|---|---|---|---|---|---|---|---|\n",
       "| cg03583857 | CD34       | -0.8440297 | \n",
       "| cg26266618 | CD34       | -0.8363744 | \n",
       "| cg18294707 | RNASE2     | -0.8025127 | \n",
       "| cg11197418 | SUCLG2     | -0.7987677 | \n",
       "| cg02852407 | CD34       | -0.7895896 | \n",
       "| cg20293352 | CD34       | -0.7802990 | \n",
       "| cg14519294 | CHFR       | -0.7634431 | \n",
       "| cg27084026 | CHFR       | -0.7546301 | \n",
       "| cg26394825 | CHFR       | -0.7531514 | \n",
       "| cg00328227 | C1orf59    | -0.7460529 | \n",
       "| cg00470794 | CHFR       | -0.7417550 | \n",
       "| cg15063355 | CHFR       | -0.7391952 | \n",
       "| cg12551582 | CHFR       | -0.7362669 | \n",
       "| cg25178683 | LGALS3BP   | -0.7354804 | \n",
       "| cg27040423 | CHFR       | -0.7334967 | \n",
       "| cg13342109 | CBX1       | -0.7265223 | \n",
       "| cg07951978 | CHFR       | -0.7250528 | \n",
       "| cg24737783 | C1orf59    | -0.7249771 | \n",
       "| cg02835499 | CBX1       | -0.7144194 | \n",
       "| cg17317266 | EPOR       | -0.7129366 | \n",
       "| cg09330427 | MGST3      | -0.7113791 | \n",
       "| cg06998765 | RPS6KL1    | -0.7110188 | \n",
       "| cg18177616 | IRAK3      | -0.7102298 | \n",
       "| cg26832509 | CHFR       | -0.7091152 | \n",
       "| cg21511817 | CBX1       | -0.7086689 | \n",
       "| cg17836612 | LGALS3BP   | -0.7084448 | \n",
       "| cg04975272 | DNAJA4     | -0.7083305 | \n",
       "| cg18533833 | CHFR       | -0.7072867 | \n",
       "| cg09536694 | ZNF717     | -0.7064549 | \n",
       "| cg24790297 | CLEC11A    | -0.7049566 | \n",
       "| ⋮ | ⋮ | ⋮ | \n",
       "| cg26223989 | ZCCHC2     | -0.6547355 | \n",
       "| cg27477594 | MGST3      | -0.6533536 | \n",
       "| cg17223520 | LCK        | -0.6530503 | \n",
       "| cg01210909 | TET2       | -0.6525582 | \n",
       "| cg03514843 | EMILIN1    | -0.6524544 | \n",
       "| cg25166437 | SCARF1     | -0.6493378 | \n",
       "| cg06795971 | TET2       | -0.6493049 | \n",
       "| cg14002301 | CCDC149    | -0.6489295 | \n",
       "| cg08924430 | TET2       | -0.6487155 | \n",
       "| cg19407955 | MGST3      | -0.6475691 | \n",
       "| cg19850333 | CCRL2      | -0.6471175 | \n",
       "| cg23653008 | CHFR       | -0.6461140 | \n",
       "| cg09381178 | TET2       | -0.6460523 | \n",
       "| cg19696583 | KIF13A     | -0.6436591 | \n",
       "| cg08236468 | ASPH       | -0.6431184 | \n",
       "| cg14690980 | HGF        | -0.6417109 | \n",
       "| cg18563860 | CTSZ       | -0.6411708 | \n",
       "| cg10773601 | CLEC11A    | -0.6411206 | \n",
       "| cg20516845 | UBASH3A    | -0.6406855 | \n",
       "| cg15309910 | CD93       | -0.6402292 | \n",
       "| cg19241468 | PARP14     | -0.6367147 | \n",
       "| cg14105409 | SUSD3      | -0.6325430 | \n",
       "| cg25724895 | C20orf197  | -0.6323155 | \n",
       "| cg21725624 | KIF13A     | -0.6316261 | \n",
       "| cg11987455 | ERMAP      | -0.6313635 | \n",
       "| cg10325497 | LCK        | -0.6310971 | \n",
       "| cg19566405 | SLFN12     | -0.6299106 | \n",
       "| cg26482164 | C20orf197  | -0.6294557 | \n",
       "| cg02652597 | VAMP5      | -0.6292129 | \n",
       "| cg04044684 | CHFR       | -0.6291671 | \n",
       "\n",
       "\n"
      ],
      "text/plain": [
       "           gene      correlation\n",
       "cg03583857 CD34      -0.8440297 \n",
       "cg26266618 CD34      -0.8363744 \n",
       "cg18294707 RNASE2    -0.8025127 \n",
       "cg11197418 SUCLG2    -0.7987677 \n",
       "cg02852407 CD34      -0.7895896 \n",
       "cg20293352 CD34      -0.7802990 \n",
       "cg14519294 CHFR      -0.7634431 \n",
       "cg27084026 CHFR      -0.7546301 \n",
       "cg26394825 CHFR      -0.7531514 \n",
       "cg00328227 C1orf59   -0.7460529 \n",
       "cg00470794 CHFR      -0.7417550 \n",
       "cg15063355 CHFR      -0.7391952 \n",
       "cg12551582 CHFR      -0.7362669 \n",
       "cg25178683 LGALS3BP  -0.7354804 \n",
       "cg27040423 CHFR      -0.7334967 \n",
       "cg13342109 CBX1      -0.7265223 \n",
       "cg07951978 CHFR      -0.7250528 \n",
       "cg24737783 C1orf59   -0.7249771 \n",
       "cg02835499 CBX1      -0.7144194 \n",
       "cg17317266 EPOR      -0.7129366 \n",
       "cg09330427 MGST3     -0.7113791 \n",
       "cg06998765 RPS6KL1   -0.7110188 \n",
       "cg18177616 IRAK3     -0.7102298 \n",
       "cg26832509 CHFR      -0.7091152 \n",
       "cg21511817 CBX1      -0.7086689 \n",
       "cg17836612 LGALS3BP  -0.7084448 \n",
       "cg04975272 DNAJA4    -0.7083305 \n",
       "cg18533833 CHFR      -0.7072867 \n",
       "cg09536694 ZNF717    -0.7064549 \n",
       "cg24790297 CLEC11A   -0.7049566 \n",
       "⋮          ⋮         ⋮          \n",
       "cg26223989 ZCCHC2    -0.6547355 \n",
       "cg27477594 MGST3     -0.6533536 \n",
       "cg17223520 LCK       -0.6530503 \n",
       "cg01210909 TET2      -0.6525582 \n",
       "cg03514843 EMILIN1   -0.6524544 \n",
       "cg25166437 SCARF1    -0.6493378 \n",
       "cg06795971 TET2      -0.6493049 \n",
       "cg14002301 CCDC149   -0.6489295 \n",
       "cg08924430 TET2      -0.6487155 \n",
       "cg19407955 MGST3     -0.6475691 \n",
       "cg19850333 CCRL2     -0.6471175 \n",
       "cg23653008 CHFR      -0.6461140 \n",
       "cg09381178 TET2      -0.6460523 \n",
       "cg19696583 KIF13A    -0.6436591 \n",
       "cg08236468 ASPH      -0.6431184 \n",
       "cg14690980 HGF       -0.6417109 \n",
       "cg18563860 CTSZ      -0.6411708 \n",
       "cg10773601 CLEC11A   -0.6411206 \n",
       "cg20516845 UBASH3A   -0.6406855 \n",
       "cg15309910 CD93      -0.6402292 \n",
       "cg19241468 PARP14    -0.6367147 \n",
       "cg14105409 SUSD3     -0.6325430 \n",
       "cg25724895 C20orf197 -0.6323155 \n",
       "cg21725624 KIF13A    -0.6316261 \n",
       "cg11987455 ERMAP     -0.6313635 \n",
       "cg10325497 LCK       -0.6310971 \n",
       "cg19566405 SLFN12    -0.6299106 \n",
       "cg26482164 C20orf197 -0.6294557 \n",
       "cg02652597 VAMP5     -0.6292129 \n",
       "cg04044684 CHFR      -0.6291671 "
      ]
     },
     "metadata": {},
     "output_type": "display_data"
    }
   ],
   "source": [
    "load('../data/processed/CorrelationPromoterB.RData')\n",
    "topCorrelated <- correlation[order(correlation$correlation),][1:100,]\n",
    "topCorrelated"
   ]
  },
  {
   "cell_type": "code",
   "execution_count": 63,
   "metadata": {},
   "outputs": [],
   "source": [
    "write.table(topCorrelated, file='../data/processed/negCorProbes/topNegCorProbesPromoterB.tsv', quote=F, row.names=T, \n",
    "           col.names=T, sep='\\t')"
   ]
  },
  {
   "cell_type": "markdown",
   "metadata": {},
   "source": [
    "### Promoter + CGI"
   ]
  },
  {
   "cell_type": "code",
   "execution_count": 64,
   "metadata": {},
   "outputs": [],
   "source": [
    "load('../data/processed/CorrelationCGIM.RData')"
   ]
  },
  {
   "cell_type": "code",
   "execution_count": 65,
   "metadata": {},
   "outputs": [
    {
     "data": {
      "text/html": [
       "<ol class=list-inline>\n",
       "\t<li>25557</li>\n",
       "\t<li>2</li>\n",
       "</ol>\n"
      ],
      "text/latex": [
       "\\begin{enumerate*}\n",
       "\\item 25557\n",
       "\\item 2\n",
       "\\end{enumerate*}\n"
      ],
      "text/markdown": [
       "1. 25557\n",
       "2. 2\n",
       "\n",
       "\n"
      ],
      "text/plain": [
       "[1] 25557     2"
      ]
     },
     "metadata": {},
     "output_type": "display_data"
    }
   ],
   "source": [
    "dim(correlation)"
   ]
  },
  {
   "cell_type": "code",
   "execution_count": 66,
   "metadata": {},
   "outputs": [
    {
     "data": {
      "text/html": [
       "7120"
      ],
      "text/latex": [
       "7120"
      ],
      "text/markdown": [
       "7120"
      ],
      "text/plain": [
       "[1] 7120"
      ]
     },
     "metadata": {},
     "output_type": "display_data"
    }
   ],
   "source": [
    "length(unique(correlation$gene))"
   ]
  },
  {
   "cell_type": "code",
   "execution_count": 67,
   "metadata": {},
   "outputs": [
    {
     "data": {
      "text/plain": [
       "\n",
       "     GNAS      HIC1      GFI1      BRD2     BLCAP      BAT3     CCND2    OSBPL5 \n",
       "       74        49        47        39        35        30        30        29 \n",
       "   TRIM26     ASCL2     CCNA1    FGFRL1     EHMT2      PAOX    BRP44L     PSMB8 \n",
       "       29        28        28        28        27        27        26        26 \n",
       "   ATP10A     CCND1    HNRNPF      DAXX     RUNX3     TSSC4      BAT2    LY6G5C \n",
       "       24        24        24        23        23        23        21        21 \n",
       "     UBTF    ZBTB12      CHFR      CTSZ     DUSP1      BCL2      CD81   COL11A2 \n",
       "       21        21        20        20        20        19        19        19 \n",
       "   DNMT3A      HLTF    NAP1L4       GPT    HDAC11       MYC     RAB1B     YWHAZ \n",
       "       19        19        19        18        18        18        18        18 \n",
       "  ANKRD11       BIK     EIF5A     KCNQ1     PEX10    RASSF1      SGK1     TGIF1 \n",
       "       17        17        17        17        17        17        17        17 \n",
       "  C5orf13    CDKN1C    CITED2     HMGB2    L3MBTL      LDB1      MSL2      PHF1 \n",
       "       16        16        16        16        16        16        16        16 \n",
       "  SLC12A6      TCF7       AGL     ALDOA    FBRSL1      GALE     GRB10    HSPA1B \n",
       "       16        16        15        15        15        15        15        15 \n",
       "    MGAT1     MTIF3     NFKB2      PEX5    PNPLA6     THBS1    UBE2D3      UGP2 \n",
       "       15        15        15        15        15        15        15        15 \n",
       "   ATP5G2     CRLS1    HOMER3 LOC285830  PRICKLE1      RBPJ      RCC2     STMN1 \n",
       "       14        14        14        14        14        14        14        14 \n",
       "    UHRF1       DUT     FKBP2    GABBR1     IGF2R      IRF5      JDP2    MAPRE2 \n",
       "       14        13        13        13        13        13        13        13 \n",
       "   PTPN12   RPS6KA2      SIM2   SLC37A4     SOCS1      TAP2      WIBG   C3orf58 \n",
       "       13        13        13        13        13        13        13        12 \n",
       "   CDKN2C      CFL2     CXCR4     DDHD2 \n",
       "       12        12        12        12 "
      ]
     },
     "metadata": {},
     "output_type": "display_data"
    }
   ],
   "source": [
    "sort(table(correlation$gene), decreasing=T)[1:100]"
   ]
  },
  {
   "cell_type": "markdown",
   "metadata": {},
   "source": [
    "#### correlation (CGI M)"
   ]
  },
  {
   "cell_type": "code",
   "execution_count": 68,
   "metadata": {},
   "outputs": [
    {
     "data": {
      "text/html": [
       "<table>\n",
       "<thead><tr><th></th><th scope=col>gene</th><th scope=col>correlation</th></tr></thead>\n",
       "<tbody>\n",
       "\t<tr><th scope=row>cg03583857</th><td>CD34      </td><td>-0.8429824</td></tr>\n",
       "\t<tr><th scope=row>cg26266618</th><td>CD34      </td><td>-0.8280892</td></tr>\n",
       "\t<tr><th scope=row>cg20293352</th><td>CD34      </td><td>-0.8135794</td></tr>\n",
       "\t<tr><th scope=row>cg11197418</th><td>SUCLG2    </td><td>-0.7913196</td></tr>\n",
       "\t<tr><th scope=row>cg02852407</th><td>CD34      </td><td>-0.7727605</td></tr>\n",
       "\t<tr><th scope=row>cg00470794</th><td>CHFR      </td><td>-0.7659533</td></tr>\n",
       "\t<tr><th scope=row>cg27084026</th><td>CHFR      </td><td>-0.7659373</td></tr>\n",
       "\t<tr><th scope=row>cg14519294</th><td>CHFR      </td><td>-0.7603678</td></tr>\n",
       "\t<tr><th scope=row>cg00328227</th><td>C1orf59   </td><td>-0.7554652</td></tr>\n",
       "\t<tr><th scope=row>cg27040423</th><td>CHFR      </td><td>-0.7466806</td></tr>\n",
       "\t<tr><th scope=row>cg06998765</th><td>RPS6KL1   </td><td>-0.7401114</td></tr>\n",
       "\t<tr><th scope=row>cg24737783</th><td>C1orf59   </td><td>-0.7358695</td></tr>\n",
       "\t<tr><th scope=row>cg16124934</th><td>RPS6KL1   </td><td>-0.7350926</td></tr>\n",
       "\t<tr><th scope=row>cg17317266</th><td>EPOR      </td><td>-0.7292687</td></tr>\n",
       "\t<tr><th scope=row>cg23680821</th><td>C1orf59   </td><td>-0.7233335</td></tr>\n",
       "\t<tr><th scope=row>cg18533833</th><td>CHFR      </td><td>-0.7224534</td></tr>\n",
       "\t<tr><th scope=row>cg02835499</th><td>CBX1      </td><td>-0.7160259</td></tr>\n",
       "\t<tr><th scope=row>cg04975272</th><td>DNAJA4    </td><td>-0.7158287</td></tr>\n",
       "\t<tr><th scope=row>cg12551582</th><td>CHFR      </td><td>-0.7120361</td></tr>\n",
       "\t<tr><th scope=row>cg27067282</th><td>CRY1      </td><td>-0.7116343</td></tr>\n",
       "\t<tr><th scope=row>cg22202031</th><td>CHFR      </td><td>-0.7112596</td></tr>\n",
       "\t<tr><th scope=row>cg10223066</th><td>CHFR      </td><td>-0.7076599</td></tr>\n",
       "\t<tr><th scope=row>cg26410484</th><td>CHFR      </td><td>-0.7046418</td></tr>\n",
       "\t<tr><th scope=row>cg13342109</th><td>CBX1      </td><td>-0.7036294</td></tr>\n",
       "\t<tr><th scope=row>cg04864609</th><td>CBX1      </td><td>-0.7032192</td></tr>\n",
       "\t<tr><th scope=row>cg27587125</th><td>C1orf59   </td><td>-0.7008265</td></tr>\n",
       "\t<tr><th scope=row>cg23458613</th><td>KLF11     </td><td>-0.6991757</td></tr>\n",
       "\t<tr><th scope=row>cg18067859</th><td>SLFN13    </td><td>-0.6973470</td></tr>\n",
       "\t<tr><th scope=row>cg27382164</th><td>CHFR      </td><td>-0.6949128</td></tr>\n",
       "\t<tr><th scope=row>cg11896104</th><td>KLF1      </td><td>-0.6929251</td></tr>\n",
       "\t<tr><th scope=row>⋮</th><td>⋮</td><td>⋮</td></tr>\n",
       "\t<tr><th scope=row>cg07118139</th><td>FAM83H    </td><td>-0.6272109</td></tr>\n",
       "\t<tr><th scope=row>cg05425877</th><td>FAM83H    </td><td>-0.6262488</td></tr>\n",
       "\t<tr><th scope=row>cg08924430</th><td>TET2      </td><td>-0.6261897</td></tr>\n",
       "\t<tr><th scope=row>cg14706739</th><td>EPB49     </td><td>-0.6246682</td></tr>\n",
       "\t<tr><th scope=row>cg23893997</th><td>SKAP2     </td><td>-0.6246488</td></tr>\n",
       "\t<tr><th scope=row>cg21725624</th><td>KIF13A    </td><td>-0.6246241</td></tr>\n",
       "\t<tr><th scope=row>cg12437239</th><td>GOLIM4    </td><td>-0.6229351</td></tr>\n",
       "\t<tr><th scope=row>cg01553295</th><td>CBX1      </td><td>-0.6219976</td></tr>\n",
       "\t<tr><th scope=row>cg14105409</th><td>SUSD3     </td><td>-0.6213304</td></tr>\n",
       "\t<tr><th scope=row>cg16741308</th><td>PARVB     </td><td>-0.6196461</td></tr>\n",
       "\t<tr><th scope=row>cg17332326</th><td>ZNF793    </td><td>-0.6194868</td></tr>\n",
       "\t<tr><th scope=row>cg08236468</th><td>ASPH      </td><td>-0.6184987</td></tr>\n",
       "\t<tr><th scope=row>cg12048031</th><td>ZNF256    </td><td>-0.6177197</td></tr>\n",
       "\t<tr><th scope=row>cg25804860</th><td>NETO2     </td><td>-0.6173602</td></tr>\n",
       "\t<tr><th scope=row>cg07753967</th><td>FRG1B     </td><td>-0.6151061</td></tr>\n",
       "\t<tr><th scope=row>cg09381178</th><td>TET2      </td><td>-0.6135708</td></tr>\n",
       "\t<tr><th scope=row>cg06637938</th><td>RPS6KL1   </td><td>-0.6090183</td></tr>\n",
       "\t<tr><th scope=row>cg01849970</th><td>FCHSD1    </td><td>-0.6087128</td></tr>\n",
       "\t<tr><th scope=row>cg12518360</th><td>SLC36A4   </td><td>-0.6070161</td></tr>\n",
       "\t<tr><th scope=row>cg11896633</th><td>FAM83H    </td><td>-0.6060998</td></tr>\n",
       "\t<tr><th scope=row>cg18104674</th><td>ZCCHC2    </td><td>-0.6057208</td></tr>\n",
       "\t<tr><th scope=row>cg19241468</th><td>PARP14    </td><td>-0.6049168</td></tr>\n",
       "\t<tr><th scope=row>cg18867659</th><td>NETO2     </td><td>-0.6048572</td></tr>\n",
       "\t<tr><th scope=row>cg09214398</th><td>DNAJA4    </td><td>-0.6046911</td></tr>\n",
       "\t<tr><th scope=row>cg05050789</th><td>ACTG1     </td><td>-0.6037995</td></tr>\n",
       "\t<tr><th scope=row>cg25681688</th><td>ENPP4     </td><td>-0.6014993</td></tr>\n",
       "\t<tr><th scope=row>cg11495854</th><td>RNF145    </td><td>-0.6003617</td></tr>\n",
       "\t<tr><th scope=row>cg16480145</th><td>RUSC2     </td><td>-0.6002421</td></tr>\n",
       "\t<tr><th scope=row>cg02380585</th><td>SLFN13    </td><td>-0.5951970</td></tr>\n",
       "\t<tr><th scope=row>cg03524223</th><td>ZCCHC2    </td><td>-0.5943544</td></tr>\n",
       "</tbody>\n",
       "</table>\n"
      ],
      "text/latex": [
       "\\begin{tabular}{r|ll}\n",
       "  & gene & correlation\\\\\n",
       "\\hline\n",
       "\tcg03583857 & CD34       & -0.8429824\\\\\n",
       "\tcg26266618 & CD34       & -0.8280892\\\\\n",
       "\tcg20293352 & CD34       & -0.8135794\\\\\n",
       "\tcg11197418 & SUCLG2     & -0.7913196\\\\\n",
       "\tcg02852407 & CD34       & -0.7727605\\\\\n",
       "\tcg00470794 & CHFR       & -0.7659533\\\\\n",
       "\tcg27084026 & CHFR       & -0.7659373\\\\\n",
       "\tcg14519294 & CHFR       & -0.7603678\\\\\n",
       "\tcg00328227 & C1orf59    & -0.7554652\\\\\n",
       "\tcg27040423 & CHFR       & -0.7466806\\\\\n",
       "\tcg06998765 & RPS6KL1    & -0.7401114\\\\\n",
       "\tcg24737783 & C1orf59    & -0.7358695\\\\\n",
       "\tcg16124934 & RPS6KL1    & -0.7350926\\\\\n",
       "\tcg17317266 & EPOR       & -0.7292687\\\\\n",
       "\tcg23680821 & C1orf59    & -0.7233335\\\\\n",
       "\tcg18533833 & CHFR       & -0.7224534\\\\\n",
       "\tcg02835499 & CBX1       & -0.7160259\\\\\n",
       "\tcg04975272 & DNAJA4     & -0.7158287\\\\\n",
       "\tcg12551582 & CHFR       & -0.7120361\\\\\n",
       "\tcg27067282 & CRY1       & -0.7116343\\\\\n",
       "\tcg22202031 & CHFR       & -0.7112596\\\\\n",
       "\tcg10223066 & CHFR       & -0.7076599\\\\\n",
       "\tcg26410484 & CHFR       & -0.7046418\\\\\n",
       "\tcg13342109 & CBX1       & -0.7036294\\\\\n",
       "\tcg04864609 & CBX1       & -0.7032192\\\\\n",
       "\tcg27587125 & C1orf59    & -0.7008265\\\\\n",
       "\tcg23458613 & KLF11      & -0.6991757\\\\\n",
       "\tcg18067859 & SLFN13     & -0.6973470\\\\\n",
       "\tcg27382164 & CHFR       & -0.6949128\\\\\n",
       "\tcg11896104 & KLF1       & -0.6929251\\\\\n",
       "\t⋮ & ⋮ & ⋮\\\\\n",
       "\tcg07118139 & FAM83H     & -0.6272109\\\\\n",
       "\tcg05425877 & FAM83H     & -0.6262488\\\\\n",
       "\tcg08924430 & TET2       & -0.6261897\\\\\n",
       "\tcg14706739 & EPB49      & -0.6246682\\\\\n",
       "\tcg23893997 & SKAP2      & -0.6246488\\\\\n",
       "\tcg21725624 & KIF13A     & -0.6246241\\\\\n",
       "\tcg12437239 & GOLIM4     & -0.6229351\\\\\n",
       "\tcg01553295 & CBX1       & -0.6219976\\\\\n",
       "\tcg14105409 & SUSD3      & -0.6213304\\\\\n",
       "\tcg16741308 & PARVB      & -0.6196461\\\\\n",
       "\tcg17332326 & ZNF793     & -0.6194868\\\\\n",
       "\tcg08236468 & ASPH       & -0.6184987\\\\\n",
       "\tcg12048031 & ZNF256     & -0.6177197\\\\\n",
       "\tcg25804860 & NETO2      & -0.6173602\\\\\n",
       "\tcg07753967 & FRG1B      & -0.6151061\\\\\n",
       "\tcg09381178 & TET2       & -0.6135708\\\\\n",
       "\tcg06637938 & RPS6KL1    & -0.6090183\\\\\n",
       "\tcg01849970 & FCHSD1     & -0.6087128\\\\\n",
       "\tcg12518360 & SLC36A4    & -0.6070161\\\\\n",
       "\tcg11896633 & FAM83H     & -0.6060998\\\\\n",
       "\tcg18104674 & ZCCHC2     & -0.6057208\\\\\n",
       "\tcg19241468 & PARP14     & -0.6049168\\\\\n",
       "\tcg18867659 & NETO2      & -0.6048572\\\\\n",
       "\tcg09214398 & DNAJA4     & -0.6046911\\\\\n",
       "\tcg05050789 & ACTG1      & -0.6037995\\\\\n",
       "\tcg25681688 & ENPP4      & -0.6014993\\\\\n",
       "\tcg11495854 & RNF145     & -0.6003617\\\\\n",
       "\tcg16480145 & RUSC2      & -0.6002421\\\\\n",
       "\tcg02380585 & SLFN13     & -0.5951970\\\\\n",
       "\tcg03524223 & ZCCHC2     & -0.5943544\\\\\n",
       "\\end{tabular}\n"
      ],
      "text/markdown": [
       "\n",
       "| <!--/--> | gene | correlation | \n",
       "|---|---|---|---|---|---|---|---|---|---|---|---|---|---|---|---|---|---|---|---|---|---|---|---|---|---|---|---|---|---|---|---|---|---|---|---|---|---|---|---|---|---|---|---|---|---|---|---|---|---|---|---|---|---|---|---|---|---|---|---|---|\n",
       "| cg03583857 | CD34       | -0.8429824 | \n",
       "| cg26266618 | CD34       | -0.8280892 | \n",
       "| cg20293352 | CD34       | -0.8135794 | \n",
       "| cg11197418 | SUCLG2     | -0.7913196 | \n",
       "| cg02852407 | CD34       | -0.7727605 | \n",
       "| cg00470794 | CHFR       | -0.7659533 | \n",
       "| cg27084026 | CHFR       | -0.7659373 | \n",
       "| cg14519294 | CHFR       | -0.7603678 | \n",
       "| cg00328227 | C1orf59    | -0.7554652 | \n",
       "| cg27040423 | CHFR       | -0.7466806 | \n",
       "| cg06998765 | RPS6KL1    | -0.7401114 | \n",
       "| cg24737783 | C1orf59    | -0.7358695 | \n",
       "| cg16124934 | RPS6KL1    | -0.7350926 | \n",
       "| cg17317266 | EPOR       | -0.7292687 | \n",
       "| cg23680821 | C1orf59    | -0.7233335 | \n",
       "| cg18533833 | CHFR       | -0.7224534 | \n",
       "| cg02835499 | CBX1       | -0.7160259 | \n",
       "| cg04975272 | DNAJA4     | -0.7158287 | \n",
       "| cg12551582 | CHFR       | -0.7120361 | \n",
       "| cg27067282 | CRY1       | -0.7116343 | \n",
       "| cg22202031 | CHFR       | -0.7112596 | \n",
       "| cg10223066 | CHFR       | -0.7076599 | \n",
       "| cg26410484 | CHFR       | -0.7046418 | \n",
       "| cg13342109 | CBX1       | -0.7036294 | \n",
       "| cg04864609 | CBX1       | -0.7032192 | \n",
       "| cg27587125 | C1orf59    | -0.7008265 | \n",
       "| cg23458613 | KLF11      | -0.6991757 | \n",
       "| cg18067859 | SLFN13     | -0.6973470 | \n",
       "| cg27382164 | CHFR       | -0.6949128 | \n",
       "| cg11896104 | KLF1       | -0.6929251 | \n",
       "| ⋮ | ⋮ | ⋮ | \n",
       "| cg07118139 | FAM83H     | -0.6272109 | \n",
       "| cg05425877 | FAM83H     | -0.6262488 | \n",
       "| cg08924430 | TET2       | -0.6261897 | \n",
       "| cg14706739 | EPB49      | -0.6246682 | \n",
       "| cg23893997 | SKAP2      | -0.6246488 | \n",
       "| cg21725624 | KIF13A     | -0.6246241 | \n",
       "| cg12437239 | GOLIM4     | -0.6229351 | \n",
       "| cg01553295 | CBX1       | -0.6219976 | \n",
       "| cg14105409 | SUSD3      | -0.6213304 | \n",
       "| cg16741308 | PARVB      | -0.6196461 | \n",
       "| cg17332326 | ZNF793     | -0.6194868 | \n",
       "| cg08236468 | ASPH       | -0.6184987 | \n",
       "| cg12048031 | ZNF256     | -0.6177197 | \n",
       "| cg25804860 | NETO2      | -0.6173602 | \n",
       "| cg07753967 | FRG1B      | -0.6151061 | \n",
       "| cg09381178 | TET2       | -0.6135708 | \n",
       "| cg06637938 | RPS6KL1    | -0.6090183 | \n",
       "| cg01849970 | FCHSD1     | -0.6087128 | \n",
       "| cg12518360 | SLC36A4    | -0.6070161 | \n",
       "| cg11896633 | FAM83H     | -0.6060998 | \n",
       "| cg18104674 | ZCCHC2     | -0.6057208 | \n",
       "| cg19241468 | PARP14     | -0.6049168 | \n",
       "| cg18867659 | NETO2      | -0.6048572 | \n",
       "| cg09214398 | DNAJA4     | -0.6046911 | \n",
       "| cg05050789 | ACTG1      | -0.6037995 | \n",
       "| cg25681688 | ENPP4      | -0.6014993 | \n",
       "| cg11495854 | RNF145     | -0.6003617 | \n",
       "| cg16480145 | RUSC2      | -0.6002421 | \n",
       "| cg02380585 | SLFN13     | -0.5951970 | \n",
       "| cg03524223 | ZCCHC2     | -0.5943544 | \n",
       "\n",
       "\n"
      ],
      "text/plain": [
       "           gene    correlation\n",
       "cg03583857 CD34    -0.8429824 \n",
       "cg26266618 CD34    -0.8280892 \n",
       "cg20293352 CD34    -0.8135794 \n",
       "cg11197418 SUCLG2  -0.7913196 \n",
       "cg02852407 CD34    -0.7727605 \n",
       "cg00470794 CHFR    -0.7659533 \n",
       "cg27084026 CHFR    -0.7659373 \n",
       "cg14519294 CHFR    -0.7603678 \n",
       "cg00328227 C1orf59 -0.7554652 \n",
       "cg27040423 CHFR    -0.7466806 \n",
       "cg06998765 RPS6KL1 -0.7401114 \n",
       "cg24737783 C1orf59 -0.7358695 \n",
       "cg16124934 RPS6KL1 -0.7350926 \n",
       "cg17317266 EPOR    -0.7292687 \n",
       "cg23680821 C1orf59 -0.7233335 \n",
       "cg18533833 CHFR    -0.7224534 \n",
       "cg02835499 CBX1    -0.7160259 \n",
       "cg04975272 DNAJA4  -0.7158287 \n",
       "cg12551582 CHFR    -0.7120361 \n",
       "cg27067282 CRY1    -0.7116343 \n",
       "cg22202031 CHFR    -0.7112596 \n",
       "cg10223066 CHFR    -0.7076599 \n",
       "cg26410484 CHFR    -0.7046418 \n",
       "cg13342109 CBX1    -0.7036294 \n",
       "cg04864609 CBX1    -0.7032192 \n",
       "cg27587125 C1orf59 -0.7008265 \n",
       "cg23458613 KLF11   -0.6991757 \n",
       "cg18067859 SLFN13  -0.6973470 \n",
       "cg27382164 CHFR    -0.6949128 \n",
       "cg11896104 KLF1    -0.6929251 \n",
       "⋮          ⋮       ⋮          \n",
       "cg07118139 FAM83H  -0.6272109 \n",
       "cg05425877 FAM83H  -0.6262488 \n",
       "cg08924430 TET2    -0.6261897 \n",
       "cg14706739 EPB49   -0.6246682 \n",
       "cg23893997 SKAP2   -0.6246488 \n",
       "cg21725624 KIF13A  -0.6246241 \n",
       "cg12437239 GOLIM4  -0.6229351 \n",
       "cg01553295 CBX1    -0.6219976 \n",
       "cg14105409 SUSD3   -0.6213304 \n",
       "cg16741308 PARVB   -0.6196461 \n",
       "cg17332326 ZNF793  -0.6194868 \n",
       "cg08236468 ASPH    -0.6184987 \n",
       "cg12048031 ZNF256  -0.6177197 \n",
       "cg25804860 NETO2   -0.6173602 \n",
       "cg07753967 FRG1B   -0.6151061 \n",
       "cg09381178 TET2    -0.6135708 \n",
       "cg06637938 RPS6KL1 -0.6090183 \n",
       "cg01849970 FCHSD1  -0.6087128 \n",
       "cg12518360 SLC36A4 -0.6070161 \n",
       "cg11896633 FAM83H  -0.6060998 \n",
       "cg18104674 ZCCHC2  -0.6057208 \n",
       "cg19241468 PARP14  -0.6049168 \n",
       "cg18867659 NETO2   -0.6048572 \n",
       "cg09214398 DNAJA4  -0.6046911 \n",
       "cg05050789 ACTG1   -0.6037995 \n",
       "cg25681688 ENPP4   -0.6014993 \n",
       "cg11495854 RNF145  -0.6003617 \n",
       "cg16480145 RUSC2   -0.6002421 \n",
       "cg02380585 SLFN13  -0.5951970 \n",
       "cg03524223 ZCCHC2  -0.5943544 "
      ]
     },
     "metadata": {},
     "output_type": "display_data"
    }
   ],
   "source": [
    "topCorrelated <- correlation[order(correlation$correlation),][1:100,]\n",
    "topCorrelated"
   ]
  },
  {
   "cell_type": "code",
   "execution_count": 69,
   "metadata": {},
   "outputs": [],
   "source": [
    "write.table(topCorrelated, file='../data/processed/negCorProbes/topNegCorProbesCGIM.tsv', quote=F, row.names=T, \n",
    "           col.names=T, sep='\\t')"
   ]
  },
  {
   "cell_type": "markdown",
   "metadata": {},
   "source": [
    "#### correlation (CGI B)"
   ]
  },
  {
   "cell_type": "code",
   "execution_count": 70,
   "metadata": {},
   "outputs": [
    {
     "data": {
      "text/html": [
       "<table>\n",
       "<thead><tr><th></th><th scope=col>gene</th><th scope=col>correlation</th></tr></thead>\n",
       "<tbody>\n",
       "\t<tr><th scope=row>cg03583857</th><td>CD34      </td><td>-0.8440297</td></tr>\n",
       "\t<tr><th scope=row>cg26266618</th><td>CD34      </td><td>-0.8363744</td></tr>\n",
       "\t<tr><th scope=row>cg11197418</th><td>SUCLG2    </td><td>-0.7987677</td></tr>\n",
       "\t<tr><th scope=row>cg02852407</th><td>CD34      </td><td>-0.7895896</td></tr>\n",
       "\t<tr><th scope=row>cg20293352</th><td>CD34      </td><td>-0.7802990</td></tr>\n",
       "\t<tr><th scope=row>cg14519294</th><td>CHFR      </td><td>-0.7634431</td></tr>\n",
       "\t<tr><th scope=row>cg27084026</th><td>CHFR      </td><td>-0.7546301</td></tr>\n",
       "\t<tr><th scope=row>cg26394825</th><td>CHFR      </td><td>-0.7531514</td></tr>\n",
       "\t<tr><th scope=row>cg00328227</th><td>C1orf59   </td><td>-0.7460529</td></tr>\n",
       "\t<tr><th scope=row>cg00470794</th><td>CHFR      </td><td>-0.7417550</td></tr>\n",
       "\t<tr><th scope=row>cg15063355</th><td>CHFR      </td><td>-0.7391952</td></tr>\n",
       "\t<tr><th scope=row>cg12551582</th><td>CHFR      </td><td>-0.7362669</td></tr>\n",
       "\t<tr><th scope=row>cg27040423</th><td>CHFR      </td><td>-0.7334967</td></tr>\n",
       "\t<tr><th scope=row>cg13342109</th><td>CBX1      </td><td>-0.7265223</td></tr>\n",
       "\t<tr><th scope=row>cg07951978</th><td>CHFR      </td><td>-0.7250528</td></tr>\n",
       "\t<tr><th scope=row>cg24737783</th><td>C1orf59   </td><td>-0.7249771</td></tr>\n",
       "\t<tr><th scope=row>cg02835499</th><td>CBX1      </td><td>-0.7144194</td></tr>\n",
       "\t<tr><th scope=row>cg17317266</th><td>EPOR      </td><td>-0.7129366</td></tr>\n",
       "\t<tr><th scope=row>cg09330427</th><td>MGST3     </td><td>-0.7113791</td></tr>\n",
       "\t<tr><th scope=row>cg06998765</th><td>RPS6KL1   </td><td>-0.7110188</td></tr>\n",
       "\t<tr><th scope=row>cg18177616</th><td>IRAK3     </td><td>-0.7102298</td></tr>\n",
       "\t<tr><th scope=row>cg26832509</th><td>CHFR      </td><td>-0.7091152</td></tr>\n",
       "\t<tr><th scope=row>cg21511817</th><td>CBX1      </td><td>-0.7086689</td></tr>\n",
       "\t<tr><th scope=row>cg04975272</th><td>DNAJA4    </td><td>-0.7083305</td></tr>\n",
       "\t<tr><th scope=row>cg18533833</th><td>CHFR      </td><td>-0.7072867</td></tr>\n",
       "\t<tr><th scope=row>cg09536694</th><td>ZNF717    </td><td>-0.7064549</td></tr>\n",
       "\t<tr><th scope=row>cg24790297</th><td>CLEC11A   </td><td>-0.7049566</td></tr>\n",
       "\t<tr><th scope=row>cg23680821</th><td>C1orf59   </td><td>-0.7025103</td></tr>\n",
       "\t<tr><th scope=row>cg02621032</th><td>ZNF717    </td><td>-0.7015784</td></tr>\n",
       "\t<tr><th scope=row>cg22202031</th><td>CHFR      </td><td>-0.7008431</td></tr>\n",
       "\t<tr><th scope=row>⋮</th><td>⋮</td><td>⋮</td></tr>\n",
       "\t<tr><th scope=row>cg09381178</th><td>TET2      </td><td>-0.6460523</td></tr>\n",
       "\t<tr><th scope=row>cg19696583</th><td>KIF13A    </td><td>-0.6436591</td></tr>\n",
       "\t<tr><th scope=row>cg08236468</th><td>ASPH      </td><td>-0.6431184</td></tr>\n",
       "\t<tr><th scope=row>cg18563860</th><td>CTSZ      </td><td>-0.6411708</td></tr>\n",
       "\t<tr><th scope=row>cg10773601</th><td>CLEC11A   </td><td>-0.6411206</td></tr>\n",
       "\t<tr><th scope=row>cg19241468</th><td>PARP14    </td><td>-0.6367147</td></tr>\n",
       "\t<tr><th scope=row>cg14105409</th><td>SUSD3     </td><td>-0.6325430</td></tr>\n",
       "\t<tr><th scope=row>cg21725624</th><td>KIF13A    </td><td>-0.6316261</td></tr>\n",
       "\t<tr><th scope=row>cg10325497</th><td>LCK       </td><td>-0.6310971</td></tr>\n",
       "\t<tr><th scope=row>cg02652597</th><td>VAMP5     </td><td>-0.6292129</td></tr>\n",
       "\t<tr><th scope=row>cg04044684</th><td>CHFR      </td><td>-0.6291671</td></tr>\n",
       "\t<tr><th scope=row>cg12518360</th><td>SLC36A4   </td><td>-0.6188571</td></tr>\n",
       "\t<tr><th scope=row>cg05050789</th><td>ACTG1     </td><td>-0.6162375</td></tr>\n",
       "\t<tr><th scope=row>cg27067282</th><td>CRY1      </td><td>-0.6156996</td></tr>\n",
       "\t<tr><th scope=row>cg13758899</th><td>ZFP3      </td><td>-0.6150875</td></tr>\n",
       "\t<tr><th scope=row>cg19899223</th><td>RPS6KL1   </td><td>-0.6142110</td></tr>\n",
       "\t<tr><th scope=row>cg14706739</th><td>EPB49     </td><td>-0.6122567</td></tr>\n",
       "\t<tr><th scope=row>cg20211816</th><td>KIF13A    </td><td>-0.6121370</td></tr>\n",
       "\t<tr><th scope=row>cg03171646</th><td>HSF2      </td><td>-0.6074458</td></tr>\n",
       "\t<tr><th scope=row>cg02380585</th><td>SLFN13    </td><td>-0.6067037</td></tr>\n",
       "\t<tr><th scope=row>cg12005760</th><td>KLF11     </td><td>-0.6061466</td></tr>\n",
       "\t<tr><th scope=row>cg00348771</th><td>MGST3     </td><td>-0.6057237</td></tr>\n",
       "\t<tr><th scope=row>cg17286435</th><td>ZNF717    </td><td>-0.6039335</td></tr>\n",
       "\t<tr><th scope=row>cg06637938</th><td>RPS6KL1   </td><td>-0.6017293</td></tr>\n",
       "\t<tr><th scope=row>cg14881098</th><td>RIC8B     </td><td>-0.5996035</td></tr>\n",
       "\t<tr><th scope=row>cg19597529</th><td>PARP14    </td><td>-0.5986751</td></tr>\n",
       "\t<tr><th scope=row>cg02073525</th><td>DNAJA4    </td><td>-0.5974277</td></tr>\n",
       "\t<tr><th scope=row>cg12407666</th><td>RIC8B     </td><td>-0.5961241</td></tr>\n",
       "\t<tr><th scope=row>cg11354057</th><td>SLC36A4   </td><td>-0.5955767</td></tr>\n",
       "\t<tr><th scope=row>cg20131596</th><td>PAM       </td><td>-0.5943067</td></tr>\n",
       "</tbody>\n",
       "</table>\n"
      ],
      "text/latex": [
       "\\begin{tabular}{r|ll}\n",
       "  & gene & correlation\\\\\n",
       "\\hline\n",
       "\tcg03583857 & CD34       & -0.8440297\\\\\n",
       "\tcg26266618 & CD34       & -0.8363744\\\\\n",
       "\tcg11197418 & SUCLG2     & -0.7987677\\\\\n",
       "\tcg02852407 & CD34       & -0.7895896\\\\\n",
       "\tcg20293352 & CD34       & -0.7802990\\\\\n",
       "\tcg14519294 & CHFR       & -0.7634431\\\\\n",
       "\tcg27084026 & CHFR       & -0.7546301\\\\\n",
       "\tcg26394825 & CHFR       & -0.7531514\\\\\n",
       "\tcg00328227 & C1orf59    & -0.7460529\\\\\n",
       "\tcg00470794 & CHFR       & -0.7417550\\\\\n",
       "\tcg15063355 & CHFR       & -0.7391952\\\\\n",
       "\tcg12551582 & CHFR       & -0.7362669\\\\\n",
       "\tcg27040423 & CHFR       & -0.7334967\\\\\n",
       "\tcg13342109 & CBX1       & -0.7265223\\\\\n",
       "\tcg07951978 & CHFR       & -0.7250528\\\\\n",
       "\tcg24737783 & C1orf59    & -0.7249771\\\\\n",
       "\tcg02835499 & CBX1       & -0.7144194\\\\\n",
       "\tcg17317266 & EPOR       & -0.7129366\\\\\n",
       "\tcg09330427 & MGST3      & -0.7113791\\\\\n",
       "\tcg06998765 & RPS6KL1    & -0.7110188\\\\\n",
       "\tcg18177616 & IRAK3      & -0.7102298\\\\\n",
       "\tcg26832509 & CHFR       & -0.7091152\\\\\n",
       "\tcg21511817 & CBX1       & -0.7086689\\\\\n",
       "\tcg04975272 & DNAJA4     & -0.7083305\\\\\n",
       "\tcg18533833 & CHFR       & -0.7072867\\\\\n",
       "\tcg09536694 & ZNF717     & -0.7064549\\\\\n",
       "\tcg24790297 & CLEC11A    & -0.7049566\\\\\n",
       "\tcg23680821 & C1orf59    & -0.7025103\\\\\n",
       "\tcg02621032 & ZNF717     & -0.7015784\\\\\n",
       "\tcg22202031 & CHFR       & -0.7008431\\\\\n",
       "\t⋮ & ⋮ & ⋮\\\\\n",
       "\tcg09381178 & TET2       & -0.6460523\\\\\n",
       "\tcg19696583 & KIF13A     & -0.6436591\\\\\n",
       "\tcg08236468 & ASPH       & -0.6431184\\\\\n",
       "\tcg18563860 & CTSZ       & -0.6411708\\\\\n",
       "\tcg10773601 & CLEC11A    & -0.6411206\\\\\n",
       "\tcg19241468 & PARP14     & -0.6367147\\\\\n",
       "\tcg14105409 & SUSD3      & -0.6325430\\\\\n",
       "\tcg21725624 & KIF13A     & -0.6316261\\\\\n",
       "\tcg10325497 & LCK        & -0.6310971\\\\\n",
       "\tcg02652597 & VAMP5      & -0.6292129\\\\\n",
       "\tcg04044684 & CHFR       & -0.6291671\\\\\n",
       "\tcg12518360 & SLC36A4    & -0.6188571\\\\\n",
       "\tcg05050789 & ACTG1      & -0.6162375\\\\\n",
       "\tcg27067282 & CRY1       & -0.6156996\\\\\n",
       "\tcg13758899 & ZFP3       & -0.6150875\\\\\n",
       "\tcg19899223 & RPS6KL1    & -0.6142110\\\\\n",
       "\tcg14706739 & EPB49      & -0.6122567\\\\\n",
       "\tcg20211816 & KIF13A     & -0.6121370\\\\\n",
       "\tcg03171646 & HSF2       & -0.6074458\\\\\n",
       "\tcg02380585 & SLFN13     & -0.6067037\\\\\n",
       "\tcg12005760 & KLF11      & -0.6061466\\\\\n",
       "\tcg00348771 & MGST3      & -0.6057237\\\\\n",
       "\tcg17286435 & ZNF717     & -0.6039335\\\\\n",
       "\tcg06637938 & RPS6KL1    & -0.6017293\\\\\n",
       "\tcg14881098 & RIC8B      & -0.5996035\\\\\n",
       "\tcg19597529 & PARP14     & -0.5986751\\\\\n",
       "\tcg02073525 & DNAJA4     & -0.5974277\\\\\n",
       "\tcg12407666 & RIC8B      & -0.5961241\\\\\n",
       "\tcg11354057 & SLC36A4    & -0.5955767\\\\\n",
       "\tcg20131596 & PAM        & -0.5943067\\\\\n",
       "\\end{tabular}\n"
      ],
      "text/markdown": [
       "\n",
       "| <!--/--> | gene | correlation | \n",
       "|---|---|---|---|---|---|---|---|---|---|---|---|---|---|---|---|---|---|---|---|---|---|---|---|---|---|---|---|---|---|---|---|---|---|---|---|---|---|---|---|---|---|---|---|---|---|---|---|---|---|---|---|---|---|---|---|---|---|---|---|---|\n",
       "| cg03583857 | CD34       | -0.8440297 | \n",
       "| cg26266618 | CD34       | -0.8363744 | \n",
       "| cg11197418 | SUCLG2     | -0.7987677 | \n",
       "| cg02852407 | CD34       | -0.7895896 | \n",
       "| cg20293352 | CD34       | -0.7802990 | \n",
       "| cg14519294 | CHFR       | -0.7634431 | \n",
       "| cg27084026 | CHFR       | -0.7546301 | \n",
       "| cg26394825 | CHFR       | -0.7531514 | \n",
       "| cg00328227 | C1orf59    | -0.7460529 | \n",
       "| cg00470794 | CHFR       | -0.7417550 | \n",
       "| cg15063355 | CHFR       | -0.7391952 | \n",
       "| cg12551582 | CHFR       | -0.7362669 | \n",
       "| cg27040423 | CHFR       | -0.7334967 | \n",
       "| cg13342109 | CBX1       | -0.7265223 | \n",
       "| cg07951978 | CHFR       | -0.7250528 | \n",
       "| cg24737783 | C1orf59    | -0.7249771 | \n",
       "| cg02835499 | CBX1       | -0.7144194 | \n",
       "| cg17317266 | EPOR       | -0.7129366 | \n",
       "| cg09330427 | MGST3      | -0.7113791 | \n",
       "| cg06998765 | RPS6KL1    | -0.7110188 | \n",
       "| cg18177616 | IRAK3      | -0.7102298 | \n",
       "| cg26832509 | CHFR       | -0.7091152 | \n",
       "| cg21511817 | CBX1       | -0.7086689 | \n",
       "| cg04975272 | DNAJA4     | -0.7083305 | \n",
       "| cg18533833 | CHFR       | -0.7072867 | \n",
       "| cg09536694 | ZNF717     | -0.7064549 | \n",
       "| cg24790297 | CLEC11A    | -0.7049566 | \n",
       "| cg23680821 | C1orf59    | -0.7025103 | \n",
       "| cg02621032 | ZNF717     | -0.7015784 | \n",
       "| cg22202031 | CHFR       | -0.7008431 | \n",
       "| ⋮ | ⋮ | ⋮ | \n",
       "| cg09381178 | TET2       | -0.6460523 | \n",
       "| cg19696583 | KIF13A     | -0.6436591 | \n",
       "| cg08236468 | ASPH       | -0.6431184 | \n",
       "| cg18563860 | CTSZ       | -0.6411708 | \n",
       "| cg10773601 | CLEC11A    | -0.6411206 | \n",
       "| cg19241468 | PARP14     | -0.6367147 | \n",
       "| cg14105409 | SUSD3      | -0.6325430 | \n",
       "| cg21725624 | KIF13A     | -0.6316261 | \n",
       "| cg10325497 | LCK        | -0.6310971 | \n",
       "| cg02652597 | VAMP5      | -0.6292129 | \n",
       "| cg04044684 | CHFR       | -0.6291671 | \n",
       "| cg12518360 | SLC36A4    | -0.6188571 | \n",
       "| cg05050789 | ACTG1      | -0.6162375 | \n",
       "| cg27067282 | CRY1       | -0.6156996 | \n",
       "| cg13758899 | ZFP3       | -0.6150875 | \n",
       "| cg19899223 | RPS6KL1    | -0.6142110 | \n",
       "| cg14706739 | EPB49      | -0.6122567 | \n",
       "| cg20211816 | KIF13A     | -0.6121370 | \n",
       "| cg03171646 | HSF2       | -0.6074458 | \n",
       "| cg02380585 | SLFN13     | -0.6067037 | \n",
       "| cg12005760 | KLF11      | -0.6061466 | \n",
       "| cg00348771 | MGST3      | -0.6057237 | \n",
       "| cg17286435 | ZNF717     | -0.6039335 | \n",
       "| cg06637938 | RPS6KL1    | -0.6017293 | \n",
       "| cg14881098 | RIC8B      | -0.5996035 | \n",
       "| cg19597529 | PARP14     | -0.5986751 | \n",
       "| cg02073525 | DNAJA4     | -0.5974277 | \n",
       "| cg12407666 | RIC8B      | -0.5961241 | \n",
       "| cg11354057 | SLC36A4    | -0.5955767 | \n",
       "| cg20131596 | PAM        | -0.5943067 | \n",
       "\n",
       "\n"
      ],
      "text/plain": [
       "           gene    correlation\n",
       "cg03583857 CD34    -0.8440297 \n",
       "cg26266618 CD34    -0.8363744 \n",
       "cg11197418 SUCLG2  -0.7987677 \n",
       "cg02852407 CD34    -0.7895896 \n",
       "cg20293352 CD34    -0.7802990 \n",
       "cg14519294 CHFR    -0.7634431 \n",
       "cg27084026 CHFR    -0.7546301 \n",
       "cg26394825 CHFR    -0.7531514 \n",
       "cg00328227 C1orf59 -0.7460529 \n",
       "cg00470794 CHFR    -0.7417550 \n",
       "cg15063355 CHFR    -0.7391952 \n",
       "cg12551582 CHFR    -0.7362669 \n",
       "cg27040423 CHFR    -0.7334967 \n",
       "cg13342109 CBX1    -0.7265223 \n",
       "cg07951978 CHFR    -0.7250528 \n",
       "cg24737783 C1orf59 -0.7249771 \n",
       "cg02835499 CBX1    -0.7144194 \n",
       "cg17317266 EPOR    -0.7129366 \n",
       "cg09330427 MGST3   -0.7113791 \n",
       "cg06998765 RPS6KL1 -0.7110188 \n",
       "cg18177616 IRAK3   -0.7102298 \n",
       "cg26832509 CHFR    -0.7091152 \n",
       "cg21511817 CBX1    -0.7086689 \n",
       "cg04975272 DNAJA4  -0.7083305 \n",
       "cg18533833 CHFR    -0.7072867 \n",
       "cg09536694 ZNF717  -0.7064549 \n",
       "cg24790297 CLEC11A -0.7049566 \n",
       "cg23680821 C1orf59 -0.7025103 \n",
       "cg02621032 ZNF717  -0.7015784 \n",
       "cg22202031 CHFR    -0.7008431 \n",
       "⋮          ⋮       ⋮          \n",
       "cg09381178 TET2    -0.6460523 \n",
       "cg19696583 KIF13A  -0.6436591 \n",
       "cg08236468 ASPH    -0.6431184 \n",
       "cg18563860 CTSZ    -0.6411708 \n",
       "cg10773601 CLEC11A -0.6411206 \n",
       "cg19241468 PARP14  -0.6367147 \n",
       "cg14105409 SUSD3   -0.6325430 \n",
       "cg21725624 KIF13A  -0.6316261 \n",
       "cg10325497 LCK     -0.6310971 \n",
       "cg02652597 VAMP5   -0.6292129 \n",
       "cg04044684 CHFR    -0.6291671 \n",
       "cg12518360 SLC36A4 -0.6188571 \n",
       "cg05050789 ACTG1   -0.6162375 \n",
       "cg27067282 CRY1    -0.6156996 \n",
       "cg13758899 ZFP3    -0.6150875 \n",
       "cg19899223 RPS6KL1 -0.6142110 \n",
       "cg14706739 EPB49   -0.6122567 \n",
       "cg20211816 KIF13A  -0.6121370 \n",
       "cg03171646 HSF2    -0.6074458 \n",
       "cg02380585 SLFN13  -0.6067037 \n",
       "cg12005760 KLF11   -0.6061466 \n",
       "cg00348771 MGST3   -0.6057237 \n",
       "cg17286435 ZNF717  -0.6039335 \n",
       "cg06637938 RPS6KL1 -0.6017293 \n",
       "cg14881098 RIC8B   -0.5996035 \n",
       "cg19597529 PARP14  -0.5986751 \n",
       "cg02073525 DNAJA4  -0.5974277 \n",
       "cg12407666 RIC8B   -0.5961241 \n",
       "cg11354057 SLC36A4 -0.5955767 \n",
       "cg20131596 PAM     -0.5943067 "
      ]
     },
     "metadata": {},
     "output_type": "display_data"
    }
   ],
   "source": [
    "load('../data/processed/CorrelationCGIB.RData')\n",
    "topCorrelated <- correlation[order(correlation$correlation),][1:100,]\n",
    "topCorrelated"
   ]
  },
  {
   "cell_type": "code",
   "execution_count": 71,
   "metadata": {},
   "outputs": [],
   "source": [
    "write.table(topCorrelated, file='../data/processed/negCorProbes/topNegCorProbesCGIB.tsv', quote=F, row.names=T, \n",
    "           col.names=T, sep='\\t')"
   ]
  },
  {
   "cell_type": "code",
   "execution_count": null,
   "metadata": {},
   "outputs": [],
   "source": []
  }
 ],
 "metadata": {
  "kernelspec": {
   "display_name": "R",
   "language": "R",
   "name": "ir"
  },
  "language_info": {
   "codemirror_mode": "r",
   "file_extension": ".r",
   "mimetype": "text/x-r-source",
   "name": "R",
   "pygments_lexer": "r",
   "version": "3.4.0"
  }
 },
 "nbformat": 4,
 "nbformat_minor": 2
}
