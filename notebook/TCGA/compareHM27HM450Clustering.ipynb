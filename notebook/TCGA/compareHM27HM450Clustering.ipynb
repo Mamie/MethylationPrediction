{
 "cells": [
  {
   "cell_type": "markdown",
   "metadata": {},
   "source": [
    "# Compare the results of hierarchical clustering between HM27 and HM450"
   ]
  },
  {
   "cell_type": "markdown",
   "metadata": {},
   "source": [
    "This note commpares the hierarchical clustering difference between HM27 and HM450 array by computing the rand index between the membership of the probes that are common to both arrays.\n",
    "\n",
    "Given two partitions of a set $X = \\{X_1, \\dots, X_r\\}$ and $Y = \\{Y_1, \\dots, Y_s\\}$, the rand index is defined as follows:\n",
    "\n",
    "$$R = \\frac{a + b}{\\binom{n}{2}}$$\n",
    "\n",
    "where $a$ is the number of pairs of elements in S that are in the same subset in X and in the same subset in Y, $b$ is the number of pairs of elements in S that are in different subsets in X and in different subsets in Y, and $n$ is the total number of elements in S.\n",
    "\n",
    "Basically, rand index represents the frequency of occurrence of agreements over all possible pairs of elements in the set S."
   ]
  },
  {
   "cell_type": "code",
   "execution_count": 57,
   "metadata": {},
   "outputs": [],
   "source": [
    "source('helperFunctions.R')"
   ]
  },
  {
   "cell_type": "code",
   "execution_count": 5,
   "metadata": {},
   "outputs": [
    {
     "data": {
      "text/html": [
       "590"
      ],
      "text/latex": [
       "590"
      ],
      "text/markdown": [
       "590"
      ],
      "text/plain": [
       "[1] 590"
      ]
     },
     "metadata": {},
     "output_type": "display_data"
    }
   ],
   "source": [
    "load('../data/180413/HM27/resultsMcentersubset/clusterInfo.RData')\n",
    "HM27.cluster <- clustering$cluster # the probes are aggregated based on the gene id\n",
    "length(HM27.cluster) "
   ]
  },
  {
   "cell_type": "code",
   "execution_count": 6,
   "metadata": {},
   "outputs": [
    {
     "data": {
      "text/html": [
       "2667"
      ],
      "text/latex": [
       "2667"
      ],
      "text/markdown": [
       "2667"
      ],
      "text/plain": [
       "[1] 2667"
      ]
     },
     "metadata": {},
     "output_type": "display_data"
    }
   ],
   "source": [
    "load('../data/180413/HM450/vbsrMcenterScaleData/clusterInfo.RData')\n",
    "HM450.cluster <- clustering$cluster\n",
    "length(HM450.cluster)"
   ]
  },
  {
   "cell_type": "code",
   "execution_count": 7,
   "metadata": {},
   "outputs": [
    {
     "data": {
      "text/html": [
       "364"
      ],
      "text/latex": [
       "364"
      ],
      "text/markdown": [
       "364"
      ],
      "text/plain": [
       "[1] 364"
      ]
     },
     "metadata": {},
     "output_type": "display_data"
    }
   ],
   "source": [
    "# find intersections between two set of probes and subset these probes and compute the rand index\n",
    "intersect.probes <- intersect(names(HM27.cluster), names(HM450.cluster))\n",
    "HM27.intersect <- HM27.cluster[intersect.probes]\n",
    "HM450.intersect <- HM450.cluster[intersect.probes]\n",
    "length(HM27.intersect)"
   ]
  },
  {
   "cell_type": "code",
   "execution_count": 8,
   "metadata": {},
   "outputs": [
    {
     "data": {
      "text/html": [
       "20"
      ],
      "text/latex": [
       "20"
      ],
      "text/markdown": [
       "20"
      ],
      "text/plain": [
       "[1] 20"
      ]
     },
     "metadata": {},
     "output_type": "display_data"
    },
    {
     "data": {
      "text/html": [
       "20"
      ],
      "text/latex": [
       "20"
      ],
      "text/markdown": [
       "20"
      ],
      "text/plain": [
       "[1] 20"
      ]
     },
     "metadata": {},
     "output_type": "display_data"
    }
   ],
   "source": [
    "length(unique(HM27.intersect))\n",
    "length(unique(HM450.intersect))"
   ]
  },
  {
   "cell_type": "code",
   "execution_count": 9,
   "metadata": {},
   "outputs": [],
   "source": [
    "HM450.intersectOrdered <- HM450.intersect[names(HM27.intersect)]\n",
    "randIdx <- rand.index(HM450.intersectOrdered, HM27.intersect)"
   ]
  },
  {
   "cell_type": "code",
   "execution_count": 10,
   "metadata": {},
   "outputs": [
    {
     "name": "stdout",
     "output_type": "stream",
     "text": [
      "[1] 0.878243\n"
     ]
    }
   ],
   "source": [
    "print(randIdx)  "
   ]
  },
  {
   "cell_type": "markdown",
   "metadata": {},
   "source": [
    "The agreement of the clustering on the common probes are high between HM27 and HM450"
   ]
  },
  {
   "cell_type": "markdown",
   "metadata": {},
   "source": [
    "## Extract the probe and gene id for each methylation cluster"
   ]
  },
  {
   "cell_type": "code",
   "execution_count": 11,
   "metadata": {},
   "outputs": [],
   "source": [
    "load('../data/processed/HM27.RData')"
   ]
  },
  {
   "cell_type": "code",
   "execution_count": 12,
   "metadata": {},
   "outputs": [
    {
     "data": {
      "text/html": [
       "<table>\n",
       "<thead><tr><th></th><th scope=col>ID</th><th scope=col>Gene.Symbol</th></tr></thead>\n",
       "<tbody>\n",
       "\t<tr><th scope=row>1</th><td>cg00000292    </td><td>ATP2A1        </td></tr>\n",
       "\t<tr><th scope=row>2</th><td>cg00002426    </td><td>SLMAP         </td></tr>\n",
       "\t<tr><th scope=row>3</th><td>cg00003994    </td><td>MEOX2         </td></tr>\n",
       "\t<tr><th scope=row>4</th><td>cg00005847    </td><td>HOXD3         </td></tr>\n",
       "\t<tr><th scope=row>7</th><td>cg00008493    </td><td>COX8C;KIAA1409</td></tr>\n",
       "\t<tr><th scope=row>8</th><td>cg00008713    </td><td>IMPA2         </td></tr>\n",
       "</tbody>\n",
       "</table>\n"
      ],
      "text/latex": [
       "\\begin{tabular}{r|ll}\n",
       "  & ID & Gene.Symbol\\\\\n",
       "\\hline\n",
       "\t1 & cg00000292     & ATP2A1        \\\\\n",
       "\t2 & cg00002426     & SLMAP         \\\\\n",
       "\t3 & cg00003994     & MEOX2         \\\\\n",
       "\t4 & cg00005847     & HOXD3         \\\\\n",
       "\t7 & cg00008493     & COX8C;KIAA1409\\\\\n",
       "\t8 & cg00008713     & IMPA2         \\\\\n",
       "\\end{tabular}\n"
      ],
      "text/markdown": [
       "\n",
       "| <!--/--> | ID | Gene.Symbol | \n",
       "|---|---|---|---|---|---|\n",
       "| 1 | cg00000292     | ATP2A1         | \n",
       "| 2 | cg00002426     | SLMAP          | \n",
       "| 3 | cg00003994     | MEOX2          | \n",
       "| 4 | cg00005847     | HOXD3          | \n",
       "| 7 | cg00008493     | COX8C;KIAA1409 | \n",
       "| 8 | cg00008713     | IMPA2          | \n",
       "\n",
       "\n"
      ],
      "text/plain": [
       "  ID         Gene.Symbol   \n",
       "1 cg00000292 ATP2A1        \n",
       "2 cg00002426 SLMAP         \n",
       "3 cg00003994 MEOX2         \n",
       "4 cg00005847 HOXD3         \n",
       "7 cg00008493 COX8C;KIAA1409\n",
       "8 cg00008713 IMPA2         "
      ]
     },
     "metadata": {},
     "output_type": "display_data"
    }
   ],
   "source": [
    "geneid <- data.HM27[,seq(2)]\n",
    "head(geneid)"
   ]
  },
  {
   "cell_type": "code",
   "execution_count": 17,
   "metadata": {},
   "outputs": [
    {
     "name": "stdout",
     "output_type": "stream",
     "text": [
      "[1] \"The number of probes is 33 and the number of genes is 33\"\n"
     ]
    },
    {
     "data": {
      "text/html": [
       "<table>\n",
       "<thead><tr><th scope=col>id</th><th scope=col>gene</th></tr></thead>\n",
       "<tbody>\n",
       "\t<tr><td>cg00128877</td><td>MKNK1     </td></tr>\n",
       "\t<tr><td>cg00381076</td><td>C18orf54  </td></tr>\n",
       "\t<tr><td>cg00560119</td><td>STXBP1    </td></tr>\n",
       "\t<tr><td>cg00840516</td><td>HYAL2     </td></tr>\n",
       "\t<tr><td>cg02564523</td><td>ORAI2     </td></tr>\n",
       "\t<tr><td>cg02668984</td><td>PDK2      </td></tr>\n",
       "</tbody>\n",
       "</table>\n"
      ],
      "text/latex": [
       "\\begin{tabular}{r|ll}\n",
       " id & gene\\\\\n",
       "\\hline\n",
       "\t cg00128877 & MKNK1     \\\\\n",
       "\t cg00381076 & C18orf54  \\\\\n",
       "\t cg00560119 & STXBP1    \\\\\n",
       "\t cg00840516 & HYAL2     \\\\\n",
       "\t cg02564523 & ORAI2     \\\\\n",
       "\t cg02668984 & PDK2      \\\\\n",
       "\\end{tabular}\n"
      ],
      "text/markdown": [
       "\n",
       "id | gene | \n",
       "|---|---|---|---|---|---|\n",
       "| cg00128877 | MKNK1      | \n",
       "| cg00381076 | C18orf54   | \n",
       "| cg00560119 | STXBP1     | \n",
       "| cg00840516 | HYAL2      | \n",
       "| cg02564523 | ORAI2      | \n",
       "| cg02668984 | PDK2       | \n",
       "\n",
       "\n"
      ],
      "text/plain": [
       "  id         gene    \n",
       "1 cg00128877 MKNK1   \n",
       "2 cg00381076 C18orf54\n",
       "3 cg00560119 STXBP1  \n",
       "4 cg00840516 HYAL2   \n",
       "5 cg02564523 ORAI2   \n",
       "6 cg02668984 PDK2    "
      ]
     },
     "metadata": {},
     "output_type": "display_data"
    }
   ],
   "source": [
    "i <- 1\n",
    "cluster1 <- ExtractClusterProbes(HM27.cluster, geneid, i)\n",
    "head(cluster1)"
   ]
  },
  {
   "cell_type": "code",
   "execution_count": 37,
   "metadata": {},
   "outputs": [
    {
     "name": "stderr",
     "output_type": "stream",
     "text": [
      "Warning message:\n",
      "“Column `gene`/`hgnc_symbol` joining factor and character vector, coercing into character vector”"
     ]
    },
    {
     "data": {
      "text/html": [
       "<table>\n",
       "<thead><tr><th scope=col>id</th><th scope=col>gene</th><th scope=col>description</th></tr></thead>\n",
       "<tbody>\n",
       "\t<tr><td>cg00128877                                                                            </td><td>MKNK1                                                                                 </td><td>MAP kinase interacting serine/threonine kinase 1 [Source:HGNC Symbol;Acc:HGNC:7110]   </td></tr>\n",
       "\t<tr><td>cg00381076                                                                            </td><td>C18orf54                                                                              </td><td>chromosome 18 open reading frame 54 [Source:HGNC Symbol;Acc:HGNC:13796]               </td></tr>\n",
       "\t<tr><td>cg00560119                                                                            </td><td>STXBP1                                                                                </td><td>syntaxin binding protein 1 [Source:HGNC Symbol;Acc:HGNC:11444]                        </td></tr>\n",
       "\t<tr><td>cg00840516                                                                            </td><td>HYAL2                                                                                 </td><td>hyaluronoglucosaminidase 2 [Source:HGNC Symbol;Acc:HGNC:5321]                         </td></tr>\n",
       "\t<tr><td>cg02564523                                                                            </td><td>ORAI2                                                                                 </td><td>ORAI calcium release-activated calcium modulator 2 [Source:HGNC Symbol;Acc:HGNC:21667]</td></tr>\n",
       "\t<tr><td>cg02668984                                                                            </td><td>PDK2                                                                                  </td><td>pyruvate dehydrogenase kinase 2 [Source:HGNC Symbol;Acc:HGNC:8810]                    </td></tr>\n",
       "</tbody>\n",
       "</table>\n"
      ],
      "text/latex": [
       "\\begin{tabular}{r|lll}\n",
       " id & gene & description\\\\\n",
       "\\hline\n",
       "\t cg00128877                                                                                 & MKNK1                                                                                      & MAP kinase interacting serine/threonine kinase 1 {[}Source:HGNC Symbol;Acc:HGNC:7110{]}   \\\\\n",
       "\t cg00381076                                                                                 & C18orf54                                                                                   & chromosome 18 open reading frame 54 {[}Source:HGNC Symbol;Acc:HGNC:13796{]}               \\\\\n",
       "\t cg00560119                                                                                 & STXBP1                                                                                     & syntaxin binding protein 1 {[}Source:HGNC Symbol;Acc:HGNC:11444{]}                        \\\\\n",
       "\t cg00840516                                                                                 & HYAL2                                                                                      & hyaluronoglucosaminidase 2 {[}Source:HGNC Symbol;Acc:HGNC:5321{]}                         \\\\\n",
       "\t cg02564523                                                                                 & ORAI2                                                                                      & ORAI calcium release-activated calcium modulator 2 {[}Source:HGNC Symbol;Acc:HGNC:21667{]}\\\\\n",
       "\t cg02668984                                                                                 & PDK2                                                                                       & pyruvate dehydrogenase kinase 2 {[}Source:HGNC Symbol;Acc:HGNC:8810{]}                    \\\\\n",
       "\\end{tabular}\n"
      ],
      "text/markdown": [
       "\n",
       "id | gene | description | \n",
       "|---|---|---|---|---|---|\n",
       "| cg00128877                                                                             | MKNK1                                                                                  | MAP kinase interacting serine/threonine kinase 1 [Source:HGNC Symbol;Acc:HGNC:7110]    | \n",
       "| cg00381076                                                                             | C18orf54                                                                               | chromosome 18 open reading frame 54 [Source:HGNC Symbol;Acc:HGNC:13796]                | \n",
       "| cg00560119                                                                             | STXBP1                                                                                 | syntaxin binding protein 1 [Source:HGNC Symbol;Acc:HGNC:11444]                         | \n",
       "| cg00840516                                                                             | HYAL2                                                                                  | hyaluronoglucosaminidase 2 [Source:HGNC Symbol;Acc:HGNC:5321]                          | \n",
       "| cg02564523                                                                             | ORAI2                                                                                  | ORAI calcium release-activated calcium modulator 2 [Source:HGNC Symbol;Acc:HGNC:21667] | \n",
       "| cg02668984                                                                             | PDK2                                                                                   | pyruvate dehydrogenase kinase 2 [Source:HGNC Symbol;Acc:HGNC:8810]                     | \n",
       "\n",
       "\n"
      ],
      "text/plain": [
       "  id         gene    \n",
       "1 cg00128877 MKNK1   \n",
       "2 cg00381076 C18orf54\n",
       "3 cg00560119 STXBP1  \n",
       "4 cg00840516 HYAL2   \n",
       "5 cg02564523 ORAI2   \n",
       "6 cg02668984 PDK2    \n",
       "  description                                                                           \n",
       "1 MAP kinase interacting serine/threonine kinase 1 [Source:HGNC Symbol;Acc:HGNC:7110]   \n",
       "2 chromosome 18 open reading frame 54 [Source:HGNC Symbol;Acc:HGNC:13796]               \n",
       "3 syntaxin binding protein 1 [Source:HGNC Symbol;Acc:HGNC:11444]                        \n",
       "4 hyaluronoglucosaminidase 2 [Source:HGNC Symbol;Acc:HGNC:5321]                         \n",
       "5 ORAI calcium release-activated calcium modulator 2 [Source:HGNC Symbol;Acc:HGNC:21667]\n",
       "6 pyruvate dehydrogenase kinase 2 [Source:HGNC Symbol;Acc:HGNC:8810]                    "
      ]
     },
     "metadata": {},
     "output_type": "display_data"
    }
   ],
   "source": [
    "merged1 <- MergeHGNCDescription(cluster1)\n",
    "head(merged1)"
   ]
  },
  {
   "cell_type": "code",
   "execution_count": 40,
   "metadata": {},
   "outputs": [],
   "source": [
    "WriteCSV(merged1, path='../data/180413/HM27/resultsMcentersubset/cluster1.csv')"
   ]
  },
  {
   "cell_type": "markdown",
   "metadata": {},
   "source": [
    "## Putting this all together"
   ]
  },
  {
   "cell_type": "code",
   "execution_count": 42,
   "metadata": {},
   "outputs": [
    {
     "name": "stdout",
     "output_type": "stream",
     "text": [
      "[1] \"The number of probes for cluster 1 is 33 and the number of genes is 33\"\n"
     ]
    },
    {
     "name": "stderr",
     "output_type": "stream",
     "text": [
      "Warning message:\n",
      "“Column `gene`/`hgnc_symbol` joining factor and character vector, coercing into character vector”"
     ]
    },
    {
     "name": "stdout",
     "output_type": "stream",
     "text": [
      "[1] \"Wrote csv to ../data/180413/HM27/resultsMcentersubset//cluster1.csv\"\n",
      "[1] \"The number of probes for cluster 2 is 26 and the number of genes is 26\"\n"
     ]
    },
    {
     "name": "stderr",
     "output_type": "stream",
     "text": [
      "Warning message:\n",
      "“Column `gene`/`hgnc_symbol` joining factor and character vector, coercing into character vector”"
     ]
    },
    {
     "name": "stdout",
     "output_type": "stream",
     "text": [
      "[1] \"Wrote csv to ../data/180413/HM27/resultsMcentersubset//cluster2.csv\"\n",
      "[1] \"The number of probes for cluster 3 is 78 and the number of genes is 78\"\n"
     ]
    },
    {
     "name": "stderr",
     "output_type": "stream",
     "text": [
      "Warning message:\n",
      "“Column `gene`/`hgnc_symbol` joining factor and character vector, coercing into character vector”"
     ]
    },
    {
     "name": "stdout",
     "output_type": "stream",
     "text": [
      "[1] \"Wrote csv to ../data/180413/HM27/resultsMcentersubset//cluster3.csv\"\n",
      "[1] \"The number of probes for cluster 4 is 29 and the number of genes is 29\"\n"
     ]
    },
    {
     "name": "stderr",
     "output_type": "stream",
     "text": [
      "Warning message:\n",
      "“Column `gene`/`hgnc_symbol` joining factor and character vector, coercing into character vector”"
     ]
    },
    {
     "name": "stdout",
     "output_type": "stream",
     "text": [
      "[1] \"Wrote csv to ../data/180413/HM27/resultsMcentersubset//cluster4.csv\"\n",
      "[1] \"The number of probes for cluster 5 is 15 and the number of genes is 15\"\n"
     ]
    },
    {
     "name": "stderr",
     "output_type": "stream",
     "text": [
      "Warning message:\n",
      "“Column `gene`/`hgnc_symbol` joining factor and character vector, coercing into character vector”"
     ]
    },
    {
     "name": "stdout",
     "output_type": "stream",
     "text": [
      "[1] \"Wrote csv to ../data/180413/HM27/resultsMcentersubset//cluster5.csv\"\n",
      "[1] \"The number of probes for cluster 6 is 12 and the number of genes is 12\"\n"
     ]
    },
    {
     "name": "stderr",
     "output_type": "stream",
     "text": [
      "Warning message:\n",
      "“Column `gene`/`hgnc_symbol` joining factor and character vector, coercing into character vector”"
     ]
    },
    {
     "name": "stdout",
     "output_type": "stream",
     "text": [
      "[1] \"Wrote csv to ../data/180413/HM27/resultsMcentersubset//cluster6.csv\"\n",
      "[1] \"The number of probes for cluster 7 is 26 and the number of genes is 26\"\n"
     ]
    },
    {
     "name": "stderr",
     "output_type": "stream",
     "text": [
      "Warning message:\n",
      "“Column `gene`/`hgnc_symbol` joining factor and character vector, coercing into character vector”"
     ]
    },
    {
     "name": "stdout",
     "output_type": "stream",
     "text": [
      "[1] \"Wrote csv to ../data/180413/HM27/resultsMcentersubset//cluster7.csv\"\n",
      "[1] \"The number of probes for cluster 8 is 36 and the number of genes is 36\"\n"
     ]
    },
    {
     "name": "stderr",
     "output_type": "stream",
     "text": [
      "Warning message:\n",
      "“Column `gene`/`hgnc_symbol` joining factor and character vector, coercing into character vector”"
     ]
    },
    {
     "name": "stdout",
     "output_type": "stream",
     "text": [
      "[1] \"Wrote csv to ../data/180413/HM27/resultsMcentersubset//cluster8.csv\"\n",
      "[1] \"The number of probes for cluster 9 is 27 and the number of genes is 27\"\n"
     ]
    },
    {
     "name": "stderr",
     "output_type": "stream",
     "text": [
      "Warning message:\n",
      "“Column `gene`/`hgnc_symbol` joining factor and character vector, coercing into character vector”"
     ]
    },
    {
     "name": "stdout",
     "output_type": "stream",
     "text": [
      "[1] \"Wrote csv to ../data/180413/HM27/resultsMcentersubset//cluster9.csv\"\n",
      "[1] \"The number of probes for cluster 10 is 31 and the number of genes is 31\"\n"
     ]
    },
    {
     "name": "stderr",
     "output_type": "stream",
     "text": [
      "Warning message:\n",
      "“Column `gene`/`hgnc_symbol` joining factor and character vector, coercing into character vector”"
     ]
    },
    {
     "name": "stdout",
     "output_type": "stream",
     "text": [
      "[1] \"Wrote csv to ../data/180413/HM27/resultsMcentersubset//cluster10.csv\"\n",
      "[1] \"The number of probes for cluster 11 is 83 and the number of genes is 83\"\n"
     ]
    },
    {
     "name": "stderr",
     "output_type": "stream",
     "text": [
      "Warning message:\n",
      "“Column `gene`/`hgnc_symbol` joining factor and character vector, coercing into character vector”"
     ]
    },
    {
     "name": "stdout",
     "output_type": "stream",
     "text": [
      "[1] \"Wrote csv to ../data/180413/HM27/resultsMcentersubset//cluster11.csv\"\n",
      "[1] \"The number of probes for cluster 12 is 13 and the number of genes is 13\"\n"
     ]
    },
    {
     "name": "stderr",
     "output_type": "stream",
     "text": [
      "Warning message:\n",
      "“Column `gene`/`hgnc_symbol` joining factor and character vector, coercing into character vector”"
     ]
    },
    {
     "name": "stdout",
     "output_type": "stream",
     "text": [
      "[1] \"Wrote csv to ../data/180413/HM27/resultsMcentersubset//cluster12.csv\"\n",
      "[1] \"The number of probes for cluster 13 is 22 and the number of genes is 22\"\n"
     ]
    },
    {
     "name": "stderr",
     "output_type": "stream",
     "text": [
      "Warning message:\n",
      "“Column `gene`/`hgnc_symbol` joining factor and character vector, coercing into character vector”"
     ]
    },
    {
     "name": "stdout",
     "output_type": "stream",
     "text": [
      "[1] \"Wrote csv to ../data/180413/HM27/resultsMcentersubset//cluster13.csv\"\n",
      "[1] \"The number of probes for cluster 14 is 22 and the number of genes is 22\"\n"
     ]
    },
    {
     "name": "stderr",
     "output_type": "stream",
     "text": [
      "Warning message:\n",
      "“Column `gene`/`hgnc_symbol` joining factor and character vector, coercing into character vector”"
     ]
    },
    {
     "name": "stdout",
     "output_type": "stream",
     "text": [
      "[1] \"Wrote csv to ../data/180413/HM27/resultsMcentersubset//cluster14.csv\"\n",
      "[1] \"The number of probes for cluster 15 is 36 and the number of genes is 36\"\n"
     ]
    },
    {
     "name": "stderr",
     "output_type": "stream",
     "text": [
      "Warning message:\n",
      "“Column `gene`/`hgnc_symbol` joining factor and character vector, coercing into character vector”"
     ]
    },
    {
     "name": "stdout",
     "output_type": "stream",
     "text": [
      "[1] \"Wrote csv to ../data/180413/HM27/resultsMcentersubset//cluster15.csv\"\n",
      "[1] \"The number of probes for cluster 16 is 53 and the number of genes is 53\"\n"
     ]
    },
    {
     "name": "stderr",
     "output_type": "stream",
     "text": [
      "Warning message:\n",
      "“Column `gene`/`hgnc_symbol` joining factor and character vector, coercing into character vector”"
     ]
    },
    {
     "name": "stdout",
     "output_type": "stream",
     "text": [
      "[1] \"Wrote csv to ../data/180413/HM27/resultsMcentersubset//cluster16.csv\"\n",
      "[1] \"The number of probes for cluster 17 is 25 and the number of genes is 25\"\n"
     ]
    },
    {
     "name": "stderr",
     "output_type": "stream",
     "text": [
      "Warning message:\n",
      "“Column `gene`/`hgnc_symbol` joining factor and character vector, coercing into character vector”"
     ]
    },
    {
     "name": "stdout",
     "output_type": "stream",
     "text": [
      "[1] \"Wrote csv to ../data/180413/HM27/resultsMcentersubset//cluster17.csv\"\n",
      "[1] \"The number of probes for cluster 18 is 3 and the number of genes is 3\"\n"
     ]
    },
    {
     "name": "stderr",
     "output_type": "stream",
     "text": [
      "Warning message:\n",
      "“Column `gene`/`hgnc_symbol` joining factor and character vector, coercing into character vector”"
     ]
    },
    {
     "name": "stdout",
     "output_type": "stream",
     "text": [
      "[1] \"Wrote csv to ../data/180413/HM27/resultsMcentersubset//cluster18.csv\"\n",
      "[1] \"The number of probes for cluster 19 is 9 and the number of genes is 9\"\n"
     ]
    },
    {
     "name": "stderr",
     "output_type": "stream",
     "text": [
      "Warning message:\n",
      "“Column `gene`/`hgnc_symbol` joining factor and character vector, coercing into character vector”"
     ]
    },
    {
     "name": "stdout",
     "output_type": "stream",
     "text": [
      "[1] \"Wrote csv to ../data/180413/HM27/resultsMcentersubset//cluster19.csv\"\n",
      "[1] \"The number of probes for cluster 20 is 11 and the number of genes is 11\"\n"
     ]
    },
    {
     "name": "stderr",
     "output_type": "stream",
     "text": [
      "Warning message:\n",
      "“Column `gene`/`hgnc_symbol` joining factor and character vector, coercing into character vector”"
     ]
    },
    {
     "name": "stdout",
     "output_type": "stream",
     "text": [
      "[1] \"Wrote csv to ../data/180413/HM27/resultsMcentersubset//cluster20.csv\"\n"
     ]
    }
   ],
   "source": [
    "WriteClusterInfo(HM27.cluster, geneid, '../data/180413/HM27/resultsMcentersubset/')"
   ]
  },
  {
   "cell_type": "markdown",
   "metadata": {},
   "source": [
    "## Write the same information in the predictors"
   ]
  },
  {
   "cell_type": "code",
   "execution_count": 50,
   "metadata": {},
   "outputs": [],
   "source": [
    "load('../data/180413/HM27/vbsrresultsMcentersubset/cluster1.RData')"
   ]
  },
  {
   "cell_type": "code",
   "execution_count": 54,
   "metadata": {},
   "outputs": [
    {
     "name": "stderr",
     "output_type": "stream",
     "text": [
      "Warning message:\n",
      "“Column `gene`/`hgnc_symbol` joining factor and character vector, coercing into character vector”"
     ]
    },
    {
     "data": {
      "text/html": [
       "<table>\n",
       "<thead><tr><th scope=col>gene</th><th scope=col>coef</th><th scope=col>description</th></tr></thead>\n",
       "<tbody>\n",
       "\t<tr><td>ADPRH                                                          </td><td>-0.3957416                                                     </td><td>ADP-ribosylarginine hydrolase [Source:HGNC Symbol;Acc:HGNC:269]</td></tr>\n",
       "\t<tr><td>C7orf46                                                        </td><td>-0.1575272                                                     </td><td>NA                                                             </td></tr>\n",
       "\t<tr><td>CYTH2                                                          </td><td> 0.4603937                                                     </td><td>cytohesin 2 [Source:HGNC Symbol;Acc:HGNC:9502]                 </td></tr>\n",
       "\t<tr><td>KLF11                                                          </td><td>-0.1665144                                                     </td><td>Kruppel like factor 11 [Source:HGNC Symbol;Acc:HGNC:11811]     </td></tr>\n",
       "\t<tr><td>SH3PXD2A                                                       </td><td>-0.2671733                                                     </td><td>SH3 and PX domains 2A [Source:HGNC Symbol;Acc:HGNC:23664]      </td></tr>\n",
       "</tbody>\n",
       "</table>\n"
      ],
      "text/latex": [
       "\\begin{tabular}{r|lll}\n",
       " gene & coef & description\\\\\n",
       "\\hline\n",
       "\t ADPRH                                                               & -0.3957416                                                          & ADP-ribosylarginine hydrolase {[}Source:HGNC Symbol;Acc:HGNC:269{]}\\\\\n",
       "\t C7orf46                                                         & -0.1575272                                                      & NA                                                             \\\\\n",
       "\t CYTH2                                                               &  0.4603937                                                          & cytohesin 2 {[}Source:HGNC Symbol;Acc:HGNC:9502{]}                 \\\\\n",
       "\t KLF11                                                               & -0.1665144                                                          & Kruppel like factor 11 {[}Source:HGNC Symbol;Acc:HGNC:11811{]}     \\\\\n",
       "\t SH3PXD2A                                                            & -0.2671733                                                          & SH3 and PX domains 2A {[}Source:HGNC Symbol;Acc:HGNC:23664{]}      \\\\\n",
       "\\end{tabular}\n"
      ],
      "text/markdown": [
       "\n",
       "gene | coef | description | \n",
       "|---|---|---|---|---|\n",
       "| ADPRH                                                           | -0.3957416                                                      | ADP-ribosylarginine hydrolase [Source:HGNC Symbol;Acc:HGNC:269] | \n",
       "| C7orf46                                                         | -0.1575272                                                      | NA                                                              | \n",
       "| CYTH2                                                           |  0.4603937                                                      | cytohesin 2 [Source:HGNC Symbol;Acc:HGNC:9502]                  | \n",
       "| KLF11                                                           | -0.1665144                                                      | Kruppel like factor 11 [Source:HGNC Symbol;Acc:HGNC:11811]      | \n",
       "| SH3PXD2A                                                        | -0.2671733                                                      | SH3 and PX domains 2A [Source:HGNC Symbol;Acc:HGNC:23664]       | \n",
       "\n",
       "\n"
      ],
      "text/plain": [
       "  gene     coef      \n",
       "1 ADPRH    -0.3957416\n",
       "2 C7orf46  -0.1575272\n",
       "3 CYTH2     0.4603937\n",
       "4 KLF11    -0.1665144\n",
       "5 SH3PXD2A -0.2671733\n",
       "  description                                                    \n",
       "1 ADP-ribosylarginine hydrolase [Source:HGNC Symbol;Acc:HGNC:269]\n",
       "2 NA                                                             \n",
       "3 cytohesin 2 [Source:HGNC Symbol;Acc:HGNC:9502]                 \n",
       "4 Kruppel like factor 11 [Source:HGNC Symbol;Acc:HGNC:11811]     \n",
       "5 SH3 and PX domains 2A [Source:HGNC Symbol;Acc:HGNC:23664]      "
      ]
     },
     "metadata": {},
     "output_type": "display_data"
    }
   ],
   "source": [
    "MergeHGNCDescription(coef)"
   ]
  },
  {
   "cell_type": "code",
   "execution_count": 53,
   "metadata": {},
   "outputs": [
    {
     "data": {
      "text/html": [
       "'cluster1'"
      ],
      "text/latex": [
       "'cluster1'"
      ],
      "text/markdown": [
       "'cluster1'"
      ],
      "text/plain": [
       "[1] \"cluster1\""
      ]
     },
     "metadata": {},
     "output_type": "display_data"
    }
   ],
   "source": [
    "base.name"
   ]
  },
  {
   "cell_type": "code",
   "execution_count": 58,
   "metadata": {},
   "outputs": [
    {
     "name": "stderr",
     "output_type": "stream",
     "text": [
      "Warning message:\n",
      "“Column `gene`/`hgnc_symbol` joining factor and character vector, coercing into character vector”"
     ]
    },
    {
     "name": "stdout",
     "output_type": "stream",
     "text": [
      "[1] \"Wrote csv to ../data/180413/HM27/vbsrresultsMcentersubset//cluster1Predictor.csv\"\n"
     ]
    },
    {
     "name": "stderr",
     "output_type": "stream",
     "text": [
      "Warning message:\n",
      "“Column `gene`/`hgnc_symbol` joining factor and character vector, coercing into character vector”"
     ]
    },
    {
     "name": "stdout",
     "output_type": "stream",
     "text": [
      "[1] \"Wrote csv to ../data/180413/HM27/vbsrresultsMcentersubset//cluster2Predictor.csv\"\n"
     ]
    },
    {
     "name": "stderr",
     "output_type": "stream",
     "text": [
      "Warning message:\n",
      "“Column `gene`/`hgnc_symbol` joining factor and character vector, coercing into character vector”"
     ]
    },
    {
     "name": "stdout",
     "output_type": "stream",
     "text": [
      "[1] \"Wrote csv to ../data/180413/HM27/vbsrresultsMcentersubset//cluster3Predictor.csv\"\n"
     ]
    },
    {
     "name": "stderr",
     "output_type": "stream",
     "text": [
      "Warning message:\n",
      "“Column `gene`/`hgnc_symbol` joining factor and character vector, coercing into character vector”"
     ]
    },
    {
     "name": "stdout",
     "output_type": "stream",
     "text": [
      "[1] \"Wrote csv to ../data/180413/HM27/vbsrresultsMcentersubset//cluster4Predictor.csv\"\n"
     ]
    },
    {
     "name": "stderr",
     "output_type": "stream",
     "text": [
      "Warning message:\n",
      "“Column `gene`/`hgnc_symbol` joining factor and character vector, coercing into character vector”"
     ]
    },
    {
     "name": "stdout",
     "output_type": "stream",
     "text": [
      "[1] \"Wrote csv to ../data/180413/HM27/vbsrresultsMcentersubset//cluster5Predictor.csv\"\n"
     ]
    },
    {
     "name": "stderr",
     "output_type": "stream",
     "text": [
      "Warning message:\n",
      "“Column `gene`/`hgnc_symbol` joining factor and character vector, coercing into character vector”"
     ]
    },
    {
     "name": "stdout",
     "output_type": "stream",
     "text": [
      "[1] \"Wrote csv to ../data/180413/HM27/vbsrresultsMcentersubset//cluster6Predictor.csv\"\n"
     ]
    },
    {
     "name": "stderr",
     "output_type": "stream",
     "text": [
      "Warning message:\n",
      "“Column `gene`/`hgnc_symbol` joining factor and character vector, coercing into character vector”"
     ]
    },
    {
     "name": "stdout",
     "output_type": "stream",
     "text": [
      "[1] \"Wrote csv to ../data/180413/HM27/vbsrresultsMcentersubset//cluster7Predictor.csv\"\n"
     ]
    },
    {
     "name": "stderr",
     "output_type": "stream",
     "text": [
      "Warning message:\n",
      "“Column `gene`/`hgnc_symbol` joining factor and character vector, coercing into character vector”"
     ]
    },
    {
     "name": "stdout",
     "output_type": "stream",
     "text": [
      "[1] \"Wrote csv to ../data/180413/HM27/vbsrresultsMcentersubset//cluster8Predictor.csv\"\n"
     ]
    },
    {
     "name": "stderr",
     "output_type": "stream",
     "text": [
      "Warning message:\n",
      "“Column `gene`/`hgnc_symbol` joining factor and character vector, coercing into character vector”"
     ]
    },
    {
     "name": "stdout",
     "output_type": "stream",
     "text": [
      "[1] \"Wrote csv to ../data/180413/HM27/vbsrresultsMcentersubset//cluster9Predictor.csv\"\n"
     ]
    },
    {
     "name": "stderr",
     "output_type": "stream",
     "text": [
      "Warning message:\n",
      "“Column `gene`/`hgnc_symbol` joining factor and character vector, coercing into character vector”"
     ]
    },
    {
     "name": "stdout",
     "output_type": "stream",
     "text": [
      "[1] \"Wrote csv to ../data/180413/HM27/vbsrresultsMcentersubset//cluster10Predictor.csv\"\n"
     ]
    },
    {
     "name": "stderr",
     "output_type": "stream",
     "text": [
      "Warning message:\n",
      "“Column `gene`/`hgnc_symbol` joining factor and character vector, coercing into character vector”"
     ]
    },
    {
     "name": "stdout",
     "output_type": "stream",
     "text": [
      "[1] \"Wrote csv to ../data/180413/HM27/vbsrresultsMcentersubset//cluster11Predictor.csv\"\n"
     ]
    },
    {
     "name": "stderr",
     "output_type": "stream",
     "text": [
      "Warning message:\n",
      "“Column `gene`/`hgnc_symbol` joining factor and character vector, coercing into character vector”"
     ]
    },
    {
     "name": "stdout",
     "output_type": "stream",
     "text": [
      "[1] \"Wrote csv to ../data/180413/HM27/vbsrresultsMcentersubset//cluster12Predictor.csv\"\n"
     ]
    },
    {
     "name": "stderr",
     "output_type": "stream",
     "text": [
      "Warning message:\n",
      "“Column `gene`/`hgnc_symbol` joining factor and character vector, coercing into character vector”"
     ]
    },
    {
     "name": "stdout",
     "output_type": "stream",
     "text": [
      "[1] \"Wrote csv to ../data/180413/HM27/vbsrresultsMcentersubset//cluster13Predictor.csv\"\n"
     ]
    },
    {
     "name": "stderr",
     "output_type": "stream",
     "text": [
      "Warning message:\n",
      "“Column `gene`/`hgnc_symbol` joining factor and character vector, coercing into character vector”"
     ]
    },
    {
     "name": "stdout",
     "output_type": "stream",
     "text": [
      "[1] \"Wrote csv to ../data/180413/HM27/vbsrresultsMcentersubset//cluster14Predictor.csv\"\n"
     ]
    },
    {
     "name": "stderr",
     "output_type": "stream",
     "text": [
      "Warning message:\n",
      "“Column `gene`/`hgnc_symbol` joining factor and character vector, coercing into character vector”"
     ]
    },
    {
     "name": "stdout",
     "output_type": "stream",
     "text": [
      "[1] \"Wrote csv to ../data/180413/HM27/vbsrresultsMcentersubset//cluster15Predictor.csv\"\n",
      "[1] \"No predictor selected for cluster 16\"\n"
     ]
    },
    {
     "name": "stderr",
     "output_type": "stream",
     "text": [
      "Warning message:\n",
      "“Column `gene`/`hgnc_symbol` joining factor and character vector, coercing into character vector”"
     ]
    },
    {
     "name": "stdout",
     "output_type": "stream",
     "text": [
      "[1] \"Wrote csv to ../data/180413/HM27/vbsrresultsMcentersubset//cluster17Predictor.csv\"\n"
     ]
    },
    {
     "name": "stderr",
     "output_type": "stream",
     "text": [
      "Warning message:\n",
      "“Column `gene`/`hgnc_symbol` joining factor and character vector, coercing into character vector”"
     ]
    },
    {
     "name": "stdout",
     "output_type": "stream",
     "text": [
      "[1] \"Wrote csv to ../data/180413/HM27/vbsrresultsMcentersubset//cluster18Predictor.csv\"\n"
     ]
    },
    {
     "name": "stderr",
     "output_type": "stream",
     "text": [
      "Warning message:\n",
      "“Column `gene`/`hgnc_symbol` joining factor and character vector, coercing into character vector”"
     ]
    },
    {
     "name": "stdout",
     "output_type": "stream",
     "text": [
      "[1] \"Wrote csv to ../data/180413/HM27/vbsrresultsMcentersubset//cluster19Predictor.csv\"\n"
     ]
    },
    {
     "name": "stderr",
     "output_type": "stream",
     "text": [
      "Warning message:\n",
      "“Column `gene`/`hgnc_symbol` joining factor and character vector, coercing into character vector”"
     ]
    },
    {
     "name": "stdout",
     "output_type": "stream",
     "text": [
      "[1] \"Wrote csv to ../data/180413/HM27/vbsrresultsMcentersubset//cluster20Predictor.csv\"\n"
     ]
    }
   ],
   "source": [
    "WritePredictorInfo('../data/180413/HM27/vbsrresultsMcentersubset/', 20)"
   ]
  },
  {
   "cell_type": "code",
   "execution_count": null,
   "metadata": {},
   "outputs": [],
   "source": []
  }
 ],
 "metadata": {
  "kernelspec": {
   "display_name": "R",
   "language": "R",
   "name": "ir"
  },
  "language_info": {
   "codemirror_mode": "r",
   "file_extension": ".r",
   "mimetype": "text/x-r-source",
   "name": "R",
   "pygments_lexer": "r",
   "version": "3.4.4"
  }
 },
 "nbformat": 4,
 "nbformat_minor": 2
}
