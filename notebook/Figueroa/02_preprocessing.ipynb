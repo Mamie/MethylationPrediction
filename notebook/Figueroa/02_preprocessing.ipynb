{
 "cells": [
  {
   "cell_type": "markdown",
   "metadata": {},
   "source": [
    "# Preprocess data\n",
    "\n",
    "Aims:\n",
    "- Write the probe information from the two datasets\n",
    "- Save the formatted data matrix (GEP and methylation)"
   ]
  },
  {
   "cell_type": "code",
   "execution_count": 1,
   "metadata": {
    "collapsed": true
   },
   "outputs": [
    {
     "name": "stderr",
     "output_type": "stream",
     "text": [
      "Warning message:\n",
      "“package ‘dplyr’ was built under R version 3.5.1”"
     ]
    }
   ],
   "source": [
    "suppressMessages({\n",
    "    library(hashmap)\n",
    "    library(tidyverse)\n",
    "    library(mygene)\n",
    "    library(cowplot)\n",
    "    library(magrittr)\n",
    "})\n",
    "trim.trailing <- function (x) sub(\"\\\\s+$\", \"\", x)"
   ]
  },
  {
   "cell_type": "code",
   "execution_count": 2,
   "metadata": {},
   "outputs": [
    {
     "name": "stderr",
     "output_type": "stream",
     "text": [
      "Parsed with column specification:\n",
      "cols(\n",
      "  .default = col_double(),\n",
      "  Name = col_character(),\n",
      "  Description = col_character()\n",
      ")\n",
      "See spec(...) for full column specifications.\n",
      "Parsed with column specification:\n",
      "cols(\n",
      "  .default = col_double(),\n",
      "  Gene = col_character(),\n",
      "  Name = col_character()\n",
      ")\n",
      "See spec(...) for full column specifications.\n"
     ]
    }
   ],
   "source": [
    "# load RNAseq and methylation data\n",
    "gep <- read_tsv('../../data/Figueroa/matcheddata/GEP-filtered.tsv')\n",
    "methylation <- read_tsv('../../data/Figueroa/matcheddata/methylation-filtered.tsv')"
   ]
  },
  {
   "cell_type": "markdown",
   "metadata": {},
   "source": [
    "## Preprocess Expression Array\n",
    "- `data/Figueroa/processeddata/gep-name2desc.tsv`: probe ID, corresponding gene and description\n",
    "- `data/Figueroa/processeddata/gep-transcription-related.tsv`: the expression matrix of probes that is related to transcription and methylation\n",
    "- `data/Figueroa/processeddata/genes-transcription-related.tsv`: GO BP ontology of the genes related to transcription and methylation"
   ]
  },
  {
   "cell_type": "code",
   "execution_count": 3,
   "metadata": {},
   "outputs": [
    {
     "data": {
      "text/html": [
       "<table>\n",
       "<thead><tr><th></th><th scope=col>GSM464771</th><th scope=col>GSM464772</th><th scope=col>GSM464773</th><th scope=col>GSM464774</th><th scope=col>GSM464775</th><th scope=col>GSM464776</th><th scope=col>GSM464777</th><th scope=col>GSM464778</th><th scope=col>GSM464779</th><th scope=col>GSM464780</th><th scope=col>⋯</th><th scope=col>GSM465020</th><th scope=col>GSM465024</th><th scope=col>GSM465026</th><th scope=col>GSM465030</th><th scope=col>GSM465060</th><th scope=col>GSM465061</th><th scope=col>GSM465062</th><th scope=col>GSM465063</th><th scope=col>GSM465064</th><th scope=col>GSM465065</th></tr></thead>\n",
       "<tbody>\n",
       "\t<tr><th scope=row>10000_at</th><td> 74.3174 </td><td> 27.66245</td><td>102.0721 </td><td>101.6374 </td><td> 31.43173</td><td> 74.90709</td><td> 68.8868 </td><td>114.4036 </td><td> 98.7125 </td><td>103.8562 </td><td>⋯        </td><td>106.8033 </td><td>207.4528 </td><td>120.7066 </td><td> 84.64849</td><td>139.1024 </td><td> 43.22202</td><td>236.6838 </td><td>210.1270 </td><td>220.1624 </td><td>147.4783 </td></tr>\n",
       "\t<tr><th scope=row>10001_at</th><td>660.5697 </td><td>536.18860</td><td>314.0691 </td><td>856.6095 </td><td>708.81936</td><td>433.50528</td><td>528.4353 </td><td>448.2595 </td><td>543.2180 </td><td>707.8009 </td><td>⋯        </td><td>406.9814 </td><td>586.1430 </td><td>410.5169 </td><td>486.99356</td><td>547.8272 </td><td>587.26037</td><td>549.8494 </td><td>398.5402 </td><td>457.6389 </td><td>384.2906 </td></tr>\n",
       "</tbody>\n",
       "</table>\n"
      ],
      "text/latex": [
       "\\begin{tabular}{r|llllllllllllllllllllllllllllllllllllllllllllllllllllllllllllllllllllllllllllllllllllllllllllllllllllllllllllllllllllllllllllllllllllllllllllllllllllllllllllllllllllllllllllllllllllllllllllllllllllllllllllllllllllllllllllllllllllllllllllllllllllllllllllllllllllllllllllllllllllllllllllllllllllllllllllllllllllllllllllllllllllllllllllllllllllllll}\n",
       "  & GSM464771 & GSM464772 & GSM464773 & GSM464774 & GSM464775 & GSM464776 & GSM464777 & GSM464778 & GSM464779 & GSM464780 & ⋯ & GSM465020 & GSM465024 & GSM465026 & GSM465030 & GSM465060 & GSM465061 & GSM465062 & GSM465063 & GSM465064 & GSM465065\\\\\n",
       "\\hline\n",
       "\t10000\\_at &  74.3174  &  27.66245 & 102.0721  & 101.6374  &  31.43173 &  74.90709 &  68.8868  & 114.4036  &  98.7125  & 103.8562  & ⋯         & 106.8033  & 207.4528  & 120.7066  &  84.64849 & 139.1024  &  43.22202 & 236.6838  & 210.1270  & 220.1624  & 147.4783 \\\\\n",
       "\t10001\\_at & 660.5697  & 536.18860 & 314.0691  & 856.6095  & 708.81936 & 433.50528 & 528.4353  & 448.2595  & 543.2180  & 707.8009  & ⋯         & 406.9814  & 586.1430  & 410.5169  & 486.99356 & 547.8272  & 587.26037 & 549.8494  & 398.5402  & 457.6389  & 384.2906 \\\\\n",
       "\\end{tabular}\n"
      ],
      "text/markdown": [
       "\n",
       "| <!--/--> | GSM464771 | GSM464772 | GSM464773 | GSM464774 | GSM464775 | GSM464776 | GSM464777 | GSM464778 | GSM464779 | GSM464780 | ⋯ | GSM465020 | GSM465024 | GSM465026 | GSM465030 | GSM465060 | GSM465061 | GSM465062 | GSM465063 | GSM465064 | GSM465065 | \n",
       "|---|---|\n",
       "| 10000_at |  74.3174  |  27.66245 | 102.0721  | 101.6374  |  31.43173 |  74.90709 |  68.8868  | 114.4036  |  98.7125  | 103.8562  | ⋯         | 106.8033  | 207.4528  | 120.7066  |  84.64849 | 139.1024  |  43.22202 | 236.6838  | 210.1270  | 220.1624  | 147.4783  | \n",
       "| 10001_at | 660.5697  | 536.18860 | 314.0691  | 856.6095  | 708.81936 | 433.50528 | 528.4353  | 448.2595  | 543.2180  | 707.8009  | ⋯         | 406.9814  | 586.1430  | 410.5169  | 486.99356 | 547.8272  | 587.26037 | 549.8494  | 398.5402  | 457.6389  | 384.2906  | \n",
       "\n",
       "\n"
      ],
      "text/plain": [
       "         GSM464771 GSM464772 GSM464773 GSM464774 GSM464775 GSM464776 GSM464777\n",
       "10000_at  74.3174   27.66245 102.0721  101.6374   31.43173  74.90709  68.8868 \n",
       "10001_at 660.5697  536.18860 314.0691  856.6095  708.81936 433.50528 528.4353 \n",
       "         GSM464778 GSM464779 GSM464780 ⋯ GSM465020 GSM465024 GSM465026\n",
       "10000_at 114.4036   98.7125  103.8562  ⋯ 106.8033  207.4528  120.7066 \n",
       "10001_at 448.2595  543.2180  707.8009  ⋯ 406.9814  586.1430  410.5169 \n",
       "         GSM465030 GSM465060 GSM465061 GSM465062 GSM465063 GSM465064 GSM465065\n",
       "10000_at  84.64849 139.1024   43.22202 236.6838  210.1270  220.1624  147.4783 \n",
       "10001_at 486.99356 547.8272  587.26037 549.8494  398.5402  457.6389  384.2906 "
      ]
     },
     "metadata": {},
     "output_type": "display_data"
    },
    {
     "data": {
      "text/html": [
       "<ol class=list-inline>\n",
       "\t<li>17788</li>\n",
       "\t<li>344</li>\n",
       "</ol>\n"
      ],
      "text/latex": [
       "\\begin{enumerate*}\n",
       "\\item 17788\n",
       "\\item 344\n",
       "\\end{enumerate*}\n"
      ],
      "text/markdown": [
       "1. 17788\n",
       "2. 344\n",
       "\n",
       "\n"
      ],
      "text/plain": [
       "[1] 17788   344"
      ]
     },
     "metadata": {},
     "output_type": "display_data"
    }
   ],
   "source": [
    "gep.mat <- data.matrix(gep[,-seq(2)])\n",
    "colnames(gep.mat) <- colnames(gep)[-seq(2)]\n",
    "rownames(gep.mat) <- gep$Name \n",
    "head(gep.mat, n=2) # not normalized \n",
    "dim(gep.mat)"
   ]
  },
  {
   "cell_type": "code",
   "execution_count": 4,
   "metadata": {
    "collapsed": true
   },
   "outputs": [],
   "source": [
    "name=gep[,seq(1)]\n",
    "gene=sapply(as.vector(gep$Description), function(x) trim.trailing(strsplit(x, ' - ')[[1]][1]))\n",
    "desc=sapply(as.vector(gep$Description), function(x) trim.trailing(strsplit(x, ' - ')[[1]][2]))\n",
    "\n",
    "write.table(data.frame(name=name, gene=gene, desc=desc), file='../../data/Figueroa/processeddata/gep-name2desc.tsv', sep='\\t', col.names=T, row.names=F, quote=F)"
   ]
  },
  {
   "cell_type": "code",
   "execution_count": 5,
   "metadata": {
    "collapsed": true
   },
   "outputs": [
    {
     "name": "stderr",
     "output_type": "stream",
     "text": [
      "Querying chunk 1\n",
      "Querying chunk 2\n",
      "Querying chunk 3\n",
      "Querying chunk 4\n",
      "Querying chunk 5\n",
      "Querying chunk 6\n",
      "Querying chunk 7\n",
      "Querying chunk 8\n",
      "Querying chunk 9\n",
      "Querying chunk 10\n",
      "Querying chunk 11\n",
      "Querying chunk 12\n",
      "Querying chunk 13\n",
      "Querying chunk 14\n",
      "Querying chunk 15\n",
      "Querying chunk 16\n",
      "Querying chunk 17\n",
      "Querying chunk 18\n"
     ]
    },
    {
     "name": "stdout",
     "output_type": "stream",
     "text": [
      "Finished\n"
     ]
    }
   ],
   "source": [
    "annotations <- queryMany(gene, scopes='symbol', fields=c('go'), species='human', returnall=T)\n",
    "\n",
    "terms <- c()\n",
    "for (i in seq(length(annotations$response$query))) {\n",
    "  if (is.na(annotations$response$notfound[i])) {\n",
    "    query <- annotations$response$query[i]\n",
    "    termConcat <- paste(as.character(annotations$response$go.BP[[i]]$term), collapse=', ')\n",
    "    terms <- rbind(terms, c(query, termConcat))\n",
    "  }\n",
    "}"
   ]
  },
  {
   "cell_type": "code",
   "execution_count": 6,
   "metadata": {},
   "outputs": [
    {
     "data": {
      "text/html": [
       "<ol class=list-inline>\n",
       "\t<li>'DNMT3B'</li>\n",
       "\t<li>'negative regulation of transcription by RNA polymerase II, response to hypoxia, DNA methylation, DNA methylation, response to toxic substance, response to ionizing radiation, positive regulation of gene expression, response to activity, response to caffeine, response to estradiol, response to vitamin A, response to cocaine, positive regulation of neuron differentiation, negative regulation of gene expression, epigenetic, positive regulation of histone H3-K4 methylation, negative regulation of histone H3-K9 methylation, cellular response to hyperoxia, cellular response to dexamethasone stimulus, C-5 methylation of cytosine'</li>\n",
       "</ol>\n"
      ],
      "text/latex": [
       "\\begin{enumerate*}\n",
       "\\item 'DNMT3B'\n",
       "\\item 'negative regulation of transcription by RNA polymerase II, response to hypoxia, DNA methylation, DNA methylation, response to toxic substance, response to ionizing radiation, positive regulation of gene expression, response to activity, response to caffeine, response to estradiol, response to vitamin A, response to cocaine, positive regulation of neuron differentiation, negative regulation of gene expression, epigenetic, positive regulation of histone H3-K4 methylation, negative regulation of histone H3-K9 methylation, cellular response to hyperoxia, cellular response to dexamethasone stimulus, C-5 methylation of cytosine'\n",
       "\\end{enumerate*}\n"
      ],
      "text/markdown": [
       "1. 'DNMT3B'\n",
       "2. 'negative regulation of transcription by RNA polymerase II, response to hypoxia, DNA methylation, DNA methylation, response to toxic substance, response to ionizing radiation, positive regulation of gene expression, response to activity, response to caffeine, response to estradiol, response to vitamin A, response to cocaine, positive regulation of neuron differentiation, negative regulation of gene expression, epigenetic, positive regulation of histone H3-K4 methylation, negative regulation of histone H3-K9 methylation, cellular response to hyperoxia, cellular response to dexamethasone stimulus, C-5 methylation of cytosine'\n",
       "\n",
       "\n"
      ],
      "text/plain": [
       "[1] \"DNMT3B\"                                                                                                                                                                                                                                                                                                                                                                                                                                                                                                                                                                                                                                               \n",
       "[2] \"negative regulation of transcription by RNA polymerase II, response to hypoxia, DNA methylation, DNA methylation, response to toxic substance, response to ionizing radiation, positive regulation of gene expression, response to activity, response to caffeine, response to estradiol, response to vitamin A, response to cocaine, positive regulation of neuron differentiation, negative regulation of gene expression, epigenetic, positive regulation of histone H3-K4 methylation, negative regulation of histone H3-K9 methylation, cellular response to hyperoxia, cellular response to dexamethasone stimulus, C-5 methylation of cytosine\""
      ]
     },
     "metadata": {},
     "output_type": "display_data"
    }
   ],
   "source": [
    "head(terms[terms[,1]=='DNMT3B',] ) # a methyltransferase"
   ]
  },
  {
   "cell_type": "code",
   "execution_count": 7,
   "metadata": {},
   "outputs": [
    {
     "data": {
      "text/html": [
       "<ol class=list-inline>\n",
       "\t<li>3417</li>\n",
       "\t<li>2</li>\n",
       "</ol>\n"
      ],
      "text/latex": [
       "\\begin{enumerate*}\n",
       "\\item 3417\n",
       "\\item 2\n",
       "\\end{enumerate*}\n"
      ],
      "text/markdown": [
       "1. 3417\n",
       "2. 2\n",
       "\n",
       "\n"
      ],
      "text/plain": [
       "[1] 3417    2"
      ]
     },
     "metadata": {},
     "output_type": "display_data"
    }
   ],
   "source": [
    "terms.cleaned <- data.frame(name=terms[,1], annotation=terms[,2]) %>%\n",
    "  group_by(name) %>%\n",
    "  mutate(annotations = paste0(annotation, collapse = \", \")) %>%\n",
    "  dplyr::select(-annotation) %>%\n",
    "  distinct()\n",
    "terms.filtered <- terms.cleaned %>%\n",
    "  dplyr::filter(grepl('methyl|transcrip', annotations)) # 3417 left\n",
    "dim(terms.filtered)"
   ]
  },
  {
   "cell_type": "code",
   "execution_count": 8,
   "metadata": {
    "collapsed": true
   },
   "outputs": [],
   "source": [
    "write.table(terms.filtered, file='../../data/Figueroa/processeddata/genes-transcription-related.tsv',\n",
    "           sep='\\t', row.names=F, col.names=T, quote=F)"
   ]
  },
  {
   "cell_type": "code",
   "execution_count": 9,
   "metadata": {
    "collapsed": true
   },
   "outputs": [],
   "source": [
    "filtered.idx <- which(gene %in% terms.filtered$name)\n",
    "gep.filtered <- gep.mat[filtered.idx,]\n",
    "rownames(gep.filtered) <- gene[filtered.idx]"
   ]
  },
  {
   "cell_type": "code",
   "execution_count": 10,
   "metadata": {},
   "outputs": [
    {
     "data": {
      "text/html": [
       "<ol class=list-inline>\n",
       "\t<li>3417</li>\n",
       "\t<li>344</li>\n",
       "</ol>\n"
      ],
      "text/latex": [
       "\\begin{enumerate*}\n",
       "\\item 3417\n",
       "\\item 344\n",
       "\\end{enumerate*}\n"
      ],
      "text/markdown": [
       "1. 3417\n",
       "2. 344\n",
       "\n",
       "\n"
      ],
      "text/plain": [
       "[1] 3417  344"
      ]
     },
     "metadata": {},
     "output_type": "display_data"
    }
   ],
   "source": [
    "dim(gep.filtered)"
   ]
  },
  {
   "cell_type": "code",
   "execution_count": 11,
   "metadata": {
    "collapsed": true
   },
   "outputs": [],
   "source": [
    "write.table(gep.filtered, file='../../data/Figueroa/processeddata/gep-transcription-related.tsv', sep='\\t', row.names=T, col.names=T, quote=F)"
   ]
  },
  {
   "cell_type": "markdown",
   "metadata": {},
   "source": [
    "## Preprocess Methylation Array\n",
    "\n",
    "- `data/Figueroa/processeddata/methylation-matrix.tsv`: methylation matrix on all probes that with a gene label\n",
    "- `data/Figueroa/processeddata/methylation-annotation.tsv`: probe ID, name and short description"
   ]
  },
  {
   "cell_type": "code",
   "execution_count": 12,
   "metadata": {},
   "outputs": [
    {
     "name": "stderr",
     "output_type": "stream",
     "text": [
      "Joining, by = c(\"Gene\", \"Name\")\n"
     ]
    }
   ],
   "source": [
    "methylation.filtered <- methylation %>%\n",
    "  gather(patient, value, -c(Gene, Name)) %>%\n",
    "  group_by(Gene, Name) %>%\n",
    "  summarize(sd = sd(value)) %>%\n",
    "  left_join(methylation) %>%\n",
    "  mutate(gene=sapply(Name, function(x) trim.trailing(strsplit(x, ' - ')[[1]][1]))) %>%\n",
    "  mutate(name=sapply(Name, function(x) trim.trailing(strsplit(x, ' - ')[[1]][2]))) %>% \n",
    "  filter(gene != 'NA') %>%\n",
    "  dplyr::select(-c(sd, Name))"
   ]
  },
  {
   "cell_type": "code",
   "execution_count": 13,
   "metadata": {},
   "outputs": [
    {
     "data": {
      "text/html": [
       "<ol class=list-inline>\n",
       "\t<li>22759</li>\n",
       "\t<li>347</li>\n",
       "</ol>\n"
      ],
      "text/latex": [
       "\\begin{enumerate*}\n",
       "\\item 22759\n",
       "\\item 347\n",
       "\\end{enumerate*}\n"
      ],
      "text/markdown": [
       "1. 22759\n",
       "2. 347\n",
       "\n",
       "\n"
      ],
      "text/plain": [
       "[1] 22759   347"
      ]
     },
     "metadata": {},
     "output_type": "display_data"
    }
   ],
   "source": [
    "dim(methylation.filtered)"
   ]
  },
  {
   "cell_type": "code",
   "execution_count": 14,
   "metadata": {},
   "outputs": [
    {
     "data": {
      "text/html": [
       "<table>\n",
       "<thead><tr><th></th><th scope=col>GSM464771</th><th scope=col>GSM464772</th><th scope=col>GSM464773</th><th scope=col>GSM464774</th><th scope=col>GSM464775</th><th scope=col>GSM464776</th><th scope=col>GSM464777</th><th scope=col>GSM464778</th><th scope=col>GSM464779</th><th scope=col>GSM464780</th><th scope=col>⋯</th><th scope=col>GSM465020</th><th scope=col>GSM465024</th><th scope=col>GSM465026</th><th scope=col>GSM465030</th><th scope=col>GSM465060</th><th scope=col>GSM465061</th><th scope=col>GSM465062</th><th scope=col>GSM465063</th><th scope=col>GSM465064</th><th scope=col>GSM465065</th></tr></thead>\n",
       "<tbody>\n",
       "\t<tr><th scope=row>LOC100133331</th><td>-2.789846 </td><td>-3.999583 </td><td>-2.598931 </td><td>-2.958554 </td><td>-4.679239 </td><td>-3.435181 </td><td>-3.997497 </td><td>-3.09188  </td><td>-3.801078 </td><td>-3.799687 </td><td>⋯         </td><td>-3.017813 </td><td>-3.176045 </td><td>-3.263981 </td><td>-2.793057 </td><td>-3.048723 </td><td>-0.8478957</td><td>-3.882048 </td><td>-3.607409 </td><td>-3.011330 </td><td>-3.394784 </td></tr>\n",
       "\t<tr><th scope=row>AK091100</th><td>-2.344868 </td><td>-2.540436 </td><td>-1.988755 </td><td>-3.795202 </td><td>-3.904373 </td><td>-2.776700 </td><td>-3.025187 </td><td>-2.88055  </td><td>-3.461039 </td><td>-2.904604 </td><td>⋯         </td><td>-2.935405 </td><td>-2.799225 </td><td>-2.294494 </td><td>-2.910663 </td><td>-2.991778 </td><td>-1.5180257</td><td>-3.513794 </td><td>-3.325757 </td><td>-3.168259 </td><td>-3.012504 </td></tr>\n",
       "</tbody>\n",
       "</table>\n"
      ],
      "text/latex": [
       "\\begin{tabular}{r|llllllllllllllllllllllllllllllllllllllllllllllllllllllllllllllllllllllllllllllllllllllllllllllllllllllllllllllllllllllllllllllllllllllllllllllllllllllllllllllllllllllllllllllllllllllllllllllllllllllllllllllllllllllllllllllllllllllllllllllllllllllllllllllllllllllllllllllllllllllllllllllllllllllllllllllllllllllllllllllllllllllllllllllllllllllll}\n",
       "  & GSM464771 & GSM464772 & GSM464773 & GSM464774 & GSM464775 & GSM464776 & GSM464777 & GSM464778 & GSM464779 & GSM464780 & ⋯ & GSM465020 & GSM465024 & GSM465026 & GSM465030 & GSM465060 & GSM465061 & GSM465062 & GSM465063 & GSM465064 & GSM465065\\\\\n",
       "\\hline\n",
       "\tLOC100133331 & -2.789846  & -3.999583  & -2.598931  & -2.958554  & -4.679239  & -3.435181  & -3.997497  & -3.09188   & -3.801078  & -3.799687  & ⋯          & -3.017813  & -3.176045  & -3.263981  & -2.793057  & -3.048723  & -0.8478957 & -3.882048  & -3.607409  & -3.011330  & -3.394784 \\\\\n",
       "\tAK091100 & -2.344868  & -2.540436  & -1.988755  & -3.795202  & -3.904373  & -2.776700  & -3.025187  & -2.88055   & -3.461039  & -2.904604  & ⋯          & -2.935405  & -2.799225  & -2.294494  & -2.910663  & -2.991778  & -1.5180257 & -3.513794  & -3.325757  & -3.168259  & -3.012504 \\\\\n",
       "\\end{tabular}\n"
      ],
      "text/markdown": [
       "\n",
       "| <!--/--> | GSM464771 | GSM464772 | GSM464773 | GSM464774 | GSM464775 | GSM464776 | GSM464777 | GSM464778 | GSM464779 | GSM464780 | ⋯ | GSM465020 | GSM465024 | GSM465026 | GSM465030 | GSM465060 | GSM465061 | GSM465062 | GSM465063 | GSM465064 | GSM465065 | \n",
       "|---|---|\n",
       "| LOC100133331 | -2.789846  | -3.999583  | -2.598931  | -2.958554  | -4.679239  | -3.435181  | -3.997497  | -3.09188   | -3.801078  | -3.799687  | ⋯          | -3.017813  | -3.176045  | -3.263981  | -2.793057  | -3.048723  | -0.8478957 | -3.882048  | -3.607409  | -3.011330  | -3.394784  | \n",
       "| AK091100 | -2.344868  | -2.540436  | -1.988755  | -3.795202  | -3.904373  | -2.776700  | -3.025187  | -2.88055   | -3.461039  | -2.904604  | ⋯          | -2.935405  | -2.799225  | -2.294494  | -2.910663  | -2.991778  | -1.5180257 | -3.513794  | -3.325757  | -3.168259  | -3.012504  | \n",
       "\n",
       "\n"
      ],
      "text/plain": [
       "             GSM464771 GSM464772 GSM464773 GSM464774 GSM464775 GSM464776\n",
       "LOC100133331 -2.789846 -3.999583 -2.598931 -2.958554 -4.679239 -3.435181\n",
       "AK091100     -2.344868 -2.540436 -1.988755 -3.795202 -3.904373 -2.776700\n",
       "             GSM464777 GSM464778 GSM464779 GSM464780 ⋯ GSM465020 GSM465024\n",
       "LOC100133331 -3.997497 -3.09188  -3.801078 -3.799687 ⋯ -3.017813 -3.176045\n",
       "AK091100     -3.025187 -2.88055  -3.461039 -2.904604 ⋯ -2.935405 -2.799225\n",
       "             GSM465026 GSM465030 GSM465060 GSM465061  GSM465062 GSM465063\n",
       "LOC100133331 -3.263981 -2.793057 -3.048723 -0.8478957 -3.882048 -3.607409\n",
       "AK091100     -2.294494 -2.910663 -2.991778 -1.5180257 -3.513794 -3.325757\n",
       "             GSM465064 GSM465065\n",
       "LOC100133331 -3.011330 -3.394784\n",
       "AK091100     -3.168259 -3.012504"
      ]
     },
     "metadata": {},
     "output_type": "display_data"
    }
   ],
   "source": [
    "methyl.mat <- data.matrix(methylation.filtered[,-c(1, 346, 347)])\n",
    "rownames(methyl.mat) <- methylation.filtered$gene\n",
    "head(methyl.mat, n=2)"
   ]
  },
  {
   "cell_type": "code",
   "execution_count": 15,
   "metadata": {
    "collapsed": true
   },
   "outputs": [],
   "source": [
    "write.table(methylation.filtered[,c(1, 346, 347)], file='../../data/Figueroa/processeddata/methylation-annotation.tsv',\n",
    "           sep='\\t', row.names=F, col.names=T, quote=F)\n",
    "write.table(methyl.mat, file='../../data/Figueroa/processeddata/methylation-matrix.tsv',\n",
    "           sep='\\t', row.names=T, col.names=T, quote=F)"
   ]
  },
  {
   "cell_type": "code",
   "execution_count": 41,
   "metadata": {},
   "outputs": [
    {
     "data": {
      "text/html": [
       "<ol class=list-inline>\n",
       "\t<li>22759</li>\n",
       "\t<li>344</li>\n",
       "</ol>\n"
      ],
      "text/latex": [
       "\\begin{enumerate*}\n",
       "\\item 22759\n",
       "\\item 344\n",
       "\\end{enumerate*}\n"
      ],
      "text/markdown": [
       "1. 22759\n",
       "2. 344\n",
       "\n",
       "\n"
      ],
      "text/plain": [
       "[1] 22759   344"
      ]
     },
     "metadata": {},
     "output_type": "display_data"
    }
   ],
   "source": [
    "dim(methyl.mat)"
   ]
  },
  {
   "cell_type": "markdown",
   "metadata": {},
   "source": [
    "## Normalization across patients"
   ]
  },
  {
   "cell_type": "code",
   "execution_count": 44,
   "metadata": {},
   "outputs": [],
   "source": [
    "methyl.mat.zscore = t(apply(methyl.mat, 1, scale))"
   ]
  },
  {
   "cell_type": "code",
   "execution_count": 45,
   "metadata": {},
   "outputs": [
    {
     "data": {
      "text/html": [
       "<ol class=list-inline>\n",
       "\t<li>22759</li>\n",
       "\t<li>344</li>\n",
       "</ol>\n"
      ],
      "text/latex": [
       "\\begin{enumerate*}\n",
       "\\item 22759\n",
       "\\item 344\n",
       "\\end{enumerate*}\n"
      ],
      "text/markdown": [
       "1. 22759\n",
       "2. 344\n",
       "\n",
       "\n"
      ],
      "text/plain": [
       "[1] 22759   344"
      ]
     },
     "metadata": {},
     "output_type": "display_data"
    }
   ],
   "source": [
    "dim(methyl.mat.zscore)"
   ]
  },
  {
   "cell_type": "code",
   "execution_count": 46,
   "metadata": {},
   "outputs": [],
   "source": [
    "colnames(methyl.mat.zscore) = colnames(methyl.mat)"
   ]
  },
  {
   "cell_type": "code",
   "execution_count": 47,
   "metadata": {},
   "outputs": [],
   "source": [
    "methyl.mat.zscore %<>% data.frame"
   ]
  },
  {
   "cell_type": "code",
   "execution_count": 48,
   "metadata": {},
   "outputs": [],
   "source": [
    "methyl.mat.zscore$probe = methylation.filtered$gene"
   ]
  },
  {
   "cell_type": "code",
   "execution_count": 49,
   "metadata": {},
   "outputs": [],
   "source": [
    "write.table(methyl.mat.zscore, file='../../data/Figueroa/processeddata/methyl-zscore.tsv', sep='\\t', row.names=F, col.names=T, quote=F)"
   ]
  },
  {
   "cell_type": "markdown",
   "metadata": {},
   "source": [
    "## Distribution of mean and variance of methylation probes across patients\n",
    "- `data/Figueroa/methyl-successiveNormalized.tsv`: methylation array that is successively normalized"
   ]
  },
  {
   "cell_type": "code",
   "execution_count": 22,
   "metadata": {},
   "outputs": [
    {
     "data": {},
     "metadata": {},
     "output_type": "display_data"
    },
    {
     "data": {
      "image/png": "[encoded data removed]",
      "text/plain": [
       "plot without title"
      ]
     },
     "metadata": {},
     "output_type": "display_data"
    }
   ],
   "source": [
    "options(repr.plot.height=2.5, repr.plot.width=9)\n",
    "sd.mat <- apply(methyl.mat, 1, sd)\n",
    "mean.mat <- apply(methyl.mat, 1, mean)\n",
    "p1 <- ggplot(data=data.frame(mean=mean.mat, sd=sd.mat)) +\n",
    "  geom_point(aes(x=mean, y=sd), alpha=0.03, color='black', size=0.1) + xlab('Mean(patients)') + ylab('SD(patients)')\n",
    "p2 <- qplot(sd.mat, geom='histogram', bins=100, xlab='SD(patients)') \n",
    "p3 <- qplot(mean.mat, geom='histogram', bins=100, xlab='Mean(patients)')\n",
    "p.all <- plot_grid(p1, p2, p3, labels=LETTERS[1:3], ncol=3) # probes with overall positive expression tends to have larger variance as magnitude of mean gets larger\n",
    "                              # for probes with overall negative expression\n",
    "p.all"
   ]
  },
  {
   "cell_type": "code",
   "execution_count": 23,
   "metadata": {
    "collapsed": true
   },
   "outputs": [],
   "source": [
    "ggsave(p.all, file='../../figures/Figueroa/methyl-distn.pdf', width=9, height=2.5)"
   ]
  },
  {
   "cell_type": "markdown",
   "metadata": {},
   "source": [
    "Normalize across patients to make the probes comparable before applying phenograph"
   ]
  },
  {
   "cell_type": "code",
   "execution_count": 37,
   "metadata": {},
   "outputs": [
    {
     "name": "stdout",
     "output_type": "stream",
     "text": [
      "[1] -2424.767\n",
      "[1] -9.41327e-11\n"
     ]
    }
   ],
   "source": [
    "X <- methyl.mat\n",
    "f.diff = c()\n",
    "while (TRUE) {\n",
    "    X.prev <- X\n",
    "    X <- t(apply(X, 1, scale))\n",
    "    X <- apply(X, 2, scale)\n",
    "  \n",
    "    F.diff <- norm(X, type='F') - norm(X.prev, type='F') # compute the Frobenius norm difference between two matrices\n",
    "    print(F.diff)\n",
    "    f.diff <- c(f.diff, F.diff)\n",
    "    if (abs(F.diff) < 1e-8) break\n",
    "}"
   ]
  },
  {
   "cell_type": "code",
   "execution_count": 38,
   "metadata": {
    "collapsed": true
   },
   "outputs": [],
   "source": [
    "# save the succesively normalized array to file\n",
    "colnames(X) <-  colnames(methyl.mat)\n",
    "probe <- methylation.filtered$gene\n",
    "X <- data.frame(X)\n",
    "X <- cbind(probe, X)"
   ]
  },
  {
   "cell_type": "code",
   "execution_count": 39,
   "metadata": {},
   "outputs": [
    {
     "data": {
      "text/html": [
       "<table>\n",
       "<thead><tr><th scope=col>probe</th><th scope=col>GSM464771</th><th scope=col>GSM464772</th><th scope=col>GSM464773</th><th scope=col>GSM464774</th><th scope=col>GSM464775</th><th scope=col>GSM464776</th><th scope=col>GSM464777</th><th scope=col>GSM464778</th><th scope=col>GSM464779</th><th scope=col>⋯</th><th scope=col>GSM465020</th><th scope=col>GSM465024</th><th scope=col>GSM465026</th><th scope=col>GSM465030</th><th scope=col>GSM465060</th><th scope=col>GSM465061</th><th scope=col>GSM465062</th><th scope=col>GSM465063</th><th scope=col>GSM465064</th><th scope=col>GSM465065</th></tr></thead>\n",
       "<tbody>\n",
       "\t<tr><td>LOC100133331</td><td>0.5656646   </td><td>-0.2762509  </td><td>0.5464723   </td><td> 1.390992   </td><td>-1.250427   </td><td>-0.7231627  </td><td>-1.3639633  </td><td>-0.6217651  </td><td>-0.09007192 </td><td>⋯           </td><td>-0.2577998  </td><td>0.4027578   </td><td>-0.64940248 </td><td>-0.430032   </td><td> 0.2672083  </td><td>2.583242    </td><td>-0.0507937  </td><td>-0.6815596  </td><td>1.8492071   </td><td>0.3190695   </td></tr>\n",
       "\t<tr><td>AK091100    </td><td>0.8362348   </td><td> 0.9454242  </td><td>1.0655506   </td><td>-1.012361   </td><td>-1.288259   </td><td>-0.3199215  </td><td>-0.3368407  </td><td>-0.9481995  </td><td>-0.63231572 </td><td>⋯           </td><td>-0.9804344  </td><td>0.3609546   </td><td> 0.09337669 </td><td>-1.229339   </td><td>-0.4294562  </td><td>1.591340    </td><td>-0.4957257  </td><td>-1.2191908  </td><td>0.7066319   </td><td>0.1522136   </td></tr>\n",
       "</tbody>\n",
       "</table>\n"
      ],
      "text/latex": [
       "\\begin{tabular}{r|lllllllllllllllllllllllllllllllllllllllllllllllllllllllllllllllllllllllllllllllllllllllllllllllllllllllllllllllllllllllllllllllllllllllllllllllllllllllllllllllllllllllllllllllllllllllllllllllllllllllllllllllllllllllllllllllllllllllllllllllllllllllllllllllllllllllllllllllllllllllllllllllllllllllllllllllllllllllllllllllllllllllllllllllllllllllll}\n",
       " probe & GSM464771 & GSM464772 & GSM464773 & GSM464774 & GSM464775 & GSM464776 & GSM464777 & GSM464778 & GSM464779 & ⋯ & GSM465020 & GSM465024 & GSM465026 & GSM465030 & GSM465060 & GSM465061 & GSM465062 & GSM465063 & GSM465064 & GSM465065\\\\\n",
       "\\hline\n",
       "\t LOC100133331 & 0.5656646    & -0.2762509   & 0.5464723    &  1.390992    & -1.250427    & -0.7231627   & -1.3639633   & -0.6217651   & -0.09007192  & ⋯            & -0.2577998   & 0.4027578    & -0.64940248  & -0.430032    &  0.2672083   & 2.583242     & -0.0507937   & -0.6815596   & 1.8492071    & 0.3190695   \\\\\n",
       "\t AK091100     & 0.8362348    &  0.9454242   & 1.0655506    & -1.012361    & -1.288259    & -0.3199215   & -0.3368407   & -0.9481995   & -0.63231572  & ⋯            & -0.9804344   & 0.3609546    &  0.09337669  & -1.229339    & -0.4294562   & 1.591340     & -0.4957257   & -1.2191908   & 0.7066319    & 0.1522136   \\\\\n",
       "\\end{tabular}\n"
      ],
      "text/markdown": [
       "\n",
       "probe | GSM464771 | GSM464772 | GSM464773 | GSM464774 | GSM464775 | GSM464776 | GSM464777 | GSM464778 | GSM464779 | ⋯ | GSM465020 | GSM465024 | GSM465026 | GSM465030 | GSM465060 | GSM465061 | GSM465062 | GSM465063 | GSM465064 | GSM465065 | \n",
       "|---|---|\n",
       "| LOC100133331 | 0.5656646    | -0.2762509   | 0.5464723    |  1.390992    | -1.250427    | -0.7231627   | -1.3639633   | -0.6217651   | -0.09007192  | ⋯            | -0.2577998   | 0.4027578    | -0.64940248  | -0.430032    |  0.2672083   | 2.583242     | -0.0507937   | -0.6815596   | 1.8492071    | 0.3190695    | \n",
       "| AK091100     | 0.8362348    |  0.9454242   | 1.0655506    | -1.012361    | -1.288259    | -0.3199215   | -0.3368407   | -0.9481995   | -0.63231572  | ⋯            | -0.9804344   | 0.3609546    |  0.09337669  | -1.229339    | -0.4294562   | 1.591340     | -0.4957257   | -1.2191908   | 0.7066319    | 0.1522136    | \n",
       "\n",
       "\n"
      ],
      "text/plain": [
       "  probe        GSM464771 GSM464772  GSM464773 GSM464774 GSM464775 GSM464776 \n",
       "1 LOC100133331 0.5656646 -0.2762509 0.5464723  1.390992 -1.250427 -0.7231627\n",
       "2 AK091100     0.8362348  0.9454242 1.0655506 -1.012361 -1.288259 -0.3199215\n",
       "  GSM464777  GSM464778  GSM464779   ⋯ GSM465020  GSM465024 GSM465026  \n",
       "1 -1.3639633 -0.6217651 -0.09007192 ⋯ -0.2577998 0.4027578 -0.64940248\n",
       "2 -0.3368407 -0.9481995 -0.63231572 ⋯ -0.9804344 0.3609546  0.09337669\n",
       "  GSM465030 GSM465060  GSM465061 GSM465062  GSM465063  GSM465064 GSM465065\n",
       "1 -0.430032  0.2672083 2.583242  -0.0507937 -0.6815596 1.8492071 0.3190695\n",
       "2 -1.229339 -0.4294562 1.591340  -0.4957257 -1.2191908 0.7066319 0.1522136"
      ]
     },
     "metadata": {},
     "output_type": "display_data"
    }
   ],
   "source": [
    "head(X, n=2)"
   ]
  },
  {
   "cell_type": "code",
   "execution_count": 40,
   "metadata": {
    "collapsed": true
   },
   "outputs": [],
   "source": [
    "write.table(X, file='../../data/Figueroa/processeddata/methyl-successiveNormalized.tsv', sep='\\t', row.names=F, col.names=T, quote=F)"
   ]
  }
 ],
 "metadata": {
  "kernelspec": {
   "display_name": "R",
   "language": "R",
   "name": "ir"
  },
  "language_info": {
   "codemirror_mode": "r",
   "file_extension": ".r",
   "mimetype": "text/x-r-source",
   "name": "R",
   "pygments_lexer": "r",
   "version": "3.5.0"
  }
 },
 "nbformat": 4,
 "nbformat_minor": 2
}
