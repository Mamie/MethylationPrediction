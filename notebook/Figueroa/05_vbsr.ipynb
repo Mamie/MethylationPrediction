{
 "cells": [
  {
   "cell_type": "markdown",
   "metadata": {},
   "source": [
    "# Module VBSR"
   ]
  },
  {
   "cell_type": "code",
   "execution_count": 1,
   "metadata": {},
   "outputs": [
    {
     "name": "stderr",
     "output_type": "stream",
     "text": [
      "Warning message:\n",
      "“package ‘dplyr’ was built under R version 3.5.1”"
     ]
    }
   ],
   "source": [
    "suppressMessages({\n",
    "    library(vbsr)\n",
    "    library(tidyverse)\n",
    "    library(qvalue)\n",
    "})"
   ]
  },
  {
   "cell_type": "markdown",
   "metadata": {},
   "source": [
    "## Load predictor and response"
   ]
  },
  {
   "cell_type": "code",
   "execution_count": 2,
   "metadata": {},
   "outputs": [],
   "source": [
    "PC.path = '../../data/Figueroa/clusters/PCs.csv'\n",
    "GEP.path = '../../data/Figueroa/processeddata/gep-transcription-related.tsv'"
   ]
  },
  {
   "cell_type": "code",
   "execution_count": 3,
   "metadata": {},
   "outputs": [
    {
     "name": "stderr",
     "output_type": "stream",
     "text": [
      "Parsed with column specification:\n",
      "cols(\n",
      "  patient = col_character(),\n",
      "  PC1 = col_double(),\n",
      "  i = col_integer()\n",
      ")\n"
     ]
    },
    {
     "data": {
      "text/html": [
       "<table>\n",
       "<thead><tr><th scope=col>patient</th><th scope=col>PC1</th><th scope=col>i</th></tr></thead>\n",
       "<tbody>\n",
       "\t<tr><td>GSM464771 </td><td>-0.2271066</td><td>13        </td></tr>\n",
       "\t<tr><td>GSM464772 </td><td>-0.2853129</td><td>13        </td></tr>\n",
       "</tbody>\n",
       "</table>\n"
      ],
      "text/latex": [
       "\\begin{tabular}{r|lll}\n",
       " patient & PC1 & i\\\\\n",
       "\\hline\n",
       "\t GSM464771  & -0.2271066 & 13        \\\\\n",
       "\t GSM464772  & -0.2853129 & 13        \\\\\n",
       "\\end{tabular}\n"
      ],
      "text/markdown": [
       "\n",
       "patient | PC1 | i | \n",
       "|---|---|\n",
       "| GSM464771  | -0.2271066 | 13         | \n",
       "| GSM464772  | -0.2853129 | 13         | \n",
       "\n",
       "\n"
      ],
      "text/plain": [
       "  patient   PC1        i \n",
       "1 GSM464771 -0.2271066 13\n",
       "2 GSM464772 -0.2853129 13"
      ]
     },
     "metadata": {},
     "output_type": "display_data"
    }
   ],
   "source": [
    "PCs = read_csv(PC.path)\n",
    "head(PCs, n = 2)"
   ]
  },
  {
   "cell_type": "code",
   "execution_count": 4,
   "metadata": {},
   "outputs": [
    {
     "data": {
      "text/html": [
       "<table>\n",
       "<thead><tr><th></th><th scope=col>GSM464771</th><th scope=col>GSM464772</th><th scope=col>GSM464773</th><th scope=col>GSM464774</th><th scope=col>GSM464775</th><th scope=col>GSM464776</th><th scope=col>GSM464777</th><th scope=col>GSM464778</th><th scope=col>GSM464779</th><th scope=col>GSM464780</th><th scope=col>⋯</th><th scope=col>GSM465020</th><th scope=col>GSM465024</th><th scope=col>GSM465026</th><th scope=col>GSM465030</th><th scope=col>GSM465060</th><th scope=col>GSM465061</th><th scope=col>GSM465062</th><th scope=col>GSM465063</th><th scope=col>GSM465064</th><th scope=col>GSM465065</th></tr></thead>\n",
       "<tbody>\n",
       "\t<tr><th scope=row>MED6</th><td>660.56974</td><td>536.18860</td><td>314.06915</td><td>856.6095 </td><td>708.8194 </td><td>433.50528</td><td>528.43526</td><td>448.2595 </td><td>543.2180 </td><td>707.8009 </td><td>⋯        </td><td>406.98144</td><td>586.14302</td><td>410.51695</td><td>486.99356</td><td>547.82721</td><td>587.2604 </td><td>549.84944</td><td>398.54022</td><td>457.63892</td><td>384.2906 </td></tr>\n",
       "\t<tr><th scope=row>NR2E3</th><td> 84.34185</td><td> 56.78113</td><td> 45.26591</td><td>174.5175 </td><td> 70.7956 </td><td> 82.05186</td><td> 73.81927</td><td>142.9044 </td><td>122.1829 </td><td>144.3678 </td><td>⋯        </td><td> 75.13807</td><td> 71.23044</td><td> 25.49023</td><td> 54.55764</td><td> 49.45993</td><td>113.5977 </td><td> 52.31265</td><td> 83.31183</td><td> 34.09275</td><td> 52.9694 </td></tr>\n",
       "</tbody>\n",
       "</table>\n"
      ],
      "text/latex": [
       "\\begin{tabular}{r|llllllllllllllllllllllllllllllllllllllllllllllllllllllllllllllllllllllllllllllllllllllllllllllllllllllllllllllllllllllllllllllllllllllllllllllllllllllllllllllllllllllllllllllllllllllllllllllllllllllllllllllllllllllllllllllllllllllllllllllllllllllllllllllllllllllllllllllllllllllllllllllllllllllllllllllllllllllllllllllllllllllllllllllllllllllll}\n",
       "  & GSM464771 & GSM464772 & GSM464773 & GSM464774 & GSM464775 & GSM464776 & GSM464777 & GSM464778 & GSM464779 & GSM464780 & ⋯ & GSM465020 & GSM465024 & GSM465026 & GSM465030 & GSM465060 & GSM465061 & GSM465062 & GSM465063 & GSM465064 & GSM465065\\\\\n",
       "\\hline\n",
       "\tMED6 & 660.56974 & 536.18860 & 314.06915 & 856.6095  & 708.8194  & 433.50528 & 528.43526 & 448.2595  & 543.2180  & 707.8009  & ⋯         & 406.98144 & 586.14302 & 410.51695 & 486.99356 & 547.82721 & 587.2604  & 549.84944 & 398.54022 & 457.63892 & 384.2906 \\\\\n",
       "\tNR2E3 &  84.34185 &  56.78113 &  45.26591 & 174.5175  &  70.7956  &  82.05186 &  73.81927 & 142.9044  & 122.1829  & 144.3678  & ⋯         &  75.13807 &  71.23044 &  25.49023 &  54.55764 &  49.45993 & 113.5977  &  52.31265 &  83.31183 &  34.09275 &  52.9694 \\\\\n",
       "\\end{tabular}\n"
      ],
      "text/markdown": [
       "\n",
       "| <!--/--> | GSM464771 | GSM464772 | GSM464773 | GSM464774 | GSM464775 | GSM464776 | GSM464777 | GSM464778 | GSM464779 | GSM464780 | ⋯ | GSM465020 | GSM465024 | GSM465026 | GSM465030 | GSM465060 | GSM465061 | GSM465062 | GSM465063 | GSM465064 | GSM465065 | \n",
       "|---|---|\n",
       "| MED6 | 660.56974 | 536.18860 | 314.06915 | 856.6095  | 708.8194  | 433.50528 | 528.43526 | 448.2595  | 543.2180  | 707.8009  | ⋯         | 406.98144 | 586.14302 | 410.51695 | 486.99356 | 547.82721 | 587.2604  | 549.84944 | 398.54022 | 457.63892 | 384.2906  | \n",
       "| NR2E3 |  84.34185 |  56.78113 |  45.26591 | 174.5175  |  70.7956  |  82.05186 |  73.81927 | 142.9044  | 122.1829  | 144.3678  | ⋯         |  75.13807 |  71.23044 |  25.49023 |  54.55764 |  49.45993 | 113.5977  |  52.31265 |  83.31183 |  34.09275 |  52.9694  | \n",
       "\n",
       "\n"
      ],
      "text/plain": [
       "      GSM464771 GSM464772 GSM464773 GSM464774 GSM464775 GSM464776 GSM464777\n",
       "MED6  660.56974 536.18860 314.06915 856.6095  708.8194  433.50528 528.43526\n",
       "NR2E3  84.34185  56.78113  45.26591 174.5175   70.7956   82.05186  73.81927\n",
       "      GSM464778 GSM464779 GSM464780 ⋯ GSM465020 GSM465024 GSM465026 GSM465030\n",
       "MED6  448.2595  543.2180  707.8009  ⋯ 406.98144 586.14302 410.51695 486.99356\n",
       "NR2E3 142.9044  122.1829  144.3678  ⋯  75.13807  71.23044  25.49023  54.55764\n",
       "      GSM465060 GSM465061 GSM465062 GSM465063 GSM465064 GSM465065\n",
       "MED6  547.82721 587.2604  549.84944 398.54022 457.63892 384.2906 \n",
       "NR2E3  49.45993 113.5977   52.31265  83.31183  34.09275  52.9694 "
      ]
     },
     "metadata": {},
     "output_type": "display_data"
    }
   ],
   "source": [
    "GEP = read.table(GEP.path)\n",
    "head(GEP, n=2)"
   ]
  },
  {
   "cell_type": "code",
   "execution_count": 5,
   "metadata": {},
   "outputs": [],
   "source": [
    "GEP = GEP[,sort(colnames(GEP))]\n",
    "GEP.transformed = apply(GEP, 2, function(x) log(x + 1, base=2))"
   ]
  },
  {
   "cell_type": "code",
   "execution_count": 6,
   "metadata": {},
   "outputs": [
    {
     "data": {
      "text/html": [
       "<table>\n",
       "<thead><tr><th></th><th scope=col>GSM464737</th><th scope=col>GSM464738</th><th scope=col>GSM464739</th><th scope=col>GSM464740</th><th scope=col>GSM464741</th><th scope=col>GSM464742</th><th scope=col>GSM464743</th><th scope=col>GSM464744</th><th scope=col>GSM464745</th><th scope=col>GSM464746</th><th scope=col>⋯</th><th scope=col>GSM465071</th><th scope=col>GSM465072</th><th scope=col>GSM465073</th><th scope=col>GSM465074</th><th scope=col>GSM465075</th><th scope=col>GSM465076</th><th scope=col>GSM465077</th><th scope=col>GSM465078</th><th scope=col>GSM465079</th><th scope=col>GSM465080</th></tr></thead>\n",
       "<tbody>\n",
       "\t<tr><th scope=row>MED6</th><td>9.034310 </td><td> 8.572967</td><td>9.009928 </td><td>8.629533 </td><td> 9.093492</td><td> 8.857603</td><td>9.316252 </td><td> 9.113191</td><td> 8.779670</td><td>8.575587 </td><td>⋯        </td><td> 9.247360</td><td>9.113149 </td><td>8.791395 </td><td>8.973378 </td><td>9.029193 </td><td>9.073024 </td><td>9.684217 </td><td>9.418029 </td><td>9.300781 </td><td>8.771742 </td></tr>\n",
       "\t<tr><th scope=row>NR2E3</th><td>5.891685 </td><td> 4.015733</td><td>6.057575 </td><td>6.103224 </td><td> 4.675944</td><td> 5.328711</td><td>5.270995 </td><td> 4.930524</td><td> 5.328893</td><td>5.223120 </td><td>⋯        </td><td> 5.526530</td><td>4.419701 </td><td>4.105208 </td><td>4.432170 </td><td>5.423697 </td><td>5.905837 </td><td>3.843401 </td><td>5.636072 </td><td>4.068626 </td><td>3.379394 </td></tr>\n",
       "\t<tr><th scope=row>ZBTB33</th><td>9.724419 </td><td>10.431941</td><td>9.774180 </td><td>9.809859 </td><td>10.525712</td><td>10.304436</td><td>9.830322 </td><td>10.574791</td><td>10.011522</td><td>9.703153 </td><td>⋯        </td><td>10.273736</td><td>9.337943 </td><td>8.359435 </td><td>8.524939 </td><td>9.255028 </td><td>9.121213 </td><td>9.252325 </td><td>8.918206 </td><td>9.335059 </td><td>9.493988 </td></tr>\n",
       "\t<tr><th scope=row>SRA1</th><td>8.727717 </td><td> 8.373557</td><td>7.816311 </td><td>8.724212 </td><td> 8.558898</td><td> 8.645200</td><td>7.790297 </td><td> 8.635714</td><td> 7.912290</td><td>7.634168 </td><td>⋯        </td><td> 8.932245</td><td>9.511572 </td><td>9.957314 </td><td>9.918122 </td><td>9.439670 </td><td>9.202896 </td><td>9.367270 </td><td>8.810691 </td><td>9.283943 </td><td>9.138484 </td></tr>\n",
       "\t<tr><th scope=row>ZBTB42</th><td>8.873765 </td><td> 6.507723</td><td>7.268424 </td><td>6.406658 </td><td> 5.235866</td><td> 6.825103</td><td>8.053873 </td><td> 7.535070</td><td> 8.494799</td><td>3.662577 </td><td>⋯        </td><td> 5.676239</td><td>3.642315 </td><td>5.287784 </td><td>3.250504 </td><td>6.544311 </td><td>4.078238 </td><td>5.006142 </td><td>5.361640 </td><td>6.122931 </td><td>4.543995 </td></tr>\n",
       "\t<tr><th scope=row>ZNF316</th><td>8.234026 </td><td> 8.583525</td><td>8.347720 </td><td>8.824180 </td><td> 7.947786</td><td> 8.845579</td><td>8.522102 </td><td> 8.475543</td><td> 9.134673</td><td>8.988888 </td><td>⋯        </td><td> 7.997258</td><td>7.906077 </td><td>7.328818 </td><td>7.820509 </td><td>7.857074 </td><td>8.182156 </td><td>8.363430 </td><td>7.607450 </td><td>8.047620 </td><td>7.711231 </td></tr>\n",
       "</tbody>\n",
       "</table>\n"
      ],
      "text/latex": [
       "\\begin{tabular}{r|llllllllllllllllllllllllllllllllllllllllllllllllllllllllllllllllllllllllllllllllllllllllllllllllllllllllllllllllllllllllllllllllllllllllllllllllllllllllllllllllllllllllllllllllllllllllllllllllllllllllllllllllllllllllllllllllllllllllllllllllllllllllllllllllllllllllllllllllllllllllllllllllllllllllllllllllllllllllllllllllllllllllllllllllllllllll}\n",
       "  & GSM464737 & GSM464738 & GSM464739 & GSM464740 & GSM464741 & GSM464742 & GSM464743 & GSM464744 & GSM464745 & GSM464746 & ⋯ & GSM465071 & GSM465072 & GSM465073 & GSM465074 & GSM465075 & GSM465076 & GSM465077 & GSM465078 & GSM465079 & GSM465080\\\\\n",
       "\\hline\n",
       "\tMED6 & 9.034310  &  8.572967 & 9.009928  & 8.629533  &  9.093492 &  8.857603 & 9.316252  &  9.113191 &  8.779670 & 8.575587  & ⋯         &  9.247360 & 9.113149  & 8.791395  & 8.973378  & 9.029193  & 9.073024  & 9.684217  & 9.418029  & 9.300781  & 8.771742 \\\\\n",
       "\tNR2E3 & 5.891685  &  4.015733 & 6.057575  & 6.103224  &  4.675944 &  5.328711 & 5.270995  &  4.930524 &  5.328893 & 5.223120  & ⋯         &  5.526530 & 4.419701  & 4.105208  & 4.432170  & 5.423697  & 5.905837  & 3.843401  & 5.636072  & 4.068626  & 3.379394 \\\\\n",
       "\tZBTB33 & 9.724419  & 10.431941 & 9.774180  & 9.809859  & 10.525712 & 10.304436 & 9.830322  & 10.574791 & 10.011522 & 9.703153  & ⋯         & 10.273736 & 9.337943  & 8.359435  & 8.524939  & 9.255028  & 9.121213  & 9.252325  & 8.918206  & 9.335059  & 9.493988 \\\\\n",
       "\tSRA1 & 8.727717  &  8.373557 & 7.816311  & 8.724212  &  8.558898 &  8.645200 & 7.790297  &  8.635714 &  7.912290 & 7.634168  & ⋯         &  8.932245 & 9.511572  & 9.957314  & 9.918122  & 9.439670  & 9.202896  & 9.367270  & 8.810691  & 9.283943  & 9.138484 \\\\\n",
       "\tZBTB42 & 8.873765  &  6.507723 & 7.268424  & 6.406658  &  5.235866 &  6.825103 & 8.053873  &  7.535070 &  8.494799 & 3.662577  & ⋯         &  5.676239 & 3.642315  & 5.287784  & 3.250504  & 6.544311  & 4.078238  & 5.006142  & 5.361640  & 6.122931  & 4.543995 \\\\\n",
       "\tZNF316 & 8.234026  &  8.583525 & 8.347720  & 8.824180  &  7.947786 &  8.845579 & 8.522102  &  8.475543 &  9.134673 & 8.988888  & ⋯         &  7.997258 & 7.906077  & 7.328818  & 7.820509  & 7.857074  & 8.182156  & 8.363430  & 7.607450  & 8.047620  & 7.711231 \\\\\n",
       "\\end{tabular}\n"
      ],
      "text/markdown": [
       "\n",
       "| <!--/--> | GSM464737 | GSM464738 | GSM464739 | GSM464740 | GSM464741 | GSM464742 | GSM464743 | GSM464744 | GSM464745 | GSM464746 | ⋯ | GSM465071 | GSM465072 | GSM465073 | GSM465074 | GSM465075 | GSM465076 | GSM465077 | GSM465078 | GSM465079 | GSM465080 | \n",
       "|---|---|---|---|---|---|\n",
       "| MED6 | 9.034310  |  8.572967 | 9.009928  | 8.629533  |  9.093492 |  8.857603 | 9.316252  |  9.113191 |  8.779670 | 8.575587  | ⋯         |  9.247360 | 9.113149  | 8.791395  | 8.973378  | 9.029193  | 9.073024  | 9.684217  | 9.418029  | 9.300781  | 8.771742  | \n",
       "| NR2E3 | 5.891685  |  4.015733 | 6.057575  | 6.103224  |  4.675944 |  5.328711 | 5.270995  |  4.930524 |  5.328893 | 5.223120  | ⋯         |  5.526530 | 4.419701  | 4.105208  | 4.432170  | 5.423697  | 5.905837  | 3.843401  | 5.636072  | 4.068626  | 3.379394  | \n",
       "| ZBTB33 | 9.724419  | 10.431941 | 9.774180  | 9.809859  | 10.525712 | 10.304436 | 9.830322  | 10.574791 | 10.011522 | 9.703153  | ⋯         | 10.273736 | 9.337943  | 8.359435  | 8.524939  | 9.255028  | 9.121213  | 9.252325  | 8.918206  | 9.335059  | 9.493988  | \n",
       "| SRA1 | 8.727717  |  8.373557 | 7.816311  | 8.724212  |  8.558898 |  8.645200 | 7.790297  |  8.635714 |  7.912290 | 7.634168  | ⋯         |  8.932245 | 9.511572  | 9.957314  | 9.918122  | 9.439670  | 9.202896  | 9.367270  | 8.810691  | 9.283943  | 9.138484  | \n",
       "| ZBTB42 | 8.873765  |  6.507723 | 7.268424  | 6.406658  |  5.235866 |  6.825103 | 8.053873  |  7.535070 |  8.494799 | 3.662577  | ⋯         |  5.676239 | 3.642315  | 5.287784  | 3.250504  | 6.544311  | 4.078238  | 5.006142  | 5.361640  | 6.122931  | 4.543995  | \n",
       "| ZNF316 | 8.234026  |  8.583525 | 8.347720  | 8.824180  |  7.947786 |  8.845579 | 8.522102  |  8.475543 |  9.134673 | 8.988888  | ⋯         |  7.997258 | 7.906077  | 7.328818  | 7.820509  | 7.857074  | 8.182156  | 8.363430  | 7.607450  | 8.047620  | 7.711231  | \n",
       "\n",
       "\n"
      ],
      "text/plain": [
       "       GSM464737 GSM464738 GSM464739 GSM464740 GSM464741 GSM464742 GSM464743\n",
       "MED6   9.034310   8.572967 9.009928  8.629533   9.093492  8.857603 9.316252 \n",
       "NR2E3  5.891685   4.015733 6.057575  6.103224   4.675944  5.328711 5.270995 \n",
       "ZBTB33 9.724419  10.431941 9.774180  9.809859  10.525712 10.304436 9.830322 \n",
       "SRA1   8.727717   8.373557 7.816311  8.724212   8.558898  8.645200 7.790297 \n",
       "ZBTB42 8.873765   6.507723 7.268424  6.406658   5.235866  6.825103 8.053873 \n",
       "ZNF316 8.234026   8.583525 8.347720  8.824180   7.947786  8.845579 8.522102 \n",
       "       GSM464744 GSM464745 GSM464746 ⋯ GSM465071 GSM465072 GSM465073 GSM465074\n",
       "MED6    9.113191  8.779670 8.575587  ⋯  9.247360 9.113149  8.791395  8.973378 \n",
       "NR2E3   4.930524  5.328893 5.223120  ⋯  5.526530 4.419701  4.105208  4.432170 \n",
       "ZBTB33 10.574791 10.011522 9.703153  ⋯ 10.273736 9.337943  8.359435  8.524939 \n",
       "SRA1    8.635714  7.912290 7.634168  ⋯  8.932245 9.511572  9.957314  9.918122 \n",
       "ZBTB42  7.535070  8.494799 3.662577  ⋯  5.676239 3.642315  5.287784  3.250504 \n",
       "ZNF316  8.475543  9.134673 8.988888  ⋯  7.997258 7.906077  7.328818  7.820509 \n",
       "       GSM465075 GSM465076 GSM465077 GSM465078 GSM465079 GSM465080\n",
       "MED6   9.029193  9.073024  9.684217  9.418029  9.300781  8.771742 \n",
       "NR2E3  5.423697  5.905837  3.843401  5.636072  4.068626  3.379394 \n",
       "ZBTB33 9.255028  9.121213  9.252325  8.918206  9.335059  9.493988 \n",
       "SRA1   9.439670  9.202896  9.367270  8.810691  9.283943  9.138484 \n",
       "ZBTB42 6.544311  4.078238  5.006142  5.361640  6.122931  4.543995 \n",
       "ZNF316 7.857074  8.182156  8.363430  7.607450  8.047620  7.711231 "
      ]
     },
     "metadata": {},
     "output_type": "display_data"
    }
   ],
   "source": [
    "head(GEP.transformed)"
   ]
  },
  {
   "cell_type": "code",
   "execution_count": 7,
   "metadata": {},
   "outputs": [],
   "source": [
    "PCs.community = PCs %>%\n",
    "  filter(i == 0) %>%\n",
    "  mutate(patient = as.character(patient)) %>%\n",
    "  arrange(patient)"
   ]
  },
  {
   "cell_type": "markdown",
   "metadata": {},
   "source": [
    "# VBSR"
   ]
  },
  {
   "cell_type": "code",
   "execution_count": 8,
   "metadata": {},
   "outputs": [
    {
     "name": "stdout",
     "output_type": "stream",
     "text": [
      "   user  system elapsed \n",
      "  1.452   0.031   1.504 \n"
     ]
    }
   ],
   "source": [
    "start = proc.time()\n",
    "model.fit = vbsr(y=PCs.community$PC1, X=t(GEP.transformed), family='normal')\n",
    "print(proc.time() - start)"
   ]
  },
  {
   "cell_type": "code",
   "execution_count": 26,
   "metadata": {},
   "outputs": [
    {
     "data": {},
     "metadata": {},
     "output_type": "display_data"
    },
    {
     "data": {
      "image/png": "[encoded data removed]",
      "text/plain": [
       "plot without title"
      ]
     },
     "metadata": {},
     "output_type": "display_data"
    }
   ],
   "source": [
    "# Bonferroni correction cutoff\n",
    "options(repr.plot.width=5, repr.plot.height=3)\n",
    "m = dim(GEP.transformed)[1]\n",
    "ggplot(data.frame(index=seq(length(model.fit$pval)), minuslogp=-log10(model.fit$pval))) +\n",
    "       geom_point(aes(x=index, y=minuslogp), size=0.8, alpha=0.3) + theme_classic() +\n",
    "   geom_hline(aes(yintercept=-log10(0.05/m)), color='steelblue', linetype='dashed') +\n",
    "   theme(axis.title.x=element_blank()) + ylab('- log p')"
   ]
  },
  {
   "cell_type": "code",
   "execution_count": null,
   "metadata": {},
   "outputs": [],
   "source": []
  },
  {
   "cell_type": "markdown",
   "metadata": {},
   "source": [
    "# Methylation cluster gene set enrichment analysis using PANTHER"
   ]
  },
  {
   "cell_type": "code",
   "execution_count": 20,
   "metadata": {},
   "outputs": [
    {
     "name": "stdout",
     "output_type": "stream",
     "text": [
      "[1] \"Cluster 1 has 326 probes.\"\n",
      "[1] \"Cluster 2 has 290 probes.\"\n",
      "[1] \"Cluster 3 has 671 probes.\"\n",
      "[1] \"Cluster 4 has 525 probes.\"\n",
      "[1] \"Cluster 5 has 816 probes.\"\n",
      "[1] \"Cluster 6 has 656 probes.\"\n",
      "[1] \"Cluster 7 has 461 probes.\"\n"
     ]
    }
   ],
   "source": [
    "cluster.membership <- HM27[, n]\n",
    "gene.cluster <- list()\n",
    "for (i in seq(length(unique(cluster.membership)))) {\n",
    "    cluster.idx <- which(cluster.membership == i)\n",
    "    print(paste0('Cluster ', i, ' has ', length(cluster.idx), ' probes.'))\n",
    "    gene.cluster[[i]] <- rownames(HM27)[cluster.idx]\n",
    "}"
   ]
  },
  {
   "cell_type": "code",
   "execution_count": 21,
   "metadata": {},
   "outputs": [],
   "source": [
    "extractUniqueGenes <- function(genes) { \n",
    "    unique(unlist(sapply(genes, function(x) strsplit(x, split=';')[[1]])))\n",
    "}\n",
    "\n",
    "for (i in seq(unique(cluster.membership))) {\n",
    "    write.table(extractUniqueGenes(gene.cluster[[i]]), file=paste0('../data/Figueroa/HELP/cluster', i, '.tsv'), row.names=F, col.names=F, quote=F)\n",
    "}"
   ]
  },
  {
   "cell_type": "markdown",
   "metadata": {},
   "source": [
    "gene set enrichment analysis is obtained using PANTHER classification system on [GOC](http://geneontology.org)"
   ]
  },
  {
   "cell_type": "code",
   "execution_count": null,
   "metadata": {},
   "outputs": [],
   "source": [
    "cluster1 <- read.csv('../data/Figueroa/HELP/cluster1.txt', skip=5, header=T, sep='\\t', stringsAsFactor=F)"
   ]
  },
  {
   "cell_type": "markdown",
   "metadata": {},
   "source": [
    "no significant result for cluster 2"
   ]
  },
  {
   "cell_type": "code",
   "execution_count": 35,
   "metadata": {},
   "outputs": [],
   "source": [
    "cluster3 <- read.csv('../data/Figueroa/HELP/cluster3.txt', skip=5, header=T, sep='\\t', stringsAsFactor=F)"
   ]
  },
  {
   "cell_type": "markdown",
   "metadata": {},
   "source": [
    "no significant result for cluster 4"
   ]
  },
  {
   "cell_type": "code",
   "execution_count": 42,
   "metadata": {},
   "outputs": [],
   "source": [
    "cluster5 <- read.csv('../data/Figueroa/HELP/cluster5.txt', skip=5, header=T, sep='\\t', stringsAsFactor=F)\n",
    "cluster6 <- read.csv('../data/Figueroa/HELP/cluster6.txt', skip=5, header=T, sep='\\t', stringsAsFactor=F)\n",
    "cluster7 <- read.csv('../data/Figueroa/HELP/cluster7.txt', skip=5, header=T, sep='\\t', stringsAsFactor=F)"
   ]
  },
  {
   "cell_type": "markdown",
   "metadata": {},
   "source": [
    "Table of concensus clusters"
   ]
  },
  {
   "cell_type": "code",
   "execution_count": 47,
   "metadata": {},
   "outputs": [],
   "source": [
    "library(xtable)\n",
    "num.genes <- lapply(gene.cluster, length)"
   ]
  },
  {
   "cell_type": "code",
   "execution_count": null,
   "metadata": {},
   "outputs": [],
   "source": [
    "# genes with similar methylation patterns (why cluster by similar methylation patterns, may be involved in the same biological process)\n",
    "# those genes with similar gene expression patterns might be regulating the methylation level (if gene expression is high, methylation level is also high)\n",
    "# would expect genes with similar patterns are involved in some general biological process instead of very specific ones. Rank by intersection will be good."
   ]
  },
  {
   "cell_type": "code",
   "execution_count": 152,
   "metadata": {},
   "outputs": [
    {
     "data": {
      "text/html": [
       "326"
      ],
      "text/latex": [
       "326"
      ],
      "text/markdown": [
       "326"
      ],
      "text/plain": [
       "[1] 326"
      ]
     },
     "metadata": {},
     "output_type": "display_data"
    },
    {
     "data": {
      "text/html": [
       "<table>\n",
       "<thead><tr><th scope=col>BP</th><th scope=col>ref size</th><th scope=col>intersection</th><th scope=col>expected</th><th scope=col>+/-</th><th scope=col>fold enrichment</th><th scope=col>raw P</th><th scope=col>FDR</th></tr></thead>\n",
       "<tbody>\n",
       "\t<tr><td>cell communication (GO:0007154)</td><td>5693                           </td><td>97                             </td><td>63.04                          </td><td>+                              </td><td>1.54                           </td><td>1.81e-06                       </td><td>0.00236                        </td></tr>\n",
       "\t<tr><td>signaling (GO:0023052)         </td><td>5578                           </td><td>96                             </td><td>61.77                          </td><td>+                              </td><td>1.55                           </td><td>1.49e-06                       </td><td>0.00233                        </td></tr>\n",
       "</tbody>\n",
       "</table>\n"
      ],
      "text/latex": [
       "\\begin{tabular}{r|llllllll}\n",
       " BP & ref size & intersection & expected & +/- & fold enrichment & raw P & FDR\\\\\n",
       "\\hline\n",
       "\t cell communication (GO:0007154) & 5693                            & 97                              & 63.04                           & +                               & 1.54                            & 1.81e-06                        & 0.00236                        \\\\\n",
       "\t signaling (GO:0023052)          & 5578                            & 96                              & 61.77                           & +                               & 1.55                            & 1.49e-06                        & 0.00233                        \\\\\n",
       "\\end{tabular}\n"
      ],
      "text/markdown": [
       "\n",
       "BP | ref size | intersection | expected | +/- | fold enrichment | raw P | FDR | \n",
       "|---|---|\n",
       "| cell communication (GO:0007154) | 5693                            | 97                              | 63.04                           | +                               | 1.54                            | 1.81e-06                        | 0.00236                         | \n",
       "| signaling (GO:0023052)          | 5578                            | 96                              | 61.77                           | +                               | 1.55                            | 1.49e-06                        | 0.00233                         | \n",
       "\n",
       "\n"
      ],
      "text/plain": [
       "  BP                              ref size intersection expected +/-\n",
       "1 cell communication (GO:0007154) 5693     97           63.04    +  \n",
       "2 signaling (GO:0023052)          5578     96           61.77    +  \n",
       "  fold enrichment raw P    FDR    \n",
       "1 1.54            1.81e-06 0.00236\n",
       "2 1.55            1.49e-06 0.00233"
      ]
     },
     "metadata": {},
     "output_type": "display_data"
    },
    {
     "name": "stdout",
     "output_type": "stream",
     "text": [
      "% latex table generated in R 3.4.0 by xtable 1.8-2 package\n",
      "% Tue Jun 12 11:35:41 2018\n",
      "\\begin{table}[ht]\n",
      "\\centering\n",
      "\\begin{tabular}{lrrrrrr}\n",
      "  \\hline\n",
      "BP & ref size & intersection & expected & fold enrichment & raw P & FDR \\\\ \n",
      "  \\hline\n",
      "cell communication (GO:0007154) & 5693 &  97 & 63.04 & 1.54 & 1.8e-06 & 0.0024 \\\\ \n",
      "  signaling (GO:0023052) & 5578 &  96 & 61.77 & 1.55 & 1.5e-06 & 0.0023 \\\\ \n",
      "   \\hline\n",
      "\\end{tabular}\n",
      "\\end{table}\n"
     ]
    }
   ],
   "source": [
    "num.genes[[1]]\n",
    "colnames(cluster1) <- c('BP', 'ref size', 'intersection', 'expected', '+/-', 'fold enrichment', 'raw P', 'FDR')\n",
    "table1 <- cluster1 %>%\n",
    "    arrange(desc(intersection)) %>%\n",
    "    dplyr::filter(intersection > num.genes[[1]]/4 & FDR < 0.003)\n",
    "table1\n",
    "print(xtable(table1[,-5], display=c(\"s\", \"s\",\"d\",\"d\",\"f\",\"f\",\"g\",\"g\")), include.rownames=FALSE)"
   ]
  },
  {
   "cell_type": "code",
   "execution_count": 153,
   "metadata": {},
   "outputs": [
    {
     "data": {
      "text/html": [
       "816"
      ],
      "text/latex": [
       "816"
      ],
      "text/markdown": [
       "816"
      ],
      "text/plain": [
       "[1] 816"
      ]
     },
     "metadata": {},
     "output_type": "display_data"
    },
    {
     "data": {
      "text/html": [
       "<table>\n",
       "<thead><tr><th scope=col>BP</th><th scope=col>REF size</th><th scope=col>intersection</th><th scope=col>expected</th><th scope=col>+/-</th><th scope=col>fold enrichment</th><th scope=col>raw P</th><th scope=col>FDR</th></tr></thead>\n",
       "<tbody>\n",
       "\t<tr><td>developmental process (GO:0032502)             </td><td>5654                                           </td><td>310                                            </td><td>199.38                                         </td><td>+                                              </td><td>1.55                                           </td><td>9.24e-18                                       </td><td>1.45e-13                                       </td></tr>\n",
       "\t<tr><td>anatomical structure development (GO:0048856)  </td><td>5299                                           </td><td>293                                            </td><td>186.86                                         </td><td>+                                              </td><td>1.57                                           </td><td>5.64e-17                                       </td><td>4.41e-13                                       </td></tr>\n",
       "\t<tr><td>multicellular organism development (GO:0007275)</td><td>4918                                           </td><td>275                                            </td><td>173.42                                         </td><td>+                                              </td><td>1.59                                           </td><td>2.73e-16                                       </td><td>1.07e-12                                       </td></tr>\n",
       "\t<tr><td>system development (GO:0048731)                </td><td>4309                                           </td><td>244                                            </td><td>151.95                                         </td><td>+                                              </td><td>1.61                                           </td><td>1.01e-14                                       </td><td>2.62e-11                                       </td></tr>\n",
       "</tbody>\n",
       "</table>\n"
      ],
      "text/latex": [
       "\\begin{tabular}{r|llllllll}\n",
       " BP & REF size & intersection & expected & +/- & fold enrichment & raw P & FDR\\\\\n",
       "\\hline\n",
       "\t developmental process (GO:0032502)              & 5654                                            & 310                                             & 199.38                                          & +                                               & 1.55                                            & 9.24e-18                                        & 1.45e-13                                       \\\\\n",
       "\t anatomical structure development (GO:0048856)   & 5299                                            & 293                                             & 186.86                                          & +                                               & 1.57                                            & 5.64e-17                                        & 4.41e-13                                       \\\\\n",
       "\t multicellular organism development (GO:0007275) & 4918                                            & 275                                             & 173.42                                          & +                                               & 1.59                                            & 2.73e-16                                        & 1.07e-12                                       \\\\\n",
       "\t system development (GO:0048731)                 & 4309                                            & 244                                             & 151.95                                          & +                                               & 1.61                                            & 1.01e-14                                        & 2.62e-11                                       \\\\\n",
       "\\end{tabular}\n"
      ],
      "text/markdown": [
       "\n",
       "BP | REF size | intersection | expected | +/- | fold enrichment | raw P | FDR | \n",
       "|---|---|---|---|\n",
       "| developmental process (GO:0032502)              | 5654                                            | 310                                             | 199.38                                          | +                                               | 1.55                                            | 9.24e-18                                        | 1.45e-13                                        | \n",
       "| anatomical structure development (GO:0048856)   | 5299                                            | 293                                             | 186.86                                          | +                                               | 1.57                                            | 5.64e-17                                        | 4.41e-13                                        | \n",
       "| multicellular organism development (GO:0007275) | 4918                                            | 275                                             | 173.42                                          | +                                               | 1.59                                            | 2.73e-16                                        | 1.07e-12                                        | \n",
       "| system development (GO:0048731)                 | 4309                                            | 244                                             | 151.95                                          | +                                               | 1.61                                            | 1.01e-14                                        | 2.62e-11                                        | \n",
       "\n",
       "\n"
      ],
      "text/plain": [
       "  BP                                              REF size intersection\n",
       "1 developmental process (GO:0032502)              5654     310         \n",
       "2 anatomical structure development (GO:0048856)   5299     293         \n",
       "3 multicellular organism development (GO:0007275) 4918     275         \n",
       "4 system development (GO:0048731)                 4309     244         \n",
       "  expected +/- fold enrichment raw P    FDR     \n",
       "1 199.38   +   1.55            9.24e-18 1.45e-13\n",
       "2 186.86   +   1.57            5.64e-17 4.41e-13\n",
       "3 173.42   +   1.59            2.73e-16 1.07e-12\n",
       "4 151.95   +   1.61            1.01e-14 2.62e-11"
      ]
     },
     "metadata": {},
     "output_type": "display_data"
    },
    {
     "name": "stdout",
     "output_type": "stream",
     "text": [
      "% latex table generated in R 3.4.0 by xtable 1.8-2 package\n",
      "% Tue Jun 12 11:35:50 2018\n",
      "\\begin{table}[ht]\n",
      "\\centering\n",
      "\\begin{tabular}{lrrrrrr}\n",
      "  \\hline\n",
      "BP & REF size & intersection & expected & fold enrichment & raw P & FDR \\\\ \n",
      "  \\hline\n",
      "developmental process (GO:0032502) & 5654 & 310 & 199.38 & 1.55 & 9.2e-18 & 1.4e-13 \\\\ \n",
      "  anatomical structure development (GO:0048856) & 5299 & 293 & 186.86 & 1.57 & 5.6e-17 & 4.4e-13 \\\\ \n",
      "  multicellular organism development (GO:0007275) & 4918 & 275 & 173.42 & 1.59 & 2.7e-16 & 1.1e-12 \\\\ \n",
      "  system development (GO:0048731) & 4309 & 244 & 151.95 & 1.61 & 1e-14 & 2.6e-11 \\\\ \n",
      "   \\hline\n",
      "\\end{tabular}\n",
      "\\end{table}\n"
     ]
    }
   ],
   "source": [
    "num.genes[[5]]\n",
    "colnames(cluster5) <- c('BP', 'REF size', 'intersection', 'expected', '+/-', 'fold enrichment', 'raw P', 'FDR')\n",
    "table5 <- cluster5 %>%\n",
    "    arrange(desc(intersection)) %>%\n",
    "    dplyr::filter(intersection > num.genes[[5]]/4 & FDR < 1e-10)\n",
    "table5\n",
    "print(xtable(table5[,-5], display=c(\"s\", \"s\",\"d\", \"d\",\"f\",\"f\",\"g\",\"g\")), include.rownames=FALSE)"
   ]
  },
  {
   "cell_type": "code",
   "execution_count": 154,
   "metadata": {},
   "outputs": [
    {
     "data": {
      "text/html": [
       "656"
      ],
      "text/latex": [
       "656"
      ],
      "text/markdown": [
       "656"
      ],
      "text/plain": [
       "[1] 656"
      ]
     },
     "metadata": {},
     "output_type": "display_data"
    },
    {
     "data": {
      "text/html": [
       "<table>\n",
       "<thead><tr><th scope=col>BP</th><th scope=col>REF size</th><th scope=col>intersection</th><th scope=col>expected</th><th scope=col>+/-</th><th scope=col>fold enrichment</th><th scope=col>raw P</th><th scope=col>FDR</th></tr></thead>\n",
       "<tbody>\n",
       "\t<tr><td>developmental process (GO:0032502)                        </td><td>5654                                                      </td><td>199                                                       </td><td>147.52                                                    </td><td>+                                                         </td><td>1.35                                                      </td><td>2.20e-06                                                  </td><td>0.00573                                                   </td></tr>\n",
       "\t<tr><td>cellular component organization or biogenesis (GO:0071840)</td><td>5773                                                      </td><td>196                                                       </td><td>150.62                                                    </td><td>+                                                         </td><td>1.30                                                      </td><td>3.08e-05                                                  </td><td>0.02680                                                   </td></tr>\n",
       "\t<tr><td>cellular component organization (GO:0016043)              </td><td>5584                                                      </td><td>192                                                       </td><td>145.69                                                    </td><td>+                                                         </td><td>1.32                                                      </td><td>2.03e-05                                                  </td><td>0.02110                                                   </td></tr>\n",
       "\t<tr><td>anatomical structure development (GO:0048856)             </td><td>5299                                                      </td><td>190                                                       </td><td>138.25                                                    </td><td>+                                                         </td><td>1.37                                                      </td><td>1.33e-06                                                  </td><td>0.00520                                                   </td></tr>\n",
       "\t<tr><td>multicellular organism development (GO:0007275)           </td><td>4918                                                      </td><td>184                                                       </td><td>128.31                                                    </td><td>+                                                         </td><td>1.43                                                      </td><td>1.05e-07                                                  </td><td>0.00165                                                   </td></tr>\n",
       "</tbody>\n",
       "</table>\n"
      ],
      "text/latex": [
       "\\begin{tabular}{r|llllllll}\n",
       " BP & REF size & intersection & expected & +/- & fold enrichment & raw P & FDR\\\\\n",
       "\\hline\n",
       "\t developmental process (GO:0032502)                         & 5654                                                       & 199                                                        & 147.52                                                     & +                                                          & 1.35                                                       & 2.20e-06                                                   & 0.00573                                                   \\\\\n",
       "\t cellular component organization or biogenesis (GO:0071840) & 5773                                                       & 196                                                        & 150.62                                                     & +                                                          & 1.30                                                       & 3.08e-05                                                   & 0.02680                                                   \\\\\n",
       "\t cellular component organization (GO:0016043)               & 5584                                                       & 192                                                        & 145.69                                                     & +                                                          & 1.32                                                       & 2.03e-05                                                   & 0.02110                                                   \\\\\n",
       "\t anatomical structure development (GO:0048856)              & 5299                                                       & 190                                                        & 138.25                                                     & +                                                          & 1.37                                                       & 1.33e-06                                                   & 0.00520                                                   \\\\\n",
       "\t multicellular organism development (GO:0007275)            & 4918                                                       & 184                                                        & 128.31                                                     & +                                                          & 1.43                                                       & 1.05e-07                                                   & 0.00165                                                   \\\\\n",
       "\\end{tabular}\n"
      ],
      "text/markdown": [
       "\n",
       "BP | REF size | intersection | expected | +/- | fold enrichment | raw P | FDR | \n",
       "|---|---|---|---|---|\n",
       "| developmental process (GO:0032502)                         | 5654                                                       | 199                                                        | 147.52                                                     | +                                                          | 1.35                                                       | 2.20e-06                                                   | 0.00573                                                    | \n",
       "| cellular component organization or biogenesis (GO:0071840) | 5773                                                       | 196                                                        | 150.62                                                     | +                                                          | 1.30                                                       | 3.08e-05                                                   | 0.02680                                                    | \n",
       "| cellular component organization (GO:0016043)               | 5584                                                       | 192                                                        | 145.69                                                     | +                                                          | 1.32                                                       | 2.03e-05                                                   | 0.02110                                                    | \n",
       "| anatomical structure development (GO:0048856)              | 5299                                                       | 190                                                        | 138.25                                                     | +                                                          | 1.37                                                       | 1.33e-06                                                   | 0.00520                                                    | \n",
       "| multicellular organism development (GO:0007275)            | 4918                                                       | 184                                                        | 128.31                                                     | +                                                          | 1.43                                                       | 1.05e-07                                                   | 0.00165                                                    | \n",
       "\n",
       "\n"
      ],
      "text/plain": [
       "  BP                                                         REF size\n",
       "1 developmental process (GO:0032502)                         5654    \n",
       "2 cellular component organization or biogenesis (GO:0071840) 5773    \n",
       "3 cellular component organization (GO:0016043)               5584    \n",
       "4 anatomical structure development (GO:0048856)              5299    \n",
       "5 multicellular organism development (GO:0007275)            4918    \n",
       "  intersection expected +/- fold enrichment raw P    FDR    \n",
       "1 199          147.52   +   1.35            2.20e-06 0.00573\n",
       "2 196          150.62   +   1.30            3.08e-05 0.02680\n",
       "3 192          145.69   +   1.32            2.03e-05 0.02110\n",
       "4 190          138.25   +   1.37            1.33e-06 0.00520\n",
       "5 184          128.31   +   1.43            1.05e-07 0.00165"
      ]
     },
     "metadata": {},
     "output_type": "display_data"
    },
    {
     "name": "stdout",
     "output_type": "stream",
     "text": [
      "% latex table generated in R 3.4.0 by xtable 1.8-2 package\n",
      "% Tue Jun 12 11:36:41 2018\n",
      "\\begin{table}[ht]\n",
      "\\centering\n",
      "\\begin{tabular}{lrrrlrr}\n",
      "  \\hline\n",
      "BP & REF size & intersection & expected & fold enrichment & raw P & FDR \\\\ \n",
      "  \\hline\n",
      "developmental process (GO:0032502) & 5654 & 199 & 147.52 & 1.35 & 2.2e-06 & 0.0057 \\\\ \n",
      "  cellular component organization or biogenesis (GO:0071840) & 5773 & 196 & 150.62 & 1.30 & 3.1e-05 & 0.027 \\\\ \n",
      "  cellular component organization (GO:0016043) & 5584 & 192 & 145.69 & 1.32 & 2e-05 & 0.021 \\\\ \n",
      "  anatomical structure development (GO:0048856) & 5299 & 190 & 138.25 & 1.37 & 1.3e-06 & 0.0052 \\\\ \n",
      "  multicellular organism development (GO:0007275) & 4918 & 184 & 128.31 & 1.43 & 1.1e-07 & 0.0016 \\\\ \n",
      "   \\hline\n",
      "\\end{tabular}\n",
      "\\end{table}\n"
     ]
    }
   ],
   "source": [
    "num.genes[[6]]\n",
    "colnames(cluster6) <- c('BP', 'REF size', 'intersection', 'expected', '+/-', 'fold enrichment', 'raw P', 'FDR')\n",
    "table6 <- cluster6 %>%\n",
    "    arrange(desc(intersection)) %>%\n",
    "    dplyr::filter(intersection > num.genes[[6]]/4 & FDR < 0.03)\n",
    "table6\n",
    "print(xtable(table6[,-5], display=c(\"s\", \"s\",\"d\", \"d\",\"f\",\"f\",\"g\",\"g\")), include.rownames=FALSE)"
   ]
  },
  {
   "cell_type": "code",
   "execution_count": 158,
   "metadata": {},
   "outputs": [
    {
     "data": {
      "text/html": [
       "461"
      ],
      "text/latex": [
       "461"
      ],
      "text/markdown": [
       "461"
      ],
      "text/plain": [
       "[1] 461"
      ]
     },
     "metadata": {},
     "output_type": "display_data"
    },
    {
     "name": "stdout",
     "output_type": "stream",
     "text": [
      "% latex table generated in R 3.4.0 by xtable 1.8-2 package\n",
      "% Tue Jun 12 11:40:11 2018\n",
      "\\begin{table}[ht]\n",
      "\\centering\n",
      "\\begin{tabular}{lrrrrrr}\n",
      "  \\hline\n",
      "BP & REF size & intersection & expected & fold enrichment & raw P & FDR \\\\ \n",
      "  \\hline\n",
      "negative regulation of biological process (GO:0048519) & 5129 & 132 & 89.21 & 1.48 & 8.2e-07 & 0.013 \\\\ \n",
      "   \\hline\n",
      "\\end{tabular}\n",
      "\\end{table}\n"
     ]
    }
   ],
   "source": [
    "num.genes[[7]]\n",
    "colnames(cluster7) <- c('BP', 'REF size', 'intersection', 'expected', '+/-', 'fold enrichment', 'raw P', 'FDR')\n",
    "table7 <- cluster7 %>%\n",
    "    arrange(desc(intersection)) %>%\n",
    "    dplyr::filter(intersection > num.genes[[7]]/4 & FDR < 0.015)\n",
    "print(xtable(table7[,-5], display=c(\"s\", \"s\",\"d\", \"d\",\"f\",\"f\",\"g\",\"g\")), include.rownames=F)"
   ]
  },
  {
   "cell_type": "code",
   "execution_count": 159,
   "metadata": {},
   "outputs": [
    {
     "data": {
      "text/html": [
       "671"
      ],
      "text/latex": [
       "671"
      ],
      "text/markdown": [
       "671"
      ],
      "text/plain": [
       "[1] 671"
      ]
     },
     "metadata": {},
     "output_type": "display_data"
    },
    {
     "name": "stdout",
     "output_type": "stream",
     "text": [
      "% latex table generated in R 3.4.0 by xtable 1.8-2 package\n",
      "% Tue Jun 12 11:41:33 2018\n",
      "\\begin{table}[ht]\n",
      "\\centering\n",
      "\\begin{tabular}{lrrrrrr}\n",
      "  \\hline\n",
      "BP & REF size & intersection & expected & fold enrichment & raw P & FDR \\\\ \n",
      "  \\hline\n",
      "biological\\_process (GO:0008150) & 17854 & 480 & 437.82 & 1.10 & 2.9e-08 & 0.00023 \\\\ \n",
      "  cellular process (GO:0009987) & 15478 & 436 & 379.56 & 1.15 & 6.1e-09 & 9.5e-05 \\\\ \n",
      "   \\hline\n",
      "\\end{tabular}\n",
      "\\end{table}\n"
     ]
    }
   ],
   "source": [
    "num.genes[[3]]\n",
    "colnames(cluster3) <- c('BP', 'REF size', 'intersection', 'expected', '+/-', 'fold enrichment', 'raw P', 'FDR')\n",
    "table3 <- cluster3 %>%\n",
    "    arrange(desc(intersection)) %>%\n",
    "    dplyr::filter(intersection > num.genes[[3]]/4 & FDR < 0.015)\n",
    "print(xtable(table3[,-5], display=c(\"s\", \"s\",\"d\", \"d\",\"f\",\"f\",\"g\",\"g\")), include.rownames=F)"
   ]
  },
  {
   "cell_type": "code",
   "execution_count": 233,
   "metadata": {},
   "outputs": [
    {
     "name": "stdout",
     "output_type": "stream",
     "text": [
      "[1] 1\n",
      "% latex table generated in R 3.4.0 by xtable 1.8-2 package\n",
      "% Tue Jun 12 15:16:55 2018\n",
      "\\begin{table}[ht]\n",
      "\\centering\n",
      "\\begin{tabular}{llr}\n",
      "  \\hline\n",
      "gene & description & coef \\\\ \n",
      "  \\hline\n",
      "ERBB2 & erb-b2 receptor tyrosine kinase 2 & 0.002 \\\\ \n",
      "  ZBTB38 & zinc finger and BTB domain containing 38 & -0.00068 \\\\ \n",
      "  HDAC2 & histone deacetylase 2 & 0.00059 \\\\ \n",
      "  RBPJ & recombination signal binding protein for immunoglobulin kappa J region & -0.00019 \\\\ \n",
      "  POU6F1 & POU class 6 homeobox 1 & 0.0023 \\\\ \n",
      "  TAL1 & TAL bHLH transcription factor 1, erythroid differentiation factor & 0.0002 \\\\ \n",
      "  CDCA7 & cell division cycle associated 7 & -0.00015 \\\\ \n",
      "  AURKB & aurora kinase B & 0.0004 \\\\ \n",
      "   \\hline\n",
      "\\end{tabular}\n",
      "\\end{table}\n",
      "[1] 3\n",
      "% latex table generated in R 3.4.0 by xtable 1.8-2 package\n",
      "% Tue Jun 12 15:16:55 2018\n",
      "\\begin{table}[ht]\n",
      "\\centering\n",
      "\\begin{tabular}{llr}\n",
      "  \\hline\n",
      "gene & description & coef \\\\ \n",
      "  \\hline\n",
      "MED13L & mediator complex subunit 13 like & -0.00015 \\\\ \n",
      "  INTS6 & integrator complex subunit 6 & -0.00021 \\\\ \n",
      "  MGMT & O-6-methylguanine-DNA methyltransferase & 0.0006 \\\\ \n",
      "  SOX15 & SRY-box 15 & 0.00071 \\\\ \n",
      "  TRAF7 & TNF receptor associated factor 7 & 0.00028 \\\\ \n",
      "  ABHD14B & abhydrolase domain containing 14B & -0.00012 \\\\ \n",
      "  PDLIM1 & PDZ and LIM domain 1 & 1.1e-05 \\\\ \n",
      "  ZMYM4 & zinc finger MYM-type containing 4 & 0.00018 \\\\ \n",
      "   \\hline\n",
      "\\end{tabular}\n",
      "\\end{table}\n",
      "[1] 5\n",
      "% latex table generated in R 3.4.0 by xtable 1.8-2 package\n",
      "% Tue Jun 12 15:16:55 2018\n",
      "\\begin{table}[ht]\n",
      "\\centering\n",
      "\\begin{tabular}{llr}\n",
      "  \\hline\n",
      "gene & description & coef \\\\ \n",
      "  \\hline\n",
      "TLR6 & toll like receptor 6 & 0.0007 \\\\ \n",
      "  SSU72 & SSU72 homolog, RNA polymerase II CTD phosphatase & 0.00013 \\\\ \n",
      "  BCL7A & BCL tumor suppressor 7A & 0.00021 \\\\ \n",
      "  SARS & seryl-tRNA synthetase & -0.0003 \\\\ \n",
      "  SFPQ & splicing factor proline and glutamine rich & -2.8e-05 \\\\ \n",
      "   \\hline\n",
      "\\end{tabular}\n",
      "\\end{table}\n",
      "[1] 6\n",
      "% latex table generated in R 3.4.0 by xtable 1.8-2 package\n",
      "% Tue Jun 12 15:16:55 2018\n",
      "\\begin{table}[ht]\n",
      "\\centering\n",
      "\\begin{tabular}{llr}\n",
      "  \\hline\n",
      "gene & description & coef \\\\ \n",
      "  \\hline\n",
      "DEAF1 & DEAF1, transcription factor & 8.1e-05 \\\\ \n",
      "  ATF7IP & activating transcription factor 7 interacting protein & -5.1e-05 \\\\ \n",
      "  PSEN1 & presenilin 1 & -0.00022 \\\\ \n",
      "  CREBZF & CREB/ATF bZIP transcription factor & 0.00031 \\\\ \n",
      "  RBL2 & RB transcriptional corepressor like 2 & 0.00024 \\\\ \n",
      "  VLDLR & very low density lipoprotein receptor & -6.4e-05 \\\\ \n",
      "  ZC3H8 & zinc finger CCCH-type containing 8 & -0.00045 \\\\ \n",
      "  ZBTB24 & zinc finger and BTB domain containing 24 & 0.00015 \\\\ \n",
      "   \\hline\n",
      "\\end{tabular}\n",
      "\\end{table}\n",
      "[1] 7\n",
      "% latex table generated in R 3.4.0 by xtable 1.8-2 package\n",
      "% Tue Jun 12 15:16:56 2018\n",
      "\\begin{table}[ht]\n",
      "\\centering\n",
      "\\begin{tabular}{llr}\n",
      "  \\hline\n",
      "gene & description & coef \\\\ \n",
      "  \\hline\n",
      "MAMLD1 & mastermind like domain containing 1 & -0.00059 \\\\ \n",
      "  AKT1 & AKT serine/threonine kinase 1 & 9e-05 \\\\ \n",
      "  F2RL1 & F2R like trypsin receptor 1 & -0.00015 \\\\ \n",
      "  GFI1 & growth factor independent 1 transcriptional repressor & 8.6e-05 \\\\ \n",
      "  GLO1 & glyoxalase I & -3.8e-05 \\\\ \n",
      "  HNMT & histamine N-methyltransferase & 0.00092 \\\\ \n",
      "  MED1 & mediator complex subunit 1 & -0.00018 \\\\ \n",
      "  PAK6 & p21 (RAC1) activated kinase 6 & 0.00033 \\\\ \n",
      "  ZNF286A & zinc finger protein 286A & -0.004 \\\\ \n",
      "  KIAA1549 & KIAA1549 & 0.00047 \\\\ \n",
      "  ZBED5 & zinc finger BED-type containing 5 & -0.00034 \\\\ \n",
      "  SCML1 & Scm polycomb group protein like 1 & -0.00043 \\\\ \n",
      "  CRTC3 & CREB regulated transcription coactivator 3 & -8.9e-05 \\\\ \n",
      "  SLC11A1 & solute carrier family 11 member 1 & 0.00019 \\\\ \n",
      "  TP53BP1 & tumor protein p53 binding protein 1 & 0.00032 \\\\ \n",
      "  CBX2 & chromobox 2 & -0.00037 \\\\ \n",
      "  TRIM15 & tripartite motif containing 15 & 0.0005 \\\\ \n",
      "   \\hline\n",
      "\\end{tabular}\n",
      "\\end{table}\n"
     ]
    }
   ],
   "source": [
    "library(stringr)\n",
    "for (i in c(1, 3, 5,6,7)) {\n",
    "    print(i)\n",
    "    res <- read.csv(paste0('../data/Figueroa//vBsr/clusterAnnotated', i, '.tsv'), sep='\\t', header=T, stringsAsFactor=F)\n",
    "    res$description <- sapply(res$description, function(x) str_match(x, '(.*) \\\\[.*')[[2]])\n",
    "    print(xtable(res, display=c('s', 's', 's', 'g')), include.rownames=F)\n",
    "}\n",
    "\n"
   ]
  }
 ],
 "metadata": {
  "kernelspec": {
   "display_name": "R",
   "language": "R",
   "name": "ir"
  },
  "language_info": {
   "codemirror_mode": "r",
   "file_extension": ".r",
   "mimetype": "text/x-r-source",
   "name": "R",
   "pygments_lexer": "r",
   "version": "3.5.0"
  }
 },
 "nbformat": 4,
 "nbformat_minor": 2
}
