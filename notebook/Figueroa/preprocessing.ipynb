{
 "cells": [
  {
   "cell_type": "markdown",
   "metadata": {},
   "source": [
    "# Preprocess data\n",
    "\n",
    "Aims:\n",
    "- Write the probe information from the two datasets\n",
    "- Save the formatted data matrix (GEP and methylation)"
   ]
  },
  {
   "cell_type": "code",
   "execution_count": 52,
   "metadata": {},
   "outputs": [],
   "source": [
    "suppressMessages({\n",
    "    library(hashmap)\n",
    "    library(tidyverse)\n",
    "    library(mygene)\n",
    "})\n",
    "trim.trailing <- function (x) sub(\"\\\\s+$\", \"\", x)"
   ]
  },
  {
   "cell_type": "code",
   "execution_count": 48,
   "metadata": {},
   "outputs": [
    {
     "name": "stderr",
     "output_type": "stream",
     "text": [
      "Parsed with column specification:\n",
      "cols(\n",
      "  .default = col_double(),\n",
      "  Name = col_character(),\n",
      "  Description = col_character()\n",
      ")\n",
      "See spec(...) for full column specifications.\n",
      "Parsed with column specification:\n",
      "cols(\n",
      "  .default = col_double(),\n",
      "  Gene = col_character(),\n",
      "  Name = col_character()\n",
      ")\n",
      "See spec(...) for full column specifications.\n"
     ]
    }
   ],
   "source": [
    "# load RNAseq and methylation data\n",
    "gep <- read_tsv('../../data/Figueroa/GEP-filtered.tsv')\n",
    "methylation <- read_tsv('../../data/Figueroa/methylation-filtered.tsv')"
   ]
  },
  {
   "cell_type": "markdown",
   "metadata": {},
   "source": [
    "## Preprocess Expression Array"
   ]
  },
  {
   "cell_type": "code",
   "execution_count": 49,
   "metadata": {},
   "outputs": [
    {
     "data": {
      "text/html": [
       "<table>\n",
       "<thead><tr><th></th><th scope=col>GSM464771</th><th scope=col>GSM464772</th><th scope=col>GSM464773</th><th scope=col>GSM464774</th><th scope=col>GSM464775</th><th scope=col>GSM464776</th><th scope=col>GSM464777</th><th scope=col>GSM464778</th><th scope=col>GSM464779</th><th scope=col>GSM464780</th><th scope=col>⋯</th><th scope=col>GSM465020</th><th scope=col>GSM465024</th><th scope=col>GSM465026</th><th scope=col>GSM465030</th><th scope=col>GSM465060</th><th scope=col>GSM465061</th><th scope=col>GSM465062</th><th scope=col>GSM465063</th><th scope=col>GSM465064</th><th scope=col>GSM465065</th></tr></thead>\n",
       "<tbody>\n",
       "\t<tr><th scope=row>10000_at</th><td> 74.3174 </td><td> 27.66245</td><td>102.0721 </td><td>101.6374 </td><td> 31.43173</td><td> 74.90709</td><td> 68.8868 </td><td>114.4036 </td><td> 98.7125 </td><td>103.8562 </td><td>⋯        </td><td>106.8033 </td><td>207.4528 </td><td>120.7066 </td><td> 84.64849</td><td>139.1024 </td><td> 43.22202</td><td>236.6838 </td><td>210.1270 </td><td>220.1624 </td><td>147.4783 </td></tr>\n",
       "\t<tr><th scope=row>10001_at</th><td>660.5697 </td><td>536.18860</td><td>314.0691 </td><td>856.6095 </td><td>708.81936</td><td>433.50528</td><td>528.4353 </td><td>448.2595 </td><td>543.2180 </td><td>707.8009 </td><td>⋯        </td><td>406.9814 </td><td>586.1430 </td><td>410.5169 </td><td>486.99356</td><td>547.8272 </td><td>587.26037</td><td>549.8494 </td><td>398.5402 </td><td>457.6389 </td><td>384.2906 </td></tr>\n",
       "</tbody>\n",
       "</table>\n"
      ],
      "text/latex": [
       "\\begin{tabular}{r|llllllllllllllllllllllllllllllllllllllllllllllllllllllllllllllllllllllllllllllllllllllllllllllllllllllllllllllllllllllllllllllllllllllllllllllllllllllllllllllllllllllllllllllllllllllllllllllllllllllllllllllllllllllllllllllllllllllllllllllllllllllllllllllllllllllllllllllllllllllllllllllllllllllllllllllllllllllllllllllllllllllllllllllllllllllll}\n",
       "  & GSM464771 & GSM464772 & GSM464773 & GSM464774 & GSM464775 & GSM464776 & GSM464777 & GSM464778 & GSM464779 & GSM464780 & ⋯ & GSM465020 & GSM465024 & GSM465026 & GSM465030 & GSM465060 & GSM465061 & GSM465062 & GSM465063 & GSM465064 & GSM465065\\\\\n",
       "\\hline\n",
       "\t10000\\_at &  74.3174  &  27.66245 & 102.0721  & 101.6374  &  31.43173 &  74.90709 &  68.8868  & 114.4036  &  98.7125  & 103.8562  & ⋯         & 106.8033  & 207.4528  & 120.7066  &  84.64849 & 139.1024  &  43.22202 & 236.6838  & 210.1270  & 220.1624  & 147.4783 \\\\\n",
       "\t10001\\_at & 660.5697  & 536.18860 & 314.0691  & 856.6095  & 708.81936 & 433.50528 & 528.4353  & 448.2595  & 543.2180  & 707.8009  & ⋯         & 406.9814  & 586.1430  & 410.5169  & 486.99356 & 547.8272  & 587.26037 & 549.8494  & 398.5402  & 457.6389  & 384.2906 \\\\\n",
       "\\end{tabular}\n"
      ],
      "text/markdown": [
       "\n",
       "| <!--/--> | GSM464771 | GSM464772 | GSM464773 | GSM464774 | GSM464775 | GSM464776 | GSM464777 | GSM464778 | GSM464779 | GSM464780 | ⋯ | GSM465020 | GSM465024 | GSM465026 | GSM465030 | GSM465060 | GSM465061 | GSM465062 | GSM465063 | GSM465064 | GSM465065 | \n",
       "|---|---|\n",
       "| 10000_at |  74.3174  |  27.66245 | 102.0721  | 101.6374  |  31.43173 |  74.90709 |  68.8868  | 114.4036  |  98.7125  | 103.8562  | ⋯         | 106.8033  | 207.4528  | 120.7066  |  84.64849 | 139.1024  |  43.22202 | 236.6838  | 210.1270  | 220.1624  | 147.4783  | \n",
       "| 10001_at | 660.5697  | 536.18860 | 314.0691  | 856.6095  | 708.81936 | 433.50528 | 528.4353  | 448.2595  | 543.2180  | 707.8009  | ⋯         | 406.9814  | 586.1430  | 410.5169  | 486.99356 | 547.8272  | 587.26037 | 549.8494  | 398.5402  | 457.6389  | 384.2906  | \n",
       "\n",
       "\n"
      ],
      "text/plain": [
       "         GSM464771 GSM464772 GSM464773 GSM464774 GSM464775 GSM464776 GSM464777\n",
       "10000_at  74.3174   27.66245 102.0721  101.6374   31.43173  74.90709  68.8868 \n",
       "10001_at 660.5697  536.18860 314.0691  856.6095  708.81936 433.50528 528.4353 \n",
       "         GSM464778 GSM464779 GSM464780 ⋯ GSM465020 GSM465024 GSM465026\n",
       "10000_at 114.4036   98.7125  103.8562  ⋯ 106.8033  207.4528  120.7066 \n",
       "10001_at 448.2595  543.2180  707.8009  ⋯ 406.9814  586.1430  410.5169 \n",
       "         GSM465030 GSM465060 GSM465061 GSM465062 GSM465063 GSM465064 GSM465065\n",
       "10000_at  84.64849 139.1024   43.22202 236.6838  210.1270  220.1624  147.4783 \n",
       "10001_at 486.99356 547.8272  587.26037 549.8494  398.5402  457.6389  384.2906 "
      ]
     },
     "metadata": {},
     "output_type": "display_data"
    }
   ],
   "source": [
    "gep.mat <- data.matrix(gep[,-seq(2)])\n",
    "colnames(gep.mat) <- colnames(gep)[-seq(2)]\n",
    "rownames(gep.mat) <- gep$Name \n",
    "head(gep.mat, n=2) # not normalized "
   ]
  },
  {
   "cell_type": "code",
   "execution_count": 50,
   "metadata": {},
   "outputs": [],
   "source": [
    "name=gep[,seq(1)]\n",
    "gene=sapply(as.vector(gep$Description), function(x) trim.trailing(strsplit(x, ' - ')[[1]][1]))\n",
    "desc=sapply(as.vector(gep$Description), function(x) trim.trailing(strsplit(x, ' - ')[[1]][2]))\n",
    "\n",
    "write.table(data.frame(name=name, gene=gene, desc=desc), file='../../data/Figueroa/gep-name2desc.tsv', sep='\\t', col.names=T, row.names=F, quote=F)"
   ]
  },
  {
   "cell_type": "code",
   "execution_count": null,
   "metadata": {},
   "outputs": [],
   "source": [
    "annotations <- queryMany(gene, scopes='symbol', fields=c('go'), species='human', returnall=T)\n",
    "\n",
    "terms <- c()\n",
    "for (i in seq(length(annotations$response$query))) {\n",
    "  if (is.na(annotations$response$notfound[i])) {\n",
    "    query <- annotations$response$query[i]\n",
    "    termConcat <- paste(as.character(annotations$response$go.BP[[i]]$term), collapse=', ')\n",
    "    terms <- rbind(terms, c(query, termConcat))\n",
    "  }\n",
    "}"
   ]
  },
  {
   "cell_type": "code",
   "execution_count": 59,
   "metadata": {},
   "outputs": [
    {
     "data": {
      "text/html": [
       "<ol class=list-inline>\n",
       "\t<li>'DNMT3B'</li>\n",
       "\t<li>'negative regulation of transcription by RNA polymerase II, response to hypoxia, DNA methylation, DNA methylation, response to toxic substance, response to ionizing radiation, positive regulation of gene expression, response to activity, response to caffeine, response to estradiol, response to vitamin A, response to cocaine, positive regulation of neuron differentiation, negative regulation of gene expression, epigenetic, positive regulation of histone H3-K4 methylation, negative regulation of histone H3-K9 methylation, cellular response to hyperoxia, cellular response to dexamethasone stimulus, C-5 methylation of cytosine'</li>\n",
       "</ol>\n"
      ],
      "text/latex": [
       "\\begin{enumerate*}\n",
       "\\item 'DNMT3B'\n",
       "\\item 'negative regulation of transcription by RNA polymerase II, response to hypoxia, DNA methylation, DNA methylation, response to toxic substance, response to ionizing radiation, positive regulation of gene expression, response to activity, response to caffeine, response to estradiol, response to vitamin A, response to cocaine, positive regulation of neuron differentiation, negative regulation of gene expression, epigenetic, positive regulation of histone H3-K4 methylation, negative regulation of histone H3-K9 methylation, cellular response to hyperoxia, cellular response to dexamethasone stimulus, C-5 methylation of cytosine'\n",
       "\\end{enumerate*}\n"
      ],
      "text/markdown": [
       "1. 'DNMT3B'\n",
       "2. 'negative regulation of transcription by RNA polymerase II, response to hypoxia, DNA methylation, DNA methylation, response to toxic substance, response to ionizing radiation, positive regulation of gene expression, response to activity, response to caffeine, response to estradiol, response to vitamin A, response to cocaine, positive regulation of neuron differentiation, negative regulation of gene expression, epigenetic, positive regulation of histone H3-K4 methylation, negative regulation of histone H3-K9 methylation, cellular response to hyperoxia, cellular response to dexamethasone stimulus, C-5 methylation of cytosine'\n",
       "\n",
       "\n"
      ],
      "text/plain": [
       "[1] \"DNMT3B\"                                                                                                                                                                                                                                                                                                                                                                                                                                                                                                                                                                                                                                               \n",
       "[2] \"negative regulation of transcription by RNA polymerase II, response to hypoxia, DNA methylation, DNA methylation, response to toxic substance, response to ionizing radiation, positive regulation of gene expression, response to activity, response to caffeine, response to estradiol, response to vitamin A, response to cocaine, positive regulation of neuron differentiation, negative regulation of gene expression, epigenetic, positive regulation of histone H3-K4 methylation, negative regulation of histone H3-K9 methylation, cellular response to hyperoxia, cellular response to dexamethasone stimulus, C-5 methylation of cytosine\""
      ]
     },
     "metadata": {},
     "output_type": "display_data"
    }
   ],
   "source": [
    "head(terms[terms[,1]=='DNMT3B',] ) # a methyltransferase"
   ]
  },
  {
   "cell_type": "code",
   "execution_count": 60,
   "metadata": {},
   "outputs": [
    {
     "data": {
      "text/html": [
       "<ol class=list-inline>\n",
       "\t<li>3415</li>\n",
       "\t<li>2</li>\n",
       "</ol>\n"
      ],
      "text/latex": [
       "\\begin{enumerate*}\n",
       "\\item 3415\n",
       "\\item 2\n",
       "\\end{enumerate*}\n"
      ],
      "text/markdown": [
       "1. 3415\n",
       "2. 2\n",
       "\n",
       "\n"
      ],
      "text/plain": [
       "[1] 3415    2"
      ]
     },
     "metadata": {},
     "output_type": "display_data"
    }
   ],
   "source": [
    "terms.cleaned <- data.frame(name=terms[,1], annotation=terms[,2]) %>%\n",
    "  group_by(name) %>%\n",
    "  mutate(annotations = paste0(annotation, collapse = \", \")) %>%\n",
    "  dplyr::select(-annotation) %>%\n",
    "  distinct()\n",
    "terms.filtered <- terms.cleaned %>%\n",
    "  dplyr::filter(grepl('methyl|transcrip', annotations)) # 3415 left\n",
    "dim(terms.filtered)"
   ]
  },
  {
   "cell_type": "code",
   "execution_count": 69,
   "metadata": {},
   "outputs": [],
   "source": [
    "write.table(terms.filtered, file='../../data/Figueroa/genes-transcription-related.tsv',\n",
    "           sep='\\t', row.names=F, col.names=T, quote=F)"
   ]
  },
  {
   "cell_type": "code",
   "execution_count": 66,
   "metadata": {},
   "outputs": [],
   "source": [
    "filtered.idx <- which(gene %in% terms.filtered$name)\n",
    "gep.filtered <- gep.mat[filtered.idx,]\n",
    "rownames(gep.filtered) <- gene[filtered.idx]"
   ]
  },
  {
   "cell_type": "code",
   "execution_count": 67,
   "metadata": {},
   "outputs": [],
   "source": [
    "write.table(gep.filtered, file='../../data/Figueroa/gep-transcription-related.tsv', sep='\\t', row.names=T, col.names=T, quote=F)"
   ]
  }
 ],
 "metadata": {
  "kernelspec": {
   "display_name": "R",
   "language": "R",
   "name": "ir"
  },
  "language_info": {
   "codemirror_mode": "r",
   "file_extension": ".r",
   "mimetype": "text/x-r-source",
   "name": "R",
   "pygments_lexer": "r",
   "version": "3.5.0"
  }
 },
 "nbformat": 4,
 "nbformat_minor": 2
}
