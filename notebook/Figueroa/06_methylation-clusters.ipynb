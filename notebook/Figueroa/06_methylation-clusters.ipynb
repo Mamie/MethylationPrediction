{
 "cells": [
  {
   "cell_type": "markdown",
   "metadata": {},
   "source": [
    "# Characterization of methylation clusters"
   ]
  },
  {
   "cell_type": "code",
   "execution_count": 70,
   "metadata": {},
   "outputs": [],
   "source": [
    "suppressMessages({\n",
    "    library(tidyverse)\n",
    "    library(magrittr)\n",
    "    library(pheatmap)\n",
    "    library(viridis)\n",
    "})"
   ]
  },
  {
   "cell_type": "code",
   "execution_count": 11,
   "metadata": {},
   "outputs": [
    {
     "name": "stderr",
     "output_type": "stream",
     "text": [
      "Parsed with column specification:\n",
      "cols(\n",
      "  .default = col_double(),\n",
      "  probe = col_character(),\n",
      "  communities = col_integer()\n",
      ")\n",
      "See spec(...) for full column specifications.\n"
     ]
    }
   ],
   "source": [
    "methylation.path = '../../data/Figueroa/clusters/methyl-cluster-k30.csv'\n",
    "methylation.normalized = read_csv(methylation.path)"
   ]
  },
  {
   "cell_type": "code",
   "execution_count": 12,
   "metadata": {},
   "outputs": [
    {
     "data": {
      "text/html": [
       "<table>\n",
       "<thead><tr><th scope=col>GSM464771</th><th scope=col>GSM464772</th><th scope=col>GSM464773</th><th scope=col>GSM464774</th><th scope=col>GSM464775</th><th scope=col>GSM464776</th><th scope=col>GSM464777</th><th scope=col>GSM464778</th><th scope=col>GSM464779</th><th scope=col>GSM464780</th><th scope=col>⋯</th><th scope=col>GSM465026</th><th scope=col>GSM465030</th><th scope=col>GSM465060</th><th scope=col>GSM465061</th><th scope=col>GSM465062</th><th scope=col>GSM465063</th><th scope=col>GSM465064</th><th scope=col>GSM465065</th><th scope=col>probe</th><th scope=col>communities</th></tr></thead>\n",
       "<tbody>\n",
       "\t<tr><td>0.4997071   </td><td>-0.9638502  </td><td>0.730679    </td><td> 0.295602   </td><td>-1.786108   </td><td>-0.28102832 </td><td>-0.9613261  </td><td> 0.1343021  </td><td>-0.7236957  </td><td>-0.7220128  </td><td>⋯           </td><td>-0.07390868 </td><td> 0.4958220  </td><td> 0.186514   </td><td>2.849106    </td><td>-0.8216546  </td><td>-0.4893930  </td><td> 0.2317528  </td><td>-0.2321558  </td><td>LOC100133331</td><td>13          </td></tr>\n",
       "\t<tr><td>0.7429656   </td><td> 0.4320400  </td><td>1.309134    </td><td>-1.562857   </td><td>-1.736423   </td><td> 0.05641418 </td><td>-0.3386436  </td><td>-0.1086917  </td><td>-1.0315853  </td><td>-0.1469336  </td><td>⋯           </td><td> 0.82305359 </td><td>-0.1565679  </td><td>-0.285529   </td><td>2.057526    </td><td>-1.1154584  </td><td>-0.8165077  </td><td>-0.5661085  </td><td>-0.3184803  </td><td>AK091100    </td><td> 2          </td></tr>\n",
       "</tbody>\n",
       "</table>\n"
      ],
      "text/latex": [
       "\\begin{tabular}{r|llllllllllllllllllllllllllllllllllllllllllllllllllllllllllllllllllllllllllllllllllllllllllllllllllllllllllllllllllllllllllllllllllllllllllllllllllllllllllllllllllllllllllllllllllllllllllllllllllllllllllllllllllllllllllllllllllllllllllllllllllllllllllllllllllllllllllllllllllllllllllllllllllllllllllllllllllllllllllllllllllllllllllllllllllllllllll}\n",
       " GSM464771 & GSM464772 & GSM464773 & GSM464774 & GSM464775 & GSM464776 & GSM464777 & GSM464778 & GSM464779 & GSM464780 & ⋯ & GSM465026 & GSM465030 & GSM465060 & GSM465061 & GSM465062 & GSM465063 & GSM465064 & GSM465065 & probe & communities\\\\\n",
       "\\hline\n",
       "\t 0.4997071    & -0.9638502   & 0.730679     &  0.295602    & -1.786108    & -0.28102832  & -0.9613261   &  0.1343021   & -0.7236957   & -0.7220128   & ⋯            & -0.07390868  &  0.4958220   &  0.186514    & 2.849106     & -0.8216546   & -0.4893930   &  0.2317528   & -0.2321558   & LOC100133331 & 13          \\\\\n",
       "\t 0.7429656    &  0.4320400   & 1.309134     & -1.562857    & -1.736423    &  0.05641418  & -0.3386436   & -0.1086917   & -1.0315853   & -0.1469336   & ⋯            &  0.82305359  & -0.1565679   & -0.285529    & 2.057526     & -1.1154584   & -0.8165077   & -0.5661085   & -0.3184803   & AK091100     &  2          \\\\\n",
       "\\end{tabular}\n"
      ],
      "text/markdown": [
       "\n",
       "GSM464771 | GSM464772 | GSM464773 | GSM464774 | GSM464775 | GSM464776 | GSM464777 | GSM464778 | GSM464779 | GSM464780 | ⋯ | GSM465026 | GSM465030 | GSM465060 | GSM465061 | GSM465062 | GSM465063 | GSM465064 | GSM465065 | probe | communities | \n",
       "|---|---|\n",
       "| 0.4997071    | -0.9638502   | 0.730679     |  0.295602    | -1.786108    | -0.28102832  | -0.9613261   |  0.1343021   | -0.7236957   | -0.7220128   | ⋯            | -0.07390868  |  0.4958220   |  0.186514    | 2.849106     | -0.8216546   | -0.4893930   |  0.2317528   | -0.2321558   | LOC100133331 | 13           | \n",
       "| 0.7429656    |  0.4320400   | 1.309134     | -1.562857    | -1.736423    |  0.05641418  | -0.3386436   | -0.1086917   | -1.0315853   | -0.1469336   | ⋯            |  0.82305359  | -0.1565679   | -0.285529    | 2.057526     | -1.1154584   | -0.8165077   | -0.5661085   | -0.3184803   | AK091100     |  2           | \n",
       "\n",
       "\n"
      ],
      "text/plain": [
       "  GSM464771 GSM464772  GSM464773 GSM464774 GSM464775 GSM464776   GSM464777 \n",
       "1 0.4997071 -0.9638502 0.730679   0.295602 -1.786108 -0.28102832 -0.9613261\n",
       "2 0.7429656  0.4320400 1.309134  -1.562857 -1.736423  0.05641418 -0.3386436\n",
       "  GSM464778  GSM464779  GSM464780  ⋯ GSM465026   GSM465030  GSM465060 GSM465061\n",
       "1  0.1343021 -0.7236957 -0.7220128 ⋯ -0.07390868  0.4958220  0.186514 2.849106 \n",
       "2 -0.1086917 -1.0315853 -0.1469336 ⋯  0.82305359 -0.1565679 -0.285529 2.057526 \n",
       "  GSM465062  GSM465063  GSM465064  GSM465065  probe        communities\n",
       "1 -0.8216546 -0.4893930  0.2317528 -0.2321558 LOC100133331 13         \n",
       "2 -1.1154584 -0.8165077 -0.5661085 -0.3184803 AK091100      2         "
      ]
     },
     "metadata": {},
     "output_type": "display_data"
    }
   ],
   "source": [
    "head(methylation.normalized, n=2)"
   ]
  },
  {
   "cell_type": "code",
   "execution_count": 13,
   "metadata": {},
   "outputs": [],
   "source": [
    "methylation.normalized %<>%\n",
    "  arrange(communities)\n",
    "\n",
    "methylation.mat = data.matrix(methylation.normalized %>% select(-probe))"
   ]
  },
  {
   "cell_type": "code",
   "execution_count": 29,
   "metadata": {},
   "outputs": [],
   "source": [
    "rownames.probes = data.frame(probe = methylation.normalized$probe) %>%\n",
    "  group_by(probe) %>%\n",
    "  mutate(n = seq(n())) %>%\n",
    "  unite(probe, c('probe', 'n'))"
   ]
  },
  {
   "cell_type": "code",
   "execution_count": 72,
   "metadata": {},
   "outputs": [
    {
     "name": "stdout",
     "output_type": "stream",
     "text": [
      "[1] -46.67813\n",
      "[1] -1.364242e-11\n",
      "[1] 1.011813e-11\n",
      "[1] -5.115908e-12\n",
      "[1] 6.139089e-12\n",
      "[1] -1.364242e-12\n",
      "[1] 1.364242e-12\n",
      "[1] 5.911716e-12\n",
      "[1] -1.591616e-11\n",
      "[1] -2.955858e-12\n",
      "[1] 1.102762e-11\n",
      "[1] -5.456968e-12\n",
      "[1] -1.591616e-12\n",
      "[1] 4.547474e-12\n",
      "[1] 2.046363e-12\n",
      "[1] 8.071765e-12\n",
      "[1] 1.102762e-11\n",
      "[1] -2.899014e-11\n",
      "[1] 1.330136e-11\n",
      "[1] -1.023182e-12\n",
      "[1] -3.865352e-12\n",
      "[1] -6.252776e-12\n",
      "[1] 6.934897e-12\n",
      "[1] -9.094947e-13\n"
     ]
    }
   ],
   "source": [
    "set.seed(1)\n",
    "t = 2000\n",
    "rand.idx = sort(sample(1:dim(methylation.mat)[1], t))\n",
    "test.mat = methylation.mat[rand.idx,]\n",
    "X <- test.mat\n",
    "f.diff = c()\n",
    "while (TRUE) {\n",
    "    X.prev <- X\n",
    "    X <- t(apply(X, 1, scale))\n",
    "    X <- apply(X, 2, scale)\n",
    "  \n",
    "    F.diff <- norm(X, type='F') - norm(X.prev, type='F') # compute the Frobenius norm difference between two matrices\n",
    "    print(F.diff)\n",
    "    f.diff <- c(f.diff, F.diff)\n",
    "    if (abs(F.diff) < 1e-12) break\n",
    "}\n",
    "\n",
    "rownames(X) = rownames.probes$probe[rand.idx]\n",
    "annotation = data.frame(cluster=as.factor(methylation.mat[rand.idx,'communities']))\n",
    "rownames(annotation) = rownames.probes$probe[rand.idx]\n",
    "pheatmap(\n",
    "        X,\n",
    "        cluster_row = FALSE,\n",
    "        cluster_col = TRUE,\n",
    "        show_rownames = FALSE,\n",
    "        show_colnames = FALSE,\n",
    "        annotation_row = annotation,\n",
    "        annotation_legend = FALSE,\n",
    "        filename = '../../figures/Figueroa/methyl-clustering.png',\n",
    "        color = viridis(100)\n",
    "        )"
   ]
  },
  {
   "cell_type": "markdown",
   "metadata": {},
   "source": [
    "## Annotation of clusters by gene ontology"
   ]
  },
  {
   "cell_type": "code",
   "execution_count": null,
   "metadata": {},
   "outputs": [],
   "source": []
  }
 ],
 "metadata": {
  "kernelspec": {
   "display_name": "R",
   "language": "R",
   "name": "ir"
  },
  "language_info": {
   "codemirror_mode": "r",
   "file_extension": ".r",
   "mimetype": "text/x-r-source",
   "name": "R",
   "pygments_lexer": "r",
   "version": "3.5.0"
  }
 },
 "nbformat": 4,
 "nbformat_minor": 2
}
