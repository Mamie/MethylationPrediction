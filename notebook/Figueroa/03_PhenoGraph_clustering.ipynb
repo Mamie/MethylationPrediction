{
 "cells": [
  {
   "cell_type": "markdown",
   "metadata": {},
   "source": [
    "# PhenoGraph clustering of methylation probes\n",
    "\n",
    "This notebook aims to cluster the methylation probes (GSE 18700) and discover subgroups of probes. "
   ]
  },
  {
   "cell_type": "code",
   "execution_count": 2,
   "metadata": {
    "collapsed": true
   },
   "outputs": [],
   "source": [
    "import phenograph\n",
    "import pandas as pd\n",
    "import numpy as np\n",
    "import networkx as nx\n",
    "from collections import Counter"
   ]
  },
  {
   "cell_type": "code",
   "execution_count": 8,
   "metadata": {},
   "outputs": [
    {
     "data": {
      "text/html": [
       "<div>\n",
       "<style scoped>\n",
       "    .dataframe tbody tr th:only-of-type {\n",
       "        vertical-align: middle;\n",
       "    }\n",
       "\n",
       "    .dataframe tbody tr th {\n",
       "        vertical-align: top;\n",
       "    }\n",
       "\n",
       "    .dataframe thead th {\n",
       "        text-align: right;\n",
       "    }\n",
       "</style>\n",
       "<table border=\"1\" class=\"dataframe\">\n",
       "  <thead>\n",
       "    <tr style=\"text-align: right;\">\n",
       "      <th></th>\n",
       "      <th>GSM464771</th>\n",
       "      <th>GSM464772</th>\n",
       "      <th>GSM464773</th>\n",
       "      <th>GSM464774</th>\n",
       "      <th>GSM464775</th>\n",
       "      <th>GSM464776</th>\n",
       "      <th>GSM464777</th>\n",
       "      <th>GSM464778</th>\n",
       "      <th>GSM464779</th>\n",
       "      <th>GSM464780</th>\n",
       "      <th>...</th>\n",
       "      <th>GSM465024</th>\n",
       "      <th>GSM465026</th>\n",
       "      <th>GSM465030</th>\n",
       "      <th>GSM465060</th>\n",
       "      <th>GSM465061</th>\n",
       "      <th>GSM465062</th>\n",
       "      <th>GSM465063</th>\n",
       "      <th>GSM465064</th>\n",
       "      <th>GSM465065</th>\n",
       "      <th>probe</th>\n",
       "    </tr>\n",
       "  </thead>\n",
       "  <tbody>\n",
       "    <tr>\n",
       "      <th>0</th>\n",
       "      <td>0.499707</td>\n",
       "      <td>-0.96385</td>\n",
       "      <td>0.730679</td>\n",
       "      <td>0.295602</td>\n",
       "      <td>-1.786108</td>\n",
       "      <td>-0.281028</td>\n",
       "      <td>-0.961326</td>\n",
       "      <td>0.134302</td>\n",
       "      <td>-0.723696</td>\n",
       "      <td>-0.722013</td>\n",
       "      <td>...</td>\n",
       "      <td>0.032477</td>\n",
       "      <td>-0.073909</td>\n",
       "      <td>0.495822</td>\n",
       "      <td>0.186514</td>\n",
       "      <td>2.849106</td>\n",
       "      <td>-0.821655</td>\n",
       "      <td>-0.489393</td>\n",
       "      <td>0.231753</td>\n",
       "      <td>-0.232156</td>\n",
       "      <td>LOC100133331</td>\n",
       "    </tr>\n",
       "    <tr>\n",
       "      <th>1</th>\n",
       "      <td>0.742966</td>\n",
       "      <td>0.43204</td>\n",
       "      <td>1.309134</td>\n",
       "      <td>-1.562857</td>\n",
       "      <td>-1.736423</td>\n",
       "      <td>0.056414</td>\n",
       "      <td>-0.338644</td>\n",
       "      <td>-0.108692</td>\n",
       "      <td>-1.031585</td>\n",
       "      <td>-0.146934</td>\n",
       "      <td>...</td>\n",
       "      <td>0.020604</td>\n",
       "      <td>0.823054</td>\n",
       "      <td>-0.156568</td>\n",
       "      <td>-0.285529</td>\n",
       "      <td>2.057526</td>\n",
       "      <td>-1.115458</td>\n",
       "      <td>-0.816508</td>\n",
       "      <td>-0.566108</td>\n",
       "      <td>-0.318480</td>\n",
       "      <td>AK091100</td>\n",
       "    </tr>\n",
       "  </tbody>\n",
       "</table>\n",
       "<p>2 rows × 345 columns</p>\n",
       "</div>"
      ],
      "text/plain": [
       "   GSM464771  GSM464772  GSM464773  GSM464774  GSM464775  GSM464776  \\\n",
       "0   0.499707   -0.96385   0.730679   0.295602  -1.786108  -0.281028   \n",
       "1   0.742966    0.43204   1.309134  -1.562857  -1.736423   0.056414   \n",
       "\n",
       "   GSM464777  GSM464778  GSM464779  GSM464780      ...       GSM465024  \\\n",
       "0  -0.961326   0.134302  -0.723696  -0.722013      ...        0.032477   \n",
       "1  -0.338644  -0.108692  -1.031585  -0.146934      ...        0.020604   \n",
       "\n",
       "   GSM465026  GSM465030  GSM465060  GSM465061  GSM465062  GSM465063  \\\n",
       "0  -0.073909   0.495822   0.186514   2.849106  -0.821655  -0.489393   \n",
       "1   0.823054  -0.156568  -0.285529   2.057526  -1.115458  -0.816508   \n",
       "\n",
       "   GSM465064  GSM465065         probe  \n",
       "0   0.231753  -0.232156  LOC100133331  \n",
       "1  -0.566108  -0.318480      AK091100  \n",
       "\n",
       "[2 rows x 345 columns]"
      ]
     },
     "execution_count": 8,
     "metadata": {},
     "output_type": "execute_result"
    }
   ],
   "source": [
    "methylation_normalized_path = '../../data/Figueroa/processeddata/methyl-zscore.tsv' #'../../data/Figueroa/processeddata/methyl-successiveNormalized.tsv' # \n",
    "methylation = pd.read_csv(methylation_normalized_path, sep='\\t', header=0)\n",
    "methylation.head(n=2)"
   ]
  },
  {
   "cell_type": "code",
   "execution_count": 9,
   "metadata": {},
   "outputs": [
    {
     "name": "stdout",
     "output_type": "stream",
     "text": [
      "Finding 30 nearest neighbors using minkowski metric and 'auto' algorithm\n",
      "Neighbors computed in 95.94227695465088 seconds\n",
      "Jaccard graph constructed in 3.6544227600097656 seconds\n",
      "Wrote graph to binary file in 1.8995890617370605 seconds\n",
      "Running Louvain modularity optimization\n",
      "After 1 runs, maximum modularity is Q = 0.811352\n",
      "After 2 runs, maximum modularity is Q = 0.81549\n",
      "After 11 runs, maximum modularity is Q = 0.816505\n",
      "Louvain completed 31 runs in 20.267571926116943 seconds\n",
      "PhenoGraph complete in 121.84623098373413 seconds\n"
     ]
    }
   ],
   "source": [
    "np.random.seed(1)\n",
    "communities, graph, Q = phenograph.cluster(methylation.drop('probe', axis=1).values)"
   ]
  },
  {
   "cell_type": "code",
   "execution_count": 10,
   "metadata": {},
   "outputs": [
    {
     "data": {
      "text/plain": [
       "18"
      ]
     },
     "execution_count": 10,
     "metadata": {},
     "output_type": "execute_result"
    }
   ],
   "source": [
    "Counter(communities)\n",
    "len(np.unique(communities))"
   ]
  },
  {
   "cell_type": "markdown",
   "metadata": {},
   "source": [
    "18 communities of probes were discovered. Sensitivity analysis is needed on the stability of the clusters"
   ]
  },
  {
   "cell_type": "code",
   "execution_count": 11,
   "metadata": {
    "collapsed": true
   },
   "outputs": [],
   "source": [
    "out = methylation\n",
    "out['communities'] = communities\n",
    "out.to_csv('../../data/Figueroa/clusters/methyl-cluster-k30.csv', index=False)"
   ]
  }
 ],
 "metadata": {
  "kernelspec": {
   "display_name": "Python 3",
   "language": "python",
   "name": "python3"
  },
  "language_info": {
   "codemirror_mode": {
    "name": "ipython",
    "version": 3
   },
   "file_extension": ".py",
   "mimetype": "text/x-python",
   "name": "python",
   "nbconvert_exporter": "python",
   "pygments_lexer": "ipython3",
   "version": "3.6.5"
  }
 },
 "nbformat": 4,
 "nbformat_minor": 2
}
