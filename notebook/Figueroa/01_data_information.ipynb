{
 "cells": [
  {
   "cell_type": "markdown",
   "metadata": {},
   "source": [
    "# Figueroa data set analysis"
   ]
  },
  {
   "cell_type": "code",
   "execution_count": 1,
   "metadata": {
    "collapsed": true
   },
   "outputs": [],
   "source": [
    "suppressMessages({\n",
    "    library(hashmap)\n",
    "    library(readr)\n",
    "})"
   ]
  },
  {
   "cell_type": "code",
   "execution_count": 2,
   "metadata": {
    "scrolled": true
   },
   "outputs": [
    {
     "name": "stderr",
     "output_type": "stream",
     "text": [
      "Parsed with column specification:\n",
      "cols(\n",
      "  .default = col_double(),\n",
      "  Name = col_character(),\n",
      "  Description = col_character()\n",
      ")\n",
      "See spec(...) for full column specifications.\n"
     ]
    },
    {
     "data": {
      "text/html": [
       "<table>\n",
       "<thead><tr><th scope=col>Name</th><th scope=col>Description</th><th scope=col>GSM158711</th><th scope=col>GSM158712</th><th scope=col>GSM158713</th><th scope=col>GSM158714</th><th scope=col>GSM158715</th><th scope=col>GSM158716</th><th scope=col>GSM158717</th><th scope=col>GSM158718</th><th scope=col>⋯</th><th scope=col>GSM361376</th><th scope=col>GSM361377</th><th scope=col>GSM361378</th><th scope=col>GSM361379</th><th scope=col>GSM361380</th><th scope=col>GSM361381</th><th scope=col>GSM361382</th><th scope=col>GSM361383</th><th scope=col>GSM361384</th><th scope=col>GSM361385</th></tr></thead>\n",
       "<tbody>\n",
       "\t<tr><td>10000_at                                                                        </td><td>AKT3 - \"v-akt murine thymoma viral oncogene homolog 3 (protein kinase B, gamma)\"</td><td> 74.3174                                                                        </td><td> 27.66245                                                                       </td><td> 67.34756                                                                       </td><td>102.0721                                                                        </td><td>101.6374                                                                        </td><td> 31.43173                                                                       </td><td> 74.90709                                                                       </td><td> 68.8868                                                                        </td><td>⋯                                                                               </td><td>120.7066                                                                        </td><td> 84.64849                                                                       </td><td>126.0160                                                                        </td><td>139.1024                                                                        </td><td> 43.22202                                                                       </td><td>236.6838                                                                        </td><td>210.1270                                                                        </td><td>220.1624                                                                        </td><td>104.8744                                                                        </td><td>147.4783                                                                        </td></tr>\n",
       "\t<tr><td>10001_at                                                                        </td><td>MED6 - mediator complex subunit 6                                               </td><td>660.5697                                                                        </td><td>536.18860                                                                       </td><td>449.10047                                                                       </td><td>314.0691                                                                        </td><td>856.6095                                                                        </td><td>708.81936                                                                       </td><td>433.50528                                                                       </td><td>528.4353                                                                        </td><td>⋯                                                                               </td><td>410.5169                                                                        </td><td>486.99356                                                                       </td><td>625.7184                                                                        </td><td>547.8272                                                                        </td><td>587.26037                                                                       </td><td>549.8494                                                                        </td><td>398.5402                                                                        </td><td>457.6389                                                                        </td><td>643.2808                                                                        </td><td>384.2906                                                                        </td></tr>\n",
       "</tbody>\n",
       "</table>\n"
      ],
      "text/latex": [
       "\\begin{tabular}{r|lllllllllllllllllllllllllllllllllllllllllllllllllllllllllllllllllllllllllllllllllllllllllllllllllllllllllllllllllllllllllllllllllllllllllllllllllllllllllllllllllllllllllllllllllllllllllllllllllllllllllllllllllllllllllllllllllllllllllllllllllllllllllllllllllllllllllllllllllllllllllllllllllllllllllllllllllllllllllllllllllllllllllllllllllllllllllllllllllllllllllllllllllllllllllllllllllllllllllllllllllllllllllllllllllllllllllllllllllllllllllllllllllllllllllllllllllllllllllllllllllllllllllllllllllllllllllllllllllllllllllllllll}\n",
       " Name & Description & GSM158711 & GSM158712 & GSM158713 & GSM158714 & GSM158715 & GSM158716 & GSM158717 & GSM158718 & ⋯ & GSM361376 & GSM361377 & GSM361378 & GSM361379 & GSM361380 & GSM361381 & GSM361382 & GSM361383 & GSM361384 & GSM361385\\\\\n",
       "\\hline\n",
       "\t 10000\\_at                                                                       & AKT3 - \"v-akt murine thymoma viral oncogene homolog 3 (protein kinase B, gamma)\" &  74.3174                                                                         &  27.66245                                                                        &  67.34756                                                                        & 102.0721                                                                         & 101.6374                                                                         &  31.43173                                                                        &  74.90709                                                                        &  68.8868                                                                         & ⋯                                                                                & 120.7066                                                                         &  84.64849                                                                        & 126.0160                                                                         & 139.1024                                                                         &  43.22202                                                                        & 236.6838                                                                         & 210.1270                                                                         & 220.1624                                                                         & 104.8744                                                                         & 147.4783                                                                        \\\\\n",
       "\t 10001\\_at                                                                       & MED6 - mediator complex subunit 6                                                & 660.5697                                                                         & 536.18860                                                                        & 449.10047                                                                        & 314.0691                                                                         & 856.6095                                                                         & 708.81936                                                                        & 433.50528                                                                        & 528.4353                                                                         & ⋯                                                                                & 410.5169                                                                         & 486.99356                                                                        & 625.7184                                                                         & 547.8272                                                                         & 587.26037                                                                        & 549.8494                                                                         & 398.5402                                                                         & 457.6389                                                                         & 643.2808                                                                         & 384.2906                                                                        \\\\\n",
       "\\end{tabular}\n"
      ],
      "text/markdown": [
       "\n",
       "Name | Description | GSM158711 | GSM158712 | GSM158713 | GSM158714 | GSM158715 | GSM158716 | GSM158717 | GSM158718 | ⋯ | GSM361376 | GSM361377 | GSM361378 | GSM361379 | GSM361380 | GSM361381 | GSM361382 | GSM361383 | GSM361384 | GSM361385 | \n",
       "|---|---|\n",
       "| 10000_at                                                                         | AKT3 - \"v-akt murine thymoma viral oncogene homolog 3 (protein kinase B, gamma)\" |  74.3174                                                                         |  27.66245                                                                        |  67.34756                                                                        | 102.0721                                                                         | 101.6374                                                                         |  31.43173                                                                        |  74.90709                                                                        |  68.8868                                                                         | ⋯                                                                                | 120.7066                                                                         |  84.64849                                                                        | 126.0160                                                                         | 139.1024                                                                         |  43.22202                                                                        | 236.6838                                                                         | 210.1270                                                                         | 220.1624                                                                         | 104.8744                                                                         | 147.4783                                                                         | \n",
       "| 10001_at                                                                         | MED6 - mediator complex subunit 6                                                | 660.5697                                                                         | 536.18860                                                                        | 449.10047                                                                        | 314.0691                                                                         | 856.6095                                                                         | 708.81936                                                                        | 433.50528                                                                        | 528.4353                                                                         | ⋯                                                                                | 410.5169                                                                         | 486.99356                                                                        | 625.7184                                                                         | 547.8272                                                                         | 587.26037                                                                        | 549.8494                                                                         | 398.5402                                                                         | 457.6389                                                                         | 643.2808                                                                         | 384.2906                                                                         | \n",
       "\n",
       "\n"
      ],
      "text/plain": [
       "  Name    \n",
       "1 10000_at\n",
       "2 10001_at\n",
       "  Description                                                                     \n",
       "1 AKT3 - \"v-akt murine thymoma viral oncogene homolog 3 (protein kinase B, gamma)\"\n",
       "2 MED6 - mediator complex subunit 6                                               \n",
       "  GSM158711 GSM158712 GSM158713 GSM158714 GSM158715 GSM158716 GSM158717\n",
       "1  74.3174   27.66245  67.34756 102.0721  101.6374   31.43173  74.90709\n",
       "2 660.5697  536.18860 449.10047 314.0691  856.6095  708.81936 433.50528\n",
       "  GSM158718 ⋯ GSM361376 GSM361377 GSM361378 GSM361379 GSM361380 GSM361381\n",
       "1  68.8868  ⋯ 120.7066   84.64849 126.0160  139.1024   43.22202 236.6838 \n",
       "2 528.4353  ⋯ 410.5169  486.99356 625.7184  547.8272  587.26037 549.8494 \n",
       "  GSM361382 GSM361383 GSM361384 GSM361385\n",
       "1 210.1270  220.1624  104.8744  147.4783 \n",
       "2 398.5402  457.6389  643.2808  384.2906 "
      ]
     },
     "metadata": {},
     "output_type": "display_data"
    }
   ],
   "source": [
    "GEP <- read_tsv('../../data/Figueroa/rawdata/GSE14468.HGU133Plus2_EntrezCDF.MAS5.pcl') # Gene expression on 524 AML cases\n",
    "head(GEP, n=2)"
   ]
  },
  {
   "cell_type": "code",
   "execution_count": 12,
   "metadata": {},
   "outputs": [
    {
     "data": {
      "text/html": [
       "<ol class=list-inline>\n",
       "\t<li>17788</li>\n",
       "\t<li>527</li>\n",
       "</ol>\n"
      ],
      "text/latex": [
       "\\begin{enumerate*}\n",
       "\\item 17788\n",
       "\\item 527\n",
       "\\end{enumerate*}\n"
      ],
      "text/markdown": [
       "1. 17788\n",
       "2. 527\n",
       "\n",
       "\n"
      ],
      "text/plain": [
       "[1] 17788   527"
      ]
     },
     "metadata": {},
     "output_type": "display_data"
    }
   ],
   "source": [
    "dim(GEP)"
   ]
  },
  {
   "cell_type": "code",
   "execution_count": 3,
   "metadata": {},
   "outputs": [
    {
     "name": "stderr",
     "output_type": "stream",
     "text": [
      "Parsed with column specification:\n",
      "cols(\n",
      "  Accession = col_character(),\n",
      "  Title = col_character(),\n",
      "  `Sample Type` = col_character(),\n",
      "  Taxonomy = col_character(),\n",
      "  Channels = col_integer(),\n",
      "  Platform = col_character(),\n",
      "  Series = col_character(),\n",
      "  `Supplementary Types` = col_character(),\n",
      "  `Supplementary Links` = col_character(),\n",
      "  `SRA Accession` = col_character(),\n",
      "  Contact = col_character(),\n",
      "  `Release Date` = col_character()\n",
      ")\n"
     ]
    },
    {
     "data": {
      "text/html": [
       "<table>\n",
       "<thead><tr><th scope=col>Accession</th><th scope=col>Title</th><th scope=col>Sample Type</th><th scope=col>Taxonomy</th><th scope=col>Channels</th><th scope=col>Platform</th><th scope=col>Series</th><th scope=col>Supplementary Types</th><th scope=col>Supplementary Links</th><th scope=col>SRA Accession</th><th scope=col>Contact</th><th scope=col>Release Date</th></tr></thead>\n",
       "<tbody>\n",
       "\t<tr><td>GSM158711                                                       </td><td>AML 2199                                                        </td><td>RNA                                                             </td><td>Homo sapiens                                                    </td><td>1                                                               </td><td>GPL570                                                          </td><td>GSE6891;GSE14468                                                </td><td>CEL                                                             </td><td>ftp://ftp.ncbi.nlm.nih.gov/geo/samples/GSM158nnn/GSM158711/suppl</td><td>NA                                                              </td><td>Roel Verhaak                                                    </td><td>Mar 12, 2008                                                    </td></tr>\n",
       "\t<tr><td>GSM158712                                                       </td><td>AML 2200                                                        </td><td>RNA                                                             </td><td>Homo sapiens                                                    </td><td>1                                                               </td><td>GPL570                                                          </td><td>GSE6891;GSE14468                                                </td><td>CEL                                                             </td><td>ftp://ftp.ncbi.nlm.nih.gov/geo/samples/GSM158nnn/GSM158712/suppl</td><td>NA                                                              </td><td>Roel Verhaak                                                    </td><td>Mar 12, 2008                                                    </td></tr>\n",
       "</tbody>\n",
       "</table>\n"
      ],
      "text/latex": [
       "\\begin{tabular}{r|llllllllllll}\n",
       " Accession & Title & Sample Type & Taxonomy & Channels & Platform & Series & Supplementary Types & Supplementary Links & SRA Accession & Contact & Release Date\\\\\n",
       "\\hline\n",
       "\t GSM158711                                                        & AML 2199                                                         & RNA                                                              & Homo sapiens                                                     & 1                                                                & GPL570                                                           & GSE6891;GSE14468                                                 & CEL                                                              & ftp://ftp.ncbi.nlm.nih.gov/geo/samples/GSM158nnn/GSM158711/suppl & NA                                                               & Roel Verhaak                                                     & Mar 12, 2008                                                    \\\\\n",
       "\t GSM158712                                                        & AML 2200                                                         & RNA                                                              & Homo sapiens                                                     & 1                                                                & GPL570                                                           & GSE6891;GSE14468                                                 & CEL                                                              & ftp://ftp.ncbi.nlm.nih.gov/geo/samples/GSM158nnn/GSM158712/suppl & NA                                                               & Roel Verhaak                                                     & Mar 12, 2008                                                    \\\\\n",
       "\\end{tabular}\n"
      ],
      "text/markdown": [
       "\n",
       "Accession | Title | Sample Type | Taxonomy | Channels | Platform | Series | Supplementary Types | Supplementary Links | SRA Accession | Contact | Release Date | \n",
       "|---|---|\n",
       "| GSM158711                                                        | AML 2199                                                         | RNA                                                              | Homo sapiens                                                     | 1                                                                | GPL570                                                           | GSE6891;GSE14468                                                 | CEL                                                              | ftp://ftp.ncbi.nlm.nih.gov/geo/samples/GSM158nnn/GSM158711/suppl | NA                                                               | Roel Verhaak                                                     | Mar 12, 2008                                                     | \n",
       "| GSM158712                                                        | AML 2200                                                         | RNA                                                              | Homo sapiens                                                     | 1                                                                | GPL570                                                           | GSE6891;GSE14468                                                 | CEL                                                              | ftp://ftp.ncbi.nlm.nih.gov/geo/samples/GSM158nnn/GSM158712/suppl | NA                                                               | Roel Verhaak                                                     | Mar 12, 2008                                                     | \n",
       "\n",
       "\n"
      ],
      "text/plain": [
       "  Accession Title    Sample Type Taxonomy     Channels Platform\n",
       "1 GSM158711 AML 2199 RNA         Homo sapiens 1        GPL570  \n",
       "2 GSM158712 AML 2200 RNA         Homo sapiens 1        GPL570  \n",
       "  Series           Supplementary Types\n",
       "1 GSE6891;GSE14468 CEL                \n",
       "2 GSE6891;GSE14468 CEL                \n",
       "  Supplementary Links                                             \n",
       "1 ftp://ftp.ncbi.nlm.nih.gov/geo/samples/GSM158nnn/GSM158711/suppl\n",
       "2 ftp://ftp.ncbi.nlm.nih.gov/geo/samples/GSM158nnn/GSM158712/suppl\n",
       "  SRA Accession Contact      Release Date\n",
       "1 NA            Roel Verhaak Mar 12, 2008\n",
       "2 NA            Roel Verhaak Mar 12, 2008"
      ]
     },
     "metadata": {},
     "output_type": "display_data"
    }
   ],
   "source": [
    "patients.GEP <- read_tsv('../../data/Figueroa/rawdata/GSE14468-samples.tsv')\n",
    "head(patients.GEP, n=2)"
   ]
  },
  {
   "cell_type": "code",
   "execution_count": 4,
   "metadata": {},
   "outputs": [
    {
     "name": "stderr",
     "output_type": "stream",
     "text": [
      "Parsed with column specification:\n",
      "cols(\n",
      "  .default = col_double(),\n",
      "  Gene = col_character(),\n",
      "  Name = col_character()\n",
      ")\n",
      "See spec(...) for full column specifications.\n"
     ]
    },
    {
     "data": {
      "text/html": [
       "<table>\n",
       "<thead><tr><th scope=col>Gene</th><th scope=col>Name</th><th scope=col>GSM435212</th><th scope=col>GSM435213</th><th scope=col>GSM435214</th><th scope=col>GSM435215</th><th scope=col>GSM435216</th><th scope=col>GSM435217</th><th scope=col>GSM435218</th><th scope=col>GSM435219</th><th scope=col>⋯</th><th scope=col>GSM465071</th><th scope=col>GSM465072</th><th scope=col>GSM465073</th><th scope=col>GSM465074</th><th scope=col>GSM465075</th><th scope=col>GSM465076</th><th scope=col>GSM465077</th><th scope=col>GSM465078</th><th scope=col>GSM465079</th><th scope=col>GSM465080</th></tr></thead>\n",
       "<tbody>\n",
       "\t<tr><td>MSPI0406S00402708                                </td><td>NOS3 - Nitric oxide synthase 3 (endothelial cell)</td><td>-1.543586                                        </td><td>-1.992780                                        </td><td>-2.618254                                        </td><td>-1.973418                                        </td><td>-1.691270                                        </td><td>-1.52710                                         </td><td>-2.603303                                        </td><td>-1.961328                                        </td><td>⋯                                                </td><td>-0.9308402                                       </td><td>-0.3907199                                       </td><td>1.470515                                         </td><td>-0.1123418                                       </td><td>-0.7597443                                       </td><td>-0.3106185                                       </td><td>-0.04199065                                      </td><td>-1.358948                                        </td><td>0.08236676                                       </td><td>-0.4086701                                       </td></tr>\n",
       "\t<tr><td>MSPI0406S00519671                                </td><td>KIAA1279 - KIAA1279                              </td><td> 2.798643                                        </td><td> 2.445831                                        </td><td> 2.363704                                        </td><td> 2.490647                                        </td><td> 3.304769                                        </td><td> 3.47255                                         </td><td> 2.680607                                        </td><td> 2.948648                                        </td><td>⋯                                                </td><td> 2.6655187                                       </td><td> 1.8954379                                       </td><td>2.289277                                         </td><td> 1.7177463                                       </td><td> 1.9399757                                       </td><td> 3.0420744                                       </td><td> 2.66983281                                      </td><td> 1.304129                                        </td><td>0.86456765                                       </td><td> 3.1523175                                       </td></tr>\n",
       "</tbody>\n",
       "</table>\n"
      ],
      "text/latex": [
       "\\begin{tabular}{r|llllllllllllllllllllllllllllllllllllllllllllllllllllllllllllllllllllllllllllllllllllllllllllllllllllllllllllllllllllllllllllllllllllllllllllllllllllllllllllllllllllllllllllllllllllllllllllllllllllllllllllllllllllllllllllllllllllllllllllllllllllllllllllllllllllllllllllllllllllllllllllllllllllllllllllllllllllllllllllllllllllllllllllllllllllllllllllllllll}\n",
       " Gene & Name & GSM435212 & GSM435213 & GSM435214 & GSM435215 & GSM435216 & GSM435217 & GSM435218 & GSM435219 & ⋯ & GSM465071 & GSM465072 & GSM465073 & GSM465074 & GSM465075 & GSM465076 & GSM465077 & GSM465078 & GSM465079 & GSM465080\\\\\n",
       "\\hline\n",
       "\t MSPI0406S00402708                                 & NOS3 - Nitric oxide synthase 3 (endothelial cell) & -1.543586                                         & -1.992780                                         & -2.618254                                         & -1.973418                                         & -1.691270                                         & -1.52710                                          & -2.603303                                         & -1.961328                                         & ⋯                                                 & -0.9308402                                        & -0.3907199                                        & 1.470515                                          & -0.1123418                                        & -0.7597443                                        & -0.3106185                                        & -0.04199065                                       & -1.358948                                         & 0.08236676                                        & -0.4086701                                       \\\\\n",
       "\t MSPI0406S00519671                                 & KIAA1279 - KIAA1279                               &  2.798643                                         &  2.445831                                         &  2.363704                                         &  2.490647                                         &  3.304769                                         &  3.47255                                          &  2.680607                                         &  2.948648                                         & ⋯                                                 &  2.6655187                                        &  1.8954379                                        & 2.289277                                          &  1.7177463                                        &  1.9399757                                        &  3.0420744                                        &  2.66983281                                       &  1.304129                                         & 0.86456765                                        &  3.1523175                                       \\\\\n",
       "\\end{tabular}\n"
      ],
      "text/markdown": [
       "\n",
       "Gene | Name | GSM435212 | GSM435213 | GSM435214 | GSM435215 | GSM435216 | GSM435217 | GSM435218 | GSM435219 | ⋯ | GSM465071 | GSM465072 | GSM465073 | GSM465074 | GSM465075 | GSM465076 | GSM465077 | GSM465078 | GSM465079 | GSM465080 | \n",
       "|---|---|\n",
       "| MSPI0406S00402708                                 | NOS3 - Nitric oxide synthase 3 (endothelial cell) | -1.543586                                         | -1.992780                                         | -2.618254                                         | -1.973418                                         | -1.691270                                         | -1.52710                                          | -2.603303                                         | -1.961328                                         | ⋯                                                 | -0.9308402                                        | -0.3907199                                        | 1.470515                                          | -0.1123418                                        | -0.7597443                                        | -0.3106185                                        | -0.04199065                                       | -1.358948                                         | 0.08236676                                        | -0.4086701                                        | \n",
       "| MSPI0406S00519671                                 | KIAA1279 - KIAA1279                               |  2.798643                                         |  2.445831                                         |  2.363704                                         |  2.490647                                         |  3.304769                                         |  3.47255                                          |  2.680607                                         |  2.948648                                         | ⋯                                                 |  2.6655187                                        |  1.8954379                                        | 2.289277                                          |  1.7177463                                        |  1.9399757                                        |  3.0420744                                        |  2.66983281                                       |  1.304129                                         | 0.86456765                                        |  3.1523175                                        | \n",
       "\n",
       "\n"
      ],
      "text/plain": [
       "  Gene              Name                                              GSM435212\n",
       "1 MSPI0406S00402708 NOS3 - Nitric oxide synthase 3 (endothelial cell) -1.543586\n",
       "2 MSPI0406S00519671 KIAA1279 - KIAA1279                                2.798643\n",
       "  GSM435213 GSM435214 GSM435215 GSM435216 GSM435217 GSM435218 GSM435219 ⋯\n",
       "1 -1.992780 -2.618254 -1.973418 -1.691270 -1.52710  -2.603303 -1.961328 ⋯\n",
       "2  2.445831  2.363704  2.490647  3.304769  3.47255   2.680607  2.948648 ⋯\n",
       "  GSM465071  GSM465072  GSM465073 GSM465074  GSM465075  GSM465076  GSM465077  \n",
       "1 -0.9308402 -0.3907199 1.470515  -0.1123418 -0.7597443 -0.3106185 -0.04199065\n",
       "2  2.6655187  1.8954379 2.289277   1.7177463  1.9399757  3.0420744  2.66983281\n",
       "  GSM465078 GSM465079  GSM465080 \n",
       "1 -1.358948 0.08236676 -0.4086701\n",
       "2  1.304129 0.86456765  3.1523175"
      ]
     },
     "metadata": {},
     "output_type": "display_data"
    }
   ],
   "source": [
    "methylation <- read_tsv('../../data/Figueroa/rawdata/GSE18700.GPL6604.matrix.txt') # methylation of 344 AML cases and 8 controls\n",
    "head(methylation, n=2)"
   ]
  },
  {
   "cell_type": "code",
   "execution_count": 11,
   "metadata": {},
   "outputs": [
    {
     "data": {
      "text/html": [
       "<ol class=list-inline>\n",
       "\t<li>25626</li>\n",
       "\t<li>354</li>\n",
       "</ol>\n"
      ],
      "text/latex": [
       "\\begin{enumerate*}\n",
       "\\item 25626\n",
       "\\item 354\n",
       "\\end{enumerate*}\n"
      ],
      "text/markdown": [
       "1. 25626\n",
       "2. 354\n",
       "\n",
       "\n"
      ],
      "text/plain": [
       "[1] 25626   354"
      ]
     },
     "metadata": {},
     "output_type": "display_data"
    }
   ],
   "source": [
    "dim(methylation)"
   ]
  },
  {
   "cell_type": "code",
   "execution_count": 5,
   "metadata": {},
   "outputs": [
    {
     "name": "stderr",
     "output_type": "stream",
     "text": [
      "Parsed with column specification:\n",
      "cols(\n",
      "  Accession = col_character(),\n",
      "  Title = col_character(),\n",
      "  `Sample Type` = col_character(),\n",
      "  Taxonomy = col_character(),\n",
      "  Channels = col_integer(),\n",
      "  Platform = col_character(),\n",
      "  Series = col_character(),\n",
      "  `Supplementary Types` = col_character(),\n",
      "  `Supplementary Links` = col_character(),\n",
      "  `SRA Accession` = col_character(),\n",
      "  Contact = col_character(),\n",
      "  `Release Date` = col_character()\n",
      ")\n"
     ]
    },
    {
     "data": {
      "text/html": [
       "<table>\n",
       "<thead><tr><th scope=col>Accession</th><th scope=col>Title</th><th scope=col>Sample Type</th><th scope=col>Taxonomy</th><th scope=col>Channels</th><th scope=col>Platform</th><th scope=col>Series</th><th scope=col>Supplementary Types</th><th scope=col>Supplementary Links</th><th scope=col>SRA Accession</th><th scope=col>Contact</th><th scope=col>Release Date</th></tr></thead>\n",
       "<tbody>\n",
       "\t<tr><td>GSM464737                                                       </td><td>322                                                             </td><td>genomic                                                         </td><td>Homo sapiens                                                    </td><td>2                                                               </td><td>GPL6604                                                         </td><td>GSE18700                                                        </td><td>PAIR                                                            </td><td>ftp://ftp.ncbi.nlm.nih.gov/geo/samples/GSM464nnn/GSM464737/suppl</td><td>NA                                                              </td><td>Maria Eugenia Figueroa                                          </td><td>Jan 12, 2010                                                    </td></tr>\n",
       "\t<tr><td>GSM464738                                                       </td><td>1174                                                            </td><td>genomic                                                         </td><td>Homo sapiens                                                    </td><td>2                                                               </td><td>GPL6604                                                         </td><td>GSE18700                                                        </td><td>PAIR                                                            </td><td>ftp://ftp.ncbi.nlm.nih.gov/geo/samples/GSM464nnn/GSM464738/suppl</td><td>NA                                                              </td><td>Maria Eugenia Figueroa                                          </td><td>Jan 12, 2010                                                    </td></tr>\n",
       "</tbody>\n",
       "</table>\n"
      ],
      "text/latex": [
       "\\begin{tabular}{r|llllllllllll}\n",
       " Accession & Title & Sample Type & Taxonomy & Channels & Platform & Series & Supplementary Types & Supplementary Links & SRA Accession & Contact & Release Date\\\\\n",
       "\\hline\n",
       "\t GSM464737                                                        & 322                                                              & genomic                                                          & Homo sapiens                                                     & 2                                                                & GPL6604                                                          & GSE18700                                                         & PAIR                                                             & ftp://ftp.ncbi.nlm.nih.gov/geo/samples/GSM464nnn/GSM464737/suppl & NA                                                               & Maria Eugenia Figueroa                                           & Jan 12, 2010                                                    \\\\\n",
       "\t GSM464738                                                        & 1174                                                             & genomic                                                          & Homo sapiens                                                     & 2                                                                & GPL6604                                                          & GSE18700                                                         & PAIR                                                             & ftp://ftp.ncbi.nlm.nih.gov/geo/samples/GSM464nnn/GSM464738/suppl & NA                                                               & Maria Eugenia Figueroa                                           & Jan 12, 2010                                                    \\\\\n",
       "\\end{tabular}\n"
      ],
      "text/markdown": [
       "\n",
       "Accession | Title | Sample Type | Taxonomy | Channels | Platform | Series | Supplementary Types | Supplementary Links | SRA Accession | Contact | Release Date | \n",
       "|---|---|\n",
       "| GSM464737                                                        | 322                                                              | genomic                                                          | Homo sapiens                                                     | 2                                                                | GPL6604                                                          | GSE18700                                                         | PAIR                                                             | ftp://ftp.ncbi.nlm.nih.gov/geo/samples/GSM464nnn/GSM464737/suppl | NA                                                               | Maria Eugenia Figueroa                                           | Jan 12, 2010                                                     | \n",
       "| GSM464738                                                        | 1174                                                             | genomic                                                          | Homo sapiens                                                     | 2                                                                | GPL6604                                                          | GSE18700                                                         | PAIR                                                             | ftp://ftp.ncbi.nlm.nih.gov/geo/samples/GSM464nnn/GSM464738/suppl | NA                                                               | Maria Eugenia Figueroa                                           | Jan 12, 2010                                                     | \n",
       "\n",
       "\n"
      ],
      "text/plain": [
       "  Accession Title Sample Type Taxonomy     Channels Platform Series  \n",
       "1 GSM464737 322   genomic     Homo sapiens 2        GPL6604  GSE18700\n",
       "2 GSM464738 1174  genomic     Homo sapiens 2        GPL6604  GSE18700\n",
       "  Supplementary Types\n",
       "1 PAIR               \n",
       "2 PAIR               \n",
       "  Supplementary Links                                             \n",
       "1 ftp://ftp.ncbi.nlm.nih.gov/geo/samples/GSM464nnn/GSM464737/suppl\n",
       "2 ftp://ftp.ncbi.nlm.nih.gov/geo/samples/GSM464nnn/GSM464738/suppl\n",
       "  SRA Accession Contact                Release Date\n",
       "1 NA            Maria Eugenia Figueroa Jan 12, 2010\n",
       "2 NA            Maria Eugenia Figueroa Jan 12, 2010"
      ]
     },
     "metadata": {},
     "output_type": "display_data"
    }
   ],
   "source": [
    "patients.methylation <- read_tsv('../../data/Figueroa/rawdata/GSE18700-samples.tsv')\n",
    "head(patients.methylation, n=2)"
   ]
  },
  {
   "cell_type": "markdown",
   "metadata": {},
   "source": [
    "## Mapping between GEP (14468) to methylation (18700)"
   ]
  },
  {
   "cell_type": "code",
   "execution_count": 6,
   "metadata": {},
   "outputs": [
    {
     "data": {
      "text/html": [
       "344"
      ],
      "text/latex": [
       "344"
      ],
      "text/markdown": [
       "344"
      ],
      "text/plain": [
       "[1] 344"
      ]
     },
     "metadata": {},
     "output_type": "display_data"
    }
   ],
   "source": [
    "preprocessTitle <- function(x) {\n",
    "    ifelse(grepl('AML', x, fixed=T), substr(x, 5, nchar(x)), x)\n",
    "}\n",
    "PreprocessTitle <- Vectorize(preprocessTitle)\n",
    "patients.titleGEP <- hashmap(PreprocessTitle(patients.GEP$Title), patients.GEP$Accession)\n",
    "patients.titleMethylation <- hashmap(patients.methylation$Title, patients.methylation$Accession)\n",
    "intersectTitles <- intersect(PreprocessTitle(patients.GEP$Title), patients.methylation$Title)\n",
    "\n",
    "length(intersectTitles) # get 344 AML cases as in Figueroa et al. 2009"
   ]
  },
  {
   "cell_type": "code",
   "execution_count": 7,
   "metadata": {},
   "outputs": [
    {
     "data": {
      "text/plain": [
       "## (character) => (character)\n",
       "## [GSM158788] => [GSM464759]\n",
       "## [GSM158752] => [GSM464806]\n",
       "## [GSM361343] => [GSM464920]\n",
       "## [GSM159056] => [GSM464938]\n",
       "## [GSM361373] => [GSM465020]\n",
       "## [GSM159071] => [GSM464957]\n",
       "##       [...] => [...]      "
      ]
     },
     "metadata": {},
     "output_type": "display_data"
    }
   ],
   "source": [
    "GEP2Methylation <- hashmap(patients.titleGEP[[intersectTitles]], patients.titleMethylation[[intersectTitles]])\n",
    "GEP2Methylation"
   ]
  },
  {
   "cell_type": "markdown",
   "metadata": {},
   "source": [
    "## Subset the methylation and GEP data set for overlapping patients"
   ]
  },
  {
   "cell_type": "code",
   "execution_count": 8,
   "metadata": {},
   "outputs": [
    {
     "data": {
      "text/html": [
       "<table>\n",
       "<thead><tr><th scope=col>Name</th><th scope=col>Description</th><th scope=col>GSM464771</th><th scope=col>GSM464772</th><th scope=col>GSM464773</th><th scope=col>GSM464774</th><th scope=col>GSM464775</th><th scope=col>GSM464776</th><th scope=col>GSM464777</th><th scope=col>GSM464778</th><th scope=col>⋯</th><th scope=col>GSM465020</th><th scope=col>GSM465024</th><th scope=col>GSM465026</th><th scope=col>GSM465030</th><th scope=col>GSM465060</th><th scope=col>GSM465061</th><th scope=col>GSM465062</th><th scope=col>GSM465063</th><th scope=col>GSM465064</th><th scope=col>GSM465065</th></tr></thead>\n",
       "<tbody>\n",
       "\t<tr><td>10000_at                                                                        </td><td>AKT3 - \"v-akt murine thymoma viral oncogene homolog 3 (protein kinase B, gamma)\"</td><td> 74.3174                                                                        </td><td> 27.66245                                                                       </td><td>102.0721                                                                        </td><td>101.6374                                                                        </td><td> 31.43173                                                                       </td><td> 74.90709                                                                       </td><td> 68.8868                                                                        </td><td>114.4036                                                                        </td><td>⋯                                                                               </td><td>106.8033                                                                        </td><td>207.4528                                                                        </td><td>120.7066                                                                        </td><td> 84.64849                                                                       </td><td>139.1024                                                                        </td><td> 43.22202                                                                       </td><td>236.6838                                                                        </td><td>210.1270                                                                        </td><td>220.1624                                                                        </td><td>147.4783                                                                        </td></tr>\n",
       "\t<tr><td>10001_at                                                                        </td><td>MED6 - mediator complex subunit 6                                               </td><td>660.5697                                                                        </td><td>536.18860                                                                       </td><td>314.0691                                                                        </td><td>856.6095                                                                        </td><td>708.81936                                                                       </td><td>433.50528                                                                       </td><td>528.4353                                                                        </td><td>448.2595                                                                        </td><td>⋯                                                                               </td><td>406.9814                                                                        </td><td>586.1430                                                                        </td><td>410.5169                                                                        </td><td>486.99356                                                                       </td><td>547.8272                                                                        </td><td>587.26037                                                                       </td><td>549.8494                                                                        </td><td>398.5402                                                                        </td><td>457.6389                                                                        </td><td>384.2906                                                                        </td></tr>\n",
       "</tbody>\n",
       "</table>\n"
      ],
      "text/latex": [
       "\\begin{tabular}{r|llllllllllllllllllllllllllllllllllllllllllllllllllllllllllllllllllllllllllllllllllllllllllllllllllllllllllllllllllllllllllllllllllllllllllllllllllllllllllllllllllllllllllllllllllllllllllllllllllllllllllllllllllllllllllllllllllllllllllllllllllllllllllllllllllllllllllllllllllllllllllllllllllllllllllllllllllllllllllllllllllllllllllllllllllllllllll}\n",
       " Name & Description & GSM464771 & GSM464772 & GSM464773 & GSM464774 & GSM464775 & GSM464776 & GSM464777 & GSM464778 & ⋯ & GSM465020 & GSM465024 & GSM465026 & GSM465030 & GSM465060 & GSM465061 & GSM465062 & GSM465063 & GSM465064 & GSM465065\\\\\n",
       "\\hline\n",
       "\t 10000\\_at                                                                       & AKT3 - \"v-akt murine thymoma viral oncogene homolog 3 (protein kinase B, gamma)\" &  74.3174                                                                         &  27.66245                                                                        & 102.0721                                                                         & 101.6374                                                                         &  31.43173                                                                        &  74.90709                                                                        &  68.8868                                                                         & 114.4036                                                                         & ⋯                                                                                & 106.8033                                                                         & 207.4528                                                                         & 120.7066                                                                         &  84.64849                                                                        & 139.1024                                                                         &  43.22202                                                                        & 236.6838                                                                         & 210.1270                                                                         & 220.1624                                                                         & 147.4783                                                                        \\\\\n",
       "\t 10001\\_at                                                                       & MED6 - mediator complex subunit 6                                                & 660.5697                                                                         & 536.18860                                                                        & 314.0691                                                                         & 856.6095                                                                         & 708.81936                                                                        & 433.50528                                                                        & 528.4353                                                                         & 448.2595                                                                         & ⋯                                                                                & 406.9814                                                                         & 586.1430                                                                         & 410.5169                                                                         & 486.99356                                                                        & 547.8272                                                                         & 587.26037                                                                        & 549.8494                                                                         & 398.5402                                                                         & 457.6389                                                                         & 384.2906                                                                        \\\\\n",
       "\\end{tabular}\n"
      ],
      "text/markdown": [
       "\n",
       "Name | Description | GSM464771 | GSM464772 | GSM464773 | GSM464774 | GSM464775 | GSM464776 | GSM464777 | GSM464778 | ⋯ | GSM465020 | GSM465024 | GSM465026 | GSM465030 | GSM465060 | GSM465061 | GSM465062 | GSM465063 | GSM465064 | GSM465065 | \n",
       "|---|---|\n",
       "| 10000_at                                                                         | AKT3 - \"v-akt murine thymoma viral oncogene homolog 3 (protein kinase B, gamma)\" |  74.3174                                                                         |  27.66245                                                                        | 102.0721                                                                         | 101.6374                                                                         |  31.43173                                                                        |  74.90709                                                                        |  68.8868                                                                         | 114.4036                                                                         | ⋯                                                                                | 106.8033                                                                         | 207.4528                                                                         | 120.7066                                                                         |  84.64849                                                                        | 139.1024                                                                         |  43.22202                                                                        | 236.6838                                                                         | 210.1270                                                                         | 220.1624                                                                         | 147.4783                                                                         | \n",
       "| 10001_at                                                                         | MED6 - mediator complex subunit 6                                                | 660.5697                                                                         | 536.18860                                                                        | 314.0691                                                                         | 856.6095                                                                         | 708.81936                                                                        | 433.50528                                                                        | 528.4353                                                                         | 448.2595                                                                         | ⋯                                                                                | 406.9814                                                                         | 586.1430                                                                         | 410.5169                                                                         | 486.99356                                                                        | 547.8272                                                                         | 587.26037                                                                        | 549.8494                                                                         | 398.5402                                                                         | 457.6389                                                                         | 384.2906                                                                         | \n",
       "\n",
       "\n"
      ],
      "text/plain": [
       "  Name    \n",
       "1 10000_at\n",
       "2 10001_at\n",
       "  Description                                                                     \n",
       "1 AKT3 - \"v-akt murine thymoma viral oncogene homolog 3 (protein kinase B, gamma)\"\n",
       "2 MED6 - mediator complex subunit 6                                               \n",
       "  GSM464771 GSM464772 GSM464773 GSM464774 GSM464775 GSM464776 GSM464777\n",
       "1  74.3174   27.66245 102.0721  101.6374   31.43173  74.90709  68.8868 \n",
       "2 660.5697  536.18860 314.0691  856.6095  708.81936 433.50528 528.4353 \n",
       "  GSM464778 ⋯ GSM465020 GSM465024 GSM465026 GSM465030 GSM465060 GSM465061\n",
       "1 114.4036  ⋯ 106.8033  207.4528  120.7066   84.64849 139.1024   43.22202\n",
       "2 448.2595  ⋯ 406.9814  586.1430  410.5169  486.99356 547.8272  587.26037\n",
       "  GSM465062 GSM465063 GSM465064 GSM465065\n",
       "1 236.6838  210.1270  220.1624  147.4783 \n",
       "2 549.8494  398.5402  457.6389  384.2906 "
      ]
     },
     "metadata": {},
     "output_type": "display_data"
    },
    {
     "data": {
      "text/html": [
       "<ol class=list-inline>\n",
       "\t<li>17788</li>\n",
       "\t<li>346</li>\n",
       "</ol>\n"
      ],
      "text/latex": [
       "\\begin{enumerate*}\n",
       "\\item 17788\n",
       "\\item 346\n",
       "\\end{enumerate*}\n"
      ],
      "text/markdown": [
       "1. 17788\n",
       "2. 346\n",
       "\n",
       "\n"
      ],
      "text/plain": [
       "[1] 17788   346"
      ]
     },
     "metadata": {},
     "output_type": "display_data"
    }
   ],
   "source": [
    "GEP.names <- GEP2Methylation[[colnames(GEP)]]\n",
    "\n",
    "GEP.names.filtered <- na.omit(GEP.names)\n",
    "omit.idx <- is.na(GEP.names)\n",
    "omit.idx[c(1,2)] <- F\n",
    "\n",
    "GEP.filtered <- GEP[,!omit.idx]\n",
    "\n",
    "colnames(GEP.filtered) <- c('Name', 'Description', GEP.names.filtered)\n",
    "\n",
    "head(GEP.filtered, n=2)\n",
    "dim(GEP.filtered)"
   ]
  },
  {
   "cell_type": "code",
   "execution_count": 9,
   "metadata": {},
   "outputs": [
    {
     "data": {
      "text/html": [
       "<table>\n",
       "<thead><tr><th scope=col>Gene</th><th scope=col>Name</th><th scope=col>GSM464771</th><th scope=col>GSM464772</th><th scope=col>GSM464773</th><th scope=col>GSM464774</th><th scope=col>GSM464775</th><th scope=col>GSM464776</th><th scope=col>GSM464777</th><th scope=col>GSM464778</th><th scope=col>⋯</th><th scope=col>GSM465020</th><th scope=col>GSM465024</th><th scope=col>GSM465026</th><th scope=col>GSM465030</th><th scope=col>GSM465060</th><th scope=col>GSM465061</th><th scope=col>GSM465062</th><th scope=col>GSM465063</th><th scope=col>GSM465064</th><th scope=col>GSM465065</th></tr></thead>\n",
       "<tbody>\n",
       "\t<tr><td>MSPI0406S00402708                                </td><td>NOS3 - Nitric oxide synthase 3 (endothelial cell)</td><td>-1.314768                                        </td><td>-0.562936                                        </td><td>-1.704894                                        </td><td>0.3056685                                        </td><td>-1.469609                                        </td><td>1.524694                                         </td><td>0.02468921                                       </td><td>-0.02486799                                      </td><td>⋯                                                </td><td>-1.160726                                        </td><td>-0.3174757                                       </td><td>-1.294438                                        </td><td>-0.338884                                        </td><td>-1.118004                                        </td><td>0.8936787                                        </td><td>-1.384295                                        </td><td>-0.6716157                                       </td><td>0.5345794                                        </td><td>0.08037697                                       </td></tr>\n",
       "\t<tr><td>MSPI0406S00519671                                </td><td>KIAA1279 - KIAA1279                              </td><td> 2.850796                                        </td><td> 1.068262                                        </td><td> 1.846918                                        </td><td>1.9675782                                        </td><td> 1.361420                                        </td><td>2.623354                                         </td><td>2.13396343                                       </td><td> 4.11175224                                      </td><td>⋯                                                </td><td> 2.837818                                        </td><td> 1.8297567                                       </td><td> 3.449042                                        </td><td> 3.672064                                        </td><td> 2.315018                                        </td><td>2.4546376                                        </td><td> 1.421856                                        </td><td> 2.5848064                                       </td><td>1.4915783                                        </td><td>1.15726762                                       </td></tr>\n",
       "</tbody>\n",
       "</table>\n"
      ],
      "text/latex": [
       "\\begin{tabular}{r|llllllllllllllllllllllllllllllllllllllllllllllllllllllllllllllllllllllllllllllllllllllllllllllllllllllllllllllllllllllllllllllllllllllllllllllllllllllllllllllllllllllllllllllllllllllllllllllllllllllllllllllllllllllllllllllllllllllllllllllllllllllllllllllllllllllllllllllllllllllllllllllllllllllllllllllllllllllllllllllllllllllllllllllllllllllllll}\n",
       " Gene & Name & GSM464771 & GSM464772 & GSM464773 & GSM464774 & GSM464775 & GSM464776 & GSM464777 & GSM464778 & ⋯ & GSM465020 & GSM465024 & GSM465026 & GSM465030 & GSM465060 & GSM465061 & GSM465062 & GSM465063 & GSM465064 & GSM465065\\\\\n",
       "\\hline\n",
       "\t MSPI0406S00402708                                 & NOS3 - Nitric oxide synthase 3 (endothelial cell) & -1.314768                                         & -0.562936                                         & -1.704894                                         & 0.3056685                                         & -1.469609                                         & 1.524694                                          & 0.02468921                                        & -0.02486799                                       & ⋯                                                 & -1.160726                                         & -0.3174757                                        & -1.294438                                         & -0.338884                                         & -1.118004                                         & 0.8936787                                         & -1.384295                                         & -0.6716157                                        & 0.5345794                                         & 0.08037697                                       \\\\\n",
       "\t MSPI0406S00519671                                 & KIAA1279 - KIAA1279                               &  2.850796                                         &  1.068262                                         &  1.846918                                         & 1.9675782                                         &  1.361420                                         & 2.623354                                          & 2.13396343                                        &  4.11175224                                       & ⋯                                                 &  2.837818                                         &  1.8297567                                        &  3.449042                                         &  3.672064                                         &  2.315018                                         & 2.4546376                                         &  1.421856                                         &  2.5848064                                        & 1.4915783                                         & 1.15726762                                       \\\\\n",
       "\\end{tabular}\n"
      ],
      "text/markdown": [
       "\n",
       "Gene | Name | GSM464771 | GSM464772 | GSM464773 | GSM464774 | GSM464775 | GSM464776 | GSM464777 | GSM464778 | ⋯ | GSM465020 | GSM465024 | GSM465026 | GSM465030 | GSM465060 | GSM465061 | GSM465062 | GSM465063 | GSM465064 | GSM465065 | \n",
       "|---|---|\n",
       "| MSPI0406S00402708                                 | NOS3 - Nitric oxide synthase 3 (endothelial cell) | -1.314768                                         | -0.562936                                         | -1.704894                                         | 0.3056685                                         | -1.469609                                         | 1.524694                                          | 0.02468921                                        | -0.02486799                                       | ⋯                                                 | -1.160726                                         | -0.3174757                                        | -1.294438                                         | -0.338884                                         | -1.118004                                         | 0.8936787                                         | -1.384295                                         | -0.6716157                                        | 0.5345794                                         | 0.08037697                                        | \n",
       "| MSPI0406S00519671                                 | KIAA1279 - KIAA1279                               |  2.850796                                         |  1.068262                                         |  1.846918                                         | 1.9675782                                         |  1.361420                                         | 2.623354                                          | 2.13396343                                        |  4.11175224                                       | ⋯                                                 |  2.837818                                         |  1.8297567                                        |  3.449042                                         |  3.672064                                         |  2.315018                                         | 2.4546376                                         |  1.421856                                         |  2.5848064                                        | 1.4915783                                         | 1.15726762                                        | \n",
       "\n",
       "\n"
      ],
      "text/plain": [
       "  Gene              Name                                              GSM464771\n",
       "1 MSPI0406S00402708 NOS3 - Nitric oxide synthase 3 (endothelial cell) -1.314768\n",
       "2 MSPI0406S00519671 KIAA1279 - KIAA1279                                2.850796\n",
       "  GSM464772 GSM464773 GSM464774 GSM464775 GSM464776 GSM464777  GSM464778   ⋯\n",
       "1 -0.562936 -1.704894 0.3056685 -1.469609 1.524694  0.02468921 -0.02486799 ⋯\n",
       "2  1.068262  1.846918 1.9675782  1.361420 2.623354  2.13396343  4.11175224 ⋯\n",
       "  GSM465020 GSM465024  GSM465026 GSM465030 GSM465060 GSM465061 GSM465062\n",
       "1 -1.160726 -0.3174757 -1.294438 -0.338884 -1.118004 0.8936787 -1.384295\n",
       "2  2.837818  1.8297567  3.449042  3.672064  2.315018 2.4546376  1.421856\n",
       "  GSM465063  GSM465064 GSM465065 \n",
       "1 -0.6716157 0.5345794 0.08037697\n",
       "2  2.5848064 1.4915783 1.15726762"
      ]
     },
     "metadata": {},
     "output_type": "display_data"
    },
    {
     "data": {
      "text/html": [
       "<ol class=list-inline>\n",
       "\t<li>25626</li>\n",
       "\t<li>346</li>\n",
       "</ol>\n"
      ],
      "text/latex": [
       "\\begin{enumerate*}\n",
       "\\item 25626\n",
       "\\item 346\n",
       "\\end{enumerate*}\n"
      ],
      "text/markdown": [
       "1. 25626\n",
       "2. 346\n",
       "\n",
       "\n"
      ],
      "text/plain": [
       "[1] 25626   346"
      ]
     },
     "metadata": {},
     "output_type": "display_data"
    }
   ],
   "source": [
    "findColumnIdx <- function(x) {\n",
    "    which(colnames(methylation) %in% x)\n",
    "}\n",
    "FindColumnIdx <- Vectorize(findColumnIdx)\n",
    "\n",
    "column.idx <- c(1, 2, na.omit(as.numeric(FindColumnIdx(colnames(GEP.filtered)[-c(1,2)]))))\n",
    "methylation.filtered <- methylation[, column.idx]\n",
    "head(methylation.filtered, n=2)\n",
    "dim(methylation.filtered)"
   ]
  },
  {
   "cell_type": "code",
   "execution_count": 10,
   "metadata": {
    "collapsed": true
   },
   "outputs": [],
   "source": [
    "write.table(methylation.filtered, file='../../data/Figueroa/matcheddata/methylation-filtered.tsv', sep='\\t', quote=F, \n",
    "           col.names=T, row.names=F)\n",
    "\n",
    "write.table(GEP.filtered, file='../../data/Figueroa/matcheddata/GEP-filtered.tsv', sep='\\t', quote=F, \n",
    "           col.names=T, row.names=F)"
   ]
  }
 ],
 "metadata": {
  "kernelspec": {
   "display_name": "R",
   "language": "R",
   "name": "ir"
  },
  "language_info": {
   "codemirror_mode": "r",
   "file_extension": ".r",
   "mimetype": "text/x-r-source",
   "name": "R",
   "pygments_lexer": "r",
   "version": "3.5.0"
  }
 },
 "nbformat": 4,
 "nbformat_minor": 2
}
