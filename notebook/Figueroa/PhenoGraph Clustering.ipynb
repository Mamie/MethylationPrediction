{
 "cells": [
  {
   "cell_type": "markdown",
   "metadata": {},
   "source": [
    "# PhenoGraph clustering of methylation probes\n",
    "\n",
    "This notebook aims to cluster the methylation probes (GSE 18700) and discover subgroups of probes. "
   ]
  },
  {
   "cell_type": "code",
   "execution_count": 1,
   "metadata": {},
   "outputs": [],
   "source": [
    "import phenograph\n",
    "import pandas as pd\n",
    "import numpy as np\n",
    "import networkx as nx\n",
    "from collections import Counter"
   ]
  },
  {
   "cell_type": "code",
   "execution_count": 2,
   "metadata": {},
   "outputs": [
    {
     "data": {
      "text/html": [
       "<div>\n",
       "<style scoped>\n",
       "    .dataframe tbody tr th:only-of-type {\n",
       "        vertical-align: middle;\n",
       "    }\n",
       "\n",
       "    .dataframe tbody tr th {\n",
       "        vertical-align: top;\n",
       "    }\n",
       "\n",
       "    .dataframe thead th {\n",
       "        text-align: right;\n",
       "    }\n",
       "</style>\n",
       "<table border=\"1\" class=\"dataframe\">\n",
       "  <thead>\n",
       "    <tr style=\"text-align: right;\">\n",
       "      <th></th>\n",
       "      <th>GSM464771</th>\n",
       "      <th>GSM464772</th>\n",
       "      <th>GSM464773</th>\n",
       "      <th>GSM464774</th>\n",
       "      <th>GSM464775</th>\n",
       "      <th>GSM464776</th>\n",
       "      <th>GSM464777</th>\n",
       "      <th>GSM464778</th>\n",
       "      <th>GSM464779</th>\n",
       "      <th>GSM464780</th>\n",
       "      <th>...</th>\n",
       "      <th>GSM465020</th>\n",
       "      <th>GSM465024</th>\n",
       "      <th>GSM465026</th>\n",
       "      <th>GSM465030</th>\n",
       "      <th>GSM465060</th>\n",
       "      <th>GSM465061</th>\n",
       "      <th>GSM465062</th>\n",
       "      <th>GSM465063</th>\n",
       "      <th>GSM465064</th>\n",
       "      <th>GSM465065</th>\n",
       "    </tr>\n",
       "    <tr>\n",
       "      <th>Genes</th>\n",
       "      <th></th>\n",
       "      <th></th>\n",
       "      <th></th>\n",
       "      <th></th>\n",
       "      <th></th>\n",
       "      <th></th>\n",
       "      <th></th>\n",
       "      <th></th>\n",
       "      <th></th>\n",
       "      <th></th>\n",
       "      <th></th>\n",
       "      <th></th>\n",
       "      <th></th>\n",
       "      <th></th>\n",
       "      <th></th>\n",
       "      <th></th>\n",
       "      <th></th>\n",
       "      <th></th>\n",
       "      <th></th>\n",
       "      <th></th>\n",
       "      <th></th>\n",
       "    </tr>\n",
       "  </thead>\n",
       "  <tbody>\n",
       "    <tr>\n",
       "      <th>LOC100133331</th>\n",
       "      <td>0.565665</td>\n",
       "      <td>-0.276251</td>\n",
       "      <td>0.546472</td>\n",
       "      <td>1.390992</td>\n",
       "      <td>-1.250427</td>\n",
       "      <td>-0.723163</td>\n",
       "      <td>-1.363963</td>\n",
       "      <td>-0.621765</td>\n",
       "      <td>-0.090072</td>\n",
       "      <td>-0.598943</td>\n",
       "      <td>...</td>\n",
       "      <td>-0.257800</td>\n",
       "      <td>0.402758</td>\n",
       "      <td>-0.649402</td>\n",
       "      <td>-0.430032</td>\n",
       "      <td>0.267208</td>\n",
       "      <td>2.583242</td>\n",
       "      <td>-0.050794</td>\n",
       "      <td>-0.681560</td>\n",
       "      <td>1.849207</td>\n",
       "      <td>0.319070</td>\n",
       "    </tr>\n",
       "    <tr>\n",
       "      <th>AK091100</th>\n",
       "      <td>0.836235</td>\n",
       "      <td>0.945424</td>\n",
       "      <td>1.065551</td>\n",
       "      <td>-1.012361</td>\n",
       "      <td>-1.288259</td>\n",
       "      <td>-0.319922</td>\n",
       "      <td>-0.336841</td>\n",
       "      <td>-0.948200</td>\n",
       "      <td>-0.632316</td>\n",
       "      <td>0.028876</td>\n",
       "      <td>...</td>\n",
       "      <td>-0.980434</td>\n",
       "      <td>0.360955</td>\n",
       "      <td>0.093377</td>\n",
       "      <td>-1.229339</td>\n",
       "      <td>-0.429456</td>\n",
       "      <td>1.591340</td>\n",
       "      <td>-0.495726</td>\n",
       "      <td>-1.219191</td>\n",
       "      <td>0.706632</td>\n",
       "      <td>0.152214</td>\n",
       "    </tr>\n",
       "  </tbody>\n",
       "</table>\n",
       "<p>2 rows × 344 columns</p>\n",
       "</div>"
      ],
      "text/plain": [
       "              GSM464771  GSM464772  GSM464773  GSM464774  GSM464775  \\\n",
       "Genes                                                                 \n",
       "LOC100133331   0.565665  -0.276251   0.546472   1.390992  -1.250427   \n",
       "AK091100       0.836235   0.945424   1.065551  -1.012361  -1.288259   \n",
       "\n",
       "              GSM464776  GSM464777  GSM464778  GSM464779  GSM464780  \\\n",
       "Genes                                                                 \n",
       "LOC100133331  -0.723163  -1.363963  -0.621765  -0.090072  -0.598943   \n",
       "AK091100      -0.319922  -0.336841  -0.948200  -0.632316   0.028876   \n",
       "\n",
       "                ...      GSM465020  GSM465024  GSM465026  GSM465030  \\\n",
       "Genes           ...                                                   \n",
       "LOC100133331    ...      -0.257800   0.402758  -0.649402  -0.430032   \n",
       "AK091100        ...      -0.980434   0.360955   0.093377  -1.229339   \n",
       "\n",
       "              GSM465060  GSM465061  GSM465062  GSM465063  GSM465064  GSM465065  \n",
       "Genes                                                                           \n",
       "LOC100133331   0.267208   2.583242  -0.050794  -0.681560   1.849207   0.319070  \n",
       "AK091100      -0.429456   1.591340  -0.495726  -1.219191   0.706632   0.152214  \n",
       "\n",
       "[2 rows x 344 columns]"
      ]
     },
     "execution_count": 2,
     "metadata": {},
     "output_type": "execute_result"
    }
   ],
   "source": [
    "methylation = pd.read_csv('../../data/Figueroa/methyl-successiveNormalized.tsv', sep='\\t', header=0, index_col=0)\n",
    "methylation.head(n=2)"
   ]
  },
  {
   "cell_type": "code",
   "execution_count": 8,
   "metadata": {},
   "outputs": [
    {
     "name": "stdout",
     "output_type": "stream",
     "text": [
      "Finding 30 nearest neighbors using minkowski metric and 'auto' algorithm\n",
      "Neighbors computed in 102.98744797706604 seconds\n",
      "Jaccard graph constructed in 3.765331983566284 seconds\n",
      "Wrote graph to binary file in 1.6877951622009277 seconds\n",
      "Running Louvain modularity optimization\n",
      "After 1 runs, maximum modularity is Q = 0.826156\n",
      "After 5 runs, maximum modularity is Q = 0.827243\n",
      "Louvain completed 25 runs in 17.176079988479614 seconds\n",
      "PhenoGraph complete in 125.85422682762146 seconds\n"
     ]
    }
   ],
   "source": [
    "np.random.seed(1)\n",
    "communities, graph, Q = phenograph.cluster(methylation)"
   ]
  },
  {
   "cell_type": "code",
   "execution_count": 9,
   "metadata": {},
   "outputs": [
    {
     "data": {
      "text/plain": [
       "Counter({4: 1660,\n",
       "         3: 2061,\n",
       "         0: 3467,\n",
       "         1: 2334,\n",
       "         12: 754,\n",
       "         13: 695,\n",
       "         15: 500,\n",
       "         8: 970,\n",
       "         6: 1331,\n",
       "         11: 855,\n",
       "         9: 941,\n",
       "         7: 1273,\n",
       "         2: 2327,\n",
       "         5: 1363,\n",
       "         17: 337,\n",
       "         10: 888,\n",
       "         14: 506,\n",
       "         16: 377,\n",
       "         18: 65,\n",
       "         19: 55})"
      ]
     },
     "execution_count": 9,
     "metadata": {},
     "output_type": "execute_result"
    }
   ],
   "source": [
    "Counter(communities)"
   ]
  },
  {
   "cell_type": "code",
   "execution_count": 11,
   "metadata": {},
   "outputs": [
    {
     "name": "stderr",
     "output_type": "stream",
     "text": [
      "/anaconda3/lib/python3.6/site-packages/networkx/drawing/layout.py:499: RuntimeWarning: invalid value encountered in sqrt\n",
      "  distance = np.sqrt((delta**2).sum(axis=0))\n"
     ]
    }
   ],
   "source": [
    "G = nx.from_scipy_sparse_matrix(graph)\n",
    "nx.draw(G, node_color=communities, edge_color='#63666A', width=0.1, node_size=0.5)"
   ]
  },
  {
   "cell_type": "markdown",
   "metadata": {},
   "source": [
    "20 communities of probes were discovered. Sensitivity analysis is needed on the stability of the clusters"
   ]
  },
  {
   "cell_type": "code",
   "execution_count": 10,
   "metadata": {},
   "outputs": [],
   "source": [
    "out = methylation\n",
    "out['communities'] = communities\n",
    "out.to_csv('../../data/Figueroa/methylc-cluster-k30.csv', index=True)"
   ]
  },
  {
   "cell_type": "code",
   "execution_count": 12,
   "metadata": {},
   "outputs": [],
   "source": [
    "import scipy.sparse as sparse\n",
    "import scipy.io\n",
    "import numpy as np\n",
    "\n",
    "def save_sparse_matrix(filename, x):\n",
    "    x_coo = x.tocoo()\n",
    "    row = x_coo.row\n",
    "    col = x_coo.col\n",
    "    data = x_coo.data\n",
    "    shape = x_coo.shape\n",
    "    np.savez(filename, row=row, col=col, data=data, shape=shape)\n",
    "\n",
    "def load_sparse_matrix(filename):\n",
    "    y = np.load(filename)\n",
    "    z = sparse.coo_matrix((y['data'], (y['row'], y['col'])), shape=y['shape'])\n",
    "    return z"
   ]
  },
  {
   "cell_type": "code",
   "execution_count": 14,
   "metadata": {},
   "outputs": [],
   "source": [
    "save_sparse_matrix(filename='../../data/Figueroa/methyl-graph.npz', x=graph)"
   ]
  }
 ],
 "metadata": {
  "kernelspec": {
   "display_name": "Python 3",
   "language": "python",
   "name": "python3"
  },
  "language_info": {
   "codemirror_mode": {
    "name": "ipython",
    "version": 3
   },
   "file_extension": ".py",
   "mimetype": "text/x-python",
   "name": "python",
   "nbconvert_exporter": "python",
   "pygments_lexer": "ipython3",
   "version": "3.6.5"
  }
 },
 "nbformat": 4,
 "nbformat_minor": 2
}
