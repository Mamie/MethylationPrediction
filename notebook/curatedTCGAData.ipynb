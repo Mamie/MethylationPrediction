{
 "cells": [
  {
   "cell_type": "markdown",
   "metadata": {},
   "source": [
    "# `curatedTCGAData` package\n",
    "\n",
    "## Mamie Wang \n",
    "## 03/13/2018\n",
    "\n",
    "This note aims to learn how to use `curatedTCGAData` on Bioconductor. \n",
    "\n",
    "Objectives:\n",
    "- installation\n",
    "- checking available cancer codes and assays\n",
    "- download files for `HNSC` and `SKCM`"
   ]
  },
  {
   "cell_type": "markdown",
   "metadata": {},
   "source": [
    "## Installation\n",
    "\n",
    "Bioconductor [link](https://www.bioconductor.org/packages/release/data/experiment/html/curatedTCGAData.html)\n",
    "\n",
    "```\n",
    "source(\"https://bioconductor.org/biocLite.R\")\n",
    "BiocInstaller::biocLite(\"curatedTCGAData\")\n",
    "```"
   ]
  },
  {
   "cell_type": "code",
   "execution_count": 3,
   "metadata": {},
   "outputs": [],
   "source": [
    "library(curatedTCGAData)\n",
    "library(MultiAssayExperiment)"
   ]
  },
  {
   "cell_type": "markdown",
   "metadata": {},
   "source": [
    "## Check available cancer codes and assays"
   ]
  },
  {
   "cell_type": "code",
   "execution_count": 4,
   "metadata": {},
   "outputs": [
    {
     "name": "stderr",
     "output_type": "stream",
     "text": [
      "Please see the list below for available cohorts and assays\n"
     ]
    },
    {
     "name": "stdout",
     "output_type": "stream",
     "text": [
      "Available Cancer codes:\n",
      " ACC BLCA BRCA CESC CHOL COAD DLBC ESCA GBM HNSC KICH\n",
      " KIRC KIRP LAML LGG LIHC LUAD LUSC MESO OV PAAD PCPG\n",
      " PRAD READ SARC SKCM STAD TGCT THCA THYM UCEC UCS UVM \n",
      "Available Data Types:\n",
      " CNACGH CNASeq CNASNP CNVSNP GISTICA GISTICT\n",
      " Methylation miRNAArray miRNASeqGene mRNAArray\n",
      " Mutation RNASeq2GeneNorm RNASeqGene RPPAArray"
     ]
    },
    {
     "data": {
      "text/plain": [
       "NULL"
      ]
     },
     "metadata": {},
     "output_type": "display_data"
    }
   ],
   "source": [
    "curatedTCGAData(diseaseCode = \"*\", assays = \"*\", dry.run = TRUE)"
   ]
  },
  {
   "cell_type": "markdown",
   "metadata": {},
   "source": [
    "## Check potential files to download"
   ]
  },
  {
   "cell_type": "code",
   "execution_count": 5,
   "metadata": {},
   "outputs": [
    {
     "data": {
      "text/html": [
       "<strong>HNSC_RNASeq2GeneNorm:</strong> 'HNSC_RNASeq2GeneNorm-20160128.rda'"
      ],
      "text/latex": [
       "\\textbf{HNSC\\textbackslash{}\\_RNASeq2GeneNorm:} 'HNSC\\_RNASeq2GeneNorm-20160128.rda'"
      ],
      "text/markdown": [
       "**HNSC_RNASeq2GeneNorm:** 'HNSC_RNASeq2GeneNorm-20160128.rda'"
      ],
      "text/plain": [
       "               HNSC_RNASeq2GeneNorm \n",
       "\"HNSC_RNASeq2GeneNorm-20160128.rda\" "
      ]
     },
     "metadata": {},
     "output_type": "display_data"
    }
   ],
   "source": [
    "curatedTCGAData(diseaseCode = \"HNSC\", assays = \"RNASeq2GeneNorm\", dry.run = TRUE)"
   ]
  },
  {
   "cell_type": "code",
   "execution_count": 6,
   "metadata": {},
   "outputs": [
    {
     "data": {
      "text/html": [
       "<strong>HNSC_Methylation:</strong> 'HNSC_Methylation-20160128.rda'"
      ],
      "text/latex": [
       "\\textbf{HNSC\\textbackslash{}\\_Methylation:} 'HNSC\\_Methylation-20160128.rda'"
      ],
      "text/markdown": [
       "**HNSC_Methylation:** 'HNSC_Methylation-20160128.rda'"
      ],
      "text/plain": [
       "               HNSC_Methylation \n",
       "\"HNSC_Methylation-20160128.rda\" "
      ]
     },
     "metadata": {},
     "output_type": "display_data"
    }
   ],
   "source": [
    "curatedTCGAData(diseaseCode = \"HNSC\", assays = \"Methylation\", dry.run = TRUE)"
   ]
  },
  {
   "cell_type": "code",
   "execution_count": 7,
   "metadata": {},
   "outputs": [
    {
     "data": {
      "text/html": [
       "<strong>SKCM_RNASeq2GeneNorm:</strong> 'SKCM_RNASeq2GeneNorm-20160128.rda'"
      ],
      "text/latex": [
       "\\textbf{SKCM\\textbackslash{}\\_RNASeq2GeneNorm:} 'SKCM\\_RNASeq2GeneNorm-20160128.rda'"
      ],
      "text/markdown": [
       "**SKCM_RNASeq2GeneNorm:** 'SKCM_RNASeq2GeneNorm-20160128.rda'"
      ],
      "text/plain": [
       "               SKCM_RNASeq2GeneNorm \n",
       "\"SKCM_RNASeq2GeneNorm-20160128.rda\" "
      ]
     },
     "metadata": {},
     "output_type": "display_data"
    }
   ],
   "source": [
    "curatedTCGAData(diseaseCode = \"SKCM\", assays = \"RNASeq2GeneNorm\", dry.run = TRUE)"
   ]
  },
  {
   "cell_type": "code",
   "execution_count": 8,
   "metadata": {},
   "outputs": [
    {
     "data": {
      "text/html": [
       "<strong>SKCM_Methylation:</strong> 'SKCM_Methylation-20160128.rda'"
      ],
      "text/latex": [
       "\\textbf{SKCM\\textbackslash{}\\_Methylation:} 'SKCM\\_Methylation-20160128.rda'"
      ],
      "text/markdown": [
       "**SKCM_Methylation:** 'SKCM_Methylation-20160128.rda'"
      ],
      "text/plain": [
       "               SKCM_Methylation \n",
       "\"SKCM_Methylation-20160128.rda\" "
      ]
     },
     "metadata": {},
     "output_type": "display_data"
    }
   ],
   "source": [
    "curatedTCGAData(diseaseCode = \"SKCM\", assays = \"Methylation\", dry.run = TRUE)"
   ]
  },
  {
   "cell_type": "markdown",
   "metadata": {},
   "source": [
    "## Download the files"
   ]
  },
  {
   "cell_type": "markdown",
   "metadata": {},
   "source": [
    "The curated HNSC and SKCM data was downloaded using the following function by `../R/` and are cached to `/home/users/szmamie//.ExperimentHub/$$`"
   ]
  },
  {
   "cell_type": "markdown",
   "metadata": {},
   "source": [
    "```\n",
    "curatedTCGAData(diseaseCode = c(\"HNSC\"), \n",
    "                assays = c(\"RNASeq2GeneNorm\", \"Methylation\"),\n",
    "                dry.run=F)\n",
    "```"
   ]
  },
  {
   "cell_type": "markdown",
   "metadata": {},
   "source": [
    "```\n",
    "curatedTCGAData(diseaseCode = c(\"SKCM\"), \n",
    "                assays = c(\"RNASeq2GeneNorm\", \"Methylation\"),\n",
    "                dry.run=F)\n",
    "```"
   ]
  }
 ],
 "metadata": {
  "kernelspec": {
   "display_name": "R",
   "language": "R",
   "name": "ir"
  },
  "language_info": {
   "codemirror_mode": "r",
   "file_extension": ".r",
   "mimetype": "text/x-r-source",
   "name": "R",
   "pygments_lexer": "r",
   "version": "3.4.0"
  }
 },
 "nbformat": 4,
 "nbformat_minor": 2
}
